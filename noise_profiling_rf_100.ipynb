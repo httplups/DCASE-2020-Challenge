{
  "nbformat": 4,
  "nbformat_minor": 0,
  "metadata": {
    "colab": {
      "name": "noise profiling - divisão no tempo.ipynb",
      "provenance": [],
      "collapsed_sections": [],
      "toc_visible": true,
      "machine_shape": "hm"
    },
    "kernelspec": {
      "name": "python3",
      "display_name": "Python 3"
    }
  },
  "cells": [
    {
      "cell_type": "code",
      "metadata": {
        "id": "ptGENpqklOQv",
        "colab_type": "code",
        "outputId": "905721d1-206b-49b6-8bb8-3f1870367067",
        "colab": {
          "base_uri": "https://localhost:8080/",
          "height": 318
        }
      },
      "source": [
        "import matplotlib.pyplot as plt\n",
        "import numpy as np # linear algebra\n",
        "import pandas as pd\n",
        "import librosa\n",
        "import librosa.display\n",
        "import os\n",
        "from os import path\n",
        "import io\n",
        "!pip3 install soundfile\n",
        "!pip3 install librosa\n",
        "import soundfile as sf\n",
        "import librosa.feature\n"
      ],
      "execution_count": 2,
      "outputs": [
        {
          "output_type": "stream",
          "text": [
            "Requirement already satisfied: soundfile in /usr/local/lib/python3.6/dist-packages (0.10.3.post1)\n",
            "Requirement already satisfied: cffi>=1.0 in /usr/local/lib/python3.6/dist-packages (from soundfile) (1.14.0)\n",
            "Requirement already satisfied: pycparser in /usr/local/lib/python3.6/dist-packages (from cffi>=1.0->soundfile) (2.20)\n",
            "Requirement already satisfied: librosa in /usr/local/lib/python3.6/dist-packages (0.6.3)\n",
            "Requirement already satisfied: scipy>=1.0.0 in /usr/local/lib/python3.6/dist-packages (from librosa) (1.4.1)\n",
            "Requirement already satisfied: six>=1.3 in /usr/local/lib/python3.6/dist-packages (from librosa) (1.12.0)\n",
            "Requirement already satisfied: joblib>=0.12 in /usr/local/lib/python3.6/dist-packages (from librosa) (0.14.1)\n",
            "Requirement already satisfied: decorator>=3.0.0 in /usr/local/lib/python3.6/dist-packages (from librosa) (4.4.2)\n",
            "Requirement already satisfied: audioread>=2.0.0 in /usr/local/lib/python3.6/dist-packages (from librosa) (2.1.8)\n",
            "Requirement already satisfied: resampy>=0.2.0 in /usr/local/lib/python3.6/dist-packages (from librosa) (0.2.2)\n",
            "Requirement already satisfied: numpy>=1.8.0 in /usr/local/lib/python3.6/dist-packages (from librosa) (1.18.3)\n",
            "Requirement already satisfied: scikit-learn!=0.19.0,>=0.14.0 in /usr/local/lib/python3.6/dist-packages (from librosa) (0.22.2.post1)\n",
            "Requirement already satisfied: numba>=0.38.0 in /usr/local/lib/python3.6/dist-packages (from librosa) (0.48.0)\n",
            "Requirement already satisfied: setuptools in /usr/local/lib/python3.6/dist-packages (from numba>=0.38.0->librosa) (46.1.3)\n",
            "Requirement already satisfied: llvmlite<0.32.0,>=0.31.0dev0 in /usr/local/lib/python3.6/dist-packages (from numba>=0.38.0->librosa) (0.31.0)\n"
          ],
          "name": "stdout"
        }
      ]
    },
    {
      "cell_type": "code",
      "metadata": {
        "id": "c-kU_a0NruyM",
        "colab_type": "code",
        "outputId": "7608448e-3f0b-4990-c9b8-c7b4facd671d",
        "colab": {
          "base_uri": "https://localhost:8080/",
          "height": 36
        }
      },
      "source": [
        "!pip install ipython-autotime\n",
        "\n",
        "%load_ext autotime"
      ],
      "execution_count": 3,
      "outputs": [
        {
          "output_type": "stream",
          "text": [
            "Requirement already satisfied: ipython-autotime in /usr/local/lib/python3.6/dist-packages (0.1)\n"
          ],
          "name": "stdout"
        }
      ]
    },
    {
      "cell_type": "markdown",
      "metadata": {
        "id": "r7aioLqSfKgT",
        "colab_type": "text"
      },
      "source": [
        "# Opening datasets"
      ]
    },
    {
      "cell_type": "code",
      "metadata": {
        "id": "_AtrE-Kwmk5b",
        "colab_type": "code",
        "outputId": "f3b70fae-5188-4b47-8f10-010e5df122b2",
        "colab": {
          "base_uri": "https://localhost:8080/",
          "height": 225
        }
      },
      "source": [
        "DIR = '/content/drive/My Drive/DCASE 2020 Challenge/TAU Urban Acoustic Scenes 2020 3Class' \n",
        "DIR_AUDIO = DIR + '/soundfiles/TAU-urban-acoustic-scenes-2020-3class-development/'\n",
        "df_meta = pd.read_csv(f'{DIR}/meta.csv')\n",
        "df_meta = pd.read_csv(io.StringIO(df_meta.to_csv(index=False)))\n",
        "df_meta.head()"
      ],
      "execution_count": 0,
      "outputs": [
        {
          "output_type": "execute_result",
          "data": {
            "text/html": [
              "<div>\n",
              "<style scoped>\n",
              "    .dataframe tbody tr th:only-of-type {\n",
              "        vertical-align: middle;\n",
              "    }\n",
              "\n",
              "    .dataframe tbody tr th {\n",
              "        vertical-align: top;\n",
              "    }\n",
              "\n",
              "    .dataframe thead th {\n",
              "        text-align: right;\n",
              "    }\n",
              "</style>\n",
              "<table border=\"1\" class=\"dataframe\">\n",
              "  <thead>\n",
              "    <tr style=\"text-align: right;\">\n",
              "      <th></th>\n",
              "      <th>filename</th>\n",
              "      <th>scene_label</th>\n",
              "      <th>identifier</th>\n",
              "    </tr>\n",
              "  </thead>\n",
              "  <tbody>\n",
              "    <tr>\n",
              "      <th>0</th>\n",
              "      <td>audio/airport-barcelona-0-0-a.wav</td>\n",
              "      <td>indoor</td>\n",
              "      <td>barcelona-0</td>\n",
              "    </tr>\n",
              "    <tr>\n",
              "      <th>1</th>\n",
              "      <td>audio/airport-barcelona-0-10-a.wav</td>\n",
              "      <td>indoor</td>\n",
              "      <td>barcelona-0</td>\n",
              "    </tr>\n",
              "    <tr>\n",
              "      <th>2</th>\n",
              "      <td>audio/airport-barcelona-0-11-a.wav</td>\n",
              "      <td>indoor</td>\n",
              "      <td>barcelona-0</td>\n",
              "    </tr>\n",
              "    <tr>\n",
              "      <th>3</th>\n",
              "      <td>audio/airport-barcelona-0-12-a.wav</td>\n",
              "      <td>indoor</td>\n",
              "      <td>barcelona-0</td>\n",
              "    </tr>\n",
              "    <tr>\n",
              "      <th>4</th>\n",
              "      <td>audio/airport-barcelona-0-13-a.wav</td>\n",
              "      <td>indoor</td>\n",
              "      <td>barcelona-0</td>\n",
              "    </tr>\n",
              "  </tbody>\n",
              "</table>\n",
              "</div>"
            ],
            "text/plain": [
              "                             filename scene_label   identifier\n",
              "0   audio/airport-barcelona-0-0-a.wav      indoor  barcelona-0\n",
              "1  audio/airport-barcelona-0-10-a.wav      indoor  barcelona-0\n",
              "2  audio/airport-barcelona-0-11-a.wav      indoor  barcelona-0\n",
              "3  audio/airport-barcelona-0-12-a.wav      indoor  barcelona-0\n",
              "4  audio/airport-barcelona-0-13-a.wav      indoor  barcelona-0"
            ]
          },
          "metadata": {
            "tags": []
          },
          "execution_count": 5
        },
        {
          "output_type": "stream",
          "text": [
            "time: 109 ms\n"
          ],
          "name": "stdout"
        }
      ]
    },
    {
      "cell_type": "markdown",
      "metadata": {
        "id": "H4GBDBmTIF4P",
        "colab_type": "text"
      },
      "source": [
        "# Getting part of the dataset\n",
        "Não coloquei 10% dele, pois poderiam vir mais datasets de um label específico. E nem coloquei 10% de cada label, pois a quantidades de datasets dentro de cada label é diferente. Então defini n datasets de cada label."
      ]
    },
    {
      "cell_type": "code",
      "metadata": {
        "id": "d2rRCB6kp2DB",
        "colab_type": "code",
        "outputId": "9f78c48c-e4f6-4d47-cd43-31e3687dc3c2",
        "colab": {
          "base_uri": "https://localhost:8080/",
          "height": 225
        }
      },
      "source": [
        "df = df_meta.groupby('scene_label', as_index=False).apply(lambda x: x.sample(frac=1, random_state=15))\n",
        "df.index = [i[1] for i in df.index]\n",
        "df.head()"
      ],
      "execution_count": 0,
      "outputs": [
        {
          "output_type": "execute_result",
          "data": {
            "text/html": [
              "<div>\n",
              "<style scoped>\n",
              "    .dataframe tbody tr th:only-of-type {\n",
              "        vertical-align: middle;\n",
              "    }\n",
              "\n",
              "    .dataframe tbody tr th {\n",
              "        vertical-align: top;\n",
              "    }\n",
              "\n",
              "    .dataframe thead th {\n",
              "        text-align: right;\n",
              "    }\n",
              "</style>\n",
              "<table border=\"1\" class=\"dataframe\">\n",
              "  <thead>\n",
              "    <tr style=\"text-align: right;\">\n",
              "      <th></th>\n",
              "      <th>filename</th>\n",
              "      <th>scene_label</th>\n",
              "      <th>identifier</th>\n",
              "    </tr>\n",
              "  </thead>\n",
              "  <tbody>\n",
              "    <tr>\n",
              "      <th>3028</th>\n",
              "      <td>audio/metro_station-helsinki-231-6952-a.wav</td>\n",
              "      <td>indoor</td>\n",
              "      <td>helsinki-231</td>\n",
              "    </tr>\n",
              "    <tr>\n",
              "      <th>9493</th>\n",
              "      <td>audio/shopping_mall-milan-1183-45376-a.wav</td>\n",
              "      <td>indoor</td>\n",
              "      <td>milan-1183</td>\n",
              "    </tr>\n",
              "    <tr>\n",
              "      <th>4163</th>\n",
              "      <td>audio/metro_station-stockholm-85-2308-a.wav</td>\n",
              "      <td>indoor</td>\n",
              "      <td>stockholm-85</td>\n",
              "    </tr>\n",
              "    <tr>\n",
              "      <th>3224</th>\n",
              "      <td>audio/metro_station-lisbon-1020-42471-a.wav</td>\n",
              "      <td>indoor</td>\n",
              "      <td>lisbon-1020</td>\n",
              "    </tr>\n",
              "    <tr>\n",
              "      <th>9294</th>\n",
              "      <td>audio/shopping_mall-lyon-1066-42583-a.wav</td>\n",
              "      <td>indoor</td>\n",
              "      <td>lyon-1066</td>\n",
              "    </tr>\n",
              "  </tbody>\n",
              "</table>\n",
              "</div>"
            ],
            "text/plain": [
              "                                         filename scene_label    identifier\n",
              "3028  audio/metro_station-helsinki-231-6952-a.wav      indoor  helsinki-231\n",
              "9493   audio/shopping_mall-milan-1183-45376-a.wav      indoor    milan-1183\n",
              "4163  audio/metro_station-stockholm-85-2308-a.wav      indoor  stockholm-85\n",
              "3224  audio/metro_station-lisbon-1020-42471-a.wav      indoor   lisbon-1020\n",
              "9294    audio/shopping_mall-lyon-1066-42583-a.wav      indoor     lyon-1066"
            ]
          },
          "metadata": {
            "tags": []
          },
          "execution_count": 6
        },
        {
          "output_type": "stream",
          "text": [
            "time: 39.6 ms\n"
          ],
          "name": "stdout"
        }
      ]
    },
    {
      "cell_type": "code",
      "metadata": {
        "id": "CX0XXp7z9D8o",
        "colab_type": "code",
        "outputId": "b804ce0a-b0e2-4e21-82a4-01d3cdb7cf35",
        "colab": {
          "base_uri": "https://localhost:8080/",
          "height": 36
        }
      },
      "source": [
        "# so neste caso q n vamos usar transportation\n",
        "#df = df.loc[df['scene_label'] != 'transportation']"
      ],
      "execution_count": 0,
      "outputs": [
        {
          "output_type": "stream",
          "text": [
            "time: 845 µs\n"
          ],
          "name": "stdout"
        }
      ]
    },
    {
      "cell_type": "code",
      "metadata": {
        "id": "sCJ2fzdrMK4z",
        "colab_type": "code",
        "outputId": "310c2b9e-cbf2-44d3-a86c-c63fc130d3c9",
        "colab": {
          "base_uri": "https://localhost:8080/",
          "height": 92
        }
      },
      "source": [
        "print(df.loc[df['scene_label'] == 'outdoor'].shape)\n",
        "print(df.loc[df['scene_label'] == 'indoor'].shape)\n",
        "print(df.loc[df['scene_label'] == 'transportation'].shape)"
      ],
      "execution_count": 0,
      "outputs": [
        {
          "output_type": "stream",
          "text": [
            "(5760, 3)\n",
            "(4320, 3)\n",
            "(4320, 3)\n",
            "time: 10.4 ms\n"
          ],
          "name": "stdout"
        }
      ]
    },
    {
      "cell_type": "markdown",
      "metadata": {
        "id": "EBiTL-q4rx4m",
        "colab_type": "text"
      },
      "source": [
        "Reading the datasets and storing it to 'signals'"
      ]
    },
    {
      "cell_type": "code",
      "metadata": {
        "id": "toPMMVMwr8T1",
        "colab_type": "code",
        "outputId": "8c954093-3bc9-4971-8fe5-f65339ff6eb7",
        "colab": {
          "base_uri": "https://localhost:8080/",
          "height": 36
        }
      },
      "source": [
        "info_sound = df[['filename','scene_label']].to_numpy()"
      ],
      "execution_count": 0,
      "outputs": [
        {
          "output_type": "stream",
          "text": [
            "time: 3.87 ms\n"
          ],
          "name": "stdout"
        }
      ]
    },
    {
      "cell_type": "code",
      "metadata": {
        "id": "l3mJ16fN68ns",
        "colab_type": "code",
        "colab": {
          "base_uri": "https://localhost:8080/",
          "height": 36
        },
        "outputId": "1fbe01f3-3df0-457c-8271-f3017ed546f6"
      },
      "source": [
        "LABELS = ['indoor', 'outdoor', 'transportation']"
      ],
      "execution_count": 4,
      "outputs": [
        {
          "output_type": "stream",
          "text": [
            "time: 929 µs\n"
          ],
          "name": "stdout"
        }
      ]
    },
    {
      "cell_type": "code",
      "metadata": {
        "id": "A587AkAuzyl8",
        "colab_type": "code",
        "outputId": "f9cfd843-7a02-4a57-8ee3-9d733833f80c",
        "colab": {
          "base_uri": "https://localhost:8080/",
          "height": 36
        }
      },
      "source": [
        "FILEPATH = '/content/drive/My Drive/DCASE 2020 Challenge/TAU Urban Acoustic Scenes 2020 3Class/features.csv'"
      ],
      "execution_count": 5,
      "outputs": [
        {
          "output_type": "stream",
          "text": [
            "time: 931 µs\n"
          ],
          "name": "stdout"
        }
      ]
    },
    {
      "cell_type": "markdown",
      "metadata": {
        "id": "zCC0EbABtCfB",
        "colab_type": "text"
      },
      "source": [
        "Labels:\n",
        "\n",
        "\n",
        "0.   Indoor\n",
        "1.   Outdoor\n",
        "2.   Transportation\n",
        "\n"
      ]
    },
    {
      "cell_type": "code",
      "metadata": {
        "id": "bvib9vlm3hVm",
        "colab_type": "code",
        "outputId": "1cc9865c-b27e-4243-8436-890145d891f0",
        "colab": {
          "base_uri": "https://localhost:8080/",
          "height": 36
        }
      },
      "source": [
        "def clear_csv(FILEPATH):\n",
        "    if os.path.exists(FILEPATH):\n",
        "        # clear the file\n",
        "        f = open(FILEPATH, \"w\")\n",
        "        f.truncate()\n",
        "        f.close()"
      ],
      "execution_count": 0,
      "outputs": [
        {
          "output_type": "stream",
          "text": [
            "time: 2.24 ms\n"
          ],
          "name": "stdout"
        }
      ]
    },
    {
      "cell_type": "markdown",
      "metadata": {
        "id": "3eQS2FIKz-3Y",
        "colab_type": "text"
      },
      "source": [
        "# Getting Features\n",
        "\n",
        "1.   Centroid Mean\n",
        "2.   Centroid STD\n",
        "3.   Flatness Mean\n",
        "4.   Flatness STD\n",
        "5.   RMS\n",
        "\n"
      ]
    },
    {
      "cell_type": "code",
      "metadata": {
        "id": "Pm5iFAKX0Chn",
        "colab_type": "code",
        "outputId": "2c674cb1-f155-49f2-d77b-67f90d76bd7f",
        "colab": {
          "base_uri": "https://localhost:8080/",
          "height": 36
        }
      },
      "source": [
        "PARTS = 20\n",
        "def get_features(signal, label, music_id)->pd.DataFrame:\n",
        "    # LUANA - FEATURES\n",
        "    def get_centroid(y, sr):\n",
        "        return librosa.feature.spectral_centroid(y=y, sr=sr)\n",
        "    def get_flatness(y):\n",
        "        return librosa.feature.spectral_flatness(y=y)\n",
        "    def get_rms(y):\n",
        "        return librosa.feature.rms(y=y)\n",
        "    def get_mfccs(y, sr):\n",
        "        return librosa.feature.mfcc(y=y, sr=sr)\n",
        "\n",
        "    feats = (np.zeros((1,47))[0])\n",
        "    \n",
        "    music_features = []\n",
        "    signal = signal[:,0]\n",
        "    for second in np.array_split(signal, PARTS):\n",
        "        arr_mfcc = []\n",
        "        #print(second.shape)\n",
        "        c = get_centroid(second, SAMPLERATE)\n",
        "        f = get_flatness(second)\n",
        "        r = get_rms(second)\n",
        "        mfccs = get_mfccs(second, SAMPLERATE)\n",
        "        #print(np.array(mfccs).shape)\n",
        "        mfccs = [[np.mean(x), np.std(x)] for x in mfccs]\n",
        "        mfccs = np.array(mfccs).reshape(1,-1)[0]\n",
        "        #print(mfccs.shape)\n",
        "        mfccs = np.array_split(mfccs, mfccs.shape[0])\n",
        "        #print(np.array(mfccs).shape)\n",
        "        [arr_mfcc.append(x[0]) for x in mfccs]\n",
        "        music_features = np.hstack([arr_mfcc, np.array([np.mean(c),np.std(c),np.mean(f), np.std(f),r[0][0], label, music_id])]) \n",
        "        #print(np.array(music_features).shape)\n",
        "        feats = np.vstack([feats, music_features])  \n",
        "            \n",
        "    return pd.DataFrame(data=feats).drop(0).reset_index(drop=True)"
      ],
      "execution_count": 0,
      "outputs": [
        {
          "output_type": "stream",
          "text": [
            "time: 21.1 ms\n"
          ],
          "name": "stdout"
        }
      ]
    },
    {
      "cell_type": "code",
      "metadata": {
        "id": "aS-Ks9WpNZu5",
        "colab_type": "code",
        "outputId": "432d11a6-be66-4f7d-f0ca-631a6d50575e",
        "colab": {
          "base_uri": "https://localhost:8080/",
          "height": 56
        }
      },
      "source": [
        "'''SAMPLERATE = 48000\n",
        "clear_csv(FILEPATH)\n",
        "music_id = 0\n",
        "for filename, label in info_sound:\n",
        "    music_id += 1\n",
        "    if(path.isfile(os.path.join(DIR_AUDIO, filename))):\n",
        "        signal, sr = sf.read(os.path.join(DIR_AUDIO, filename))\n",
        "        feats = get_features(signal, LABELS.index(label), music_id)\n",
        "        if (music_id == 1): \n",
        "            feats.to_csv(FILEPATH, mode='a', header=True, index=False)\n",
        "        else:\n",
        "            feats.to_csv(FILEPATH, mode='a', header=False, index=False)\n",
        "'''"
      ],
      "execution_count": 0,
      "outputs": [
        {
          "output_type": "execute_result",
          "data": {
            "text/plain": [
              "\"SAMPLERATE = 48000\\nclear_csv(FILEPATH)\\nmusic_id = 0\\nfor filename, label in info_sound:\\n    music_id += 1\\n    if(path.isfile(os.path.join(DIR_AUDIO, filename))):\\n        signal, sr = sf.read(os.path.join(DIR_AUDIO, filename))\\n        feats = get_features(signal, LABELS.index(label), music_id)\\n        if (music_id == 1): \\n            feats.to_csv(FILEPATH, mode='a', header=True, index=False)\\n        else:\\n            feats.to_csv(FILEPATH, mode='a', header=False, index=False)\\n\""
            ]
          },
          "metadata": {
            "tags": []
          },
          "execution_count": 13
        },
        {
          "output_type": "stream",
          "text": [
            "time: 3.96 ms\n"
          ],
          "name": "stdout"
        }
      ]
    },
    {
      "cell_type": "code",
      "metadata": {
        "id": "MMDTe_UtA_Qz",
        "colab_type": "code",
        "outputId": "b50506a7-fd06-4b57-be9e-7f932211a8bd",
        "colab": {
          "base_uri": "https://localhost:8080/",
          "height": 36
        }
      },
      "source": [
        "df = pd.read_csv(FILEPATH)"
      ],
      "execution_count": 6,
      "outputs": [
        {
          "output_type": "stream",
          "text": [
            "time: 2.93 s\n"
          ],
          "name": "stdout"
        }
      ]
    },
    {
      "cell_type": "code",
      "metadata": {
        "id": "eOwT9rLwcjbl",
        "colab_type": "code",
        "outputId": "0877ab27-62d5-463f-c9fa-910afea32e07",
        "colab": {
          "base_uri": "https://localhost:8080/",
          "height": 245
        }
      },
      "source": [
        "df.head()"
      ],
      "execution_count": 7,
      "outputs": [
        {
          "output_type": "execute_result",
          "data": {
            "text/html": [
              "<div>\n",
              "<style scoped>\n",
              "    .dataframe tbody tr th:only-of-type {\n",
              "        vertical-align: middle;\n",
              "    }\n",
              "\n",
              "    .dataframe tbody tr th {\n",
              "        vertical-align: top;\n",
              "    }\n",
              "\n",
              "    .dataframe thead th {\n",
              "        text-align: right;\n",
              "    }\n",
              "</style>\n",
              "<table border=\"1\" class=\"dataframe\">\n",
              "  <thead>\n",
              "    <tr style=\"text-align: right;\">\n",
              "      <th></th>\n",
              "      <th>0</th>\n",
              "      <th>1</th>\n",
              "      <th>2</th>\n",
              "      <th>3</th>\n",
              "      <th>4</th>\n",
              "      <th>5</th>\n",
              "      <th>6</th>\n",
              "      <th>7</th>\n",
              "      <th>8</th>\n",
              "      <th>9</th>\n",
              "      <th>10</th>\n",
              "      <th>11</th>\n",
              "      <th>12</th>\n",
              "      <th>13</th>\n",
              "      <th>14</th>\n",
              "      <th>15</th>\n",
              "      <th>16</th>\n",
              "      <th>17</th>\n",
              "      <th>18</th>\n",
              "      <th>19</th>\n",
              "      <th>20</th>\n",
              "      <th>21</th>\n",
              "      <th>22</th>\n",
              "      <th>23</th>\n",
              "      <th>24</th>\n",
              "      <th>25</th>\n",
              "      <th>26</th>\n",
              "      <th>27</th>\n",
              "      <th>28</th>\n",
              "      <th>29</th>\n",
              "      <th>30</th>\n",
              "      <th>31</th>\n",
              "      <th>32</th>\n",
              "      <th>33</th>\n",
              "      <th>34</th>\n",
              "      <th>35</th>\n",
              "      <th>36</th>\n",
              "      <th>37</th>\n",
              "      <th>38</th>\n",
              "      <th>39</th>\n",
              "      <th>40</th>\n",
              "      <th>41</th>\n",
              "      <th>42</th>\n",
              "      <th>43</th>\n",
              "      <th>44</th>\n",
              "      <th>45</th>\n",
              "      <th>46</th>\n",
              "    </tr>\n",
              "  </thead>\n",
              "  <tbody>\n",
              "    <tr>\n",
              "      <th>0</th>\n",
              "      <td>-563.449644</td>\n",
              "      <td>22.023184</td>\n",
              "      <td>135.878246</td>\n",
              "      <td>18.579833</td>\n",
              "      <td>22.520302</td>\n",
              "      <td>7.300311</td>\n",
              "      <td>16.225448</td>\n",
              "      <td>9.895189</td>\n",
              "      <td>24.840216</td>\n",
              "      <td>7.931395</td>\n",
              "      <td>17.735182</td>\n",
              "      <td>4.958907</td>\n",
              "      <td>-1.629153</td>\n",
              "      <td>4.904015</td>\n",
              "      <td>15.181699</td>\n",
              "      <td>6.808718</td>\n",
              "      <td>10.174596</td>\n",
              "      <td>6.249919</td>\n",
              "      <td>-3.917101</td>\n",
              "      <td>5.578933</td>\n",
              "      <td>10.456240</td>\n",
              "      <td>4.728516</td>\n",
              "      <td>4.644763</td>\n",
              "      <td>4.221269</td>\n",
              "      <td>-1.912056</td>\n",
              "      <td>4.788454</td>\n",
              "      <td>8.108179</td>\n",
              "      <td>3.608163</td>\n",
              "      <td>3.007513</td>\n",
              "      <td>5.006837</td>\n",
              "      <td>3.497817</td>\n",
              "      <td>3.842293</td>\n",
              "      <td>2.312008</td>\n",
              "      <td>3.892473</td>\n",
              "      <td>11.537672</td>\n",
              "      <td>4.325387</td>\n",
              "      <td>-0.749163</td>\n",
              "      <td>4.038345</td>\n",
              "      <td>7.118216</td>\n",
              "      <td>3.643633</td>\n",
              "      <td>2829.089223</td>\n",
              "      <td>702.443965</td>\n",
              "      <td>0.001764</td>\n",
              "      <td>0.001120</td>\n",
              "      <td>0.002695</td>\n",
              "      <td>0.0</td>\n",
              "      <td>1.0</td>\n",
              "    </tr>\n",
              "    <tr>\n",
              "      <th>1</th>\n",
              "      <td>-562.503335</td>\n",
              "      <td>20.702541</td>\n",
              "      <td>140.065796</td>\n",
              "      <td>8.147038</td>\n",
              "      <td>16.625603</td>\n",
              "      <td>7.073399</td>\n",
              "      <td>9.495887</td>\n",
              "      <td>6.955631</td>\n",
              "      <td>18.206718</td>\n",
              "      <td>10.410231</td>\n",
              "      <td>11.241618</td>\n",
              "      <td>4.197412</td>\n",
              "      <td>-3.428479</td>\n",
              "      <td>3.589219</td>\n",
              "      <td>21.499875</td>\n",
              "      <td>4.131287</td>\n",
              "      <td>11.862166</td>\n",
              "      <td>4.058275</td>\n",
              "      <td>0.937668</td>\n",
              "      <td>6.122206</td>\n",
              "      <td>13.807700</td>\n",
              "      <td>3.715036</td>\n",
              "      <td>7.323432</td>\n",
              "      <td>4.460393</td>\n",
              "      <td>1.548952</td>\n",
              "      <td>3.240698</td>\n",
              "      <td>8.906422</td>\n",
              "      <td>4.210608</td>\n",
              "      <td>1.818789</td>\n",
              "      <td>4.106325</td>\n",
              "      <td>5.265932</td>\n",
              "      <td>4.201313</td>\n",
              "      <td>4.596878</td>\n",
              "      <td>4.204631</td>\n",
              "      <td>10.503731</td>\n",
              "      <td>3.329537</td>\n",
              "      <td>-2.345872</td>\n",
              "      <td>4.212205</td>\n",
              "      <td>5.490622</td>\n",
              "      <td>3.335060</td>\n",
              "      <td>2754.634654</td>\n",
              "      <td>463.176690</td>\n",
              "      <td>0.001833</td>\n",
              "      <td>0.001352</td>\n",
              "      <td>0.001839</td>\n",
              "      <td>0.0</td>\n",
              "      <td>1.0</td>\n",
              "    </tr>\n",
              "    <tr>\n",
              "      <th>2</th>\n",
              "      <td>-549.838575</td>\n",
              "      <td>24.127966</td>\n",
              "      <td>148.962852</td>\n",
              "      <td>20.111527</td>\n",
              "      <td>8.936889</td>\n",
              "      <td>9.354859</td>\n",
              "      <td>10.757130</td>\n",
              "      <td>7.886489</td>\n",
              "      <td>14.726544</td>\n",
              "      <td>7.286063</td>\n",
              "      <td>14.760088</td>\n",
              "      <td>5.566642</td>\n",
              "      <td>-5.590292</td>\n",
              "      <td>2.983038</td>\n",
              "      <td>15.539512</td>\n",
              "      <td>6.084150</td>\n",
              "      <td>6.786404</td>\n",
              "      <td>5.972727</td>\n",
              "      <td>0.826314</td>\n",
              "      <td>5.146685</td>\n",
              "      <td>10.804998</td>\n",
              "      <td>4.779526</td>\n",
              "      <td>8.386244</td>\n",
              "      <td>5.108089</td>\n",
              "      <td>-0.220129</td>\n",
              "      <td>5.098121</td>\n",
              "      <td>8.760563</td>\n",
              "      <td>5.321104</td>\n",
              "      <td>1.947787</td>\n",
              "      <td>4.053670</td>\n",
              "      <td>7.038692</td>\n",
              "      <td>4.276606</td>\n",
              "      <td>6.076221</td>\n",
              "      <td>4.329260</td>\n",
              "      <td>10.546924</td>\n",
              "      <td>3.983716</td>\n",
              "      <td>0.036168</td>\n",
              "      <td>4.076422</td>\n",
              "      <td>4.225855</td>\n",
              "      <td>3.735124</td>\n",
              "      <td>2594.760352</td>\n",
              "      <td>764.967181</td>\n",
              "      <td>0.002698</td>\n",
              "      <td>0.003042</td>\n",
              "      <td>0.002236</td>\n",
              "      <td>0.0</td>\n",
              "      <td>1.0</td>\n",
              "    </tr>\n",
              "    <tr>\n",
              "      <th>3</th>\n",
              "      <td>-565.434882</td>\n",
              "      <td>14.754470</td>\n",
              "      <td>148.064518</td>\n",
              "      <td>9.718337</td>\n",
              "      <td>13.556576</td>\n",
              "      <td>9.799333</td>\n",
              "      <td>18.032755</td>\n",
              "      <td>5.658596</td>\n",
              "      <td>22.516785</td>\n",
              "      <td>5.587385</td>\n",
              "      <td>14.656247</td>\n",
              "      <td>4.589856</td>\n",
              "      <td>-6.977173</td>\n",
              "      <td>4.388427</td>\n",
              "      <td>14.558317</td>\n",
              "      <td>4.930122</td>\n",
              "      <td>2.734255</td>\n",
              "      <td>5.010734</td>\n",
              "      <td>-4.641390</td>\n",
              "      <td>4.563014</td>\n",
              "      <td>7.076269</td>\n",
              "      <td>3.819575</td>\n",
              "      <td>6.664245</td>\n",
              "      <td>3.580998</td>\n",
              "      <td>0.022985</td>\n",
              "      <td>4.845357</td>\n",
              "      <td>8.652071</td>\n",
              "      <td>5.106633</td>\n",
              "      <td>2.963710</td>\n",
              "      <td>4.311297</td>\n",
              "      <td>3.818885</td>\n",
              "      <td>4.703418</td>\n",
              "      <td>3.692539</td>\n",
              "      <td>4.448284</td>\n",
              "      <td>7.547152</td>\n",
              "      <td>4.171675</td>\n",
              "      <td>-0.509109</td>\n",
              "      <td>4.109532</td>\n",
              "      <td>5.475766</td>\n",
              "      <td>3.807331</td>\n",
              "      <td>2509.610762</td>\n",
              "      <td>450.748426</td>\n",
              "      <td>0.001929</td>\n",
              "      <td>0.001001</td>\n",
              "      <td>0.003392</td>\n",
              "      <td>0.0</td>\n",
              "      <td>1.0</td>\n",
              "    </tr>\n",
              "    <tr>\n",
              "      <th>4</th>\n",
              "      <td>-559.139540</td>\n",
              "      <td>18.129553</td>\n",
              "      <td>144.104684</td>\n",
              "      <td>13.184655</td>\n",
              "      <td>9.718551</td>\n",
              "      <td>11.348594</td>\n",
              "      <td>16.154283</td>\n",
              "      <td>9.285637</td>\n",
              "      <td>20.654607</td>\n",
              "      <td>8.414770</td>\n",
              "      <td>13.846495</td>\n",
              "      <td>4.992407</td>\n",
              "      <td>-7.451154</td>\n",
              "      <td>5.844608</td>\n",
              "      <td>17.774799</td>\n",
              "      <td>4.793385</td>\n",
              "      <td>7.210570</td>\n",
              "      <td>6.552409</td>\n",
              "      <td>0.534129</td>\n",
              "      <td>5.149643</td>\n",
              "      <td>10.262997</td>\n",
              "      <td>4.844157</td>\n",
              "      <td>7.969145</td>\n",
              "      <td>4.246584</td>\n",
              "      <td>2.045861</td>\n",
              "      <td>3.579869</td>\n",
              "      <td>9.713472</td>\n",
              "      <td>4.215063</td>\n",
              "      <td>0.434847</td>\n",
              "      <td>3.763315</td>\n",
              "      <td>5.087198</td>\n",
              "      <td>3.230810</td>\n",
              "      <td>4.845782</td>\n",
              "      <td>3.362537</td>\n",
              "      <td>9.218363</td>\n",
              "      <td>3.573434</td>\n",
              "      <td>-2.622925</td>\n",
              "      <td>4.726460</td>\n",
              "      <td>2.658035</td>\n",
              "      <td>3.554823</td>\n",
              "      <td>2564.704840</td>\n",
              "      <td>488.190754</td>\n",
              "      <td>0.001820</td>\n",
              "      <td>0.001080</td>\n",
              "      <td>0.002089</td>\n",
              "      <td>0.0</td>\n",
              "      <td>1.0</td>\n",
              "    </tr>\n",
              "  </tbody>\n",
              "</table>\n",
              "</div>"
            ],
            "text/plain": [
              "            0          1           2          3  ...        43        44   45   46\n",
              "0 -563.449644  22.023184  135.878246  18.579833  ...  0.001120  0.002695  0.0  1.0\n",
              "1 -562.503335  20.702541  140.065796   8.147038  ...  0.001352  0.001839  0.0  1.0\n",
              "2 -549.838575  24.127966  148.962852  20.111527  ...  0.003042  0.002236  0.0  1.0\n",
              "3 -565.434882  14.754470  148.064518   9.718337  ...  0.001001  0.003392  0.0  1.0\n",
              "4 -559.139540  18.129553  144.104684  13.184655  ...  0.001080  0.002089  0.0  1.0\n",
              "\n",
              "[5 rows x 47 columns]"
            ]
          },
          "metadata": {
            "tags": []
          },
          "execution_count": 7
        },
        {
          "output_type": "stream",
          "text": [
            "time: 92.3 ms\n"
          ],
          "name": "stdout"
        }
      ]
    },
    {
      "cell_type": "code",
      "metadata": {
        "id": "b7yrSNVe1tc4",
        "colab_type": "code",
        "outputId": "13ac0a6c-6a86-45f4-a7fe-da7b437861eb",
        "colab": {
          "base_uri": "https://localhost:8080/",
          "height": 93
        }
      },
      "source": [
        "from sklearn.model_selection import GroupShuffleSplit\n",
        "from sklearn.preprocessing import StandardScaler\n",
        "from sklearn.neighbors import KNeighborsClassifier\n",
        "from sklearn import metrics\n",
        "import pickle\n",
        "from collections import Counter\n",
        "from sklearn.decomposition import PCA\n",
        "import seaborn as sns"
      ],
      "execution_count": 9,
      "outputs": [
        {
          "output_type": "stream",
          "text": [
            "time: 39.3 ms\n"
          ],
          "name": "stdout"
        },
        {
          "output_type": "stream",
          "text": [
            "/usr/local/lib/python3.6/dist-packages/statsmodels/tools/_testing.py:19: FutureWarning: pandas.util.testing is deprecated. Use the functions in the public API at pandas.testing instead.\n",
            "  import pandas.util.testing as tm\n"
          ],
          "name": "stderr"
        }
      ]
    },
    {
      "cell_type": "markdown",
      "metadata": {
        "id": "3ya_9cIj-I0x",
        "colab_type": "text"
      },
      "source": [
        "Split no dataframe baseado em grupos do número da música"
      ]
    },
    {
      "cell_type": "code",
      "metadata": {
        "id": "D82SnW0XxcAQ",
        "colab_type": "code",
        "outputId": "52f03320-5cb8-4ad2-cb5d-6ed9b9eba87b",
        "colab": {
          "base_uri": "https://localhost:8080/",
          "height": 36
        }
      },
      "source": [
        "def split_by_music_id(df):\n",
        "    train_inds, test_inds = next(GroupShuffleSplit(test_size=.20, n_splits=2, random_state = 2).split(df, groups=df['46']))\n",
        "    return [train_inds, test_inds]"
      ],
      "execution_count": 10,
      "outputs": [
        {
          "output_type": "stream",
          "text": [
            "time: 1.72 ms\n"
          ],
          "name": "stdout"
        }
      ]
    },
    {
      "cell_type": "markdown",
      "metadata": {
        "id": "jO9K4pcEvFVk",
        "colab_type": "text"
      },
      "source": [
        "Split no dataframe selecionado, em teste e treino"
      ]
    },
    {
      "cell_type": "code",
      "metadata": {
        "id": "HhFtUoQv3BoH",
        "colab_type": "code",
        "outputId": "cf96c149-60fd-4d09-e9ab-30d1fc406044",
        "colab": {
          "base_uri": "https://localhost:8080/",
          "height": 36
        }
      },
      "source": [
        "def split_train_test(df,train_inds, test_inds):\n",
        "    X_train = (df.iloc[train_inds, 0:-2])\n",
        "    X_test = (df.iloc[test_inds,0:-2])\n",
        "    y_train = (df.iloc[train_inds,[-2,-1]]).values\n",
        "    y_test = (df.iloc[test_inds,[-2,-1]]).values\n",
        "    #print(X_train.shape, X_test.shape, y_train.shape, y_test.shape)\n",
        "    return [X_train, X_test, y_train, y_test]"
      ],
      "execution_count": 11,
      "outputs": [
        {
          "output_type": "stream",
          "text": [
            "time: 3.38 ms\n"
          ],
          "name": "stdout"
        }
      ]
    },
    {
      "cell_type": "code",
      "metadata": {
        "id": "a6DUiZXyLoTG",
        "colab_type": "code",
        "outputId": "6db44b7f-67b9-4ebe-bd74-410963ffe2f1",
        "colab": {
          "base_uri": "https://localhost:8080/",
          "height": 36
        }
      },
      "source": [
        "def standardize(X_train, X_test):\n",
        "    scaler = StandardScaler()\n",
        "    scaler.fit(X_train.values)\n",
        "    X_train = scaler.transform(X_train.values)\n",
        "    X_test = scaler.transform(X_test.values)\n",
        "    return [X_train, X_test]"
      ],
      "execution_count": 12,
      "outputs": [
        {
          "output_type": "stream",
          "text": [
            "time: 2.05 ms\n"
          ],
          "name": "stdout"
        }
      ]
    },
    {
      "cell_type": "markdown",
      "metadata": {
        "id": "0U0XQuSjPmCB",
        "colab_type": "text"
      },
      "source": [
        "# Random Forest Classifier"
      ]
    },
    {
      "cell_type": "code",
      "metadata": {
        "id": "hx4OgJ3K6s3l",
        "colab_type": "code",
        "colab": {
          "base_uri": "https://localhost:8080/",
          "height": 36
        },
        "outputId": "57cbe03a-f2a5-4939-a1b7-aa1854323aa9"
      },
      "source": [
        "#Import Random Forest Model\n",
        "from sklearn.ensemble import RandomForestClassifier"
      ],
      "execution_count": 14,
      "outputs": [
        {
          "output_type": "stream",
          "text": [
            "time: 95.7 ms\n"
          ],
          "name": "stdout"
        }
      ]
    },
    {
      "cell_type": "code",
      "metadata": {
        "id": "oWw4aOINED0h",
        "colab_type": "code",
        "outputId": "6e9a5717-0834-4b82-ae4d-1a02e343ca8d",
        "colab": {
          "base_uri": "https://localhost:8080/",
          "height": 36
        }
      },
      "source": [
        "from sklearn.svm import SVC\n",
        "from sklearn.metrics import confusion_matrix,classification_report\n",
        "from sklearn.model_selection import cross_val_score, GridSearchCV"
      ],
      "execution_count": 24,
      "outputs": [
        {
          "output_type": "stream",
          "text": [
            "time: 1.21 ms\n"
          ],
          "name": "stdout"
        }
      ]
    },
    {
      "cell_type": "code",
      "metadata": {
        "id": "pom1V2uY7IHA",
        "colab_type": "code",
        "colab": {
          "base_uri": "https://localhost:8080/",
          "height": 36
        },
        "outputId": "a60afd68-f1da-41b0-b5dd-8528d3294b59"
      },
      "source": [
        "def best_estimator(forest, X_train, y_train):\n",
        "    n_estimators = [100, 300, 500, 800, 1000, 1200]\n",
        "\n",
        "    hyperF = dict(n_estimators = n_estimators)\n",
        "\n",
        "    gridF = GridSearchCV(forest, hyperF, cv = 3, verbose = 1, \n",
        "                        n_jobs = -1)\n",
        "    return gridF.fit(x_train, y_train)\n",
        "def plot_feature_importances(feature_imp):\n",
        "    plt.figure(figsize=(15,10))\n",
        "    y = [round(num, 3) for num in feature_imp]\n",
        "    sns.barplot(x=np.arange(0,45), y=y)\n",
        "    # Add labels to your graph\n",
        "    plt.xlabel('Feature Importance Score')\n",
        "    plt.ylabel('Features')\n",
        "    plt.xticks(np.arange(0,45))\n",
        "    plt.title(\"Visualizing Important Features\")\n",
        "    plt.legend()\n",
        "    plt.show()\n",
        "\n",
        "def get_model_random_forest(X_train,y_train, y_test, X_test):\n",
        "    #Create a Gaussian Classifier\n",
        "    clf=RandomForestClassifier(random_state=42, n_estimators=100)\n",
        "\n",
        "    #Train the model using the training sets y_pred=clf.predict(X_test)\n",
        "    clf.fit(X_train,y_train)\n",
        "    # prediction on test set\n",
        "    y_pred = clf.predict(X_test)\n",
        "    print(\"Accuracy Sem Votação:\",metrics.accuracy_score(y_test, y_pred))\n",
        "    #print([{id_feat:feature_importance} for id_feat, feature_importance in enumerate(clf.feature_importances_)])\n",
        "    plot_feature_importances(clf.feature_importances_)\n",
        "    return clf, y_pred"
      ],
      "execution_count": 48,
      "outputs": [
        {
          "output_type": "stream",
          "text": [
            "time: 16.3 ms\n"
          ],
          "name": "stdout"
        }
      ]
    },
    {
      "cell_type": "markdown",
      "metadata": {
        "id": "jQAceUVb-qqG",
        "colab_type": "text"
      },
      "source": [
        "Contagem das predições para cada música"
      ]
    },
    {
      "cell_type": "code",
      "metadata": {
        "id": "cY0LI6g15kpW",
        "colab_type": "code",
        "outputId": "7fd090e7-de9b-4382-f607-bcaba14c28dd",
        "colab": {
          "base_uri": "https://localhost:8080/",
          "height": 36
        }
      },
      "source": [
        "def contagem_predicoes(y_test, y_pred):\n",
        "    counts = dict()\n",
        "    for id in np.unique(y_test[:,1]):\n",
        "        counts[id] = []\n",
        "    #print(counts)\n",
        "    for t, p in zip(y_test, y_pred):\n",
        "        counts[t[1]].append(p)\n",
        "    counter = [Counter(y) for x,y in counts.items()]\n",
        "    return counter\n",
        "\n",
        "def acc_votacao(counter, y_test):\n",
        "    #print(np.unique(y_test[1]))\n",
        "    #print(counter, y_test)\n",
        "    music_y_pred = [max(x, key=x.get) for x in counter]\n",
        "    #print(music_y_pred)\n",
        "    #music_y_test = [[x,y] for x,y in y_test]\n",
        "    #music_y_test = np.unique(music_y_test, axis=0)[:,0]\n",
        "    music_y_test = np.unique(y_test, axis=0)[:,0]\n",
        "    #print(music_y_test)\n",
        "    return metrics.accuracy_score(music_y_test,music_y_pred)"
      ],
      "execution_count": 18,
      "outputs": [
        {
          "output_type": "stream",
          "text": [
            "time: 10.9 ms\n"
          ],
          "name": "stdout"
        }
      ]
    },
    {
      "cell_type": "code",
      "metadata": {
        "id": "h1JGSISJOGJC",
        "colab_type": "code",
        "outputId": "0d136b4b-b9b2-4a62-c169-55a9ccbad5e3",
        "colab": {
          "base_uri": "https://localhost:8080/",
          "height": 36
        }
      },
      "source": [
        "def pca(X_test, y_test):\n",
        "    pca = PCA(3)\n",
        "    trans_pca = pca.fit_transform(X_test)\n",
        "    trans_pca = pd.DataFrame(trans_pca)\n",
        "    trans_pca['Labels'] = y_test[:,0]\n",
        "    trans_pca[\"Labels\"] = [\"$%s$\" % x for x in trans_pca[\"Labels\"]]\n",
        "    print(pca.explained_variance_)\n",
        "    trans_pca.columns = ['PC1', 'PC2','PC3','Labels']\n",
        "    plt.figure(figsize=(10,6))\n",
        "    sns.scatterplot(x=trans_pca['PC1'], y=trans_pca['PC2'], hue=trans_pca['Labels'])"
      ],
      "execution_count": 19,
      "outputs": [
        {
          "output_type": "stream",
          "text": [
            "time: 4.72 ms\n"
          ],
          "name": "stdout"
        }
      ]
    },
    {
      "cell_type": "code",
      "metadata": {
        "id": "q0EsTBVtqGxz",
        "colab_type": "code",
        "outputId": "20db40f7-3c91-4cb9-d580-3044c7cd5726",
        "colab": {
          "base_uri": "https://localhost:8080/",
          "height": 36
        }
      },
      "source": [
        "def classify(df):\n",
        "    train_inds, test_inds = split_by_music_id(df)\n",
        "    X_train, X_test, y_train, y_test = split_train_test(df,train_inds, test_inds)\n",
        "    X_train, X_test = standardize(X_train, X_test)\n",
        "    rf_model, y_pred = get_model_random_forest(X_train,y_train[:,0], y_test[:,0], X_test)\n",
        "    contagens = contagem_predicoes(y_test, y_pred)\n",
        "    final_accuracy = acc_votacao(contagens, y_test)\n",
        "    pca(X_test, y_test)\n",
        "    return final_accuracy"
      ],
      "execution_count": 36,
      "outputs": [
        {
          "output_type": "stream",
          "text": [
            "time: 3.6 ms\n"
          ],
          "name": "stdout"
        }
      ]
    },
    {
      "cell_type": "code",
      "metadata": {
        "id": "KVQPJn_Vs3w9",
        "colab_type": "code",
        "colab": {
          "base_uri": "https://localhost:8080/",
          "height": 1000
        },
        "outputId": "4b62208b-efd6-4629-ed5b-403879d2dee4"
      },
      "source": [
        "acc = classify(df)\n",
        "print(acc)"
      ],
      "execution_count": 49,
      "outputs": [
        {
          "output_type": "stream",
          "text": [
            "Accuracy Sem Votação: 0.8751217532467532\n"
          ],
          "name": "stdout"
        },
        {
          "output_type": "stream",
          "text": [
            "No handles with labels found to put in legend.\n"
          ],
          "name": "stderr"
        },
        {
          "output_type": "display_data",
          "data": {
            "image/png": "[encoded data removed]",
            "text/plain": [
              "<Figure size 1080x720 with 1 Axes>"
            ]
          },
          "metadata": {
            "tags": [],
            "needs_background": "light"
          }
        },
        {
          "output_type": "stream",
          "text": [
            "[8.61838576 4.69293837 2.9054269 ]\n",
            "0.9155844155844156\n"
          ],
          "name": "stdout"
        },
        {
          "output_type": "display_data",
          "data": {
            "image/png": "[encoded data removed]",
            "text/plain": [
              "<Figure size 720x432 with 1 Axes>"
            ]
          },
          "metadata": {
            "tags": [],
            "needs_background": "light"
          }
        },
        {
          "output_type": "stream",
          "text": [
            "time: 3min 12s\n"
          ],
          "name": "stdout"
        }
      ]
    },
    {
      "cell_type": "markdown",
      "metadata": {
        "id": "1OFRH-tEdkEQ",
        "colab_type": "text"
      },
      "source": [
        "Features: Descrição\n",
        "\n",
        "*   0-39: MFCSS (media, std) nessa ordem\n",
        "*   40: média centroide \n",
        "*   41: std centroide\n",
        "*   42: media flatness\n",
        "*   43: std flatness\n",
        "*   44: rms\n",
        "\n",
        "\n"
      ]
    }
  ]
}