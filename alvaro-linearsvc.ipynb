{
  "nbformat": 4,
  "nbformat_minor": 0,
  "metadata": {
    "kernelspec": {
      "language": "python",
      "display_name": "Python 3",
      "name": "python3"
    },
    "language_info": {
      "pygments_lexer": "ipython3",
      "nbconvert_exporter": "python",
      "version": "3.6.4",
      "file_extension": ".py",
      "codemirror_mode": {
        "name": "ipython",
        "version": 3
      },
      "name": "python",
      "mimetype": "text/x-python"
    },
    "colab": {
      "name": "sv.ipynb",
      "provenance": [],
      "collapsed_sections": []
    }
  },
  "cells": [
    {
      "cell_type": "code",
      "metadata": {
        "_uuid": "8f2839f25d086af736a60e9eeb907d3b93b6e0e5",
        "_cell_guid": "b1076dfc-b9ad-4769-8c92-a6c4dae69d19",
        "trusted": true,
        "id": "GvNVzFWTJkdZ",
        "colab_type": "code",
        "outputId": "74feef60-e8cf-481d-ad00-b3b74a1d3757",
        "colab": {
          "base_uri": "https://localhost:8080/",
          "height": 364
        }
      },
      "source": [
        "# This Python 3 environment comes with many helpful analytics libraries installed\n",
        "# It is defined by the kaggle/python Docker image: https://github.com/kaggle/docker-python\n",
        "# For example, here's several helpful packages to load\n",
        "\n",
        "import numpy as np # linear algebra\n",
        "import pandas as pd # data processing, CSV file I/O (e.g. pd.read_csv)\n",
        "import seaborn as sns\n",
        "\n",
        "# Input data files are available in the read-only \"../input/\" directory\n",
        "# For example, running this (by clicking run or pressing Shift+Enter) will list all files under the input directory\n",
        "\n",
        "import os\n",
        "for dirname, _, filenames in os.walk('/content/drive/My Drive/output-nomfcc'):\n",
        "    for filename in filenames:\n",
        "        print(os.path.join(dirname, filename))\n",
        "\n",
        "# You can write up to 5GB to the current directory (/kaggle/working/) that gets preserved as output when you create a version using \"Save & Run All\" \n",
        "# You can also write temporary files to /kaggle/temp/, but they won't be saved outside of the current session"
      ],
      "execution_count": 0,
      "outputs": [
        {
          "output_type": "stream",
          "text": [
            "/content/drive/My Drive/output-nomfcc/output-nomfcc9.csv\n",
            "/content/drive/My Drive/output-nomfcc/output-nomfcc2.csv\n",
            "/content/drive/My Drive/output-nomfcc/output-nomfcc6.csv\n",
            "/content/drive/My Drive/output-nomfcc/output-nomfcc3.csv\n",
            "/content/drive/My Drive/output-nomfcc/output-nomfcc4.csv\n",
            "/content/drive/My Drive/output-nomfcc/output-nomfcc5.csv\n",
            "/content/drive/My Drive/output-nomfcc/output-nomfcc7.csv\n",
            "/content/drive/My Drive/output-nomfcc/output-nomfcc8.csv\n",
            "/content/drive/My Drive/output-nomfcc/output-nomfcc11(1).csv\n",
            "/content/drive/My Drive/output-nomfcc/output-nomfcc14(1).csv\n",
            "/content/drive/My Drive/output-nomfcc/output-nomfcc15(1).csv\n",
            "/content/drive/My Drive/output-nomfcc/output-nomfcc16(1).csv\n",
            "/content/drive/My Drive/output-nomfcc/output-nomfcc12.csv\n",
            "/content/drive/My Drive/output-nomfcc/output-nomfcc14.csv\n",
            "/content/drive/My Drive/output-nomfcc/output-nomfcc15.csv\n",
            "/content/drive/My Drive/output-nomfcc/output-nomfcc16.csv\n",
            "/content/drive/My Drive/output-nomfcc/output-nomfcc10.csv\n",
            "/content/drive/My Drive/output-nomfcc/output-nomfcc13.csv\n",
            "/content/drive/My Drive/output-nomfcc/output-nomfcc1.csv\n",
            "/content/drive/My Drive/output-nomfcc/output-nomfcc11.csv\n"
          ],
          "name": "stdout"
        }
      ]
    },
    {
      "cell_type": "code",
      "metadata": {
        "id": "mWML3yRKQgMU",
        "colab_type": "code",
        "outputId": "7e75795a-065a-4fb6-c97a-05be222ce0b9",
        "colab": {
          "base_uri": "https://localhost:8080/",
          "height": 298
        }
      },
      "source": [
        "!pip3 install soundfile\n",
        "!pip3 install librosa\n",
        "import librosa\n",
        "import soundfile as sf"
      ],
      "execution_count": 0,
      "outputs": [
        {
          "output_type": "stream",
          "text": [
            "Requirement already satisfied: soundfile in /usr/local/lib/python3.6/dist-packages (0.10.3.post1)\n",
            "Requirement already satisfied: cffi>=1.0 in /usr/local/lib/python3.6/dist-packages (from soundfile) (1.14.0)\n",
            "Requirement already satisfied: pycparser in /usr/local/lib/python3.6/dist-packages (from cffi>=1.0->soundfile) (2.20)\n",
            "Requirement already satisfied: librosa in /usr/local/lib/python3.6/dist-packages (0.6.3)\n",
            "Requirement already satisfied: joblib>=0.12 in /usr/local/lib/python3.6/dist-packages (from librosa) (0.14.1)\n",
            "Requirement already satisfied: scipy>=1.0.0 in /usr/local/lib/python3.6/dist-packages (from librosa) (1.4.1)\n",
            "Requirement already satisfied: resampy>=0.2.0 in /usr/local/lib/python3.6/dist-packages (from librosa) (0.2.2)\n",
            "Requirement already satisfied: numba>=0.38.0 in /usr/local/lib/python3.6/dist-packages (from librosa) (0.48.0)\n",
            "Requirement already satisfied: numpy>=1.8.0 in /usr/local/lib/python3.6/dist-packages (from librosa) (1.18.4)\n",
            "Requirement already satisfied: audioread>=2.0.0 in /usr/local/lib/python3.6/dist-packages (from librosa) (2.1.8)\n",
            "Requirement already satisfied: six>=1.3 in /usr/local/lib/python3.6/dist-packages (from librosa) (1.12.0)\n",
            "Requirement already satisfied: decorator>=3.0.0 in /usr/local/lib/python3.6/dist-packages (from librosa) (4.4.2)\n",
            "Requirement already satisfied: scikit-learn!=0.19.0,>=0.14.0 in /usr/local/lib/python3.6/dist-packages (from librosa) (0.22.2.post1)\n",
            "Requirement already satisfied: llvmlite<0.32.0,>=0.31.0dev0 in /usr/local/lib/python3.6/dist-packages (from numba>=0.38.0->librosa) (0.31.0)\n",
            "Requirement already satisfied: setuptools in /usr/local/lib/python3.6/dist-packages (from numba>=0.38.0->librosa) (46.1.3)\n"
          ],
          "name": "stdout"
        }
      ]
    },
    {
      "cell_type": "code",
      "metadata": {
        "id": "NjFyPacKJpI5",
        "colab_type": "code",
        "outputId": "98778449-40a8-41b3-8bf2-77e0901c6a9a",
        "colab": {
          "base_uri": "https://localhost:8080/",
          "height": 124
        }
      },
      "source": [
        "from google.colab import drive\n",
        "drive.mount('/content/drive')"
      ],
      "execution_count": 0,
      "outputs": [
        {
          "output_type": "stream",
          "text": [
            "Go to this URL in a browser: https://accounts.google.com/o/oauth2/auth?client_id=947318989803-6bn6qk8qdgf4n4g3pfee6491hc0brc4i.apps.googleusercontent.com&redirect_uri=urn%3aietf%3awg%3aoauth%3a2.0%3aoob&response_type=code&scope=email%20https%3a%2f%2fwww.googleapis.com%2fauth%2fdocs.test%20https%3a%2f%2fwww.googleapis.com%2fauth%2fdrive%20https%3a%2f%2fwww.googleapis.com%2fauth%2fdrive.photos.readonly%20https%3a%2f%2fwww.googleapis.com%2fauth%2fpeopleapi.readonly\n",
            "\n",
            "Enter your authorization code:\n",
            "··········\n",
            "Mounted at /content/drive\n"
          ],
          "name": "stdout"
        }
      ]
    },
    {
      "cell_type": "code",
      "metadata": {
        "_uuid": "d629ff2d2480ee46fbb7e2d37f6b5fab8052498a",
        "_cell_guid": "79c7e3d0-c299-4dcb-8224-4455121ee9b0",
        "trusted": true,
        "id": "2DuTE9FoJkdy",
        "colab_type": "code",
        "colab": {}
      },
      "source": [
        "data = pd.read_csv(\"/content/drive/My Drive/output-nomfcc/output-nomfcc1.csv\")\n",
        "init = data.values\n",
        "for i in range(2,17):\n",
        "    data = np.vstack([data,pd.read_csv(f\"/content/drive/My Drive/output-nomfcc/output-nomfcc{i}.csv\").values])\n"
      ],
      "execution_count": 0,
      "outputs": []
    },
    {
      "cell_type": "code",
      "metadata": {
        "trusted": true,
        "id": "PDdNtI-OJkeF",
        "colab_type": "code",
        "colab": {}
      },
      "source": [
        "# from sklearn.neighbors import KNeighborsClassifier\n",
        "from sklearn.model_selection import train_test_split"
      ],
      "execution_count": 0,
      "outputs": []
    },
    {
      "cell_type": "code",
      "metadata": {
        "trusted": true,
        "id": "f2WhPw-aJkeW",
        "colab_type": "code",
        "outputId": "98e6d9ba-4e70-4ad4-ba0d-0594e5fd2790",
        "colab": {
          "base_uri": "https://localhost:8080/",
          "height": 34
        }
      },
      "source": [
        "df = pd.read_csv(\"/content/drive/My Drive/tavares/file_label_dcase.csv\")\n",
        "df = df.sample(frac=0.15, random_state=42)\n",
        "X, y = df['file'].values,df['label'].values\n",
        "X_train, X_test, y_train, y_test = train_test_split(X,y,test_size=0.2,random_state=42)\n",
        "y.shape"
      ],
      "execution_count": 0,
      "outputs": [
        {
          "output_type": "execute_result",
          "data": {
            "text/plain": [
              "(1666,)"
            ]
          },
          "metadata": {
            "tags": []
          },
          "execution_count": 214
        }
      ]
    },
    {
      "cell_type": "code",
      "metadata": {
        "id": "IcmBAxVSPkX0",
        "colab_type": "code",
        "colab": {}
      },
      "source": [
        "def get_features_from(filepath):\n",
        "  PATH = f\"/content/drive/My Drive/tavares/soundfiles/{filepath}\"\n",
        "  soundfile, samplerate = sf.read(PATH)\n",
        "  soundfile = soundfile[:,0]\n",
        "  # centroid, flatness, rms\n",
        "  centroid = librosa.feature.spectral_centroid(y=soundfile)\n",
        "  flatness = librosa.feature.spectral_flatness(y=soundfile)\n",
        "  rms = librosa.feature.rms(y=soundfile) \n",
        "  return np.array([centroid.mean(), centroid.std(), flatness.mean(), flatness.std(), rms.mean(), rms.std()])\n"
      ],
      "execution_count": 0,
      "outputs": []
    },
    {
      "cell_type": "code",
      "metadata": {
        "id": "IXWEsruVQ5nv",
        "colab_type": "code",
        "colab": {}
      },
      "source": [
        "init_  = np.zeros((1,8))\n",
        "i = 0\n",
        "print(X.shape, y.shape)\n",
        "for i, tup in enumerate(zip(X,y)):\n",
        "  filename, label = tup \n",
        "  init_ = np.vstack([init_, np.hstack([get_features_from(filename),np.array([filename,label])]) ])\n",
        "  print(i/y.shape[0])\n",
        "pd.DataFrame(data=init_).to_csv(\"features_.csv\")"
      ],
      "execution_count": 0,
      "outputs": []
    },
    {
      "cell_type": "code",
      "metadata": {
        "id": "6kqxgcwPS0Ns",
        "colab_type": "code",
        "colab": {}
      },
      "source": [
        "init_ = pd.read_csv(\"/content/features_.csv\").values"
      ],
      "execution_count": 0,
      "outputs": []
    },
    {
      "cell_type": "code",
      "metadata": {
        "id": "HS9wjFnkWreY",
        "colab_type": "code",
        "colab": {}
      },
      "source": [
        "from sklearn.decomposition import PCA\n",
        "from sklearn.preprocessing import StandardScaler\n",
        "pca = PCA(2)\n",
        "scl = StandardScaler()\n",
        "X_,y_ = init_[1:,:-2], init_[1:,-2:]\n",
        "scl.fit(X_)\n",
        "X_trans = scl.transform(X_)\n",
        "pca.fit(X_trans)\n",
        "pca_points = pca.transform(X_trans)\n"
      ],
      "execution_count": 0,
      "outputs": []
    },
    {
      "cell_type": "code",
      "metadata": {
        "id": "mK3pObxGXUe8",
        "colab_type": "code",
        "outputId": "41b9123a-242f-4118-9761-ecc01b5d220c",
        "colab": {
          "base_uri": "https://localhost:8080/",
          "height": 282
        }
      },
      "source": [
        "sns.scatterplot(x=pca_points[:,0],y=pca_points[:,1],hue=y_[:,-1])"
      ],
      "execution_count": 0,
      "outputs": [
        {
          "output_type": "execute_result",
          "data": {
            "text/plain": [
              "<matplotlib.axes._subplots.AxesSubplot at 0x7f290335bfd0>"
            ]
          },
          "metadata": {
            "tags": []
          },
          "execution_count": 320
        },
        {
          "output_type": "display_data",
          "data": {
            "image/png": "[encoded data removed]",
            "text/plain": [
              "<Figure size 432x288 with 1 Axes>"
            ]
          },
          "metadata": {
            "tags": [],
            "needs_background": "light"
          }
        }
      ]
    },
    {
      "cell_type": "code",
      "metadata": {
        "id": "rM6qbm6sYKUo",
        "colab_type": "code",
        "outputId": "75e70e81-db9f-4e71-f1e9-898566345e4f",
        "colab": {
          "base_uri": "https://localhost:8080/",
          "height": 89
        }
      },
      "source": [
        "from sklearn.model_selection import train_test_split  \n",
        "from sklearn.metrics import precision_recall_fscore_support\n",
        "from sklearn.svm import LinearSVC\n",
        "from pickle import dump  \n",
        "X_,y_ = init_[1:,:-2], init_[1:,-2:]\n",
        "\n",
        "bc = lambda x: 1 if x == 'transportation' else 0 \n",
        "bc_vec = np.vectorize(bc)\n",
        "y_ = bc_vec(y_)\n",
        "\n",
        "X_train_t, X_test_t, y_train_t, y_test_t = train_test_split(X_, y_, test_size=0.2, random_state=666)\n",
        "scl = StandardScaler()\n",
        "scl.fit(X_train_t)\n",
        "X_train_t_scl = scl.transform(X_train_t)\n",
        "X_test_t_scl = scl.transform(X_test_t)\n",
        "model_transp = LinearSVC(C=10,class_weight='balanced' )\n",
        "model_transp.fit(X_train_t_scl, y_train_t[:,-1])\n",
        "print(model_transp.score(X_test_t_scl, y_test_t[:,-1]))\n",
        "pred_transp = model_transp.predict(X_train_t_scl)\n",
        "dump(model_transp, open('model_transp.pickle','wb'))"
      ],
      "execution_count": 0,
      "outputs": [
        {
          "output_type": "stream",
          "text": [
            "0.8982035928143712\n"
          ],
          "name": "stdout"
        },
        {
          "output_type": "stream",
          "text": [
            "/usr/local/lib/python3.6/dist-packages/sklearn/svm/_base.py:947: ConvergenceWarning: Liblinear failed to converge, increase the number of iterations.\n",
            "  \"the number of iterations.\", ConvergenceWarning)\n"
          ],
          "name": "stderr"
        }
      ]
    },
    {
      "cell_type": "code",
      "metadata": {
        "id": "9ySEJVUeyO3C",
        "colab_type": "code",
        "outputId": "f8923836-ff86-4759-940c-1e7e05547e9b",
        "colab": {
          "base_uri": "https://localhost:8080/",
          "height": 173
        }
      },
      "source": [
        "print(classification_report(y_train_t[:,-1],pred_transp))"
      ],
      "execution_count": 0,
      "outputs": [
        {
          "output_type": "stream",
          "text": [
            "              precision    recall  f1-score   support\n",
            "\n",
            "           0       0.95      0.91      0.93       983\n",
            "           1       0.76      0.85      0.81       349\n",
            "\n",
            "    accuracy                           0.89      1332\n",
            "   macro avg       0.85      0.88      0.87      1332\n",
            "weighted avg       0.90      0.89      0.89      1332\n",
            "\n"
          ],
          "name": "stdout"
        }
      ]
    },
    {
      "cell_type": "code",
      "metadata": {
        "id": "h0zY4vAtbAo-",
        "colab_type": "code",
        "colab": {}
      },
      "source": [
        "def gv(value, array):\n",
        "  x = value!=array[0]\n",
        "  for ov in array[1:]:\n",
        "    x &= value!=ov\n",
        "  return x"
      ],
      "execution_count": 0,
      "outputs": []
    },
    {
      "cell_type": "code",
      "metadata": {
        "id": "g-Kqk-NYe9AB",
        "colab_type": "code",
        "colab": {}
      },
      "source": [
        "df = pd.read_csv(\"/content/drive/My Drive/tavares/file_label_dcase.csv\")\n",
        "\n",
        "X_indout, y_indout = df['file'].values,df['label'].values\n",
        "boolarray = gv(X_indout, init_[:,-2])\n",
        "X_indout = X_indout[boolarray]\n",
        "y_indout = y_indout[boolarray]\n",
        "X_train, X_test, y_train, y_test = train_test_split(X_indout,y_indout,test_size=0.2,random_state=42)\n",
        "# y.shape\n"
      ],
      "execution_count": 0,
      "outputs": []
    },
    {
      "cell_type": "code",
      "metadata": {
        "id": "csrBjakMf51D",
        "colab_type": "code",
        "outputId": "306e20a6-d790-4254-9c88-402b95f6980e",
        "colab": {
          "base_uri": "https://localhost:8080/",
          "height": 34
        }
      },
      "source": [
        "np.unique(boolarray,return_counts=True)"
      ],
      "execution_count": 0,
      "outputs": [
        {
          "output_type": "execute_result",
          "data": {
            "text/plain": [
              "(array([False,  True]), array([1666, 9438]))"
            ]
          },
          "metadata": {
            "tags": []
          },
          "execution_count": 324
        }
      ]
    },
    {
      "cell_type": "code",
      "metadata": {
        "trusted": true,
        "id": "nfEwODp3Jkeu",
        "colab_type": "code",
        "outputId": "1e0efa61-b711-430a-ab0c-f022d7fcd57d",
        "colab": {
          "base_uri": "https://localhost:8080/",
          "height": 121
        }
      },
      "source": [
        "print(\"X_Train...\")\n",
        "X_train_values = np.vstack([X_values[y_values[:,-2]==xt] for xt in X_train])\n",
        "print(\"X_test...\")\n",
        "X_test_values = np.vstack([X_values[y_values[:,-2]==xt] for xt in X_test])\n",
        "print(\"y_Train...\")\n",
        "y_train_values = np.vstack([np.hstack([y_values[y_values[:,-2]==xt][:,-1] for xt in X_train])])[0,:]\n",
        "print(\"y_Test...\")\n",
        "y_test_values = np.vstack([np.hstack([y_values[y_values[:,-2]==xt][:,-1] for xt in X_test])])[0,:]\n",
        "print(\"y_Test sounds..\")\n",
        "y_test_sounds_ = np.vstack([np.hstack([y_values[y_values[:,-2]==xt][:,-2] for xt in X_test])])[0,:]\n",
        "print(\"y_Train sounds..\")\n",
        "y_train_sounds_ = np.vstack([np.hstack([y_values[y_values[:,-2]==xt][:,-2] for xt in X_train])])[0,:]"
      ],
      "execution_count": 0,
      "outputs": [
        {
          "output_type": "stream",
          "text": [
            "X_Train...\n",
            "X_test...\n",
            "y_Train...\n",
            "y_Test...\n",
            "y_Test sounds..\n",
            "y_Train sounds..\n"
          ],
          "name": "stdout"
        }
      ]
    },
    {
      "cell_type": "code",
      "metadata": {
        "id": "Vw9MSE74gdUB",
        "colab_type": "code",
        "outputId": "2289650c-caef-4e0d-ce31-f099945219e7",
        "colab": {
          "base_uri": "https://localhost:8080/",
          "height": 52
        }
      },
      "source": [
        "X_train_values_io = X_train_values[y_train_values != 'transportation']\n",
        "X_test_values_io = X_test_values[y_test_values != 'transportation']\n",
        "y_test_values_io = y_test_values[y_test_values != 'transportation']\n",
        "y_train_values_io = y_train_values[y_train_values != 'transportation']\n",
        "y_train_sounds_io = y_train_sounds_[y_train_values != 'transportation']\n",
        "y_test_sounds_io = y_test_sounds_[y_test_values != 'transportation']\n",
        "y_test_values_io"
      ],
      "execution_count": 0,
      "outputs": [
        {
          "output_type": "execute_result",
          "data": {
            "text/plain": [
              "array(['indoor', 'indoor', 'indoor', ..., 'indoor', 'indoor', 'indoor'],\n",
              "      dtype=object)"
            ]
          },
          "metadata": {
            "tags": []
          },
          "execution_count": 326
        }
      ]
    },
    {
      "cell_type": "code",
      "metadata": {
        "trusted": true,
        "id": "XPNMrkK3Jke_",
        "colab_type": "code",
        "outputId": "98a12ae2-bbc5-4b0c-960e-e04534529921",
        "colab": {
          "base_uri": "https://localhost:8080/",
          "height": 104
        }
      },
      "source": [
        "print(X_train_values_io.shape)\n",
        "print(X_test_values_io.shape)\n",
        "print(y_train_values_io.shape)\n",
        "print(y_test_values_io.shape)\n",
        "print(y_test_sounds_io.shape)"
      ],
      "execution_count": 0,
      "outputs": [
        {
          "output_type": "stream",
          "text": [
            "(22900, 16)\n",
            "(5790, 16)\n",
            "(22900,)\n",
            "(5790,)\n",
            "(5790,)\n"
          ],
          "name": "stdout"
        }
      ]
    },
    {
      "cell_type": "code",
      "metadata": {
        "trusted": true,
        "id": "NbddgPu2JkfG",
        "colab_type": "code",
        "colab": {}
      },
      "source": [
        "f = np.vectorize(['indoor','outdoor','transportation'].index)\n",
        "y_train_values_io = f(y_train_values_io)\n",
        "y_test_values_io = f(y_test_values_io)"
      ],
      "execution_count": 0,
      "outputs": []
    },
    {
      "cell_type": "code",
      "metadata": {
        "trusted": true,
        "id": "eSyQJqoqJkfM",
        "colab_type": "code",
        "outputId": "499f54f7-4822-4cde-a963-288962674b86",
        "colab": {
          "base_uri": "https://localhost:8080/",
          "height": 34
        }
      },
      "source": [
        "y_test_values_io"
      ],
      "execution_count": 0,
      "outputs": [
        {
          "output_type": "execute_result",
          "data": {
            "text/plain": [
              "array([0, 0, 0, ..., 0, 0, 0])"
            ]
          },
          "metadata": {
            "tags": []
          },
          "execution_count": 328
        }
      ]
    },
    {
      "cell_type": "code",
      "metadata": {
        "trusted": true,
        "id": "a2aVV9ISJkfU",
        "colab_type": "code",
        "colab": {}
      },
      "source": [
        "from sklearn.preprocessing import StandardScaler\n",
        "from sklearn.decomposition import PCA\n",
        "import seaborn as sns\n",
        "scaler = StandardScaler()"
      ],
      "execution_count": 0,
      "outputs": []
    },
    {
      "cell_type": "code",
      "metadata": {
        "trusted": true,
        "id": "n3ypVVt-Jkfc",
        "colab_type": "code",
        "colab": {}
      },
      "source": [
        "scaler.fit(X_train_values_io)\n",
        "scaled_X_train = scaler.transform(X_train_values_io)\n",
        "scaled_X_test = scaler.transform(X_test_values_io)"
      ],
      "execution_count": 0,
      "outputs": []
    },
    {
      "cell_type": "code",
      "metadata": {
        "trusted": true,
        "id": "Jjb9WNSgJkfw",
        "colab_type": "code",
        "outputId": "05ffec87-e802-4dc2-9dbc-29c03876108d",
        "colab": {
          "base_uri": "https://localhost:8080/",
          "height": 34
        }
      },
      "source": [
        "pca = PCA(2)\n",
        "tgter =np.vstack([scaled_X_train,scaled_X_test])\n",
        "tgtery =np.hstack([y_train_values_io,y_test_values_io])\n",
        "pca.fit(tgter)\n",
        "pca_X = pca.transform(tgter)\n",
        "pca.explained_variance_ratio_"
      ],
      "execution_count": 0,
      "outputs": [
        {
          "output_type": "execute_result",
          "data": {
            "text/plain": [
              "array([0.31217416, 0.16222393])"
            ]
          },
          "metadata": {
            "tags": []
          },
          "execution_count": 331
        }
      ]
    },
    {
      "cell_type": "code",
      "metadata": {
        "trusted": true,
        "id": "WC0okv0iJkf4",
        "colab_type": "code",
        "outputId": "1735ed3f-58b2-4191-df76-94d86295a827",
        "colab": {
          "base_uri": "https://localhost:8080/",
          "height": 282
        }
      },
      "source": [
        "fy = np.vectorize(lambda i: ['indoor','outdoor'][i])\n",
        "sns.scatterplot(x=pca_X[:,0],y=pca_X[:,1],hue=fy(tgtery))"
      ],
      "execution_count": 0,
      "outputs": [
        {
          "output_type": "execute_result",
          "data": {
            "text/plain": [
              "<matplotlib.axes._subplots.AxesSubplot at 0x7f2903634cc0>"
            ]
          },
          "metadata": {
            "tags": []
          },
          "execution_count": 332
        },
        {
          "output_type": "display_data",
          "data": {
            "image/png": "[encoded data removed]",
            "text/plain": [
              "<Figure size 432x288 with 1 Axes>"
            ]
          },
          "metadata": {
            "tags": [],
            "needs_background": "light"
          }
        }
      ]
    },
    {
      "cell_type": "code",
      "metadata": {
        "id": "NVvBN8DBunxo",
        "colab_type": "code",
        "outputId": "e6f3d0aa-62e9-4238-ebbb-4682e709dcee",
        "colab": {
          "base_uri": "https://localhost:8080/",
          "height": 34
        }
      },
      "source": [
        "np.unique(y_train_values_io,return_counts=True)"
      ],
      "execution_count": 0,
      "outputs": [
        {
          "output_type": "execute_result",
          "data": {
            "text/plain": [
              "(array([0, 1]), array([14770,  8130]))"
            ]
          },
          "metadata": {
            "tags": []
          },
          "execution_count": 359
        }
      ]
    },
    {
      "cell_type": "code",
      "metadata": {
        "trusted": true,
        "id": "b811tnW2Jkf_",
        "colab_type": "code",
        "outputId": "3c432e7b-9b4c-4a90-9b85-6553a058c200",
        "colab": {
          "base_uri": "https://localhost:8080/",
          "height": 89
        }
      },
      "source": [
        "from sklearn.svm import LinearSVC\n",
        "model_sel = LinearSVC()\n",
        "model_sel.fit(scaled_X_train,y_train_values_io)\n",
        "print(model_sel.score(scaled_X_test,y_test_values_io))\n",
        "model_pred = model_sel.predict(scaled_X_test)\n",
        "dump(model_sel,open('model_io.pickle','wb'))\n"
      ],
      "execution_count": 0,
      "outputs": [
        {
          "output_type": "stream",
          "text": [
            "0.9386873920552677\n"
          ],
          "name": "stdout"
        },
        {
          "output_type": "stream",
          "text": [
            "/usr/local/lib/python3.6/dist-packages/sklearn/svm/_base.py:947: ConvergenceWarning: Liblinear failed to converge, increase the number of iterations.\n",
            "  \"the number of iterations.\", ConvergenceWarning)\n"
          ],
          "name": "stderr"
        }
      ]
    },
    {
      "cell_type": "code",
      "metadata": {
        "id": "P4_3-5fHvUwv",
        "colab_type": "code",
        "outputId": "07fb6c6e-f359-46f6-bd59-30d4c6c7e2e8",
        "colab": {
          "base_uri": "https://localhost:8080/",
          "height": 52
        }
      },
      "source": [
        "from sklearn.metrics import confusion_matrix, classification_report\n",
        "import matplotlib.pyplot as plt\n",
        "arr = confusion_matrix( y_test_values_io,model_pred)\n",
        "print(arr)"
      ],
      "execution_count": 0,
      "outputs": [
        {
          "output_type": "stream",
          "text": [
            "[[3547  183]\n",
            " [ 172 1888]]\n"
          ],
          "name": "stdout"
        }
      ]
    },
    {
      "cell_type": "code",
      "metadata": {
        "id": "gxiQyoAEwb8v",
        "colab_type": "code",
        "outputId": "972325ae-7985-4500-a411-b4bae2d33ed7",
        "colab": {
          "base_uri": "https://localhost:8080/",
          "height": 173
        }
      },
      "source": [
        "print(classification_report(y_test_values_io,model_pred ))"
      ],
      "execution_count": 0,
      "outputs": [
        {
          "output_type": "stream",
          "text": [
            "              precision    recall  f1-score   support\n",
            "\n",
            "           0       0.95      0.95      0.95      3730\n",
            "           1       0.91      0.92      0.91      2060\n",
            "\n",
            "    accuracy                           0.94      5790\n",
            "   macro avg       0.93      0.93      0.93      5790\n",
            "weighted avg       0.94      0.94      0.94      5790\n",
            "\n"
          ],
          "name": "stdout"
        }
      ]
    },
    {
      "cell_type": "code",
      "metadata": {
        "trusted": true,
        "id": "Gy3AksgvJkiH",
        "colab_type": "code",
        "outputId": "283df6ee-1fbf-4bbb-cc2a-64c5b9072c16",
        "colab": {
          "base_uri": "https://localhost:8080/",
          "height": 346
        }
      },
      "source": [
        "from sklearn.pipeline import make_pipeline\n",
        "from sklearn.base import BaseEstimator, ClassifierMixin\n",
        "\n",
        "class FeatureGetter(BaseEstimator, ClassifierMixin):  \n",
        "    \"\"\"An example of classifier\"\"\"\n",
        "\n",
        "    # def __init__(self):\n",
        "\n",
        "\n",
        "    def fit(self, X, y=None):\n",
        "\n",
        "        return self\n",
        "    def get_features_from(filepath):\n",
        "      PATH = f\"/content/drive/My Drive/tavares/soundfiles/{filepath}\"\n",
        "      soundfile, samplerate = sf.read(PATH)\n",
        "      soundfile = soundfile[:,0]\n",
        "      # centroid, flatness, rms\n",
        "      centroid = librosa.feature.spectral_centroid(y=soundfile)\n",
        "      flatness = librosa.feature.spectral_flatness(y=soundfile)\n",
        "      rms = librosa.feature.rms(y=soundfile) \n",
        "      return np.array([centroid.mean(), centroid.std(), flatness.mean(), flatness.std(), rms.mean(), rms.std()])\n",
        "    def transform(self, X):\n",
        "      init = np.zeros((1,6))\n",
        "      for filename in X:\n",
        "        init = np.vstack([init, get_features_from(filename)])\n",
        "      return init[1:,:]\n",
        "\n",
        "\n",
        "pipe_trans = make_pipeline(FeatureGetter(),scl,model_transp)\n",
        "pipe_trans.predict(X_test[:10])\n"
      ],
      "execution_count": 0,
      "outputs": [
        {
          "output_type": "error",
          "ename": "ValueError",
          "evalue": "ignored",
          "traceback": [
            "\u001b[0;31m---------------------------------------------------------------------------\u001b[0m",
            "\u001b[0;31mValueError\u001b[0m                                Traceback (most recent call last)",
            "\u001b[0;32m<ipython-input-366-66234fde15d7>\u001b[0m in \u001b[0;36m<module>\u001b[0;34m()\u001b[0m\n\u001b[1;32m     28\u001b[0m \u001b[0;34m\u001b[0m\u001b[0m\n\u001b[1;32m     29\u001b[0m \u001b[0mpipe_trans\u001b[0m \u001b[0;34m=\u001b[0m \u001b[0mmake_pipeline\u001b[0m\u001b[0;34m(\u001b[0m\u001b[0mFeatureGetter\u001b[0m\u001b[0;34m(\u001b[0m\u001b[0;34m)\u001b[0m\u001b[0;34m,\u001b[0m\u001b[0mscl\u001b[0m\u001b[0;34m,\u001b[0m\u001b[0mmodel_transp\u001b[0m\u001b[0;34m)\u001b[0m\u001b[0;34m\u001b[0m\u001b[0;34m\u001b[0m\u001b[0m\n\u001b[0;32m---> 30\u001b[0;31m \u001b[0mpipe_trans\u001b[0m\u001b[0;34m.\u001b[0m\u001b[0mpredict\u001b[0m\u001b[0;34m(\u001b[0m\u001b[0mX_test\u001b[0m\u001b[0;34m[\u001b[0m\u001b[0;34m:\u001b[0m\u001b[0;36m10\u001b[0m\u001b[0;34m]\u001b[0m\u001b[0;34m)\u001b[0m\u001b[0;34m\u001b[0m\u001b[0;34m\u001b[0m\u001b[0m\n\u001b[0m",
            "\u001b[0;32m/usr/local/lib/python3.6/dist-packages/sklearn/utils/metaestimators.py\u001b[0m in \u001b[0;36m<lambda>\u001b[0;34m(*args, **kwargs)\u001b[0m\n\u001b[1;32m    114\u001b[0m \u001b[0;34m\u001b[0m\u001b[0m\n\u001b[1;32m    115\u001b[0m         \u001b[0;31m# lambda, but not partial, allows help() to work with update_wrapper\u001b[0m\u001b[0;34m\u001b[0m\u001b[0;34m\u001b[0m\u001b[0;34m\u001b[0m\u001b[0m\n\u001b[0;32m--> 116\u001b[0;31m         \u001b[0mout\u001b[0m \u001b[0;34m=\u001b[0m \u001b[0;32mlambda\u001b[0m \u001b[0;34m*\u001b[0m\u001b[0margs\u001b[0m\u001b[0;34m,\u001b[0m \u001b[0;34m**\u001b[0m\u001b[0mkwargs\u001b[0m\u001b[0;34m:\u001b[0m \u001b[0mself\u001b[0m\u001b[0;34m.\u001b[0m\u001b[0mfn\u001b[0m\u001b[0;34m(\u001b[0m\u001b[0mobj\u001b[0m\u001b[0;34m,\u001b[0m \u001b[0;34m*\u001b[0m\u001b[0margs\u001b[0m\u001b[0;34m,\u001b[0m \u001b[0;34m**\u001b[0m\u001b[0mkwargs\u001b[0m\u001b[0;34m)\u001b[0m\u001b[0;34m\u001b[0m\u001b[0;34m\u001b[0m\u001b[0m\n\u001b[0m\u001b[1;32m    117\u001b[0m         \u001b[0;31m# update the docstring of the returned function\u001b[0m\u001b[0;34m\u001b[0m\u001b[0;34m\u001b[0m\u001b[0;34m\u001b[0m\u001b[0m\n\u001b[1;32m    118\u001b[0m         \u001b[0mupdate_wrapper\u001b[0m\u001b[0;34m(\u001b[0m\u001b[0mout\u001b[0m\u001b[0;34m,\u001b[0m \u001b[0mself\u001b[0m\u001b[0;34m.\u001b[0m\u001b[0mfn\u001b[0m\u001b[0;34m)\u001b[0m\u001b[0;34m\u001b[0m\u001b[0;34m\u001b[0m\u001b[0m\n",
            "\u001b[0;32m/usr/local/lib/python3.6/dist-packages/sklearn/pipeline.py\u001b[0m in \u001b[0;36mpredict\u001b[0;34m(self, X, **predict_params)\u001b[0m\n\u001b[1;32m    417\u001b[0m         \u001b[0mXt\u001b[0m \u001b[0;34m=\u001b[0m \u001b[0mX\u001b[0m\u001b[0;34m\u001b[0m\u001b[0;34m\u001b[0m\u001b[0m\n\u001b[1;32m    418\u001b[0m         \u001b[0;32mfor\u001b[0m \u001b[0m_\u001b[0m\u001b[0;34m,\u001b[0m \u001b[0mname\u001b[0m\u001b[0;34m,\u001b[0m \u001b[0mtransform\u001b[0m \u001b[0;32min\u001b[0m \u001b[0mself\u001b[0m\u001b[0;34m.\u001b[0m\u001b[0m_iter\u001b[0m\u001b[0;34m(\u001b[0m\u001b[0mwith_final\u001b[0m\u001b[0;34m=\u001b[0m\u001b[0;32mFalse\u001b[0m\u001b[0;34m)\u001b[0m\u001b[0;34m:\u001b[0m\u001b[0;34m\u001b[0m\u001b[0;34m\u001b[0m\u001b[0m\n\u001b[0;32m--> 419\u001b[0;31m             \u001b[0mXt\u001b[0m \u001b[0;34m=\u001b[0m \u001b[0mtransform\u001b[0m\u001b[0;34m.\u001b[0m\u001b[0mtransform\u001b[0m\u001b[0;34m(\u001b[0m\u001b[0mXt\u001b[0m\u001b[0;34m)\u001b[0m\u001b[0;34m\u001b[0m\u001b[0;34m\u001b[0m\u001b[0m\n\u001b[0m\u001b[1;32m    420\u001b[0m         \u001b[0;32mreturn\u001b[0m \u001b[0mself\u001b[0m\u001b[0;34m.\u001b[0m\u001b[0msteps\u001b[0m\u001b[0;34m[\u001b[0m\u001b[0;34m-\u001b[0m\u001b[0;36m1\u001b[0m\u001b[0;34m]\u001b[0m\u001b[0;34m[\u001b[0m\u001b[0;34m-\u001b[0m\u001b[0;36m1\u001b[0m\u001b[0;34m]\u001b[0m\u001b[0;34m.\u001b[0m\u001b[0mpredict\u001b[0m\u001b[0;34m(\u001b[0m\u001b[0mXt\u001b[0m\u001b[0;34m,\u001b[0m \u001b[0;34m**\u001b[0m\u001b[0mpredict_params\u001b[0m\u001b[0;34m)\u001b[0m\u001b[0;34m\u001b[0m\u001b[0;34m\u001b[0m\u001b[0m\n\u001b[1;32m    421\u001b[0m \u001b[0;34m\u001b[0m\u001b[0m\n",
            "\u001b[0;32m/usr/local/lib/python3.6/dist-packages/sklearn/preprocessing/_data.py\u001b[0m in \u001b[0;36mtransform\u001b[0;34m(self, X, copy)\u001b[0m\n\u001b[1;32m    804\u001b[0m         \u001b[0;32melse\u001b[0m\u001b[0;34m:\u001b[0m\u001b[0;34m\u001b[0m\u001b[0;34m\u001b[0m\u001b[0m\n\u001b[1;32m    805\u001b[0m             \u001b[0;32mif\u001b[0m \u001b[0mself\u001b[0m\u001b[0;34m.\u001b[0m\u001b[0mwith_mean\u001b[0m\u001b[0;34m:\u001b[0m\u001b[0;34m\u001b[0m\u001b[0;34m\u001b[0m\u001b[0m\n\u001b[0;32m--> 806\u001b[0;31m                 \u001b[0mX\u001b[0m \u001b[0;34m-=\u001b[0m \u001b[0mself\u001b[0m\u001b[0;34m.\u001b[0m\u001b[0mmean_\u001b[0m\u001b[0;34m\u001b[0m\u001b[0;34m\u001b[0m\u001b[0m\n\u001b[0m\u001b[1;32m    807\u001b[0m             \u001b[0;32mif\u001b[0m \u001b[0mself\u001b[0m\u001b[0;34m.\u001b[0m\u001b[0mwith_std\u001b[0m\u001b[0;34m:\u001b[0m\u001b[0;34m\u001b[0m\u001b[0;34m\u001b[0m\u001b[0m\n\u001b[1;32m    808\u001b[0m                 \u001b[0mX\u001b[0m \u001b[0;34m/=\u001b[0m \u001b[0mself\u001b[0m\u001b[0;34m.\u001b[0m\u001b[0mscale_\u001b[0m\u001b[0;34m\u001b[0m\u001b[0;34m\u001b[0m\u001b[0m\n",
            "\u001b[0;31mValueError\u001b[0m: operands could not be broadcast together with shapes (10,6) (7,) (10,6) "
          ]
        }
      ]
    },
    {
      "cell_type": "code",
      "metadata": {
        "id": "tIr5mOQnn_PU",
        "colab_type": "code",
        "colab": {}
      },
      "source": [
        "class FeatureGetterIndOut(BaseEstimator, ClassifierMixin):  \n",
        "    \"\"\"An example of classifier\"\"\"\n",
        "\n",
        "    # def __init__(self):\n",
        "\n",
        "\n",
        "    def fit(self, X, y=None):\n",
        "\n",
        "        return self\n",
        "    def get_features_from(filepath):\n",
        "      PATH = f\"/content/drive/My Drive/tavares/soundfiles/{filepath}\"\n",
        "      soundfile, samplerate = sf.read(PATH)\n",
        "      soundfile = soundfile[:,0]\n",
        "      # centroid, flatness, rms\n",
        "      centroid = librosa.feature.spectral_centroid(y=soundfile)\n",
        "      flatness = librosa.feature.spectral_flatness(y=soundfile)\n",
        "      rms = librosa.feature.rms(y=soundfile) \n",
        "      return np.array([centroid.mean(), centroid.std(), flatness.mean(), flatness.std(), rms.mean(), rms.std()])\n",
        "    def transform(self, X):\n",
        "      init = np.zeros((1,6))\n",
        "      \n",
        "      for i, filename in enumerate(X):\n",
        "        \n",
        "        init = np.vstack([init, self.get_features_from(filename)])\n",
        "      return init[1:,:]\n",
        "\n",
        "\n",
        "pipe_trans = make_pipeline(FeatureGetter(),scl,model_transp)\n",
        "pipe_trans.predict(X_test[:10])\n"
      ],
      "execution_count": 0,
      "outputs": []
    },
    {
      "cell_type": "code",
      "metadata": {
        "id": "sNRfAOJbk-Cu",
        "colab_type": "code",
        "outputId": "f13e06bc-d380-4d3c-88ec-70e11b51321e",
        "colab": {
          "base_uri": "https://localhost:8080/",
          "height": 34
        }
      },
      "source": [
        "y_test_sounds_.shape"
      ],
      "execution_count": 0,
      "outputs": [
        {
          "output_type": "execute_result",
          "data": {
            "text/plain": [
              "(10590,)"
            ]
          },
          "metadata": {
            "tags": []
          },
          "execution_count": 121
        }
      ]
    },
    {
      "cell_type": "code",
      "metadata": {
        "id": "FXaNiiiXmBdL",
        "colab_type": "code",
        "colab": {}
      },
      "source": [
        "class PredictIndOut(BaseEstimator, ClassifierMixin):\n",
        "  def __init__(self, model, scaler):\n",
        "    self.model = model\n",
        "    self.scaler = scaler \n",
        "  def fit(self,X,y=None): \n",
        "    return self\n",
        "  \n",
        "  def predict(self, X):\n",
        "    y_pred = np.zeros(0)\n",
        "    for filename in X:\n",
        "      PATH = f\"/content/drive/My Drive/tavares/soundfiles/{filename}\"\n",
        "\n",
        "      d = data[:,:-2][nd2 == PATH]\n",
        "      \n",
        "      d_scl = self.scaler.transform(d)\n",
        "      pred = self.model.predict(d_scl)\n",
        "      y_pred = np.hstack([y_pred, self.countermax(pred)])\n",
        "    return y_pred\n",
        "predio = PredictIndOut(model_sel, scaler)"
      ],
      "execution_count": 0,
      "outputs": []
    },
    {
      "cell_type": "code",
      "metadata": {
        "id": "MOuxaivUvIlr",
        "colab_type": "code",
        "outputId": "ea752aa6-b32f-4ca4-b364-55e5d72f6f3d",
        "colab": {
          "base_uri": "https://localhost:8080/",
          "height": 34
        }
      },
      "source": [
        "accuracy_score(predio.predict(X_test[y_test != 'transportation'][:1000]),f(y_test[y_test != 'transportation'])[:1000])"
      ],
      "execution_count": 0,
      "outputs": [
        {
          "output_type": "execute_result",
          "data": {
            "text/plain": [
              "0.695"
            ]
          },
          "metadata": {
            "tags": []
          },
          "execution_count": 340
        }
      ]
    },
    {
      "cell_type": "code",
      "metadata": {
        "id": "9qLFyf0IdCm0",
        "colab_type": "code",
        "outputId": "30abd217-2052-45bf-aa9c-502be7833bb1",
        "colab": {
          "base_uri": "https://localhost:8080/",
          "height": 34
        }
      },
      "source": [
        ""
      ],
      "execution_count": 0,
      "outputs": [
        {
          "output_type": "execute_result",
          "data": {
            "text/plain": [
              "(1888,)"
            ]
          },
          "metadata": {
            "tags": []
          },
          "execution_count": 342
        }
      ]
    },
    {
      "cell_type": "code",
      "metadata": {
        "id": "Zl7WUE1knok4",
        "colab_type": "code",
        "outputId": "facc7398-1177-4274-8a51-3abd2c9729d4",
        "colab": {
          "base_uri": "https://localhost:8080/",
          "height": 34
        }
      },
      "source": [
        "'TAU-urban-acoustic-scenes-2020-3class-development/audio/metro-lyon-1201-44437-a.wav' in data[:,-2]"
      ],
      "execution_count": 0,
      "outputs": [
        {
          "output_type": "execute_result",
          "data": {
            "text/plain": [
              "True"
            ]
          },
          "metadata": {
            "tags": []
          },
          "execution_count": 177
        }
      ]
    },
    {
      "cell_type": "code",
      "metadata": {
        "id": "E73uGdPyq-xp",
        "colab_type": "code",
        "colab": {}
      },
      "source": [
        "px = '/content/drive/My Drive/tavares/soundfiles/' + X_test"
      ],
      "execution_count": 0,
      "outputs": []
    },
    {
      "cell_type": "code",
      "metadata": {
        "id": "KB7ssVAfuWCC",
        "colab_type": "code",
        "colab": {}
      },
      "source": [
        "nl = lambda x: x if x.startswith('/content/drive/My Drive/tavares/soundfiles/') else '/content/drive/My Drive/tavares/soundfiles/'+x\n",
        "vnl = np.vectorize(nl)\n",
        "nd2 = vnl(data[:,-2])"
      ],
      "execution_count": 0,
      "outputs": []
    },
    {
      "cell_type": "code",
      "metadata": {
        "id": "H-PMfYrzu5f5",
        "colab_type": "code",
        "outputId": "becbaa32-44d5-45e9-ff65-6add1a558ded",
        "colab": {
          "base_uri": "https://localhost:8080/",
          "height": 34
        }
      },
      "source": [
        "X_test.shape"
      ],
      "execution_count": 0,
      "outputs": [
        {
          "output_type": "execute_result",
          "data": {
            "text/plain": [
              "(1888,)"
            ]
          },
          "metadata": {
            "tags": []
          },
          "execution_count": 195
        }
      ]
    },
    {
      "cell_type": "code",
      "metadata": {
        "id": "V0fw_6Ppv4ON",
        "colab_type": "code",
        "colab": {}
      },
      "source": [
        "y_test\n",
        "y_test_cmp = f(y_test)"
      ],
      "execution_count": 0,
      "outputs": []
    },
    {
      "cell_type": "code",
      "metadata": {
        "id": "xkgvJzLOv6dq",
        "colab_type": "code",
        "outputId": "83c99412-f597-420c-fcb1-063b4cb9419e",
        "colab": {
          "base_uri": "https://localhost:8080/",
          "height": 34
        }
      },
      "source": [
        "y_test_cmp"
      ],
      "execution_count": 0,
      "outputs": [
        {
          "output_type": "execute_result",
          "data": {
            "text/plain": [
              "array([0, 2, 2, ..., 2, 2, 0])"
            ]
          },
          "metadata": {
            "tags": []
          },
          "execution_count": 198
        }
      ]
    },
    {
      "cell_type": "code",
      "metadata": {
        "id": "Tz7JGKkqw57O",
        "colab_type": "code",
        "colab": {}
      },
      "source": [
        "def get_features_from(filepath):\n",
        "      PATH = f\"/content/drive/My Drive/tavares/soundfiles/{filepath}\"\n",
        "      soundfile, samplerate = sf.read(PATH)\n",
        "      soundfile = soundfile[:,0]\n",
        "      # centroid, flatness, rms\n",
        "      centroid = librosa.feature.spectral_centroid(y=soundfile)\n",
        "      flatness = librosa.feature.spectral_flatness(y=soundfile)\n",
        "      rms = librosa.feature.rms(y=soundfile) \n",
        "      return np.array([centroid.mean(), centroid.std(), flatness.mean(), flatness.std(), rms.mean(), rms.std()])\n",
        "def transform( X):\n",
        "  init = np.zeros((1,6))\n",
        "  \n",
        "  for i, filename in enumerate(X):\n",
        "    print(i/X.shape[0])\n",
        "    init = np.vstack([init, get_features_from(filename)])\n",
        "  return init[1:,:]\n",
        "x = transform(X_test)\n",
        "p = pd.DataFrame(data=x)\n",
        "p.to_csv(\"feat.csv\")"
      ],
      "execution_count": 0,
      "outputs": []
    },
    {
      "cell_type": "code",
      "metadata": {
        "id": "musHPr0fVKvh",
        "colab_type": "code",
        "colab": {}
      },
      "source": [
        "def countermax(array):\n",
        "    v, c = np.unique(array,return_counts=True)\n",
        "    return v[c.argmax()]"
      ],
      "execution_count": 0,
      "outputs": []
    },
    {
      "cell_type": "code",
      "metadata": {
        "id": "xgdVUdP00nxL",
        "colab_type": "code",
        "colab": {}
      },
      "source": [
        "from pickle import load\n",
        "test_values = pd.read_csv(\"feat.csv\")\n",
        "test_values_scl = scl.transform(test_values.values)\n",
        "model_transp = load(open('model_transp.pickle','rb'))\n",
        "y_pred_trans = model_transp.predict(test_values_scl)"
      ],
      "execution_count": 0,
      "outputs": []
    },
    {
      "cell_type": "code",
      "metadata": {
        "id": "GpJf6nhfUN_m",
        "colab_type": "code",
        "colab": {}
      },
      "source": [
        "y_pred = np.zeros(0)\n",
        "for i,filename in enumerate(X_test):\n",
        "  PATH = f\"/content/drive/My Drive/tavares/soundfiles/{filename}\"\n",
        "  d = data[:,:-2][nd2 == PATH]   \n",
        "  d_scl = scaler.transform(d)\n",
        "  pred = model_io.predict(d_scl)\n",
        "  y_pred = np.hstack([y_pred, countermax(pred)])\n",
        "  "
      ],
      "execution_count": 0,
      "outputs": []
    },
    {
      "cell_type": "code",
      "metadata": {
        "id": "vHWxJILeU_-W",
        "colab_type": "code",
        "colab": {}
      },
      "source": [
        "model_io = load(open('model_io.pickle','rb'))"
      ],
      "execution_count": 0,
      "outputs": []
    },
    {
      "cell_type": "code",
      "metadata": {
        "id": "yFSldIr9VSWh",
        "colab_type": "code",
        "outputId": "497c798f-8444-457f-ab22-ae2470480df7",
        "colab": {
          "base_uri": "https://localhost:8080/",
          "height": 34
        }
      },
      "source": [
        "y_pred.shape"
      ],
      "execution_count": 0,
      "outputs": [
        {
          "output_type": "execute_result",
          "data": {
            "text/plain": [
              "(1888,)"
            ]
          },
          "metadata": {
            "tags": []
          },
          "execution_count": 262
        }
      ]
    },
    {
      "cell_type": "code",
      "metadata": {
        "id": "5y56SKnKVbdi",
        "colab_type": "code",
        "outputId": "bfc2cb0f-ca91-4e9c-c412-1fdfe35c913d",
        "colab": {
          "base_uri": "https://localhost:8080/",
          "height": 34
        }
      },
      "source": [
        "y_pred_trans.shape"
      ],
      "execution_count": 0,
      "outputs": [
        {
          "output_type": "execute_result",
          "data": {
            "text/plain": [
              "(1888,)"
            ]
          },
          "metadata": {
            "tags": []
          },
          "execution_count": 264
        }
      ]
    },
    {
      "cell_type": "code",
      "metadata": {
        "id": "qXZBFkYfVcu2",
        "colab_type": "code",
        "colab": {}
      },
      "source": [
        "y_pred_final = []\n",
        "\n",
        "for t, io in zip(y_pred_trans, y_pred):\n",
        "  if t == 0:\n",
        "    y_pred_final.append(io)\n",
        "  else:\n",
        "    y_pred_final.append(2)"
      ],
      "execution_count": 0,
      "outputs": []
    },
    {
      "cell_type": "code",
      "metadata": {
        "id": "geEMxGOSWamu",
        "colab_type": "code",
        "colab": {}
      },
      "source": [
        "y_pred_final = np.array(y_pred_final)"
      ],
      "execution_count": 0,
      "outputs": []
    },
    {
      "cell_type": "code",
      "metadata": {
        "id": "fVwBZWQaVr5S",
        "colab_type": "code",
        "outputId": "6acc6f36-3ee4-453d-9205-2bd672950983",
        "colab": {
          "base_uri": "https://localhost:8080/",
          "height": 34
        }
      },
      "source": [
        "y_test_quant = f(y_test)\n",
        "y_test_quant"
      ],
      "execution_count": 0,
      "outputs": [
        {
          "output_type": "execute_result",
          "data": {
            "text/plain": [
              "array([0, 2, 2, ..., 2, 2, 0])"
            ]
          },
          "metadata": {
            "tags": []
          },
          "execution_count": 294
        }
      ]
    },
    {
      "cell_type": "code",
      "metadata": {
        "id": "pbVmOTX3X8AZ",
        "colab_type": "code",
        "colab": {}
      },
      "source": [
        "y_test_quant_b = [0 if i!= 2 else 1 for i in y_test_quant ]"
      ],
      "execution_count": 0,
      "outputs": []
    },
    {
      "cell_type": "code",
      "metadata": {
        "id": "2PD7u3pYYcc0",
        "colab_type": "code",
        "colab": {}
      },
      "source": [
        ""
      ],
      "execution_count": 0,
      "outputs": []
    },
    {
      "cell_type": "code",
      "metadata": {
        "id": "HYDaDkHAYqZ2",
        "colab_type": "code",
        "colab": {}
      },
      "source": [
        ""
      ],
      "execution_count": 0,
      "outputs": []
    },
    {
      "cell_type": "code",
      "metadata": {
        "id": "mIOXIAtlYNAo",
        "colab_type": "code",
        "outputId": "84c03bd6-bfc7-4f4f-c134-2a5ab9db1521",
        "colab": {
          "base_uri": "https://localhost:8080/",
          "height": 34
        }
      },
      "source": [
        "accuracy_score(y_test_quant_b, y_pred_trans)"
      ],
      "execution_count": 0,
      "outputs": [
        {
          "output_type": "execute_result",
          "data": {
            "text/plain": [
              "0.8945974576271186"
            ]
          },
          "metadata": {
            "tags": []
          },
          "execution_count": 297
        }
      ]
    },
    {
      "cell_type": "code",
      "metadata": {
        "id": "oAPqM0AVVxzX",
        "colab_type": "code",
        "outputId": "904a8fe2-cbf0-4709-d77a-93a9d007d685",
        "colab": {
          "base_uri": "https://localhost:8080/",
          "height": 34
        }
      },
      "source": [
        "\n",
        "from sklearn.metrics import accuracy_score\n",
        "accuracy_score(y_pred_final, y_test_quant)"
      ],
      "execution_count": 0,
      "outputs": [
        {
          "output_type": "execute_result",
          "data": {
            "text/plain": [
              "0.6716101694915254"
            ]
          },
          "metadata": {
            "tags": []
          },
          "execution_count": 291
        }
      ]
    },
    {
      "cell_type": "code",
      "metadata": {
        "id": "gjKm8VN8V8bh",
        "colab_type": "code",
        "outputId": "a6654109-c369-42bb-e562-951cf3572256",
        "colab": {
          "base_uri": "https://localhost:8080/",
          "height": 89
        }
      },
      "source": [
        "f(y_test_values_io) == y_test_io"
      ],
      "execution_count": 0,
      "outputs": [
        {
          "output_type": "stream",
          "text": [
            "/usr/local/lib/python3.6/dist-packages/ipykernel_launcher.py:1: DeprecationWarning: elementwise comparison failed; this will raise an error in the future.\n",
            "  \"\"\"Entry point for launching an IPython kernel.\n"
          ],
          "name": "stderr"
        },
        {
          "output_type": "execute_result",
          "data": {
            "text/plain": [
              "False"
            ]
          },
          "metadata": {
            "tags": []
          },
          "execution_count": 314
        }
      ]
    },
    {
      "cell_type": "code",
      "metadata": {
        "id": "Gs0mAsrGbUvU",
        "colab_type": "code",
        "colab": {}
      },
      "source": [
        ""
      ],
      "execution_count": 0,
      "outputs": []
    }
  ]
}