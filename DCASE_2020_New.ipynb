{
  "nbformat": 4,
  "nbformat_minor": 0,
  "metadata": {
    "colab": {
      "name": "DCASE 2020 - New.ipynb",
      "provenance": [],
      "collapsed_sections": [],
      "toc_visible": true,
      "machine_shape": "hm"
    },
    "kernelspec": {
      "name": "python3",
      "display_name": "Python 3"
    },
    "accelerator": "GPU"
  },
  "cells": [
    {
      "cell_type": "code",
      "metadata": {
        "id": "ptGENpqklOQv",
        "colab_type": "code",
        "outputId": "cb50408c-2233-468b-e247-0ca8fc9cfc8c",
        "colab": {
          "base_uri": "https://localhost:8080/",
          "height": 374
        }
      },
      "source": [
        "import matplotlib.pyplot as plt\n",
        "import numpy as np # linear algebra\n",
        "import pandas as pd\n",
        "import librosa\n",
        "import librosa.display\n",
        "import os\n",
        "from os import path\n",
        "import io\n",
        "!pip3 install soundfile\n",
        "!pip3 install librosa\n",
        "import soundfile as sf\n",
        "import librosa.feature"
      ],
      "execution_count": 1,
      "outputs": [
        {
          "output_type": "stream",
          "text": [
            "Collecting soundfile\n",
            "  Downloading https://files.pythonhosted.org/packages/eb/f2/3cbbbf3b96fb9fa91582c438b574cff3f45b29c772f94c400e2c99ef5db9/SoundFile-0.10.3.post1-py2.py3-none-any.whl\n",
            "Requirement already satisfied: cffi>=1.0 in /usr/local/lib/python3.6/dist-packages (from soundfile) (1.14.0)\n",
            "Requirement already satisfied: pycparser in /usr/local/lib/python3.6/dist-packages (from cffi>=1.0->soundfile) (2.20)\n",
            "Installing collected packages: soundfile\n",
            "Successfully installed soundfile-0.10.3.post1\n",
            "Requirement already satisfied: librosa in /usr/local/lib/python3.6/dist-packages (0.6.3)\n",
            "Requirement already satisfied: six>=1.3 in /usr/local/lib/python3.6/dist-packages (from librosa) (1.12.0)\n",
            "Requirement already satisfied: numba>=0.38.0 in /usr/local/lib/python3.6/dist-packages (from librosa) (0.47.0)\n",
            "Requirement already satisfied: scipy>=1.0.0 in /usr/local/lib/python3.6/dist-packages (from librosa) (1.4.1)\n",
            "Requirement already satisfied: numpy>=1.8.0 in /usr/local/lib/python3.6/dist-packages (from librosa) (1.18.2)\n",
            "Requirement already satisfied: scikit-learn!=0.19.0,>=0.14.0 in /usr/local/lib/python3.6/dist-packages (from librosa) (0.22.2.post1)\n",
            "Requirement already satisfied: audioread>=2.0.0 in /usr/local/lib/python3.6/dist-packages (from librosa) (2.1.8)\n",
            "Requirement already satisfied: joblib>=0.12 in /usr/local/lib/python3.6/dist-packages (from librosa) (0.14.1)\n",
            "Requirement already satisfied: resampy>=0.2.0 in /usr/local/lib/python3.6/dist-packages (from librosa) (0.2.2)\n",
            "Requirement already satisfied: decorator>=3.0.0 in /usr/local/lib/python3.6/dist-packages (from librosa) (4.4.2)\n",
            "Requirement already satisfied: setuptools in /usr/local/lib/python3.6/dist-packages (from numba>=0.38.0->librosa) (46.0.0)\n",
            "Requirement already satisfied: llvmlite>=0.31.0dev0 in /usr/local/lib/python3.6/dist-packages (from numba>=0.38.0->librosa) (0.31.0)\n"
          ],
          "name": "stdout"
        }
      ]
    },
    {
      "cell_type": "code",
      "metadata": {
        "id": "c-kU_a0NruyM",
        "colab_type": "code",
        "outputId": "fa13c5a7-a38b-4cd0-81dc-c0c5de2b5933",
        "colab": {
          "base_uri": "https://localhost:8080/",
          "height": 205
        }
      },
      "source": [
        "!pip install ipython-autotime\n",
        "\n",
        "%load_ext autotime"
      ],
      "execution_count": 2,
      "outputs": [
        {
          "output_type": "stream",
          "text": [
            "Collecting ipython-autotime\n",
            "  Downloading https://files.pythonhosted.org/packages/e6/f9/0626bbdb322e3a078d968e87e3b01341e7890544de891d0cb613641220e6/ipython-autotime-0.1.tar.bz2\n",
            "Building wheels for collected packages: ipython-autotime\n",
            "  Building wheel for ipython-autotime (setup.py) ... \u001b[?25l\u001b[?25hdone\n",
            "  Created wheel for ipython-autotime: filename=ipython_autotime-0.1-cp36-none-any.whl size=1832 sha256=ae7627a64c30d5db1adf789f147b9fe7c6d0d446f435adeb7d05271d873cfe38\n",
            "  Stored in directory: /root/.cache/pip/wheels/d2/df/81/2db1e54bc91002cec40334629bc39cfa86dff540b304ebcd6e\n",
            "Successfully built ipython-autotime\n",
            "Installing collected packages: ipython-autotime\n",
            "Successfully installed ipython-autotime-0.1\n"
          ],
          "name": "stdout"
        }
      ]
    },
    {
      "cell_type": "markdown",
      "metadata": {
        "id": "r7aioLqSfKgT",
        "colab_type": "text"
      },
      "source": [
        "# Opening datasets"
      ]
    },
    {
      "cell_type": "code",
      "metadata": {
        "id": "_AtrE-Kwmk5b",
        "colab_type": "code",
        "outputId": "b711c776-ee14-4426-c091-7782ddbc22c9",
        "colab": {
          "base_uri": "https://localhost:8080/",
          "height": 225
        }
      },
      "source": [
        "DIR = '/content/drive/My Drive/DCASE 2020 Challenge/TAU Urban Acoustic Scenes 2020 3Class' \n",
        "DIR_AUDIO = DIR + '/soundfiles/TAU-urban-acoustic-scenes-2020-3class-development/'\n",
        "df_meta = pd.read_csv(f'{DIR}/meta.csv')\n",
        "df_meta = pd.read_csv(io.StringIO(df_meta.to_csv(index=False)))\n",
        "df_meta.head()"
      ],
      "execution_count": 3,
      "outputs": [
        {
          "output_type": "execute_result",
          "data": {
            "text/html": [
              "<div>\n",
              "<style scoped>\n",
              "    .dataframe tbody tr th:only-of-type {\n",
              "        vertical-align: middle;\n",
              "    }\n",
              "\n",
              "    .dataframe tbody tr th {\n",
              "        vertical-align: top;\n",
              "    }\n",
              "\n",
              "    .dataframe thead th {\n",
              "        text-align: right;\n",
              "    }\n",
              "</style>\n",
              "<table border=\"1\" class=\"dataframe\">\n",
              "  <thead>\n",
              "    <tr style=\"text-align: right;\">\n",
              "      <th></th>\n",
              "      <th>filename</th>\n",
              "      <th>scene_label</th>\n",
              "      <th>identifier</th>\n",
              "    </tr>\n",
              "  </thead>\n",
              "  <tbody>\n",
              "    <tr>\n",
              "      <th>0</th>\n",
              "      <td>audio/airport-barcelona-0-0-a.wav</td>\n",
              "      <td>indoor</td>\n",
              "      <td>barcelona-0</td>\n",
              "    </tr>\n",
              "    <tr>\n",
              "      <th>1</th>\n",
              "      <td>audio/airport-barcelona-0-10-a.wav</td>\n",
              "      <td>indoor</td>\n",
              "      <td>barcelona-0</td>\n",
              "    </tr>\n",
              "    <tr>\n",
              "      <th>2</th>\n",
              "      <td>audio/airport-barcelona-0-11-a.wav</td>\n",
              "      <td>indoor</td>\n",
              "      <td>barcelona-0</td>\n",
              "    </tr>\n",
              "    <tr>\n",
              "      <th>3</th>\n",
              "      <td>audio/airport-barcelona-0-12-a.wav</td>\n",
              "      <td>indoor</td>\n",
              "      <td>barcelona-0</td>\n",
              "    </tr>\n",
              "    <tr>\n",
              "      <th>4</th>\n",
              "      <td>audio/airport-barcelona-0-13-a.wav</td>\n",
              "      <td>indoor</td>\n",
              "      <td>barcelona-0</td>\n",
              "    </tr>\n",
              "  </tbody>\n",
              "</table>\n",
              "</div>"
            ],
            "text/plain": [
              "                             filename scene_label   identifier\n",
              "0   audio/airport-barcelona-0-0-a.wav      indoor  barcelona-0\n",
              "1  audio/airport-barcelona-0-10-a.wav      indoor  barcelona-0\n",
              "2  audio/airport-barcelona-0-11-a.wav      indoor  barcelona-0\n",
              "3  audio/airport-barcelona-0-12-a.wav      indoor  barcelona-0\n",
              "4  audio/airport-barcelona-0-13-a.wav      indoor  barcelona-0"
            ]
          },
          "metadata": {
            "tags": []
          },
          "execution_count": 3
        },
        {
          "output_type": "stream",
          "text": [
            "time: 1.29 s\n"
          ],
          "name": "stdout"
        }
      ]
    },
    {
      "cell_type": "markdown",
      "metadata": {
        "id": "H4GBDBmTIF4P",
        "colab_type": "text"
      },
      "source": [
        "# Getting part of the dataset\n",
        "Não coloquei 10% dele, pois poderiam vir mais datasets de um label específico. E nem coloquei 10% de cada label, pois a quantidades de datasets dentro de cada label é diferente. Então defini n datasets de cada label."
      ]
    },
    {
      "cell_type": "code",
      "metadata": {
        "id": "d2rRCB6kp2DB",
        "colab_type": "code",
        "outputId": "5060705c-24a5-4860-8a5b-a3ab58ef9b00",
        "colab": {
          "base_uri": "https://localhost:8080/",
          "height": 225
        }
      },
      "source": [
        "df = df_meta.groupby('scene_label', as_index=False).apply(lambda x: x.sample(n = 10, random_state=15))\n",
        "df.index = [i[1] for i in df.index]\n",
        "df.head()"
      ],
      "execution_count": 10,
      "outputs": [
        {
          "output_type": "execute_result",
          "data": {
            "text/html": [
              "<div>\n",
              "<style scoped>\n",
              "    .dataframe tbody tr th:only-of-type {\n",
              "        vertical-align: middle;\n",
              "    }\n",
              "\n",
              "    .dataframe tbody tr th {\n",
              "        vertical-align: top;\n",
              "    }\n",
              "\n",
              "    .dataframe thead th {\n",
              "        text-align: right;\n",
              "    }\n",
              "</style>\n",
              "<table border=\"1\" class=\"dataframe\">\n",
              "  <thead>\n",
              "    <tr style=\"text-align: right;\">\n",
              "      <th></th>\n",
              "      <th>filename</th>\n",
              "      <th>scene_label</th>\n",
              "      <th>identifier</th>\n",
              "    </tr>\n",
              "  </thead>\n",
              "  <tbody>\n",
              "    <tr>\n",
              "      <th>3028</th>\n",
              "      <td>audio/metro_station-helsinki-231-6952-a.wav</td>\n",
              "      <td>indoor</td>\n",
              "      <td>helsinki-231</td>\n",
              "    </tr>\n",
              "    <tr>\n",
              "      <th>9493</th>\n",
              "      <td>audio/shopping_mall-milan-1183-45376-a.wav</td>\n",
              "      <td>indoor</td>\n",
              "      <td>milan-1183</td>\n",
              "    </tr>\n",
              "    <tr>\n",
              "      <th>4163</th>\n",
              "      <td>audio/metro_station-stockholm-85-2308-a.wav</td>\n",
              "      <td>indoor</td>\n",
              "      <td>stockholm-85</td>\n",
              "    </tr>\n",
              "    <tr>\n",
              "      <th>3224</th>\n",
              "      <td>audio/metro_station-lisbon-1020-42471-a.wav</td>\n",
              "      <td>indoor</td>\n",
              "      <td>lisbon-1020</td>\n",
              "    </tr>\n",
              "    <tr>\n",
              "      <th>9294</th>\n",
              "      <td>audio/shopping_mall-lyon-1066-42583-a.wav</td>\n",
              "      <td>indoor</td>\n",
              "      <td>lyon-1066</td>\n",
              "    </tr>\n",
              "  </tbody>\n",
              "</table>\n",
              "</div>"
            ],
            "text/plain": [
              "                                         filename scene_label    identifier\n",
              "3028  audio/metro_station-helsinki-231-6952-a.wav      indoor  helsinki-231\n",
              "9493   audio/shopping_mall-milan-1183-45376-a.wav      indoor    milan-1183\n",
              "4163  audio/metro_station-stockholm-85-2308-a.wav      indoor  stockholm-85\n",
              "3224  audio/metro_station-lisbon-1020-42471-a.wav      indoor   lisbon-1020\n",
              "9294    audio/shopping_mall-lyon-1066-42583-a.wav      indoor     lyon-1066"
            ]
          },
          "metadata": {
            "tags": []
          },
          "execution_count": 10
        },
        {
          "output_type": "stream",
          "text": [
            "time: 26 ms\n"
          ],
          "name": "stdout"
        }
      ]
    },
    {
      "cell_type": "code",
      "metadata": {
        "id": "sCJ2fzdrMK4z",
        "colab_type": "code",
        "outputId": "1331f47c-6b83-42fc-c108-6556c0c5c9b7",
        "colab": {
          "base_uri": "https://localhost:8080/",
          "height": 92
        }
      },
      "source": [
        "print(df.loc[df['scene_label'] == 'outdoor'].shape)\n",
        "print(df.loc[df['scene_label'] == 'indoor'].shape)\n",
        "print(df.loc[df['scene_label'] == 'transportation'].shape)"
      ],
      "execution_count": 11,
      "outputs": [
        {
          "output_type": "stream",
          "text": [
            "(10, 3)\n",
            "(10, 3)\n",
            "(10, 3)\n",
            "time: 7.88 ms\n"
          ],
          "name": "stdout"
        }
      ]
    },
    {
      "cell_type": "markdown",
      "metadata": {
        "id": "EBiTL-q4rx4m",
        "colab_type": "text"
      },
      "source": [
        "Reading the datasets and storing it to 'signals'"
      ]
    },
    {
      "cell_type": "code",
      "metadata": {
        "id": "toPMMVMwr8T1",
        "colab_type": "code",
        "outputId": "e350b423-c582-435e-c126-0f528aee0167",
        "colab": {
          "base_uri": "https://localhost:8080/",
          "height": 36
        }
      },
      "source": [
        "info_sound = df[['filename','scene_label']].to_numpy()\n",
        "LABELS = ['indoor', 'outdoor', 'transportation']"
      ],
      "execution_count": 12,
      "outputs": [
        {
          "output_type": "stream",
          "text": [
            "time: 5.47 ms\n"
          ],
          "name": "stdout"
        }
      ]
    },
    {
      "cell_type": "code",
      "metadata": {
        "id": "aS-Ks9WpNZu5",
        "colab_type": "code",
        "outputId": "38b998d9-5bac-481f-fa4b-8cd2b31e6e97",
        "colab": {
          "base_uri": "https://localhost:8080/",
          "height": 167
        }
      },
      "source": [
        "dic_signals = {x:[] for i, x in enumerate(LABELS)}\n",
        "\n",
        "for filename, label in info_sound:\n",
        "    #print(filename, label)\n",
        "    if(path.isfile(os.path.join(DIR_AUDIO, filename))):\n",
        "        dic_signals[label].append(sf.read(os.path.join(DIR_AUDIO, filename)))\n",
        "        continue\n",
        "    else:\n",
        "        print(filename)\n",
        "\n",
        "#signals = np.asarray(signals)"
      ],
      "execution_count": 15,
      "outputs": [
        {
          "output_type": "stream",
          "text": [
            "audio/shopping_mall-prague-1219-44349-a.wav\n",
            "audio/street_pedestrian-lisbon-1004-40735-a.wav\n",
            "audio/street_pedestrian-barcelona-141-4300-a.wav\n",
            "audio/tram-milan-1222-44502-a.wav\n",
            "audio/metro-stockholm-57-1703-a.wav\n",
            "audio/tram-lyon-1112-43455-a.wav\n",
            "audio/tram-lyon-1225-45564-a.wav\n",
            "time: 19 s\n"
          ],
          "name": "stdout"
        }
      ]
    },
    {
      "cell_type": "code",
      "metadata": {
        "id": "ZDeu62ADwBEs",
        "colab_type": "code",
        "outputId": "f8b9f1e4-d34c-4a04-b260-785ad5645b81",
        "colab": {
          "base_uri": "https://localhost:8080/",
          "height": 36
        }
      },
      "source": [
        "len(dic_signals.get('transportation'))"
      ],
      "execution_count": 16,
      "outputs": [
        {
          "output_type": "execute_result",
          "data": {
            "text/plain": [
              "6"
            ]
          },
          "metadata": {
            "tags": []
          },
          "execution_count": 16
        },
        {
          "output_type": "stream",
          "text": [
            "time: 3.99 ms\n"
          ],
          "name": "stdout"
        }
      ]
    },
    {
      "cell_type": "markdown",
      "metadata": {
        "id": "zCC0EbABtCfB",
        "colab_type": "text"
      },
      "source": [
        "Labels:\n",
        "\n",
        "\n",
        "0.   Indoor\n",
        "1.   Outdoor\n",
        "2.   Transportation\n",
        "\n"
      ]
    },
    {
      "cell_type": "markdown",
      "metadata": {
        "id": "3eQS2FIKz-3Y",
        "colab_type": "text"
      },
      "source": [
        "# Getting Features\n",
        "\n",
        "1.   Centroid Mean\n",
        "2.   Centroid STD\n",
        "3.   Flatness Mean\n",
        "4.   Flatness STD\n",
        "5.   RMS\n"
      ]
    },
    {
      "cell_type": "code",
      "metadata": {
        "id": "Pm5iFAKX0Chn",
        "colab_type": "code",
        "outputId": "135beaf7-0794-4b49-9036-9c8f0329b57b",
        "colab": {
          "base_uri": "https://localhost:8080/",
          "height": 36
        }
      },
      "source": [
        "def get_features(dic_signals)->pd.DataFrame:\n",
        "    def get_centroid(S):\n",
        "        return librosa.feature.spectral_centroid(S=S)\n",
        "    def get_flatness(S):\n",
        "        return librosa.feature.spectral_flatness(S=S)\n",
        "    def get_rms(s):\n",
        "        return librosa.feature.rms(s, hop_length=1024)\n",
        "    def stft(signal):\n",
        "        return np.abs(librosa.stft(signal[:,0], hop_length=1024))\n",
        "\n",
        "    info = {'Centroid Mean':[], \n",
        "        'Centroid STD': [], \n",
        "        'Flatness Mean':[],\n",
        "        'Flatness STD':[],\n",
        "        'RMS':[],\n",
        "        'Target': []} \n",
        "    for label, signals in dic_signals.items():\n",
        "        i = 1\n",
        "        for signal, samplerate in signals:\n",
        "            #print(i)\n",
        "            stft_transform = stft(signal)\n",
        "            mel = librosa.feature.melspectrogram(y=signal[:,0],sr=samplerate)\n",
        "            info['Target'].append(label)\n",
        "            c = get_centroid(mel)\n",
        "            c = c[0]\n",
        "            info['Centroid Mean'].append(np.mean(c))\n",
        "            info['Centroid STD'].append(np.std(c))\n",
        "            f = get_flatness(mel)\n",
        "            f = f[0]\n",
        "            info['Flatness Mean'].append(np.mean(f))\n",
        "            info['Flatness STD'].append(np.std(f))\n",
        "            r = get_rms(mel)\n",
        "            r = round(r[0][0],3)\n",
        "            info['RMS'].append(r) \n",
        "            i += 1\n",
        "    return pd.DataFrame(info)\n",
        "        \n"
      ],
      "execution_count": 17,
      "outputs": [
        {
          "output_type": "stream",
          "text": [
            "time: 29.9 ms\n"
          ],
          "name": "stdout"
        }
      ]
    },
    {
      "cell_type": "code",
      "metadata": {
        "id": "1C4HGGUE0Fsx",
        "colab_type": "code",
        "outputId": "696f5bce-0f90-4442-ffab-a34be1f5e040",
        "colab": {
          "base_uri": "https://localhost:8080/",
          "height": 789
        }
      },
      "source": [
        "df = get_features(dic_signals)\n",
        "df"
      ],
      "execution_count": 18,
      "outputs": [
        {
          "output_type": "execute_result",
          "data": {
            "text/html": [
              "<div>\n",
              "<style scoped>\n",
              "    .dataframe tbody tr th:only-of-type {\n",
              "        vertical-align: middle;\n",
              "    }\n",
              "\n",
              "    .dataframe tbody tr th {\n",
              "        vertical-align: top;\n",
              "    }\n",
              "\n",
              "    .dataframe thead th {\n",
              "        text-align: right;\n",
              "    }\n",
              "</style>\n",
              "<table border=\"1\" class=\"dataframe\">\n",
              "  <thead>\n",
              "    <tr style=\"text-align: right;\">\n",
              "      <th></th>\n",
              "      <th>Centroid Mean</th>\n",
              "      <th>Centroid STD</th>\n",
              "      <th>Flatness Mean</th>\n",
              "      <th>Flatness STD</th>\n",
              "      <th>RMS</th>\n",
              "      <th>Target</th>\n",
              "    </tr>\n",
              "  </thead>\n",
              "  <tbody>\n",
              "    <tr>\n",
              "      <th>0</th>\n",
              "      <td>361.191092</td>\n",
              "      <td>190.575939</td>\n",
              "      <td>8.318718e-05</td>\n",
              "      <td>1.376274e-04</td>\n",
              "      <td>0.002</td>\n",
              "      <td>indoor</td>\n",
              "    </tr>\n",
              "    <tr>\n",
              "      <th>1</th>\n",
              "      <td>678.002825</td>\n",
              "      <td>223.700505</td>\n",
              "      <td>1.373056e-04</td>\n",
              "      <td>1.980706e-04</td>\n",
              "      <td>0.004</td>\n",
              "      <td>indoor</td>\n",
              "    </tr>\n",
              "    <tr>\n",
              "      <th>2</th>\n",
              "      <td>1549.646275</td>\n",
              "      <td>322.113395</td>\n",
              "      <td>9.913436e-04</td>\n",
              "      <td>1.462120e-03</td>\n",
              "      <td>0.046</td>\n",
              "      <td>indoor</td>\n",
              "    </tr>\n",
              "    <tr>\n",
              "      <th>3</th>\n",
              "      <td>670.718124</td>\n",
              "      <td>236.158911</td>\n",
              "      <td>6.323809e-05</td>\n",
              "      <td>5.154674e-04</td>\n",
              "      <td>0.611</td>\n",
              "      <td>indoor</td>\n",
              "    </tr>\n",
              "    <tr>\n",
              "      <th>4</th>\n",
              "      <td>1139.123910</td>\n",
              "      <td>315.588389</td>\n",
              "      <td>3.377442e-03</td>\n",
              "      <td>2.949919e-03</td>\n",
              "      <td>0.000</td>\n",
              "      <td>indoor</td>\n",
              "    </tr>\n",
              "    <tr>\n",
              "      <th>5</th>\n",
              "      <td>1104.943624</td>\n",
              "      <td>450.989040</td>\n",
              "      <td>5.643040e-04</td>\n",
              "      <td>7.559241e-04</td>\n",
              "      <td>0.006</td>\n",
              "      <td>indoor</td>\n",
              "    </tr>\n",
              "    <tr>\n",
              "      <th>6</th>\n",
              "      <td>379.427770</td>\n",
              "      <td>178.839471</td>\n",
              "      <td>1.978951e-04</td>\n",
              "      <td>3.362447e-04</td>\n",
              "      <td>0.001</td>\n",
              "      <td>indoor</td>\n",
              "    </tr>\n",
              "    <tr>\n",
              "      <th>7</th>\n",
              "      <td>778.802857</td>\n",
              "      <td>239.771808</td>\n",
              "      <td>5.547340e-04</td>\n",
              "      <td>6.012878e-04</td>\n",
              "      <td>0.001</td>\n",
              "      <td>indoor</td>\n",
              "    </tr>\n",
              "    <tr>\n",
              "      <th>8</th>\n",
              "      <td>407.019774</td>\n",
              "      <td>160.118229</td>\n",
              "      <td>5.886464e-05</td>\n",
              "      <td>7.167951e-05</td>\n",
              "      <td>0.002</td>\n",
              "      <td>indoor</td>\n",
              "    </tr>\n",
              "    <tr>\n",
              "      <th>9</th>\n",
              "      <td>437.505044</td>\n",
              "      <td>242.542258</td>\n",
              "      <td>3.655301e-05</td>\n",
              "      <td>1.001096e-04</td>\n",
              "      <td>0.020</td>\n",
              "      <td>outdoor</td>\n",
              "    </tr>\n",
              "    <tr>\n",
              "      <th>10</th>\n",
              "      <td>466.475049</td>\n",
              "      <td>243.339952</td>\n",
              "      <td>1.688194e-05</td>\n",
              "      <td>3.959692e-05</td>\n",
              "      <td>0.054</td>\n",
              "      <td>outdoor</td>\n",
              "    </tr>\n",
              "    <tr>\n",
              "      <th>11</th>\n",
              "      <td>1243.831590</td>\n",
              "      <td>476.140067</td>\n",
              "      <td>1.002064e-04</td>\n",
              "      <td>1.191311e-04</td>\n",
              "      <td>0.051</td>\n",
              "      <td>outdoor</td>\n",
              "    </tr>\n",
              "    <tr>\n",
              "      <th>12</th>\n",
              "      <td>321.299663</td>\n",
              "      <td>139.438678</td>\n",
              "      <td>8.327675e-05</td>\n",
              "      <td>1.708074e-04</td>\n",
              "      <td>0.002</td>\n",
              "      <td>outdoor</td>\n",
              "    </tr>\n",
              "    <tr>\n",
              "      <th>13</th>\n",
              "      <td>477.903168</td>\n",
              "      <td>258.560986</td>\n",
              "      <td>4.802563e-05</td>\n",
              "      <td>8.413480e-05</td>\n",
              "      <td>0.022</td>\n",
              "      <td>outdoor</td>\n",
              "    </tr>\n",
              "    <tr>\n",
              "      <th>14</th>\n",
              "      <td>195.826517</td>\n",
              "      <td>120.380767</td>\n",
              "      <td>1.035129e-05</td>\n",
              "      <td>3.487740e-05</td>\n",
              "      <td>0.015</td>\n",
              "      <td>outdoor</td>\n",
              "    </tr>\n",
              "    <tr>\n",
              "      <th>15</th>\n",
              "      <td>393.018778</td>\n",
              "      <td>215.838079</td>\n",
              "      <td>4.081079e-04</td>\n",
              "      <td>7.730951e-04</td>\n",
              "      <td>0.001</td>\n",
              "      <td>outdoor</td>\n",
              "    </tr>\n",
              "    <tr>\n",
              "      <th>16</th>\n",
              "      <td>1037.191153</td>\n",
              "      <td>373.411437</td>\n",
              "      <td>7.126894e-04</td>\n",
              "      <td>1.011369e-03</td>\n",
              "      <td>0.002</td>\n",
              "      <td>outdoor</td>\n",
              "    </tr>\n",
              "    <tr>\n",
              "      <th>17</th>\n",
              "      <td>146.488187</td>\n",
              "      <td>69.880731</td>\n",
              "      <td>3.658121e-07</td>\n",
              "      <td>1.167174e-06</td>\n",
              "      <td>0.111</td>\n",
              "      <td>transportation</td>\n",
              "    </tr>\n",
              "    <tr>\n",
              "      <th>18</th>\n",
              "      <td>429.758708</td>\n",
              "      <td>232.135615</td>\n",
              "      <td>1.700920e-06</td>\n",
              "      <td>3.543403e-06</td>\n",
              "      <td>0.226</td>\n",
              "      <td>transportation</td>\n",
              "    </tr>\n",
              "    <tr>\n",
              "      <th>19</th>\n",
              "      <td>577.422182</td>\n",
              "      <td>374.701983</td>\n",
              "      <td>1.096645e-04</td>\n",
              "      <td>1.683359e-04</td>\n",
              "      <td>0.006</td>\n",
              "      <td>transportation</td>\n",
              "    </tr>\n",
              "    <tr>\n",
              "      <th>20</th>\n",
              "      <td>59.348174</td>\n",
              "      <td>24.754801</td>\n",
              "      <td>2.704789e-09</td>\n",
              "      <td>1.279657e-08</td>\n",
              "      <td>1.985</td>\n",
              "      <td>transportation</td>\n",
              "    </tr>\n",
              "    <tr>\n",
              "      <th>21</th>\n",
              "      <td>211.344347</td>\n",
              "      <td>140.691387</td>\n",
              "      <td>4.718206e-06</td>\n",
              "      <td>2.356448e-05</td>\n",
              "      <td>0.052</td>\n",
              "      <td>transportation</td>\n",
              "    </tr>\n",
              "    <tr>\n",
              "      <th>22</th>\n",
              "      <td>269.740595</td>\n",
              "      <td>71.190126</td>\n",
              "      <td>1.643892e-07</td>\n",
              "      <td>2.535851e-07</td>\n",
              "      <td>0.895</td>\n",
              "      <td>transportation</td>\n",
              "    </tr>\n",
              "  </tbody>\n",
              "</table>\n",
              "</div>"
            ],
            "text/plain": [
              "    Centroid Mean  Centroid STD  ...    RMS          Target\n",
              "0      361.191092    190.575939  ...  0.002          indoor\n",
              "1      678.002825    223.700505  ...  0.004          indoor\n",
              "2     1549.646275    322.113395  ...  0.046          indoor\n",
              "3      670.718124    236.158911  ...  0.611          indoor\n",
              "4     1139.123910    315.588389  ...  0.000          indoor\n",
              "5     1104.943624    450.989040  ...  0.006          indoor\n",
              "6      379.427770    178.839471  ...  0.001          indoor\n",
              "7      778.802857    239.771808  ...  0.001          indoor\n",
              "8      407.019774    160.118229  ...  0.002          indoor\n",
              "9      437.505044    242.542258  ...  0.020         outdoor\n",
              "10     466.475049    243.339952  ...  0.054         outdoor\n",
              "11    1243.831590    476.140067  ...  0.051         outdoor\n",
              "12     321.299663    139.438678  ...  0.002         outdoor\n",
              "13     477.903168    258.560986  ...  0.022         outdoor\n",
              "14     195.826517    120.380767  ...  0.015         outdoor\n",
              "15     393.018778    215.838079  ...  0.001         outdoor\n",
              "16    1037.191153    373.411437  ...  0.002         outdoor\n",
              "17     146.488187     69.880731  ...  0.111  transportation\n",
              "18     429.758708    232.135615  ...  0.226  transportation\n",
              "19     577.422182    374.701983  ...  0.006  transportation\n",
              "20      59.348174     24.754801  ...  1.985  transportation\n",
              "21     211.344347    140.691387  ...  0.052  transportation\n",
              "22     269.740595     71.190126  ...  0.895  transportation\n",
              "\n",
              "[23 rows x 6 columns]"
            ]
          },
          "metadata": {
            "tags": []
          },
          "execution_count": 18
        },
        {
          "output_type": "stream",
          "text": [
            "time: 2.84 s\n"
          ],
          "name": "stdout"
        }
      ]
    },
    {
      "cell_type": "code",
      "metadata": {
        "id": "tAjJ7sSEMowE",
        "colab_type": "code",
        "outputId": "b9623999-f30a-4c74-9c90-c7283e480c16",
        "colab": {
          "base_uri": "https://localhost:8080/",
          "height": 36
        }
      },
      "source": [
        "from sklearn.preprocessing import StandardScaler\n",
        "scaler = StandardScaler()"
      ],
      "execution_count": 19,
      "outputs": [
        {
          "output_type": "stream",
          "text": [
            "time: 995 µs\n"
          ],
          "name": "stdout"
        }
      ]
    },
    {
      "cell_type": "code",
      "metadata": {
        "id": "NNMn3pb1NmyJ",
        "colab_type": "code",
        "outputId": "3e9f18ed-475b-48b7-df76-bd0c19af55ed",
        "colab": {
          "base_uri": "https://localhost:8080/",
          "height": 36
        }
      },
      "source": [
        "X,y = df.iloc[:,0:-1], df['Target'].values"
      ],
      "execution_count": 20,
      "outputs": [
        {
          "output_type": "stream",
          "text": [
            "time: 1.93 ms\n"
          ],
          "name": "stdout"
        }
      ]
    },
    {
      "cell_type": "code",
      "metadata": {
        "id": "cvXh-1GSNpqw",
        "colab_type": "code",
        "outputId": "f11feb58-ac69-4b93-db6b-9a8fe4f5ead6",
        "colab": {
          "base_uri": "https://localhost:8080/",
          "height": 36
        }
      },
      "source": [
        "# splitting the data into training and test sets (80:20)\n",
        "from sklearn.model_selection import train_test_split\n",
        "X_train, X_test, y_train, y_test = train_test_split(X, y, test_size=0.2, random_state=42)\n",
        "scaler.fit(X_train)\n",
        "X_train = scaler.transform(X_train)\n",
        "X_test = scaler.transform(X_test)"
      ],
      "execution_count": 22,
      "outputs": [
        {
          "output_type": "stream",
          "text": [
            "time: 9.57 ms\n"
          ],
          "name": "stdout"
        }
      ]
    },
    {
      "cell_type": "code",
      "metadata": {
        "id": "LY70ZtEXNxAM",
        "colab_type": "code",
        "outputId": "9301787e-a4a5-413f-dbf0-f21d83ce2b88",
        "colab": {
          "base_uri": "https://localhost:8080/",
          "height": 36
        }
      },
      "source": [
        "from sklearn.neighbors import KNeighborsClassifier\n",
        "from sklearn import metrics"
      ],
      "execution_count": 23,
      "outputs": [
        {
          "output_type": "stream",
          "text": [
            "time: 1.15 ms\n"
          ],
          "name": "stdout"
        }
      ]
    },
    {
      "cell_type": "markdown",
      "metadata": {
        "id": "V8M6lD3EtV9m",
        "colab_type": "text"
      },
      "source": [
        "# Building a KNN Model"
      ]
    },
    {
      "cell_type": "code",
      "metadata": {
        "id": "ZfChOFvpN4G_",
        "colab_type": "code",
        "outputId": "ed5908ec-dbed-4794-a772-77db461f7834",
        "colab": {
          "base_uri": "https://localhost:8080/",
          "height": 36
        }
      },
      "source": [
        "def knn_classifier(X_train, X_test, y_train, k):\n",
        "    print(k)\n",
        "    knn = KNeighborsClassifier(n_neighbors = k)\n",
        "    knn.fit(X_train,y_train)\n",
        "    y_pred = knn.predict(X_test)\n",
        "    return [y_pred, metrics.accuracy_score(y_test,y_pred)]\n",
        "\n",
        "def get_k_accuracy(X_train, X_test, y_train, y_test): \n",
        "\n",
        "    def plot_scores(x,y):\n",
        "        fig, a = plt.subplots(1, figsize = (10, 8))\n",
        "        title = \"Accuracy Score by K values\"\n",
        "        plt.title(title)\n",
        "        plt.xlabel('Value of K for KNN')\n",
        "        plt.ylabel('Testing Accuracy')\n",
        "        a.plot(x, y)\n",
        "\n",
        "    k_range = range(1,10)\n",
        "    scores = {}\n",
        "    scores_list = []\n",
        "\n",
        "    for k in k_range:\n",
        "        y_pred, scores[k] = knn_classifier(X_train, X_test, y_train, k)\n",
        "        scores_list.append(scores[k])\n",
        "\n",
        "    plot_scores(list(k_range), scores_list)\n",
        "    print('Accuracy: ' + str(scores[max(scores, key= scores.get)]))\n",
        "    return max(scores, key= scores.get)\n",
        "\n"
      ],
      "execution_count": 42,
      "outputs": [
        {
          "output_type": "stream",
          "text": [
            "time: 17.8 ms\n"
          ],
          "name": "stdout"
        }
      ]
    },
    {
      "cell_type": "code",
      "metadata": {
        "id": "VBmcnv4aOCKQ",
        "colab_type": "code",
        "outputId": "ff20d995-f198-44ab-82aa-43d9994203bf",
        "colab": {
          "base_uri": "https://localhost:8080/",
          "height": 719
        }
      },
      "source": [
        "k = get_k_accuracy(X_train,X_test, y_train, y_test)\n",
        "knn = KNeighborsClassifier(n_neighbors=k)\n",
        "knn.fit(X_train,y_train)\n",
        "y_pred = knn.predict(X_test)"
      ],
      "execution_count": 43,
      "outputs": [
        {
          "output_type": "stream",
          "text": [
            "1\n",
            "2\n",
            "3\n",
            "4\n",
            "5\n",
            "6\n",
            "7\n",
            "8\n",
            "9\n",
            "Accuracy: 0.6\n"
          ],
          "name": "stdout"
        },
        {
          "output_type": "display_data",
          "data": {
            "image/png": "[encoded data removed]",
            "text/plain": [
              "<Figure size 720x576 with 1 Axes>"
            ]
          },
          "metadata": {
            "tags": []
          }
        },
        {
          "output_type": "stream",
          "text": [
            "time: 265 ms\n"
          ],
          "name": "stdout"
        }
      ]
    },
    {
      "cell_type": "code",
      "metadata": {
        "id": "9N0FXV-9t36N",
        "colab_type": "code",
        "outputId": "b76c75c9-2073-4a66-a742-7d2acf8827d7",
        "colab": {
          "base_uri": "https://localhost:8080/",
          "height": 36
        }
      },
      "source": [
        "a = [l for y in y_test for i, l in enumerate(LABELS) if y==i]\n",
        "a"
      ],
      "execution_count": 44,
      "outputs": [
        {
          "output_type": "execute_result",
          "data": {
            "text/plain": [
              "[]"
            ]
          },
          "metadata": {
            "tags": []
          },
          "execution_count": 44
        },
        {
          "output_type": "stream",
          "text": [
            "time: 3.67 ms\n"
          ],
          "name": "stdout"
        }
      ]
    },
    {
      "cell_type": "code",
      "metadata": {
        "id": "h1JGSISJOGJC",
        "colab_type": "code",
        "outputId": "fe8e14d0-2988-4801-d6df-8a852dfe202b",
        "colab": {
          "base_uri": "https://localhost:8080/",
          "height": 425
        }
      },
      "source": [
        "from sklearn.decomposition import PCA\n",
        "import seaborn as sns\n",
        "\n",
        "pca1 = PCA(2)\n",
        "trans_pca1 = pca1.fit_transform(X_test)\n",
        "trans_pca1 = pd.DataFrame(trans_pca1)\n",
        "trans_pca1['Labels'] = y_test\n",
        "#trans_pca1['Labels'] = [l for y in y_test for i, l in enumerate(LABELS) if y==i]\n",
        "trans_pca1.columns = ['PC1', 'PC2', 'Labels']\n",
        "trans_pca1.head()\n",
        "plt.figure(figsize=(10,6))\n",
        "sns.scatterplot(x=trans_pca1['PC1'], y=trans_pca1['PC2'], hue=trans_pca1['Labels'])"
      ],
      "execution_count": 45,
      "outputs": [
        {
          "output_type": "execute_result",
          "data": {
            "text/plain": [
              "<matplotlib.axes._subplots.AxesSubplot at 0x7f82620a6cf8>"
            ]
          },
          "metadata": {
            "tags": []
          },
          "execution_count": 45
        },
        {
          "output_type": "display_data",
          "data": {
            "image/png": "[encoded data removed]",
            "text/plain": [
              "<Figure size 720x432 with 1 Axes>"
            ]
          },
          "metadata": {
            "tags": []
          }
        },
        {
          "output_type": "stream",
          "text": [
            "time: 385 ms\n"
          ],
          "name": "stdout"
        }
      ]
    }
  ]
}