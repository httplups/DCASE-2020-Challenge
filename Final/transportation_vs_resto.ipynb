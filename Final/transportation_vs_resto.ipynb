{
  "nbformat": 4,
  "nbformat_minor": 0,
  "metadata": {
    "colab": {
      "name": "transportation vs resto.ipynb",
      "provenance": [],
      "collapsed_sections": [],
      "toc_visible": true,
      "machine_shape": "hm"
    },
    "kernelspec": {
      "name": "python3",
      "display_name": "Python 3"
    }
  },
  "cells": [
    {
      "cell_type": "markdown",
      "metadata": {
        "id": "jLOsGEKC7NmK",
        "colab_type": "text"
      },
      "source": [
        "# Treinamento do Modelo Transportation x Resto (Não transportation)\n",
        "Luana Barros"
      ]
    },
    {
      "cell_type": "code",
      "metadata": {
        "id": "ptGENpqklOQv",
        "colab_type": "code",
        "colab": {}
      },
      "source": [
        "import matplotlib.pyplot as plt\n",
        "import numpy as np # linear algebra\n",
        "import pandas as pd\n",
        "import librosa\n",
        "import librosa.display\n",
        "import os\n",
        "from os import path\n",
        "import io\n",
        "!pip3 install soundfile\n",
        "!pip3 install librosa\n",
        "import soundfile as sf\n",
        "import librosa.feature\n"
      ],
      "execution_count": 0,
      "outputs": []
    },
    {
      "cell_type": "code",
      "metadata": {
        "id": "c-kU_a0NruyM",
        "colab_type": "code",
        "colab": {}
      },
      "source": [
        "!pip install ipython-autotime\n",
        "\n",
        "%load_ext autotime"
      ],
      "execution_count": 0,
      "outputs": []
    },
    {
      "cell_type": "markdown",
      "metadata": {
        "id": "r7aioLqSfKgT",
        "colab_type": "text"
      },
      "source": [
        "Dataset de nomes e labels de todas as músicas, disponibilizado pelo DCASE"
      ]
    },
    {
      "cell_type": "code",
      "metadata": {
        "id": "_AtrE-Kwmk5b",
        "colab_type": "code",
        "outputId": "03254d05-c5c6-451b-8ea1-f1829d4f2206",
        "colab": {
          "base_uri": "https://localhost:8080/",
          "height": 219
        }
      },
      "source": [
        "DIR = '/content/drive/My Drive/DCASE 2020 Challenge/TAU Urban Acoustic Scenes 2020 3Class' \n",
        "DIR_AUDIO = DIR + '/soundfiles/TAU-urban-acoustic-scenes-2020-3class-development/'\n",
        "df_meta = pd.read_csv(f'{DIR}/meta.csv')\n",
        "df_meta = pd.read_csv(io.StringIO(df_meta.to_csv(index=False)))\n",
        "df_meta.head()"
      ],
      "execution_count": 4,
      "outputs": [
        {
          "output_type": "execute_result",
          "data": {
            "text/html": [
              "<div>\n",
              "<style scoped>\n",
              "    .dataframe tbody tr th:only-of-type {\n",
              "        vertical-align: middle;\n",
              "    }\n",
              "\n",
              "    .dataframe tbody tr th {\n",
              "        vertical-align: top;\n",
              "    }\n",
              "\n",
              "    .dataframe thead th {\n",
              "        text-align: right;\n",
              "    }\n",
              "</style>\n",
              "<table border=\"1\" class=\"dataframe\">\n",
              "  <thead>\n",
              "    <tr style=\"text-align: right;\">\n",
              "      <th></th>\n",
              "      <th>filename</th>\n",
              "      <th>scene_label</th>\n",
              "      <th>identifier</th>\n",
              "    </tr>\n",
              "  </thead>\n",
              "  <tbody>\n",
              "    <tr>\n",
              "      <th>0</th>\n",
              "      <td>audio/airport-barcelona-0-0-a.wav</td>\n",
              "      <td>indoor</td>\n",
              "      <td>barcelona-0</td>\n",
              "    </tr>\n",
              "    <tr>\n",
              "      <th>1</th>\n",
              "      <td>audio/airport-barcelona-0-10-a.wav</td>\n",
              "      <td>indoor</td>\n",
              "      <td>barcelona-0</td>\n",
              "    </tr>\n",
              "    <tr>\n",
              "      <th>2</th>\n",
              "      <td>audio/airport-barcelona-0-11-a.wav</td>\n",
              "      <td>indoor</td>\n",
              "      <td>barcelona-0</td>\n",
              "    </tr>\n",
              "    <tr>\n",
              "      <th>3</th>\n",
              "      <td>audio/airport-barcelona-0-12-a.wav</td>\n",
              "      <td>indoor</td>\n",
              "      <td>barcelona-0</td>\n",
              "    </tr>\n",
              "    <tr>\n",
              "      <th>4</th>\n",
              "      <td>audio/airport-barcelona-0-13-a.wav</td>\n",
              "      <td>indoor</td>\n",
              "      <td>barcelona-0</td>\n",
              "    </tr>\n",
              "  </tbody>\n",
              "</table>\n",
              "</div>"
            ],
            "text/plain": [
              "                             filename scene_label   identifier\n",
              "0   audio/airport-barcelona-0-0-a.wav      indoor  barcelona-0\n",
              "1  audio/airport-barcelona-0-10-a.wav      indoor  barcelona-0\n",
              "2  audio/airport-barcelona-0-11-a.wav      indoor  barcelona-0\n",
              "3  audio/airport-barcelona-0-12-a.wav      indoor  barcelona-0\n",
              "4  audio/airport-barcelona-0-13-a.wav      indoor  barcelona-0"
            ]
          },
          "metadata": {
            "tags": []
          },
          "execution_count": 4
        },
        {
          "output_type": "stream",
          "text": [
            "time: 1.06 s\n"
          ],
          "name": "stdout"
        }
      ]
    },
    {
      "cell_type": "code",
      "metadata": {
        "id": "q6L872Z-O6wk",
        "colab_type": "code",
        "outputId": "3456c8e7-4b20-4094-b7c6-365df8dec619",
        "colab": {
          "base_uri": "https://localhost:8080/",
          "height": 35
        }
      },
      "source": [
        "df_meta.values.shape"
      ],
      "execution_count": 5,
      "outputs": [
        {
          "output_type": "execute_result",
          "data": {
            "text/plain": [
              "(14400, 3)"
            ]
          },
          "metadata": {
            "tags": []
          },
          "execution_count": 5
        },
        {
          "output_type": "stream",
          "text": [
            "time: 2.98 ms\n"
          ],
          "name": "stdout"
        }
      ]
    },
    {
      "cell_type": "code",
      "metadata": {
        "id": "EvDHWYYgGNsr",
        "colab_type": "code",
        "outputId": "80d3b35a-01f7-491f-cf9b-0a661995fcd4",
        "colab": {
          "base_uri": "https://localhost:8080/",
          "height": 35
        }
      },
      "source": [
        "df_meta = df_meta[df_meta['scene_label'] != 'transportation']"
      ],
      "execution_count": 6,
      "outputs": [
        {
          "output_type": "stream",
          "text": [
            "time: 4.2 ms\n"
          ],
          "name": "stdout"
        }
      ]
    },
    {
      "cell_type": "code",
      "metadata": {
        "id": "sCJ2fzdrMK4z",
        "colab_type": "code",
        "outputId": "2636c5b4-0118-42f4-b017-4b65328284b3",
        "colab": {
          "base_uri": "https://localhost:8080/",
          "height": 87
        }
      },
      "source": [
        "print(df_meta.loc[df_meta['scene_label'] == 'outdoor'].shape)\n",
        "print(df_meta.loc[df_meta['scene_label'] == 'indoor'].shape)\n",
        "print(df_meta.loc[df_meta['scene_label'] == 'transportation'].shape)"
      ],
      "execution_count": 7,
      "outputs": [
        {
          "output_type": "stream",
          "text": [
            "(5760, 3)\n",
            "(4320, 3)\n",
            "(0, 3)\n",
            "time: 8.34 ms\n"
          ],
          "name": "stdout"
        }
      ]
    },
    {
      "cell_type": "markdown",
      "metadata": {
        "id": "EBiTL-q4rx4m",
        "colab_type": "text"
      },
      "source": [
        "Reading the datasets and storing it to 'signals'"
      ]
    },
    {
      "cell_type": "code",
      "metadata": {
        "id": "toPMMVMwr8T1",
        "colab_type": "code",
        "outputId": "4a8ce617-df83-4faf-a7b6-c6213d62b5a8",
        "colab": {
          "base_uri": "https://localhost:8080/",
          "height": 35
        }
      },
      "source": [
        "info_sound = df_meta[['filename','scene_label']].to_numpy()\n",
        "np.unique(info_sound).shape"
      ],
      "execution_count": 8,
      "outputs": [
        {
          "output_type": "execute_result",
          "data": {
            "text/plain": [
              "(10082,)"
            ]
          },
          "metadata": {
            "tags": []
          },
          "execution_count": 8
        },
        {
          "output_type": "stream",
          "text": [
            "time: 17.6 ms\n"
          ],
          "name": "stdout"
        }
      ]
    },
    {
      "cell_type": "code",
      "metadata": {
        "id": "A587AkAuzyl8",
        "colab_type": "code",
        "outputId": "71f871dd-a699-4a78-ae6a-ae08ea9cf1c9",
        "colab": {
          "base_uri": "https://localhost:8080/",
          "height": 35
        }
      },
      "source": [
        "FILEPATH = '/content/drive/My Drive/DCASE 2020 Challenge/TAU Urban Acoustic Scenes 2020 3Class/features.csv'\n",
        "BASE_PATH = '/content/drive/My Drive/DCASE 2020 Challenge/TAU Urban Acoustic Scenes 2020 3Class/'"
      ],
      "execution_count": 10,
      "outputs": [
        {
          "output_type": "stream",
          "text": [
            "time: 1.03 ms\n"
          ],
          "name": "stdout"
        }
      ]
    },
    {
      "cell_type": "markdown",
      "metadata": {
        "id": "zCC0EbABtCfB",
        "colab_type": "text"
      },
      "source": [
        "Labels:\n",
        "\n",
        "\n",
        "0.   Indoor\n",
        "1.   Outdoor\n",
        "2.   Transportation\n",
        "\n"
      ]
    },
    {
      "cell_type": "markdown",
      "metadata": {
        "id": "iaishw-99JQl",
        "colab_type": "text"
      },
      "source": [
        "Função que calcula as features de uma única música, NÃO dividindo o sinal e salva no final de um dataframe de features lido posteriormente"
      ]
    },
    {
      "cell_type": "code",
      "metadata": {
        "id": "Pm5iFAKX0Chn",
        "colab_type": "code",
        "outputId": "0840144d-9171-46e8-a453-9358b043d001",
        "colab": {
          "base_uri": "https://localhost:8080/",
          "height": 35
        }
      },
      "source": [
        "PARTS = 10\n",
        "def get_features(filename, signal, label)->pd.DataFrame:\n",
        "    def get_centroid(y, sr):\n",
        "        return librosa.feature.spectral_centroid(y=y, sr=sr)\n",
        "    def get_flatness(y):\n",
        "        return librosa.feature.spectral_flatness(y=y)\n",
        "    def get_rms(y):\n",
        "        return librosa.feature.rms(y=y)\n",
        "    def get_mfccs(y, sr):\n",
        "        return librosa.feature.mfcc(y=y, sr=sr, n_mfcc=5)\n",
        "\n",
        "    feats = (np.zeros((1,18))[0])\n",
        "    music_features = []\n",
        "    signal = signal[:,0]\n",
        "    c = get_centroid(signal, SAMPLERATE)\n",
        "    f = get_flatness(signal)\n",
        "    rms = get_rms(signal)\n",
        "    mfccs = get_mfccs(signal, SAMPLERATE)\n",
        "    mfccs_mean = [np.mean(x) for x in mfccs]\n",
        "    mfccs_std = [np.std(x) for x in mfccs]\n",
        "    music_features = np.hstack([arr_mfcc, np.array([np.mean(c),np.std(c),np.mean(f), np.std(f),np.mean(rms),np.std(rms)]), mfccs_mean, mfccs_std, filename, label])       \n",
        "    return pd.DataFrame(data=music_features).drop(0).reset_index(drop=True)"
      ],
      "execution_count": 33,
      "outputs": [
        {
          "output_type": "stream",
          "text": [
            "time: 13.4 ms\n"
          ],
          "name": "stdout"
        }
      ]
    },
    {
      "cell_type": "markdown",
      "metadata": {
        "id": "oqcyhkpu80VJ",
        "colab_type": "text"
      },
      "source": [
        "Função que importa o sinal de áudio e calcula as features (Deixo comentado pq já estão calculadas)"
      ]
    },
    {
      "cell_type": "code",
      "metadata": {
        "id": "aS-Ks9WpNZu5",
        "colab_type": "code",
        "outputId": "25731f3e-ec4b-4a47-aea5-ff32e023b4a7",
        "colab": {
          "base_uri": "https://localhost:8080/",
          "height": 55
        }
      },
      "source": [
        "'''SAMPLERATE = 48000\n",
        "for filename, label in info_sound:\n",
        "    if(path.isfile(os.path.join(DIR_AUDIO, filename))):\n",
        "        signal, sr = sf.read(os.path.join(DIR_AUDIO, filename))\n",
        "        signal = signal - np.mean(signal)\n",
        "        signal = signal / np.std(signal)\n",
        "        feats = get_features(filename, signal, label)\n",
        "        #print(feats.iloc[0,:])\n",
        "        if (create_new): \n",
        "            feats.to_csv(FILEPATH, mode='w', header=True, index=False)\n",
        "            create_new = False\n",
        "        else:\n",
        "            feats.to_csv(FILEPATH, mode='a', header=False, index=False)'''"
      ],
      "execution_count": 14,
      "outputs": [
        {
          "output_type": "execute_result",
          "data": {
            "text/plain": [
              "\"SAMPLERATE = 48000\\nfor filename, label in info_sound:\\n    if(path.isfile(os.path.join(DIR_AUDIO, filename))):\\n        signal, sr = sf.read(os.path.join(DIR_AUDIO, filename))\\n        signal = signal - np.mean(signal)\\n        signal = signal / np.std(signal)\\n        feats = get_features(filename, signal, label)\\n        #print(feats.iloc[0,:])\\n        if (create_new): \\n            feats.to_csv(FILEPATH, mode='w', header=True, index=False)\\n            create_new = False\\n        else:\\n            feats.to_csv(FILEPATH, mode='a', header=False, index=False)\""
            ]
          },
          "metadata": {
            "tags": []
          },
          "execution_count": 14
        },
        {
          "output_type": "stream",
          "text": [
            "time: 3.06 ms\n"
          ],
          "name": "stdout"
        }
      ]
    },
    {
      "cell_type": "markdown",
      "metadata": {
        "id": "3qmgNaFPBYfN",
        "colab_type": "text"
      },
      "source": [
        "# Reading Features Dataframe"
      ]
    },
    {
      "cell_type": "markdown",
      "metadata": {
        "id": "1OFRH-tEdkEQ",
        "colab_type": "text"
      },
      "source": [
        "DF: Descrição\n",
        "\n",
        "        features\n",
        "*   0: média centroide \n",
        "*   1: std centroide\n",
        "*   2: media flatness\n",
        "*   3: std flatness\n",
        "*   4: média rms\n",
        "*   5: std rms\n",
        "*   6-10: media mfccs\n",
        "*   11-15: std mfccs\n",
        "\n",
        "\n",
        "        outros\n",
        "*   16: name\n",
        "*   17: label\n",
        "\n",
        "\n",
        "\n",
        "\n"
      ]
    },
    {
      "cell_type": "markdown",
      "metadata": {
        "id": "XL5KuCyu9iF9",
        "colab_type": "text"
      },
      "source": [
        "Aqui, acabei lendo um dataframe pronto de features do álvaro"
      ]
    },
    {
      "cell_type": "code",
      "metadata": {
        "id": "KuA7jYKiaQSF",
        "colab_type": "code",
        "outputId": "554f0e92-15a3-43d0-b8f4-8cfd2cd1bc28",
        "colab": {
          "base_uri": "https://localhost:8080/",
          "height": 239
        }
      },
      "source": [
        "df = pd.read_csv('/content/drive/My Drive/DCASE 2020 Challenge/TAU Urban Acoustic Scenes 2020 3Class/data_final.csv')\n",
        "df.head()"
      ],
      "execution_count": 15,
      "outputs": [
        {
          "output_type": "execute_result",
          "data": {
            "text/html": [
              "<div>\n",
              "<style scoped>\n",
              "    .dataframe tbody tr th:only-of-type {\n",
              "        vertical-align: middle;\n",
              "    }\n",
              "\n",
              "    .dataframe tbody tr th {\n",
              "        vertical-align: top;\n",
              "    }\n",
              "\n",
              "    .dataframe thead th {\n",
              "        text-align: right;\n",
              "    }\n",
              "</style>\n",
              "<table border=\"1\" class=\"dataframe\">\n",
              "  <thead>\n",
              "    <tr style=\"text-align: right;\">\n",
              "      <th></th>\n",
              "      <th>0</th>\n",
              "      <th>1</th>\n",
              "      <th>2</th>\n",
              "      <th>3</th>\n",
              "      <th>4</th>\n",
              "      <th>5</th>\n",
              "      <th>6</th>\n",
              "      <th>7</th>\n",
              "      <th>8</th>\n",
              "      <th>9</th>\n",
              "      <th>10</th>\n",
              "      <th>11</th>\n",
              "      <th>12</th>\n",
              "      <th>13</th>\n",
              "      <th>14</th>\n",
              "      <th>15</th>\n",
              "      <th>16</th>\n",
              "    </tr>\n",
              "  </thead>\n",
              "  <tbody>\n",
              "    <tr>\n",
              "      <th>0</th>\n",
              "      <td>0.002238</td>\n",
              "      <td>0.000558</td>\n",
              "      <td>0.002743</td>\n",
              "      <td>0.007208</td>\n",
              "      <td>1048.711547</td>\n",
              "      <td>463.167051</td>\n",
              "      <td>-577.001380</td>\n",
              "      <td>163.258139</td>\n",
              "      <td>-3.549339</td>\n",
              "      <td>22.017591</td>\n",
              "      <td>13.494924</td>\n",
              "      <td>31.869020</td>\n",
              "      <td>21.825554</td>\n",
              "      <td>12.326134</td>\n",
              "      <td>10.821680</td>\n",
              "      <td>9.552340</td>\n",
              "      <td>1.0</td>\n",
              "    </tr>\n",
              "    <tr>\n",
              "      <th>1</th>\n",
              "      <td>0.002880</td>\n",
              "      <td>0.000903</td>\n",
              "      <td>0.001126</td>\n",
              "      <td>0.001958</td>\n",
              "      <td>886.422711</td>\n",
              "      <td>241.592415</td>\n",
              "      <td>-563.894864</td>\n",
              "      <td>174.513166</td>\n",
              "      <td>-14.495222</td>\n",
              "      <td>23.946321</td>\n",
              "      <td>18.321768</td>\n",
              "      <td>29.040112</td>\n",
              "      <td>16.301472</td>\n",
              "      <td>13.782981</td>\n",
              "      <td>8.090115</td>\n",
              "      <td>8.115766</td>\n",
              "      <td>1.0</td>\n",
              "    </tr>\n",
              "    <tr>\n",
              "      <th>2</th>\n",
              "      <td>0.001869</td>\n",
              "      <td>0.000431</td>\n",
              "      <td>0.001523</td>\n",
              "      <td>0.001664</td>\n",
              "      <td>945.652024</td>\n",
              "      <td>221.316045</td>\n",
              "      <td>-593.787671</td>\n",
              "      <td>168.131292</td>\n",
              "      <td>-8.964122</td>\n",
              "      <td>24.838048</td>\n",
              "      <td>15.403514</td>\n",
              "      <td>22.797653</td>\n",
              "      <td>16.934774</td>\n",
              "      <td>9.883444</td>\n",
              "      <td>9.331934</td>\n",
              "      <td>8.159728</td>\n",
              "      <td>1.0</td>\n",
              "    </tr>\n",
              "    <tr>\n",
              "      <th>3</th>\n",
              "      <td>0.002032</td>\n",
              "      <td>0.000947</td>\n",
              "      <td>0.002943</td>\n",
              "      <td>0.003316</td>\n",
              "      <td>1164.856147</td>\n",
              "      <td>344.481524</td>\n",
              "      <td>-578.611030</td>\n",
              "      <td>152.952367</td>\n",
              "      <td>-0.808523</td>\n",
              "      <td>18.432182</td>\n",
              "      <td>11.709905</td>\n",
              "      <td>25.279528</td>\n",
              "      <td>19.047370</td>\n",
              "      <td>12.422158</td>\n",
              "      <td>9.473015</td>\n",
              "      <td>9.504347</td>\n",
              "      <td>1.0</td>\n",
              "    </tr>\n",
              "    <tr>\n",
              "      <th>4</th>\n",
              "      <td>0.002016</td>\n",
              "      <td>0.000527</td>\n",
              "      <td>0.001742</td>\n",
              "      <td>0.001874</td>\n",
              "      <td>966.899681</td>\n",
              "      <td>252.108832</td>\n",
              "      <td>-578.576194</td>\n",
              "      <td>171.175143</td>\n",
              "      <td>-13.635943</td>\n",
              "      <td>22.459849</td>\n",
              "      <td>15.334096</td>\n",
              "      <td>21.597844</td>\n",
              "      <td>17.593605</td>\n",
              "      <td>9.983420</td>\n",
              "      <td>9.635203</td>\n",
              "      <td>8.164152</td>\n",
              "      <td>1.0</td>\n",
              "    </tr>\n",
              "  </tbody>\n",
              "</table>\n",
              "</div>"
            ],
            "text/plain": [
              "          0         1         2         3  ...         13         14        15   16\n",
              "0  0.002238  0.000558  0.002743  0.007208  ...  12.326134  10.821680  9.552340  1.0\n",
              "1  0.002880  0.000903  0.001126  0.001958  ...  13.782981   8.090115  8.115766  1.0\n",
              "2  0.001869  0.000431  0.001523  0.001664  ...   9.883444   9.331934  8.159728  1.0\n",
              "3  0.002032  0.000947  0.002943  0.003316  ...  12.422158   9.473015  9.504347  1.0\n",
              "4  0.002016  0.000527  0.001742  0.001874  ...   9.983420   9.635203  8.164152  1.0\n",
              "\n",
              "[5 rows x 17 columns]"
            ]
          },
          "metadata": {
            "tags": []
          },
          "execution_count": 15
        },
        {
          "output_type": "stream",
          "text": [
            "time: 926 ms\n"
          ],
          "name": "stdout"
        }
      ]
    },
    {
      "cell_type": "code",
      "metadata": {
        "id": "_dSD6cyEwsEZ",
        "colab_type": "code",
        "outputId": "8266b3df-00f7-4317-f48c-2cf17323dddb",
        "colab": {
          "base_uri": "https://localhost:8080/",
          "height": 35
        }
      },
      "source": [
        "transp = df.loc[df['16'] == 2]"
      ],
      "execution_count": 16,
      "outputs": [
        {
          "output_type": "stream",
          "text": [
            "time: 2.37 ms\n"
          ],
          "name": "stdout"
        }
      ]
    },
    {
      "cell_type": "code",
      "metadata": {
        "id": "vrG20BJMxEXm",
        "colab_type": "code",
        "outputId": "c5ecabc6-2254-4991-bf28-63658f31c6f9",
        "colab": {
          "base_uri": "https://localhost:8080/",
          "height": 35
        }
      },
      "source": [
        "indoor = (df.loc[df['16'] == 0]).sample(1440, random_state=42)"
      ],
      "execution_count": 17,
      "outputs": [
        {
          "output_type": "stream",
          "text": [
            "time: 4.46 ms\n"
          ],
          "name": "stdout"
        }
      ]
    },
    {
      "cell_type": "code",
      "metadata": {
        "id": "zePm2Oyexhm2",
        "colab_type": "code",
        "outputId": "18bd41b2-cf86-45b0-f836-36f2864abfdd",
        "colab": {
          "base_uri": "https://localhost:8080/",
          "height": 35
        }
      },
      "source": [
        "outdoor = (df.loc[df['16'] == 1]).sample(1440, random_state=42)"
      ],
      "execution_count": 18,
      "outputs": [
        {
          "output_type": "stream",
          "text": [
            "time: 4.43 ms\n"
          ],
          "name": "stdout"
        }
      ]
    },
    {
      "cell_type": "markdown",
      "metadata": {
        "id": "uIrCzZ2P9sNZ",
        "colab_type": "text"
      },
      "source": [
        "Balanceei a quantidade de músicas de cada label"
      ]
    },
    {
      "cell_type": "code",
      "metadata": {
        "id": "MLxOinxkyaFA",
        "colab_type": "code",
        "outputId": "a68ceb55-b365-47b6-c1f6-3b8dcb8c5216",
        "colab": {
          "base_uri": "https://localhost:8080/",
          "height": 35
        }
      },
      "source": [
        "transp.values.shape,indoor.values.shape, outdoor.values.shape "
      ],
      "execution_count": 19,
      "outputs": [
        {
          "output_type": "execute_result",
          "data": {
            "text/plain": [
              "((2880, 17), (1440, 17), (1440, 17))"
            ]
          },
          "metadata": {
            "tags": []
          },
          "execution_count": 19
        },
        {
          "output_type": "stream",
          "text": [
            "time: 2.8 ms\n"
          ],
          "name": "stdout"
        }
      ]
    },
    {
      "cell_type": "code",
      "metadata": {
        "id": "Fw3ntNMryKS0",
        "colab_type": "code",
        "outputId": "7269ff3f-d456-487e-d9c3-67ba1cf63778",
        "colab": {
          "base_uri": "https://localhost:8080/",
          "height": 35
        }
      },
      "source": [
        "df = pd.concat([transp, indoor, outdoor])"
      ],
      "execution_count": 20,
      "outputs": [
        {
          "output_type": "stream",
          "text": [
            "time: 2.28 ms\n"
          ],
          "name": "stdout"
        }
      ]
    },
    {
      "cell_type": "markdown",
      "metadata": {
        "id": "STBSMWjGpiN0",
        "colab_type": "text"
      },
      "source": [
        "Juntando indoor com outdoor"
      ]
    },
    {
      "cell_type": "code",
      "metadata": {
        "id": "2kiCMgpSuS6l",
        "colab_type": "code",
        "outputId": "9d2b0f14-c42e-4230-afa5-7a9959069240",
        "colab": {
          "base_uri": "https://localhost:8080/",
          "height": 35
        }
      },
      "source": [
        "df.loc[df['16'] == 2, '16'] = 'yes_transp'\n",
        "df.loc[df['16'] != 'yes_transp', '16'] = 'not_transp'"
      ],
      "execution_count": 21,
      "outputs": [
        {
          "output_type": "stream",
          "text": [
            "time: 8.37 ms\n"
          ],
          "name": "stdout"
        }
      ]
    },
    {
      "cell_type": "code",
      "metadata": {
        "id": "ig7XOmrCuu-1",
        "colab_type": "code",
        "outputId": "781fd366-76e0-4b1b-e646-fcf12c715ada",
        "colab": {
          "base_uri": "https://localhost:8080/",
          "height": 239
        }
      },
      "source": [
        "df.head()"
      ],
      "execution_count": 34,
      "outputs": [
        {
          "output_type": "execute_result",
          "data": {
            "text/html": [
              "<div>\n",
              "<style scoped>\n",
              "    .dataframe tbody tr th:only-of-type {\n",
              "        vertical-align: middle;\n",
              "    }\n",
              "\n",
              "    .dataframe tbody tr th {\n",
              "        vertical-align: top;\n",
              "    }\n",
              "\n",
              "    .dataframe thead th {\n",
              "        text-align: right;\n",
              "    }\n",
              "</style>\n",
              "<table border=\"1\" class=\"dataframe\">\n",
              "  <thead>\n",
              "    <tr style=\"text-align: right;\">\n",
              "      <th></th>\n",
              "      <th>0</th>\n",
              "      <th>1</th>\n",
              "      <th>2</th>\n",
              "      <th>3</th>\n",
              "      <th>4</th>\n",
              "      <th>5</th>\n",
              "      <th>6</th>\n",
              "      <th>7</th>\n",
              "      <th>8</th>\n",
              "      <th>9</th>\n",
              "      <th>10</th>\n",
              "      <th>11</th>\n",
              "      <th>12</th>\n",
              "      <th>13</th>\n",
              "      <th>14</th>\n",
              "      <th>15</th>\n",
              "      <th>16</th>\n",
              "    </tr>\n",
              "  </thead>\n",
              "  <tbody>\n",
              "    <tr>\n",
              "      <th>1440</th>\n",
              "      <td>0.020406</td>\n",
              "      <td>0.006326</td>\n",
              "      <td>0.000159</td>\n",
              "      <td>0.000381</td>\n",
              "      <td>438.661378</td>\n",
              "      <td>253.467548</td>\n",
              "      <td>-504.367146</td>\n",
              "      <td>165.040784</td>\n",
              "      <td>18.924291</td>\n",
              "      <td>17.198516</td>\n",
              "      <td>28.085752</td>\n",
              "      <td>47.958075</td>\n",
              "      <td>15.157123</td>\n",
              "      <td>18.888637</td>\n",
              "      <td>9.283565</td>\n",
              "      <td>7.533329</td>\n",
              "      <td>yes_transp</td>\n",
              "    </tr>\n",
              "    <tr>\n",
              "      <th>1441</th>\n",
              "      <td>0.023096</td>\n",
              "      <td>0.004342</td>\n",
              "      <td>0.000034</td>\n",
              "      <td>0.000093</td>\n",
              "      <td>313.443504</td>\n",
              "      <td>173.421574</td>\n",
              "      <td>-549.687879</td>\n",
              "      <td>161.154220</td>\n",
              "      <td>29.183161</td>\n",
              "      <td>20.196307</td>\n",
              "      <td>29.539300</td>\n",
              "      <td>24.663102</td>\n",
              "      <td>13.132203</td>\n",
              "      <td>9.816342</td>\n",
              "      <td>9.120574</td>\n",
              "      <td>7.109063</td>\n",
              "      <td>yes_transp</td>\n",
              "    </tr>\n",
              "    <tr>\n",
              "      <th>1442</th>\n",
              "      <td>0.023684</td>\n",
              "      <td>0.005952</td>\n",
              "      <td>0.000005</td>\n",
              "      <td>0.000012</td>\n",
              "      <td>187.749891</td>\n",
              "      <td>65.610972</td>\n",
              "      <td>-557.346817</td>\n",
              "      <td>169.462508</td>\n",
              "      <td>31.192148</td>\n",
              "      <td>9.295133</td>\n",
              "      <td>33.732378</td>\n",
              "      <td>11.967958</td>\n",
              "      <td>6.261512</td>\n",
              "      <td>8.250277</td>\n",
              "      <td>7.041316</td>\n",
              "      <td>4.829986</td>\n",
              "      <td>yes_transp</td>\n",
              "    </tr>\n",
              "    <tr>\n",
              "      <th>1443</th>\n",
              "      <td>0.028563</td>\n",
              "      <td>0.014444</td>\n",
              "      <td>0.000045</td>\n",
              "      <td>0.000059</td>\n",
              "      <td>340.880546</td>\n",
              "      <td>117.510752</td>\n",
              "      <td>-470.998773</td>\n",
              "      <td>156.807357</td>\n",
              "      <td>31.255668</td>\n",
              "      <td>20.099788</td>\n",
              "      <td>29.951104</td>\n",
              "      <td>30.679529</td>\n",
              "      <td>10.649638</td>\n",
              "      <td>13.592999</td>\n",
              "      <td>10.174730</td>\n",
              "      <td>5.857045</td>\n",
              "      <td>yes_transp</td>\n",
              "    </tr>\n",
              "    <tr>\n",
              "      <th>1444</th>\n",
              "      <td>0.020506</td>\n",
              "      <td>0.006390</td>\n",
              "      <td>0.000095</td>\n",
              "      <td>0.000141</td>\n",
              "      <td>394.875465</td>\n",
              "      <td>157.107692</td>\n",
              "      <td>-490.497708</td>\n",
              "      <td>184.020153</td>\n",
              "      <td>23.895086</td>\n",
              "      <td>23.438850</td>\n",
              "      <td>29.550718</td>\n",
              "      <td>28.326797</td>\n",
              "      <td>18.646410</td>\n",
              "      <td>9.239509</td>\n",
              "      <td>10.717194</td>\n",
              "      <td>8.266267</td>\n",
              "      <td>yes_transp</td>\n",
              "    </tr>\n",
              "  </tbody>\n",
              "</table>\n",
              "</div>"
            ],
            "text/plain": [
              "             0         1         2  ...         14        15          16\n",
              "1440  0.020406  0.006326  0.000159  ...   9.283565  7.533329  yes_transp\n",
              "1441  0.023096  0.004342  0.000034  ...   9.120574  7.109063  yes_transp\n",
              "1442  0.023684  0.005952  0.000005  ...   7.041316  4.829986  yes_transp\n",
              "1443  0.028563  0.014444  0.000045  ...  10.174730  5.857045  yes_transp\n",
              "1444  0.020506  0.006390  0.000095  ...  10.717194  8.266267  yes_transp\n",
              "\n",
              "[5 rows x 17 columns]"
            ]
          },
          "metadata": {
            "tags": []
          },
          "execution_count": 34
        },
        {
          "output_type": "stream",
          "text": [
            "time: 38.8 ms\n"
          ],
          "name": "stdout"
        }
      ]
    },
    {
      "cell_type": "code",
      "metadata": {
        "id": "b7yrSNVe1tc4",
        "colab_type": "code",
        "outputId": "e23c9205-0d46-4502-e76b-37343e7d32c6",
        "colab": {
          "base_uri": "https://localhost:8080/",
          "height": 35
        }
      },
      "source": [
        "from sklearn.preprocessing import StandardScaler\n",
        "from sklearn import metrics\n",
        "import pickle\n",
        "from collections import Counter\n",
        "from sklearn.decomposition import PCA\n",
        "import seaborn as sns\n",
        "from sklearn.model_selection import train_test_split"
      ],
      "execution_count": 35,
      "outputs": [
        {
          "output_type": "stream",
          "text": [
            "time: 2.09 ms\n"
          ],
          "name": "stdout"
        }
      ]
    },
    {
      "cell_type": "markdown",
      "metadata": {
        "id": "jO9K4pcEvFVk",
        "colab_type": "text"
      },
      "source": [
        "Split no dataframe df_meta, selecionando músicas de teste e treino"
      ]
    },
    {
      "cell_type": "code",
      "metadata": {
        "id": "EUhEp_lECS78",
        "colab_type": "code",
        "outputId": "29ab5aa6-dbda-4284-96ab-3281da7060bc",
        "colab": {
          "base_uri": "https://localhost:8080/",
          "height": 35
        }
      },
      "source": [
        "def split_train_test(df):\n",
        "    X, y = df.iloc[:,:16], df.iloc[:,-1]\n",
        "    X_train, X_test, y_train, y_test = train_test_split(X, y, test_size=0.2,random_state=42)\n",
        "    return [X_train, X_test, y_train, y_test]"
      ],
      "execution_count": 24,
      "outputs": [
        {
          "output_type": "stream",
          "text": [
            "time: 78.2 ms\n"
          ],
          "name": "stdout"
        }
      ]
    },
    {
      "cell_type": "code",
      "metadata": {
        "id": "a6DUiZXyLoTG",
        "colab_type": "code",
        "outputId": "9f4e4708-5543-4a4a-c50f-b4e099d188f3",
        "colab": {
          "base_uri": "https://localhost:8080/",
          "height": 35
        }
      },
      "source": [
        "def standardize(X_train, X_test):\n",
        "    scaler = StandardScaler()\n",
        "    scaler.fit(X_train.values)\n",
        "    joblib.dump(scaler, BASE_PATH + 'scaler_transp.pkl')\n",
        "    X_train = scaler.transform(X_train.values)\n",
        "    X_test = scaler.transform(X_test.values)\n",
        "    return [X_train, X_test]"
      ],
      "execution_count": 25,
      "outputs": [
        {
          "output_type": "stream",
          "text": [
            "time: 3.01 ms\n"
          ],
          "name": "stdout"
        }
      ]
    },
    {
      "cell_type": "markdown",
      "metadata": {
        "id": "0U0XQuSjPmCB",
        "colab_type": "text"
      },
      "source": [
        "# Linear SVC Classifier"
      ]
    },
    {
      "cell_type": "code",
      "metadata": {
        "id": "oWw4aOINED0h",
        "colab_type": "code",
        "outputId": "4c6b3038-9118-4441-a0e2-5f9d9c22ecd0",
        "colab": {
          "base_uri": "https://localhost:8080/",
          "height": 89
        }
      },
      "source": [
        "from sklearn.svm import SVC\n",
        "from sklearn.metrics import confusion_matrix,classification_report, plot_confusion_matrix, accuracy_score, confusion_matrix\n",
        "from sklearn.model_selection import cross_val_score, GridSearchCV\n",
        "from sklearn.svm import LinearSVC\n",
        "from sklearn.externals import joblib"
      ],
      "execution_count": 26,
      "outputs": [
        {
          "output_type": "stream",
          "text": [
            "time: 4.74 ms\n"
          ],
          "name": "stdout"
        },
        {
          "output_type": "stream",
          "text": [
            "/usr/local/lib/python3.6/dist-packages/sklearn/externals/joblib/__init__.py:15: FutureWarning: sklearn.externals.joblib is deprecated in 0.21 and will be removed in 0.23. Please import this functionality directly from joblib, which can be installed with: pip install joblib. If this warning is raised when loading pickled models, you may need to re-serialize those models with scikit-learn 0.21+.\n",
            "  warnings.warn(msg, category=FutureWarning)\n"
          ],
          "name": "stderr"
        }
      ]
    },
    {
      "cell_type": "code",
      "metadata": {
        "id": "jcjNVJNAAT7m",
        "colab_type": "code",
        "outputId": "238b4e91-3f41-4b77-81dc-f399ef406fc7",
        "colab": {
          "base_uri": "https://localhost:8080/",
          "height": 35
        }
      },
      "source": [
        "def get_model_linearSVC(X_train,y_train, y_test, X_test):\n",
        "    LSVC = LinearSVC(C = 1, dual=False, random_state=42)\n",
        "    LSVC.fit(X_train,y_train)\n",
        "    y_pred = LSVC.predict(X_test)\n",
        "    print(\"LSVC Accuracy :\", accuracy_score(y_test, y_pred))\n",
        "    filename = BASE_PATH + 'linearsvc_transp_resto.pkl'\n",
        "    joblib.dump(LSVC, filename,compress=0)\n",
        "    return LSVC, y_pred, accuracy_score(y_test, y_pred)"
      ],
      "execution_count": 27,
      "outputs": [
        {
          "output_type": "stream",
          "text": [
            "time: 3.91 ms\n"
          ],
          "name": "stdout"
        }
      ]
    },
    {
      "cell_type": "markdown",
      "metadata": {
        "id": "jQAceUVb-qqG",
        "colab_type": "text"
      },
      "source": [
        "Contagem das predições para cada música"
      ]
    },
    {
      "cell_type": "code",
      "metadata": {
        "id": "TvoU3jjJuJV3",
        "colab_type": "code",
        "outputId": "f1b0e157-8b88-4870-f0f2-da3644090d0f",
        "colab": {
          "base_uri": "https://localhost:8080/",
          "height": 35
        }
      },
      "source": [
        "def plot_cf(y_pred, y_test):\n",
        "    print(classification_report(y_test, y_pred))"
      ],
      "execution_count": 28,
      "outputs": [
        {
          "output_type": "stream",
          "text": [
            "time: 1.12 ms\n"
          ],
          "name": "stdout"
        }
      ]
    },
    {
      "cell_type": "code",
      "metadata": {
        "id": "h1JGSISJOGJC",
        "colab_type": "code",
        "outputId": "0d7f1f69-0a73-4031-8ef9-950bf994a7dd",
        "colab": {
          "base_uri": "https://localhost:8080/",
          "height": 35
        }
      },
      "source": [
        "def pca(X_train, X_test, y_train, y_test):\n",
        "    pca = PCA(2)\n",
        "    scl = StandardScaler()\n",
        "    X = np.vstack([X_train,X_test])\n",
        "    y = np.hstack([y_train,y_test])\n",
        "    X_scl = scl.fit_transform(X)\n",
        "    pca.fit(X_scl)\n",
        "    X_pca = pca.transform(X_scl)\n",
        "    sns.scatterplot(x=X_pca[:,0], y=X_pca[:,1],hue=y)"
      ],
      "execution_count": 29,
      "outputs": [
        {
          "output_type": "stream",
          "text": [
            "time: 4.49 ms\n"
          ],
          "name": "stdout"
        }
      ]
    },
    {
      "cell_type": "code",
      "metadata": {
        "id": "q0EsTBVtqGxz",
        "colab_type": "code",
        "outputId": "1164dcca-9282-4223-87ed-e7b15d9a9057",
        "colab": {
          "base_uri": "https://localhost:8080/",
          "height": 35
        }
      },
      "source": [
        "def classify(df):\n",
        "    X_train, X_test, y_train, y_test = split_train_test(df) \n",
        "    X_train, X_test = standardize(X_train, X_test)\n",
        "    model, y_pred, final_accuracy = get_model_linearSVC(X_train, y_train, y_test, X_test)\n",
        "    pca(X_train, X_test, y_train, y_test)"
      ],
      "execution_count": 30,
      "outputs": [
        {
          "output_type": "stream",
          "text": [
            "time: 2.67 ms\n"
          ],
          "name": "stdout"
        }
      ]
    },
    {
      "cell_type": "code",
      "metadata": {
        "id": "KVQPJn_Vs3w9",
        "colab_type": "code",
        "outputId": "f88117f5-79e2-456d-afe6-202e33b8d754",
        "colab": {
          "base_uri": "https://localhost:8080/",
          "height": 301
        }
      },
      "source": [
        "classify(df)"
      ],
      "execution_count": 31,
      "outputs": [
        {
          "output_type": "stream",
          "text": [
            "LSVC Accuracy : 0.9236111111111112\n"
          ],
          "name": "stdout"
        },
        {
          "output_type": "display_data",
          "data": {
            "image/png": "[encoded data removed]",
            "text/plain": [
              "<Figure size 432x288 with 1 Axes>"
            ]
          },
          "metadata": {
            "tags": [],
            "needs_background": "light"
          }
        },
        {
          "output_type": "stream",
          "text": [
            "time: 1.4 s\n"
          ],
          "name": "stdout"
        }
      ]
    },
    {
      "cell_type": "markdown",
      "metadata": {
        "id": "CzuqbBdT9lXV",
        "colab_type": "text"
      },
      "source": [
        "Tamanho do modelo em KB"
      ]
    },
    {
      "cell_type": "code",
      "metadata": {
        "id": "f-0YEVYucJL3",
        "colab_type": "code",
        "outputId": "ae0f5911-8b60-4f78-fe40-216112d42de8",
        "colab": {
          "base_uri": "https://localhost:8080/",
          "height": 35
        }
      },
      "source": [
        "(os.path.getsize(BASE_PATH + 'linearsvc_transp_resto.pkl')/1024)"
      ],
      "execution_count": 32,
      "outputs": [
        {
          "output_type": "execute_result",
          "data": {
            "text/plain": [
              "1.1484375"
            ]
          },
          "metadata": {
            "tags": []
          },
          "execution_count": 32
        },
        {
          "output_type": "stream",
          "text": [
            "time: 2.77 ms\n"
          ],
          "name": "stdout"
        }
      ]
    }
  ]
}