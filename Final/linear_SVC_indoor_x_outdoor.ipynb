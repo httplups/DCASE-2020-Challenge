{
  "nbformat": 4,
  "nbformat_minor": 0,
  "metadata": {
    "colab": {
      "name": "linear SVC - indoor x outdoor.ipynb",
      "provenance": [],
      "collapsed_sections": [],
      "toc_visible": true,
      "machine_shape": "hm"
    },
    "kernelspec": {
      "name": "python3",
      "display_name": "Python 3"
    },
    "accelerator": "GPU"
  },
  "cells": [
    {
      "cell_type": "markdown",
      "metadata": {
        "id": "IBBhayb-5MEx",
        "colab_type": "text"
      },
      "source": [
        "# Treinamento do Modelo Indoor x Outdoor\n",
        "Luana Barros\n",
        "\n",
        "\n"
      ]
    },
    {
      "cell_type": "code",
      "metadata": {
        "id": "ptGENpqklOQv",
        "colab_type": "code",
        "colab": {}
      },
      "source": [
        "import matplotlib.pyplot as plt\n",
        "import numpy as np # linear algebra\n",
        "import pandas as pd\n",
        "import librosa\n",
        "import librosa.display\n",
        "import os\n",
        "from os import path\n",
        "import io\n",
        "!pip3 install soundfile\n",
        "!pip3 install librosa\n",
        "import soundfile as sf\n",
        "import librosa.feature\n"
      ],
      "execution_count": 0,
      "outputs": []
    },
    {
      "cell_type": "code",
      "metadata": {
        "id": "c-kU_a0NruyM",
        "colab_type": "code",
        "colab": {}
      },
      "source": [
        "!pip install ipython-autotime\n",
        "\n",
        "%load_ext autotime"
      ],
      "execution_count": 0,
      "outputs": []
    },
    {
      "cell_type": "markdown",
      "metadata": {
        "id": "r7aioLqSfKgT",
        "colab_type": "text"
      },
      "source": [
        "Dataset de nomes e labels de todas as músicas, disponibilizado pelo DCASE\n",
        "\n"
      ]
    },
    {
      "cell_type": "code",
      "metadata": {
        "id": "_AtrE-Kwmk5b",
        "colab_type": "code",
        "outputId": "94193dea-a27f-4a92-f8a0-4fa095ea4dec",
        "colab": {
          "base_uri": "https://localhost:8080/",
          "height": 219
        }
      },
      "source": [
        "DIR = '/content/drive/My Drive/DCASE 2020 Challenge/TAU Urban Acoustic Scenes 2020 3Class' \n",
        "DIR_AUDIO = DIR + '/soundfiles/TAU-urban-acoustic-scenes-2020-3class-development/'\n",
        "df_meta = pd.read_csv(f'{DIR}/meta.csv')\n",
        "df_meta = pd.read_csv(io.StringIO(df_meta.to_csv(index=False)))\n",
        "df_meta.head()"
      ],
      "execution_count": 6,
      "outputs": [
        {
          "output_type": "execute_result",
          "data": {
            "text/html": [
              "<div>\n",
              "<style scoped>\n",
              "    .dataframe tbody tr th:only-of-type {\n",
              "        vertical-align: middle;\n",
              "    }\n",
              "\n",
              "    .dataframe tbody tr th {\n",
              "        vertical-align: top;\n",
              "    }\n",
              "\n",
              "    .dataframe thead th {\n",
              "        text-align: right;\n",
              "    }\n",
              "</style>\n",
              "<table border=\"1\" class=\"dataframe\">\n",
              "  <thead>\n",
              "    <tr style=\"text-align: right;\">\n",
              "      <th></th>\n",
              "      <th>filename</th>\n",
              "      <th>scene_label</th>\n",
              "      <th>identifier</th>\n",
              "    </tr>\n",
              "  </thead>\n",
              "  <tbody>\n",
              "    <tr>\n",
              "      <th>0</th>\n",
              "      <td>audio/airport-barcelona-0-0-a.wav</td>\n",
              "      <td>indoor</td>\n",
              "      <td>barcelona-0</td>\n",
              "    </tr>\n",
              "    <tr>\n",
              "      <th>1</th>\n",
              "      <td>audio/airport-barcelona-0-10-a.wav</td>\n",
              "      <td>indoor</td>\n",
              "      <td>barcelona-0</td>\n",
              "    </tr>\n",
              "    <tr>\n",
              "      <th>2</th>\n",
              "      <td>audio/airport-barcelona-0-11-a.wav</td>\n",
              "      <td>indoor</td>\n",
              "      <td>barcelona-0</td>\n",
              "    </tr>\n",
              "    <tr>\n",
              "      <th>3</th>\n",
              "      <td>audio/airport-barcelona-0-12-a.wav</td>\n",
              "      <td>indoor</td>\n",
              "      <td>barcelona-0</td>\n",
              "    </tr>\n",
              "    <tr>\n",
              "      <th>4</th>\n",
              "      <td>audio/airport-barcelona-0-13-a.wav</td>\n",
              "      <td>indoor</td>\n",
              "      <td>barcelona-0</td>\n",
              "    </tr>\n",
              "  </tbody>\n",
              "</table>\n",
              "</div>"
            ],
            "text/plain": [
              "                             filename scene_label   identifier\n",
              "0   audio/airport-barcelona-0-0-a.wav      indoor  barcelona-0\n",
              "1  audio/airport-barcelona-0-10-a.wav      indoor  barcelona-0\n",
              "2  audio/airport-barcelona-0-11-a.wav      indoor  barcelona-0\n",
              "3  audio/airport-barcelona-0-12-a.wav      indoor  barcelona-0\n",
              "4  audio/airport-barcelona-0-13-a.wav      indoor  barcelona-0"
            ]
          },
          "metadata": {
            "tags": []
          },
          "execution_count": 6
        },
        {
          "output_type": "stream",
          "text": [
            "time: 1.32 s\n"
          ],
          "name": "stdout"
        }
      ]
    },
    {
      "cell_type": "code",
      "metadata": {
        "id": "q6L872Z-O6wk",
        "colab_type": "code",
        "outputId": "7bf2081b-6871-46b5-9198-a39c715a343e",
        "colab": {
          "base_uri": "https://localhost:8080/",
          "height": 35
        }
      },
      "source": [
        "df_meta.values.shape"
      ],
      "execution_count": 7,
      "outputs": [
        {
          "output_type": "execute_result",
          "data": {
            "text/plain": [
              "(14400, 3)"
            ]
          },
          "metadata": {
            "tags": []
          },
          "execution_count": 7
        },
        {
          "output_type": "stream",
          "text": [
            "time: 4.44 ms\n"
          ],
          "name": "stdout"
        }
      ]
    },
    {
      "cell_type": "code",
      "metadata": {
        "id": "EvDHWYYgGNsr",
        "colab_type": "code",
        "outputId": "0ee872cb-3bb2-4b60-b2b9-cb92aa39a69b",
        "colab": {
          "base_uri": "https://localhost:8080/",
          "height": 35
        }
      },
      "source": [
        "df_meta = df_meta[df_meta['scene_label'] != 'transportation']"
      ],
      "execution_count": 8,
      "outputs": [
        {
          "output_type": "stream",
          "text": [
            "time: 3.98 ms\n"
          ],
          "name": "stdout"
        }
      ]
    },
    {
      "cell_type": "code",
      "metadata": {
        "id": "sCJ2fzdrMK4z",
        "colab_type": "code",
        "outputId": "ebb10b5d-f0f1-4aff-8cfb-ff6076affcea",
        "colab": {
          "base_uri": "https://localhost:8080/",
          "height": 87
        }
      },
      "source": [
        "print(df_meta.loc[df_meta['scene_label'] == 'outdoor'].shape)\n",
        "print(df_meta.loc[df_meta['scene_label'] == 'indoor'].shape)\n",
        "print(df_meta.loc[df_meta['scene_label'] == 'transportation'].shape)"
      ],
      "execution_count": 9,
      "outputs": [
        {
          "output_type": "stream",
          "text": [
            "(5760, 3)\n",
            "(4320, 3)\n",
            "(0, 3)\n",
            "time: 8.62 ms\n"
          ],
          "name": "stdout"
        }
      ]
    },
    {
      "cell_type": "markdown",
      "metadata": {
        "id": "EBiTL-q4rx4m",
        "colab_type": "text"
      },
      "source": [
        "Reading the datasets and storing it to 'signals'"
      ]
    },
    {
      "cell_type": "code",
      "metadata": {
        "id": "toPMMVMwr8T1",
        "colab_type": "code",
        "outputId": "3fc7792b-7d9b-4bec-a73a-fc3e8b3302b5",
        "colab": {
          "base_uri": "https://localhost:8080/",
          "height": 35
        }
      },
      "source": [
        "info_sound = df_meta[['filename','scene_label']].to_numpy()\n",
        "np.unique(info_sound).shape"
      ],
      "execution_count": 10,
      "outputs": [
        {
          "output_type": "execute_result",
          "data": {
            "text/plain": [
              "(10082,)"
            ]
          },
          "metadata": {
            "tags": []
          },
          "execution_count": 10
        },
        {
          "output_type": "stream",
          "text": [
            "time: 15.1 ms\n"
          ],
          "name": "stdout"
        }
      ]
    },
    {
      "cell_type": "code",
      "metadata": {
        "id": "A587AkAuzyl8",
        "colab_type": "code",
        "outputId": "1492ed93-bd71-427d-d232-d7f6b086a26a",
        "colab": {
          "base_uri": "https://localhost:8080/",
          "height": 35
        }
      },
      "source": [
        "FILEPATH = '/content/drive/My Drive/DCASE 2020 Challenge/TAU Urban Acoustic Scenes 2020 3Class/features.csv'\n",
        "BASE_PATH = '/content/drive/My Drive/DCASE 2020 Challenge/TAU Urban Acoustic Scenes 2020 3Class/'"
      ],
      "execution_count": 12,
      "outputs": [
        {
          "output_type": "stream",
          "text": [
            "time: 753 µs\n"
          ],
          "name": "stdout"
        }
      ]
    },
    {
      "cell_type": "markdown",
      "metadata": {
        "id": "zCC0EbABtCfB",
        "colab_type": "text"
      },
      "source": [
        "Labels:\n",
        "\n",
        "\n",
        "0.   Indoor\n",
        "1.   Outdoor\n",
        "\n"
      ]
    },
    {
      "cell_type": "markdown",
      "metadata": {
        "id": "-x-wLFB-49rK",
        "colab_type": "text"
      },
      "source": [
        "Função que calcula as features de uma única música, dividindo o sinal em 10 partes e salva no final de um dataframe de features lido posteriormente"
      ]
    },
    {
      "cell_type": "code",
      "metadata": {
        "id": "Pm5iFAKX0Chn",
        "colab_type": "code",
        "outputId": "946c07a0-aa86-4e7e-85de-24d04defe58b",
        "colab": {
          "base_uri": "https://localhost:8080/",
          "height": 35
        }
      },
      "source": [
        "PARTS = 10\n",
        "def get_features(filename, signal, label)->pd.DataFrame:\n",
        "    def get_centroid(y, sr):\n",
        "        return librosa.feature.spectral_centroid(y=y, sr=sr)\n",
        "    def get_flatness(y):\n",
        "        return librosa.feature.spectral_flatness(y=y)\n",
        "    def get_rms(y):\n",
        "        return librosa.feature.rms(y=y)\n",
        "    def get_mfccs(y, sr):\n",
        "        return librosa.feature.mfcc(y=y, sr=sr, n_mfcc=5)\n",
        "\n",
        "    feats = (np.zeros((1,18))[0])\n",
        "    \n",
        "    music_features = []\n",
        "    signal = signal[:,0]\n",
        "    for second in np.array_split(signal, PARTS):\n",
        "        arr_mfcc = []\n",
        "        c = get_centroid(second, SAMPLERATE)\n",
        "        f = get_flatness(second)\n",
        "        rms = get_rms(second)\n",
        "        mfccs = get_mfccs(second, SAMPLERATE)\n",
        "        mfccs_mean = [np.mean(x) for x in mfccs]\n",
        "        mfccs_std = [np.std(x) for x in mfccs]\n",
        "        music_features = np.hstack([arr_mfcc, np.array([np.mean(c),np.std(c),np.mean(f), np.std(f),np.mean(rms),np.std(rms)]), mfccs_mean, mfccs_std, filename, label]) \n",
        "        feats = np.vstack([feats, music_features])     \n",
        "    return pd.DataFrame(data=feats).drop(0).reset_index(drop=True)"
      ],
      "execution_count": 32,
      "outputs": [
        {
          "output_type": "stream",
          "text": [
            "time: 13.9 ms\n"
          ],
          "name": "stdout"
        }
      ]
    },
    {
      "cell_type": "markdown",
      "metadata": {
        "id": "9DD-E46f8f0x",
        "colab_type": "text"
      },
      "source": [
        "Função que importa o sinal de áudio e calcula as features (Deixo comentado pq já estão calculadas)\n",
        "\n",
        "\n"
      ]
    },
    {
      "cell_type": "code",
      "metadata": {
        "id": "vIyfnkPZ8Y33",
        "colab_type": "code",
        "colab": {
          "base_uri": "https://localhost:8080/",
          "height": 55
        },
        "outputId": "26f8e8fb-41e1-4cb2-e81c-2687e4587047"
      },
      "source": [
        "'''for filename, label in info_sound:\n",
        "    if(path.isfile(os.path.join(DIR_AUDIO, filename))):\n",
        "        signal, sr = sf.read(os.path.join(DIR_AUDIO, filename))\n",
        "        signal = signal - np.mean(signal)\n",
        "        signal = signal / np.std(signal)\n",
        "        feats = get_features(filename, signal, label)\n",
        "        if (create_new): \n",
        "            feats.to_csv(FILEPATH, mode='w', header=True, index=False)\n",
        "            create_new = False\n",
        "        else:\n",
        "            feats.to_csv(FILEPATH, mode='a', header=False, index=False)'''"
      ],
      "execution_count": 37,
      "outputs": [
        {
          "output_type": "execute_result",
          "data": {
            "text/plain": [
              "\"for filename, label in info_sound:\\n    if(path.isfile(os.path.join(DIR_AUDIO, filename))):\\n        signal, sr = sf.read(os.path.join(DIR_AUDIO, filename))\\n        signal = signal - np.mean(signal)\\n        signal = signal / np.std(signal)\\n        feats = get_features(filename, signal, label)\\n        if (create_new): \\n            feats.to_csv(FILEPATH, mode='w', header=True, index=False)\\n            create_new = False\\n        else:\\n            feats.to_csv(FILEPATH, mode='a', header=False, index=False)\""
            ]
          },
          "metadata": {
            "tags": []
          },
          "execution_count": 37
        },
        {
          "output_type": "stream",
          "text": [
            "time: 2.78 ms\n"
          ],
          "name": "stdout"
        }
      ]
    },
    {
      "cell_type": "markdown",
      "metadata": {
        "id": "3qmgNaFPBYfN",
        "colab_type": "text"
      },
      "source": [
        "# Reading Features Dataframe"
      ]
    },
    {
      "cell_type": "markdown",
      "metadata": {
        "id": "1OFRH-tEdkEQ",
        "colab_type": "text"
      },
      "source": [
        "DF: Descrição\n",
        "\n",
        "        features\n",
        "*   0: média centroide \n",
        "*   1: std centroide\n",
        "*   2: media flatness\n",
        "*   3: std flatness\n",
        "*   4: média rms\n",
        "*   5: std rms\n",
        "*   6-10: media mfccs\n",
        "*   11-15: std mfccs\n",
        "\n",
        "\n",
        "        outros\n",
        "*   16: name\n",
        "*   17: label\n",
        "\n",
        "\n",
        "\n",
        "\n"
      ]
    },
    {
      "cell_type": "code",
      "metadata": {
        "id": "5Y2kOY5Gw-t4",
        "colab_type": "code",
        "outputId": "a8645b61-6e46-41dd-92f2-990269d7f2f7",
        "colab": {
          "base_uri": "https://localhost:8080/",
          "height": 35
        }
      },
      "source": [
        "df = pd.read_csv(FILEPATH)\n",
        "df.values.shape"
      ],
      "execution_count": 17,
      "outputs": [
        {
          "output_type": "execute_result",
          "data": {
            "text/plain": [
              "(144000, 18)"
            ]
          },
          "metadata": {
            "tags": []
          },
          "execution_count": 17
        },
        {
          "output_type": "stream",
          "text": [
            "time: 3.15 s\n"
          ],
          "name": "stdout"
        }
      ]
    },
    {
      "cell_type": "markdown",
      "metadata": {
        "id": "Jy_I9mKe96vy",
        "colab_type": "text"
      },
      "source": [
        "Exclui as amostras que são transportation"
      ]
    },
    {
      "cell_type": "code",
      "metadata": {
        "id": "VqZRLUCm45Yt",
        "colab_type": "code",
        "outputId": "6af7c29b-4472-421b-b150-fc1787acbf53",
        "colab": {
          "base_uri": "https://localhost:8080/",
          "height": 413
        }
      },
      "source": [
        "df = df[df['17'] != 'transportation']\n",
        "df.head()"
      ],
      "execution_count": 18,
      "outputs": [
        {
          "output_type": "execute_result",
          "data": {
            "text/html": [
              "<div>\n",
              "<style scoped>\n",
              "    .dataframe tbody tr th:only-of-type {\n",
              "        vertical-align: middle;\n",
              "    }\n",
              "\n",
              "    .dataframe tbody tr th {\n",
              "        vertical-align: top;\n",
              "    }\n",
              "\n",
              "    .dataframe thead th {\n",
              "        text-align: right;\n",
              "    }\n",
              "</style>\n",
              "<table border=\"1\" class=\"dataframe\">\n",
              "  <thead>\n",
              "    <tr style=\"text-align: right;\">\n",
              "      <th></th>\n",
              "      <th>0</th>\n",
              "      <th>1</th>\n",
              "      <th>2</th>\n",
              "      <th>3</th>\n",
              "      <th>4</th>\n",
              "      <th>5</th>\n",
              "      <th>6</th>\n",
              "      <th>7</th>\n",
              "      <th>8</th>\n",
              "      <th>9</th>\n",
              "      <th>10</th>\n",
              "      <th>11</th>\n",
              "      <th>12</th>\n",
              "      <th>13</th>\n",
              "      <th>14</th>\n",
              "      <th>15</th>\n",
              "      <th>16</th>\n",
              "      <th>17</th>\n",
              "    </tr>\n",
              "  </thead>\n",
              "  <tbody>\n",
              "    <tr>\n",
              "      <th>0</th>\n",
              "      <td>2067.077543</td>\n",
              "      <td>314.596949</td>\n",
              "      <td>0.001208</td>\n",
              "      <td>0.000796</td>\n",
              "      <td>0.832156</td>\n",
              "      <td>0.190869</td>\n",
              "      <td>-6.301599</td>\n",
              "      <td>162.615785</td>\n",
              "      <td>-0.669503</td>\n",
              "      <td>21.995021</td>\n",
              "      <td>16.196891</td>\n",
              "      <td>11.842684</td>\n",
              "      <td>11.356795</td>\n",
              "      <td>9.448871</td>\n",
              "      <td>8.314006</td>\n",
              "      <td>6.413742</td>\n",
              "      <td>audio/airport-barcelona-0-0-a.wav</td>\n",
              "      <td>indoor</td>\n",
              "    </tr>\n",
              "    <tr>\n",
              "      <th>1</th>\n",
              "      <td>2396.326648</td>\n",
              "      <td>837.458722</td>\n",
              "      <td>0.002880</td>\n",
              "      <td>0.004073</td>\n",
              "      <td>1.048020</td>\n",
              "      <td>0.297459</td>\n",
              "      <td>28.847755</td>\n",
              "      <td>164.139732</td>\n",
              "      <td>-10.588623</td>\n",
              "      <td>11.819030</td>\n",
              "      <td>18.117304</td>\n",
              "      <td>23.760919</td>\n",
              "      <td>22.448040</td>\n",
              "      <td>15.889869</td>\n",
              "      <td>7.593259</td>\n",
              "      <td>8.504107</td>\n",
              "      <td>audio/airport-barcelona-0-0-a.wav</td>\n",
              "      <td>indoor</td>\n",
              "    </tr>\n",
              "    <tr>\n",
              "      <th>2</th>\n",
              "      <td>2135.928400</td>\n",
              "      <td>951.601138</td>\n",
              "      <td>0.002351</td>\n",
              "      <td>0.006495</td>\n",
              "      <td>1.104539</td>\n",
              "      <td>0.239383</td>\n",
              "      <td>27.343979</td>\n",
              "      <td>172.183293</td>\n",
              "      <td>-4.441265</td>\n",
              "      <td>12.758123</td>\n",
              "      <td>14.174672</td>\n",
              "      <td>15.299824</td>\n",
              "      <td>18.721131</td>\n",
              "      <td>10.422640</td>\n",
              "      <td>8.023112</td>\n",
              "      <td>6.574066</td>\n",
              "      <td>audio/airport-barcelona-0-0-a.wav</td>\n",
              "      <td>indoor</td>\n",
              "    </tr>\n",
              "    <tr>\n",
              "      <th>3</th>\n",
              "      <td>3452.822655</td>\n",
              "      <td>2038.634637</td>\n",
              "      <td>0.009708</td>\n",
              "      <td>0.018092</td>\n",
              "      <td>0.855968</td>\n",
              "      <td>0.179588</td>\n",
              "      <td>40.054581</td>\n",
              "      <td>139.243859</td>\n",
              "      <td>0.369508</td>\n",
              "      <td>16.225708</td>\n",
              "      <td>10.133507</td>\n",
              "      <td>45.845526</td>\n",
              "      <td>31.659113</td>\n",
              "      <td>15.694926</td>\n",
              "      <td>12.090027</td>\n",
              "      <td>11.095558</td>\n",
              "      <td>audio/airport-barcelona-0-0-a.wav</td>\n",
              "      <td>indoor</td>\n",
              "    </tr>\n",
              "    <tr>\n",
              "      <th>4</th>\n",
              "      <td>2306.117659</td>\n",
              "      <td>400.394482</td>\n",
              "      <td>0.002110</td>\n",
              "      <td>0.001465</td>\n",
              "      <td>0.695591</td>\n",
              "      <td>0.141256</td>\n",
              "      <td>-1.595393</td>\n",
              "      <td>158.681146</td>\n",
              "      <td>-3.881455</td>\n",
              "      <td>22.452005</td>\n",
              "      <td>18.370355</td>\n",
              "      <td>26.562323</td>\n",
              "      <td>11.427413</td>\n",
              "      <td>10.013492</td>\n",
              "      <td>8.081751</td>\n",
              "      <td>7.794196</td>\n",
              "      <td>audio/airport-barcelona-0-0-a.wav</td>\n",
              "      <td>indoor</td>\n",
              "    </tr>\n",
              "  </tbody>\n",
              "</table>\n",
              "</div>"
            ],
            "text/plain": [
              "             0            1  ...                                 16      17\n",
              "0  2067.077543   314.596949  ...  audio/airport-barcelona-0-0-a.wav  indoor\n",
              "1  2396.326648   837.458722  ...  audio/airport-barcelona-0-0-a.wav  indoor\n",
              "2  2135.928400   951.601138  ...  audio/airport-barcelona-0-0-a.wav  indoor\n",
              "3  3452.822655  2038.634637  ...  audio/airport-barcelona-0-0-a.wav  indoor\n",
              "4  2306.117659   400.394482  ...  audio/airport-barcelona-0-0-a.wav  indoor\n",
              "\n",
              "[5 rows x 18 columns]"
            ]
          },
          "metadata": {
            "tags": []
          },
          "execution_count": 18
        },
        {
          "output_type": "stream",
          "text": [
            "time: 55.5 ms\n"
          ],
          "name": "stdout"
        }
      ]
    },
    {
      "cell_type": "code",
      "metadata": {
        "id": "EBzZ73bxqbID",
        "colab_type": "code",
        "outputId": "741cffa4-a391-4329-fdd7-ecc39262a824",
        "colab": {
          "base_uri": "https://localhost:8080/",
          "height": 35
        }
      },
      "source": [
        "#df.iloc[:,-1], indices = pd.factorize(df.iloc[:,-1])"
      ],
      "execution_count": 19,
      "outputs": [
        {
          "output_type": "stream",
          "text": [
            "time: 665 µs\n"
          ],
          "name": "stdout"
        }
      ]
    },
    {
      "cell_type": "code",
      "metadata": {
        "id": "b7yrSNVe1tc4",
        "colab_type": "code",
        "outputId": "f3511363-43c0-4ad2-f6fc-13cff18d45d3",
        "colab": {
          "base_uri": "https://localhost:8080/",
          "height": 89
        }
      },
      "source": [
        "from sklearn.preprocessing import StandardScaler\n",
        "from sklearn import metrics\n",
        "import pickle\n",
        "from collections import Counter\n",
        "from sklearn.decomposition import PCA\n",
        "import seaborn as sns\n",
        "from sklearn.model_selection import train_test_split"
      ],
      "execution_count": 21,
      "outputs": [
        {
          "output_type": "stream",
          "text": [
            "time: 33.8 ms\n"
          ],
          "name": "stdout"
        },
        {
          "output_type": "stream",
          "text": [
            "/usr/local/lib/python3.6/dist-packages/statsmodels/tools/_testing.py:19: FutureWarning: pandas.util.testing is deprecated. Use the functions in the public API at pandas.testing instead.\n",
            "  import pandas.util.testing as tm\n"
          ],
          "name": "stderr"
        }
      ]
    },
    {
      "cell_type": "markdown",
      "metadata": {
        "id": "jO9K4pcEvFVk",
        "colab_type": "text"
      },
      "source": [
        "Split no dataframe df_meta, selecionando músicas de teste e treino"
      ]
    },
    {
      "cell_type": "code",
      "metadata": {
        "id": "EUhEp_lECS78",
        "colab_type": "code",
        "outputId": "9dd81bc0-513e-4df0-e03e-9837de50da66",
        "colab": {
          "base_uri": "https://localhost:8080/",
          "height": 35
        }
      },
      "source": [
        "def split_train_test(df, df_meta):\n",
        "    filename, label = df_meta['filename'].values, df_meta['scene_label'].values\n",
        "    train_names, test_names, train_labels, test_labels = train_test_split(filename, label, test_size=0.2,random_state=42)\n",
        "    #pickle.dump(train_names, open(\"train_names.pkl\", \"wb\"))\n",
        "    #pickle.dump(test_names, open(\"test_names.pkl\", \"wb\"))\n",
        "    \n",
        "    X_train = df.loc[df['16'].isin(train_names)]\n",
        "    X_test = df.loc[df['16'].isin(test_names)]\n",
        "    y_train = X_train[['16', '17']]\n",
        "    y_test = X_test[['16', '17']]\n",
        "    X_train = X_train.drop(columns=['16','17'])\n",
        "    X_test = X_test.drop(columns=['16','17'])\n",
        "    return [X_train, X_test, y_train, y_test]"
      ],
      "execution_count": 33,
      "outputs": [
        {
          "output_type": "stream",
          "text": [
            "time: 6.12 ms\n"
          ],
          "name": "stdout"
        }
      ]
    },
    {
      "cell_type": "code",
      "metadata": {
        "id": "a6DUiZXyLoTG",
        "colab_type": "code",
        "outputId": "88ff61f9-0d0a-4432-8030-a57cf8fbaa2f",
        "colab": {
          "base_uri": "https://localhost:8080/",
          "height": 35
        }
      },
      "source": [
        "def standardize(X_train, X_test):\n",
        "    scaler = StandardScaler()\n",
        "    scaler.fit(X_train.values)\n",
        "    joblib.dump(scaler, BASE_PATH + 'scaler_io.pkl')\n",
        "    X_train = scaler.transform(X_train.values)\n",
        "    X_test = scaler.transform(X_test.values)\n",
        "    return [X_train, X_test]"
      ],
      "execution_count": 23,
      "outputs": [
        {
          "output_type": "stream",
          "text": [
            "time: 68.4 ms\n"
          ],
          "name": "stdout"
        }
      ]
    },
    {
      "cell_type": "markdown",
      "metadata": {
        "id": "0U0XQuSjPmCB",
        "colab_type": "text"
      },
      "source": [
        "# Linear SVC Classifier"
      ]
    },
    {
      "cell_type": "code",
      "metadata": {
        "id": "oWw4aOINED0h",
        "colab_type": "code",
        "outputId": "6528ed41-bd8f-4be0-b6b8-0ee4199319c9",
        "colab": {
          "base_uri": "https://localhost:8080/",
          "height": 35
        }
      },
      "source": [
        "from sklearn.metrics import confusion_matrix,classification_report, plot_confusion_matrix, accuracy_score, confusion_matrix\n",
        "from sklearn.model_selection import cross_val_score\n",
        "from sklearn.externals import joblib\n",
        "from sklearn.svm import LinearSVC"
      ],
      "execution_count": 34,
      "outputs": [
        {
          "output_type": "stream",
          "text": [
            "time: 1.82 ms\n"
          ],
          "name": "stdout"
        }
      ]
    },
    {
      "cell_type": "code",
      "metadata": {
        "id": "LUIHXcTT1xaX",
        "colab_type": "code",
        "outputId": "4d178c03-92e9-41ca-9435-bb57fdfe7fd0",
        "colab": {
          "base_uri": "https://localhost:8080/",
          "height": 35
        }
      },
      "source": [
        "def get_model(X_train,y_train, y_test, X_test):\n",
        "    model = LinearSVC(C=10, random_state=42)\n",
        "    model.fit(X_train,y_train)\n",
        "    y_pred = (model.predict(X_test))\n",
        "    print(\"SVC Accuracy :\", accuracy_score(y_test, y_pred))\n",
        "    filename = BASE_PATH + 'linearsvc_indoor_outdoor.pkl'\n",
        "    #joblib.dump(model, filename)\n",
        "    return model, y_pred"
      ],
      "execution_count": 25,
      "outputs": [
        {
          "output_type": "stream",
          "text": [
            "time: 4.15 ms\n"
          ],
          "name": "stdout"
        }
      ]
    },
    {
      "cell_type": "code",
      "metadata": {
        "id": "TvoU3jjJuJV3",
        "colab_type": "code",
        "outputId": "e3f8348e-446e-4e63-83e4-e832f9c1b447",
        "colab": {
          "base_uri": "https://localhost:8080/",
          "height": 35
        }
      },
      "source": [
        "def plot_cf(y_pred, y_test):\n",
        "    print(classification_report(y_test, y_pred))"
      ],
      "execution_count": 26,
      "outputs": [
        {
          "output_type": "stream",
          "text": [
            "time: 878 µs\n"
          ],
          "name": "stdout"
        }
      ]
    },
    {
      "cell_type": "markdown",
      "metadata": {
        "id": "jQAceUVb-qqG",
        "colab_type": "text"
      },
      "source": [
        "Contagem das predições para cada música"
      ]
    },
    {
      "cell_type": "code",
      "metadata": {
        "id": "cY0LI6g15kpW",
        "colab_type": "code",
        "outputId": "56fd1259-a5c6-43b8-bfa6-5e1af248fcb6",
        "colab": {
          "base_uri": "https://localhost:8080/",
          "height": 35
        }
      },
      "source": [
        "def contagem_e_votacao(test_vs_pred):\n",
        "    '''\n",
        "        Cria um dicionário com os nomes das músicas e adiciona todas as 10 predições associadas a uma música\n",
        "    '''\n",
        "    dic_names = dict()\n",
        "    music_names_unique = np.unique(test_vs_pred['16'])\n",
        "    for id in music_names_unique:\n",
        "        dic_names[id] = []\n",
        "    #print(len(dic_names))\n",
        "\n",
        "    for name, label, pred in test_vs_pred.values:\n",
        "        #print(name, label, pred)\n",
        "        dic_names[name].append(pred)\n",
        "\n",
        "    '''\n",
        "        Utiliza um counter para contar a frequência dos labels (indoor ou outdoor)\n",
        "        Depois pega o label com maior contagem para ser o label definitivo\n",
        "    '''\n",
        "    counter = [Counter(pred) for name,pred in dic_names.items()]\n",
        "    music_y_pred = [max(x, key=x.get) for x in counter]\n",
        "    #print(music_y_pred)\n",
        "    #print(len(music_y_pred))\n",
        "    music_y_test = (test_vs_pred[['16','17']].drop_duplicates())['17'].values\n",
        "    #print((music_y_test))\n",
        "    plot_cf(music_y_pred, music_y_test)\n",
        "    return metrics.accuracy_score(music_y_test,music_y_pred)"
      ],
      "execution_count": 35,
      "outputs": [
        {
          "output_type": "stream",
          "text": [
            "time: 8.99 ms\n"
          ],
          "name": "stdout"
        }
      ]
    },
    {
      "cell_type": "code",
      "metadata": {
        "id": "h1JGSISJOGJC",
        "colab_type": "code",
        "outputId": "ddf0590f-eb48-4b27-c869-301efca067af",
        "colab": {
          "base_uri": "https://localhost:8080/",
          "height": 35
        }
      },
      "source": [
        "def pca(X_train, X_test, y_train, y_test):\n",
        "    pca = PCA(2)\n",
        "    scl = StandardScaler()\n",
        "    X = np.vstack([X_train,X_test])\n",
        "    y = np.hstack([y_train,y_test])\n",
        "    X_scl = scl.fit_transform(X)\n",
        "    pca.fit(X_scl)\n",
        "    X_pca = pca.transform(X_scl)\n",
        "    sns.scatterplot(x=X_pca[:,0], y=X_pca[:,1],hue=y)"
      ],
      "execution_count": 28,
      "outputs": [
        {
          "output_type": "stream",
          "text": [
            "time: 3.93 ms\n"
          ],
          "name": "stdout"
        }
      ]
    },
    {
      "cell_type": "code",
      "metadata": {
        "id": "q0EsTBVtqGxz",
        "colab_type": "code",
        "outputId": "961f1cde-a521-4445-9d59-82f7bd1dff9a",
        "colab": {
          "base_uri": "https://localhost:8080/",
          "height": 35
        }
      },
      "source": [
        "def classify(df, df_meta):\n",
        "    X_train, X_test, y_train, y_test = split_train_test(df,df_meta) \n",
        "    X_train, X_test = standardize(X_train, X_test)\n",
        "    model, y_pred = get_model(X_train, y_train['17'].values, y_test['17'].values, X_test)\n",
        "    test_vs_pred = y_test\n",
        "    test_vs_pred['pred'] = y_pred\n",
        "    final_accuracy = contagem_e_votacao(test_vs_pred)\n",
        "    pca(X_train, X_test, y_train['17'].values, y_test['17'].values)\n",
        "    return final_accuracy"
      ],
      "execution_count": 29,
      "outputs": [
        {
          "output_type": "stream",
          "text": [
            "time: 7.67 ms\n"
          ],
          "name": "stdout"
        }
      ]
    },
    {
      "cell_type": "code",
      "metadata": {
        "id": "KVQPJn_Vs3w9",
        "colab_type": "code",
        "outputId": "3dc9d374-7bae-4c91-dc24-6d0905cc0176",
        "colab": {
          "base_uri": "https://localhost:8080/",
          "height": 597
        }
      },
      "source": [
        "acc = classify(df, df_meta)\n",
        "print(acc)"
      ],
      "execution_count": 36,
      "outputs": [
        {
          "output_type": "stream",
          "text": [
            "/usr/local/lib/python3.6/dist-packages/sklearn/svm/_base.py:947: ConvergenceWarning: Liblinear failed to converge, increase the number of iterations.\n",
            "  \"the number of iterations.\", ConvergenceWarning)\n"
          ],
          "name": "stderr"
        },
        {
          "output_type": "stream",
          "text": [
            "SVC Accuracy : 0.7540178571428572\n",
            "LinearSVC(C=10, class_weight=None, dual=True, fit_intercept=True,\n",
            "          intercept_scaling=1, loss='squared_hinge', max_iter=1000,\n",
            "          multi_class='ovr', penalty='l2', random_state=42, tol=0.0001,\n",
            "          verbose=0)\n",
            "              precision    recall  f1-score   support\n",
            "\n",
            "      indoor       0.72      0.80      0.76       845\n",
            "     outdoor       0.85      0.77      0.81      1171\n",
            "\n",
            "    accuracy                           0.79      2016\n",
            "   macro avg       0.78      0.79      0.78      2016\n",
            "weighted avg       0.79      0.79      0.79      2016\n",
            "\n",
            "0.7857142857142857\n"
          ],
          "name": "stdout"
        },
        {
          "output_type": "display_data",
          "data": {
            "image/png": "[encoded data removed]",
            "text/plain": [
              "<Figure size 432x288 with 1 Axes>"
            ]
          },
          "metadata": {
            "tags": [],
            "needs_background": "light"
          }
        },
        {
          "output_type": "stream",
          "text": [
            "time: 17.5 s\n"
          ],
          "name": "stdout"
        }
      ]
    },
    {
      "cell_type": "markdown",
      "metadata": {
        "id": "CzuqbBdT9lXV",
        "colab_type": "text"
      },
      "source": [
        "Tamanho do modelo em KB"
      ]
    },
    {
      "cell_type": "code",
      "metadata": {
        "id": "f-0YEVYucJL3",
        "colab_type": "code",
        "outputId": "7d9d635e-cafa-4667-91af-12915eb7c207",
        "colab": {
          "base_uri": "https://localhost:8080/",
          "height": 35
        }
      },
      "source": [
        "(os.path.getsize(BASE_PATH + 'linearsvc_indoor_outdoor.pkl')/1024)"
      ],
      "execution_count": 31,
      "outputs": [
        {
          "output_type": "execute_result",
          "data": {
            "text/plain": [
              "1.1416015625"
            ]
          },
          "metadata": {
            "tags": []
          },
          "execution_count": 31
        },
        {
          "output_type": "stream",
          "text": [
            "time: 5.07 ms\n"
          ],
          "name": "stdout"
        }
      ]
    },
    {
      "cell_type": "code",
      "metadata": {
        "id": "AaNGm1yFugsn",
        "colab_type": "code",
        "colab": {}
      },
      "source": [
        ""
      ],
      "execution_count": 0,
      "outputs": []
    }
  ]
}