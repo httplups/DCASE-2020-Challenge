{
  "nbformat": 4,
  "nbformat_minor": 0,
  "metadata": {
    "colab": {
      "name": "predição final.ipynb",
      "provenance": [],
      "private_outputs": true
    },
    "kernelspec": {
      "name": "python3",
      "display_name": "Python 3"
    }
  },
  "cells": [
    {
      "cell_type": "code",
      "metadata": {
        "id": "caWxWEahCGE3",
        "colab_type": "code",
        "colab": {}
      },
      "source": [
        "import matplotlib.pyplot as plt\n",
        "import numpy as np # linear algebra\n",
        "import pandas as pd\n",
        "import librosa\n",
        "import librosa.display\n",
        "import os\n",
        "from os import path\n",
        "import io\n",
        "!pip3 install soundfile\n",
        "!pip3 install librosa\n",
        "import soundfile as sf\n",
        "import librosa.feature\n",
        "from sklearn.externals import joblib\n",
        "from sklearn.preprocessing import StandardScaler\n",
        "from collections import Counter"
      ],
      "execution_count": 0,
      "outputs": []
    },
    {
      "cell_type": "code",
      "metadata": {
        "id": "H3MCdAcdC3pi",
        "colab_type": "code",
        "colab": {}
      },
      "source": [
        "!pip install ipython-autotime\n",
        "\n",
        "%load_ext autotime"
      ],
      "execution_count": 0,
      "outputs": []
    },
    {
      "cell_type": "code",
      "metadata": {
        "id": "83bDw-azC7p2",
        "colab_type": "code",
        "colab": {}
      },
      "source": [
        "BASE_PATH = '/content/drive/My Drive/DCASE 2020 Challenge/TAU Urban Acoustic Scenes 2020 3Class/'"
      ],
      "execution_count": 0,
      "outputs": []
    },
    {
      "cell_type": "markdown",
      "metadata": {
        "id": "auaJAN0tEpoB",
        "colab_type": "text"
      },
      "source": [
        "# Carregando modelos treinados"
      ]
    },
    {
      "cell_type": "code",
      "metadata": {
        "id": "jh3doMsLCqwz",
        "colab_type": "code",
        "colab": {}
      },
      "source": [
        "transp_resto_file = BASE_PATH + 'linearsvc_transp_resto.pkl'\n",
        "io_file = BASE_PATH + 'linearsvc_indoor_outdoor.pkl'"
      ],
      "execution_count": 0,
      "outputs": []
    },
    {
      "cell_type": "code",
      "metadata": {
        "id": "TGpwU9PwCohi",
        "colab_type": "code",
        "colab": {}
      },
      "source": [
        "model_transp_resto = joblib.load(transp_resto_file)\n",
        "model_transp_resto"
      ],
      "execution_count": 0,
      "outputs": []
    },
    {
      "cell_type": "code",
      "metadata": {
        "id": "VdDBGvlqDDIx",
        "colab_type": "code",
        "colab": {}
      },
      "source": [
        "model_io = joblib.load(io_file)\n",
        "model_io"
      ],
      "execution_count": 0,
      "outputs": []
    },
    {
      "cell_type": "markdown",
      "metadata": {
        "id": "ahXfVHsvEtl1",
        "colab_type": "text"
      },
      "source": [
        "# Carregando Dataset de avaliação"
      ]
    },
    {
      "cell_type": "code",
      "metadata": {
        "id": "vOs56WZkRo_S",
        "colab_type": "code",
        "colab": {}
      },
      "source": [
        "PATH = '/content/drive/My Drive/DCASE 2020 Challenge/TAU Urban Acoustic Scenes 2020 3Class/evaluation_datasets/soundfiles/TAU-urban-acoustic-scenes-2020-3class-evaluation/audio'"
      ],
      "execution_count": 0,
      "outputs": []
    },
    {
      "cell_type": "code",
      "metadata": {
        "id": "oNUdyuIDRwOC",
        "colab_type": "code",
        "colab": {}
      },
      "source": [
        "names = []\n",
        "for root, dirs, files in os.walk(PATH):\n",
        "    for filename in files:\n",
        "        names.append(filename)"
      ],
      "execution_count": 0,
      "outputs": []
    },
    {
      "cell_type": "markdown",
      "metadata": {
        "id": "e1Tku8YFTHfN",
        "colab_type": "text"
      },
      "source": [
        "Importando o sinal de um audio"
      ]
    },
    {
      "cell_type": "code",
      "metadata": {
        "id": "74ExcWpVTHLF",
        "colab_type": "code",
        "colab": {}
      },
      "source": [
        "def get_signal(filename, DIR_AUDIO):\n",
        "    signal, sr = sf.read(os.path.join(DIR_AUDIO, filename))\n",
        "    signal = signal - np.mean(signal)\n",
        "    signal = signal / np.std(signal)\n",
        "    return signal"
      ],
      "execution_count": 0,
      "outputs": []
    },
    {
      "cell_type": "code",
      "metadata": {
        "id": "_8YWdIEueCYT",
        "colab_type": "code",
        "colab": {}
      },
      "source": [
        "def is_indoor(signal):\n",
        "    feats_io_model = get_features_indoor_outdoor(signal)\n",
        "    scaler = joblib.load(BASE_PATH + 'scaler_io.pkl')\n",
        "    X = scaler.transform(feats_io_model.values)\n",
        "    predicted = model_io.predict(X)\n",
        "    #predicted =  (np.asarray(predicted)).reshape(1,-1)[0]\n",
        "    counter = Counter(predicted)\n",
        "    #print(counter)\n",
        "    final_prediction = max(counter, key=counter.get)\n",
        "    #print(final_prediction)\n",
        "    return (final_prediction == 'indoor')    "
      ],
      "execution_count": 0,
      "outputs": []
    },
    {
      "cell_type": "code",
      "metadata": {
        "id": "hJ1uxf5BdOpz",
        "colab_type": "code",
        "colab": {}
      },
      "source": [
        "def is_transportation(signal):\n",
        "    feats_transp_model = get_features_transp_model(signal)\n",
        "    feats_transp_model = feats_transp_model.reshape(1, -1)\n",
        "    scaler = joblib.load(BASE_PATH + 'scaler_transp.pkl')\n",
        "    X = scaler.transform(feats_transp_model)\n",
        "    predicted = model_transp_resto.predict(X)\n",
        "    return (predicted[0] == 'yes_transp')    "
      ],
      "execution_count": 0,
      "outputs": []
    },
    {
      "cell_type": "code",
      "metadata": {
        "id": "_tanmpQ8eM1H",
        "colab_type": "code",
        "colab": {}
      },
      "source": [
        "def get_centroid(y, sr):\n",
        "    return librosa.feature.spectral_centroid(y=y, sr=sr)\n",
        "def get_flatness(y):\n",
        "    return librosa.feature.spectral_flatness(y=y)\n",
        "def get_rms(y):\n",
        "    return librosa.feature.rms(y=y)\n",
        "def get_mfccs(y, sr):\n",
        "    return librosa.feature.mfcc(y=y, sr=sr, n_mfcc=5)\n",
        "SAMPLERATE = 48000"
      ],
      "execution_count": 0,
      "outputs": []
    },
    {
      "cell_type": "code",
      "metadata": {
        "id": "OpwbK_5RSS9W",
        "colab_type": "code",
        "colab": {}
      },
      "source": [
        "def get_features_transp_model(signal)->pd.DataFrame:   \n",
        "    music_features = []\n",
        "    signal = signal[:,0]\n",
        "    arr_mfcc = []\n",
        "    #print(second.shape)\n",
        "    c = get_centroid(signal, SAMPLERATE)\n",
        "    f = get_flatness(signal)\n",
        "    rms = get_rms(signal)\n",
        "    mfccs = get_mfccs(signal, SAMPLERATE)\n",
        "    mfccs_mean = [np.mean(x) for x in mfccs]\n",
        "    mfccs_std = [np.std(x) for x in mfccs]\n",
        "    music_features = np.hstack([arr_mfcc, np.array([np.mean(c),np.std(c),np.mean(f), np.std(f),np.mean(rms),np.std(rms)]), mfccs_mean, mfccs_std])       \n",
        "    return music_features"
      ],
      "execution_count": 0,
      "outputs": []
    },
    {
      "cell_type": "code",
      "metadata": {
        "id": "otrJvYh4eXpa",
        "colab_type": "code",
        "colab": {}
      },
      "source": [
        "def get_features_indoor_outdoor(signal)->pd.DataFrame:\n",
        "    PARTS = 10\n",
        "    feats = (np.zeros((1,16))[0])\n",
        "    music_features = []\n",
        "    signal = signal[:,0]\n",
        "    for second in np.array_split(signal, PARTS):\n",
        "        arr_mfcc = []\n",
        "        c = get_centroid(second, SAMPLERATE)\n",
        "        f = get_flatness(second)\n",
        "        rms = get_rms(second)\n",
        "        mfccs = get_mfccs(second, SAMPLERATE)\n",
        "        mfccs_mean = [np.mean(x) for x in mfccs]\n",
        "        mfccs_std = [np.std(x) for x in mfccs]\n",
        "        music_features = np.hstack([arr_mfcc, np.array([np.mean(c),np.std(c),np.mean(f), np.std(f),np.mean(rms),np.std(rms)]), mfccs_mean, mfccs_std]) \n",
        "        feats = np.vstack([feats, music_features])  \n",
        "    return pd.DataFrame(data=feats).drop(0).reset_index(drop=True)"
      ],
      "execution_count": 0,
      "outputs": []
    },
    {
      "cell_type": "code",
      "metadata": {
        "id": "gMnidaojpt4Z",
        "colab_type": "code",
        "colab": {}
      },
      "source": [
        "len(names)"
      ],
      "execution_count": 0,
      "outputs": []
    },
    {
      "cell_type": "markdown",
      "metadata": {
        "id": "TfiWyUxP-15Y",
        "colab_type": "text"
      },
      "source": [
        "*   Importa cada sinal de áudio do dataset de avaliação\n",
        "*   Tenta primeiro classificar o sinal em transportation ou não\n",
        "*   Se necessário, tentar classificar entre indoor e outdoor\n",
        "\n"
      ]
    },
    {
      "cell_type": "code",
      "metadata": {
        "id": "d7bYSy0S3SkK",
        "colab_type": "code",
        "colab": {}
      },
      "source": [
        "for filename in names:\n",
        "    signal = get_signal(filename, PATH)\n",
        "    if (is_transportation(signal)):\n",
        "        row = pd.DataFrame(data=[[filename,'transportation',0,0,1]])\n",
        "    else:\n",
        "        if(is_indoor(signal)):\n",
        "            row = pd.DataFrame(data=[[filename,'indoor',1,0,0]])\n",
        "        else:\n",
        "            row = pd.DataFrame(data=[[filename,'outdoor',0,1,0]])\n",
        "    output_df = pd.read_csv(BASE_PATH + 'teste_out.csv')\n",
        "    row.to_csv(BASE_PATH + 'teste_out.csv', mode='a', header=False, index=False)"
      ],
      "execution_count": 0,
      "outputs": []
    },
    {
      "cell_type": "code",
      "metadata": {
        "id": "x45z93UWsV5V",
        "colab_type": "code",
        "colab": {}
      },
      "source": [
        "'''header = ['filename','scene_label','indoor','outdoor','transportation']\n",
        "output_df = pd.DataFrame(columns=header)\n",
        "output_df.to_csv(BASE_PATH + 'teste_out.csv', mode='w', header=True, index=False)'''"
      ],
      "execution_count": 0,
      "outputs": []
    },
    {
      "cell_type": "markdown",
      "metadata": {
        "id": "JcOu8TDu_dO-",
        "colab_type": "text"
      },
      "source": [
        "Saída no formato esperado:"
      ]
    },
    {
      "cell_type": "code",
      "metadata": {
        "id": "8wyHJV941FYJ",
        "colab_type": "code",
        "colab": {}
      },
      "source": [
        "pd.read_csv(BASE_PATH + 'teste_out.csv')"
      ],
      "execution_count": 0,
      "outputs": []
    }
  ]
}