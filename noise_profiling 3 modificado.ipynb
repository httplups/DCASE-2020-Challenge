{
  "nbformat": 4,
  "nbformat_minor": 0,
  "metadata": {
    "colab": {
      "name": "noise profiling.ipynb",
      "provenance": [],
      "collapsed_sections": [],
      "toc_visible": true,
      "machine_shape": "hm"
    },
    "kernelspec": {
      "name": "python3",
      "display_name": "Python 3"
    }
  },
  "cells": [
    {
      "cell_type": "code",
      "metadata": {
        "id": "ptGENpqklOQv",
        "colab_type": "code",
        "outputId": "8b1baf56-33f3-4109-8a59-d0d1df7046fd",
        "colab": {
          "base_uri": "https://localhost:8080/",
          "height": 318
        }
      },
      "source": [
        "import matplotlib.pyplot as plt\n",
        "import numpy as np # linear algebra\n",
        "import pandas as pd\n",
        "import librosa\n",
        "import librosa.display\n",
        "import os\n",
        "from os import path\n",
        "import io\n",
        "!pip3 install soundfile\n",
        "!pip3 install librosa\n",
        "import soundfile as sf\n",
        "import librosa.feature"
      ],
      "execution_count": 3,
      "outputs": [
        {
          "output_type": "stream",
          "text": [
            "Requirement already satisfied: soundfile in /usr/local/lib/python3.6/dist-packages (0.10.3.post1)\n",
            "Requirement already satisfied: cffi>=1.0 in /usr/local/lib/python3.6/dist-packages (from soundfile) (1.14.0)\n",
            "Requirement already satisfied: pycparser in /usr/local/lib/python3.6/dist-packages (from cffi>=1.0->soundfile) (2.20)\n",
            "Requirement already satisfied: librosa in /usr/local/lib/python3.6/dist-packages (0.6.3)\n",
            "Requirement already satisfied: six>=1.3 in /usr/local/lib/python3.6/dist-packages (from librosa) (1.12.0)\n",
            "Requirement already satisfied: scipy>=1.0.0 in /usr/local/lib/python3.6/dist-packages (from librosa) (1.4.1)\n",
            "Requirement already satisfied: scikit-learn!=0.19.0,>=0.14.0 in /usr/local/lib/python3.6/dist-packages (from librosa) (0.22.2.post1)\n",
            "Requirement already satisfied: resampy>=0.2.0 in /usr/local/lib/python3.6/dist-packages (from librosa) (0.2.2)\n",
            "Requirement already satisfied: audioread>=2.0.0 in /usr/local/lib/python3.6/dist-packages (from librosa) (2.1.8)\n",
            "Requirement already satisfied: joblib>=0.12 in /usr/local/lib/python3.6/dist-packages (from librosa) (0.14.1)\n",
            "Requirement already satisfied: decorator>=3.0.0 in /usr/local/lib/python3.6/dist-packages (from librosa) (4.4.2)\n",
            "Requirement already satisfied: numba>=0.38.0 in /usr/local/lib/python3.6/dist-packages (from librosa) (0.48.0)\n",
            "Requirement already satisfied: numpy>=1.8.0 in /usr/local/lib/python3.6/dist-packages (from librosa) (1.18.2)\n",
            "Requirement already satisfied: llvmlite<0.32.0,>=0.31.0dev0 in /usr/local/lib/python3.6/dist-packages (from numba>=0.38.0->librosa) (0.31.0)\n",
            "Requirement already satisfied: setuptools in /usr/local/lib/python3.6/dist-packages (from numba>=0.38.0->librosa) (46.1.3)\n"
          ],
          "name": "stdout"
        }
      ]
    },
    {
      "cell_type": "code",
      "metadata": {
        "id": "c-kU_a0NruyM",
        "colab_type": "code",
        "outputId": "724cc572-ab96-4c6d-cd7f-2a97aafcca73",
        "colab": {
          "base_uri": "https://localhost:8080/",
          "height": 36
        }
      },
      "source": [
        "!pip install ipython-autotime\n",
        "\n",
        "%load_ext autotime"
      ],
      "execution_count": 4,
      "outputs": [
        {
          "output_type": "stream",
          "text": [
            "Requirement already satisfied: ipython-autotime in /usr/local/lib/python3.6/dist-packages (0.1)\n"
          ],
          "name": "stdout"
        }
      ]
    },
    {
      "cell_type": "markdown",
      "metadata": {
        "id": "r7aioLqSfKgT",
        "colab_type": "text"
      },
      "source": [
        "# Opening datasets"
      ]
    },
    {
      "cell_type": "code",
      "metadata": {
        "id": "_AtrE-Kwmk5b",
        "colab_type": "code",
        "outputId": "d8ac1b5d-0d64-418b-b9aa-7c8d3345cbcd",
        "colab": {
          "base_uri": "https://localhost:8080/",
          "height": 225
        }
      },
      "source": [
        "DIR = '/content/drive/My Drive/DCASE 2020 Challenge/TAU Urban Acoustic Scenes 2020 3Class' \n",
        "DIR_AUDIO = DIR + '/soundfiles/TAU-urban-acoustic-scenes-2020-3class-development/'\n",
        "df_meta = pd.read_csv(f'{DIR}/meta.csv')\n",
        "df_meta = pd.read_csv(io.StringIO(df_meta.to_csv(index=False)))\n",
        "df_meta.head()"
      ],
      "execution_count": 5,
      "outputs": [
        {
          "output_type": "execute_result",
          "data": {
            "text/html": [
              "<div>\n",
              "<style scoped>\n",
              "    .dataframe tbody tr th:only-of-type {\n",
              "        vertical-align: middle;\n",
              "    }\n",
              "\n",
              "    .dataframe tbody tr th {\n",
              "        vertical-align: top;\n",
              "    }\n",
              "\n",
              "    .dataframe thead th {\n",
              "        text-align: right;\n",
              "    }\n",
              "</style>\n",
              "<table border=\"1\" class=\"dataframe\">\n",
              "  <thead>\n",
              "    <tr style=\"text-align: right;\">\n",
              "      <th></th>\n",
              "      <th>filename</th>\n",
              "      <th>scene_label</th>\n",
              "      <th>identifier</th>\n",
              "    </tr>\n",
              "  </thead>\n",
              "  <tbody>\n",
              "    <tr>\n",
              "      <th>0</th>\n",
              "      <td>audio/airport-barcelona-0-0-a.wav</td>\n",
              "      <td>indoor</td>\n",
              "      <td>barcelona-0</td>\n",
              "    </tr>\n",
              "    <tr>\n",
              "      <th>1</th>\n",
              "      <td>audio/airport-barcelona-0-10-a.wav</td>\n",
              "      <td>indoor</td>\n",
              "      <td>barcelona-0</td>\n",
              "    </tr>\n",
              "    <tr>\n",
              "      <th>2</th>\n",
              "      <td>audio/airport-barcelona-0-11-a.wav</td>\n",
              "      <td>indoor</td>\n",
              "      <td>barcelona-0</td>\n",
              "    </tr>\n",
              "    <tr>\n",
              "      <th>3</th>\n",
              "      <td>audio/airport-barcelona-0-12-a.wav</td>\n",
              "      <td>indoor</td>\n",
              "      <td>barcelona-0</td>\n",
              "    </tr>\n",
              "    <tr>\n",
              "      <th>4</th>\n",
              "      <td>audio/airport-barcelona-0-13-a.wav</td>\n",
              "      <td>indoor</td>\n",
              "      <td>barcelona-0</td>\n",
              "    </tr>\n",
              "  </tbody>\n",
              "</table>\n",
              "</div>"
            ],
            "text/plain": [
              "                             filename scene_label   identifier\n",
              "0   audio/airport-barcelona-0-0-a.wav      indoor  barcelona-0\n",
              "1  audio/airport-barcelona-0-10-a.wav      indoor  barcelona-0\n",
              "2  audio/airport-barcelona-0-11-a.wav      indoor  barcelona-0\n",
              "3  audio/airport-barcelona-0-12-a.wav      indoor  barcelona-0\n",
              "4  audio/airport-barcelona-0-13-a.wav      indoor  barcelona-0"
            ]
          },
          "metadata": {
            "tags": []
          },
          "execution_count": 5
        },
        {
          "output_type": "stream",
          "text": [
            "time: 101 ms\n"
          ],
          "name": "stdout"
        }
      ]
    },
    {
      "cell_type": "markdown",
      "metadata": {
        "id": "H4GBDBmTIF4P",
        "colab_type": "text"
      },
      "source": [
        "# Getting part of the dataset\n",
        "Não coloquei 10% dele, pois poderiam vir mais datasets de um label específico. E nem coloquei 10% de cada label, pois a quantidades de datasets dentro de cada label é diferente. Então defini n datasets de cada label."
      ]
    },
    {
      "cell_type": "code",
      "metadata": {
        "id": "d2rRCB6kp2DB",
        "colab_type": "code",
        "outputId": "9593841a-1448-4477-8d74-d2f199bc913d",
        "colab": {
          "base_uri": "https://localhost:8080/",
          "height": 225
        }
      },
      "source": [
        "df = df_meta.groupby('scene_label', as_index=False).apply(lambda x: x.sample(n=500, random_state=15))\n",
        "df.index = [i[1] for i in df.index]\n",
        "df.head()"
      ],
      "execution_count": 525,
      "outputs": [
        {
          "output_type": "execute_result",
          "data": {
            "text/html": [
              "<div>\n",
              "<style scoped>\n",
              "    .dataframe tbody tr th:only-of-type {\n",
              "        vertical-align: middle;\n",
              "    }\n",
              "\n",
              "    .dataframe tbody tr th {\n",
              "        vertical-align: top;\n",
              "    }\n",
              "\n",
              "    .dataframe thead th {\n",
              "        text-align: right;\n",
              "    }\n",
              "</style>\n",
              "<table border=\"1\" class=\"dataframe\">\n",
              "  <thead>\n",
              "    <tr style=\"text-align: right;\">\n",
              "      <th></th>\n",
              "      <th>filename</th>\n",
              "      <th>scene_label</th>\n",
              "      <th>identifier</th>\n",
              "    </tr>\n",
              "  </thead>\n",
              "  <tbody>\n",
              "    <tr>\n",
              "      <th>3028</th>\n",
              "      <td>audio/metro_station-helsinki-231-6952-a.wav</td>\n",
              "      <td>indoor</td>\n",
              "      <td>helsinki-231</td>\n",
              "    </tr>\n",
              "    <tr>\n",
              "      <th>9493</th>\n",
              "      <td>audio/shopping_mall-milan-1183-45376-a.wav</td>\n",
              "      <td>indoor</td>\n",
              "      <td>milan-1183</td>\n",
              "    </tr>\n",
              "    <tr>\n",
              "      <th>4163</th>\n",
              "      <td>audio/metro_station-stockholm-85-2308-a.wav</td>\n",
              "      <td>indoor</td>\n",
              "      <td>stockholm-85</td>\n",
              "    </tr>\n",
              "    <tr>\n",
              "      <th>3224</th>\n",
              "      <td>audio/metro_station-lisbon-1020-42471-a.wav</td>\n",
              "      <td>indoor</td>\n",
              "      <td>lisbon-1020</td>\n",
              "    </tr>\n",
              "    <tr>\n",
              "      <th>9294</th>\n",
              "      <td>audio/shopping_mall-lyon-1066-42583-a.wav</td>\n",
              "      <td>indoor</td>\n",
              "      <td>lyon-1066</td>\n",
              "    </tr>\n",
              "  </tbody>\n",
              "</table>\n",
              "</div>"
            ],
            "text/plain": [
              "                                         filename scene_label    identifier\n",
              "3028  audio/metro_station-helsinki-231-6952-a.wav      indoor  helsinki-231\n",
              "9493   audio/shopping_mall-milan-1183-45376-a.wav      indoor    milan-1183\n",
              "4163  audio/metro_station-stockholm-85-2308-a.wav      indoor  stockholm-85\n",
              "3224  audio/metro_station-lisbon-1020-42471-a.wav      indoor   lisbon-1020\n",
              "9294    audio/shopping_mall-lyon-1066-42583-a.wav      indoor     lyon-1066"
            ]
          },
          "metadata": {
            "tags": []
          },
          "execution_count": 525
        },
        {
          "output_type": "stream",
          "text": [
            "time: 435 ms\n"
          ],
          "name": "stdout"
        }
      ]
    },
    {
      "cell_type": "code",
      "metadata": {
        "id": "CX0XXp7z9D8o",
        "colab_type": "code",
        "outputId": "5fe8a7be-8ae7-4fbf-8ed8-a0cfad39d9f3",
        "colab": {
          "base_uri": "https://localhost:8080/",
          "height": 36
        }
      },
      "source": [
        "# so neste caso q n vamos usar transportation\n",
        "df = df.loc[df['scene_label'] != 'transportation']"
      ],
      "execution_count": 526,
      "outputs": [
        {
          "output_type": "stream",
          "text": [
            "time: 2.9 ms\n"
          ],
          "name": "stdout"
        }
      ]
    },
    {
      "cell_type": "code",
      "metadata": {
        "id": "sCJ2fzdrMK4z",
        "colab_type": "code",
        "outputId": "69f42178-2a44-4f50-924f-a84265916323",
        "colab": {
          "base_uri": "https://localhost:8080/",
          "height": 92
        }
      },
      "source": [
        "print(df.loc[df['scene_label'] == 'outdoor'].shape)\n",
        "print(df.loc[df['scene_label'] == 'indoor'].shape)\n",
        "print(df.loc[df['scene_label'] == 'transportation'].shape)"
      ],
      "execution_count": 527,
      "outputs": [
        {
          "output_type": "stream",
          "text": [
            "(500, 3)\n",
            "(500, 3)\n",
            "(0, 3)\n",
            "time: 5.87 ms\n"
          ],
          "name": "stdout"
        }
      ]
    },
    {
      "cell_type": "markdown",
      "metadata": {
        "id": "EBiTL-q4rx4m",
        "colab_type": "text"
      },
      "source": [
        "Reading the datasets and storing it to 'signals'"
      ]
    },
    {
      "cell_type": "code",
      "metadata": {
        "id": "toPMMVMwr8T1",
        "colab_type": "code",
        "outputId": "d8ddaca3-ad71-4c43-b544-3c48342f7137",
        "colab": {
          "base_uri": "https://localhost:8080/",
          "height": 36
        }
      },
      "source": [
        "info_sound = df[['filename','scene_label']].to_numpy()\n",
        "LABELS = ['indoor', 'outdoor']"
      ],
      "execution_count": 528,
      "outputs": [
        {
          "output_type": "stream",
          "text": [
            "time: 2.75 ms\n"
          ],
          "name": "stdout"
        }
      ]
    },
    {
      "cell_type": "code",
      "metadata": {
        "id": "aS-Ks9WpNZu5",
        "colab_type": "code",
        "outputId": "f290bf72-06b8-411e-a46f-c936488b4299",
        "colab": {
          "base_uri": "https://localhost:8080/",
          "height": 36
        }
      },
      "source": [
        "dic_signals = {x:[] for i, x in enumerate(LABELS)}\n",
        "\n",
        "for filename, label in info_sound:\n",
        "    if(path.isfile(os.path.join(DIR_AUDIO, filename))):\n",
        "        dic_signals[label].append(sf.read(os.path.join(DIR_AUDIO, filename)))"
      ],
      "execution_count": 529,
      "outputs": [
        {
          "output_type": "stream",
          "text": [
            "time: 20.6 s\n"
          ],
          "name": "stdout"
        }
      ]
    },
    {
      "cell_type": "markdown",
      "metadata": {
        "id": "zCC0EbABtCfB",
        "colab_type": "text"
      },
      "source": [
        "Labels:\n",
        "\n",
        "\n",
        "0.   Indoor\n",
        "1.   Outdoor\n",
        "2.   Transportation\n",
        "\n"
      ]
    },
    {
      "cell_type": "markdown",
      "metadata": {
        "id": "3eQS2FIKz-3Y",
        "colab_type": "text"
      },
      "source": [
        "# Getting Features\n",
        "\n",
        "1.   Centroid Mean\n",
        "2.   Centroid STD\n",
        "3.   Flatness Mean\n",
        "4.   Flatness STD\n",
        "5.   RMS\n",
        "\n"
      ]
    },
    {
      "cell_type": "code",
      "metadata": {
        "id": "Pm5iFAKX0Chn",
        "colab_type": "code",
        "outputId": "08bbf061-91d8-4f42-f902-efc569181959",
        "colab": {
          "base_uri": "https://localhost:8080/",
          "height": 36
        }
      },
      "source": [
        "PARTS = 10\n",
        "def get_features(dic_signals)->pd.DataFrame:\n",
        "    # LUANA - FEATURES\n",
        "    def get_centroid(y, sr):\n",
        "        return librosa.feature.spectral_centroid(y=y, sr=sr)\n",
        "    def get_flatness(y):\n",
        "        return librosa.feature.spectral_flatness(y=y)\n",
        "    def get_rms(y):\n",
        "        return librosa.feature.rms(y=y)\n",
        "    def get_mfccs(y, sr):\n",
        "        return librosa.feature.mfcc(y=y, sr=sr)\n",
        "\n",
        "    feats = (np.zeros((1,47))[0])\n",
        "    \n",
        "    j = 1\n",
        "    k = 0 #label\n",
        "    for label, signals in dic_signals.items():\n",
        "        for signal, samplerate in signals:\n",
        "            music_features = []\n",
        "            signal = signal[:,0]\n",
        "            for second in np.array_split(signal, PARTS):\n",
        "                arr_mfcc = []\n",
        "                #print(second.shape)\n",
        "                c = get_centroid(second, samplerate)\n",
        "                f = get_flatness(second)\n",
        "                r = get_rms(second)\n",
        "                mfccs = get_mfccs(second, samplerate)\n",
        "                #print(np.array(mfccs).shape)\n",
        "                mfccs = [[np.mean(x), np.std(x)] for x in mfccs]\n",
        "                mfccs = np.array(mfccs).reshape(1,-1)[0]\n",
        "                #print(mfccs.shape)\n",
        "                mfccs = np.array_split(mfccs, mfccs.shape[0])\n",
        "                #print(np.array(mfccs).shape)\n",
        "                [arr_mfcc.append(x[0]) for x in mfccs]\n",
        "                music_features = np.hstack([arr_mfcc, np.array([np.mean(c),np.std(c),np.mean(f), np.std(f),r[0][0], k, j])]) \n",
        "                #print(np.array(music_features).shape)\n",
        "                \n",
        "                feats = np.vstack([feats, music_features])  \n",
        "            j += 1\n",
        "            \n",
        "        k += 1\n",
        "    return pd.DataFrame(data=feats).drop(0).reset_index(drop=True)\n",
        "        \n"
      ],
      "execution_count": 530,
      "outputs": [
        {
          "output_type": "stream",
          "text": [
            "time: 31 ms\n"
          ],
          "name": "stdout"
        }
      ]
    },
    {
      "cell_type": "code",
      "metadata": {
        "id": "vw8wQ0Lm_8Gf",
        "colab_type": "code",
        "outputId": "bf6a5a36-8e81-4e50-efd7-63e920cba4f7",
        "colab": {
          "base_uri": "https://localhost:8080/",
          "height": 36
        }
      },
      "source": [
        "df = get_features(dic_signals)"
      ],
      "execution_count": 531,
      "outputs": [
        {
          "output_type": "stream",
          "text": [
            "time: 5min 36s\n"
          ],
          "name": "stdout"
        }
      ]
    },
    {
      "cell_type": "code",
      "metadata": {
        "id": "TGQhevKHAkeC",
        "colab_type": "code",
        "outputId": "d5557ee6-6b38-4f17-ec4a-6d47a6b95849",
        "colab": {
          "base_uri": "https://localhost:8080/",
          "height": 36
        }
      },
      "source": [
        "df.to_csv(\"/content/drive/My Drive/DCASE 2020 Challenge/TAU Urban Acoustic Scenes 2020 3Class/features.csv\")"
      ],
      "execution_count": 532,
      "outputs": [
        {
          "output_type": "stream",
          "text": [
            "time: 881 ms\n"
          ],
          "name": "stdout"
        }
      ]
    },
    {
      "cell_type": "code",
      "metadata": {
        "id": "MMDTe_UtA_Qz",
        "colab_type": "code",
        "outputId": "84e6e18d-1b1a-4f72-f22e-a3bd44db4335",
        "colab": {
          "base_uri": "https://localhost:8080/",
          "height": 462
        }
      },
      "source": [
        "df = pd.read_csv(\"/content/drive/My Drive/DCASE 2020 Challenge/TAU Urban Acoustic Scenes 2020 3Class/features.csv\").drop(\"Unnamed: 0\",axis=1) \n",
        "df"
      ],
      "execution_count": 533,
      "outputs": [
        {
          "output_type": "execute_result",
          "data": {
            "text/html": [
              "<div>\n",
              "<style scoped>\n",
              "    .dataframe tbody tr th:only-of-type {\n",
              "        vertical-align: middle;\n",
              "    }\n",
              "\n",
              "    .dataframe tbody tr th {\n",
              "        vertical-align: top;\n",
              "    }\n",
              "\n",
              "    .dataframe thead th {\n",
              "        text-align: right;\n",
              "    }\n",
              "</style>\n",
              "<table border=\"1\" class=\"dataframe\">\n",
              "  <thead>\n",
              "    <tr style=\"text-align: right;\">\n",
              "      <th></th>\n",
              "      <th>0</th>\n",
              "      <th>1</th>\n",
              "      <th>2</th>\n",
              "      <th>3</th>\n",
              "      <th>4</th>\n",
              "      <th>5</th>\n",
              "      <th>6</th>\n",
              "      <th>7</th>\n",
              "      <th>8</th>\n",
              "      <th>9</th>\n",
              "      <th>10</th>\n",
              "      <th>11</th>\n",
              "      <th>12</th>\n",
              "      <th>13</th>\n",
              "      <th>14</th>\n",
              "      <th>15</th>\n",
              "      <th>16</th>\n",
              "      <th>17</th>\n",
              "      <th>18</th>\n",
              "      <th>19</th>\n",
              "      <th>20</th>\n",
              "      <th>21</th>\n",
              "      <th>22</th>\n",
              "      <th>23</th>\n",
              "      <th>24</th>\n",
              "      <th>25</th>\n",
              "      <th>26</th>\n",
              "      <th>27</th>\n",
              "      <th>28</th>\n",
              "      <th>29</th>\n",
              "      <th>30</th>\n",
              "      <th>31</th>\n",
              "      <th>32</th>\n",
              "      <th>33</th>\n",
              "      <th>34</th>\n",
              "      <th>35</th>\n",
              "      <th>36</th>\n",
              "      <th>37</th>\n",
              "      <th>38</th>\n",
              "      <th>39</th>\n",
              "      <th>40</th>\n",
              "      <th>41</th>\n",
              "      <th>42</th>\n",
              "      <th>43</th>\n",
              "      <th>44</th>\n",
              "      <th>45</th>\n",
              "      <th>46</th>\n",
              "    </tr>\n",
              "  </thead>\n",
              "  <tbody>\n",
              "    <tr>\n",
              "      <th>0</th>\n",
              "      <td>-562.925087</td>\n",
              "      <td>21.557439</td>\n",
              "      <td>138.058267</td>\n",
              "      <td>14.475740</td>\n",
              "      <td>19.548143</td>\n",
              "      <td>7.791383</td>\n",
              "      <td>12.999026</td>\n",
              "      <td>9.100077</td>\n",
              "      <td>21.600209</td>\n",
              "      <td>9.719561</td>\n",
              "      <td>14.446969</td>\n",
              "      <td>5.627485</td>\n",
              "      <td>-2.576167</td>\n",
              "      <td>4.428390</td>\n",
              "      <td>18.317060</td>\n",
              "      <td>6.451234</td>\n",
              "      <td>10.958898</td>\n",
              "      <td>5.390129</td>\n",
              "      <td>-1.539831</td>\n",
              "      <td>6.407789</td>\n",
              "      <td>12.046936</td>\n",
              "      <td>4.550069</td>\n",
              "      <td>5.993121</td>\n",
              "      <td>4.566461</td>\n",
              "      <td>-0.212437</td>\n",
              "      <td>4.507098</td>\n",
              "      <td>8.500691</td>\n",
              "      <td>3.945843</td>\n",
              "      <td>2.442358</td>\n",
              "      <td>4.589298</td>\n",
              "      <td>4.401256</td>\n",
              "      <td>4.109399</td>\n",
              "      <td>3.373647</td>\n",
              "      <td>4.083005</td>\n",
              "      <td>11.001438</td>\n",
              "      <td>3.896518</td>\n",
              "      <td>-1.535348</td>\n",
              "      <td>4.203145</td>\n",
              "      <td>6.301597</td>\n",
              "      <td>3.566660</td>\n",
              "      <td>2786.683923</td>\n",
              "      <td>590.658169</td>\n",
              "      <td>0.001828</td>\n",
              "      <td>0.001386</td>\n",
              "      <td>0.002695</td>\n",
              "      <td>0.0</td>\n",
              "      <td>1.0</td>\n",
              "    </tr>\n",
              "    <tr>\n",
              "      <th>1</th>\n",
              "      <td>-557.469763</td>\n",
              "      <td>21.423113</td>\n",
              "      <td>148.473070</td>\n",
              "      <td>15.753278</td>\n",
              "      <td>11.277962</td>\n",
              "      <td>9.873125</td>\n",
              "      <td>14.374558</td>\n",
              "      <td>7.776245</td>\n",
              "      <td>18.654184</td>\n",
              "      <td>7.553699</td>\n",
              "      <td>14.698216</td>\n",
              "      <td>5.129454</td>\n",
              "      <td>-6.335096</td>\n",
              "      <td>3.801285</td>\n",
              "      <td>14.954548</td>\n",
              "      <td>5.400034</td>\n",
              "      <td>4.686633</td>\n",
              "      <td>5.804493</td>\n",
              "      <td>-1.906151</td>\n",
              "      <td>5.615217</td>\n",
              "      <td>8.911077</td>\n",
              "      <td>4.739704</td>\n",
              "      <td>7.500518</td>\n",
              "      <td>4.471556</td>\n",
              "      <td>-0.236668</td>\n",
              "      <td>4.829023</td>\n",
              "      <td>8.625020</td>\n",
              "      <td>5.135550</td>\n",
              "      <td>2.422326</td>\n",
              "      <td>4.171912</td>\n",
              "      <td>5.397360</td>\n",
              "      <td>4.762204</td>\n",
              "      <td>4.861893</td>\n",
              "      <td>4.533939</td>\n",
              "      <td>9.063538</td>\n",
              "      <td>4.334617</td>\n",
              "      <td>-0.178061</td>\n",
              "      <td>4.083193</td>\n",
              "      <td>4.844873</td>\n",
              "      <td>3.842130</td>\n",
              "      <td>2555.332338</td>\n",
              "      <td>621.289560</td>\n",
              "      <td>0.002321</td>\n",
              "      <td>0.002289</td>\n",
              "      <td>0.002236</td>\n",
              "      <td>0.0</td>\n",
              "      <td>1.0</td>\n",
              "    </tr>\n",
              "    <tr>\n",
              "      <th>2</th>\n",
              "      <td>-557.826734</td>\n",
              "      <td>17.797689</td>\n",
              "      <td>144.215180</td>\n",
              "      <td>17.299450</td>\n",
              "      <td>13.237813</td>\n",
              "      <td>10.163732</td>\n",
              "      <td>15.597461</td>\n",
              "      <td>8.671955</td>\n",
              "      <td>19.922340</td>\n",
              "      <td>7.424054</td>\n",
              "      <td>13.089926</td>\n",
              "      <td>6.041027</td>\n",
              "      <td>-7.515270</td>\n",
              "      <td>5.406003</td>\n",
              "      <td>18.674454</td>\n",
              "      <td>5.412973</td>\n",
              "      <td>6.736416</td>\n",
              "      <td>5.541688</td>\n",
              "      <td>-1.387005</td>\n",
              "      <td>4.789728</td>\n",
              "      <td>7.602748</td>\n",
              "      <td>5.642747</td>\n",
              "      <td>6.957588</td>\n",
              "      <td>5.658691</td>\n",
              "      <td>1.752386</td>\n",
              "      <td>4.010099</td>\n",
              "      <td>9.400265</td>\n",
              "      <td>4.409694</td>\n",
              "      <td>1.891518</td>\n",
              "      <td>4.590440</td>\n",
              "      <td>4.972433</td>\n",
              "      <td>3.711086</td>\n",
              "      <td>5.069213</td>\n",
              "      <td>4.100052</td>\n",
              "      <td>10.317221</td>\n",
              "      <td>4.003902</td>\n",
              "      <td>-0.826737</td>\n",
              "      <td>4.966742</td>\n",
              "      <td>4.236677</td>\n",
              "      <td>3.948591</td>\n",
              "      <td>2636.393362</td>\n",
              "      <td>608.160756</td>\n",
              "      <td>0.002042</td>\n",
              "      <td>0.001431</td>\n",
              "      <td>0.002089</td>\n",
              "      <td>0.0</td>\n",
              "      <td>1.0</td>\n",
              "    </tr>\n",
              "    <tr>\n",
              "      <th>3</th>\n",
              "      <td>-564.837991</td>\n",
              "      <td>10.325538</td>\n",
              "      <td>136.452400</td>\n",
              "      <td>18.311582</td>\n",
              "      <td>14.551319</td>\n",
              "      <td>11.336260</td>\n",
              "      <td>22.049716</td>\n",
              "      <td>8.915737</td>\n",
              "      <td>22.695058</td>\n",
              "      <td>8.641306</td>\n",
              "      <td>15.597456</td>\n",
              "      <td>7.342367</td>\n",
              "      <td>-4.216336</td>\n",
              "      <td>4.296949</td>\n",
              "      <td>15.508378</td>\n",
              "      <td>6.214872</td>\n",
              "      <td>8.328776</td>\n",
              "      <td>5.826851</td>\n",
              "      <td>0.360668</td>\n",
              "      <td>4.906668</td>\n",
              "      <td>5.219446</td>\n",
              "      <td>3.892365</td>\n",
              "      <td>5.428690</td>\n",
              "      <td>4.253783</td>\n",
              "      <td>-0.139583</td>\n",
              "      <td>5.322097</td>\n",
              "      <td>6.066279</td>\n",
              "      <td>5.049504</td>\n",
              "      <td>1.498407</td>\n",
              "      <td>5.300840</td>\n",
              "      <td>4.920706</td>\n",
              "      <td>4.377648</td>\n",
              "      <td>3.972729</td>\n",
              "      <td>3.853207</td>\n",
              "      <td>9.160785</td>\n",
              "      <td>3.761516</td>\n",
              "      <td>0.987406</td>\n",
              "      <td>3.307352</td>\n",
              "      <td>6.310424</td>\n",
              "      <td>4.095321</td>\n",
              "      <td>2856.009138</td>\n",
              "      <td>679.813423</td>\n",
              "      <td>0.002606</td>\n",
              "      <td>0.002189</td>\n",
              "      <td>0.003531</td>\n",
              "      <td>0.0</td>\n",
              "      <td>1.0</td>\n",
              "    </tr>\n",
              "    <tr>\n",
              "      <th>4</th>\n",
              "      <td>-556.727705</td>\n",
              "      <td>14.154986</td>\n",
              "      <td>134.698260</td>\n",
              "      <td>16.621376</td>\n",
              "      <td>10.758485</td>\n",
              "      <td>10.911171</td>\n",
              "      <td>23.601323</td>\n",
              "      <td>11.976850</td>\n",
              "      <td>23.360294</td>\n",
              "      <td>11.256270</td>\n",
              "      <td>12.557841</td>\n",
              "      <td>6.413851</td>\n",
              "      <td>-5.103297</td>\n",
              "      <td>5.260980</td>\n",
              "      <td>14.651687</td>\n",
              "      <td>5.484503</td>\n",
              "      <td>8.624370</td>\n",
              "      <td>5.007130</td>\n",
              "      <td>-3.410873</td>\n",
              "      <td>6.350446</td>\n",
              "      <td>4.757722</td>\n",
              "      <td>4.916879</td>\n",
              "      <td>5.701298</td>\n",
              "      <td>4.877757</td>\n",
              "      <td>-1.292029</td>\n",
              "      <td>3.863764</td>\n",
              "      <td>7.295893</td>\n",
              "      <td>4.182422</td>\n",
              "      <td>4.481379</td>\n",
              "      <td>4.547165</td>\n",
              "      <td>1.889533</td>\n",
              "      <td>5.517273</td>\n",
              "      <td>4.351304</td>\n",
              "      <td>4.545364</td>\n",
              "      <td>8.831758</td>\n",
              "      <td>4.427440</td>\n",
              "      <td>-1.445808</td>\n",
              "      <td>4.541405</td>\n",
              "      <td>3.480489</td>\n",
              "      <td>5.613662</td>\n",
              "      <td>2981.665514</td>\n",
              "      <td>588.791668</td>\n",
              "      <td>0.003400</td>\n",
              "      <td>0.002200</td>\n",
              "      <td>0.002064</td>\n",
              "      <td>0.0</td>\n",
              "      <td>1.0</td>\n",
              "    </tr>\n",
              "    <tr>\n",
              "      <th>...</th>\n",
              "      <td>...</td>\n",
              "      <td>...</td>\n",
              "      <td>...</td>\n",
              "      <td>...</td>\n",
              "      <td>...</td>\n",
              "      <td>...</td>\n",
              "      <td>...</td>\n",
              "      <td>...</td>\n",
              "      <td>...</td>\n",
              "      <td>...</td>\n",
              "      <td>...</td>\n",
              "      <td>...</td>\n",
              "      <td>...</td>\n",
              "      <td>...</td>\n",
              "      <td>...</td>\n",
              "      <td>...</td>\n",
              "      <td>...</td>\n",
              "      <td>...</td>\n",
              "      <td>...</td>\n",
              "      <td>...</td>\n",
              "      <td>...</td>\n",
              "      <td>...</td>\n",
              "      <td>...</td>\n",
              "      <td>...</td>\n",
              "      <td>...</td>\n",
              "      <td>...</td>\n",
              "      <td>...</td>\n",
              "      <td>...</td>\n",
              "      <td>...</td>\n",
              "      <td>...</td>\n",
              "      <td>...</td>\n",
              "      <td>...</td>\n",
              "      <td>...</td>\n",
              "      <td>...</td>\n",
              "      <td>...</td>\n",
              "      <td>...</td>\n",
              "      <td>...</td>\n",
              "      <td>...</td>\n",
              "      <td>...</td>\n",
              "      <td>...</td>\n",
              "      <td>...</td>\n",
              "      <td>...</td>\n",
              "      <td>...</td>\n",
              "      <td>...</td>\n",
              "      <td>...</td>\n",
              "      <td>...</td>\n",
              "      <td>...</td>\n",
              "    </tr>\n",
              "    <tr>\n",
              "      <th>9275</th>\n",
              "      <td>-527.830624</td>\n",
              "      <td>19.040884</td>\n",
              "      <td>191.925136</td>\n",
              "      <td>13.594751</td>\n",
              "      <td>-6.193248</td>\n",
              "      <td>6.743418</td>\n",
              "      <td>12.700438</td>\n",
              "      <td>6.571598</td>\n",
              "      <td>1.271014</td>\n",
              "      <td>5.054141</td>\n",
              "      <td>16.399009</td>\n",
              "      <td>5.319381</td>\n",
              "      <td>-12.598424</td>\n",
              "      <td>5.128355</td>\n",
              "      <td>13.074940</td>\n",
              "      <td>6.778945</td>\n",
              "      <td>-4.547147</td>\n",
              "      <td>5.717908</td>\n",
              "      <td>0.889105</td>\n",
              "      <td>4.746984</td>\n",
              "      <td>11.838059</td>\n",
              "      <td>4.201645</td>\n",
              "      <td>7.596507</td>\n",
              "      <td>4.372635</td>\n",
              "      <td>-0.303508</td>\n",
              "      <td>4.962722</td>\n",
              "      <td>9.148821</td>\n",
              "      <td>5.191171</td>\n",
              "      <td>5.975397</td>\n",
              "      <td>5.109185</td>\n",
              "      <td>0.071615</td>\n",
              "      <td>5.563705</td>\n",
              "      <td>4.553782</td>\n",
              "      <td>4.725842</td>\n",
              "      <td>1.742721</td>\n",
              "      <td>5.648740</td>\n",
              "      <td>-3.076012</td>\n",
              "      <td>5.229517</td>\n",
              "      <td>1.360327</td>\n",
              "      <td>4.283767</td>\n",
              "      <td>1783.449353</td>\n",
              "      <td>508.222726</td>\n",
              "      <td>0.001011</td>\n",
              "      <td>0.001386</td>\n",
              "      <td>0.003866</td>\n",
              "      <td>1.0</td>\n",
              "      <td>928.0</td>\n",
              "    </tr>\n",
              "    <tr>\n",
              "      <th>9276</th>\n",
              "      <td>-535.071091</td>\n",
              "      <td>14.592935</td>\n",
              "      <td>184.324360</td>\n",
              "      <td>12.620068</td>\n",
              "      <td>4.141564</td>\n",
              "      <td>9.694817</td>\n",
              "      <td>12.791219</td>\n",
              "      <td>6.426007</td>\n",
              "      <td>1.232148</td>\n",
              "      <td>7.156266</td>\n",
              "      <td>16.933985</td>\n",
              "      <td>5.163304</td>\n",
              "      <td>-13.027973</td>\n",
              "      <td>5.807204</td>\n",
              "      <td>16.559619</td>\n",
              "      <td>5.937944</td>\n",
              "      <td>-4.414662</td>\n",
              "      <td>5.528523</td>\n",
              "      <td>1.770438</td>\n",
              "      <td>4.572071</td>\n",
              "      <td>6.771228</td>\n",
              "      <td>4.310731</td>\n",
              "      <td>7.592553</td>\n",
              "      <td>5.032670</td>\n",
              "      <td>1.602578</td>\n",
              "      <td>4.522250</td>\n",
              "      <td>8.773250</td>\n",
              "      <td>4.309606</td>\n",
              "      <td>5.439583</td>\n",
              "      <td>5.229881</td>\n",
              "      <td>-2.495087</td>\n",
              "      <td>4.303143</td>\n",
              "      <td>8.018587</td>\n",
              "      <td>4.859980</td>\n",
              "      <td>1.386139</td>\n",
              "      <td>4.642257</td>\n",
              "      <td>1.020707</td>\n",
              "      <td>4.174909</td>\n",
              "      <td>0.165801</td>\n",
              "      <td>3.626852</td>\n",
              "      <td>1811.461018</td>\n",
              "      <td>344.515110</td>\n",
              "      <td>0.000993</td>\n",
              "      <td>0.000748</td>\n",
              "      <td>0.004078</td>\n",
              "      <td>1.0</td>\n",
              "      <td>928.0</td>\n",
              "    </tr>\n",
              "    <tr>\n",
              "      <th>9277</th>\n",
              "      <td>-523.545702</td>\n",
              "      <td>16.427510</td>\n",
              "      <td>187.408304</td>\n",
              "      <td>18.480519</td>\n",
              "      <td>2.301807</td>\n",
              "      <td>10.601395</td>\n",
              "      <td>7.612114</td>\n",
              "      <td>6.720525</td>\n",
              "      <td>5.995486</td>\n",
              "      <td>7.628704</td>\n",
              "      <td>19.563367</td>\n",
              "      <td>6.773303</td>\n",
              "      <td>-12.160259</td>\n",
              "      <td>6.253705</td>\n",
              "      <td>10.492162</td>\n",
              "      <td>4.809261</td>\n",
              "      <td>-1.916240</td>\n",
              "      <td>4.749008</td>\n",
              "      <td>-1.934721</td>\n",
              "      <td>4.584789</td>\n",
              "      <td>5.205770</td>\n",
              "      <td>4.651786</td>\n",
              "      <td>5.353075</td>\n",
              "      <td>5.586241</td>\n",
              "      <td>-0.668536</td>\n",
              "      <td>5.247905</td>\n",
              "      <td>5.630593</td>\n",
              "      <td>5.137175</td>\n",
              "      <td>3.256163</td>\n",
              "      <td>6.157019</td>\n",
              "      <td>-0.733849</td>\n",
              "      <td>5.813028</td>\n",
              "      <td>3.258515</td>\n",
              "      <td>3.728679</td>\n",
              "      <td>2.941924</td>\n",
              "      <td>3.882308</td>\n",
              "      <td>0.156097</td>\n",
              "      <td>4.584797</td>\n",
              "      <td>5.460295</td>\n",
              "      <td>5.764061</td>\n",
              "      <td>1813.692862</td>\n",
              "      <td>476.571107</td>\n",
              "      <td>0.001178</td>\n",
              "      <td>0.001307</td>\n",
              "      <td>0.004962</td>\n",
              "      <td>1.0</td>\n",
              "      <td>928.0</td>\n",
              "    </tr>\n",
              "    <tr>\n",
              "      <th>9278</th>\n",
              "      <td>-509.211703</td>\n",
              "      <td>17.713635</td>\n",
              "      <td>185.998471</td>\n",
              "      <td>20.938434</td>\n",
              "      <td>3.016172</td>\n",
              "      <td>12.683511</td>\n",
              "      <td>11.007599</td>\n",
              "      <td>6.676198</td>\n",
              "      <td>2.432505</td>\n",
              "      <td>7.890611</td>\n",
              "      <td>12.777539</td>\n",
              "      <td>7.341508</td>\n",
              "      <td>-18.685137</td>\n",
              "      <td>7.967061</td>\n",
              "      <td>9.834174</td>\n",
              "      <td>5.033893</td>\n",
              "      <td>-1.017465</td>\n",
              "      <td>4.389558</td>\n",
              "      <td>1.134411</td>\n",
              "      <td>6.211893</td>\n",
              "      <td>8.488958</td>\n",
              "      <td>4.695605</td>\n",
              "      <td>5.941570</td>\n",
              "      <td>5.617686</td>\n",
              "      <td>-0.539157</td>\n",
              "      <td>6.549948</td>\n",
              "      <td>4.360501</td>\n",
              "      <td>5.361117</td>\n",
              "      <td>-0.041099</td>\n",
              "      <td>3.902860</td>\n",
              "      <td>-2.075351</td>\n",
              "      <td>4.093928</td>\n",
              "      <td>3.769763</td>\n",
              "      <td>3.659387</td>\n",
              "      <td>4.133661</td>\n",
              "      <td>5.601595</td>\n",
              "      <td>-0.011318</td>\n",
              "      <td>4.795346</td>\n",
              "      <td>4.149622</td>\n",
              "      <td>4.808685</td>\n",
              "      <td>1934.221848</td>\n",
              "      <td>621.772528</td>\n",
              "      <td>0.001572</td>\n",
              "      <td>0.002335</td>\n",
              "      <td>0.003988</td>\n",
              "      <td>1.0</td>\n",
              "      <td>928.0</td>\n",
              "    </tr>\n",
              "    <tr>\n",
              "      <th>9279</th>\n",
              "      <td>-511.323597</td>\n",
              "      <td>20.885131</td>\n",
              "      <td>175.791321</td>\n",
              "      <td>19.874080</td>\n",
              "      <td>1.728443</td>\n",
              "      <td>6.669344</td>\n",
              "      <td>15.582859</td>\n",
              "      <td>7.627500</td>\n",
              "      <td>-2.418795</td>\n",
              "      <td>5.836635</td>\n",
              "      <td>13.562462</td>\n",
              "      <td>6.960050</td>\n",
              "      <td>-12.268282</td>\n",
              "      <td>6.548310</td>\n",
              "      <td>12.281201</td>\n",
              "      <td>6.222058</td>\n",
              "      <td>0.845851</td>\n",
              "      <td>6.783552</td>\n",
              "      <td>-0.627706</td>\n",
              "      <td>5.203429</td>\n",
              "      <td>6.543122</td>\n",
              "      <td>5.687862</td>\n",
              "      <td>7.817642</td>\n",
              "      <td>5.253314</td>\n",
              "      <td>0.897059</td>\n",
              "      <td>4.142616</td>\n",
              "      <td>8.038641</td>\n",
              "      <td>3.871916</td>\n",
              "      <td>3.612579</td>\n",
              "      <td>5.764616</td>\n",
              "      <td>2.437408</td>\n",
              "      <td>5.296449</td>\n",
              "      <td>1.462081</td>\n",
              "      <td>4.807191</td>\n",
              "      <td>5.221281</td>\n",
              "      <td>4.939698</td>\n",
              "      <td>-0.741453</td>\n",
              "      <td>4.570889</td>\n",
              "      <td>1.604632</td>\n",
              "      <td>3.942422</td>\n",
              "      <td>2098.887092</td>\n",
              "      <td>592.238455</td>\n",
              "      <td>0.002168</td>\n",
              "      <td>0.002299</td>\n",
              "      <td>0.004128</td>\n",
              "      <td>1.0</td>\n",
              "      <td>928.0</td>\n",
              "    </tr>\n",
              "  </tbody>\n",
              "</table>\n",
              "<p>9280 rows × 47 columns</p>\n",
              "</div>"
            ],
            "text/plain": [
              "               0          1           2  ...        44   45     46\n",
              "0    -562.925087  21.557439  138.058267  ...  0.002695  0.0    1.0\n",
              "1    -557.469763  21.423113  148.473070  ...  0.002236  0.0    1.0\n",
              "2    -557.826734  17.797689  144.215180  ...  0.002089  0.0    1.0\n",
              "3    -564.837991  10.325538  136.452400  ...  0.003531  0.0    1.0\n",
              "4    -556.727705  14.154986  134.698260  ...  0.002064  0.0    1.0\n",
              "...          ...        ...         ...  ...       ...  ...    ...\n",
              "9275 -527.830624  19.040884  191.925136  ...  0.003866  1.0  928.0\n",
              "9276 -535.071091  14.592935  184.324360  ...  0.004078  1.0  928.0\n",
              "9277 -523.545702  16.427510  187.408304  ...  0.004962  1.0  928.0\n",
              "9278 -509.211703  17.713635  185.998471  ...  0.003988  1.0  928.0\n",
              "9279 -511.323597  20.885131  175.791321  ...  0.004128  1.0  928.0\n",
              "\n",
              "[9280 rows x 47 columns]"
            ]
          },
          "metadata": {
            "tags": []
          },
          "execution_count": 533
        },
        {
          "output_type": "stream",
          "text": [
            "time: 211 ms\n"
          ],
          "name": "stdout"
        }
      ]
    },
    {
      "cell_type": "code",
      "metadata": {
        "id": "b7yrSNVe1tc4",
        "colab_type": "code",
        "outputId": "47bfdb10-8e0e-41e0-8f05-9023d40c10f1",
        "colab": {
          "base_uri": "https://localhost:8080/",
          "height": 36
        }
      },
      "source": [
        "from sklearn.model_selection import GroupShuffleSplit"
      ],
      "execution_count": 534,
      "outputs": [
        {
          "output_type": "stream",
          "text": [
            "time: 1.12 ms\n"
          ],
          "name": "stdout"
        }
      ]
    },
    {
      "cell_type": "markdown",
      "metadata": {
        "id": "3ya_9cIj-I0x",
        "colab_type": "text"
      },
      "source": [
        "Split no dataframe baseado em grupos do número da música"
      ]
    },
    {
      "cell_type": "code",
      "metadata": {
        "id": "D82SnW0XxcAQ",
        "colab_type": "code",
        "outputId": "5deef7b0-ed34-4a72-f0e7-60ddeecb5557",
        "colab": {
          "base_uri": "https://localhost:8080/",
          "height": 36
        }
      },
      "source": [
        "train_inds, test_inds = next(GroupShuffleSplit(test_size=.20, n_splits=2, random_state = 2).split(df, groups=df['46']))"
      ],
      "execution_count": 535,
      "outputs": [
        {
          "output_type": "stream",
          "text": [
            "time: 4.38 ms\n"
          ],
          "name": "stdout"
        }
      ]
    },
    {
      "cell_type": "code",
      "metadata": {
        "id": "cOgAXy9AoVMx",
        "colab_type": "code",
        "colab": {
          "base_uri": "https://localhost:8080/",
          "height": 36
        },
        "outputId": "e63def48-24be-40f4-af9a-6871e8d9668a"
      },
      "source": [
        "train_inds"
      ],
      "execution_count": 536,
      "outputs": [
        {
          "output_type": "execute_result",
          "data": {
            "text/plain": [
              "array([   0,    1,    2, ..., 9277, 9278, 9279])"
            ]
          },
          "metadata": {
            "tags": []
          },
          "execution_count": 536
        },
        {
          "output_type": "stream",
          "text": [
            "time: 2.88 ms\n"
          ],
          "name": "stdout"
        }
      ]
    },
    {
      "cell_type": "code",
      "metadata": {
        "id": "Wx_Rl7zaoYS3",
        "colab_type": "code",
        "colab": {
          "base_uri": "https://localhost:8080/",
          "height": 36
        },
        "outputId": "f89489fa-b6e5-4b03-aac0-69633915145d"
      },
      "source": [
        "test_inds"
      ],
      "execution_count": 537,
      "outputs": [
        {
          "output_type": "execute_result",
          "data": {
            "text/plain": [
              "array([  70,   71,   72, ..., 9177, 9178, 9179])"
            ]
          },
          "metadata": {
            "tags": []
          },
          "execution_count": 537
        },
        {
          "output_type": "stream",
          "text": [
            "time: 2.99 ms\n"
          ],
          "name": "stdout"
        }
      ]
    },
    {
      "cell_type": "code",
      "metadata": {
        "id": "Us7ZZkPB26h_",
        "colab_type": "code",
        "outputId": "174d0b0b-7650-4e04-c2c7-9b33ee8816d2",
        "colab": {
          "base_uri": "https://localhost:8080/",
          "height": 36
        }
      },
      "source": [
        "import random"
      ],
      "execution_count": 538,
      "outputs": [
        {
          "output_type": "stream",
          "text": [
            "time: 666 µs\n"
          ],
          "name": "stdout"
        }
      ]
    },
    {
      "cell_type": "markdown",
      "metadata": {
        "id": "rZpxs-VFpReU",
        "colab_type": "text"
      },
      "source": [
        ""
      ]
    },
    {
      "cell_type": "code",
      "metadata": {
        "id": "HhFtUoQv3BoH",
        "colab_type": "code",
        "outputId": "2488274c-36be-4e88-b752-72601a57952e",
        "colab": {
          "base_uri": "https://localhost:8080/",
          "height": 36
        }
      },
      "source": [
        "X_train = (df.iloc[train_inds, 0:-2])\n",
        "X_test = (df.iloc[test_inds,0:-2])\n",
        "y_train = (df.iloc[train_inds,[-2,-1]]).values\n",
        "y_test = (df.iloc[test_inds,[-2,-1]]).values"
      ],
      "execution_count": 539,
      "outputs": [
        {
          "output_type": "stream",
          "text": [
            "time: 10.1 ms\n"
          ],
          "name": "stdout"
        }
      ]
    },
    {
      "cell_type": "code",
      "metadata": {
        "id": "eoJQ-2Jo10VP",
        "colab_type": "code",
        "outputId": "84e3d581-c177-4869-c43a-498b8fd4e247",
        "colab": {
          "base_uri": "https://localhost:8080/",
          "height": 36
        }
      },
      "source": [
        "X_train.shape, X_test.shape, y_train.shape, y_test.shape"
      ],
      "execution_count": 540,
      "outputs": [
        {
          "output_type": "execute_result",
          "data": {
            "text/plain": [
              "((7420, 45), (1860, 45), (7420, 2), (1860, 2))"
            ]
          },
          "metadata": {
            "tags": []
          },
          "execution_count": 540
        },
        {
          "output_type": "stream",
          "text": [
            "time: 2.76 ms\n"
          ],
          "name": "stdout"
        }
      ]
    },
    {
      "cell_type": "code",
      "metadata": {
        "id": "tAjJ7sSEMowE",
        "colab_type": "code",
        "outputId": "b2b02779-a133-43a8-c788-01790aa79b5c",
        "colab": {
          "base_uri": "https://localhost:8080/",
          "height": 36
        }
      },
      "source": [
        "from sklearn.preprocessing import StandardScaler\n",
        "scaler = StandardScaler()"
      ],
      "execution_count": 541,
      "outputs": [
        {
          "output_type": "stream",
          "text": [
            "time: 1.18 ms\n"
          ],
          "name": "stdout"
        }
      ]
    },
    {
      "cell_type": "code",
      "metadata": {
        "id": "a6DUiZXyLoTG",
        "colab_type": "code",
        "outputId": "06c46876-ffa7-4b81-ebdc-548c5db62f96",
        "colab": {
          "base_uri": "https://localhost:8080/",
          "height": 36
        }
      },
      "source": [
        "scaler.fit(X_train.values)\n",
        "X_train = scaler.transform(X_train.values)\n",
        "X_test = scaler.transform(X_test.values)"
      ],
      "execution_count": 542,
      "outputs": [
        {
          "output_type": "stream",
          "text": [
            "time: 11.5 ms\n"
          ],
          "name": "stdout"
        }
      ]
    },
    {
      "cell_type": "code",
      "metadata": {
        "id": "LY70ZtEXNxAM",
        "colab_type": "code",
        "outputId": "a0e766a6-1b78-4319-98b3-fdda83013f56",
        "colab": {
          "base_uri": "https://localhost:8080/",
          "height": 36
        }
      },
      "source": [
        "from sklearn.neighbors import KNeighborsClassifier\n",
        "from sklearn import metrics"
      ],
      "execution_count": 543,
      "outputs": [
        {
          "output_type": "stream",
          "text": [
            "time: 1.23 ms\n"
          ],
          "name": "stdout"
        }
      ]
    },
    {
      "cell_type": "markdown",
      "metadata": {
        "id": "V8M6lD3EtV9m",
        "colab_type": "text"
      },
      "source": [
        "# Building a KNN Model"
      ]
    },
    {
      "cell_type": "code",
      "metadata": {
        "id": "ZfChOFvpN4G_",
        "colab_type": "code",
        "outputId": "29687464-3d5b-4c9a-9bed-352b3780d107",
        "colab": {
          "base_uri": "https://localhost:8080/",
          "height": 36
        }
      },
      "source": [
        "def get_k_accuracy(X_train, X_test, y_train, y_test): \n",
        "    def knn_classifier(k, X_train, X_test, y_train, y_test):\n",
        "        #print(y_train)\n",
        "        knn = KNeighborsClassifier(n_neighbors = k)\n",
        "        knn.fit(X_train,y_train)\n",
        "        y_pred = knn.predict(X_test)\n",
        "        #print(y_pred)\n",
        "        return metrics.accuracy_score(y_test,y_pred)\n",
        "\n",
        "    def plot_scores(x,y):\n",
        "        fig, a = plt.subplots(1, figsize = (10, 8))\n",
        "        title = \"Accuracy Score by K values\"\n",
        "        plt.title(title)\n",
        "        plt.xlabel('Value of K for KNN')\n",
        "        plt.ylabel('Testing Accuracy')\n",
        "        a.plot(x, y)\n",
        "\n",
        "    k_range = range(1,15)\n",
        "    scores = {}\n",
        "    scores_list = []\n",
        "\n",
        "    for k in k_range:\n",
        "        scores[k] = knn_classifier(k, X_train, X_test, y_train, y_test)\n",
        "        scores_list.append(scores[k])\n",
        "\n",
        "    plot_scores(list(k_range), scores_list)\n",
        "    print('Accuracy: ' + str(scores[max(scores, key= scores.get)]))\n",
        "    return max(scores, key= scores.get)\n",
        "\n"
      ],
      "execution_count": 544,
      "outputs": [
        {
          "output_type": "stream",
          "text": [
            "time: 14.6 ms\n"
          ],
          "name": "stdout"
        }
      ]
    },
    {
      "cell_type": "code",
      "metadata": {
        "id": "VBmcnv4aOCKQ",
        "colab_type": "code",
        "outputId": "cf1bd82f-c41b-4d68-af51-aba8ae56bf61",
        "colab": {
          "base_uri": "https://localhost:8080/",
          "height": 550
        }
      },
      "source": [
        "k = get_k_accuracy(X_train,X_test, y_train[:,0], y_test[:,0])\n",
        "knn = KNeighborsClassifier(n_neighbors=k)\n",
        "knn.fit(X_train,y_train[:,0])\n",
        "y_pred = knn.predict(X_test)"
      ],
      "execution_count": 545,
      "outputs": [
        {
          "output_type": "stream",
          "text": [
            "Accuracy: 0.8381720430107527\n"
          ],
          "name": "stdout"
        },
        {
          "output_type": "display_data",
          "data": {
            "image/png": "[encoded data removed]",
            "text/plain": [
              "<Figure size 720x576 with 1 Axes>"
            ]
          },
          "metadata": {
            "tags": [],
            "needs_background": "light"
          }
        },
        {
          "output_type": "stream",
          "text": [
            "time: 19.1 s\n"
          ],
          "name": "stdout"
        }
      ]
    },
    {
      "cell_type": "code",
      "metadata": {
        "id": "_GVoJEB6EFLB",
        "colab_type": "code",
        "outputId": "e7ff22cd-951e-4454-cf62-c1bf3a22649e",
        "colab": {
          "base_uri": "https://localhost:8080/",
          "height": 36
        }
      },
      "source": [
        "from collections import Counter"
      ],
      "execution_count": 546,
      "outputs": [
        {
          "output_type": "stream",
          "text": [
            "time: 782 µs\n"
          ],
          "name": "stdout"
        }
      ]
    },
    {
      "cell_type": "markdown",
      "metadata": {
        "id": "jQAceUVb-qqG",
        "colab_type": "text"
      },
      "source": [
        "Contagem das predições para cada música"
      ]
    },
    {
      "cell_type": "code",
      "metadata": {
        "id": "WdcQ6XXtwyX7",
        "colab_type": "code",
        "colab": {
          "base_uri": "https://localhost:8080/",
          "height": 148
        },
        "outputId": "65648907-7e81-426c-a925-9fe09f0f669c"
      },
      "source": [
        "(y_test, y_pred)"
      ],
      "execution_count": 547,
      "outputs": [
        {
          "output_type": "execute_result",
          "data": {
            "text/plain": [
              "(array([[  0.,   8.],\n",
              "        [  0.,   8.],\n",
              "        [  0.,   8.],\n",
              "        ...,\n",
              "        [  1., 918.],\n",
              "        [  1., 918.],\n",
              "        [  1., 918.]]), array([1., 0., 0., ..., 1., 1., 1.]))"
            ]
          },
          "metadata": {
            "tags": []
          },
          "execution_count": 547
        },
        {
          "output_type": "stream",
          "text": [
            "time: 4.7 ms\n"
          ],
          "name": "stdout"
        }
      ]
    },
    {
      "cell_type": "code",
      "metadata": {
        "id": "cY0LI6g15kpW",
        "colab_type": "code",
        "outputId": "a8dd76ed-5b22-4773-cff6-dbce4770b0d1",
        "colab": {
          "base_uri": "https://localhost:8080/",
          "height": 1000
        }
      },
      "source": [
        "counts = dict()\n",
        "for id in np.unique(y_test[:,1]):\n",
        "    counts[id] = []\n",
        "print(counts)\n",
        "for t, p in zip(y_test, y_pred):\n",
        "    counts[t[1]].append(p)\n",
        "\n",
        "counter = [Counter(y) for x,y in counts.items()]\n",
        "counter"
      ],
      "execution_count": 548,
      "outputs": [
        {
          "output_type": "stream",
          "text": [
            "{8.0: [], 16.0: [], 19.0: [], 21.0: [], 23.0: [], 38.0: [], 63.0: [], 66.0: [], 68.0: [], 69.0: [], 71.0: [], 75.0: [], 85.0: [], 92.0: [], 100.0: [], 102.0: [], 108.0: [], 110.0: [], 129.0: [], 138.0: [], 142.0: [], 143.0: [], 144.0: [], 147.0: [], 153.0: [], 159.0: [], 161.0: [], 165.0: [], 170.0: [], 173.0: [], 180.0: [], 184.0: [], 186.0: [], 189.0: [], 193.0: [], 194.0: [], 198.0: [], 206.0: [], 210.0: [], 213.0: [], 227.0: [], 231.0: [], 232.0: [], 237.0: [], 249.0: [], 251.0: [], 252.0: [], 258.0: [], 259.0: [], 268.0: [], 273.0: [], 274.0: [], 276.0: [], 292.0: [], 294.0: [], 296.0: [], 306.0: [], 312.0: [], 313.0: [], 316.0: [], 323.0: [], 328.0: [], 331.0: [], 334.0: [], 336.0: [], 345.0: [], 346.0: [], 364.0: [], 366.0: [], 380.0: [], 385.0: [], 388.0: [], 397.0: [], 400.0: [], 401.0: [], 413.0: [], 418.0: [], 420.0: [], 428.0: [], 438.0: [], 439.0: [], 440.0: [], 441.0: [], 448.0: [], 452.0: [], 461.0: [], 466.0: [], 471.0: [], 474.0: [], 481.0: [], 482.0: [], 485.0: [], 487.0: [], 493.0: [], 505.0: [], 506.0: [], 509.0: [], 512.0: [], 519.0: [], 531.0: [], 545.0: [], 554.0: [], 558.0: [], 569.0: [], 572.0: [], 573.0: [], 578.0: [], 580.0: [], 581.0: [], 594.0: [], 596.0: [], 597.0: [], 599.0: [], 601.0: [], 617.0: [], 622.0: [], 625.0: [], 630.0: [], 631.0: [], 632.0: [], 634.0: [], 637.0: [], 640.0: [], 641.0: [], 643.0: [], 645.0: [], 646.0: [], 654.0: [], 657.0: [], 661.0: [], 672.0: [], 674.0: [], 684.0: [], 686.0: [], 687.0: [], 688.0: [], 691.0: [], 693.0: [], 694.0: [], 696.0: [], 703.0: [], 716.0: [], 734.0: [], 736.0: [], 738.0: [], 740.0: [], 743.0: [], 753.0: [], 757.0: [], 774.0: [], 779.0: [], 782.0: [], 788.0: [], 790.0: [], 793.0: [], 795.0: [], 796.0: [], 797.0: [], 814.0: [], 815.0: [], 819.0: [], 820.0: [], 822.0: [], 827.0: [], 830.0: [], 833.0: [], 834.0: [], 836.0: [], 850.0: [], 862.0: [], 864.0: [], 867.0: [], 868.0: [], 872.0: [], 877.0: [], 884.0: [], 887.0: [], 895.0: [], 899.0: [], 902.0: [], 903.0: [], 905.0: [], 907.0: [], 911.0: [], 913.0: [], 918.0: []}\n"
          ],
          "name": "stdout"
        },
        {
          "output_type": "execute_result",
          "data": {
            "text/plain": [
              "[Counter({0.0: 7, 1.0: 3}),\n",
              " Counter({0.0: 5, 1.0: 5}),\n",
              " Counter({0.0: 9, 1.0: 1}),\n",
              " Counter({0.0: 8, 1.0: 2}),\n",
              " Counter({0.0: 10}),\n",
              " Counter({0.0: 10}),\n",
              " Counter({0.0: 3, 1.0: 7}),\n",
              " Counter({0.0: 7, 1.0: 3}),\n",
              " Counter({0.0: 10}),\n",
              " Counter({0.0: 10}),\n",
              " Counter({0.0: 10}),\n",
              " Counter({0.0: 2, 1.0: 8}),\n",
              " Counter({0.0: 10}),\n",
              " Counter({0.0: 10}),\n",
              " Counter({0.0: 7, 1.0: 3}),\n",
              " Counter({0.0: 10}),\n",
              " Counter({0.0: 10}),\n",
              " Counter({0.0: 8, 1.0: 2}),\n",
              " Counter({0.0: 10}),\n",
              " Counter({0.0: 8, 1.0: 2}),\n",
              " Counter({0.0: 8, 1.0: 2}),\n",
              " Counter({0.0: 10}),\n",
              " Counter({0.0: 10}),\n",
              " Counter({0.0: 10}),\n",
              " Counter({0.0: 2, 1.0: 8}),\n",
              " Counter({0.0: 10}),\n",
              " Counter({0.0: 8, 1.0: 2}),\n",
              " Counter({1.0: 10}),\n",
              " Counter({0.0: 10}),\n",
              " Counter({0.0: 7, 1.0: 3}),\n",
              " Counter({0.0: 6, 1.0: 4}),\n",
              " Counter({0.0: 10}),\n",
              " Counter({0.0: 9, 1.0: 1}),\n",
              " Counter({0.0: 8, 1.0: 2}),\n",
              " Counter({0.0: 9, 1.0: 1}),\n",
              " Counter({0.0: 2, 1.0: 8}),\n",
              " Counter({0.0: 10}),\n",
              " Counter({0.0: 10}),\n",
              " Counter({0.0: 10}),\n",
              " Counter({0.0: 9, 1.0: 1}),\n",
              " Counter({0.0: 3, 1.0: 7}),\n",
              " Counter({0.0: 5, 1.0: 5}),\n",
              " Counter({0.0: 9, 1.0: 1}),\n",
              " Counter({0.0: 9, 1.0: 1}),\n",
              " Counter({0.0: 7, 1.0: 3}),\n",
              " Counter({0.0: 10}),\n",
              " Counter({0.0: 10}),\n",
              " Counter({0.0: 10}),\n",
              " Counter({0.0: 10}),\n",
              " Counter({0.0: 7, 1.0: 3}),\n",
              " Counter({0.0: 5, 1.0: 5}),\n",
              " Counter({0.0: 10}),\n",
              " Counter({0.0: 10}),\n",
              " Counter({0.0: 10}),\n",
              " Counter({0.0: 5, 1.0: 5}),\n",
              " Counter({0.0: 6, 1.0: 4}),\n",
              " Counter({0.0: 10}),\n",
              " Counter({0.0: 10}),\n",
              " Counter({0.0: 9, 1.0: 1}),\n",
              " Counter({0.0: 9, 1.0: 1}),\n",
              " Counter({0.0: 9, 1.0: 1}),\n",
              " Counter({0.0: 10}),\n",
              " Counter({0.0: 7, 1.0: 3}),\n",
              " Counter({0.0: 10}),\n",
              " Counter({0.0: 10}),\n",
              " Counter({0.0: 9, 1.0: 1}),\n",
              " Counter({0.0: 10}),\n",
              " Counter({0.0: 8, 1.0: 2}),\n",
              " Counter({0.0: 2, 1.0: 8}),\n",
              " Counter({0.0: 3, 1.0: 7}),\n",
              " Counter({0.0: 10}),\n",
              " Counter({0.0: 10}),\n",
              " Counter({0.0: 5, 1.0: 5}),\n",
              " Counter({0.0: 10}),\n",
              " Counter({0.0: 7, 1.0: 3}),\n",
              " Counter({0.0: 9, 1.0: 1}),\n",
              " Counter({0.0: 9, 1.0: 1}),\n",
              " Counter({0.0: 10}),\n",
              " Counter({0.0: 10}),\n",
              " Counter({0.0: 10}),\n",
              " Counter({0.0: 2, 1.0: 8}),\n",
              " Counter({0.0: 10}),\n",
              " Counter({0.0: 4, 1.0: 6}),\n",
              " Counter({0.0: 10}),\n",
              " Counter({0.0: 10}),\n",
              " Counter({1.0: 10}),\n",
              " Counter({1.0: 10}),\n",
              " Counter({1.0: 10}),\n",
              " Counter({1.0: 10}),\n",
              " Counter({1.0: 10}),\n",
              " Counter({0.0: 5, 1.0: 5}),\n",
              " Counter({0.0: 1, 1.0: 9}),\n",
              " Counter({1.0: 10}),\n",
              " Counter({1.0: 10}),\n",
              " Counter({1.0: 10}),\n",
              " Counter({1.0: 10}),\n",
              " Counter({1.0: 10}),\n",
              " Counter({1.0: 10}),\n",
              " Counter({0.0: 6, 1.0: 4}),\n",
              " Counter({1.0: 10}),\n",
              " Counter({1.0: 10}),\n",
              " Counter({1.0: 10}),\n",
              " Counter({1.0: 10}),\n",
              " Counter({0.0: 9, 1.0: 1}),\n",
              " Counter({1.0: 10}),\n",
              " Counter({1.0: 10}),\n",
              " Counter({1.0: 10}),\n",
              " Counter({0.0: 10}),\n",
              " Counter({0.0: 5, 1.0: 5}),\n",
              " Counter({1.0: 10}),\n",
              " Counter({1.0: 10}),\n",
              " Counter({1.0: 10}),\n",
              " Counter({0.0: 5, 1.0: 5}),\n",
              " Counter({1.0: 10}),\n",
              " Counter({1.0: 10}),\n",
              " Counter({1.0: 10}),\n",
              " Counter({0.0: 1, 1.0: 9}),\n",
              " Counter({1.0: 10}),\n",
              " Counter({0.0: 3, 1.0: 7}),\n",
              " Counter({1.0: 10}),\n",
              " Counter({1.0: 10}),\n",
              " Counter({0.0: 3, 1.0: 7}),\n",
              " Counter({1.0: 10}),\n",
              " Counter({1.0: 10}),\n",
              " Counter({0.0: 1, 1.0: 9}),\n",
              " Counter({0.0: 4, 1.0: 6}),\n",
              " Counter({0.0: 1, 1.0: 9}),\n",
              " Counter({0.0: 3, 1.0: 7}),\n",
              " Counter({1.0: 10}),\n",
              " Counter({1.0: 10}),\n",
              " Counter({1.0: 10}),\n",
              " Counter({0.0: 2, 1.0: 8}),\n",
              " Counter({1.0: 10}),\n",
              " Counter({1.0: 10}),\n",
              " Counter({1.0: 10}),\n",
              " Counter({0.0: 1, 1.0: 9}),\n",
              " Counter({0.0: 2, 1.0: 8}),\n",
              " Counter({1.0: 10}),\n",
              " Counter({0.0: 9, 1.0: 1}),\n",
              " Counter({1.0: 10}),\n",
              " Counter({1.0: 10}),\n",
              " Counter({1.0: 10}),\n",
              " Counter({0.0: 2, 1.0: 8}),\n",
              " Counter({1.0: 10}),\n",
              " Counter({0.0: 1, 1.0: 9}),\n",
              " Counter({1.0: 10}),\n",
              " Counter({1.0: 10}),\n",
              " Counter({0.0: 2, 1.0: 8}),\n",
              " Counter({0.0: 5, 1.0: 5}),\n",
              " Counter({1.0: 10}),\n",
              " Counter({1.0: 10}),\n",
              " Counter({0.0: 1, 1.0: 9}),\n",
              " Counter({0.0: 6, 1.0: 4}),\n",
              " Counter({0.0: 3, 1.0: 7}),\n",
              " Counter({0.0: 3, 1.0: 7}),\n",
              " Counter({0.0: 2, 1.0: 8}),\n",
              " Counter({1.0: 10}),\n",
              " Counter({0.0: 6, 1.0: 4}),\n",
              " Counter({0.0: 1, 1.0: 9}),\n",
              " Counter({1.0: 10}),\n",
              " Counter({1.0: 10}),\n",
              " Counter({0.0: 1, 1.0: 9}),\n",
              " Counter({1.0: 10}),\n",
              " Counter({1.0: 10}),\n",
              " Counter({1.0: 10}),\n",
              " Counter({1.0: 10}),\n",
              " Counter({0.0: 1, 1.0: 9}),\n",
              " Counter({0.0: 1, 1.0: 9}),\n",
              " Counter({0.0: 3, 1.0: 7}),\n",
              " Counter({1.0: 10}),\n",
              " Counter({1.0: 10}),\n",
              " Counter({1.0: 10}),\n",
              " Counter({1.0: 10}),\n",
              " Counter({0.0: 4, 1.0: 6}),\n",
              " Counter({1.0: 10}),\n",
              " Counter({0.0: 4, 1.0: 6}),\n",
              " Counter({1.0: 10}),\n",
              " Counter({0.0: 1, 1.0: 9}),\n",
              " Counter({0.0: 1, 1.0: 9}),\n",
              " Counter({1.0: 10}),\n",
              " Counter({0.0: 1, 1.0: 9}),\n",
              " Counter({0.0: 2, 1.0: 8}),\n",
              " Counter({1.0: 10}),\n",
              " Counter({0.0: 9, 1.0: 1}),\n",
              " Counter({0.0: 10}),\n",
              " Counter({1.0: 10})]"
            ]
          },
          "metadata": {
            "tags": []
          },
          "execution_count": 548
        },
        {
          "output_type": "stream",
          "text": [
            "time: 18.4 ms\n"
          ],
          "name": "stdout"
        }
      ]
    },
    {
      "cell_type": "markdown",
      "metadata": {
        "id": "QXsdQcdW-xn6",
        "colab_type": "text"
      },
      "source": [
        "Votação das predições"
      ]
    },
    {
      "cell_type": "code",
      "metadata": {
        "id": "FMJK3DPdzu88",
        "colab_type": "code",
        "outputId": "6f9eca0a-fc99-45ca-9fce-12ec2bf6e7ae",
        "colab": {
          "base_uri": "https://localhost:8080/",
          "height": 36
        }
      },
      "source": [
        "music_y_pred = [max(x, key=x.get) for x in counter]\n",
        "music_y_test = np.unique(y_test, axis=0)[:,0]"
      ],
      "execution_count": 583,
      "outputs": [
        {
          "output_type": "stream",
          "text": [
            "time: 2.91 ms\n"
          ],
          "name": "stdout"
        }
      ]
    },
    {
      "cell_type": "code",
      "metadata": {
        "id": "B2PVmca06p_o",
        "colab_type": "code",
        "outputId": "33ba665a-190c-453f-c11b-f8d65e93465f",
        "colab": {
          "base_uri": "https://localhost:8080/",
          "height": 36
        }
      },
      "source": [
        "metrics.accuracy_score(music_y_test,music_y_pred)"
      ],
      "execution_count": 584,
      "outputs": [
        {
          "output_type": "execute_result",
          "data": {
            "text/plain": [
              "0.8817204301075269"
            ]
          },
          "metadata": {
            "tags": []
          },
          "execution_count": 584
        },
        {
          "output_type": "stream",
          "text": [
            "time: 3.02 ms\n"
          ],
          "name": "stdout"
        }
      ]
    },
    {
      "cell_type": "code",
      "metadata": {
        "id": "h1JGSISJOGJC",
        "colab_type": "code",
        "outputId": "64d97585-94ca-409b-ac45-7bdcce4df4dc",
        "colab": {
          "base_uri": "https://localhost:8080/",
          "height": 225
        }
      },
      "source": [
        "from sklearn.decomposition import PCA\n",
        "import seaborn as sns\n",
        "\n",
        "pca = PCA(3)\n",
        "trans_pca = pca.fit_transform(X_test)\n",
        "trans_pca = pd.DataFrame(trans_pca)\n",
        "trans_pca['Labels'] = y_test[:,0]\n",
        "trans_pca.columns = ['PC1', 'PC2','PC3','Labels']\n",
        "trans_pca.head()"
      ],
      "execution_count": 555,
      "outputs": [
        {
          "output_type": "execute_result",
          "data": {
            "text/html": [
              "<div>\n",
              "<style scoped>\n",
              "    .dataframe tbody tr th:only-of-type {\n",
              "        vertical-align: middle;\n",
              "    }\n",
              "\n",
              "    .dataframe tbody tr th {\n",
              "        vertical-align: top;\n",
              "    }\n",
              "\n",
              "    .dataframe thead th {\n",
              "        text-align: right;\n",
              "    }\n",
              "</style>\n",
              "<table border=\"1\" class=\"dataframe\">\n",
              "  <thead>\n",
              "    <tr style=\"text-align: right;\">\n",
              "      <th></th>\n",
              "      <th>PC1</th>\n",
              "      <th>PC2</th>\n",
              "      <th>PC3</th>\n",
              "      <th>Labels</th>\n",
              "    </tr>\n",
              "  </thead>\n",
              "  <tbody>\n",
              "    <tr>\n",
              "      <th>0</th>\n",
              "      <td>1.408937</td>\n",
              "      <td>0.568961</td>\n",
              "      <td>-1.219159</td>\n",
              "      <td>0.0</td>\n",
              "    </tr>\n",
              "    <tr>\n",
              "      <th>1</th>\n",
              "      <td>0.246279</td>\n",
              "      <td>0.407876</td>\n",
              "      <td>-1.813330</td>\n",
              "      <td>0.0</td>\n",
              "    </tr>\n",
              "    <tr>\n",
              "      <th>2</th>\n",
              "      <td>6.811812</td>\n",
              "      <td>0.979790</td>\n",
              "      <td>0.435639</td>\n",
              "      <td>0.0</td>\n",
              "    </tr>\n",
              "    <tr>\n",
              "      <th>3</th>\n",
              "      <td>0.920515</td>\n",
              "      <td>0.172324</td>\n",
              "      <td>-0.982046</td>\n",
              "      <td>0.0</td>\n",
              "    </tr>\n",
              "    <tr>\n",
              "      <th>4</th>\n",
              "      <td>-1.156709</td>\n",
              "      <td>1.183420</td>\n",
              "      <td>-1.961186</td>\n",
              "      <td>0.0</td>\n",
              "    </tr>\n",
              "  </tbody>\n",
              "</table>\n",
              "</div>"
            ],
            "text/plain": [
              "        PC1       PC2       PC3  Labels\n",
              "0  1.408937  0.568961 -1.219159     0.0\n",
              "1  0.246279  0.407876 -1.813330     0.0\n",
              "2  6.811812  0.979790  0.435639     0.0\n",
              "3  0.920515  0.172324 -0.982046     0.0\n",
              "4 -1.156709  1.183420 -1.961186     0.0"
            ]
          },
          "metadata": {
            "tags": []
          },
          "execution_count": 555
        },
        {
          "output_type": "stream",
          "text": [
            "time: 43.2 ms\n"
          ],
          "name": "stdout"
        }
      ]
    },
    {
      "cell_type": "code",
      "metadata": {
        "id": "majqyaav44Si",
        "colab_type": "code",
        "outputId": "dbfae1de-dc2f-4799-e04d-7dad17b24460",
        "colab": {
          "base_uri": "https://localhost:8080/",
          "height": 425
        }
      },
      "source": [
        "plt.figure(figsize=(10,6))\n",
        "sns.scatterplot(x=trans_pca['PC1'], y=trans_pca['PC2'], hue=trans_pca['Labels'])"
      ],
      "execution_count": 558,
      "outputs": [
        {
          "output_type": "execute_result",
          "data": {
            "text/plain": [
              "<matplotlib.axes._subplots.AxesSubplot at 0x7f1addf9cc18>"
            ]
          },
          "metadata": {
            "tags": []
          },
          "execution_count": 558
        },
        {
          "output_type": "display_data",
          "data": {
            "image/png": "[encoded data removed]",
            "text/plain": [
              "<Figure size 720x432 with 1 Axes>"
            ]
          },
          "metadata": {
            "tags": [],
            "needs_background": "light"
          }
        },
        {
          "output_type": "stream",
          "text": [
            "time: 357 ms\n"
          ],
          "name": "stdout"
        }
      ]
    },
    {
      "cell_type": "code",
      "metadata": {
        "id": "pc5HyLLSwEl-",
        "colab_type": "code",
        "colab": {
          "base_uri": "https://localhost:8080/",
          "height": 376
        },
        "outputId": "6530648b-d2c4-4c0a-d49b-34e9db25bf8d"
      },
      "source": [
        "fig = plt.figure(figsize=(10,6))\n",
        "ax = plt.axes(projection=\"3d\")\n",
        "ax.scatter3D(trans_pca['PC1'], trans_pca['PC2'], trans_pca['PC3'], c=trans_pca['Labels']);\n",
        "plt.show()"
      ],
      "execution_count": 582,
      "outputs": [
        {
          "output_type": "display_data",
          "data": {
            "image/png": "[encoded data removed]",
            "text/plain": [
              "<Figure size 720x432 with 1 Axes>"
            ]
          },
          "metadata": {
            "tags": [],
            "needs_background": "light"
          }
        },
        {
          "output_type": "stream",
          "text": [
            "time: 184 ms\n"
          ],
          "name": "stdout"
        }
      ]
    },
    {
      "cell_type": "code",
      "metadata": {
        "id": "UO_X8ejyzjcq",
        "colab_type": "code",
        "colab": {}
      },
      "source": [
        ""
      ],
      "execution_count": 0,
      "outputs": []
    }
  ]
}