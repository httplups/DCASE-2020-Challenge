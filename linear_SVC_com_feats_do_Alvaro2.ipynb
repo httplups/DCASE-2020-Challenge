{
  "nbformat": 4,
  "nbformat_minor": 0,
  "metadata": {
    "colab": {
      "name": "linear SVC com feats do Alvaro.ipynb",
      "provenance": [],
      "collapsed_sections": [],
      "toc_visible": true,
      "machine_shape": "hm"
    },
    "kernelspec": {
      "name": "python3",
      "display_name": "Python 3"
    }
  },
  "cells": [
    {
      "cell_type": "code",
      "metadata": {
        "id": "ptGENpqklOQv",
        "colab_type": "code",
        "outputId": "9443e3ca-6562-436b-879b-af8000bb6898",
        "colab": {
          "base_uri": "https://localhost:8080/",
          "height": 374
        }
      },
      "source": [
        "import matplotlib.pyplot as plt\n",
        "import numpy as np # linear algebra\n",
        "import pandas as pd\n",
        "import librosa\n",
        "import librosa.display\n",
        "import os\n",
        "from os import path\n",
        "import io\n",
        "!pip3 install soundfile\n",
        "!pip3 install librosa\n",
        "import soundfile as sf\n",
        "import librosa.feature\n"
      ],
      "execution_count": 1,
      "outputs": [
        {
          "output_type": "stream",
          "text": [
            "Collecting soundfile\n",
            "  Downloading https://files.pythonhosted.org/packages/eb/f2/3cbbbf3b96fb9fa91582c438b574cff3f45b29c772f94c400e2c99ef5db9/SoundFile-0.10.3.post1-py2.py3-none-any.whl\n",
            "Requirement already satisfied: cffi>=1.0 in /usr/local/lib/python3.6/dist-packages (from soundfile) (1.14.0)\n",
            "Requirement already satisfied: pycparser in /usr/local/lib/python3.6/dist-packages (from cffi>=1.0->soundfile) (2.20)\n",
            "Installing collected packages: soundfile\n",
            "Successfully installed soundfile-0.10.3.post1\n",
            "Requirement already satisfied: librosa in /usr/local/lib/python3.6/dist-packages (0.6.3)\n",
            "Requirement already satisfied: decorator>=3.0.0 in /usr/local/lib/python3.6/dist-packages (from librosa) (4.4.2)\n",
            "Requirement already satisfied: numba>=0.38.0 in /usr/local/lib/python3.6/dist-packages (from librosa) (0.48.0)\n",
            "Requirement already satisfied: six>=1.3 in /usr/local/lib/python3.6/dist-packages (from librosa) (1.12.0)\n",
            "Requirement already satisfied: joblib>=0.12 in /usr/local/lib/python3.6/dist-packages (from librosa) (0.15.1)\n",
            "Requirement already satisfied: resampy>=0.2.0 in /usr/local/lib/python3.6/dist-packages (from librosa) (0.2.2)\n",
            "Requirement already satisfied: audioread>=2.0.0 in /usr/local/lib/python3.6/dist-packages (from librosa) (2.1.8)\n",
            "Requirement already satisfied: numpy>=1.8.0 in /usr/local/lib/python3.6/dist-packages (from librosa) (1.18.4)\n",
            "Requirement already satisfied: scikit-learn!=0.19.0,>=0.14.0 in /usr/local/lib/python3.6/dist-packages (from librosa) (0.22.2.post1)\n",
            "Requirement already satisfied: scipy>=1.0.0 in /usr/local/lib/python3.6/dist-packages (from librosa) (1.4.1)\n",
            "Requirement already satisfied: llvmlite<0.32.0,>=0.31.0dev0 in /usr/local/lib/python3.6/dist-packages (from numba>=0.38.0->librosa) (0.31.0)\n",
            "Requirement already satisfied: setuptools in /usr/local/lib/python3.6/dist-packages (from numba>=0.38.0->librosa) (47.1.1)\n"
          ],
          "name": "stdout"
        }
      ]
    },
    {
      "cell_type": "code",
      "metadata": {
        "id": "c-kU_a0NruyM",
        "colab_type": "code",
        "outputId": "bd30819b-d2e0-48bb-a7a7-e9be03d29c4a",
        "colab": {
          "base_uri": "https://localhost:8080/",
          "height": 205
        }
      },
      "source": [
        "!pip install ipython-autotime\n",
        "\n",
        "%load_ext autotime"
      ],
      "execution_count": 2,
      "outputs": [
        {
          "output_type": "stream",
          "text": [
            "Collecting ipython-autotime\n",
            "  Downloading https://files.pythonhosted.org/packages/e6/f9/0626bbdb322e3a078d968e87e3b01341e7890544de891d0cb613641220e6/ipython-autotime-0.1.tar.bz2\n",
            "Building wheels for collected packages: ipython-autotime\n",
            "  Building wheel for ipython-autotime (setup.py) ... \u001b[?25l\u001b[?25hdone\n",
            "  Created wheel for ipython-autotime: filename=ipython_autotime-0.1-cp36-none-any.whl size=1832 sha256=8ff1f995e54768668695c7480285440e5243584ef98b2652993cdfad21e253fd\n",
            "  Stored in directory: /root/.cache/pip/wheels/d2/df/81/2db1e54bc91002cec40334629bc39cfa86dff540b304ebcd6e\n",
            "Successfully built ipython-autotime\n",
            "Installing collected packages: ipython-autotime\n",
            "Successfully installed ipython-autotime-0.1\n"
          ],
          "name": "stdout"
        }
      ]
    },
    {
      "cell_type": "code",
      "metadata": {
        "id": "l3mJ16fN68ns",
        "colab_type": "code",
        "outputId": "6e01349a-01ba-45fd-b06d-e4cceed09e9f",
        "colab": {
          "base_uri": "https://localhost:8080/",
          "height": 36
        }
      },
      "source": [
        "LABELS = ['indoor', 'outdoor', 'transportation']"
      ],
      "execution_count": 3,
      "outputs": [
        {
          "output_type": "stream",
          "text": [
            "time: 1.1 ms\n"
          ],
          "name": "stdout"
        }
      ]
    },
    {
      "cell_type": "code",
      "metadata": {
        "id": "A587AkAuzyl8",
        "colab_type": "code",
        "outputId": "363adcf1-c3a1-45e2-928b-5fe3e029ec31",
        "colab": {
          "base_uri": "https://localhost:8080/",
          "height": 36
        }
      },
      "source": [
        "FILEPATH = '/content/drive/My Drive/DCASE 2020 Challenge/TAU Urban Acoustic Scenes 2020 3Class/features.csv'"
      ],
      "execution_count": 4,
      "outputs": [
        {
          "output_type": "stream",
          "text": [
            "time: 1.12 ms\n"
          ],
          "name": "stdout"
        }
      ]
    },
    {
      "cell_type": "markdown",
      "metadata": {
        "id": "zCC0EbABtCfB",
        "colab_type": "text"
      },
      "source": [
        "Labels:\n",
        "\n",
        "\n",
        "0.   Indoor\n",
        "1.   Outdoor\n",
        "2.   Transportation\n",
        "\n"
      ]
    },
    {
      "cell_type": "code",
      "metadata": {
        "id": "bvib9vlm3hVm",
        "colab_type": "code",
        "outputId": "edd179ac-5b2a-471e-ec03-fdc8e62dde13",
        "colab": {
          "base_uri": "https://localhost:8080/",
          "height": 36
        }
      },
      "source": [
        "def clear_csv(FILEPATH):\n",
        "    if os.path.exists(FILEPATH):\n",
        "        # clear the file\n",
        "        f = open(FILEPATH, \"w\")\n",
        "        f.truncate()\n",
        "        f.close()"
      ],
      "execution_count": 5,
      "outputs": [
        {
          "output_type": "stream",
          "text": [
            "time: 2.22 ms\n"
          ],
          "name": "stdout"
        }
      ]
    },
    {
      "cell_type": "markdown",
      "metadata": {
        "id": "3eQS2FIKz-3Y",
        "colab_type": "text"
      },
      "source": [
        "# Getting Features\n",
        "\n",
        "1.   Centroid Mean\n",
        "2.   Centroid STD\n",
        "3.   Flatness Mean\n",
        "4.   Flatness STD\n",
        "5.   RMS\n",
        "\n"
      ]
    },
    {
      "cell_type": "code",
      "metadata": {
        "id": "MMDTe_UtA_Qz",
        "colab_type": "code",
        "outputId": "859f0fc9-c906-40ca-e395-d9fca9774130",
        "colab": {
          "base_uri": "https://localhost:8080/",
          "height": 355
        }
      },
      "source": [
        "BASE_PATH = '/content/drive/My Drive/DCASE 2020 Challenge/TAU Urban Acoustic Scenes 2020 3Class/'\n",
        "df = pd.DataFrame()\n",
        "for i in range(1,17):\n",
        "    filepath = BASE_PATH + 'FEATSALVARO/output-nomfcc' + str(i) +'.csv'\n",
        "    print(filepath)\n",
        "    new = pd.read_csv(filepath)\n",
        "    df = pd.concat([df,new])"
      ],
      "execution_count": 6,
      "outputs": [
        {
          "output_type": "stream",
          "text": [
            "/content/drive/My Drive/DCASE 2020 Challenge/TAU Urban Acoustic Scenes 2020 3Class/FEATSALVARO/output-nomfcc1.csv\n",
            "/content/drive/My Drive/DCASE 2020 Challenge/TAU Urban Acoustic Scenes 2020 3Class/FEATSALVARO/output-nomfcc2.csv\n",
            "/content/drive/My Drive/DCASE 2020 Challenge/TAU Urban Acoustic Scenes 2020 3Class/FEATSALVARO/output-nomfcc3.csv\n",
            "/content/drive/My Drive/DCASE 2020 Challenge/TAU Urban Acoustic Scenes 2020 3Class/FEATSALVARO/output-nomfcc4.csv\n",
            "/content/drive/My Drive/DCASE 2020 Challenge/TAU Urban Acoustic Scenes 2020 3Class/FEATSALVARO/output-nomfcc5.csv\n",
            "/content/drive/My Drive/DCASE 2020 Challenge/TAU Urban Acoustic Scenes 2020 3Class/FEATSALVARO/output-nomfcc6.csv\n",
            "/content/drive/My Drive/DCASE 2020 Challenge/TAU Urban Acoustic Scenes 2020 3Class/FEATSALVARO/output-nomfcc7.csv\n",
            "/content/drive/My Drive/DCASE 2020 Challenge/TAU Urban Acoustic Scenes 2020 3Class/FEATSALVARO/output-nomfcc8.csv\n",
            "/content/drive/My Drive/DCASE 2020 Challenge/TAU Urban Acoustic Scenes 2020 3Class/FEATSALVARO/output-nomfcc9.csv\n",
            "/content/drive/My Drive/DCASE 2020 Challenge/TAU Urban Acoustic Scenes 2020 3Class/FEATSALVARO/output-nomfcc10.csv\n",
            "/content/drive/My Drive/DCASE 2020 Challenge/TAU Urban Acoustic Scenes 2020 3Class/FEATSALVARO/output-nomfcc11.csv\n",
            "/content/drive/My Drive/DCASE 2020 Challenge/TAU Urban Acoustic Scenes 2020 3Class/FEATSALVARO/output-nomfcc12.csv\n",
            "/content/drive/My Drive/DCASE 2020 Challenge/TAU Urban Acoustic Scenes 2020 3Class/FEATSALVARO/output-nomfcc13.csv\n",
            "/content/drive/My Drive/DCASE 2020 Challenge/TAU Urban Acoustic Scenes 2020 3Class/FEATSALVARO/output-nomfcc14.csv\n",
            "/content/drive/My Drive/DCASE 2020 Challenge/TAU Urban Acoustic Scenes 2020 3Class/FEATSALVARO/output-nomfcc15.csv\n",
            "/content/drive/My Drive/DCASE 2020 Challenge/TAU Urban Acoustic Scenes 2020 3Class/FEATSALVARO/output-nomfcc16.csv\n",
            "time: 27.4 s\n"
          ],
          "name": "stdout"
        }
      ]
    },
    {
      "cell_type": "code",
      "metadata": {
        "id": "0eBXntuZZ5X-",
        "colab_type": "code",
        "outputId": "2ce34f7f-e990-448c-9316-ce667458b3ce",
        "colab": {
          "base_uri": "https://localhost:8080/",
          "height": 592
        }
      },
      "source": [
        "df.head()"
      ],
      "execution_count": 7,
      "outputs": [
        {
          "output_type": "execute_result",
          "data": {
            "text/html": [
              "<div>\n",
              "<style scoped>\n",
              "    .dataframe tbody tr th:only-of-type {\n",
              "        vertical-align: middle;\n",
              "    }\n",
              "\n",
              "    .dataframe tbody tr th {\n",
              "        vertical-align: top;\n",
              "    }\n",
              "\n",
              "    .dataframe thead th {\n",
              "        text-align: right;\n",
              "    }\n",
              "</style>\n",
              "<table border=\"1\" class=\"dataframe\">\n",
              "  <thead>\n",
              "    <tr style=\"text-align: right;\">\n",
              "      <th></th>\n",
              "      <th>0</th>\n",
              "      <th>1</th>\n",
              "      <th>2</th>\n",
              "      <th>3</th>\n",
              "      <th>4</th>\n",
              "      <th>5</th>\n",
              "      <th>6</th>\n",
              "      <th>7</th>\n",
              "      <th>8</th>\n",
              "      <th>9</th>\n",
              "      <th>10</th>\n",
              "      <th>11</th>\n",
              "      <th>12</th>\n",
              "      <th>13</th>\n",
              "      <th>14</th>\n",
              "      <th>15</th>\n",
              "      <th>16</th>\n",
              "      <th>17</th>\n",
              "    </tr>\n",
              "  </thead>\n",
              "  <tbody>\n",
              "    <tr>\n",
              "      <th>0</th>\n",
              "      <td>2067.040860</td>\n",
              "      <td>314.869340</td>\n",
              "      <td>0.001209</td>\n",
              "      <td>0.000798</td>\n",
              "      <td>0.002049</td>\n",
              "      <td>0.000470</td>\n",
              "      <td>-596.583604</td>\n",
              "      <td>162.614480</td>\n",
              "      <td>-0.670808</td>\n",
              "      <td>21.993716</td>\n",
              "      <td>16.195587</td>\n",
              "      <td>11.842820</td>\n",
              "      <td>11.357465</td>\n",
              "      <td>9.448603</td>\n",
              "      <td>8.314201</td>\n",
              "      <td>6.413948</td>\n",
              "      <td>/content/drive/My Drive/tavares/soundfiles/TAU...</td>\n",
              "      <td>indoor</td>\n",
              "    </tr>\n",
              "    <tr>\n",
              "      <th>1</th>\n",
              "      <td>2395.956778</td>\n",
              "      <td>837.186014</td>\n",
              "      <td>0.002879</td>\n",
              "      <td>0.004073</td>\n",
              "      <td>0.002581</td>\n",
              "      <td>0.000732</td>\n",
              "      <td>-561.432028</td>\n",
              "      <td>164.141569</td>\n",
              "      <td>-10.586786</td>\n",
              "      <td>11.820866</td>\n",
              "      <td>18.119139</td>\n",
              "      <td>23.761645</td>\n",
              "      <td>22.446430</td>\n",
              "      <td>15.891833</td>\n",
              "      <td>7.592193</td>\n",
              "      <td>8.502080</td>\n",
              "      <td>/content/drive/My Drive/tavares/soundfiles/TAU...</td>\n",
              "      <td>indoor</td>\n",
              "    </tr>\n",
              "    <tr>\n",
              "      <th>2</th>\n",
              "      <td>2135.921705</td>\n",
              "      <td>951.448528</td>\n",
              "      <td>0.002354</td>\n",
              "      <td>0.006510</td>\n",
              "      <td>0.002719</td>\n",
              "      <td>0.000589</td>\n",
              "      <td>-562.937612</td>\n",
              "      <td>172.182573</td>\n",
              "      <td>-4.441985</td>\n",
              "      <td>12.757403</td>\n",
              "      <td>14.173953</td>\n",
              "      <td>15.298843</td>\n",
              "      <td>18.722191</td>\n",
              "      <td>10.421974</td>\n",
              "      <td>8.023156</td>\n",
              "      <td>6.573807</td>\n",
              "      <td>/content/drive/My Drive/tavares/soundfiles/TAU...</td>\n",
              "      <td>indoor</td>\n",
              "    </tr>\n",
              "    <tr>\n",
              "      <th>3</th>\n",
              "      <td>3453.224033</td>\n",
              "      <td>2039.474046</td>\n",
              "      <td>0.009713</td>\n",
              "      <td>0.018070</td>\n",
              "      <td>0.002108</td>\n",
              "      <td>0.000442</td>\n",
              "      <td>-550.226488</td>\n",
              "      <td>139.243877</td>\n",
              "      <td>0.369526</td>\n",
              "      <td>16.225726</td>\n",
              "      <td>10.133525</td>\n",
              "      <td>45.845596</td>\n",
              "      <td>31.659723</td>\n",
              "      <td>15.694685</td>\n",
              "      <td>12.090169</td>\n",
              "      <td>11.095157</td>\n",
              "      <td>/content/drive/My Drive/tavares/soundfiles/TAU...</td>\n",
              "      <td>indoor</td>\n",
              "    </tr>\n",
              "    <tr>\n",
              "      <th>4</th>\n",
              "      <td>2306.123043</td>\n",
              "      <td>400.195968</td>\n",
              "      <td>0.002110</td>\n",
              "      <td>0.001470</td>\n",
              "      <td>0.001713</td>\n",
              "      <td>0.000348</td>\n",
              "      <td>-591.877872</td>\n",
              "      <td>158.679170</td>\n",
              "      <td>-3.883430</td>\n",
              "      <td>22.450031</td>\n",
              "      <td>18.368381</td>\n",
              "      <td>26.561454</td>\n",
              "      <td>11.428342</td>\n",
              "      <td>10.014569</td>\n",
              "      <td>8.082940</td>\n",
              "      <td>7.796495</td>\n",
              "      <td>/content/drive/My Drive/tavares/soundfiles/TAU...</td>\n",
              "      <td>indoor</td>\n",
              "    </tr>\n",
              "  </tbody>\n",
              "</table>\n",
              "</div>"
            ],
            "text/plain": [
              "             0  ...      17\n",
              "0  2067.040860  ...  indoor\n",
              "1  2395.956778  ...  indoor\n",
              "2  2135.921705  ...  indoor\n",
              "3  3453.224033  ...  indoor\n",
              "4  2306.123043  ...  indoor\n",
              "\n",
              "[5 rows x 18 columns]"
            ]
          },
          "metadata": {
            "tags": []
          },
          "execution_count": 7
        },
        {
          "output_type": "stream",
          "text": [
            "time: 58.5 ms\n"
          ],
          "name": "stdout"
        }
      ]
    },
    {
      "cell_type": "markdown",
      "metadata": {
        "id": "kLSCI9hNawBf",
        "colab_type": "text"
      },
      "source": [
        "Factorizar nomes das musicas"
      ]
    },
    {
      "cell_type": "code",
      "metadata": {
        "id": "Rtnt0bQia0i-",
        "colab_type": "code",
        "outputId": "3397689c-1821-41b4-8376-97b49ee986cf",
        "colab": {
          "base_uri": "https://localhost:8080/",
          "height": 598
        }
      },
      "source": [
        "df['16'], unique = pd.factorize(df['16'])\n",
        "df.head(), unique"
      ],
      "execution_count": 8,
      "outputs": [
        {
          "output_type": "execute_result",
          "data": {
            "text/plain": [
              "(             0            1         2  ...         15  16      17\n",
              " 0  2067.040860   314.869340  0.001209  ...   6.413948   0  indoor\n",
              " 1  2395.956778   837.186014  0.002879  ...   8.502080   0  indoor\n",
              " 2  2135.921705   951.448528  0.002354  ...   6.573807   0  indoor\n",
              " 3  3453.224033  2039.474046  0.009713  ...  11.095157   0  indoor\n",
              " 4  2306.123043   400.195968  0.002110  ...   7.796495   0  indoor\n",
              " \n",
              " [5 rows x 18 columns],\n",
              " Index(['/content/drive/My Drive/tavares/soundfiles/TAU-urban-acoustic-scenes-2020-3class-development/audio/airport-barcelona-0-0-a.wav',\n",
              "        '/content/drive/My Drive/tavares/soundfiles/TAU-urban-acoustic-scenes-2020-3class-development/audio/airport-barcelona-0-1-a.wav',\n",
              "        '/content/drive/My Drive/tavares/soundfiles/TAU-urban-acoustic-scenes-2020-3class-development/audio/airport-barcelona-0-10-a.wav',\n",
              "        '/content/drive/My Drive/tavares/soundfiles/TAU-urban-acoustic-scenes-2020-3class-development/audio/airport-barcelona-0-11-a.wav',\n",
              "        '/content/drive/My Drive/tavares/soundfiles/TAU-urban-acoustic-scenes-2020-3class-development/audio/airport-barcelona-0-12-a.wav',\n",
              "        '/content/drive/My Drive/tavares/soundfiles/TAU-urban-acoustic-scenes-2020-3class-development/audio/airport-barcelona-0-13-a.wav',\n",
              "        '/content/drive/My Drive/tavares/soundfiles/TAU-urban-acoustic-scenes-2020-3class-development/audio/airport-barcelona-0-14-a.wav',\n",
              "        '/content/drive/My Drive/tavares/soundfiles/TAU-urban-acoustic-scenes-2020-3class-development/audio/airport-barcelona-0-15-a.wav',\n",
              "        '/content/drive/My Drive/tavares/soundfiles/TAU-urban-acoustic-scenes-2020-3class-development/audio/airport-barcelona-0-2-a.wav',\n",
              "        '/content/drive/My Drive/tavares/soundfiles/TAU-urban-acoustic-scenes-2020-3class-development/audio/airport-barcelona-0-3-a.wav',\n",
              "        ...\n",
              "        '/content/drive/My Drive/tavares/soundfiles/TAU-urban-acoustic-scenes-2020-3class-development/audio/street_pedestrian-prague-1037-40672-a.wav',\n",
              "        '/content/drive/My Drive/tavares/soundfiles/TAU-urban-acoustic-scenes-2020-3class-development/audio/street_pedestrian-prague-1037-40827-a.wav',\n",
              "        '/content/drive/My Drive/tavares/soundfiles/TAU-urban-acoustic-scenes-2020-3class-development/audio/street_pedestrian-prague-1037-40957-a.wav',\n",
              "        '/content/drive/My Drive/tavares/soundfiles/TAU-urban-acoustic-scenes-2020-3class-development/audio/street_pedestrian-prague-1037-40998-a.wav',\n",
              "        '/content/drive/My Drive/tavares/soundfiles/TAU-urban-acoustic-scenes-2020-3class-development/audio/street_pedestrian-prague-1037-41211-a.wav',\n",
              "        '/content/drive/My Drive/tavares/soundfiles/TAU-urban-acoustic-scenes-2020-3class-development/audio/street_pedestrian-prague-1037-41235-a.wav',\n",
              "        '/content/drive/My Drive/tavares/soundfiles/TAU-urban-acoustic-scenes-2020-3class-development/audio/street_pedestrian-prague-1037-41246-a.wav',\n",
              "        '/content/drive/My Drive/tavares/soundfiles/TAU-urban-acoustic-scenes-2020-3class-development/audio/street_pedestrian-prague-1037-41296-a.wav',\n",
              "        '/content/drive/My Drive/tavares/soundfiles/TAU-urban-acoustic-scenes-2020-3class-development/audio/street_pedestrian-prague-1037-41369-a.wav',\n",
              "        '/content/drive/My Drive/tavares/soundfiles/TAU-urban-acoustic-scenes-2020-3class-development/audio/street_pedestrian-prague-1037-41660-a.wav'],\n",
              "       dtype='object', length=11104))"
            ]
          },
          "metadata": {
            "tags": []
          },
          "execution_count": 8
        },
        {
          "output_type": "stream",
          "text": [
            "time: 54.1 ms\n"
          ],
          "name": "stdout"
        }
      ]
    },
    {
      "cell_type": "markdown",
      "metadata": {
        "id": "MVj8QDg2bMap",
        "colab_type": "text"
      },
      "source": [
        "Factor Labels"
      ]
    },
    {
      "cell_type": "code",
      "metadata": {
        "id": "BxuGmcMCbPya",
        "colab_type": "code",
        "outputId": "9a423bee-b3ca-4430-c113-d61580590891",
        "colab": {
          "base_uri": "https://localhost:8080/",
          "height": 36
        }
      },
      "source": [
        "df['17'], unique = pd.factorize(df['17'])\n",
        "unique"
      ],
      "execution_count": 9,
      "outputs": [
        {
          "output_type": "execute_result",
          "data": {
            "text/plain": [
              "Index(['indoor', 'transportation', 'outdoor'], dtype='object')"
            ]
          },
          "metadata": {
            "tags": []
          },
          "execution_count": 9
        },
        {
          "output_type": "stream",
          "text": [
            "time: 12.2 ms\n"
          ],
          "name": "stdout"
        }
      ]
    },
    {
      "cell_type": "code",
      "metadata": {
        "id": "vf-964vL9dDd",
        "colab_type": "code",
        "outputId": "5329f9f7-3bd6-4870-d515-0909062d692f",
        "colab": {
          "base_uri": "https://localhost:8080/",
          "height": 36
        }
      },
      "source": [
        "df = df[df['17'] != 2]"
      ],
      "execution_count": 10,
      "outputs": [
        {
          "output_type": "stream",
          "text": [
            "time: 9.25 ms\n"
          ],
          "name": "stdout"
        }
      ]
    },
    {
      "cell_type": "code",
      "metadata": {
        "id": "7UdDG9J__TDR",
        "colab_type": "code",
        "outputId": "e15261ce-6dfe-4526-e433-d867ce24ba49",
        "colab": {
          "base_uri": "https://localhost:8080/",
          "height": 36
        }
      },
      "source": [
        "df[df['17'] != 0].shape, df[df['17'] != 1].shape"
      ],
      "execution_count": 11,
      "outputs": [
        {
          "output_type": "execute_result",
          "data": {
            "text/plain": [
              "((28800, 18), (43200, 18))"
            ]
          },
          "metadata": {
            "tags": []
          },
          "execution_count": 11
        },
        {
          "output_type": "stream",
          "text": [
            "time: 11.6 ms\n"
          ],
          "name": "stdout"
        }
      ]
    },
    {
      "cell_type": "code",
      "metadata": {
        "id": "J0GMDyiLnQno",
        "colab_type": "code",
        "outputId": "c2cbb426-49f5-436b-d81e-56e7885136fe",
        "colab": {
          "base_uri": "https://localhost:8080/",
          "height": 36
        }
      },
      "source": [
        "#df.sample(frac=0.1, random_state=1)"
      ],
      "execution_count": 12,
      "outputs": [
        {
          "output_type": "stream",
          "text": [
            "time: 668 µs\n"
          ],
          "name": "stdout"
        }
      ]
    },
    {
      "cell_type": "markdown",
      "metadata": {
        "id": "1OFRH-tEdkEQ",
        "colab_type": "text"
      },
      "source": [
        "DF: Descrição\n",
        "\n",
        "        features\n",
        "*   0-9: MFCSS (media e std, respectivamente)\n",
        "*   20: média centroide \n",
        "*   21: std centroide\n",
        "*   22: media flatness\n",
        "*   23: std flatness\n",
        "*   24: rms\n",
        "\n",
        "        outros\n",
        "*   25: LABEL\n",
        "*   26: Music_id\n",
        "\n",
        "\n",
        "\n",
        "\n"
      ]
    },
    {
      "cell_type": "code",
      "metadata": {
        "id": "b7yrSNVe1tc4",
        "colab_type": "code",
        "outputId": "dc297d24-dc90-4648-f0a3-669dac5cd230",
        "colab": {
          "base_uri": "https://localhost:8080/",
          "height": 93
        }
      },
      "source": [
        "from sklearn.model_selection import GroupShuffleSplit\n",
        "from sklearn.preprocessing import StandardScaler\n",
        "from sklearn.neighbors import KNeighborsClassifier\n",
        "from sklearn import metrics\n",
        "import pickle\n",
        "from collections import Counter\n",
        "from sklearn.decomposition import PCA\n",
        "import seaborn as sns"
      ],
      "execution_count": 13,
      "outputs": [
        {
          "output_type": "stream",
          "text": [
            "time: 41.3 ms\n"
          ],
          "name": "stdout"
        },
        {
          "output_type": "stream",
          "text": [
            "/usr/local/lib/python3.6/dist-packages/statsmodels/tools/_testing.py:19: FutureWarning: pandas.util.testing is deprecated. Use the functions in the public API at pandas.testing instead.\n",
            "  import pandas.util.testing as tm\n"
          ],
          "name": "stderr"
        }
      ]
    },
    {
      "cell_type": "markdown",
      "metadata": {
        "id": "3ya_9cIj-I0x",
        "colab_type": "text"
      },
      "source": [
        "Split no dataframe baseado em grupos do número da música"
      ]
    },
    {
      "cell_type": "code",
      "metadata": {
        "id": "D82SnW0XxcAQ",
        "colab_type": "code",
        "outputId": "da1d6336-9457-4234-cf95-b33f33b1df8b",
        "colab": {
          "base_uri": "https://localhost:8080/",
          "height": 36
        }
      },
      "source": [
        "def split_by_music_id(df):\n",
        "    coluna_ids_musica = len(df.columns) - 2\n",
        "    train_inds, test_inds = next(GroupShuffleSplit(test_size=.20, random_state = 42).split(df, groups=df.iloc[:,coluna_ids_musica].values))\n",
        "    return [train_inds, test_inds]"
      ],
      "execution_count": 14,
      "outputs": [
        {
          "output_type": "stream",
          "text": [
            "time: 2.76 ms\n"
          ],
          "name": "stdout"
        }
      ]
    },
    {
      "cell_type": "markdown",
      "metadata": {
        "id": "jO9K4pcEvFVk",
        "colab_type": "text"
      },
      "source": [
        "Split no dataframe selecionado, em teste e treino"
      ]
    },
    {
      "cell_type": "code",
      "metadata": {
        "id": "HhFtUoQv3BoH",
        "colab_type": "code",
        "outputId": "bba28b54-178d-4a68-cded-9c9a8699947c",
        "colab": {
          "base_uri": "https://localhost:8080/",
          "height": 36
        }
      },
      "source": [
        "def split_train_test(df,train_inds, test_inds):\n",
        "    X_train = (df.iloc[train_inds, 0:-2])\n",
        "    X_test = (df.iloc[test_inds,0:-2])\n",
        "    y_train = (df.iloc[train_inds,[-2,-1]]).values\n",
        "    y_test = (df.iloc[test_inds,[-2,-1]]).values\n",
        "    print(X_train.shape, X_test.shape, y_train.shape, y_test.shape)\n",
        "    return [X_train, X_test, y_train, y_test]"
      ],
      "execution_count": 15,
      "outputs": [
        {
          "output_type": "stream",
          "text": [
            "time: 4.04 ms\n"
          ],
          "name": "stdout"
        }
      ]
    },
    {
      "cell_type": "code",
      "metadata": {
        "id": "a6DUiZXyLoTG",
        "colab_type": "code",
        "outputId": "e6b99db4-f164-4e7d-be31-c7481eaa1520",
        "colab": {
          "base_uri": "https://localhost:8080/",
          "height": 36
        }
      },
      "source": [
        "def standardize(X_train, X_test):\n",
        "    scaler = StandardScaler()\n",
        "    scaler.fit(X_train.values)\n",
        "    X_train = scaler.transform(X_train.values)\n",
        "    X_test = scaler.transform(X_test.values)\n",
        "    return [X_train, X_test]"
      ],
      "execution_count": 16,
      "outputs": [
        {
          "output_type": "stream",
          "text": [
            "time: 89.4 ms\n"
          ],
          "name": "stdout"
        }
      ]
    },
    {
      "cell_type": "markdown",
      "metadata": {
        "id": "0U0XQuSjPmCB",
        "colab_type": "text"
      },
      "source": [
        "# Linear SVC Classifier"
      ]
    },
    {
      "cell_type": "code",
      "metadata": {
        "id": "oWw4aOINED0h",
        "colab_type": "code",
        "outputId": "0cbc51b7-d9f0-407e-ff9e-3815c08503e9",
        "colab": {
          "base_uri": "https://localhost:8080/",
          "height": 93
        }
      },
      "source": [
        "from sklearn.svm import SVC\n",
        "from sklearn.metrics import confusion_matrix,classification_report, plot_confusion_matrix, accuracy_score, confusion_matrix\n",
        "from sklearn.model_selection import cross_val_score, GridSearchCV\n",
        "from sklearn.svm import LinearSVC\n",
        "from sklearn.externals import joblib"
      ],
      "execution_count": 17,
      "outputs": [
        {
          "output_type": "stream",
          "text": [
            "time: 7.39 ms\n"
          ],
          "name": "stdout"
        },
        {
          "output_type": "stream",
          "text": [
            "/usr/local/lib/python3.6/dist-packages/sklearn/externals/joblib/__init__.py:15: FutureWarning: sklearn.externals.joblib is deprecated in 0.21 and will be removed in 0.23. Please import this functionality directly from joblib, which can be installed with: pip install joblib. If this warning is raised when loading pickled models, you may need to re-serialize those models with scikit-learn 0.21+.\n",
            "  warnings.warn(msg, category=FutureWarning)\n"
          ],
          "name": "stderr"
        }
      ]
    },
    {
      "cell_type": "code",
      "metadata": {
        "id": "jcjNVJNAAT7m",
        "colab_type": "code",
        "outputId": "2d4be705-9b8e-4844-e1ab-49d796f6a901",
        "colab": {
          "base_uri": "https://localhost:8080/",
          "height": 36
        }
      },
      "source": [
        "def get_model_linearSVC(X_train,y_train, y_test, X_test):\n",
        "    C = [0.001, 0.01, 0.1, 1, 10, 100]\n",
        "    for c in C:\n",
        "        LSVC = LinearSVC(C = c, dual=False)\n",
        "        LSVC.fit(X_train,y_train)\n",
        "        y_pred = LSVC.predict(X_test)\n",
        "        \n",
        "        print(\"C: \", c)\n",
        "        print(\"LSVC Accuracy :\", accuracy_score(y_test, y_pred))\n",
        "    filename = BASE_PATH + 'linearsvc_no_esp.pkl'\n",
        "    joblib.dump(LSVC, filename,compress=0)\n",
        "    return LSVC, y_pred"
      ],
      "execution_count": 18,
      "outputs": [
        {
          "output_type": "stream",
          "text": [
            "time: 6.08 ms\n"
          ],
          "name": "stdout"
        }
      ]
    },
    {
      "cell_type": "markdown",
      "metadata": {
        "id": "jQAceUVb-qqG",
        "colab_type": "text"
      },
      "source": [
        "Contagem das predições para cada música"
      ]
    },
    {
      "cell_type": "code",
      "metadata": {
        "id": "TvoU3jjJuJV3",
        "colab_type": "code",
        "outputId": "cada003d-5afd-4025-b288-2d8ac8a47bb3",
        "colab": {
          "base_uri": "https://localhost:8080/",
          "height": 36
        }
      },
      "source": [
        "def plot_cf(y_pred, y_test):\n",
        "    print(classification_report(y_test, y_pred))"
      ],
      "execution_count": 19,
      "outputs": [
        {
          "output_type": "stream",
          "text": [
            "time: 1.22 ms\n"
          ],
          "name": "stdout"
        }
      ]
    },
    {
      "cell_type": "code",
      "metadata": {
        "id": "cY0LI6g15kpW",
        "colab_type": "code",
        "outputId": "635efc17-6816-433b-e787-7e93074e4a57",
        "colab": {
          "base_uri": "https://localhost:8080/",
          "height": 36
        }
      },
      "source": [
        "def contagem_predicoes(y_test, y_pred):\n",
        "    counts = dict()\n",
        "    for id in np.unique(y_test[:,0]):\n",
        "        counts[id] = []\n",
        "    print(counts)\n",
        "    \n",
        "    for t, p in zip(y_test, y_pred):\n",
        "        #print(t,p)\n",
        "        counts[t[0]].append(p)\n",
        "    counter = [Counter(y) for x,y in counts.items()]\n",
        "    print(len(counter))\n",
        "    return counter\n",
        "\n",
        "def acc_votacao(counter, y_test):\n",
        "    #print(np.unique(y_test[1]))\n",
        "    #print(counter, y_test)\n",
        "    music_y_pred = [max(x, key=x.get) for x in counter]\n",
        "    print(len(music_y_pred))\n",
        "    #music_y_test = [[x,y] for x,y in y_test]\n",
        "    #music_y_test = np.unique(music_y_test, axis=0)[:,0]\n",
        "    music_y_test = np.unique(y_test, axis=0)[:,1]\n",
        "    print(len(music_y_test))\n",
        "    plot_cf(music_y_pred, music_y_test)\n",
        "    return metrics.accuracy_score(music_y_test,music_y_pred)"
      ],
      "execution_count": 20,
      "outputs": [
        {
          "output_type": "stream",
          "text": [
            "time: 13.8 ms\n"
          ],
          "name": "stdout"
        }
      ]
    },
    {
      "cell_type": "code",
      "metadata": {
        "id": "h1JGSISJOGJC",
        "colab_type": "code",
        "outputId": "975cd913-9e3e-4602-ee81-26faed20e268",
        "colab": {
          "base_uri": "https://localhost:8080/",
          "height": 36
        }
      },
      "source": [
        "def pca(X_test, y_test):\n",
        "    pca = PCA(3)\n",
        "    trans_pca = pca.fit_transform(X_test)\n",
        "    trans_pca = pd.DataFrame(trans_pca)\n",
        "    trans_pca['Labels'] = y_test[:,1]\n",
        "    trans_pca[\"Labels\"] = [\"$%s$\" % x for x in trans_pca[\"Labels\"]]\n",
        "    print(pca.explained_variance_)\n",
        "    trans_pca.columns = ['PC1', 'PC2','PC3','Labels']\n",
        "    plt.figure(figsize=(10,6))\n",
        "    sns.scatterplot(x=trans_pca['PC1'], y=trans_pca['PC2'], hue=trans_pca['Labels'])"
      ],
      "execution_count": 21,
      "outputs": [
        {
          "output_type": "stream",
          "text": [
            "time: 5.65 ms\n"
          ],
          "name": "stdout"
        }
      ]
    },
    {
      "cell_type": "code",
      "metadata": {
        "id": "q0EsTBVtqGxz",
        "colab_type": "code",
        "outputId": "8b89d24d-616f-4ccf-dbfd-ecf812d6df2e",
        "colab": {
          "base_uri": "https://localhost:8080/",
          "height": 36
        }
      },
      "source": [
        "def classify(df):\n",
        "    train_inds, test_inds = split_by_music_id(df)\n",
        "    X_train, X_test, y_train, y_test = split_train_test(df,train_inds, test_inds) \n",
        "    X_train, X_test = standardize(X_train, X_test)\n",
        "    model, y_pred = get_model_linearSVC(X_train,y_train[:,1], y_test[:,1], X_test)\n",
        "    contagens = contagem_predicoes(y_test, y_pred)\n",
        "    final_accuracy = acc_votacao(contagens, y_test)\n",
        "    pca(X_test, y_test)\n",
        "    return final_accuracy"
      ],
      "execution_count": 25,
      "outputs": [
        {
          "output_type": "stream",
          "text": [
            "time: 3.61 ms\n"
          ],
          "name": "stdout"
        }
      ]
    },
    {
      "cell_type": "code",
      "metadata": {
        "id": "KVQPJn_Vs3w9",
        "colab_type": "code",
        "outputId": "0f64d486-ff45-4f11-a64f-cbbf67672afc",
        "colab": {
          "base_uri": "https://localhost:8080/",
          "height": 950
        }
      },
      "source": [
        "acc = classify(df)\n",
        "print(acc)"
      ],
      "execution_count": 26,
      "outputs": [
        {
          "output_type": "stream",
          "text": [
            "(57600, 16) (14400, 16) (57600, 2) (14400, 2)\n",
            "C:  0.001\n",
            "LSVC Accuracy : 0.87625\n",
            "C:  0.01\n",
            "LSVC Accuracy : 0.87625\n",
            "C:  0.1\n",
            "LSVC Accuracy : 0.8763194444444444\n",
            "C:  1\n",
            "LSVC Accuracy : 0.8761111111111111\n",
            "C:  10\n",
            "LSVC Accuracy : 0.8761111111111111\n",
            "C:  100\n",
            "LSVC Accuracy : 0.8761111111111111\n",
            "{8: [], 14: [], 17: [], 19: [], 23: [], 31: [], 37: [], 41: [], 45: [], 50: [], 51: [], 57: [], 61: [], 65: [], 73: [], 79: [], 80: [], 84: [], 87: [], 88: [], 91: [], 93: [], 95: [], 96: [], 100: [], 101: [], 106: [], 131: [], 132: [], 156: [], 157: [], 167: [], 168: [], 169: [], 176: [], 177: [], 179: [], 185: [], 188: [], 196: [], 198: [], 199: [], 208: [], 210: [], 216: [], 217: [], 221: [], 228: [], 230: [], 231: [], 233: [], 239: [], 245: [], 247: [], 248: [], 251: [], 254: [], 259: [], 263: [], 265: [], 286: [], 290: [], 291: [], 296: [], 308: [], 318: [], 319: [], 321: [], 322: [], 323: [], 324: [], 325: [], 332: [], 333: [], 334: [], 339: [], 346: [], 347: [], 351: [], 371: [], 373: [], 376: [], 378: [], 381: [], 393: [], 401: [], 408: [], 410: [], 421: [], 425: [], 426: [], 429: [], 432: [], 434: [], 435: [], 437: [], 438: [], 445: [], 447: [], 457: [], 465: [], 468: [], 469: [], 472: [], 473: [], 476: [], 478: [], 486: [], 487: [], 491: [], 496: [], 500: [], 501: [], 503: [], 505: [], 506: [], 509: [], 511: [], 518: [], 527: [], 534: [], 535: [], 538: [], 543: [], 544: [], 547: [], 549: [], 550: [], 554: [], 561: [], 565: [], 576: [], 585: [], 586: [], 592: [], 599: [], 604: [], 611: [], 620: [], 622: [], 625: [], 626: [], 640: [], 642: [], 672: [], 676: [], 681: [], 683: [], 696: [], 705: [], 706: [], 711: [], 712: [], 730: [], 733: [], 734: [], 736: [], 737: [], 742: [], 743: [], 746: [], 747: [], 748: [], 752: [], 755: [], 756: [], 763: [], 764: [], 786: [], 789: [], 798: [], 800: [], 805: [], 811: [], 812: [], 828: [], 833: [], 838: [], 842: [], 852: [], 864: [], 865: [], 866: [], 877: [], 904: [], 911: [], 921: [], 927: [], 932: [], 937: [], 957: [], 960: [], 965: [], 970: [], 982: [], 994: [], 996: [], 997: [], 1002: [], 1005: [], 1009: [], 1020: [], 1022: [], 1024: [], 1025: [], 1033: [], 1034: [], 1038: [], 1039: [], 1041: [], 1042: [], 1046: [], 1047: [], 1049: [], 1055: [], 1056: [], 1057: [], 1061: [], 1074: [], 1075: [], 1078: [], 1079: [], 1084: [], 1087: [], 1090: [], 1097: [], 1103: [], 1108: [], 1109: [], 1115: [], 1128: [], 1142: [], 1144: [], 1149: [], 1153: [], 1158: [], 1163: [], 1168: [], 1172: [], 1174: [], 1175: [], 1176: [], 1181: [], 1188: [], 1192: [], 1193: [], 1195: [], 1197: [], 1199: [], 1201: [], 1210: [], 1215: [], 1219: [], 1221: [], 1223: [], 1226: [], 1242: [], 1244: [], 1261: [], 1263: [], 1277: [], 1281: [], 1287: [], 1295: [], 1297: [], 1298: [], 1302: [], 1315: [], 1317: [], 1320: [], 1321: [], 1322: [], 1328: [], 1330: [], 1335: [], 1352: [], 1370: [], 1372: [], 1373: [], 1374: [], 1375: [], 1383: [], 1385: [], 1393: [], 1400: [], 1406: [], 1407: [], 1410: [], 1412: [], 1414: [], 1419: [], 1420: [], 1421: [], 1425: [], 1426: [], 1429: [], 1430: [], 1436: [], 1438: [], 1446: [], 1451: [], 1452: [], 1465: [], 1467: [], 1477: [], 1480: [], 1483: [], 1487: [], 1488: [], 1498: [], 1499: [], 1501: [], 1507: [], 1509: [], 1511: [], 1512: [], 1515: [], 1535: [], 1536: [], 1539: [], 1544: [], 1545: [], 1550: [], 1554: [], 1558: [], 1559: [], 1561: [], 1562: [], 1565: [], 1566: [], 1569: [], 1582: [], 1586: [], 1593: [], 1595: [], 1600: [], 1606: [], 1608: [], 1615: [], 1616: [], 1617: [], 1618: [], 1623: [], 1632: [], 1634: [], 1643: [], 1649: [], 1650: [], 1652: [], 1656: [], 1662: [], 1665: [], 1669: [], 1670: [], 1671: [], 1677: [], 1683: [], 1694: [], 1699: [], 1703: [], 1706: [], 1718: [], 1720: [], 1721: [], 1726: [], 1728: [], 1729: [], 1730: [], 1737: [], 1741: [], 1744: [], 1747: [], 1755: [], 1765: [], 1768: [], 1775: [], 1782: [], 1786: [], 1789: [], 1795: [], 1803: [], 1805: [], 1807: [], 1820: [], 1839: [], 1844: [], 1858: [], 1859: [], 1860: [], 1864: [], 1867: [], 1872: [], 1876: [], 1880: [], 1883: [], 1888: [], 1893: [], 1894: [], 1897: [], 1902: [], 1905: [], 1915: [], 1918: [], 1922: [], 1926: [], 1928: [], 1934: [], 1940: [], 1941: [], 1945: [], 1964: [], 1966: [], 1971: [], 1978: [], 2002: [], 2018: [], 2020: [], 2024: [], 2045: [], 2057: [], 2063: [], 2069: [], 2083: [], 2087: [], 2091: [], 2094: [], 2107: [], 2115: [], 2117: [], 2118: [], 2124: [], 2127: [], 2131: [], 2132: [], 2133: [], 2142: [], 2155: [], 2157: [], 2164: [], 2173: [], 2177: [], 2178: [], 2181: [], 2183: [], 2184: [], 2189: [], 2197: [], 2206: [], 2208: [], 2210: [], 2215: [], 2221: [], 2223: [], 2226: [], 2227: [], 2229: [], 2252: [], 2260: [], 2263: [], 2264: [], 2266: [], 2268: [], 2271: [], 2272: [], 2273: [], 2275: [], 2280: [], 2284: [], 2288: [], 2299: [], 2301: [], 2302: [], 2304: [], 2306: [], 2312: [], 2316: [], 2318: [], 2328: [], 2337: [], 2345: [], 2348: [], 2354: [], 2388: [], 2389: [], 2392: [], 2398: [], 2399: [], 2402: [], 2404: [], 2405: [], 2407: [], 2412: [], 2415: [], 2417: [], 2418: [], 2423: [], 2431: [], 2432: [], 2439: [], 2441: [], 2445: [], 2446: [], 2447: [], 2453: [], 2457: [], 2462: [], 2464: [], 2470: [], 2471: [], 2476: [], 2484: [], 2488: [], 2498: [], 2509: [], 2510: [], 2523: [], 2531: [], 2533: [], 2534: [], 2540: [], 2542: [], 2543: [], 2548: [], 2569: [], 2570: [], 2571: [], 2576: [], 2579: [], 2582: [], 2592: [], 2605: [], 2619: [], 2622: [], 2627: [], 2629: [], 2638: [], 2644: [], 2646: [], 2647: [], 2650: [], 2653: [], 2662: [], 2666: [], 2669: [], 2678: [], 2687: [], 2688: [], 2692: [], 2697: [], 2698: [], 2699: [], 2705: [], 2706: [], 2707: [], 2715: [], 2718: [], 2722: [], 2728: [], 2732: [], 2741: [], 2746: [], 2748: [], 2758: [], 2759: [], 2764: [], 2778: [], 2789: [], 2799: [], 2804: [], 2805: [], 2807: [], 2815: [], 2820: [], 2836: [], 2845: [], 2846: [], 2855: [], 2862: [], 2865: [], 2874: [], 2876: [], 2882: [], 2887: [], 2890: [], 2892: [], 2899: [], 2900: [], 2902: [], 2903: [], 2921: [], 2922: [], 2929: [], 2932: [], 2934: [], 2939: [], 2941: [], 2942: [], 2943: [], 2944: [], 2948: [], 2949: [], 2966: [], 2970: [], 2977: [], 2992: [], 2995: [], 2996: [], 2997: [], 3000: [], 3010: [], 3011: [], 3012: [], 3016: [], 3027: [], 3032: [], 3034: [], 3035: [], 3039: [], 3044: [], 3047: [], 3049: [], 3058: [], 3077: [], 3089: [], 3091: [], 3098: [], 3100: [], 3101: [], 3109: [], 3113: [], 3125: [], 3126: [], 3127: [], 3128: [], 3132: [], 3142: [], 3143: [], 3164: [], 3165: [], 3172: [], 3181: [], 3182: [], 3184: [], 3185: [], 3187: [], 3196: [], 3203: [], 3213: [], 3217: [], 3226: [], 3235: [], 3240: [], 3244: [], 3246: [], 3254: [], 3260: [], 3265: [], 3268: [], 3277: [], 3286: [], 3289: [], 3297: [], 3303: [], 3308: [], 3312: [], 3313: [], 3316: [], 3328: [], 3337: [], 3340: [], 3341: [], 3347: [], 3352: [], 3353: [], 3358: [], 3360: [], 3362: [], 3377: [], 3381: [], 3383: [], 3386: [], 3388: [], 3393: [], 3396: [], 3404: [], 3406: [], 3408: [], 3411: [], 3428: [], 3431: [], 3433: [], 3438: [], 3443: [], 3454: [], 3460: [], 3464: [], 3469: [], 3475: [], 3482: [], 3484: [], 3491: [], 3499: [], 3518: [], 3519: [], 3523: [], 3532: [], 3534: [], 3539: [], 3545: [], 3548: [], 3552: [], 3554: [], 3558: [], 3563: [], 3580: [], 3589: [], 3590: [], 3599: [], 3601: [], 3605: [], 3608: [], 3612: [], 3616: [], 3641: [], 3647: [], 3653: [], 3656: [], 3658: [], 3662: [], 3667: [], 3680: [], 3682: [], 3684: [], 3685: [], 3686: [], 3689: [], 3692: [], 3693: [], 3704: [], 3707: [], 3710: [], 3720: [], 3721: [], 3722: [], 3731: [], 3733: [], 3734: [], 3742: [], 3749: [], 3752: [], 3753: [], 3757: [], 3767: [], 3770: [], 3774: [], 3779: [], 3781: [], 3783: [], 3785: [], 3787: [], 3790: [], 3795: [], 3796: [], 3801: [], 3805: [], 3806: [], 3809: [], 3817: [], 3820: [], 3827: [], 3832: [], 3836: [], 3841: [], 3842: [], 3846: [], 3852: [], 3857: [], 3861: [], 3862: [], 3869: [], 3870: [], 3875: [], 3877: [], 3880: [], 3886: [], 3887: [], 3892: [], 3903: [], 3904: [], 3909: [], 3910: [], 3915: [], 3916: [], 3921: [], 3922: [], 3933: [], 3934: [], 3935: [], 3945: [], 3949: [], 3973: [], 3975: [], 3977: [], 3978: [], 3979: [], 3982: [], 3985: [], 3992: [], 4004: [], 4010: [], 4012: [], 4024: [], 4039: [], 4047: [], 4048: [], 4050: [], 4051: [], 4053: [], 4056: [], 4060: [], 4063: [], 4071: [], 4075: [], 4081: [], 4087: [], 4091: [], 4094: [], 4098: [], 4102: [], 4108: [], 4118: [], 4127: [], 4129: [], 4140: [], 4147: [], 4172: [], 4174: [], 4180: [], 4189: [], 4192: [], 4215: [], 4220: [], 4222: [], 4233: [], 4235: [], 4237: [], 4239: [], 4241: [], 4246: [], 4250: [], 4252: [], 4254: [], 4257: [], 4266: [], 4269: [], 4270: [], 4271: [], 4274: [], 4275: [], 4279: [], 4280: [], 4303: [], 4309: [], 4319: [], 4323: [], 4326: [], 4331: [], 4332: [], 4336: [], 4340: [], 4359: [], 4374: [], 4375: [], 4378: [], 4381: [], 4394: [], 4395: [], 4397: [], 4398: [], 4409: [], 4410: [], 4424: [], 4434: [], 4442: [], 4449: [], 4453: [], 4456: [], 4457: [], 4458: [], 4461: [], 4463: [], 4475: [], 4477: [], 4480: [], 4482: [], 4483: [], 4487: [], 4506: [], 4508: [], 4511: [], 4512: [], 4519: [], 4520: [], 4522: [], 4527: [], 4534: [], 4535: [], 4539: [], 4546: [], 4552: [], 4553: [], 4556: [], 4562: [], 4563: [], 4564: [], 4584: [], 4590: [], 4591: [], 4595: [], 4597: [], 4603: [], 4607: [], 4610: [], 4617: [], 4618: [], 4625: [], 4628: [], 4631: [], 4634: [], 4638: [], 4639: [], 4640: [], 4645: [], 4649: [], 4650: [], 4664: [], 4666: [], 4668: [], 4671: [], 4678: [], 4684: [], 4689: [], 4692: [], 4693: [], 4698: [], 4705: [], 4717: [], 4733: [], 4734: [], 4738: [], 4743: [], 4745: [], 4756: [], 4763: [], 4766: [], 4767: [], 4769: [], 4773: [], 4776: [], 4778: [], 4787: [], 4796: [], 4800: [], 4803: [], 4818: [], 4832: [], 4834: [], 4842: [], 4844: [], 4852: [], 4856: [], 4865: [], 4868: [], 4870: [], 4881: [], 4883: [], 4886: [], 4890: [], 4896: [], 4897: [], 4903: [], 4906: [], 4925: [], 4928: [], 4930: [], 4937: [], 4940: [], 4945: [], 4954: [], 4955: [], 4962: [], 4963: [], 4965: [], 4974: [], 4975: [], 4987: [], 4988: [], 4989: [], 4993: [], 4995: [], 5001: [], 5010: [], 5013: [], 5015: [], 5018: [], 5028: [], 5030: [], 5036: [], 5038: [], 5040: [], 5044: [], 5050: [], 5061: [], 5062: [], 5067: [], 5070: [], 5075: [], 5076: [], 5077: [], 5080: [], 5087: [], 5090: [], 5103: [], 5106: [], 5108: [], 5112: [], 5117: [], 5118: [], 5119: [], 5121: [], 5125: [], 5133: [], 5144: [], 5146: [], 5149: [], 5151: [], 5156: [], 5159: [], 5168: [], 5171: [], 5176: [], 5178: [], 5184: [], 5186: [], 5189: [], 5192: [], 5198: [], 5199: [], 5210: [], 5212: [], 5219: [], 5220: [], 5224: [], 5227: [], 5235: [], 5241: [], 5250: [], 5270: [], 5271: [], 5272: [], 5278: [], 5282: [], 5285: [], 5291: [], 5300: [], 5303: [], 5313: [], 5316: [], 5318: [], 5325: [], 5341: [], 5347: [], 5351: [], 5361: [], 5363: [], 5374: [], 5375: [], 5379: [], 5385: [], 5388: [], 5389: [], 5403: [], 5412: [], 5414: [], 5422: [], 5426: [], 5428: [], 5433: [], 5434: [], 5440: [], 5441: [], 5445: [], 5452: [], 5453: [], 5458: [], 5472: [], 5473: [], 5481: [], 5484: [], 5485: [], 5500: [], 5520: [], 5522: [], 5523: [], 5527: [], 5531: [], 5537: [], 5542: [], 5544: [], 5553: [], 5555: [], 5559: [], 5561: [], 5566: [], 5572: [], 5574: [], 5576: [], 5586: [], 5587: [], 5594: [], 5598: [], 5599: [], 5602: [], 5605: [], 5620: [], 5634: [], 5642: [], 5643: [], 5649: [], 5653: [], 5659: [], 5660: [], 5669: [], 5674: [], 5676: [], 5681: [], 5682: [], 5683: [], 5686: [], 5692: [], 5696: [], 5697: [], 5698: [], 5702: [], 5704: [], 5706: [], 5717: [], 5719: [], 5720: [], 5722: [], 5723: [], 5724: [], 5728: [], 5733: [], 5740: [], 8647: [], 8650: [], 8653: [], 8656: [], 8657: [], 8661: [], 8662: [], 8663: [], 8672: [], 8679: [], 8684: [], 8687: [], 8688: [], 8703: [], 8706: [], 8707: [], 8712: [], 8718: [], 8721: [], 8732: [], 8736: [], 8740: [], 8742: [], 8745: [], 8753: [], 8755: [], 8766: [], 8787: [], 8788: [], 8790: [], 8794: [], 8802: [], 8803: [], 8806: [], 8808: [], 8809: [], 8810: [], 8814: [], 8820: [], 8821: [], 8833: [], 8843: [], 8854: [], 8855: [], 8861: [], 8863: [], 8874: [], 8880: [], 8883: [], 8884: [], 8891: [], 8893: [], 8897: [], 8898: [], 8905: [], 8912: [], 8917: [], 8920: [], 8924: [], 8927: [], 8928: [], 8929: [], 8936: [], 8940: [], 8946: [], 8948: [], 8949: [], 8951: [], 8952: [], 8956: [], 8957: [], 8964: [], 8974: [], 8975: [], 8977: [], 8980: [], 8990: [], 8994: [], 8995: [], 8996: [], 8998: [], 8999: [], 9003: [], 9010: [], 9014: [], 9016: [], 9018: [], 9019: [], 9022: [], 9023: [], 9026: [], 9036: [], 9037: [], 9042: [], 9045: [], 9049: [], 9053: [], 9065: [], 9073: [], 9074: [], 9075: [], 9081: [], 9082: [], 9086: [], 9088: [], 9101: [], 9105: [], 9120: [], 9125: [], 9128: [], 9129: [], 9136: [], 9142: [], 9143: [], 9146: [], 9149: [], 9150: [], 9152: [], 9157: [], 9163: [], 9165: [], 9168: [], 9171: [], 9172: [], 9176: [], 9198: [], 9206: [], 9207: [], 9208: [], 9212: [], 9213: [], 9218: [], 9226: [], 9232: [], 9247: [], 9249: [], 9250: [], 9252: [], 9260: [], 9263: [], 9266: [], 9271: [], 9274: [], 9275: [], 9278: [], 9286: [], 9292: [], 9294: [], 9295: [], 9321: [], 9332: [], 9340: [], 9349: [], 9362: [], 9365: [], 9368: [], 9373: [], 9377: [], 9378: [], 9393: [], 9399: [], 9400: [], 9401: [], 9409: [], 9413: [], 9418: [], 9420: [], 9421: [], 9428: [], 9431: [], 9433: [], 9434: [], 9435: [], 9446: [], 9470: [], 9474: [], 9475: [], 9493: [], 9501: [], 9505: [], 9506: [], 9516: [], 9518: [], 9523: [], 9524: [], 9527: [], 9531: [], 9538: [], 9543: [], 9546: [], 9553: [], 9554: [], 9560: [], 9565: [], 9568: [], 9590: [], 9595: [], 9599: [], 9601: [], 9606: [], 9607: [], 9608: [], 9620: [], 9622: [], 9623: [], 9627: [], 9629: [], 9630: [], 9635: [], 9637: [], 9639: [], 9643: [], 9646: [], 9653: [], 9655: [], 9663: [], 9664: [], 9665: [], 9669: [], 9677: [], 9678: [], 9683: [], 9686: [], 9689: [], 9696: [], 9700: [], 9705: [], 9709: [], 9720: [], 9721: [], 9729: [], 9731: [], 9744: [], 9756: [], 9765: [], 9766: [], 9771: [], 9773: [], 9784: [], 9792: [], 9795: [], 9807: [], 9810: [], 9812: [], 9821: [], 9822: [], 9824: [], 9837: [], 9843: [], 9848: [], 9850: [], 9852: [], 9860: [], 9864: [], 9872: [], 9873: [], 9878: [], 9880: [], 9884: [], 9887: [], 9890: [], 9898: [], 9902: [], 9907: [], 9912: [], 9942: [], 9958: [], 9959: [], 9960: [], 9967: [], 9974: [], 9976: [], 9998: [], 10005: [], 10019: [], 10020: [], 10029: [], 10033: [], 10035: [], 10043: [], 10055: [], 10059: [], 10062: [], 10071: [], 10074: []}\n",
            "1440\n",
            "1440\n",
            "1440\n",
            "              precision    recall  f1-score   support\n",
            "\n",
            "           0       0.89      0.92      0.91       875\n",
            "           1       0.87      0.83      0.85       565\n",
            "\n",
            "    accuracy                           0.88      1440\n",
            "   macro avg       0.88      0.88      0.88      1440\n",
            "weighted avg       0.88      0.88      0.88      1440\n",
            "\n",
            "[4.84572605 3.13306105 1.95452084]\n",
            "0.8847222222222222\n"
          ],
          "name": "stdout"
        },
        {
          "output_type": "display_data",
          "data": {
            "image/png": "[encoded data removed]",
            "text/plain": [
              "<Figure size 720x432 with 1 Axes>"
            ]
          },
          "metadata": {
            "tags": [],
            "needs_background": "light"
          }
        },
        {
          "output_type": "stream",
          "text": [
            "time: 3.23 s\n"
          ],
          "name": "stdout"
        }
      ]
    },
    {
      "cell_type": "markdown",
      "metadata": {
        "id": "CzuqbBdT9lXV",
        "colab_type": "text"
      },
      "source": [
        "Tamanho do modelo em KB"
      ]
    },
    {
      "cell_type": "code",
      "metadata": {
        "id": "f-0YEVYucJL3",
        "colab_type": "code",
        "outputId": "1fd53f42-3bf8-458d-93f9-5c14e2c49ac8",
        "colab": {
          "base_uri": "https://localhost:8080/",
          "height": 36
        }
      },
      "source": [
        "(os.path.getsize(BASE_PATH + 'linearsvc_no_esp.pkl')/1024)"
      ],
      "execution_count": 24,
      "outputs": [
        {
          "output_type": "execute_result",
          "data": {
            "text/plain": [
              "0.9326171875"
            ]
          },
          "metadata": {
            "tags": []
          },
          "execution_count": 24
        },
        {
          "output_type": "stream",
          "text": [
            "time: 3.31 ms\n"
          ],
          "name": "stdout"
        }
      ]
    }
  ]
}