{
  "nbformat": 4,
  "nbformat_minor": 0,
  "metadata": {
    "colab": {
      "name": "noise profiling - divisão no tempo.ipynb",
      "provenance": [],
      "collapsed_sections": [],
      "toc_visible": true,
      "machine_shape": "hm"
    },
    "kernelspec": {
      "name": "python3",
      "display_name": "Python 3"
    }
  },
  "cells": [
    {
      "cell_type": "code",
      "metadata": {
        "id": "ptGENpqklOQv",
        "colab_type": "code",
        "outputId": "070ad83a-76c4-410d-86e8-ba5ed496957a",
        "colab": {
          "base_uri": "https://localhost:8080/",
          "height": 374
        }
      },
      "source": [
        "import matplotlib.pyplot as plt\n",
        "import numpy as np # linear algebra\n",
        "import pandas as pd\n",
        "import librosa\n",
        "import librosa.display\n",
        "import os\n",
        "from os import path\n",
        "import io\n",
        "!pip3 install soundfile\n",
        "!pip3 install librosa\n",
        "import soundfile as sf\n",
        "import librosa.feature\n"
      ],
      "execution_count": 2,
      "outputs": [
        {
          "output_type": "stream",
          "text": [
            "Collecting soundfile\n",
            "  Downloading https://files.pythonhosted.org/packages/eb/f2/3cbbbf3b96fb9fa91582c438b574cff3f45b29c772f94c400e2c99ef5db9/SoundFile-0.10.3.post1-py2.py3-none-any.whl\n",
            "Requirement already satisfied: cffi>=1.0 in /usr/local/lib/python3.6/dist-packages (from soundfile) (1.14.0)\n",
            "Requirement already satisfied: pycparser in /usr/local/lib/python3.6/dist-packages (from cffi>=1.0->soundfile) (2.20)\n",
            "Installing collected packages: soundfile\n",
            "Successfully installed soundfile-0.10.3.post1\n",
            "Requirement already satisfied: librosa in /usr/local/lib/python3.6/dist-packages (0.6.3)\n",
            "Requirement already satisfied: scikit-learn!=0.19.0,>=0.14.0 in /usr/local/lib/python3.6/dist-packages (from librosa) (0.22.2.post1)\n",
            "Requirement already satisfied: audioread>=2.0.0 in /usr/local/lib/python3.6/dist-packages (from librosa) (2.1.8)\n",
            "Requirement already satisfied: joblib>=0.12 in /usr/local/lib/python3.6/dist-packages (from librosa) (0.14.1)\n",
            "Requirement already satisfied: decorator>=3.0.0 in /usr/local/lib/python3.6/dist-packages (from librosa) (4.4.2)\n",
            "Requirement already satisfied: six>=1.3 in /usr/local/lib/python3.6/dist-packages (from librosa) (1.12.0)\n",
            "Requirement already satisfied: numba>=0.38.0 in /usr/local/lib/python3.6/dist-packages (from librosa) (0.48.0)\n",
            "Requirement already satisfied: scipy>=1.0.0 in /usr/local/lib/python3.6/dist-packages (from librosa) (1.4.1)\n",
            "Requirement already satisfied: resampy>=0.2.0 in /usr/local/lib/python3.6/dist-packages (from librosa) (0.2.2)\n",
            "Requirement already satisfied: numpy>=1.8.0 in /usr/local/lib/python3.6/dist-packages (from librosa) (1.18.4)\n",
            "Requirement already satisfied: setuptools in /usr/local/lib/python3.6/dist-packages (from numba>=0.38.0->librosa) (46.1.3)\n",
            "Requirement already satisfied: llvmlite<0.32.0,>=0.31.0dev0 in /usr/local/lib/python3.6/dist-packages (from numba>=0.38.0->librosa) (0.31.0)\n"
          ],
          "name": "stdout"
        }
      ]
    },
    {
      "cell_type": "code",
      "metadata": {
        "id": "c-kU_a0NruyM",
        "colab_type": "code",
        "outputId": "67942192-c0c7-4ab4-9c9b-1227b9355fc0",
        "colab": {
          "base_uri": "https://localhost:8080/",
          "height": 205
        }
      },
      "source": [
        "!pip install ipython-autotime\n",
        "\n",
        "%load_ext autotime"
      ],
      "execution_count": 3,
      "outputs": [
        {
          "output_type": "stream",
          "text": [
            "Collecting ipython-autotime\n",
            "  Downloading https://files.pythonhosted.org/packages/e6/f9/0626bbdb322e3a078d968e87e3b01341e7890544de891d0cb613641220e6/ipython-autotime-0.1.tar.bz2\n",
            "Building wheels for collected packages: ipython-autotime\n",
            "  Building wheel for ipython-autotime (setup.py) ... \u001b[?25l\u001b[?25hdone\n",
            "  Created wheel for ipython-autotime: filename=ipython_autotime-0.1-cp36-none-any.whl size=1832 sha256=7a1f7dfaf5ba21081b7eaafb58fb080ef0d6a6c1a925d11e97522475db8bf3c0\n",
            "  Stored in directory: /root/.cache/pip/wheels/d2/df/81/2db1e54bc91002cec40334629bc39cfa86dff540b304ebcd6e\n",
            "Successfully built ipython-autotime\n",
            "Installing collected packages: ipython-autotime\n",
            "Successfully installed ipython-autotime-0.1\n"
          ],
          "name": "stdout"
        }
      ]
    },
    {
      "cell_type": "markdown",
      "metadata": {
        "id": "r7aioLqSfKgT",
        "colab_type": "text"
      },
      "source": [
        "# Opening datasets"
      ]
    },
    {
      "cell_type": "code",
      "metadata": {
        "id": "_AtrE-Kwmk5b",
        "colab_type": "code",
        "outputId": "13d915e6-242e-4531-9b16-336a5b6f9bb0",
        "colab": {
          "base_uri": "https://localhost:8080/",
          "height": 225
        }
      },
      "source": [
        "DIR = '/content/drive/My Drive/DCASE 2020 Challenge/TAU Urban Acoustic Scenes 2020 3Class' \n",
        "DIR_AUDIO = DIR + '/soundfiles/TAU-urban-acoustic-scenes-2020-3class-development/'\n",
        "df_meta = pd.read_csv(f'{DIR}/meta.csv')\n",
        "df_meta = pd.read_csv(io.StringIO(df_meta.to_csv(index=False)))\n",
        "df_meta.head()"
      ],
      "execution_count": 4,
      "outputs": [
        {
          "output_type": "execute_result",
          "data": {
            "text/html": [
              "<div>\n",
              "<style scoped>\n",
              "    .dataframe tbody tr th:only-of-type {\n",
              "        vertical-align: middle;\n",
              "    }\n",
              "\n",
              "    .dataframe tbody tr th {\n",
              "        vertical-align: top;\n",
              "    }\n",
              "\n",
              "    .dataframe thead th {\n",
              "        text-align: right;\n",
              "    }\n",
              "</style>\n",
              "<table border=\"1\" class=\"dataframe\">\n",
              "  <thead>\n",
              "    <tr style=\"text-align: right;\">\n",
              "      <th></th>\n",
              "      <th>filename</th>\n",
              "      <th>scene_label</th>\n",
              "      <th>identifier</th>\n",
              "    </tr>\n",
              "  </thead>\n",
              "  <tbody>\n",
              "    <tr>\n",
              "      <th>0</th>\n",
              "      <td>audio/airport-barcelona-0-0-a.wav</td>\n",
              "      <td>indoor</td>\n",
              "      <td>barcelona-0</td>\n",
              "    </tr>\n",
              "    <tr>\n",
              "      <th>1</th>\n",
              "      <td>audio/airport-barcelona-0-10-a.wav</td>\n",
              "      <td>indoor</td>\n",
              "      <td>barcelona-0</td>\n",
              "    </tr>\n",
              "    <tr>\n",
              "      <th>2</th>\n",
              "      <td>audio/airport-barcelona-0-11-a.wav</td>\n",
              "      <td>indoor</td>\n",
              "      <td>barcelona-0</td>\n",
              "    </tr>\n",
              "    <tr>\n",
              "      <th>3</th>\n",
              "      <td>audio/airport-barcelona-0-12-a.wav</td>\n",
              "      <td>indoor</td>\n",
              "      <td>barcelona-0</td>\n",
              "    </tr>\n",
              "    <tr>\n",
              "      <th>4</th>\n",
              "      <td>audio/airport-barcelona-0-13-a.wav</td>\n",
              "      <td>indoor</td>\n",
              "      <td>barcelona-0</td>\n",
              "    </tr>\n",
              "  </tbody>\n",
              "</table>\n",
              "</div>"
            ],
            "text/plain": [
              "                             filename scene_label   identifier\n",
              "0   audio/airport-barcelona-0-0-a.wav      indoor  barcelona-0\n",
              "1  audio/airport-barcelona-0-10-a.wav      indoor  barcelona-0\n",
              "2  audio/airport-barcelona-0-11-a.wav      indoor  barcelona-0\n",
              "3  audio/airport-barcelona-0-12-a.wav      indoor  barcelona-0\n",
              "4  audio/airport-barcelona-0-13-a.wav      indoor  barcelona-0"
            ]
          },
          "metadata": {
            "tags": []
          },
          "execution_count": 4
        },
        {
          "output_type": "stream",
          "text": [
            "time: 1.55 s\n"
          ],
          "name": "stdout"
        }
      ]
    },
    {
      "cell_type": "markdown",
      "metadata": {
        "id": "H4GBDBmTIF4P",
        "colab_type": "text"
      },
      "source": [
        "# Getting part of the dataset\n",
        "Não coloquei 10% dele, pois poderiam vir mais datasets de um label específico. E nem coloquei 10% de cada label, pois a quantidades de datasets dentro de cada label é diferente. Então defini n datasets de cada label."
      ]
    },
    {
      "cell_type": "code",
      "metadata": {
        "id": "d2rRCB6kp2DB",
        "colab_type": "code",
        "outputId": "8937b438-9459-4e87-dd79-82d10f22e164",
        "colab": {
          "base_uri": "https://localhost:8080/",
          "height": 225
        }
      },
      "source": [
        "df = df_meta.groupby('scene_label', as_index=False).apply(lambda x: x.sample(frac=1, random_state=15))\n",
        "df.index = [i[1] for i in df.index]\n",
        "df.head()"
      ],
      "execution_count": 5,
      "outputs": [
        {
          "output_type": "execute_result",
          "data": {
            "text/html": [
              "<div>\n",
              "<style scoped>\n",
              "    .dataframe tbody tr th:only-of-type {\n",
              "        vertical-align: middle;\n",
              "    }\n",
              "\n",
              "    .dataframe tbody tr th {\n",
              "        vertical-align: top;\n",
              "    }\n",
              "\n",
              "    .dataframe thead th {\n",
              "        text-align: right;\n",
              "    }\n",
              "</style>\n",
              "<table border=\"1\" class=\"dataframe\">\n",
              "  <thead>\n",
              "    <tr style=\"text-align: right;\">\n",
              "      <th></th>\n",
              "      <th>filename</th>\n",
              "      <th>scene_label</th>\n",
              "      <th>identifier</th>\n",
              "    </tr>\n",
              "  </thead>\n",
              "  <tbody>\n",
              "    <tr>\n",
              "      <th>3028</th>\n",
              "      <td>audio/metro_station-helsinki-231-6952-a.wav</td>\n",
              "      <td>indoor</td>\n",
              "      <td>helsinki-231</td>\n",
              "    </tr>\n",
              "    <tr>\n",
              "      <th>9493</th>\n",
              "      <td>audio/shopping_mall-milan-1183-45376-a.wav</td>\n",
              "      <td>indoor</td>\n",
              "      <td>milan-1183</td>\n",
              "    </tr>\n",
              "    <tr>\n",
              "      <th>4163</th>\n",
              "      <td>audio/metro_station-stockholm-85-2308-a.wav</td>\n",
              "      <td>indoor</td>\n",
              "      <td>stockholm-85</td>\n",
              "    </tr>\n",
              "    <tr>\n",
              "      <th>3224</th>\n",
              "      <td>audio/metro_station-lisbon-1020-42471-a.wav</td>\n",
              "      <td>indoor</td>\n",
              "      <td>lisbon-1020</td>\n",
              "    </tr>\n",
              "    <tr>\n",
              "      <th>9294</th>\n",
              "      <td>audio/shopping_mall-lyon-1066-42583-a.wav</td>\n",
              "      <td>indoor</td>\n",
              "      <td>lyon-1066</td>\n",
              "    </tr>\n",
              "  </tbody>\n",
              "</table>\n",
              "</div>"
            ],
            "text/plain": [
              "                                         filename scene_label    identifier\n",
              "3028  audio/metro_station-helsinki-231-6952-a.wav      indoor  helsinki-231\n",
              "9493   audio/shopping_mall-milan-1183-45376-a.wav      indoor    milan-1183\n",
              "4163  audio/metro_station-stockholm-85-2308-a.wav      indoor  stockholm-85\n",
              "3224  audio/metro_station-lisbon-1020-42471-a.wav      indoor   lisbon-1020\n",
              "9294    audio/shopping_mall-lyon-1066-42583-a.wav      indoor     lyon-1066"
            ]
          },
          "metadata": {
            "tags": []
          },
          "execution_count": 5
        },
        {
          "output_type": "stream",
          "text": [
            "time: 38.1 ms\n"
          ],
          "name": "stdout"
        }
      ]
    },
    {
      "cell_type": "code",
      "metadata": {
        "id": "CX0XXp7z9D8o",
        "colab_type": "code",
        "outputId": "e5e2dfe7-7a8f-4fb6-cd24-78a5d147f6d5",
        "colab": {
          "base_uri": "https://localhost:8080/",
          "height": 36
        }
      },
      "source": [
        "# so neste caso q n vamos usar transportation\n",
        "#df = df.loc[df['scene_label'] != 'transportation']"
      ],
      "execution_count": 6,
      "outputs": [
        {
          "output_type": "stream",
          "text": [
            "time: 748 µs\n"
          ],
          "name": "stdout"
        }
      ]
    },
    {
      "cell_type": "code",
      "metadata": {
        "id": "sCJ2fzdrMK4z",
        "colab_type": "code",
        "outputId": "b3b38eda-94c0-4b70-ea86-a5df2869ca40",
        "colab": {
          "base_uri": "https://localhost:8080/",
          "height": 92
        }
      },
      "source": [
        "print(df.loc[df['scene_label'] == 'outdoor'].shape)\n",
        "print(df.loc[df['scene_label'] == 'indoor'].shape)\n",
        "print(df.loc[df['scene_label'] == 'transportation'].shape)"
      ],
      "execution_count": 7,
      "outputs": [
        {
          "output_type": "stream",
          "text": [
            "(5760, 3)\n",
            "(4320, 3)\n",
            "(4320, 3)\n",
            "time: 10.3 ms\n"
          ],
          "name": "stdout"
        }
      ]
    },
    {
      "cell_type": "markdown",
      "metadata": {
        "id": "EBiTL-q4rx4m",
        "colab_type": "text"
      },
      "source": [
        "Reading the datasets and storing it to 'signals'"
      ]
    },
    {
      "cell_type": "code",
      "metadata": {
        "id": "toPMMVMwr8T1",
        "colab_type": "code",
        "outputId": "78065227-f155-4a45-f17f-82683b3a6527",
        "colab": {
          "base_uri": "https://localhost:8080/",
          "height": 36
        }
      },
      "source": [
        "info_sound = df[['filename','scene_label']].to_numpy()"
      ],
      "execution_count": 8,
      "outputs": [
        {
          "output_type": "stream",
          "text": [
            "time: 3.49 ms\n"
          ],
          "name": "stdout"
        }
      ]
    },
    {
      "cell_type": "code",
      "metadata": {
        "id": "l3mJ16fN68ns",
        "colab_type": "code",
        "outputId": "8c0a3ab5-25e5-4503-8985-a4794b92e660",
        "colab": {
          "base_uri": "https://localhost:8080/",
          "height": 36
        }
      },
      "source": [
        "LABELS = ['indoor', 'outdoor', 'transportation']"
      ],
      "execution_count": 9,
      "outputs": [
        {
          "output_type": "stream",
          "text": [
            "time: 1.17 ms\n"
          ],
          "name": "stdout"
        }
      ]
    },
    {
      "cell_type": "code",
      "metadata": {
        "id": "A587AkAuzyl8",
        "colab_type": "code",
        "outputId": "a7226878-d6a1-459c-9b19-fd8e6720d59c",
        "colab": {
          "base_uri": "https://localhost:8080/",
          "height": 36
        }
      },
      "source": [
        "FILEPATH = '/content/drive/My Drive/DCASE 2020 Challenge/TAU Urban Acoustic Scenes 2020 3Class/features.csv'"
      ],
      "execution_count": 10,
      "outputs": [
        {
          "output_type": "stream",
          "text": [
            "time: 797 µs\n"
          ],
          "name": "stdout"
        }
      ]
    },
    {
      "cell_type": "markdown",
      "metadata": {
        "id": "zCC0EbABtCfB",
        "colab_type": "text"
      },
      "source": [
        "Labels:\n",
        "\n",
        "\n",
        "0.   Indoor\n",
        "1.   Outdoor\n",
        "2.   Transportation\n",
        "\n"
      ]
    },
    {
      "cell_type": "code",
      "metadata": {
        "id": "bvib9vlm3hVm",
        "colab_type": "code",
        "outputId": "80605f13-a678-4ad2-fb6c-83e81ab7c241",
        "colab": {
          "base_uri": "https://localhost:8080/",
          "height": 36
        }
      },
      "source": [
        "def clear_csv(FILEPATH):\n",
        "    if os.path.exists(FILEPATH):\n",
        "        # clear the file\n",
        "        f = open(FILEPATH, \"w\")\n",
        "        f.truncate()\n",
        "        f.close()"
      ],
      "execution_count": 11,
      "outputs": [
        {
          "output_type": "stream",
          "text": [
            "time: 1.91 ms\n"
          ],
          "name": "stdout"
        }
      ]
    },
    {
      "cell_type": "markdown",
      "metadata": {
        "id": "3eQS2FIKz-3Y",
        "colab_type": "text"
      },
      "source": [
        "# Getting Features\n",
        "\n",
        "1.   Centroid Mean\n",
        "2.   Centroid STD\n",
        "3.   Flatness Mean\n",
        "4.   Flatness STD\n",
        "5.   RMS\n",
        "\n"
      ]
    },
    {
      "cell_type": "code",
      "metadata": {
        "id": "Pm5iFAKX0Chn",
        "colab_type": "code",
        "outputId": "30307c48-52de-4179-ec77-d4da47c78c2f",
        "colab": {
          "base_uri": "https://localhost:8080/",
          "height": 36
        }
      },
      "source": [
        "PARTS = 10\n",
        "def get_features(signal, label, music_id)->pd.DataFrame:\n",
        "    # LUANA - FEATURES\n",
        "    def get_centroid(y, sr):\n",
        "        return librosa.feature.spectral_centroid(y=y, sr=sr)\n",
        "    def get_flatness(y):\n",
        "        return librosa.feature.spectral_flatness(y=y)\n",
        "    def get_rms(y):\n",
        "        return librosa.feature.rms(y=y)\n",
        "    def get_mfccs(y, sr):\n",
        "        return librosa.feature.mfcc(y=y, sr=sr)\n",
        "\n",
        "    feats = (np.zeros((1,47))[0])\n",
        "    \n",
        "    music_features = []\n",
        "    signal = signal[:,0]\n",
        "    for second in np.array_split(signal, PARTS):\n",
        "        arr_mfcc = []\n",
        "        #print(second.shape)\n",
        "        c = get_centroid(second, SAMPLERATE)\n",
        "        f = get_flatness(second)\n",
        "        r = get_rms(second)\n",
        "        mfccs = get_mfccs(second, SAMPLERATE)\n",
        "        #print(np.array(mfccs).shape)\n",
        "        mfccs = [[np.mean(x), np.std(x)] for x in mfccs]\n",
        "        mfccs = np.array(mfccs).reshape(1,-1)[0]\n",
        "        #print(mfccs.shape)\n",
        "        mfccs = np.array_split(mfccs, mfccs.shape[0])\n",
        "        #print(np.array(mfccs).shape)\n",
        "        [arr_mfcc.append(x[0]) for x in mfccs]\n",
        "        music_features = np.hstack([arr_mfcc, np.array([np.mean(c),np.std(c),np.mean(f), np.std(f),r[0][0], label, music_id])]) \n",
        "        #print(np.array(music_features).shape)\n",
        "        feats = np.vstack([feats, music_features])  \n",
        "            \n",
        "    return pd.DataFrame(data=feats).drop(0).reset_index(drop=True)"
      ],
      "execution_count": 12,
      "outputs": [
        {
          "output_type": "stream",
          "text": [
            "time: 22.6 ms\n"
          ],
          "name": "stdout"
        }
      ]
    },
    {
      "cell_type": "code",
      "metadata": {
        "id": "aS-Ks9WpNZu5",
        "colab_type": "code",
        "outputId": "6d07d76e-3f9e-4fd9-bba9-caff2ea02681",
        "colab": {
          "base_uri": "https://localhost:8080/",
          "height": 56
        }
      },
      "source": [
        "'''SAMPLERATE = 48000\n",
        "clear_csv(FILEPATH)\n",
        "music_id = 0\n",
        "for filename, label in info_sound:\n",
        "    music_id += 1\n",
        "    if(path.isfile(os.path.join(DIR_AUDIO, filename))):\n",
        "        signal, sr = sf.read(os.path.join(DIR_AUDIO, filename))\n",
        "        signal = signal - np.mean(signal)\n",
        "        signal = signal / np.std(signal)\n",
        "        feats = get_features(signal, LABELS.index(label), music_id)\n",
        "        if (music_id == 1): \n",
        "            feats.to_csv(FILEPATH, mode='a', header=True, index=False)\n",
        "        else:\n",
        "            feats.to_csv(FILEPATH, mode='a', header=False, index=False)\n",
        "'''"
      ],
      "execution_count": 13,
      "outputs": [
        {
          "output_type": "execute_result",
          "data": {
            "text/plain": [
              "\"SAMPLERATE = 48000\\nclear_csv(FILEPATH)\\nmusic_id = 0\\nfor filename, label in info_sound:\\n    music_id += 1\\n    if(path.isfile(os.path.join(DIR_AUDIO, filename))):\\n        signal, sr = sf.read(os.path.join(DIR_AUDIO, filename))\\n        signal = signal - np.mean(signal)\\n        signal = signal / np.std(signal)\\n        feats = get_features(signal, LABELS.index(label), music_id)\\n        if (music_id == 1): \\n            feats.to_csv(FILEPATH, mode='a', header=True, index=False)\\n        else:\\n            feats.to_csv(FILEPATH, mode='a', header=False, index=False)\\n\""
            ]
          },
          "metadata": {
            "tags": []
          },
          "execution_count": 13
        },
        {
          "output_type": "stream",
          "text": [
            "time: 3.07 ms\n"
          ],
          "name": "stdout"
        }
      ]
    },
    {
      "cell_type": "code",
      "metadata": {
        "id": "MMDTe_UtA_Qz",
        "colab_type": "code",
        "outputId": "40686aef-576a-477c-e5de-129f93e86b85",
        "colab": {
          "base_uri": "https://localhost:8080/",
          "height": 36
        }
      },
      "source": [
        "df = pd.read_csv(FILEPATH)"
      ],
      "execution_count": 108,
      "outputs": [
        {
          "output_type": "stream",
          "text": [
            "time: 1.9 s\n"
          ],
          "name": "stdout"
        }
      ]
    },
    {
      "cell_type": "code",
      "metadata": {
        "id": "eOwT9rLwcjbl",
        "colab_type": "code",
        "outputId": "b5111ec8-0e9b-45eb-e744-882cbf6f5872",
        "colab": {
          "base_uri": "https://localhost:8080/",
          "height": 245
        }
      },
      "source": [
        "df.head()"
      ],
      "execution_count": 15,
      "outputs": [
        {
          "output_type": "execute_result",
          "data": {
            "text/html": [
              "<div>\n",
              "<style scoped>\n",
              "    .dataframe tbody tr th:only-of-type {\n",
              "        vertical-align: middle;\n",
              "    }\n",
              "\n",
              "    .dataframe tbody tr th {\n",
              "        vertical-align: top;\n",
              "    }\n",
              "\n",
              "    .dataframe thead th {\n",
              "        text-align: right;\n",
              "    }\n",
              "</style>\n",
              "<table border=\"1\" class=\"dataframe\">\n",
              "  <thead>\n",
              "    <tr style=\"text-align: right;\">\n",
              "      <th></th>\n",
              "      <th>0</th>\n",
              "      <th>1</th>\n",
              "      <th>2</th>\n",
              "      <th>3</th>\n",
              "      <th>4</th>\n",
              "      <th>5</th>\n",
              "      <th>6</th>\n",
              "      <th>7</th>\n",
              "      <th>8</th>\n",
              "      <th>9</th>\n",
              "      <th>10</th>\n",
              "      <th>11</th>\n",
              "      <th>12</th>\n",
              "      <th>13</th>\n",
              "      <th>14</th>\n",
              "      <th>15</th>\n",
              "      <th>16</th>\n",
              "      <th>17</th>\n",
              "      <th>18</th>\n",
              "      <th>19</th>\n",
              "      <th>20</th>\n",
              "      <th>21</th>\n",
              "      <th>22</th>\n",
              "      <th>23</th>\n",
              "      <th>24</th>\n",
              "      <th>25</th>\n",
              "      <th>26</th>\n",
              "      <th>27</th>\n",
              "      <th>28</th>\n",
              "      <th>29</th>\n",
              "      <th>30</th>\n",
              "      <th>31</th>\n",
              "      <th>32</th>\n",
              "      <th>33</th>\n",
              "      <th>34</th>\n",
              "      <th>35</th>\n",
              "      <th>36</th>\n",
              "      <th>37</th>\n",
              "      <th>38</th>\n",
              "      <th>39</th>\n",
              "      <th>40</th>\n",
              "      <th>41</th>\n",
              "      <th>42</th>\n",
              "      <th>43</th>\n",
              "      <th>44</th>\n",
              "      <th>45</th>\n",
              "      <th>46</th>\n",
              "    </tr>\n",
              "  </thead>\n",
              "  <tbody>\n",
              "    <tr>\n",
              "      <th>0</th>\n",
              "      <td>-1.058339</td>\n",
              "      <td>21.557356</td>\n",
              "      <td>138.058475</td>\n",
              "      <td>14.475603</td>\n",
              "      <td>19.548351</td>\n",
              "      <td>7.791330</td>\n",
              "      <td>12.999234</td>\n",
              "      <td>9.100426</td>\n",
              "      <td>21.600417</td>\n",
              "      <td>9.719721</td>\n",
              "      <td>14.447177</td>\n",
              "      <td>5.627787</td>\n",
              "      <td>-2.575959</td>\n",
              "      <td>4.427872</td>\n",
              "      <td>18.317267</td>\n",
              "      <td>6.451638</td>\n",
              "      <td>10.959105</td>\n",
              "      <td>5.390676</td>\n",
              "      <td>-1.539624</td>\n",
              "      <td>6.407919</td>\n",
              "      <td>12.047143</td>\n",
              "      <td>4.549981</td>\n",
              "      <td>5.993327</td>\n",
              "      <td>4.566259</td>\n",
              "      <td>-0.212231</td>\n",
              "      <td>4.507074</td>\n",
              "      <td>8.500897</td>\n",
              "      <td>3.945682</td>\n",
              "      <td>2.442563</td>\n",
              "      <td>4.589476</td>\n",
              "      <td>4.401461</td>\n",
              "      <td>4.109094</td>\n",
              "      <td>3.373851</td>\n",
              "      <td>4.082730</td>\n",
              "      <td>11.001641</td>\n",
              "      <td>3.895880</td>\n",
              "      <td>-1.535144</td>\n",
              "      <td>4.202840</td>\n",
              "      <td>6.301800</td>\n",
              "      <td>3.566015</td>\n",
              "      <td>2786.500734</td>\n",
              "      <td>590.776732</td>\n",
              "      <td>0.001828</td>\n",
              "      <td>0.001382</td>\n",
              "      <td>0.813294</td>\n",
              "      <td>0.0</td>\n",
              "      <td>1.0</td>\n",
              "    </tr>\n",
              "    <tr>\n",
              "      <th>1</th>\n",
              "      <td>4.396373</td>\n",
              "      <td>21.423197</td>\n",
              "      <td>148.472412</td>\n",
              "      <td>15.754003</td>\n",
              "      <td>11.277304</td>\n",
              "      <td>9.872526</td>\n",
              "      <td>14.373901</td>\n",
              "      <td>7.776297</td>\n",
              "      <td>18.653527</td>\n",
              "      <td>7.554829</td>\n",
              "      <td>14.697560</td>\n",
              "      <td>5.129134</td>\n",
              "      <td>-6.335751</td>\n",
              "      <td>3.800787</td>\n",
              "      <td>14.953893</td>\n",
              "      <td>5.399338</td>\n",
              "      <td>4.685978</td>\n",
              "      <td>5.803996</td>\n",
              "      <td>-1.906804</td>\n",
              "      <td>5.615132</td>\n",
              "      <td>8.910424</td>\n",
              "      <td>4.739265</td>\n",
              "      <td>7.499866</td>\n",
              "      <td>4.471133</td>\n",
              "      <td>-0.237318</td>\n",
              "      <td>4.829782</td>\n",
              "      <td>8.624371</td>\n",
              "      <td>5.136345</td>\n",
              "      <td>2.421678</td>\n",
              "      <td>4.173443</td>\n",
              "      <td>5.396713</td>\n",
              "      <td>4.762895</td>\n",
              "      <td>4.861248</td>\n",
              "      <td>4.534096</td>\n",
              "      <td>9.062895</td>\n",
              "      <td>4.334170</td>\n",
              "      <td>-0.178703</td>\n",
              "      <td>4.084477</td>\n",
              "      <td>4.844233</td>\n",
              "      <td>3.843358</td>\n",
              "      <td>2555.395854</td>\n",
              "      <td>621.969345</td>\n",
              "      <td>0.002324</td>\n",
              "      <td>0.002302</td>\n",
              "      <td>0.684736</td>\n",
              "      <td>0.0</td>\n",
              "      <td>1.0</td>\n",
              "    </tr>\n",
              "    <tr>\n",
              "      <th>2</th>\n",
              "      <td>4.039622</td>\n",
              "      <td>17.797887</td>\n",
              "      <td>144.214834</td>\n",
              "      <td>17.299504</td>\n",
              "      <td>13.237467</td>\n",
              "      <td>10.163706</td>\n",
              "      <td>15.597115</td>\n",
              "      <td>8.671988</td>\n",
              "      <td>19.921994</td>\n",
              "      <td>7.423457</td>\n",
              "      <td>13.089581</td>\n",
              "      <td>6.040814</td>\n",
              "      <td>-7.515614</td>\n",
              "      <td>5.406296</td>\n",
              "      <td>18.674110</td>\n",
              "      <td>5.412951</td>\n",
              "      <td>6.736072</td>\n",
              "      <td>5.542896</td>\n",
              "      <td>-1.387348</td>\n",
              "      <td>4.790850</td>\n",
              "      <td>7.602405</td>\n",
              "      <td>5.642789</td>\n",
              "      <td>6.957246</td>\n",
              "      <td>5.658208</td>\n",
              "      <td>1.752044</td>\n",
              "      <td>4.009927</td>\n",
              "      <td>9.399924</td>\n",
              "      <td>4.410964</td>\n",
              "      <td>1.891177</td>\n",
              "      <td>4.591253</td>\n",
              "      <td>4.972094</td>\n",
              "      <td>3.710776</td>\n",
              "      <td>5.068874</td>\n",
              "      <td>4.100614</td>\n",
              "      <td>10.316883</td>\n",
              "      <td>4.004157</td>\n",
              "      <td>-0.827074</td>\n",
              "      <td>4.968073</td>\n",
              "      <td>4.236341</td>\n",
              "      <td>3.949600</td>\n",
              "      <td>2636.420327</td>\n",
              "      <td>608.403259</td>\n",
              "      <td>0.002042</td>\n",
              "      <td>0.001426</td>\n",
              "      <td>0.635067</td>\n",
              "      <td>0.0</td>\n",
              "      <td>1.0</td>\n",
              "    </tr>\n",
              "    <tr>\n",
              "      <th>3</th>\n",
              "      <td>-2.971225</td>\n",
              "      <td>10.324732</td>\n",
              "      <td>136.452634</td>\n",
              "      <td>18.312479</td>\n",
              "      <td>14.551553</td>\n",
              "      <td>11.336503</td>\n",
              "      <td>22.049949</td>\n",
              "      <td>8.914152</td>\n",
              "      <td>22.695292</td>\n",
              "      <td>8.642087</td>\n",
              "      <td>15.597689</td>\n",
              "      <td>7.342446</td>\n",
              "      <td>-4.216103</td>\n",
              "      <td>4.297370</td>\n",
              "      <td>15.508611</td>\n",
              "      <td>6.215239</td>\n",
              "      <td>8.329009</td>\n",
              "      <td>5.826522</td>\n",
              "      <td>0.360900</td>\n",
              "      <td>4.906341</td>\n",
              "      <td>5.219678</td>\n",
              "      <td>3.892498</td>\n",
              "      <td>5.428922</td>\n",
              "      <td>4.253340</td>\n",
              "      <td>-0.139352</td>\n",
              "      <td>5.321892</td>\n",
              "      <td>6.066510</td>\n",
              "      <td>5.048954</td>\n",
              "      <td>1.498638</td>\n",
              "      <td>5.300146</td>\n",
              "      <td>4.920936</td>\n",
              "      <td>4.376864</td>\n",
              "      <td>3.972958</td>\n",
              "      <td>3.853206</td>\n",
              "      <td>9.161013</td>\n",
              "      <td>3.760955</td>\n",
              "      <td>0.987634</td>\n",
              "      <td>3.306040</td>\n",
              "      <td>6.310652</td>\n",
              "      <td>4.094116</td>\n",
              "      <td>2856.560291</td>\n",
              "      <td>680.523058</td>\n",
              "      <td>0.002604</td>\n",
              "      <td>0.002187</td>\n",
              "      <td>1.075849</td>\n",
              "      <td>0.0</td>\n",
              "      <td>1.0</td>\n",
              "    </tr>\n",
              "    <tr>\n",
              "      <th>4</th>\n",
              "      <td>5.139622</td>\n",
              "      <td>14.154994</td>\n",
              "      <td>134.699286</td>\n",
              "      <td>16.620555</td>\n",
              "      <td>10.759510</td>\n",
              "      <td>10.910082</td>\n",
              "      <td>23.602348</td>\n",
              "      <td>11.977858</td>\n",
              "      <td>23.361319</td>\n",
              "      <td>11.256819</td>\n",
              "      <td>12.558865</td>\n",
              "      <td>6.413006</td>\n",
              "      <td>-5.102273</td>\n",
              "      <td>5.260015</td>\n",
              "      <td>14.652709</td>\n",
              "      <td>5.483495</td>\n",
              "      <td>8.625391</td>\n",
              "      <td>5.006371</td>\n",
              "      <td>-3.409853</td>\n",
              "      <td>6.349032</td>\n",
              "      <td>4.758740</td>\n",
              "      <td>4.915403</td>\n",
              "      <td>5.702315</td>\n",
              "      <td>4.877898</td>\n",
              "      <td>-1.291014</td>\n",
              "      <td>3.864297</td>\n",
              "      <td>7.296906</td>\n",
              "      <td>4.181766</td>\n",
              "      <td>4.482390</td>\n",
              "      <td>4.547701</td>\n",
              "      <td>1.890542</td>\n",
              "      <td>5.516852</td>\n",
              "      <td>4.352310</td>\n",
              "      <td>4.544365</td>\n",
              "      <td>8.832762</td>\n",
              "      <td>4.427038</td>\n",
              "      <td>-1.444807</td>\n",
              "      <td>4.540398</td>\n",
              "      <td>3.481488</td>\n",
              "      <td>5.612529</td>\n",
              "      <td>2981.678425</td>\n",
              "      <td>588.441526</td>\n",
              "      <td>0.003398</td>\n",
              "      <td>0.002189</td>\n",
              "      <td>0.628136</td>\n",
              "      <td>0.0</td>\n",
              "      <td>1.0</td>\n",
              "    </tr>\n",
              "  </tbody>\n",
              "</table>\n",
              "</div>"
            ],
            "text/plain": [
              "          0          1           2          3  ...        43        44   45   46\n",
              "0 -1.058339  21.557356  138.058475  14.475603  ...  0.001382  0.813294  0.0  1.0\n",
              "1  4.396373  21.423197  148.472412  15.754003  ...  0.002302  0.684736  0.0  1.0\n",
              "2  4.039622  17.797887  144.214834  17.299504  ...  0.001426  0.635067  0.0  1.0\n",
              "3 -2.971225  10.324732  136.452634  18.312479  ...  0.002187  1.075849  0.0  1.0\n",
              "4  5.139622  14.154994  134.699286  16.620555  ...  0.002189  0.628136  0.0  1.0\n",
              "\n",
              "[5 rows x 47 columns]"
            ]
          },
          "metadata": {
            "tags": []
          },
          "execution_count": 15
        },
        {
          "output_type": "stream",
          "text": [
            "time: 86.1 ms\n"
          ],
          "name": "stdout"
        }
      ]
    },
    {
      "cell_type": "code",
      "metadata": {
        "id": "b7yrSNVe1tc4",
        "colab_type": "code",
        "outputId": "623b1f35-f6ea-4663-ee0b-1e2391d18f4d",
        "colab": {
          "base_uri": "https://localhost:8080/",
          "height": 93
        }
      },
      "source": [
        "from sklearn.model_selection import GroupShuffleSplit\n",
        "from sklearn.preprocessing import StandardScaler\n",
        "from sklearn.neighbors import KNeighborsClassifier\n",
        "from sklearn import metrics\n",
        "import pickle\n",
        "from collections import Counter\n",
        "from sklearn.decomposition import PCA\n",
        "import seaborn as sns"
      ],
      "execution_count": 16,
      "outputs": [
        {
          "output_type": "stream",
          "text": [
            "time: 123 ms\n"
          ],
          "name": "stdout"
        },
        {
          "output_type": "stream",
          "text": [
            "/usr/local/lib/python3.6/dist-packages/statsmodels/tools/_testing.py:19: FutureWarning: pandas.util.testing is deprecated. Use the functions in the public API at pandas.testing instead.\n",
            "  import pandas.util.testing as tm\n"
          ],
          "name": "stderr"
        }
      ]
    },
    {
      "cell_type": "markdown",
      "metadata": {
        "id": "3ya_9cIj-I0x",
        "colab_type": "text"
      },
      "source": [
        "Split no dataframe baseado em grupos do número da música"
      ]
    },
    {
      "cell_type": "code",
      "metadata": {
        "id": "D82SnW0XxcAQ",
        "colab_type": "code",
        "outputId": "fe3c3efd-130e-451a-9383-b6ef80b091c6",
        "colab": {
          "base_uri": "https://localhost:8080/",
          "height": 36
        }
      },
      "source": [
        "def split_by_music_id(df):\n",
        "    train_inds, test_inds = next(GroupShuffleSplit(test_size=.20, n_splits=2, random_state = 2).split(df, groups=df.iloc[:,26].values))\n",
        "    return [train_inds, test_inds]"
      ],
      "execution_count": 119,
      "outputs": [
        {
          "output_type": "stream",
          "text": [
            "time: 1.87 ms\n"
          ],
          "name": "stdout"
        }
      ]
    },
    {
      "cell_type": "markdown",
      "metadata": {
        "id": "jO9K4pcEvFVk",
        "colab_type": "text"
      },
      "source": [
        "Split no dataframe selecionado, em teste e treino"
      ]
    },
    {
      "cell_type": "code",
      "metadata": {
        "id": "HhFtUoQv3BoH",
        "colab_type": "code",
        "outputId": "b8c61dd8-9862-42a3-a77a-f662905e0c3d",
        "colab": {
          "base_uri": "https://localhost:8080/",
          "height": 36
        }
      },
      "source": [
        "def split_train_test(df,train_inds, test_inds):\n",
        "    X_train = (df.iloc[train_inds, 0:-2])\n",
        "    X_test = (df.iloc[test_inds,0:-2])\n",
        "    y_train = (df.iloc[train_inds,[-2,-1]]).values\n",
        "    y_test = (df.iloc[test_inds,[-2,-1]]).values\n",
        "    #print(X_train.shape, X_test.shape, y_train.shape, y_test.shape)\n",
        "    return [X_train, X_test, y_train, y_test]"
      ],
      "execution_count": 18,
      "outputs": [
        {
          "output_type": "stream",
          "text": [
            "time: 4.14 ms\n"
          ],
          "name": "stdout"
        }
      ]
    },
    {
      "cell_type": "code",
      "metadata": {
        "id": "a6DUiZXyLoTG",
        "colab_type": "code",
        "outputId": "eacdba18-2864-4891-bab0-eb936026bdd8",
        "colab": {
          "base_uri": "https://localhost:8080/",
          "height": 36
        }
      },
      "source": [
        "def standardize(X_train, X_test):\n",
        "    scaler = StandardScaler()\n",
        "    scaler.fit(X_train.values)\n",
        "    X_train = scaler.transform(X_train.values)\n",
        "    X_test = scaler.transform(X_test.values)\n",
        "    return [X_train, X_test]"
      ],
      "execution_count": 19,
      "outputs": [
        {
          "output_type": "stream",
          "text": [
            "time: 3.05 ms\n"
          ],
          "name": "stdout"
        }
      ]
    },
    {
      "cell_type": "markdown",
      "metadata": {
        "id": "0U0XQuSjPmCB",
        "colab_type": "text"
      },
      "source": [
        "# Random Forest Classifier"
      ]
    },
    {
      "cell_type": "code",
      "metadata": {
        "id": "hx4OgJ3K6s3l",
        "colab_type": "code",
        "outputId": "1e5f54d9-b373-48ab-97e0-a39563718fb0",
        "colab": {
          "base_uri": "https://localhost:8080/",
          "height": 36
        }
      },
      "source": [
        "#Import Random Forest Model\n",
        "from sklearn.ensemble import RandomForestClassifier"
      ],
      "execution_count": 20,
      "outputs": [
        {
          "output_type": "stream",
          "text": [
            "time: 26.5 ms\n"
          ],
          "name": "stdout"
        }
      ]
    },
    {
      "cell_type": "code",
      "metadata": {
        "id": "dMxW5nc-0khc",
        "colab_type": "code",
        "outputId": "1e7c52c4-d378-4bed-f0b0-68fa947c5002",
        "colab": {
          "base_uri": "https://localhost:8080/",
          "height": 54
        }
      },
      "source": [
        "pip install dill"
      ],
      "execution_count": 21,
      "outputs": [
        {
          "output_type": "stream",
          "text": [
            "Requirement already satisfied: dill in /usr/local/lib/python3.6/dist-packages (0.3.1.1)\n",
            "time: 3.57 s\n"
          ],
          "name": "stdout"
        }
      ]
    },
    {
      "cell_type": "code",
      "metadata": {
        "id": "oWw4aOINED0h",
        "colab_type": "code",
        "outputId": "c68864f7-78bd-4a43-8187-bab0fd478153",
        "colab": {
          "base_uri": "https://localhost:8080/",
          "height": 93
        }
      },
      "source": [
        "from sklearn.svm import SVC\n",
        "from sklearn.metrics import confusion_matrix,classification_report\n",
        "from sklearn.model_selection import cross_val_score, GridSearchCV\n",
        "from sklearn.svm import LinearSVC\n",
        "#from joblib import dump, load\n",
        "from sklearn.externals import joblib"
      ],
      "execution_count": 41,
      "outputs": [
        {
          "output_type": "stream",
          "text": [
            "time: 5.39 ms\n"
          ],
          "name": "stdout"
        },
        {
          "output_type": "stream",
          "text": [
            "/usr/local/lib/python3.6/dist-packages/sklearn/externals/joblib/__init__.py:15: FutureWarning: sklearn.externals.joblib is deprecated in 0.21 and will be removed in 0.23. Please import this functionality directly from joblib, which can be installed with: pip install joblib. If this warning is raised when loading pickled models, you may need to re-serialize those models with scikit-learn 0.21+.\n",
            "  warnings.warn(msg, category=FutureWarning)\n"
          ],
          "name": "stderr"
        }
      ]
    },
    {
      "cell_type": "code",
      "metadata": {
        "id": "pom1V2uY7IHA",
        "colab_type": "code",
        "outputId": "793f67cf-8cb4-4995-b979-f953b5bf95c6",
        "colab": {
          "base_uri": "https://localhost:8080/",
          "height": 36
        }
      },
      "source": [
        "def best_estimator(X_train, y_train,X_test, y_test):\n",
        "    n_estimators = [100, 300, 500, 800, 1000]\n",
        "    acc = 0\n",
        "    model = RandomForestClassifier()\n",
        "    y_pred_final = []\n",
        "    estimator = 0\n",
        "    for k in n_estimators:\n",
        "        clf = RandomForestClassifier(random_state=42, n_estimators=k)\n",
        "        clf.fit(X_train,y_train)\n",
        "        y_pred = clf.predict(X_test)\n",
        "        if (metrics.accuracy_score(y_test, y_pred) > acc):\n",
        "            acc =  metrics.accuracy_score(y_test, y_pred)\n",
        "            model = clf\n",
        "            y_pred_final = y_pred\n",
        "            estimator = k\n",
        "    return model, y_pred, acc, estimator\n",
        "\n",
        "def plot_feature_importances(feature_imp):\n",
        "    plt.figure(figsize=(15,10))\n",
        "    y = [round(num, 3) for num in feature_imp]\n",
        "    sns.barplot(x=np.arange(0,25), y=y)\n",
        "    # Add labels to your graph\n",
        "    plt.xlabel('Feature Importance Score')\n",
        "    plt.ylabel('Features')\n",
        "    plt.xticks(np.arange(0,25))\n",
        "    plt.title(\"Visualizing Important Features\")\n",
        "    plt.legend()\n",
        "    plt.show()\n",
        "\n",
        "def get_model_random_forest(X_train,y_train, y_test, X_test):\n",
        "    \n",
        "    #Create a Gaussian Classifier\n",
        "    clf = RandomForestClassifier(random_state=42, n_estimators=3, max_depth=50)\n",
        "    clf.fit(X_train,y_train)\n",
        "    y_pred = clf.predict(X_test)\n",
        "    # open a file, where you ant to store the data\n",
        "    filename = '/content/drive/My Drive/DCASE 2020 Challenge/TAU Urban Acoustic Scenes 2020 3Class/rforest_100.pkl'\n",
        "    # dump information to that file\n",
        "    #dump(clf, filename) \n",
        "    #with open(filename, 'wb') as f:\n",
        "    #    pickle.dump(clf, f)\n",
        "    joblib.dump(clf, filename,compress=9)\n",
        "    print(\"Accuracy Sem Votação:\",metrics.accuracy_score(y_test, y_pred))\n",
        "    #print([{id_feat:feature_importance} for id_feat, feature_importance in enumerate(clf.feature_importances_)])\n",
        "    plot_feature_importances(clf.feature_importances_)\n",
        "    return clf, y_pred\n",
        "    '''\n",
        "    clf = LinearSVC(random_state=42, C=100)\n",
        "    clf.fit(X_train,y_train)\n",
        "    y_pred = clf.predict(X_test)\n",
        "    file = open('/content/drive/My Drive/DCASE 2020 Challenge/TAU Urban Acoustic Scenes 2020 3Class/model.pickle', 'wb')\n",
        "    # dump information to that file\n",
        "    pickle.dump(clf, file)\n",
        "    # close the file\n",
        "    file.close()\n",
        "    return clf, y_pred\n",
        "    '''\n"
      ],
      "execution_count": 175,
      "outputs": [
        {
          "output_type": "stream",
          "text": [
            "time: 35.9 ms\n"
          ],
          "name": "stdout"
        }
      ]
    },
    {
      "cell_type": "markdown",
      "metadata": {
        "id": "jQAceUVb-qqG",
        "colab_type": "text"
      },
      "source": [
        "Contagem das predições para cada música"
      ]
    },
    {
      "cell_type": "code",
      "metadata": {
        "id": "cY0LI6g15kpW",
        "colab_type": "code",
        "outputId": "ff7b6e0d-3057-4ec4-e0ab-3af3e998bd49",
        "colab": {
          "base_uri": "https://localhost:8080/",
          "height": 36
        }
      },
      "source": [
        "def contagem_predicoes(y_test, y_pred):\n",
        "    counts = dict()\n",
        "    for id in np.unique(y_test[:,1]):\n",
        "        counts[id] = []\n",
        "    #print(counts)\n",
        "    for t, p in zip(y_test, y_pred):\n",
        "        counts[t[1]].append(p)\n",
        "    counter = [Counter(y) for x,y in counts.items()]\n",
        "    return counter\n",
        "\n",
        "def acc_votacao(counter, y_test):\n",
        "    #print(np.unique(y_test[1]))\n",
        "    #print(counter, y_test)\n",
        "    music_y_pred = [max(x, key=x.get) for x in counter]\n",
        "    #print(music_y_pred)\n",
        "    #music_y_test = [[x,y] for x,y in y_test]\n",
        "    #music_y_test = np.unique(music_y_test, axis=0)[:,0]\n",
        "    music_y_test = np.unique(y_test, axis=0)[:,0]\n",
        "    #print(music_y_test)\n",
        "    return metrics.accuracy_score(music_y_test,music_y_pred)"
      ],
      "execution_count": 139,
      "outputs": [
        {
          "output_type": "stream",
          "text": [
            "time: 10.1 ms\n"
          ],
          "name": "stdout"
        }
      ]
    },
    {
      "cell_type": "code",
      "metadata": {
        "id": "h1JGSISJOGJC",
        "colab_type": "code",
        "outputId": "132445ae-f20b-4fa9-c229-87a58e194325",
        "colab": {
          "base_uri": "https://localhost:8080/",
          "height": 36
        }
      },
      "source": [
        "def pca(X_test, y_test):\n",
        "    pca = PCA(3)\n",
        "    trans_pca = pca.fit_transform(X_test)\n",
        "    trans_pca = pd.DataFrame(trans_pca)\n",
        "    trans_pca['Labels'] = y_test[:,0]\n",
        "    trans_pca[\"Labels\"] = [\"$%s$\" % x for x in trans_pca[\"Labels\"]]\n",
        "    print(pca.explained_variance_)\n",
        "    trans_pca.columns = ['PC1', 'PC2','PC3','Labels']\n",
        "    plt.figure(figsize=(10,6))\n",
        "    sns.scatterplot(x=trans_pca['PC1'], y=trans_pca['PC2'], hue=trans_pca['Labels'])"
      ],
      "execution_count": 31,
      "outputs": [
        {
          "output_type": "stream",
          "text": [
            "time: 5.43 ms\n"
          ],
          "name": "stdout"
        }
      ]
    },
    {
      "cell_type": "code",
      "metadata": {
        "id": "Bg4bOgQtbps6",
        "colab_type": "code",
        "colab": {
          "base_uri": "https://localhost:8080/",
          "height": 36
        },
        "outputId": "e2e5cdb6-d73f-46f5-af9a-f67a1b860a0e"
      },
      "source": [
        "def reduce_features(df):\n",
        "    cols= df.columns\n",
        "    #print(cols)\n",
        "    without_std = [x for i, x in enumerate(cols[:40]) if (i % 2) == 0]\n",
        "    cols = [*without_std, *cols[40:47]] \n",
        "    newdf = df[cols]\n",
        "    #print(len(cols))\n",
        "    new_cols = np.arange(len(cols))\n",
        "    newdf.rename(columns=dict(zip(newdf.columns,new_cols)), inplace=True)\n",
        "    return newdf\n"
      ],
      "execution_count": 102,
      "outputs": [
        {
          "output_type": "stream",
          "text": [
            "time: 4.22 ms\n"
          ],
          "name": "stdout"
        }
      ]
    },
    {
      "cell_type": "code",
      "metadata": {
        "id": "q0EsTBVtqGxz",
        "colab_type": "code",
        "outputId": "c18b2740-e00b-4130-f1a7-c239a6480fc8",
        "colab": {
          "base_uri": "https://localhost:8080/",
          "height": 36
        }
      },
      "source": [
        "def classify(df):\n",
        "    #reducing df by important features\n",
        "    reduced_df = reduce_features(df)\n",
        "    #print(reduced_df.columns)\n",
        "    train_inds, test_inds = split_by_music_id(reduced_df)\n",
        "    X_train, X_test, y_train, y_test = split_train_test(reduced_df,train_inds, test_inds) \n",
        "    X_train, X_test = standardize(X_train, X_test)\n",
        "    rf_model, y_pred = get_model_random_forest(X_train,y_train[:,0], y_test[:,0], X_test)\n",
        "    contagens = contagem_predicoes(y_test, y_pred)\n",
        "    final_accuracy = acc_votacao(contagens, y_test)\n",
        "    pca(X_test, y_test)\n",
        "    return final_accuracy"
      ],
      "execution_count": 143,
      "outputs": [
        {
          "output_type": "stream",
          "text": [
            "time: 5.44 ms\n"
          ],
          "name": "stdout"
        }
      ]
    },
    {
      "cell_type": "code",
      "metadata": {
        "id": "KVQPJn_Vs3w9",
        "colab_type": "code",
        "outputId": "95a366e4-0cb0-47f4-bca7-0e50d6c3e612",
        "colab": {
          "base_uri": "https://localhost:8080/",
          "height": 1000
        }
      },
      "source": [
        "acc = classify(df)\n",
        "print(acc)"
      ],
      "execution_count": 176,
      "outputs": [
        {
          "output_type": "stream",
          "text": [
            "/usr/local/lib/python3.6/dist-packages/pandas/core/frame.py:4133: SettingWithCopyWarning: \n",
            "A value is trying to be set on a copy of a slice from a DataFrame\n",
            "\n",
            "See the caveats in the documentation: https://pandas.pydata.org/pandas-docs/stable/user_guide/indexing.html#returning-a-view-versus-a-copy\n",
            "  errors=errors,\n",
            "No handles with labels found to put in legend.\n"
          ],
          "name": "stderr"
        },
        {
          "output_type": "stream",
          "text": [
            "Accuracy Sem Votação: 0.7788555194805195\n"
          ],
          "name": "stdout"
        },
        {
          "output_type": "display_data",
          "data": {
            "image/png": "[encoded data removed]",
            "text/plain": [
              "<Figure size 1080x720 with 1 Axes>"
            ]
          },
          "metadata": {
            "tags": [],
            "needs_background": "light"
          }
        },
        {
          "output_type": "stream",
          "text": [
            "[5.80244195 2.92797414 1.67717249]\n",
            "0.8762175324675324\n"
          ],
          "name": "stdout"
        },
        {
          "output_type": "display_data",
          "data": {
            "image/png": "[encoded data removed]",
            "text/plain": [
              "<Figure size 720x432 with 1 Axes>"
            ]
          },
          "metadata": {
            "tags": [],
            "needs_background": "light"
          }
        },
        {
          "output_type": "stream",
          "text": [
            "time: 6.33 s\n"
          ],
          "name": "stdout"
        }
      ]
    },
    {
      "cell_type": "markdown",
      "metadata": {
        "id": "1OFRH-tEdkEQ",
        "colab_type": "text"
      },
      "source": [
        "Features: Descrição\n",
        "\n",
        "*   0-39: MFCSS (media, std) nessa ordem\n",
        "*   40: média centroide \n",
        "*   41: std centroide\n",
        "*   42: media flatness\n",
        "*   43: std flatness\n",
        "*   44: rms\n",
        "\n",
        "\n"
      ]
    },
    {
      "cell_type": "code",
      "metadata": {
        "id": "PIVp0Q0iuzxK",
        "colab_type": "code",
        "outputId": "60373e36-6951-4f63-e349-faca1f5290de",
        "colab": {
          "base_uri": "https://localhost:8080/",
          "height": 93
        }
      },
      "source": [
        "file_name = \"/content/drive/My Drive/DCASE 2020 Challenge/TAU Urban Acoustic Scenes 2020 3Class/model.joblib\"\n",
        "\n",
        "file_stats = os.stat(file_name)\n",
        "\n",
        "print(file_stats)\n",
        "print(f'File Size in Bytes is {file_stats.st_size}')"
      ],
      "execution_count": 34,
      "outputs": [
        {
          "output_type": "stream",
          "text": [
            "os.stat_result(st_mode=33152, st_ino=82, st_dev=82, st_nlink=1, st_uid=0, st_gid=0, st_size=159620390, st_atime=1589376720, st_mtime=1589376861, st_ctime=1589376861)\n",
            "File Size in Bytes is 159620390\n",
            "time: 2.79 ms\n"
          ],
          "name": "stdout"
        }
      ]
    },
    {
      "cell_type": "code",
      "metadata": {
        "id": "xA-zqbBWyu3W",
        "colab_type": "code",
        "colab": {
          "base_uri": "https://localhost:8080/",
          "height": 149
        },
        "outputId": "6cefc354-3ca8-4a8f-d26c-9f65af5b9e45"
      },
      "source": [
        "reduced_df = reduce_features(df)\n",
        "reduced_df.iloc[:,26].values"
      ],
      "execution_count": 118,
      "outputs": [
        {
          "output_type": "stream",
          "text": [
            "/usr/local/lib/python3.6/dist-packages/pandas/core/frame.py:4133: SettingWithCopyWarning: \n",
            "A value is trying to be set on a copy of a slice from a DataFrame\n",
            "\n",
            "See the caveats in the documentation: https://pandas.pydata.org/pandas-docs/stable/user_guide/indexing.html#returning-a-view-versus-a-copy\n",
            "  errors=errors,\n"
          ],
          "name": "stderr"
        },
        {
          "output_type": "execute_result",
          "data": {
            "text/plain": [
              "array([1.00e+00, 1.00e+00, 1.00e+00, ..., 1.44e+04, 1.44e+04, 1.44e+04])"
            ]
          },
          "metadata": {
            "tags": []
          },
          "execution_count": 118
        },
        {
          "output_type": "stream",
          "text": [
            "time: 30 ms\n"
          ],
          "name": "stdout"
        }
      ]
    },
    {
      "cell_type": "code",
      "metadata": {
        "id": "f-0YEVYucJL3",
        "colab_type": "code",
        "colab": {}
      },
      "source": [
        ""
      ],
      "execution_count": 0,
      "outputs": []
    }
  ]
}