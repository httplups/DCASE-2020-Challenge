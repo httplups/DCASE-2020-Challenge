{
  "nbformat": 4,
  "nbformat_minor": 0,
  "metadata": {
    "colab": {
      "name": "linear SVC.ipynb",
      "provenance": [],
      "collapsed_sections": [],
      "toc_visible": true,
      "machine_shape": "hm"
    },
    "kernelspec": {
      "name": "python3",
      "display_name": "Python 3"
    }
  },
  "cells": [
    {
      "cell_type": "code",
      "metadata": {
        "id": "ptGENpqklOQv",
        "colab_type": "code",
        "outputId": "676bbb7b-9979-4799-8181-569abc8cc9d5",
        "colab": {
          "base_uri": "https://localhost:8080/",
          "height": 374
        }
      },
      "source": [
        "import matplotlib.pyplot as plt\n",
        "import numpy as np # linear algebra\n",
        "import pandas as pd\n",
        "import librosa\n",
        "import librosa.display\n",
        "import os\n",
        "from os import path\n",
        "import io\n",
        "!pip3 install soundfile\n",
        "!pip3 install librosa\n",
        "import soundfile as sf\n",
        "import librosa.feature\n"
      ],
      "execution_count": 1,
      "outputs": [
        {
          "output_type": "stream",
          "text": [
            "Collecting soundfile\n",
            "  Downloading https://files.pythonhosted.org/packages/eb/f2/3cbbbf3b96fb9fa91582c438b574cff3f45b29c772f94c400e2c99ef5db9/SoundFile-0.10.3.post1-py2.py3-none-any.whl\n",
            "Requirement already satisfied: cffi>=1.0 in /usr/local/lib/python3.6/dist-packages (from soundfile) (1.14.0)\n",
            "Requirement already satisfied: pycparser in /usr/local/lib/python3.6/dist-packages (from cffi>=1.0->soundfile) (2.20)\n",
            "Installing collected packages: soundfile\n",
            "Successfully installed soundfile-0.10.3.post1\n",
            "Requirement already satisfied: librosa in /usr/local/lib/python3.6/dist-packages (0.6.3)\n",
            "Requirement already satisfied: resampy>=0.2.0 in /usr/local/lib/python3.6/dist-packages (from librosa) (0.2.2)\n",
            "Requirement already satisfied: six>=1.3 in /usr/local/lib/python3.6/dist-packages (from librosa) (1.12.0)\n",
            "Requirement already satisfied: decorator>=3.0.0 in /usr/local/lib/python3.6/dist-packages (from librosa) (4.4.2)\n",
            "Requirement already satisfied: joblib>=0.12 in /usr/local/lib/python3.6/dist-packages (from librosa) (0.14.1)\n",
            "Requirement already satisfied: scikit-learn!=0.19.0,>=0.14.0 in /usr/local/lib/python3.6/dist-packages (from librosa) (0.22.2.post1)\n",
            "Requirement already satisfied: numpy>=1.8.0 in /usr/local/lib/python3.6/dist-packages (from librosa) (1.18.4)\n",
            "Requirement already satisfied: scipy>=1.0.0 in /usr/local/lib/python3.6/dist-packages (from librosa) (1.4.1)\n",
            "Requirement already satisfied: audioread>=2.0.0 in /usr/local/lib/python3.6/dist-packages (from librosa) (2.1.8)\n",
            "Requirement already satisfied: numba>=0.38.0 in /usr/local/lib/python3.6/dist-packages (from librosa) (0.48.0)\n",
            "Requirement already satisfied: setuptools in /usr/local/lib/python3.6/dist-packages (from numba>=0.38.0->librosa) (46.1.3)\n",
            "Requirement already satisfied: llvmlite<0.32.0,>=0.31.0dev0 in /usr/local/lib/python3.6/dist-packages (from numba>=0.38.0->librosa) (0.31.0)\n"
          ],
          "name": "stdout"
        }
      ]
    },
    {
      "cell_type": "code",
      "metadata": {
        "id": "c-kU_a0NruyM",
        "colab_type": "code",
        "outputId": "fde60e10-bd70-4e60-9d64-139abc50026e",
        "colab": {
          "base_uri": "https://localhost:8080/",
          "height": 205
        }
      },
      "source": [
        "!pip install ipython-autotime\n",
        "\n",
        "%load_ext autotime"
      ],
      "execution_count": 2,
      "outputs": [
        {
          "output_type": "stream",
          "text": [
            "Collecting ipython-autotime\n",
            "  Downloading https://files.pythonhosted.org/packages/e6/f9/0626bbdb322e3a078d968e87e3b01341e7890544de891d0cb613641220e6/ipython-autotime-0.1.tar.bz2\n",
            "Building wheels for collected packages: ipython-autotime\n",
            "  Building wheel for ipython-autotime (setup.py) ... \u001b[?25l\u001b[?25hdone\n",
            "  Created wheel for ipython-autotime: filename=ipython_autotime-0.1-cp36-none-any.whl size=1832 sha256=33f40387212527605706059837481c130ca3e0c5b7693110562e7b81416233d6\n",
            "  Stored in directory: /root/.cache/pip/wheels/d2/df/81/2db1e54bc91002cec40334629bc39cfa86dff540b304ebcd6e\n",
            "Successfully built ipython-autotime\n",
            "Installing collected packages: ipython-autotime\n",
            "Successfully installed ipython-autotime-0.1\n"
          ],
          "name": "stdout"
        }
      ]
    },
    {
      "cell_type": "markdown",
      "metadata": {
        "id": "r7aioLqSfKgT",
        "colab_type": "text"
      },
      "source": [
        "# Opening datasets"
      ]
    },
    {
      "cell_type": "code",
      "metadata": {
        "id": "_AtrE-Kwmk5b",
        "colab_type": "code",
        "outputId": "22aad9ea-58dc-4b7f-993f-5bb08b282d7d",
        "colab": {
          "base_uri": "https://localhost:8080/",
          "height": 225
        }
      },
      "source": [
        "DIR = '/content/drive/My Drive/DCASE 2020 Challenge/TAU Urban Acoustic Scenes 2020 3Class' \n",
        "DIR_AUDIO = DIR + '/soundfiles/TAU-urban-acoustic-scenes-2020-3class-development/'\n",
        "df_meta = pd.read_csv(f'{DIR}/meta.csv')\n",
        "df_meta = pd.read_csv(io.StringIO(df_meta.to_csv(index=False)))\n",
        "df_meta.head()"
      ],
      "execution_count": 3,
      "outputs": [
        {
          "output_type": "execute_result",
          "data": {
            "text/html": [
              "<div>\n",
              "<style scoped>\n",
              "    .dataframe tbody tr th:only-of-type {\n",
              "        vertical-align: middle;\n",
              "    }\n",
              "\n",
              "    .dataframe tbody tr th {\n",
              "        vertical-align: top;\n",
              "    }\n",
              "\n",
              "    .dataframe thead th {\n",
              "        text-align: right;\n",
              "    }\n",
              "</style>\n",
              "<table border=\"1\" class=\"dataframe\">\n",
              "  <thead>\n",
              "    <tr style=\"text-align: right;\">\n",
              "      <th></th>\n",
              "      <th>filename</th>\n",
              "      <th>scene_label</th>\n",
              "      <th>identifier</th>\n",
              "    </tr>\n",
              "  </thead>\n",
              "  <tbody>\n",
              "    <tr>\n",
              "      <th>0</th>\n",
              "      <td>audio/airport-barcelona-0-0-a.wav</td>\n",
              "      <td>indoor</td>\n",
              "      <td>barcelona-0</td>\n",
              "    </tr>\n",
              "    <tr>\n",
              "      <th>1</th>\n",
              "      <td>audio/airport-barcelona-0-10-a.wav</td>\n",
              "      <td>indoor</td>\n",
              "      <td>barcelona-0</td>\n",
              "    </tr>\n",
              "    <tr>\n",
              "      <th>2</th>\n",
              "      <td>audio/airport-barcelona-0-11-a.wav</td>\n",
              "      <td>indoor</td>\n",
              "      <td>barcelona-0</td>\n",
              "    </tr>\n",
              "    <tr>\n",
              "      <th>3</th>\n",
              "      <td>audio/airport-barcelona-0-12-a.wav</td>\n",
              "      <td>indoor</td>\n",
              "      <td>barcelona-0</td>\n",
              "    </tr>\n",
              "    <tr>\n",
              "      <th>4</th>\n",
              "      <td>audio/airport-barcelona-0-13-a.wav</td>\n",
              "      <td>indoor</td>\n",
              "      <td>barcelona-0</td>\n",
              "    </tr>\n",
              "  </tbody>\n",
              "</table>\n",
              "</div>"
            ],
            "text/plain": [
              "                             filename scene_label   identifier\n",
              "0   audio/airport-barcelona-0-0-a.wav      indoor  barcelona-0\n",
              "1  audio/airport-barcelona-0-10-a.wav      indoor  barcelona-0\n",
              "2  audio/airport-barcelona-0-11-a.wav      indoor  barcelona-0\n",
              "3  audio/airport-barcelona-0-12-a.wav      indoor  barcelona-0\n",
              "4  audio/airport-barcelona-0-13-a.wav      indoor  barcelona-0"
            ]
          },
          "metadata": {
            "tags": []
          },
          "execution_count": 3
        },
        {
          "output_type": "stream",
          "text": [
            "time: 2.04 s\n"
          ],
          "name": "stdout"
        }
      ]
    },
    {
      "cell_type": "markdown",
      "metadata": {
        "id": "H4GBDBmTIF4P",
        "colab_type": "text"
      },
      "source": [
        "# Getting part of the dataset\n",
        "Não coloquei 10% dele, pois poderiam vir mais datasets de um label específico. E nem coloquei 10% de cada label, pois a quantidades de datasets dentro de cada label é diferente. Então defini n datasets de cada label."
      ]
    },
    {
      "cell_type": "code",
      "metadata": {
        "id": "d2rRCB6kp2DB",
        "colab_type": "code",
        "outputId": "8e9e5765-9c1f-4232-b34c-eea0722b04f2",
        "colab": {
          "base_uri": "https://localhost:8080/",
          "height": 225
        }
      },
      "source": [
        "df = df_meta.groupby('scene_label', as_index=False).apply(lambda x: x.sample(frac=1, random_state=15))\n",
        "df.index = [i[1] for i in df.index]\n",
        "df.head()"
      ],
      "execution_count": 4,
      "outputs": [
        {
          "output_type": "execute_result",
          "data": {
            "text/html": [
              "<div>\n",
              "<style scoped>\n",
              "    .dataframe tbody tr th:only-of-type {\n",
              "        vertical-align: middle;\n",
              "    }\n",
              "\n",
              "    .dataframe tbody tr th {\n",
              "        vertical-align: top;\n",
              "    }\n",
              "\n",
              "    .dataframe thead th {\n",
              "        text-align: right;\n",
              "    }\n",
              "</style>\n",
              "<table border=\"1\" class=\"dataframe\">\n",
              "  <thead>\n",
              "    <tr style=\"text-align: right;\">\n",
              "      <th></th>\n",
              "      <th>filename</th>\n",
              "      <th>scene_label</th>\n",
              "      <th>identifier</th>\n",
              "    </tr>\n",
              "  </thead>\n",
              "  <tbody>\n",
              "    <tr>\n",
              "      <th>3028</th>\n",
              "      <td>audio/metro_station-helsinki-231-6952-a.wav</td>\n",
              "      <td>indoor</td>\n",
              "      <td>helsinki-231</td>\n",
              "    </tr>\n",
              "    <tr>\n",
              "      <th>9493</th>\n",
              "      <td>audio/shopping_mall-milan-1183-45376-a.wav</td>\n",
              "      <td>indoor</td>\n",
              "      <td>milan-1183</td>\n",
              "    </tr>\n",
              "    <tr>\n",
              "      <th>4163</th>\n",
              "      <td>audio/metro_station-stockholm-85-2308-a.wav</td>\n",
              "      <td>indoor</td>\n",
              "      <td>stockholm-85</td>\n",
              "    </tr>\n",
              "    <tr>\n",
              "      <th>3224</th>\n",
              "      <td>audio/metro_station-lisbon-1020-42471-a.wav</td>\n",
              "      <td>indoor</td>\n",
              "      <td>lisbon-1020</td>\n",
              "    </tr>\n",
              "    <tr>\n",
              "      <th>9294</th>\n",
              "      <td>audio/shopping_mall-lyon-1066-42583-a.wav</td>\n",
              "      <td>indoor</td>\n",
              "      <td>lyon-1066</td>\n",
              "    </tr>\n",
              "  </tbody>\n",
              "</table>\n",
              "</div>"
            ],
            "text/plain": [
              "                                         filename scene_label    identifier\n",
              "3028  audio/metro_station-helsinki-231-6952-a.wav      indoor  helsinki-231\n",
              "9493   audio/shopping_mall-milan-1183-45376-a.wav      indoor    milan-1183\n",
              "4163  audio/metro_station-stockholm-85-2308-a.wav      indoor  stockholm-85\n",
              "3224  audio/metro_station-lisbon-1020-42471-a.wav      indoor   lisbon-1020\n",
              "9294    audio/shopping_mall-lyon-1066-42583-a.wav      indoor     lyon-1066"
            ]
          },
          "metadata": {
            "tags": []
          },
          "execution_count": 4
        },
        {
          "output_type": "stream",
          "text": [
            "time: 36 ms\n"
          ],
          "name": "stdout"
        }
      ]
    },
    {
      "cell_type": "code",
      "metadata": {
        "id": "CX0XXp7z9D8o",
        "colab_type": "code",
        "outputId": "e581cf4a-d8ef-4b6e-a6ab-3b7e5d2c6383",
        "colab": {
          "base_uri": "https://localhost:8080/",
          "height": 36
        }
      },
      "source": [
        "# so neste caso q n vamos usar transportation\n",
        "#df = df.loc[df['scene_label'] != 'transportation']"
      ],
      "execution_count": 5,
      "outputs": [
        {
          "output_type": "stream",
          "text": [
            "time: 633 µs\n"
          ],
          "name": "stdout"
        }
      ]
    },
    {
      "cell_type": "code",
      "metadata": {
        "id": "sCJ2fzdrMK4z",
        "colab_type": "code",
        "outputId": "5f0a4e8d-fdd8-4b15-d57e-8103dd8578fb",
        "colab": {
          "base_uri": "https://localhost:8080/",
          "height": 92
        }
      },
      "source": [
        "print(df.loc[df['scene_label'] == 'outdoor'].shape)\n",
        "print(df.loc[df['scene_label'] == 'indoor'].shape)\n",
        "print(df.loc[df['scene_label'] == 'transportation'].shape)"
      ],
      "execution_count": 6,
      "outputs": [
        {
          "output_type": "stream",
          "text": [
            "(5760, 3)\n",
            "(4320, 3)\n",
            "(4320, 3)\n",
            "time: 10.2 ms\n"
          ],
          "name": "stdout"
        }
      ]
    },
    {
      "cell_type": "markdown",
      "metadata": {
        "id": "EBiTL-q4rx4m",
        "colab_type": "text"
      },
      "source": [
        "Reading the datasets and storing it to 'signals'"
      ]
    },
    {
      "cell_type": "code",
      "metadata": {
        "id": "toPMMVMwr8T1",
        "colab_type": "code",
        "outputId": "ee6fbe3b-2151-45f1-fe96-111619c00005",
        "colab": {
          "base_uri": "https://localhost:8080/",
          "height": 36
        }
      },
      "source": [
        "info_sound = df[['filename','scene_label']].to_numpy()"
      ],
      "execution_count": 7,
      "outputs": [
        {
          "output_type": "stream",
          "text": [
            "time: 2.78 ms\n"
          ],
          "name": "stdout"
        }
      ]
    },
    {
      "cell_type": "code",
      "metadata": {
        "id": "l3mJ16fN68ns",
        "colab_type": "code",
        "outputId": "eece4c36-3066-4c57-8bfa-152ae32e58f9",
        "colab": {
          "base_uri": "https://localhost:8080/",
          "height": 36
        }
      },
      "source": [
        "LABELS = ['indoor', 'outdoor', 'transportation']"
      ],
      "execution_count": 8,
      "outputs": [
        {
          "output_type": "stream",
          "text": [
            "time: 900 µs\n"
          ],
          "name": "stdout"
        }
      ]
    },
    {
      "cell_type": "code",
      "metadata": {
        "id": "A587AkAuzyl8",
        "colab_type": "code",
        "outputId": "6301ff7f-4d45-4503-93d4-3870eddd6079",
        "colab": {
          "base_uri": "https://localhost:8080/",
          "height": 36
        }
      },
      "source": [
        "FILEPATH = '/content/drive/My Drive/DCASE 2020 Challenge/TAU Urban Acoustic Scenes 2020 3Class/features.csv'"
      ],
      "execution_count": 9,
      "outputs": [
        {
          "output_type": "stream",
          "text": [
            "time: 836 µs\n"
          ],
          "name": "stdout"
        }
      ]
    },
    {
      "cell_type": "markdown",
      "metadata": {
        "id": "zCC0EbABtCfB",
        "colab_type": "text"
      },
      "source": [
        "Labels:\n",
        "\n",
        "\n",
        "0.   Indoor\n",
        "1.   Outdoor\n",
        "2.   Transportation\n",
        "\n"
      ]
    },
    {
      "cell_type": "code",
      "metadata": {
        "id": "bvib9vlm3hVm",
        "colab_type": "code",
        "outputId": "6bef3299-1680-4f1d-c5df-7e7990d63eed",
        "colab": {
          "base_uri": "https://localhost:8080/",
          "height": 36
        }
      },
      "source": [
        "def clear_csv(FILEPATH):\n",
        "    if os.path.exists(FILEPATH):\n",
        "        # clear the file\n",
        "        f = open(FILEPATH, \"w\")\n",
        "        f.truncate()\n",
        "        f.close()"
      ],
      "execution_count": 10,
      "outputs": [
        {
          "output_type": "stream",
          "text": [
            "time: 2.29 ms\n"
          ],
          "name": "stdout"
        }
      ]
    },
    {
      "cell_type": "markdown",
      "metadata": {
        "id": "3eQS2FIKz-3Y",
        "colab_type": "text"
      },
      "source": [
        "# Getting Features\n",
        "\n",
        "1.   Centroid Mean\n",
        "2.   Centroid STD\n",
        "3.   Flatness Mean\n",
        "4.   Flatness STD\n",
        "5.   RMS\n",
        "\n"
      ]
    },
    {
      "cell_type": "code",
      "metadata": {
        "id": "Pm5iFAKX0Chn",
        "colab_type": "code",
        "outputId": "f48af7b3-b850-4ca6-9ddd-33879b9bb97a",
        "colab": {
          "base_uri": "https://localhost:8080/",
          "height": 36
        }
      },
      "source": [
        "PARTS = 10\n",
        "def get_features(signal, label, music_id)->pd.DataFrame:\n",
        "    # LUANA - FEATURES\n",
        "    def get_centroid(y, sr):\n",
        "        return librosa.feature.spectral_centroid(y=y, sr=sr)\n",
        "    def get_flatness(y):\n",
        "        return librosa.feature.spectral_flatness(y=y)\n",
        "    def get_rms(y):\n",
        "        return librosa.feature.rms(y=y)\n",
        "    def get_mfccs(y, sr):\n",
        "        return librosa.feature.mfcc(y=y, sr=sr)\n",
        "\n",
        "    feats = (np.zeros((1,47))[0])\n",
        "    \n",
        "    music_features = []\n",
        "    signal = signal[:,0]\n",
        "    for second in np.array_split(signal, PARTS):\n",
        "        arr_mfcc = []\n",
        "        #print(second.shape)\n",
        "        c = get_centroid(second, SAMPLERATE)\n",
        "        f = get_flatness(second)\n",
        "        r = get_rms(second)\n",
        "        mfccs = get_mfccs(second, SAMPLERATE)\n",
        "        #print(np.array(mfccs).shape)\n",
        "        mfccs = [[np.mean(x), np.std(x)] for x in mfccs]\n",
        "        mfccs = np.array(mfccs).reshape(1,-1)[0]\n",
        "        #print(mfccs.shape)\n",
        "        mfccs = np.array_split(mfccs, mfccs.shape[0])\n",
        "        #print(np.array(mfccs).shape)\n",
        "        [arr_mfcc.append(x[0]) for x in mfccs]\n",
        "        music_features = np.hstack([arr_mfcc, np.array([np.mean(c),np.std(c),np.mean(f), np.std(f),r[0][0], label, music_id])]) \n",
        "        #print(np.array(music_features).shape)\n",
        "        feats = np.vstack([feats, music_features])  \n",
        "            \n",
        "    return pd.DataFrame(data=feats).drop(0).reset_index(drop=True)"
      ],
      "execution_count": 11,
      "outputs": [
        {
          "output_type": "stream",
          "text": [
            "time: 25.5 ms\n"
          ],
          "name": "stdout"
        }
      ]
    },
    {
      "cell_type": "code",
      "metadata": {
        "id": "aS-Ks9WpNZu5",
        "colab_type": "code",
        "outputId": "7732e4f2-6635-420e-b734-fa9f8756b75e",
        "colab": {
          "base_uri": "https://localhost:8080/",
          "height": 56
        }
      },
      "source": [
        "'''SAMPLERATE = 48000\n",
        "clear_csv(FILEPATH)\n",
        "music_id = 0\n",
        "for filename, label in info_sound:\n",
        "    music_id += 1\n",
        "    if(path.isfile(os.path.join(DIR_AUDIO, filename))):\n",
        "        signal, sr = sf.read(os.path.join(DIR_AUDIO, filename))\n",
        "        signal = signal - np.mean(signal)\n",
        "        signal = signal / np.std(signal)\n",
        "        feats = get_features(signal, LABELS.index(label), music_id)\n",
        "        if (music_id == 1): \n",
        "            feats.to_csv(FILEPATH, mode='a', header=True, index=False)\n",
        "        else:\n",
        "            feats.to_csv(FILEPATH, mode='a', header=False, index=False)\n",
        "'''"
      ],
      "execution_count": 12,
      "outputs": [
        {
          "output_type": "execute_result",
          "data": {
            "text/plain": [
              "\"SAMPLERATE = 48000\\nclear_csv(FILEPATH)\\nmusic_id = 0\\nfor filename, label in info_sound:\\n    music_id += 1\\n    if(path.isfile(os.path.join(DIR_AUDIO, filename))):\\n        signal, sr = sf.read(os.path.join(DIR_AUDIO, filename))\\n        signal = signal - np.mean(signal)\\n        signal = signal / np.std(signal)\\n        feats = get_features(signal, LABELS.index(label), music_id)\\n        if (music_id == 1): \\n            feats.to_csv(FILEPATH, mode='a', header=True, index=False)\\n        else:\\n            feats.to_csv(FILEPATH, mode='a', header=False, index=False)\\n\""
            ]
          },
          "metadata": {
            "tags": []
          },
          "execution_count": 12
        },
        {
          "output_type": "stream",
          "text": [
            "time: 2.97 ms\n"
          ],
          "name": "stdout"
        }
      ]
    },
    {
      "cell_type": "code",
      "metadata": {
        "id": "MMDTe_UtA_Qz",
        "colab_type": "code",
        "outputId": "c1b346b4-d2fc-4767-83d8-8c03f6e9d210",
        "colab": {
          "base_uri": "https://localhost:8080/",
          "height": 36
        }
      },
      "source": [
        "# FIZ UMA REDUÇÃO\n",
        "BASE_PATH = '/content/drive/My Drive/DCASE 2020 Challenge/TAU Urban Acoustic Scenes 2020 3Class/'\n",
        "PATH2 = '/content/drive/My Drive/DCASE 2020 Challenge/TAU Urban Acoustic Scenes 2020 3Class/features_reduced.csv'\n",
        "df = pd.read_csv(PATH2)"
      ],
      "execution_count": 13,
      "outputs": [
        {
          "output_type": "stream",
          "text": [
            "time: 31.8 s\n"
          ],
          "name": "stdout"
        }
      ]
    },
    {
      "cell_type": "code",
      "metadata": {
        "id": "eOwT9rLwcjbl",
        "colab_type": "code",
        "outputId": "796b1ae1-f7f8-4d45-f4d5-0f960b9c494a",
        "colab": {
          "base_uri": "https://localhost:8080/",
          "height": 245
        }
      },
      "source": [
        "df.head()"
      ],
      "execution_count": 14,
      "outputs": [
        {
          "output_type": "execute_result",
          "data": {
            "text/html": [
              "<div>\n",
              "<style scoped>\n",
              "    .dataframe tbody tr th:only-of-type {\n",
              "        vertical-align: middle;\n",
              "    }\n",
              "\n",
              "    .dataframe tbody tr th {\n",
              "        vertical-align: top;\n",
              "    }\n",
              "\n",
              "    .dataframe thead th {\n",
              "        text-align: right;\n",
              "    }\n",
              "</style>\n",
              "<table border=\"1\" class=\"dataframe\">\n",
              "  <thead>\n",
              "    <tr style=\"text-align: right;\">\n",
              "      <th></th>\n",
              "      <th>0</th>\n",
              "      <th>1</th>\n",
              "      <th>2</th>\n",
              "      <th>3</th>\n",
              "      <th>4</th>\n",
              "      <th>5</th>\n",
              "      <th>6</th>\n",
              "      <th>7</th>\n",
              "      <th>8</th>\n",
              "      <th>9</th>\n",
              "      <th>10</th>\n",
              "      <th>11</th>\n",
              "      <th>12</th>\n",
              "      <th>13</th>\n",
              "      <th>14</th>\n",
              "      <th>15</th>\n",
              "      <th>16</th>\n",
              "      <th>17</th>\n",
              "      <th>18</th>\n",
              "      <th>19</th>\n",
              "      <th>20</th>\n",
              "      <th>21</th>\n",
              "      <th>22</th>\n",
              "      <th>23</th>\n",
              "      <th>24</th>\n",
              "      <th>25</th>\n",
              "      <th>26</th>\n",
              "      <th>27</th>\n",
              "      <th>28</th>\n",
              "      <th>29</th>\n",
              "      <th>30</th>\n",
              "      <th>31</th>\n",
              "      <th>32</th>\n",
              "      <th>33</th>\n",
              "      <th>34</th>\n",
              "      <th>35</th>\n",
              "      <th>36</th>\n",
              "      <th>37</th>\n",
              "      <th>38</th>\n",
              "      <th>39</th>\n",
              "      <th>40</th>\n",
              "      <th>41</th>\n",
              "      <th>42</th>\n",
              "      <th>43</th>\n",
              "      <th>44</th>\n",
              "      <th>45</th>\n",
              "      <th>46</th>\n",
              "    </tr>\n",
              "  </thead>\n",
              "  <tbody>\n",
              "    <tr>\n",
              "      <th>0</th>\n",
              "      <td>-1.058339</td>\n",
              "      <td>21.557356</td>\n",
              "      <td>138.05847</td>\n",
              "      <td>14.475603</td>\n",
              "      <td>19.548351</td>\n",
              "      <td>7.791330</td>\n",
              "      <td>12.999234</td>\n",
              "      <td>9.100426</td>\n",
              "      <td>21.600418</td>\n",
              "      <td>9.719721</td>\n",
              "      <td>14.447177</td>\n",
              "      <td>5.627788</td>\n",
              "      <td>-2.575959</td>\n",
              "      <td>4.427872</td>\n",
              "      <td>18.317266</td>\n",
              "      <td>6.451638</td>\n",
              "      <td>10.959105</td>\n",
              "      <td>5.390676</td>\n",
              "      <td>-1.539624</td>\n",
              "      <td>6.407919</td>\n",
              "      <td>12.047143</td>\n",
              "      <td>4.549982</td>\n",
              "      <td>5.993327</td>\n",
              "      <td>4.566259</td>\n",
              "      <td>-0.212231</td>\n",
              "      <td>4.507074</td>\n",
              "      <td>8.500896</td>\n",
              "      <td>3.945682</td>\n",
              "      <td>2.442563</td>\n",
              "      <td>4.589476</td>\n",
              "      <td>4.401461</td>\n",
              "      <td>4.109094</td>\n",
              "      <td>3.373851</td>\n",
              "      <td>4.082730</td>\n",
              "      <td>11.001641</td>\n",
              "      <td>3.895880</td>\n",
              "      <td>-1.535144</td>\n",
              "      <td>4.202840</td>\n",
              "      <td>6.301800</td>\n",
              "      <td>3.566015</td>\n",
              "      <td>2786.5007</td>\n",
              "      <td>590.77673</td>\n",
              "      <td>0.001828</td>\n",
              "      <td>0.001382</td>\n",
              "      <td>0.813294</td>\n",
              "      <td>0</td>\n",
              "      <td>1</td>\n",
              "    </tr>\n",
              "    <tr>\n",
              "      <th>1</th>\n",
              "      <td>4.396373</td>\n",
              "      <td>21.423197</td>\n",
              "      <td>148.47241</td>\n",
              "      <td>15.754003</td>\n",
              "      <td>11.277305</td>\n",
              "      <td>9.872526</td>\n",
              "      <td>14.373900</td>\n",
              "      <td>7.776297</td>\n",
              "      <td>18.653526</td>\n",
              "      <td>7.554829</td>\n",
              "      <td>14.697559</td>\n",
              "      <td>5.129134</td>\n",
              "      <td>-6.335751</td>\n",
              "      <td>3.800787</td>\n",
              "      <td>14.953893</td>\n",
              "      <td>5.399337</td>\n",
              "      <td>4.685978</td>\n",
              "      <td>5.803996</td>\n",
              "      <td>-1.906804</td>\n",
              "      <td>5.615131</td>\n",
              "      <td>8.910424</td>\n",
              "      <td>4.739264</td>\n",
              "      <td>7.499866</td>\n",
              "      <td>4.471133</td>\n",
              "      <td>-0.237318</td>\n",
              "      <td>4.829782</td>\n",
              "      <td>8.624371</td>\n",
              "      <td>5.136345</td>\n",
              "      <td>2.421678</td>\n",
              "      <td>4.173443</td>\n",
              "      <td>5.396713</td>\n",
              "      <td>4.762895</td>\n",
              "      <td>4.861248</td>\n",
              "      <td>4.534096</td>\n",
              "      <td>9.062895</td>\n",
              "      <td>4.334170</td>\n",
              "      <td>-0.178703</td>\n",
              "      <td>4.084477</td>\n",
              "      <td>4.844233</td>\n",
              "      <td>3.843358</td>\n",
              "      <td>2555.3958</td>\n",
              "      <td>621.96936</td>\n",
              "      <td>0.002324</td>\n",
              "      <td>0.002302</td>\n",
              "      <td>0.684736</td>\n",
              "      <td>0</td>\n",
              "      <td>1</td>\n",
              "    </tr>\n",
              "    <tr>\n",
              "      <th>2</th>\n",
              "      <td>4.039622</td>\n",
              "      <td>17.797888</td>\n",
              "      <td>144.21483</td>\n",
              "      <td>17.299505</td>\n",
              "      <td>13.237467</td>\n",
              "      <td>10.163706</td>\n",
              "      <td>15.597115</td>\n",
              "      <td>8.671988</td>\n",
              "      <td>19.921995</td>\n",
              "      <td>7.423457</td>\n",
              "      <td>13.089581</td>\n",
              "      <td>6.040814</td>\n",
              "      <td>-7.515615</td>\n",
              "      <td>5.406296</td>\n",
              "      <td>18.674110</td>\n",
              "      <td>5.412951</td>\n",
              "      <td>6.736072</td>\n",
              "      <td>5.542896</td>\n",
              "      <td>-1.387348</td>\n",
              "      <td>4.790850</td>\n",
              "      <td>7.602405</td>\n",
              "      <td>5.642788</td>\n",
              "      <td>6.957246</td>\n",
              "      <td>5.658208</td>\n",
              "      <td>1.752044</td>\n",
              "      <td>4.009927</td>\n",
              "      <td>9.399924</td>\n",
              "      <td>4.410964</td>\n",
              "      <td>1.891177</td>\n",
              "      <td>4.591253</td>\n",
              "      <td>4.972094</td>\n",
              "      <td>3.710776</td>\n",
              "      <td>5.068874</td>\n",
              "      <td>4.100614</td>\n",
              "      <td>10.316883</td>\n",
              "      <td>4.004157</td>\n",
              "      <td>-0.827074</td>\n",
              "      <td>4.968072</td>\n",
              "      <td>4.236340</td>\n",
              "      <td>3.949600</td>\n",
              "      <td>2636.4204</td>\n",
              "      <td>608.40326</td>\n",
              "      <td>0.002042</td>\n",
              "      <td>0.001426</td>\n",
              "      <td>0.635067</td>\n",
              "      <td>0</td>\n",
              "      <td>1</td>\n",
              "    </tr>\n",
              "    <tr>\n",
              "      <th>3</th>\n",
              "      <td>-2.971225</td>\n",
              "      <td>10.324732</td>\n",
              "      <td>136.45264</td>\n",
              "      <td>18.312479</td>\n",
              "      <td>14.551553</td>\n",
              "      <td>11.336503</td>\n",
              "      <td>22.049950</td>\n",
              "      <td>8.914151</td>\n",
              "      <td>22.695292</td>\n",
              "      <td>8.642087</td>\n",
              "      <td>15.597689</td>\n",
              "      <td>7.342446</td>\n",
              "      <td>-4.216103</td>\n",
              "      <td>4.297370</td>\n",
              "      <td>15.508611</td>\n",
              "      <td>6.215239</td>\n",
              "      <td>8.329009</td>\n",
              "      <td>5.826522</td>\n",
              "      <td>0.360900</td>\n",
              "      <td>4.906341</td>\n",
              "      <td>5.219678</td>\n",
              "      <td>3.892498</td>\n",
              "      <td>5.428922</td>\n",
              "      <td>4.253340</td>\n",
              "      <td>-0.139352</td>\n",
              "      <td>5.321892</td>\n",
              "      <td>6.066510</td>\n",
              "      <td>5.048954</td>\n",
              "      <td>1.498638</td>\n",
              "      <td>5.300146</td>\n",
              "      <td>4.920936</td>\n",
              "      <td>4.376864</td>\n",
              "      <td>3.972958</td>\n",
              "      <td>3.853206</td>\n",
              "      <td>9.161014</td>\n",
              "      <td>3.760955</td>\n",
              "      <td>0.987634</td>\n",
              "      <td>3.306040</td>\n",
              "      <td>6.310652</td>\n",
              "      <td>4.094116</td>\n",
              "      <td>2856.5603</td>\n",
              "      <td>680.52310</td>\n",
              "      <td>0.002604</td>\n",
              "      <td>0.002187</td>\n",
              "      <td>1.075849</td>\n",
              "      <td>0</td>\n",
              "      <td>1</td>\n",
              "    </tr>\n",
              "    <tr>\n",
              "      <th>4</th>\n",
              "      <td>5.139622</td>\n",
              "      <td>14.154994</td>\n",
              "      <td>134.69928</td>\n",
              "      <td>16.620556</td>\n",
              "      <td>10.759510</td>\n",
              "      <td>10.910083</td>\n",
              "      <td>23.602348</td>\n",
              "      <td>11.977859</td>\n",
              "      <td>23.361319</td>\n",
              "      <td>11.256820</td>\n",
              "      <td>12.558866</td>\n",
              "      <td>6.413006</td>\n",
              "      <td>-5.102273</td>\n",
              "      <td>5.260015</td>\n",
              "      <td>14.652709</td>\n",
              "      <td>5.483495</td>\n",
              "      <td>8.625391</td>\n",
              "      <td>5.006371</td>\n",
              "      <td>-3.409853</td>\n",
              "      <td>6.349032</td>\n",
              "      <td>4.758740</td>\n",
              "      <td>4.915403</td>\n",
              "      <td>5.702315</td>\n",
              "      <td>4.877898</td>\n",
              "      <td>-1.291014</td>\n",
              "      <td>3.864297</td>\n",
              "      <td>7.296906</td>\n",
              "      <td>4.181767</td>\n",
              "      <td>4.482390</td>\n",
              "      <td>4.547701</td>\n",
              "      <td>1.890542</td>\n",
              "      <td>5.516852</td>\n",
              "      <td>4.352310</td>\n",
              "      <td>4.544364</td>\n",
              "      <td>8.832763</td>\n",
              "      <td>4.427038</td>\n",
              "      <td>-1.444807</td>\n",
              "      <td>4.540398</td>\n",
              "      <td>3.481488</td>\n",
              "      <td>5.612529</td>\n",
              "      <td>2981.6785</td>\n",
              "      <td>588.44150</td>\n",
              "      <td>0.003398</td>\n",
              "      <td>0.002189</td>\n",
              "      <td>0.628136</td>\n",
              "      <td>0</td>\n",
              "      <td>1</td>\n",
              "    </tr>\n",
              "  </tbody>\n",
              "</table>\n",
              "</div>"
            ],
            "text/plain": [
              "          0          1          2          3  ...        43        44  45  46\n",
              "0 -1.058339  21.557356  138.05847  14.475603  ...  0.001382  0.813294   0   1\n",
              "1  4.396373  21.423197  148.47241  15.754003  ...  0.002302  0.684736   0   1\n",
              "2  4.039622  17.797888  144.21483  17.299505  ...  0.001426  0.635067   0   1\n",
              "3 -2.971225  10.324732  136.45264  18.312479  ...  0.002187  1.075849   0   1\n",
              "4  5.139622  14.154994  134.69928  16.620556  ...  0.002189  0.628136   0   1\n",
              "\n",
              "[5 rows x 47 columns]"
            ]
          },
          "metadata": {
            "tags": []
          },
          "execution_count": 14
        },
        {
          "output_type": "stream",
          "text": [
            "time: 79.1 ms\n"
          ],
          "name": "stdout"
        }
      ]
    },
    {
      "cell_type": "markdown",
      "metadata": {
        "id": "iRanrNkP9tYR",
        "colab_type": "text"
      },
      "source": [
        "Reduzi para as features mais importantes (tirei stds)"
      ]
    },
    {
      "cell_type": "code",
      "metadata": {
        "id": "3_E8e8CRCgkA",
        "colab_type": "code",
        "outputId": "4b08cecb-0d46-4fa1-d781-9025fd39a40d",
        "colab": {
          "base_uri": "https://localhost:8080/",
          "height": 36
        }
      },
      "source": [
        "def reduce_features(df):\n",
        "    cols= df.columns\n",
        "    #print(cols)\n",
        "    without_std = [x for i, x in enumerate(cols[:40]) if (i % 2) == 0]\n",
        "    cols = [*without_std, *cols[40:47]] \n",
        "    newdf = df[cols]\n",
        "    #print(len(cols))\n",
        "    new_cols = np.arange(len(cols))\n",
        "    newdf.rename(columns=dict(zip(newdf.columns,new_cols)), inplace=True)\n",
        "    return newdf\n"
      ],
      "execution_count": 15,
      "outputs": [
        {
          "output_type": "stream",
          "text": [
            "time: 4.47 ms\n"
          ],
          "name": "stdout"
        }
      ]
    },
    {
      "cell_type": "code",
      "metadata": {
        "id": "-ljEL2c03yAj",
        "colab_type": "code",
        "outputId": "06127b9a-e1ca-492e-e672-c0623291559a",
        "colab": {
          "base_uri": "https://localhost:8080/",
          "height": 245
        }
      },
      "source": [
        "reduced_df = df\n",
        "#reduced_df = reduce_features(df)\n",
        "reduced_df.head()"
      ],
      "execution_count": 16,
      "outputs": [
        {
          "output_type": "execute_result",
          "data": {
            "text/html": [
              "<div>\n",
              "<style scoped>\n",
              "    .dataframe tbody tr th:only-of-type {\n",
              "        vertical-align: middle;\n",
              "    }\n",
              "\n",
              "    .dataframe tbody tr th {\n",
              "        vertical-align: top;\n",
              "    }\n",
              "\n",
              "    .dataframe thead th {\n",
              "        text-align: right;\n",
              "    }\n",
              "</style>\n",
              "<table border=\"1\" class=\"dataframe\">\n",
              "  <thead>\n",
              "    <tr style=\"text-align: right;\">\n",
              "      <th></th>\n",
              "      <th>0</th>\n",
              "      <th>1</th>\n",
              "      <th>2</th>\n",
              "      <th>3</th>\n",
              "      <th>4</th>\n",
              "      <th>5</th>\n",
              "      <th>6</th>\n",
              "      <th>7</th>\n",
              "      <th>8</th>\n",
              "      <th>9</th>\n",
              "      <th>10</th>\n",
              "      <th>11</th>\n",
              "      <th>12</th>\n",
              "      <th>13</th>\n",
              "      <th>14</th>\n",
              "      <th>15</th>\n",
              "      <th>16</th>\n",
              "      <th>17</th>\n",
              "      <th>18</th>\n",
              "      <th>19</th>\n",
              "      <th>20</th>\n",
              "      <th>21</th>\n",
              "      <th>22</th>\n",
              "      <th>23</th>\n",
              "      <th>24</th>\n",
              "      <th>25</th>\n",
              "      <th>26</th>\n",
              "      <th>27</th>\n",
              "      <th>28</th>\n",
              "      <th>29</th>\n",
              "      <th>30</th>\n",
              "      <th>31</th>\n",
              "      <th>32</th>\n",
              "      <th>33</th>\n",
              "      <th>34</th>\n",
              "      <th>35</th>\n",
              "      <th>36</th>\n",
              "      <th>37</th>\n",
              "      <th>38</th>\n",
              "      <th>39</th>\n",
              "      <th>40</th>\n",
              "      <th>41</th>\n",
              "      <th>42</th>\n",
              "      <th>43</th>\n",
              "      <th>44</th>\n",
              "      <th>45</th>\n",
              "      <th>46</th>\n",
              "    </tr>\n",
              "  </thead>\n",
              "  <tbody>\n",
              "    <tr>\n",
              "      <th>0</th>\n",
              "      <td>-1.058339</td>\n",
              "      <td>21.557356</td>\n",
              "      <td>138.05847</td>\n",
              "      <td>14.475603</td>\n",
              "      <td>19.548351</td>\n",
              "      <td>7.791330</td>\n",
              "      <td>12.999234</td>\n",
              "      <td>9.100426</td>\n",
              "      <td>21.600418</td>\n",
              "      <td>9.719721</td>\n",
              "      <td>14.447177</td>\n",
              "      <td>5.627788</td>\n",
              "      <td>-2.575959</td>\n",
              "      <td>4.427872</td>\n",
              "      <td>18.317266</td>\n",
              "      <td>6.451638</td>\n",
              "      <td>10.959105</td>\n",
              "      <td>5.390676</td>\n",
              "      <td>-1.539624</td>\n",
              "      <td>6.407919</td>\n",
              "      <td>12.047143</td>\n",
              "      <td>4.549982</td>\n",
              "      <td>5.993327</td>\n",
              "      <td>4.566259</td>\n",
              "      <td>-0.212231</td>\n",
              "      <td>4.507074</td>\n",
              "      <td>8.500896</td>\n",
              "      <td>3.945682</td>\n",
              "      <td>2.442563</td>\n",
              "      <td>4.589476</td>\n",
              "      <td>4.401461</td>\n",
              "      <td>4.109094</td>\n",
              "      <td>3.373851</td>\n",
              "      <td>4.082730</td>\n",
              "      <td>11.001641</td>\n",
              "      <td>3.895880</td>\n",
              "      <td>-1.535144</td>\n",
              "      <td>4.202840</td>\n",
              "      <td>6.301800</td>\n",
              "      <td>3.566015</td>\n",
              "      <td>2786.5007</td>\n",
              "      <td>590.77673</td>\n",
              "      <td>0.001828</td>\n",
              "      <td>0.001382</td>\n",
              "      <td>0.813294</td>\n",
              "      <td>0</td>\n",
              "      <td>1</td>\n",
              "    </tr>\n",
              "    <tr>\n",
              "      <th>1</th>\n",
              "      <td>4.396373</td>\n",
              "      <td>21.423197</td>\n",
              "      <td>148.47241</td>\n",
              "      <td>15.754003</td>\n",
              "      <td>11.277305</td>\n",
              "      <td>9.872526</td>\n",
              "      <td>14.373900</td>\n",
              "      <td>7.776297</td>\n",
              "      <td>18.653526</td>\n",
              "      <td>7.554829</td>\n",
              "      <td>14.697559</td>\n",
              "      <td>5.129134</td>\n",
              "      <td>-6.335751</td>\n",
              "      <td>3.800787</td>\n",
              "      <td>14.953893</td>\n",
              "      <td>5.399337</td>\n",
              "      <td>4.685978</td>\n",
              "      <td>5.803996</td>\n",
              "      <td>-1.906804</td>\n",
              "      <td>5.615131</td>\n",
              "      <td>8.910424</td>\n",
              "      <td>4.739264</td>\n",
              "      <td>7.499866</td>\n",
              "      <td>4.471133</td>\n",
              "      <td>-0.237318</td>\n",
              "      <td>4.829782</td>\n",
              "      <td>8.624371</td>\n",
              "      <td>5.136345</td>\n",
              "      <td>2.421678</td>\n",
              "      <td>4.173443</td>\n",
              "      <td>5.396713</td>\n",
              "      <td>4.762895</td>\n",
              "      <td>4.861248</td>\n",
              "      <td>4.534096</td>\n",
              "      <td>9.062895</td>\n",
              "      <td>4.334170</td>\n",
              "      <td>-0.178703</td>\n",
              "      <td>4.084477</td>\n",
              "      <td>4.844233</td>\n",
              "      <td>3.843358</td>\n",
              "      <td>2555.3958</td>\n",
              "      <td>621.96936</td>\n",
              "      <td>0.002324</td>\n",
              "      <td>0.002302</td>\n",
              "      <td>0.684736</td>\n",
              "      <td>0</td>\n",
              "      <td>1</td>\n",
              "    </tr>\n",
              "    <tr>\n",
              "      <th>2</th>\n",
              "      <td>4.039622</td>\n",
              "      <td>17.797888</td>\n",
              "      <td>144.21483</td>\n",
              "      <td>17.299505</td>\n",
              "      <td>13.237467</td>\n",
              "      <td>10.163706</td>\n",
              "      <td>15.597115</td>\n",
              "      <td>8.671988</td>\n",
              "      <td>19.921995</td>\n",
              "      <td>7.423457</td>\n",
              "      <td>13.089581</td>\n",
              "      <td>6.040814</td>\n",
              "      <td>-7.515615</td>\n",
              "      <td>5.406296</td>\n",
              "      <td>18.674110</td>\n",
              "      <td>5.412951</td>\n",
              "      <td>6.736072</td>\n",
              "      <td>5.542896</td>\n",
              "      <td>-1.387348</td>\n",
              "      <td>4.790850</td>\n",
              "      <td>7.602405</td>\n",
              "      <td>5.642788</td>\n",
              "      <td>6.957246</td>\n",
              "      <td>5.658208</td>\n",
              "      <td>1.752044</td>\n",
              "      <td>4.009927</td>\n",
              "      <td>9.399924</td>\n",
              "      <td>4.410964</td>\n",
              "      <td>1.891177</td>\n",
              "      <td>4.591253</td>\n",
              "      <td>4.972094</td>\n",
              "      <td>3.710776</td>\n",
              "      <td>5.068874</td>\n",
              "      <td>4.100614</td>\n",
              "      <td>10.316883</td>\n",
              "      <td>4.004157</td>\n",
              "      <td>-0.827074</td>\n",
              "      <td>4.968072</td>\n",
              "      <td>4.236340</td>\n",
              "      <td>3.949600</td>\n",
              "      <td>2636.4204</td>\n",
              "      <td>608.40326</td>\n",
              "      <td>0.002042</td>\n",
              "      <td>0.001426</td>\n",
              "      <td>0.635067</td>\n",
              "      <td>0</td>\n",
              "      <td>1</td>\n",
              "    </tr>\n",
              "    <tr>\n",
              "      <th>3</th>\n",
              "      <td>-2.971225</td>\n",
              "      <td>10.324732</td>\n",
              "      <td>136.45264</td>\n",
              "      <td>18.312479</td>\n",
              "      <td>14.551553</td>\n",
              "      <td>11.336503</td>\n",
              "      <td>22.049950</td>\n",
              "      <td>8.914151</td>\n",
              "      <td>22.695292</td>\n",
              "      <td>8.642087</td>\n",
              "      <td>15.597689</td>\n",
              "      <td>7.342446</td>\n",
              "      <td>-4.216103</td>\n",
              "      <td>4.297370</td>\n",
              "      <td>15.508611</td>\n",
              "      <td>6.215239</td>\n",
              "      <td>8.329009</td>\n",
              "      <td>5.826522</td>\n",
              "      <td>0.360900</td>\n",
              "      <td>4.906341</td>\n",
              "      <td>5.219678</td>\n",
              "      <td>3.892498</td>\n",
              "      <td>5.428922</td>\n",
              "      <td>4.253340</td>\n",
              "      <td>-0.139352</td>\n",
              "      <td>5.321892</td>\n",
              "      <td>6.066510</td>\n",
              "      <td>5.048954</td>\n",
              "      <td>1.498638</td>\n",
              "      <td>5.300146</td>\n",
              "      <td>4.920936</td>\n",
              "      <td>4.376864</td>\n",
              "      <td>3.972958</td>\n",
              "      <td>3.853206</td>\n",
              "      <td>9.161014</td>\n",
              "      <td>3.760955</td>\n",
              "      <td>0.987634</td>\n",
              "      <td>3.306040</td>\n",
              "      <td>6.310652</td>\n",
              "      <td>4.094116</td>\n",
              "      <td>2856.5603</td>\n",
              "      <td>680.52310</td>\n",
              "      <td>0.002604</td>\n",
              "      <td>0.002187</td>\n",
              "      <td>1.075849</td>\n",
              "      <td>0</td>\n",
              "      <td>1</td>\n",
              "    </tr>\n",
              "    <tr>\n",
              "      <th>4</th>\n",
              "      <td>5.139622</td>\n",
              "      <td>14.154994</td>\n",
              "      <td>134.69928</td>\n",
              "      <td>16.620556</td>\n",
              "      <td>10.759510</td>\n",
              "      <td>10.910083</td>\n",
              "      <td>23.602348</td>\n",
              "      <td>11.977859</td>\n",
              "      <td>23.361319</td>\n",
              "      <td>11.256820</td>\n",
              "      <td>12.558866</td>\n",
              "      <td>6.413006</td>\n",
              "      <td>-5.102273</td>\n",
              "      <td>5.260015</td>\n",
              "      <td>14.652709</td>\n",
              "      <td>5.483495</td>\n",
              "      <td>8.625391</td>\n",
              "      <td>5.006371</td>\n",
              "      <td>-3.409853</td>\n",
              "      <td>6.349032</td>\n",
              "      <td>4.758740</td>\n",
              "      <td>4.915403</td>\n",
              "      <td>5.702315</td>\n",
              "      <td>4.877898</td>\n",
              "      <td>-1.291014</td>\n",
              "      <td>3.864297</td>\n",
              "      <td>7.296906</td>\n",
              "      <td>4.181767</td>\n",
              "      <td>4.482390</td>\n",
              "      <td>4.547701</td>\n",
              "      <td>1.890542</td>\n",
              "      <td>5.516852</td>\n",
              "      <td>4.352310</td>\n",
              "      <td>4.544364</td>\n",
              "      <td>8.832763</td>\n",
              "      <td>4.427038</td>\n",
              "      <td>-1.444807</td>\n",
              "      <td>4.540398</td>\n",
              "      <td>3.481488</td>\n",
              "      <td>5.612529</td>\n",
              "      <td>2981.6785</td>\n",
              "      <td>588.44150</td>\n",
              "      <td>0.003398</td>\n",
              "      <td>0.002189</td>\n",
              "      <td>0.628136</td>\n",
              "      <td>0</td>\n",
              "      <td>1</td>\n",
              "    </tr>\n",
              "  </tbody>\n",
              "</table>\n",
              "</div>"
            ],
            "text/plain": [
              "          0          1          2          3  ...        43        44  45  46\n",
              "0 -1.058339  21.557356  138.05847  14.475603  ...  0.001382  0.813294   0   1\n",
              "1  4.396373  21.423197  148.47241  15.754003  ...  0.002302  0.684736   0   1\n",
              "2  4.039622  17.797888  144.21483  17.299505  ...  0.001426  0.635067   0   1\n",
              "3 -2.971225  10.324732  136.45264  18.312479  ...  0.002187  1.075849   0   1\n",
              "4  5.139622  14.154994  134.69928  16.620556  ...  0.002189  0.628136   0   1\n",
              "\n",
              "[5 rows x 47 columns]"
            ]
          },
          "metadata": {
            "tags": []
          },
          "execution_count": 16
        },
        {
          "output_type": "stream",
          "text": [
            "time: 79.2 ms\n"
          ],
          "name": "stdout"
        }
      ]
    },
    {
      "cell_type": "code",
      "metadata": {
        "id": "MOrQ8ePwuvro",
        "colab_type": "code",
        "colab": {}
      },
      "source": [
        "reduced_df.drop"
      ],
      "execution_count": 0,
      "outputs": []
    },
    {
      "cell_type": "code",
      "metadata": {
        "id": "64WFbZOBs76l",
        "colab_type": "code",
        "colab": {
          "base_uri": "https://localhost:8080/",
          "height": 36
        },
        "outputId": "bace0413-ebfb-454f-bdff-dc3a61e2d5d5"
      },
      "source": [
        "reduced_df = reduced_df.loc[reduced_df['45'] != 2]\n"
      ],
      "execution_count": 17,
      "outputs": [
        {
          "output_type": "stream",
          "text": [
            "time: 26.8 ms\n"
          ],
          "name": "stdout"
        }
      ]
    },
    {
      "cell_type": "markdown",
      "metadata": {
        "id": "1OFRH-tEdkEQ",
        "colab_type": "text"
      },
      "source": [
        "DF: Descrição\n",
        "\n",
        "    features\n",
        "*   0-19: MFCSS (media)\n",
        "*   20: média centroide \n",
        "*   21: std centroide\n",
        "*   22: media flatness\n",
        "*   23: std flatness\n",
        "*   24: rms\n",
        "\n",
        "        outros\n",
        "*   25: LABEL\n",
        "*   26: Music_id\n",
        "\n",
        "\n",
        "\n",
        "\n"
      ]
    },
    {
      "cell_type": "code",
      "metadata": {
        "id": "b7yrSNVe1tc4",
        "colab_type": "code",
        "outputId": "7be3eb95-e42e-47ec-ca8a-b99c2305b9fb",
        "colab": {
          "base_uri": "https://localhost:8080/",
          "height": 93
        }
      },
      "source": [
        "from sklearn.model_selection import GroupShuffleSplit\n",
        "from sklearn.preprocessing import StandardScaler\n",
        "from sklearn.neighbors import KNeighborsClassifier\n",
        "from sklearn import metrics\n",
        "import pickle\n",
        "from collections import Counter\n",
        "from sklearn.decomposition import PCA\n",
        "import seaborn as sns"
      ],
      "execution_count": 18,
      "outputs": [
        {
          "output_type": "stream",
          "text": [
            "time: 34.6 ms\n"
          ],
          "name": "stdout"
        },
        {
          "output_type": "stream",
          "text": [
            "/usr/local/lib/python3.6/dist-packages/statsmodels/tools/_testing.py:19: FutureWarning: pandas.util.testing is deprecated. Use the functions in the public API at pandas.testing instead.\n",
            "  import pandas.util.testing as tm\n"
          ],
          "name": "stderr"
        }
      ]
    },
    {
      "cell_type": "markdown",
      "metadata": {
        "id": "3ya_9cIj-I0x",
        "colab_type": "text"
      },
      "source": [
        "Split no dataframe baseado em grupos do número da música"
      ]
    },
    {
      "cell_type": "code",
      "metadata": {
        "id": "D82SnW0XxcAQ",
        "colab_type": "code",
        "outputId": "77b1f796-5432-4774-953f-d66bd694f20c",
        "colab": {
          "base_uri": "https://localhost:8080/",
          "height": 36
        }
      },
      "source": [
        "def split_by_music_id(df):\n",
        "    last_col = len(df.columns) - 1\n",
        "    train_inds, test_inds = next(GroupShuffleSplit(test_size=.20, n_splits=2, random_state = 2).split(df, groups=df.iloc[:,last_col].values))\n",
        "    return [train_inds, test_inds]"
      ],
      "execution_count": 19,
      "outputs": [
        {
          "output_type": "stream",
          "text": [
            "time: 2.29 ms\n"
          ],
          "name": "stdout"
        }
      ]
    },
    {
      "cell_type": "markdown",
      "metadata": {
        "id": "jO9K4pcEvFVk",
        "colab_type": "text"
      },
      "source": [
        "Split no dataframe selecionado, em teste e treino"
      ]
    },
    {
      "cell_type": "code",
      "metadata": {
        "id": "HhFtUoQv3BoH",
        "colab_type": "code",
        "outputId": "8c206d2d-4fcf-4fb5-b7cd-02ce8cdb5731",
        "colab": {
          "base_uri": "https://localhost:8080/",
          "height": 36
        }
      },
      "source": [
        "def split_train_test(df,train_inds, test_inds):\n",
        "    X_train = (df.iloc[train_inds, 0:-2])\n",
        "    X_test = (df.iloc[test_inds,0:-2])\n",
        "    y_train = (df.iloc[train_inds,[-2,-1]]).values\n",
        "    y_test = (df.iloc[test_inds,[-2,-1]]).values\n",
        "    #print(X_train.shape, X_test.shape, y_train.shape, y_test.shape)\n",
        "    return [X_train, X_test, y_train, y_test]"
      ],
      "execution_count": 20,
      "outputs": [
        {
          "output_type": "stream",
          "text": [
            "time: 5.35 ms\n"
          ],
          "name": "stdout"
        }
      ]
    },
    {
      "cell_type": "code",
      "metadata": {
        "id": "a6DUiZXyLoTG",
        "colab_type": "code",
        "outputId": "331e8b82-ac5e-4696-b464-1f75fe4fecda",
        "colab": {
          "base_uri": "https://localhost:8080/",
          "height": 36
        }
      },
      "source": [
        "def standardize(X_train, X_test):\n",
        "    scaler = StandardScaler()\n",
        "    scaler.fit(X_train.values)\n",
        "    X_train = scaler.transform(X_train.values)\n",
        "    X_test = scaler.transform(X_test.values)\n",
        "    return [X_train, X_test]"
      ],
      "execution_count": 21,
      "outputs": [
        {
          "output_type": "stream",
          "text": [
            "time: 2.75 ms\n"
          ],
          "name": "stdout"
        }
      ]
    },
    {
      "cell_type": "markdown",
      "metadata": {
        "id": "0U0XQuSjPmCB",
        "colab_type": "text"
      },
      "source": [
        "# Linear SVC Classifier"
      ]
    },
    {
      "cell_type": "code",
      "metadata": {
        "id": "oWw4aOINED0h",
        "colab_type": "code",
        "outputId": "aa5d2f4b-1fe3-4a11-be95-37d28c0f7633",
        "colab": {
          "base_uri": "https://localhost:8080/",
          "height": 93
        }
      },
      "source": [
        "from sklearn.svm import SVC\n",
        "from sklearn.metrics import confusion_matrix,classification_report, plot_confusion_matrix, accuracy_score, confusion_matrix\n",
        "from sklearn.model_selection import cross_val_score, GridSearchCV\n",
        "from sklearn.svm import LinearSVC\n",
        "from sklearn.externals import joblib"
      ],
      "execution_count": 22,
      "outputs": [
        {
          "output_type": "stream",
          "text": [
            "time: 4.62 ms\n"
          ],
          "name": "stdout"
        },
        {
          "output_type": "stream",
          "text": [
            "/usr/local/lib/python3.6/dist-packages/sklearn/externals/joblib/__init__.py:15: FutureWarning: sklearn.externals.joblib is deprecated in 0.21 and will be removed in 0.23. Please import this functionality directly from joblib, which can be installed with: pip install joblib. If this warning is raised when loading pickled models, you may need to re-serialize those models with scikit-learn 0.21+.\n",
            "  warnings.warn(msg, category=FutureWarning)\n"
          ],
          "name": "stderr"
        }
      ]
    },
    {
      "cell_type": "code",
      "metadata": {
        "id": "jcjNVJNAAT7m",
        "colab_type": "code",
        "outputId": "a8cb7044-59f2-4fd3-ded3-eacdabedaa89",
        "colab": {
          "base_uri": "https://localhost:8080/",
          "height": 36
        }
      },
      "source": [
        "def get_model_linearSVC(X_train,y_train, y_test, X_test):\n",
        "    C = [0.001, 0.01, 0.1, 1, 10, 100]\n",
        "    for c in C:\n",
        "        LSVC = LinearSVC(C = c, dual=False)\n",
        "        LSVC.fit(X_train,y_train)\n",
        "        y_pred = LSVC.predict(X_test)\n",
        "        print(\"C: \", c)\n",
        "        print(\"LSVC Accuracy :\", accuracy_score(y_test, y_pred))\n",
        "    #filename = BASE_PATH + 'linearsvc_no_esp.pkl'\n",
        "    #joblib.dump(LSVC, filename,compress=9)\n",
        "    return LSVC, y_pred"
      ],
      "execution_count": 37,
      "outputs": [
        {
          "output_type": "stream",
          "text": [
            "time: 4.74 ms\n"
          ],
          "name": "stdout"
        }
      ]
    },
    {
      "cell_type": "markdown",
      "metadata": {
        "id": "jQAceUVb-qqG",
        "colab_type": "text"
      },
      "source": [
        "Contagem das predições para cada música"
      ]
    },
    {
      "cell_type": "code",
      "metadata": {
        "id": "TvoU3jjJuJV3",
        "colab_type": "code",
        "outputId": "562a0188-e450-42b8-d9a0-d06d24cbdc8b",
        "colab": {
          "base_uri": "https://localhost:8080/",
          "height": 36
        }
      },
      "source": [
        "def plot_cf(y_pred, y_test):\n",
        "    print(classification_report(y_test, y_pred))"
      ],
      "execution_count": 38,
      "outputs": [
        {
          "output_type": "stream",
          "text": [
            "time: 1.04 ms\n"
          ],
          "name": "stdout"
        }
      ]
    },
    {
      "cell_type": "code",
      "metadata": {
        "id": "cY0LI6g15kpW",
        "colab_type": "code",
        "outputId": "c964848b-ac34-467f-f5db-2edffe285554",
        "colab": {
          "base_uri": "https://localhost:8080/",
          "height": 36
        }
      },
      "source": [
        "def contagem_predicoes(y_test, y_pred):\n",
        "    counts = dict()\n",
        "    for id in np.unique(y_test[:,1]):\n",
        "        counts[id] = []\n",
        "    #print(counts)\n",
        "    for t, p in zip(y_test, y_pred):\n",
        "        counts[t[1]].append(p)\n",
        "    counter = [Counter(y) for x,y in counts.items()]\n",
        "    return counter\n",
        "\n",
        "def acc_votacao(counter, y_test):\n",
        "    #print(np.unique(y_test[1]))\n",
        "    #print(counter, y_test)\n",
        "    music_y_pred = [max(x, key=x.get) for x in counter]\n",
        "    #print(music_y_pred)\n",
        "    #music_y_test = [[x,y] for x,y in y_test]\n",
        "    #music_y_test = np.unique(music_y_test, axis=0)[:,0]\n",
        "    music_y_test = np.unique(y_test, axis=0)[:,0]\n",
        "    #print(music_y_test)\n",
        "    plot_cf(music_y_pred, music_y_test)\n",
        "    return metrics.accuracy_score(music_y_test,music_y_pred)"
      ],
      "execution_count": 39,
      "outputs": [
        {
          "output_type": "stream",
          "text": [
            "time: 10.4 ms\n"
          ],
          "name": "stdout"
        }
      ]
    },
    {
      "cell_type": "code",
      "metadata": {
        "id": "h1JGSISJOGJC",
        "colab_type": "code",
        "outputId": "f378d368-23e7-4358-c9c2-523badf07821",
        "colab": {
          "base_uri": "https://localhost:8080/",
          "height": 36
        }
      },
      "source": [
        "def pca(X_test, y_test):\n",
        "    pca = PCA(3)\n",
        "    trans_pca = pca.fit_transform(X_test)\n",
        "    trans_pca = pd.DataFrame(trans_pca)\n",
        "    trans_pca['Labels'] = y_test[:,0]\n",
        "    trans_pca[\"Labels\"] = [\"$%s$\" % x for x in trans_pca[\"Labels\"]]\n",
        "    print(pca.explained_variance_)\n",
        "    trans_pca.columns = ['PC1', 'PC2','PC3','Labels']\n",
        "    plt.figure(figsize=(10,6))\n",
        "    sns.scatterplot(x=trans_pca['PC1'], y=trans_pca['PC2'], hue=trans_pca['Labels'])"
      ],
      "execution_count": 40,
      "outputs": [
        {
          "output_type": "stream",
          "text": [
            "time: 4.42 ms\n"
          ],
          "name": "stdout"
        }
      ]
    },
    {
      "cell_type": "code",
      "metadata": {
        "id": "q0EsTBVtqGxz",
        "colab_type": "code",
        "outputId": "818faae2-3b83-45f5-eb49-de140405f25a",
        "colab": {
          "base_uri": "https://localhost:8080/",
          "height": 36
        }
      },
      "source": [
        "def classify(reduced_df):\n",
        "    train_inds, test_inds = split_by_music_id(reduced_df)\n",
        "    X_train, X_test, y_train, y_test = split_train_test(reduced_df,train_inds, test_inds) \n",
        "    X_train, X_test = standardize(X_train, X_test)\n",
        "    model, y_pred = get_model_linearSVC(X_train,y_train[:,0], y_test[:,0], X_test)\n",
        "    contagens = contagem_predicoes(y_test, y_pred)\n",
        "    final_accuracy = acc_votacao(contagens, y_test)\n",
        "    pca(X_test, y_test)\n",
        "    return final_accuracy"
      ],
      "execution_count": 41,
      "outputs": [
        {
          "output_type": "stream",
          "text": [
            "time: 4.01 ms\n"
          ],
          "name": "stdout"
        }
      ]
    },
    {
      "cell_type": "code",
      "metadata": {
        "id": "KVQPJn_Vs3w9",
        "colab_type": "code",
        "outputId": "eb54a4f7-d2a9-4813-8b23-f662ecf8480d",
        "colab": {
          "base_uri": "https://localhost:8080/",
          "height": 837
        }
      },
      "source": [
        "acc = classify(reduced_df)\n",
        "print(acc)"
      ],
      "execution_count": 42,
      "outputs": [
        {
          "output_type": "stream",
          "text": [
            "C:  0.001\n",
            "LSVC Accuracy : 0.7936634717784877\n",
            "C:  0.01\n",
            "LSVC Accuracy : 0.7939829605963791\n",
            "C:  0.1\n",
            "LSVC Accuracy : 0.7938764643237487\n",
            "C:  1\n",
            "LSVC Accuracy : 0.7938764643237487\n",
            "C:  10\n",
            "LSVC Accuracy : 0.7938764643237487\n",
            "C:  100\n",
            "LSVC Accuracy : 0.7938764643237487\n",
            "              precision    recall  f1-score   support\n",
            "\n",
            "           0       0.79      0.79      0.79       819\n",
            "           1       0.84      0.83      0.84      1059\n",
            "\n",
            "    accuracy                           0.82      1878\n",
            "   macro avg       0.81      0.81      0.81      1878\n",
            "weighted avg       0.82      0.82      0.82      1878\n",
            "\n",
            "[10.51356107  4.77080199  3.08805817]\n",
            "0.8162939297124601\n"
          ],
          "name": "stdout"
        },
        {
          "output_type": "display_data",
          "data": {
            "image/png": "[encoded data removed]",
            "text/plain": [
              "<Figure size 720x432 with 1 Axes>"
            ]
          },
          "metadata": {
            "tags": [],
            "needs_background": "light"
          }
        },
        {
          "output_type": "stream",
          "text": [
            "time: 7.18 s\n"
          ],
          "name": "stdout"
        }
      ]
    },
    {
      "cell_type": "markdown",
      "metadata": {
        "id": "CzuqbBdT9lXV",
        "colab_type": "text"
      },
      "source": [
        "Tamanho do modelo em KB"
      ]
    },
    {
      "cell_type": "code",
      "metadata": {
        "id": "f-0YEVYucJL3",
        "colab_type": "code",
        "outputId": "deb5414c-30ee-4c32-b7d7-4d01d3c02595",
        "colab": {
          "base_uri": "https://localhost:8080/",
          "height": 36
        }
      },
      "source": [
        "(os.path.getsize(BASE_PATH + 'linearsvc_no_esp.pkl')/1024)"
      ],
      "execution_count": 43,
      "outputs": [
        {
          "output_type": "execute_result",
          "data": {
            "text/plain": [
              "1.689453125"
            ]
          },
          "metadata": {
            "tags": []
          },
          "execution_count": 43
        },
        {
          "output_type": "stream",
          "text": [
            "time: 3.18 ms\n"
          ],
          "name": "stdout"
        }
      ]
    }
  ]
}