{
  "nbformat": 4,
  "nbformat_minor": 0,
  "metadata": {
    "colab": {
      "name": "DCASE 2020.ipynb",
      "provenance": [],
      "private_outputs": true,
      "collapsed_sections": [],
      "toc_visible": true
    },
    "kernelspec": {
      "name": "python3",
      "display_name": "Python 3"
    },
    "accelerator": "GPU"
  },
  "cells": [
    {
      "cell_type": "code",
      "metadata": {
        "id": "ptGENpqklOQv",
        "colab_type": "code",
        "colab": {}
      },
      "source": [
        "import matplotlib.pyplot as plt\n",
        "import numpy as np # linear algebra\n",
        "import pandas as pd\n",
        "import librosa\n",
        "import librosa.display\n",
        "import os\n",
        "from os import path\n",
        "import io"
      ],
      "execution_count": 0,
      "outputs": []
    },
    {
      "cell_type": "markdown",
      "metadata": {
        "id": "r7aioLqSfKgT",
        "colab_type": "text"
      },
      "source": [
        "# Opening datasets"
      ]
    },
    {
      "cell_type": "code",
      "metadata": {
        "id": "ENkpig6A8-sJ",
        "colab_type": "code",
        "colab": {}
      },
      "source": [
        "complete_sound_df = pd.read_csv('/content/drive/My Drive/DCASE/Datasets/file_label_dcase.csv')\n",
        "complete_sound_df = pd.read_csv(io.StringIO(complete_sound_df.to_csv(index=False)),index_col=0)\n",
        "complete_sound_df.head()"
      ],
      "execution_count": 0,
      "outputs": []
    },
    {
      "cell_type": "markdown",
      "metadata": {
        "id": "H4GBDBmTIF4P",
        "colab_type": "text"
      },
      "source": [
        "# Getting part of the dataset\n",
        "Não coloquei 10% dele, pois poderiam vir mais datasets de um label específico. E nem coloquei 10% de cada label, pois a quantidades de datasets dentro de cada label é diferente. Então defini n datasets de cada label."
      ]
    },
    {
      "cell_type": "code",
      "metadata": {
        "id": "Osz9xC4SL0MB",
        "colab_type": "code",
        "colab": {}
      },
      "source": [
        "df = complete_sound_df.groupby('label', as_index=False).apply(lambda x: x.sample(n = 1, random_state=42))\n",
        "df.index = [i[1] for i in df.index]\n",
        "df.head()"
      ],
      "execution_count": 0,
      "outputs": []
    },
    {
      "cell_type": "code",
      "metadata": {
        "id": "sCJ2fzdrMK4z",
        "colab_type": "code",
        "colab": {}
      },
      "source": [
        "print(df.loc[df['label'] == 'outdoor'].shape)\n",
        "print(df.loc[df['label'] == 'indoor'].shape)\n",
        "print(df.loc[df['label'] == 'transportation'].shape)"
      ],
      "execution_count": 0,
      "outputs": []
    },
    {
      "cell_type": "code",
      "metadata": {
        "id": "6F0lMoOqDkh-",
        "colab_type": "code",
        "colab": {}
      },
      "source": [
        "def get_datasets(urls, labels, indexes): \n",
        "    i = 1 \n",
        "    for url, label , i in zip(urls, labels, indexes): \n",
        "        label = label.capitalize() \n",
        "        dirname = \"/content/drive/My\\ Drive/DCASE/Datasets/\"f\"{label}\" \n",
        "        filename = dirname + '/dataset'f'{i}.zip' \n",
        "        #print(path.isfile('/content/drive/My Drive/DCASE/Datasets/{0}/dataset{1}.zip'.format(label, i))) \n",
        "        if not (path.isfile('/content/drive/My Drive/DCASE/Datasets/{0}/dataset{1}.zip'.format(label, i))): \n",
        "            !wget -O $filename $url\n",
        "            !unzip $filename -d $dirname\n",
        "            print('Im goind to download it') \n",
        "            continue \n",
        "        else: \n",
        "            print('This dataset already exists') \n",
        "        break\n",
        "        i += 1\n",
        "\n"
      ],
      "execution_count": 0,
      "outputs": []
    },
    {
      "cell_type": "code",
      "metadata": {
        "id": "0_GukYkRIisU",
        "colab_type": "code",
        "colab": {}
      },
      "source": [
        "get_datasets(df['file'], df['label'], df.index)"
      ],
      "execution_count": 0,
      "outputs": []
    },
    {
      "cell_type": "code",
      "metadata": {
        "id": "IG0UkGr8iKMM",
        "colab_type": "code",
        "colab": {}
      },
      "source": [
        "!unzip /content/drive/My\\ Drive/DCASE/Datasets/Outdoor/dataset7656.zip -d /content/drive/My\\ Drive/DCASE/Datasets/Outdoor/"
      ],
      "execution_count": 0,
      "outputs": []
    },
    {
      "cell_type": "code",
      "metadata": {
        "id": "MwC-8Wa9jEXS",
        "colab_type": "code",
        "colab": {}
      },
      "source": [
        "!ls /content/drive/My\\ Drive/DCASE/Datasets/Outdoor/"
      ],
      "execution_count": 0,
      "outputs": []
    },
    {
      "cell_type": "markdown",
      "metadata": {
        "id": "EBiTL-q4rx4m",
        "colab_type": "text"
      },
      "source": [
        "Reading the datasets and storing it to 'signals'"
      ]
    },
    {
      "cell_type": "code",
      "metadata": {
        "id": "ZKS6JH1JKx_q",
        "colab_type": "code",
        "colab": {}
      },
      "source": [
        "def import_signal(path):\n",
        "    s, sr = librosa.core.load(path, sr=48000)\n",
        "    return s"
      ],
      "execution_count": 0,
      "outputs": []
    },
    {
      "cell_type": "code",
      "metadata": {
        "id": "aS-Ks9WpNZu5",
        "colab_type": "code",
        "colab": {}
      },
      "source": [
        "labels = ['Indoor', 'Outdoor', 'Transportation']\n",
        "rotulos = []\n",
        "signals = []\n",
        "dic_signals = {x:[] for i, x in enumerate(labels)}\n",
        "for l in labels:\n",
        "    for dirname, _, filenames in os.walk('/content/drive/My Drive/DCASE/Datasets/{}/TAU-urban-acoustic-scenes-2020-3class-development/audio'.format(l)):\n",
        "        for filename in filenames:\n",
        "            index_label = [labels.index(item) for item in labels if item == l]\n",
        "            rotulos.append(index_label[0])\n",
        "            #dic_signals[l].append(index_label[0])\n",
        "            \n",
        "            signals.append(import_signal(os.path.join(dirname, filename)))\n",
        "\n",
        "\n"
      ],
      "execution_count": 0,
      "outputs": []
    },
    {
      "cell_type": "markdown",
      "metadata": {
        "id": "zCC0EbABtCfB",
        "colab_type": "text"
      },
      "source": [
        "Labels:\n",
        "\n",
        "\n",
        "0.   Indoor\n",
        "1.   Outdoor\n",
        "2.   Transportation\n",
        "\n"
      ]
    },
    {
      "cell_type": "markdown",
      "metadata": {
        "id": "4m6MGZqEtReT",
        "colab_type": "text"
      },
      "source": [
        "# Transformada de Fourier de Curto Termo\n",
        "\n",
        "\n",
        "\n",
        "hop_length : int > 0 [scalar] - Usamos 1024\n",
        "\n",
        "number of audio samples between adjacent STFT columns.\n",
        "\n"
      ]
    },
    {
      "cell_type": "code",
      "metadata": {
        "id": "5WfvosLTz0_t",
        "colab_type": "code",
        "colab": {}
      },
      "source": [
        "def stft(signal):\n",
        "    S, phase = librosa.magphase(np.abs(librosa.stft(signal, hop_length=1024)))\n",
        "    return S\n",
        "\n",
        "signals_stft = []\n",
        "for s in signals:\n",
        "    signals_stft.append(stft(s))\n",
        "\n",
        "signals_stft = np.asarray(signals_stft)\n",
        "signals_stft.shape"
      ],
      "execution_count": 0,
      "outputs": []
    },
    {
      "cell_type": "markdown",
      "metadata": {
        "id": "3eQS2FIKz-3Y",
        "colab_type": "text"
      },
      "source": [
        "# Getting Features\n",
        "\n",
        "1.   Centroid Mean\n",
        "2.   Centroid STD\n",
        "3.   Flatness Mean\n",
        "4.   Flatness STD\n"
      ]
    },
    {
      "cell_type": "code",
      "metadata": {
        "id": "Pm5iFAKX0Chn",
        "colab_type": "code",
        "colab": {}
      },
      "source": [
        "def get_features(signals_stft, rotulos):\n",
        "    def get_centroid(S):\n",
        "        return librosa.feature.spectral_centroid(S=S)\n",
        "    def get_flatness(S):\n",
        "        return librosa.feature.spectral_flatness(S=S)\n",
        "    def get_rms(s):\n",
        "        return librosa.feature.rms(s, hop_length=1024)\n",
        "\n",
        "    info = {'Centroid Mean':[], \n",
        "        'Centroid STD': [], \n",
        "        'Flatness Mean':[],\n",
        "        'Flatness STD':[],\n",
        "        'RMS':[],\n",
        "        'Target': []} \n",
        "\n",
        "    \n",
        "    for s, rotulo in zip(signals_stft, rotulos):\n",
        "      \n",
        "        info['Target'].append(rotulo)\n",
        "        \n",
        "        '''\n",
        "            Obtendo centroide, flatness e RMS\n",
        "        '''\n",
        "        c = get_centroid(s)\n",
        "        c = c[0]\n",
        "        info['Centroid Mean'].append(np.mean(c))\n",
        "        info['Centroid STD'].append(np.std(c))\n",
        "        \n",
        "        \n",
        "        f = get_flatness(s)\n",
        "        f = f[0]\n",
        "        info['Flatness Mean'].append(np.mean(f))\n",
        "        info['Flatness STD'].append(np.std(f))\n",
        "        \n",
        "        r = get_rms(s)\n",
        "        r = round(r[0][0],3)\n",
        "        info['RMS'].append(r)\n",
        "        \n",
        "        \n",
        "        \n",
        "    return pd.DataFrame(info)"
      ],
      "execution_count": 0,
      "outputs": []
    },
    {
      "cell_type": "code",
      "metadata": {
        "id": "1C4HGGUE0Fsx",
        "colab_type": "code",
        "colab": {}
      },
      "source": [
        "df = get_features(signals_stft, rotulos)\n",
        "df"
      ],
      "execution_count": 0,
      "outputs": []
    },
    {
      "cell_type": "code",
      "metadata": {
        "id": "tAjJ7sSEMowE",
        "colab_type": "code",
        "colab": {}
      },
      "source": [
        "from sklearn.preprocessing import StandardScaler"
      ],
      "execution_count": 0,
      "outputs": []
    },
    {
      "cell_type": "code",
      "metadata": {
        "id": "NNMn3pb1NmyJ",
        "colab_type": "code",
        "colab": {}
      },
      "source": [
        "scaler = StandardScaler()\n",
        "\n",
        "X,y = df.iloc[:,0:-1], df['Target'].values\n",
        "scaler.fit(X)\n",
        "X = scaler.transform(X)"
      ],
      "execution_count": 0,
      "outputs": []
    },
    {
      "cell_type": "code",
      "metadata": {
        "id": "cvXh-1GSNpqw",
        "colab_type": "code",
        "colab": {}
      },
      "source": [
        "# splitting the data into training and test sets (80:20)\n",
        "from sklearn.model_selection import train_test_split\n",
        "X_train, X_test, y_train, y_test = train_test_split(X, y, test_size=0.2, random_state=42)"
      ],
      "execution_count": 0,
      "outputs": []
    },
    {
      "cell_type": "code",
      "metadata": {
        "id": "LY70ZtEXNxAM",
        "colab_type": "code",
        "colab": {}
      },
      "source": [
        "from sklearn.neighbors import KNeighborsClassifier\n",
        "from sklearn import metrics"
      ],
      "execution_count": 0,
      "outputs": []
    },
    {
      "cell_type": "markdown",
      "metadata": {
        "id": "V8M6lD3EtV9m",
        "colab_type": "text"
      },
      "source": [
        "# Building a KNN Model"
      ]
    },
    {
      "cell_type": "code",
      "metadata": {
        "id": "ZfChOFvpN4G_",
        "colab_type": "code",
        "colab": {}
      },
      "source": [
        "def knn_classifier(X_train, X_test, y_train, k):\n",
        "    knn = KNeighborsClassifier(n_neighbors = k)\n",
        "    knn.fit(X_train,y_train)\n",
        "    y_pred = knn.predict(X_test)\n",
        "    return [y_pred, metrics.accuracy_score(y_test,y_pred)]\n",
        "\n",
        "def get_k_accuracy(X_train, X_test, y_train, y_test): \n",
        "\n",
        "    def plot_scores(x,y):\n",
        "        fig, a = plt.subplots(1, figsize = (10, 8))\n",
        "        title = \"Accuracy Score by K values\"\n",
        "        plt.title(title)\n",
        "        plt.xlabel('Value of K for KNN')\n",
        "        plt.ylabel('Testing Accuracy')\n",
        "        a.plot(x, y)\n",
        "\n",
        "    k_range = range(1,31)\n",
        "    scores = {}\n",
        "    scores_list = []\n",
        "\n",
        "    for k in k_range:\n",
        "        y_pred, scores[k] = knn_classifier(X_train, X_test, y_train, k)\n",
        "        scores_list.append(scores[k])\n",
        "\n",
        "    plot_scores(list(k_range), scores_list)\n",
        "    print('Accuracy: ' + str(scores[max(scores, key= scores.get)]))\n",
        "    return max(scores, key= scores.get)\n",
        "\n"
      ],
      "execution_count": 0,
      "outputs": []
    },
    {
      "cell_type": "code",
      "metadata": {
        "id": "VBmcnv4aOCKQ",
        "colab_type": "code",
        "colab": {}
      },
      "source": [
        "k = get_k_accuracy(X_train,X_test, y_train, y_test)\n",
        "knn = KNeighborsClassifier(n_neighbors=k)\n",
        "knn.fit(X_train,y_train)\n",
        "y_pred = knn.predict(X_test)"
      ],
      "execution_count": 0,
      "outputs": []
    },
    {
      "cell_type": "code",
      "metadata": {
        "id": "h1JGSISJOGJC",
        "colab_type": "code",
        "colab": {}
      },
      "source": [
        "from sklearn.decomposition import PCA\n",
        "import seaborn as sns\n",
        "\n",
        "pca1 = PCA(2)\n",
        "trans_pca1 = pca1.fit_transform(X_test)\n",
        "trans_pca1 = pd.DataFrame(trans_pca1)\n",
        "trans_pca1['Labels'] = [l for y in y_test for i, l in enumerate(labels) if y==i]\n",
        "trans_pca1.columns = ['PC1', 'PC2', 'Labels']\n",
        "trans_pca1.head()\n",
        "plt.figure(figsize=(10,6))\n",
        "sns.scatterplot(x=trans_pca1['PC1'], y=trans_pca1['PC2'], hue=trans_pca1['Labels'])"
      ],
      "execution_count": 0,
      "outputs": []
    }
  ]
}