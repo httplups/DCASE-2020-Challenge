{
  "nbformat": 4,
  "nbformat_minor": 0,
  "metadata": {
    "colab": {
      "name": "EARLY.ipynb",
      "provenance": [],
      "collapsed_sections": [],
      "toc_visible": true,
      "machine_shape": "hm"
    },
    "kernelspec": {
      "name": "python3",
      "display_name": "Python 3"
    },
    "accelerator": "GPU"
  },
  "cells": [
    {
      "cell_type": "code",
      "metadata": {
        "id": "ptGENpqklOQv",
        "colab_type": "code",
        "outputId": "5f147eb9-dca0-44d4-8da3-78eb56091de4",
        "colab": {
          "base_uri": "https://localhost:8080/",
          "height": 374
        }
      },
      "source": [
        "import matplotlib.pyplot as plt\n",
        "import numpy as np # linear algebra\n",
        "import pandas as pd\n",
        "import librosa\n",
        "import librosa.display\n",
        "import os\n",
        "from os import path\n",
        "import io\n",
        "!pip3 install soundfile\n",
        "!pip3 install librosa\n",
        "import soundfile as sf\n",
        "import librosa.feature"
      ],
      "execution_count": 0,
      "outputs": [
        {
          "output_type": "stream",
          "text": [
            "Collecting soundfile\n",
            "  Downloading https://files.pythonhosted.org/packages/eb/f2/3cbbbf3b96fb9fa91582c438b574cff3f45b29c772f94c400e2c99ef5db9/SoundFile-0.10.3.post1-py2.py3-none-any.whl\n",
            "Requirement already satisfied: cffi>=1.0 in /usr/local/lib/python3.6/dist-packages (from soundfile) (1.14.0)\n",
            "Requirement already satisfied: pycparser in /usr/local/lib/python3.6/dist-packages (from cffi>=1.0->soundfile) (2.20)\n",
            "Installing collected packages: soundfile\n",
            "Successfully installed soundfile-0.10.3.post1\n",
            "Requirement already satisfied: librosa in /usr/local/lib/python3.6/dist-packages (0.6.3)\n",
            "Requirement already satisfied: resampy>=0.2.0 in /usr/local/lib/python3.6/dist-packages (from librosa) (0.2.2)\n",
            "Requirement already satisfied: audioread>=2.0.0 in /usr/local/lib/python3.6/dist-packages (from librosa) (2.1.8)\n",
            "Requirement already satisfied: scipy>=1.0.0 in /usr/local/lib/python3.6/dist-packages (from librosa) (1.4.1)\n",
            "Requirement already satisfied: six>=1.3 in /usr/local/lib/python3.6/dist-packages (from librosa) (1.12.0)\n",
            "Requirement already satisfied: decorator>=3.0.0 in /usr/local/lib/python3.6/dist-packages (from librosa) (4.4.2)\n",
            "Requirement already satisfied: numba>=0.38.0 in /usr/local/lib/python3.6/dist-packages (from librosa) (0.47.0)\n",
            "Requirement already satisfied: numpy>=1.8.0 in /usr/local/lib/python3.6/dist-packages (from librosa) (1.18.2)\n",
            "Requirement already satisfied: joblib>=0.12 in /usr/local/lib/python3.6/dist-packages (from librosa) (0.14.1)\n",
            "Requirement already satisfied: scikit-learn!=0.19.0,>=0.14.0 in /usr/local/lib/python3.6/dist-packages (from librosa) (0.22.2.post1)\n",
            "Requirement already satisfied: llvmlite>=0.31.0dev0 in /usr/local/lib/python3.6/dist-packages (from numba>=0.38.0->librosa) (0.31.0)\n",
            "Requirement already satisfied: setuptools in /usr/local/lib/python3.6/dist-packages (from numba>=0.38.0->librosa) (46.0.0)\n"
          ],
          "name": "stdout"
        }
      ]
    },
    {
      "cell_type": "code",
      "metadata": {
        "id": "c-kU_a0NruyM",
        "colab_type": "code",
        "outputId": "6a97cc4b-c5a3-4698-b388-50447336cbec",
        "colab": {
          "base_uri": "https://localhost:8080/",
          "height": 205
        }
      },
      "source": [
        "!pip install ipython-autotime\n",
        "\n",
        "%load_ext autotime"
      ],
      "execution_count": 0,
      "outputs": [
        {
          "output_type": "stream",
          "text": [
            "Collecting ipython-autotime\n",
            "  Downloading https://files.pythonhosted.org/packages/e6/f9/0626bbdb322e3a078d968e87e3b01341e7890544de891d0cb613641220e6/ipython-autotime-0.1.tar.bz2\n",
            "Building wheels for collected packages: ipython-autotime\n",
            "  Building wheel for ipython-autotime (setup.py) ... \u001b[?25l\u001b[?25hdone\n",
            "  Created wheel for ipython-autotime: filename=ipython_autotime-0.1-cp36-none-any.whl size=1832 sha256=5fdf79d29ee6e1cc270646196b45d35e63ac6759b7f1dba0f378d24aa28fa4d9\n",
            "  Stored in directory: /root/.cache/pip/wheels/d2/df/81/2db1e54bc91002cec40334629bc39cfa86dff540b304ebcd6e\n",
            "Successfully built ipython-autotime\n",
            "Installing collected packages: ipython-autotime\n",
            "Successfully installed ipython-autotime-0.1\n"
          ],
          "name": "stdout"
        }
      ]
    },
    {
      "cell_type": "markdown",
      "metadata": {
        "id": "r7aioLqSfKgT",
        "colab_type": "text"
      },
      "source": [
        "# Opening datasets"
      ]
    },
    {
      "cell_type": "code",
      "metadata": {
        "id": "_AtrE-Kwmk5b",
        "colab_type": "code",
        "outputId": "6528f786-48c8-4791-f38d-6dda9b7e3f6c",
        "colab": {
          "base_uri": "https://localhost:8080/",
          "height": 225
        }
      },
      "source": [
        "DIR = '/content/drive/My Drive/DCASE 2020 Challenge/TAU Urban Acoustic Scenes 2020 3Class' \n",
        "DIR_AUDIO = DIR + '/soundfiles/TAU-urban-acoustic-scenes-2020-3class-development/'\n",
        "df_meta = pd.read_csv(f'{DIR}/meta.csv')\n",
        "df_meta = pd.read_csv(io.StringIO(df_meta.to_csv(index=False)))\n",
        "df_meta.head()"
      ],
      "execution_count": 0,
      "outputs": [
        {
          "output_type": "execute_result",
          "data": {
            "text/html": [
              "<div>\n",
              "<style scoped>\n",
              "    .dataframe tbody tr th:only-of-type {\n",
              "        vertical-align: middle;\n",
              "    }\n",
              "\n",
              "    .dataframe tbody tr th {\n",
              "        vertical-align: top;\n",
              "    }\n",
              "\n",
              "    .dataframe thead th {\n",
              "        text-align: right;\n",
              "    }\n",
              "</style>\n",
              "<table border=\"1\" class=\"dataframe\">\n",
              "  <thead>\n",
              "    <tr style=\"text-align: right;\">\n",
              "      <th></th>\n",
              "      <th>filename</th>\n",
              "      <th>scene_label</th>\n",
              "      <th>identifier</th>\n",
              "    </tr>\n",
              "  </thead>\n",
              "  <tbody>\n",
              "    <tr>\n",
              "      <th>0</th>\n",
              "      <td>audio/airport-barcelona-0-0-a.wav</td>\n",
              "      <td>indoor</td>\n",
              "      <td>barcelona-0</td>\n",
              "    </tr>\n",
              "    <tr>\n",
              "      <th>1</th>\n",
              "      <td>audio/airport-barcelona-0-10-a.wav</td>\n",
              "      <td>indoor</td>\n",
              "      <td>barcelona-0</td>\n",
              "    </tr>\n",
              "    <tr>\n",
              "      <th>2</th>\n",
              "      <td>audio/airport-barcelona-0-11-a.wav</td>\n",
              "      <td>indoor</td>\n",
              "      <td>barcelona-0</td>\n",
              "    </tr>\n",
              "    <tr>\n",
              "      <th>3</th>\n",
              "      <td>audio/airport-barcelona-0-12-a.wav</td>\n",
              "      <td>indoor</td>\n",
              "      <td>barcelona-0</td>\n",
              "    </tr>\n",
              "    <tr>\n",
              "      <th>4</th>\n",
              "      <td>audio/airport-barcelona-0-13-a.wav</td>\n",
              "      <td>indoor</td>\n",
              "      <td>barcelona-0</td>\n",
              "    </tr>\n",
              "  </tbody>\n",
              "</table>\n",
              "</div>"
            ],
            "text/plain": [
              "                             filename scene_label   identifier\n",
              "0   audio/airport-barcelona-0-0-a.wav      indoor  barcelona-0\n",
              "1  audio/airport-barcelona-0-10-a.wav      indoor  barcelona-0\n",
              "2  audio/airport-barcelona-0-11-a.wav      indoor  barcelona-0\n",
              "3  audio/airport-barcelona-0-12-a.wav      indoor  barcelona-0\n",
              "4  audio/airport-barcelona-0-13-a.wav      indoor  barcelona-0"
            ]
          },
          "metadata": {
            "tags": []
          },
          "execution_count": 3
        },
        {
          "output_type": "stream",
          "text": [
            "time: 1.19 s\n"
          ],
          "name": "stdout"
        }
      ]
    },
    {
      "cell_type": "markdown",
      "metadata": {
        "id": "H4GBDBmTIF4P",
        "colab_type": "text"
      },
      "source": [
        "# Getting part of the dataset\n",
        "Não coloquei 10% dele, pois poderiam vir mais datasets de um label específico. E nem coloquei 10% de cada label, pois a quantidades de datasets dentro de cada label é diferente. Então defini n datasets de cada label."
      ]
    },
    {
      "cell_type": "code",
      "metadata": {
        "id": "d2rRCB6kp2DB",
        "colab_type": "code",
        "outputId": "a87991de-c6d4-48fd-f712-cc2251eed065",
        "colab": {
          "base_uri": "https://localhost:8080/",
          "height": 225
        }
      },
      "source": [
        "df = df_meta.groupby('scene_label', as_index=False).apply(lambda x: x.sample(frac=.2, random_state=15))\n",
        "df.index = [i[1] for i in df.index]\n",
        "df.head()"
      ],
      "execution_count": 0,
      "outputs": [
        {
          "output_type": "execute_result",
          "data": {
            "text/html": [
              "<div>\n",
              "<style scoped>\n",
              "    .dataframe tbody tr th:only-of-type {\n",
              "        vertical-align: middle;\n",
              "    }\n",
              "\n",
              "    .dataframe tbody tr th {\n",
              "        vertical-align: top;\n",
              "    }\n",
              "\n",
              "    .dataframe thead th {\n",
              "        text-align: right;\n",
              "    }\n",
              "</style>\n",
              "<table border=\"1\" class=\"dataframe\">\n",
              "  <thead>\n",
              "    <tr style=\"text-align: right;\">\n",
              "      <th></th>\n",
              "      <th>filename</th>\n",
              "      <th>scene_label</th>\n",
              "      <th>identifier</th>\n",
              "    </tr>\n",
              "  </thead>\n",
              "  <tbody>\n",
              "    <tr>\n",
              "      <th>3028</th>\n",
              "      <td>audio/metro_station-helsinki-231-6952-a.wav</td>\n",
              "      <td>indoor</td>\n",
              "      <td>helsinki-231</td>\n",
              "    </tr>\n",
              "    <tr>\n",
              "      <th>9493</th>\n",
              "      <td>audio/shopping_mall-milan-1183-45376-a.wav</td>\n",
              "      <td>indoor</td>\n",
              "      <td>milan-1183</td>\n",
              "    </tr>\n",
              "    <tr>\n",
              "      <th>4163</th>\n",
              "      <td>audio/metro_station-stockholm-85-2308-a.wav</td>\n",
              "      <td>indoor</td>\n",
              "      <td>stockholm-85</td>\n",
              "    </tr>\n",
              "    <tr>\n",
              "      <th>3224</th>\n",
              "      <td>audio/metro_station-lisbon-1020-42471-a.wav</td>\n",
              "      <td>indoor</td>\n",
              "      <td>lisbon-1020</td>\n",
              "    </tr>\n",
              "    <tr>\n",
              "      <th>9294</th>\n",
              "      <td>audio/shopping_mall-lyon-1066-42583-a.wav</td>\n",
              "      <td>indoor</td>\n",
              "      <td>lyon-1066</td>\n",
              "    </tr>\n",
              "  </tbody>\n",
              "</table>\n",
              "</div>"
            ],
            "text/plain": [
              "                                         filename scene_label    identifier\n",
              "3028  audio/metro_station-helsinki-231-6952-a.wav      indoor  helsinki-231\n",
              "9493   audio/shopping_mall-milan-1183-45376-a.wav      indoor    milan-1183\n",
              "4163  audio/metro_station-stockholm-85-2308-a.wav      indoor  stockholm-85\n",
              "3224  audio/metro_station-lisbon-1020-42471-a.wav      indoor   lisbon-1020\n",
              "9294    audio/shopping_mall-lyon-1066-42583-a.wav      indoor     lyon-1066"
            ]
          },
          "metadata": {
            "tags": []
          },
          "execution_count": 4
        },
        {
          "output_type": "stream",
          "text": [
            "time: 30.2 ms\n"
          ],
          "name": "stdout"
        }
      ]
    },
    {
      "cell_type": "code",
      "metadata": {
        "id": "sCJ2fzdrMK4z",
        "colab_type": "code",
        "outputId": "abcf3d1c-03c1-43a6-e95f-8b320a8cfbda",
        "colab": {
          "base_uri": "https://localhost:8080/",
          "height": 92
        }
      },
      "source": [
        "print(df.loc[df['scene_label'] == 'outdoor'].shape)\n",
        "print(df.loc[df['scene_label'] == 'indoor'].shape)\n",
        "print(df.loc[df['scene_label'] == 'transportation'].shape)"
      ],
      "execution_count": 0,
      "outputs": [
        {
          "output_type": "stream",
          "text": [
            "(1152, 3)\n",
            "(864, 3)\n",
            "(864, 3)\n",
            "time: 7.43 ms\n"
          ],
          "name": "stdout"
        }
      ]
    },
    {
      "cell_type": "markdown",
      "metadata": {
        "id": "EBiTL-q4rx4m",
        "colab_type": "text"
      },
      "source": [
        "Reading the datasets and storing it to 'signals'"
      ]
    },
    {
      "cell_type": "code",
      "metadata": {
        "id": "toPMMVMwr8T1",
        "colab_type": "code",
        "outputId": "727dd523-c976-4d55-a7b7-aa7143d86a23",
        "colab": {
          "base_uri": "https://localhost:8080/",
          "height": 167
        }
      },
      "source": [
        "info_sound = df[['filename','scene_label']].to_numpy()\n",
        "LABELS = ['indoor', 'outdoor', 'transportation']\n",
        "info_sound"
      ],
      "execution_count": 0,
      "outputs": [
        {
          "output_type": "execute_result",
          "data": {
            "text/plain": [
              "array([['audio/metro_station-helsinki-231-6952-a.wav', 'indoor'],\n",
              "       ['audio/shopping_mall-milan-1183-45376-a.wav', 'indoor'],\n",
              "       ['audio/metro_station-stockholm-85-2308-a.wav', 'indoor'],\n",
              "       ...,\n",
              "       ['audio/tram-london-185-5753-a.wav', 'transportation'],\n",
              "       ['audio/bus-vienna-40-1197-a.wav', 'transportation'],\n",
              "       ['audio/tram-vienna-201-6056-a.wav', 'transportation']],\n",
              "      dtype=object)"
            ]
          },
          "metadata": {
            "tags": []
          },
          "execution_count": 6
        },
        {
          "output_type": "stream",
          "text": [
            "time: 7.81 ms\n"
          ],
          "name": "stdout"
        }
      ]
    },
    {
      "cell_type": "code",
      "metadata": {
        "id": "aS-Ks9WpNZu5",
        "colab_type": "code",
        "outputId": "d9e0c609-55c0-4679-b839-575fc61c1baf",
        "colab": {
          "base_uri": "https://localhost:8080/",
          "height": 36
        }
      },
      "source": [
        "dic_signals = {x:[] for i, x in enumerate(LABELS)}\n",
        "\n",
        "for filename, label in info_sound:\n",
        "    if(path.isfile(os.path.join(DIR_AUDIO, filename))):\n",
        "        dic_signals[label].append(sf.read(os.path.join(DIR_AUDIO, filename)))\n",
        "    else:\n",
        "        #print(filename)\n",
        "        continue"
      ],
      "execution_count": 0,
      "outputs": [
        {
          "output_type": "stream",
          "text": [
            "time: 35min 2s\n"
          ],
          "name": "stdout"
        }
      ]
    },
    {
      "cell_type": "code",
      "metadata": {
        "id": "ZDeu62ADwBEs",
        "colab_type": "code",
        "outputId": "79f35141-4c13-42f7-8000-5c82fbbac16f",
        "colab": {
          "base_uri": "https://localhost:8080/",
          "height": 36
        }
      },
      "source": [
        "\n",
        "len(dic_signals)"
      ],
      "execution_count": 0,
      "outputs": [
        {
          "output_type": "execute_result",
          "data": {
            "text/plain": [
              "3"
            ]
          },
          "metadata": {
            "tags": []
          },
          "execution_count": 85
        },
        {
          "output_type": "stream",
          "text": [
            "time: 2.37 ms\n"
          ],
          "name": "stdout"
        }
      ]
    },
    {
      "cell_type": "markdown",
      "metadata": {
        "id": "zCC0EbABtCfB",
        "colab_type": "text"
      },
      "source": [
        "Labels:\n",
        "\n",
        "\n",
        "0.   Indoor\n",
        "1.   Outdoor\n",
        "2.   Transportation\n",
        "\n"
      ]
    },
    {
      "cell_type": "markdown",
      "metadata": {
        "id": "3eQS2FIKz-3Y",
        "colab_type": "text"
      },
      "source": [
        "# Getting Features\n",
        "\n",
        "1.   Centroid Mean\n",
        "2.   Centroid STD\n",
        "3.   Flatness Mean\n",
        "4.   Flatness STD\n",
        "5.   RMS\n",
        "6.   Random Features\n",
        "\n"
      ]
    },
    {
      "cell_type": "code",
      "metadata": {
        "id": "Pm5iFAKX0Chn",
        "colab_type": "code",
        "outputId": "3a4a0a33-0847-4801-d1bc-eae855ac9f29",
        "colab": {
          "base_uri": "https://localhost:8080/",
          "height": 36
        }
      },
      "source": [
        "def get_features(dic_signals)->pd.DataFrame:\n",
        "\n",
        "    # LUANA - FEATURES\n",
        "    def get_centroid(S):\n",
        "        return librosa.feature.spectral_centroid(S=S)\n",
        "    def get_flatness(S):\n",
        "        return librosa.feature.spectral_flatness(S=S)\n",
        "    def get_rms(s):\n",
        "        return librosa.feature.rms(s, hop_length=1024)\n",
        "    #ALVARO \n",
        "    N = 128\n",
        "    K = 15\n",
        "    global RAND_MAT\n",
        "    RAND_MAT = np.random.randn(K,N)\n",
        "    feats = (np.zeros((1,2*K+6))[0])\n",
        "    features_array = (np.zeros((1,2*K+6))[0])\n",
        "\n",
        "    for label, signals in dic_signals.items():\n",
        "        \n",
        "        for signal, samplerate in signals:\n",
        "            mel = librosa.feature.melspectrogram(y=signal[:,0],sr=samplerate, hop_length=1024)\n",
        "        \n",
        "            c = get_centroid(mel)\n",
        "            c = c[0]\n",
        "            f = get_flatness(mel)\n",
        "            f = f[0]\n",
        "            r = get_rms(mel)\n",
        "            r = round(r[0][0],3)\n",
        "           \n",
        "            music_features = np.array([np.mean(c),np.std(c),np.mean(f), np.std(f), r, label])\n",
        "            #print(music_features)\n",
        "            #ALVARO - FEATURES\n",
        "            \n",
        "            dot = np.dot(RAND_MAT, mel) \n",
        "            random_features = []\n",
        "            for feat in dot:\n",
        "                random_features = np.hstack([np.array([feat.mean(),np.std(feat)]),random_features])\n",
        "            random_features = np.array(random_features)\n",
        "            feats = np.hstack([random_features, music_features])\n",
        "            features_array = np.vstack([features_array, feats])        \n",
        "    return pd.DataFrame(data=features_array).drop(0).reset_index(drop=True)\n",
        "        \n"
      ],
      "execution_count": 0,
      "outputs": [
        {
          "output_type": "stream",
          "text": [
            "time: 28.5 ms\n"
          ],
          "name": "stdout"
        }
      ]
    },
    {
      "cell_type": "code",
      "metadata": {
        "id": "1C4HGGUE0Fsx",
        "colab_type": "code",
        "outputId": "30efac9b-4b61-4769-f53b-4dad8802230f",
        "colab": {
          "base_uri": "https://localhost:8080/",
          "height": 462
        }
      },
      "source": [
        "df = get_features(dic_signals)\n",
        "df"
      ],
      "execution_count": 0,
      "outputs": [
        {
          "output_type": "execute_result",
          "data": {
            "text/html": [
              "<div>\n",
              "<style scoped>\n",
              "    .dataframe tbody tr th:only-of-type {\n",
              "        vertical-align: middle;\n",
              "    }\n",
              "\n",
              "    .dataframe tbody tr th {\n",
              "        vertical-align: top;\n",
              "    }\n",
              "\n",
              "    .dataframe thead th {\n",
              "        text-align: right;\n",
              "    }\n",
              "</style>\n",
              "<table border=\"1\" class=\"dataframe\">\n",
              "  <thead>\n",
              "    <tr style=\"text-align: right;\">\n",
              "      <th></th>\n",
              "      <th>0</th>\n",
              "      <th>1</th>\n",
              "      <th>2</th>\n",
              "      <th>3</th>\n",
              "      <th>4</th>\n",
              "      <th>5</th>\n",
              "      <th>6</th>\n",
              "      <th>7</th>\n",
              "      <th>8</th>\n",
              "      <th>9</th>\n",
              "      <th>10</th>\n",
              "      <th>11</th>\n",
              "      <th>12</th>\n",
              "      <th>13</th>\n",
              "      <th>14</th>\n",
              "      <th>15</th>\n",
              "      <th>16</th>\n",
              "      <th>17</th>\n",
              "      <th>18</th>\n",
              "      <th>19</th>\n",
              "      <th>20</th>\n",
              "      <th>21</th>\n",
              "      <th>22</th>\n",
              "      <th>23</th>\n",
              "      <th>24</th>\n",
              "      <th>25</th>\n",
              "      <th>26</th>\n",
              "      <th>27</th>\n",
              "      <th>28</th>\n",
              "      <th>29</th>\n",
              "      <th>30</th>\n",
              "      <th>31</th>\n",
              "      <th>32</th>\n",
              "      <th>33</th>\n",
              "      <th>34</th>\n",
              "      <th>35</th>\n",
              "    </tr>\n",
              "  </thead>\n",
              "  <tbody>\n",
              "    <tr>\n",
              "      <th>0</th>\n",
              "      <td>0.0750316309402404</td>\n",
              "      <td>0.12100053058054512</td>\n",
              "      <td>0.008535113637022676</td>\n",
              "      <td>0.04454795972760409</td>\n",
              "      <td>-0.06123800179360141</td>\n",
              "      <td>0.15055516490875834</td>\n",
              "      <td>-0.021154703395995237</td>\n",
              "      <td>0.07624866059243818</td>\n",
              "      <td>0.1130657602294601</td>\n",
              "      <td>0.1677134631768718</td>\n",
              "      <td>-0.06984146789389817</td>\n",
              "      <td>0.10955070735496197</td>\n",
              "      <td>-0.041744640093909616</td>\n",
              "      <td>0.1110923183324537</td>\n",
              "      <td>0.09877308738015417</td>\n",
              "      <td>0.10368666706567263</td>\n",
              "      <td>-0.3683303071619327</td>\n",
              "      <td>0.27732292426559246</td>\n",
              "      <td>-0.04919392557950332</td>\n",
              "      <td>0.11361224733443644</td>\n",
              "      <td>-0.09616649624668201</td>\n",
              "      <td>0.0895683855594115</td>\n",
              "      <td>0.28775286268265726</td>\n",
              "      <td>0.2340526662883802</td>\n",
              "      <td>0.19032479336296956</td>\n",
              "      <td>0.09697083696948952</td>\n",
              "      <td>-0.24222872592546033</td>\n",
              "      <td>0.212738854756373</td>\n",
              "      <td>-0.18544939350829343</td>\n",
              "      <td>0.17799656875281664</td>\n",
              "      <td>678.1465770599264</td>\n",
              "      <td>224.63431219247548</td>\n",
              "      <td>0.00013801176296031526</td>\n",
              "      <td>0.0002073399219388128</td>\n",
              "      <td>0.004</td>\n",
              "      <td>indoor</td>\n",
              "    </tr>\n",
              "    <tr>\n",
              "      <th>1</th>\n",
              "      <td>0.5999448841126763</td>\n",
              "      <td>1.3151887600308363</td>\n",
              "      <td>0.6201059720944907</td>\n",
              "      <td>0.7857045382318911</td>\n",
              "      <td>1.3044207336674685</td>\n",
              "      <td>1.3719934355928909</td>\n",
              "      <td>-0.2792521822416255</td>\n",
              "      <td>1.2034658386890642</td>\n",
              "      <td>0.15970939335412201</td>\n",
              "      <td>1.3478818866978899</td>\n",
              "      <td>-0.7289461144760261</td>\n",
              "      <td>1.3889449495864</td>\n",
              "      <td>0.11925289208468595</td>\n",
              "      <td>1.5910968194283255</td>\n",
              "      <td>1.3895218890106784</td>\n",
              "      <td>1.794145672429504</td>\n",
              "      <td>-2.0242283822351497</td>\n",
              "      <td>1.4283945412063699</td>\n",
              "      <td>0.3576513579623524</td>\n",
              "      <td>1.358918281435734</td>\n",
              "      <td>-0.5570102874088315</td>\n",
              "      <td>1.4004005898973761</td>\n",
              "      <td>1.2991378749549392</td>\n",
              "      <td>1.3270431764974784</td>\n",
              "      <td>1.892673951584304</td>\n",
              "      <td>1.4685562980189575</td>\n",
              "      <td>-1.5439820267529543</td>\n",
              "      <td>1.5478016015345069</td>\n",
              "      <td>0.47625461898385896</td>\n",
              "      <td>1.1506925730889632</td>\n",
              "      <td>1549.1881672054433</td>\n",
              "      <td>321.76107008897367</td>\n",
              "      <td>0.001009060528136837</td>\n",
              "      <td>0.0015417709534374744</td>\n",
              "      <td>0.044</td>\n",
              "      <td>indoor</td>\n",
              "    </tr>\n",
              "    <tr>\n",
              "      <th>2</th>\n",
              "      <td>26.424845066739135</td>\n",
              "      <td>27.881211987959198</td>\n",
              "      <td>1.1084010475052406</td>\n",
              "      <td>7.594381832772162</td>\n",
              "      <td>2.35646850007923</td>\n",
              "      <td>20.598988087429973</td>\n",
              "      <td>-11.256442092085077</td>\n",
              "      <td>16.844453317516</td>\n",
              "      <td>9.390674694418788</td>\n",
              "      <td>25.17907411412269</td>\n",
              "      <td>0.2590092074762748</td>\n",
              "      <td>14.11076986669438</td>\n",
              "      <td>-3.123995160567225</td>\n",
              "      <td>16.915207486938126</td>\n",
              "      <td>22.980079997107396</td>\n",
              "      <td>18.716200296922555</td>\n",
              "      <td>-38.08634770954709</td>\n",
              "      <td>26.610590238793176</td>\n",
              "      <td>-13.467497284374133</td>\n",
              "      <td>17.92676110629337</td>\n",
              "      <td>-5.458976392731034</td>\n",
              "      <td>8.937132406295365</td>\n",
              "      <td>37.82115418173341</td>\n",
              "      <td>25.80324514498549</td>\n",
              "      <td>32.91269020479644</td>\n",
              "      <td>22.495042947963086</td>\n",
              "      <td>-25.599953537540674</td>\n",
              "      <td>24.294710322589523</td>\n",
              "      <td>-22.645654282781134</td>\n",
              "      <td>21.41762077677406</td>\n",
              "      <td>667.9687922018245</td>\n",
              "      <td>234.94614955173</td>\n",
              "      <td>6.216705267187006e-05</td>\n",
              "      <td>0.0005185531296219762</td>\n",
              "      <td>0.584</td>\n",
              "      <td>indoor</td>\n",
              "    </tr>\n",
              "    <tr>\n",
              "      <th>3</th>\n",
              "      <td>0.009907975639937096</td>\n",
              "      <td>0.017343258534586622</td>\n",
              "      <td>0.003774668337655116</td>\n",
              "      <td>0.008871285151716726</td>\n",
              "      <td>0.006011779517714332</td>\n",
              "      <td>0.019929727165575915</td>\n",
              "      <td>-0.0022594210462491895</td>\n",
              "      <td>0.012060081987750989</td>\n",
              "      <td>0.006716967286029587</td>\n",
              "      <td>0.015986166358882864</td>\n",
              "      <td>-0.005279386115167059</td>\n",
              "      <td>0.018998806168858465</td>\n",
              "      <td>0.0013115015501864655</td>\n",
              "      <td>0.01522548986745261</td>\n",
              "      <td>0.007402346887953166</td>\n",
              "      <td>0.010207655410005484</td>\n",
              "      <td>-0.02561139625481977</td>\n",
              "      <td>0.027817413998257084</td>\n",
              "      <td>-0.006974873564832603</td>\n",
              "      <td>0.021132719970494894</td>\n",
              "      <td>-0.00917824626184802</td>\n",
              "      <td>0.00959392637167732</td>\n",
              "      <td>0.021717862787944926</td>\n",
              "      <td>0.019131651206544163</td>\n",
              "      <td>0.020744358269777385</td>\n",
              "      <td>0.016376625897792645</td>\n",
              "      <td>-0.012293500376170692</td>\n",
              "      <td>0.011043714675225379</td>\n",
              "      <td>-0.009103708736439743</td>\n",
              "      <td>0.010210987394440747</td>\n",
              "      <td>1142.7300908735915</td>\n",
              "      <td>317.07443530971335</td>\n",
              "      <td>0.003421872701044883</td>\n",
              "      <td>0.0030058892373368475</td>\n",
              "      <td>0.0</td>\n",
              "      <td>indoor</td>\n",
              "    </tr>\n",
              "    <tr>\n",
              "      <th>4</th>\n",
              "      <td>0.046786992199580775</td>\n",
              "      <td>0.17622351254504326</td>\n",
              "      <td>0.05849642115665198</td>\n",
              "      <td>0.15982645195533188</td>\n",
              "      <td>0.046050950973921985</td>\n",
              "      <td>0.2212847607465383</td>\n",
              "      <td>0.004123479870463775</td>\n",
              "      <td>0.1248591345359568</td>\n",
              "      <td>0.09160058889580938</td>\n",
              "      <td>0.16279698330249717</td>\n",
              "      <td>-0.07334389348325436</td>\n",
              "      <td>0.15141991474912828</td>\n",
              "      <td>-0.025188996361023685</td>\n",
              "      <td>0.12737069695973968</td>\n",
              "      <td>0.06234789636004468</td>\n",
              "      <td>0.16802074331816244</td>\n",
              "      <td>-0.39032339410930683</td>\n",
              "      <td>0.36469152703307944</td>\n",
              "      <td>-0.05094568600224669</td>\n",
              "      <td>0.18360349287978756</td>\n",
              "      <td>-0.13787746711797422</td>\n",
              "      <td>0.2224592616284161</td>\n",
              "      <td>0.30812502110998036</td>\n",
              "      <td>0.3072454201078221</td>\n",
              "      <td>0.14988817258959722</td>\n",
              "      <td>0.19463178260438596</td>\n",
              "      <td>-0.1492061939572245</td>\n",
              "      <td>0.1638244473109725</td>\n",
              "      <td>-0.12948171253796</td>\n",
              "      <td>0.14198418788130832</td>\n",
              "      <td>1102.420215937441</td>\n",
              "      <td>444.37241781893226</td>\n",
              "      <td>0.0005611449353757155</td>\n",
              "      <td>0.0007233884137624792</td>\n",
              "      <td>0.005</td>\n",
              "      <td>indoor</td>\n",
              "    </tr>\n",
              "    <tr>\n",
              "      <th>...</th>\n",
              "      <td>...</td>\n",
              "      <td>...</td>\n",
              "      <td>...</td>\n",
              "      <td>...</td>\n",
              "      <td>...</td>\n",
              "      <td>...</td>\n",
              "      <td>...</td>\n",
              "      <td>...</td>\n",
              "      <td>...</td>\n",
              "      <td>...</td>\n",
              "      <td>...</td>\n",
              "      <td>...</td>\n",
              "      <td>...</td>\n",
              "      <td>...</td>\n",
              "      <td>...</td>\n",
              "      <td>...</td>\n",
              "      <td>...</td>\n",
              "      <td>...</td>\n",
              "      <td>...</td>\n",
              "      <td>...</td>\n",
              "      <td>...</td>\n",
              "      <td>...</td>\n",
              "      <td>...</td>\n",
              "      <td>...</td>\n",
              "      <td>...</td>\n",
              "      <td>...</td>\n",
              "      <td>...</td>\n",
              "      <td>...</td>\n",
              "      <td>...</td>\n",
              "      <td>...</td>\n",
              "      <td>...</td>\n",
              "      <td>...</td>\n",
              "      <td>...</td>\n",
              "      <td>...</td>\n",
              "      <td>...</td>\n",
              "      <td>...</td>\n",
              "    </tr>\n",
              "    <tr>\n",
              "      <th>2467</th>\n",
              "      <td>33.519919599565</td>\n",
              "      <td>51.13530731691851</td>\n",
              "      <td>-0.8947131640311393</td>\n",
              "      <td>9.922979247282244</td>\n",
              "      <td>13.945293452495562</td>\n",
              "      <td>34.082973211794844</td>\n",
              "      <td>-13.424571201662781</td>\n",
              "      <td>27.08253237584815</td>\n",
              "      <td>15.793267594257093</td>\n",
              "      <td>33.39576375964054</td>\n",
              "      <td>11.157208882166268</td>\n",
              "      <td>25.49604099001741</td>\n",
              "      <td>11.177219812080125</td>\n",
              "      <td>21.635211400372913</td>\n",
              "      <td>12.505958957942104</td>\n",
              "      <td>17.725116289825124</td>\n",
              "      <td>-36.483366058793344</td>\n",
              "      <td>36.17636833417102</td>\n",
              "      <td>-27.71121940341975</td>\n",
              "      <td>33.498607110950246</td>\n",
              "      <td>-6.017191249483058</td>\n",
              "      <td>11.780232966839883</td>\n",
              "      <td>38.07918157786743</td>\n",
              "      <td>40.7247603896514</td>\n",
              "      <td>37.06544515394954</td>\n",
              "      <td>36.700595887715615</td>\n",
              "      <td>-12.099125875296375</td>\n",
              "      <td>16.182001185526094</td>\n",
              "      <td>-27.036632282106392</td>\n",
              "      <td>28.703171067317278</td>\n",
              "      <td>405.21688160152416</td>\n",
              "      <td>126.04430816261703</td>\n",
              "      <td>3.7335570841384644e-06</td>\n",
              "      <td>9.392281332863668e-06</td>\n",
              "      <td>0.614</td>\n",
              "      <td>transportation</td>\n",
              "    </tr>\n",
              "    <tr>\n",
              "      <th>2468</th>\n",
              "      <td>42.522657326703616</td>\n",
              "      <td>106.91826346469684</td>\n",
              "      <td>-3.191542851060021</td>\n",
              "      <td>21.237885921523365</td>\n",
              "      <td>-71.06006838523685</td>\n",
              "      <td>77.80383855291261</td>\n",
              "      <td>-17.574383472319997</td>\n",
              "      <td>54.73251589009175</td>\n",
              "      <td>113.10939227855714</td>\n",
              "      <td>101.95666888008373</td>\n",
              "      <td>-59.84098808062094</td>\n",
              "      <td>51.63187080388461</td>\n",
              "      <td>-40.16006232605789</td>\n",
              "      <td>48.73497018046785</td>\n",
              "      <td>4.536106231649987</td>\n",
              "      <td>57.210937242534634</td>\n",
              "      <td>-197.8061444514929</td>\n",
              "      <td>150.705143858032</td>\n",
              "      <td>13.319282236632281</td>\n",
              "      <td>32.529632331015854</td>\n",
              "      <td>-49.86747555064953</td>\n",
              "      <td>49.6681417772996</td>\n",
              "      <td>198.0264058548808</td>\n",
              "      <td>162.2229130446079</td>\n",
              "      <td>35.1739143238534</td>\n",
              "      <td>47.20912221791608</td>\n",
              "      <td>-116.79143399102897</td>\n",
              "      <td>114.87827535420439</td>\n",
              "      <td>-123.33653868731622</td>\n",
              "      <td>115.36030153944131</td>\n",
              "      <td>242.9540572133215</td>\n",
              "      <td>106.1005407445508</td>\n",
              "      <td>2.918917084376041e-07</td>\n",
              "      <td>7.911654515493944e-07</td>\n",
              "      <td>1.723</td>\n",
              "      <td>transportation</td>\n",
              "    </tr>\n",
              "    <tr>\n",
              "      <th>2469</th>\n",
              "      <td>-0.31232577525930766</td>\n",
              "      <td>2.2684280854773555</td>\n",
              "      <td>0.3170212645443457</td>\n",
              "      <td>0.8825894861163326</td>\n",
              "      <td>-1.257016003080224</td>\n",
              "      <td>2.055088720706054</td>\n",
              "      <td>0.45716993147548146</td>\n",
              "      <td>1.244330882525273</td>\n",
              "      <td>2.2500707356583063</td>\n",
              "      <td>3.3080385434294604</td>\n",
              "      <td>-1.4408273499504225</td>\n",
              "      <td>2.2140637374491923</td>\n",
              "      <td>-0.8530882705582955</td>\n",
              "      <td>1.3585991341176649</td>\n",
              "      <td>-0.6171145141621294</td>\n",
              "      <td>2.480939870433043</td>\n",
              "      <td>-6.134935609557122</td>\n",
              "      <td>6.230882217543822</td>\n",
              "      <td>0.05829506674982023</td>\n",
              "      <td>1.205892735169767</td>\n",
              "      <td>-1.9800478043818446</td>\n",
              "      <td>2.7346559949223836</td>\n",
              "      <td>5.308090842233279</td>\n",
              "      <td>5.664848123982427</td>\n",
              "      <td>1.0076808517091547</td>\n",
              "      <td>1.2085915000338727</td>\n",
              "      <td>-2.3828888575287794</td>\n",
              "      <td>2.8922609358844382</td>\n",
              "      <td>-3.010348401022153</td>\n",
              "      <td>2.835323888140136</td>\n",
              "      <td>183.30282864086917</td>\n",
              "      <td>96.10045691810772</td>\n",
              "      <td>5.851707620256575e-07</td>\n",
              "      <td>1.3348781625701433e-06</td>\n",
              "      <td>0.047</td>\n",
              "      <td>transportation</td>\n",
              "    </tr>\n",
              "    <tr>\n",
              "      <th>2470</th>\n",
              "      <td>-11.260742882359619</td>\n",
              "      <td>22.99351227416115</td>\n",
              "      <td>4.205101400717124</td>\n",
              "      <td>8.654194415563923</td>\n",
              "      <td>-14.479707619758631</td>\n",
              "      <td>11.586058789159248</td>\n",
              "      <td>6.041684479118951</td>\n",
              "      <td>11.155962853003288</td>\n",
              "      <td>23.434945693380378</td>\n",
              "      <td>21.34302203238211</td>\n",
              "      <td>-18.670394657848583</td>\n",
              "      <td>19.295498972373036</td>\n",
              "      <td>-7.305323812445472</td>\n",
              "      <td>8.862945803771916</td>\n",
              "      <td>-14.678686145797231</td>\n",
              "      <td>25.897862915009703</td>\n",
              "      <td>-48.19573899126882</td>\n",
              "      <td>41.72761020071615</td>\n",
              "      <td>8.094509635246967</td>\n",
              "      <td>7.891123961749621</td>\n",
              "      <td>-21.00601120916697</td>\n",
              "      <td>24.52567506806562</td>\n",
              "      <td>46.091179259243496</td>\n",
              "      <td>41.672624095590585</td>\n",
              "      <td>-1.0555061357007791</td>\n",
              "      <td>5.860648630791161</td>\n",
              "      <td>-14.167496644743162</td>\n",
              "      <td>16.004588006236187</td>\n",
              "      <td>-19.682455867441938</td>\n",
              "      <td>14.983122303583178</td>\n",
              "      <td>96.88251349523824</td>\n",
              "      <td>91.33270644058507</td>\n",
              "      <td>8.582132173208025e-08</td>\n",
              "      <td>4.851205121969835e-07</td>\n",
              "      <td>0.306</td>\n",
              "      <td>transportation</td>\n",
              "    </tr>\n",
              "    <tr>\n",
              "      <th>2471</th>\n",
              "      <td>0.800870161686571</td>\n",
              "      <td>2.1318106125162934</td>\n",
              "      <td>0.35611684827260154</td>\n",
              "      <td>0.6270868150872557</td>\n",
              "      <td>-0.8300366359204373</td>\n",
              "      <td>1.3970641728768967</td>\n",
              "      <td>-0.4273437170202764</td>\n",
              "      <td>1.2983232297813647</td>\n",
              "      <td>1.8063244827448994</td>\n",
              "      <td>1.9974492905160015</td>\n",
              "      <td>-1.0435664559003668</td>\n",
              "      <td>1.3187102166260225</td>\n",
              "      <td>-0.2688927554382961</td>\n",
              "      <td>0.8822870257117721</td>\n",
              "      <td>-0.24417484511100299</td>\n",
              "      <td>1.614500138517012</td>\n",
              "      <td>-2.968998484249159</td>\n",
              "      <td>2.5946972541863302</td>\n",
              "      <td>-0.04776227057335489</td>\n",
              "      <td>1.0832466459133578</td>\n",
              "      <td>-1.0996160643424502</td>\n",
              "      <td>1.3959057197792912</td>\n",
              "      <td>3.6601273785060653</td>\n",
              "      <td>3.0186661120564104</td>\n",
              "      <td>0.9739233536654104</td>\n",
              "      <td>0.9709013503719717</td>\n",
              "      <td>-1.026109020738682</td>\n",
              "      <td>1.5432436891578318</td>\n",
              "      <td>-1.8062441794885948</td>\n",
              "      <td>1.6059094716417508</td>\n",
              "      <td>366.9390399117387</td>\n",
              "      <td>262.67004776127243</td>\n",
              "      <td>8.819133323746897e-06</td>\n",
              "      <td>2.44043797699224e-05</td>\n",
              "      <td>0.035</td>\n",
              "      <td>transportation</td>\n",
              "    </tr>\n",
              "  </tbody>\n",
              "</table>\n",
              "<p>2472 rows × 36 columns</p>\n",
              "</div>"
            ],
            "text/plain": [
              "                        0                     1   ...     34              35\n",
              "0       0.0750316309402404   0.12100053058054512  ...  0.004          indoor\n",
              "1       0.5999448841126763    1.3151887600308363  ...  0.044          indoor\n",
              "2       26.424845066739135    27.881211987959198  ...  0.584          indoor\n",
              "3     0.009907975639937096  0.017343258534586622  ...    0.0          indoor\n",
              "4     0.046786992199580775   0.17622351254504326  ...  0.005          indoor\n",
              "...                    ...                   ...  ...    ...             ...\n",
              "2467       33.519919599565     51.13530731691851  ...  0.614  transportation\n",
              "2468    42.522657326703616    106.91826346469684  ...  1.723  transportation\n",
              "2469  -0.31232577525930766    2.2684280854773555  ...  0.047  transportation\n",
              "2470   -11.260742882359619     22.99351227416115  ...  0.306  transportation\n",
              "2471     0.800870161686571    2.1318106125162934  ...  0.035  transportation\n",
              "\n",
              "[2472 rows x 36 columns]"
            ]
          },
          "metadata": {
            "tags": []
          },
          "execution_count": 9
        },
        {
          "output_type": "stream",
          "text": [
            "time: 1min 53s\n"
          ],
          "name": "stdout"
        }
      ]
    },
    {
      "cell_type": "code",
      "metadata": {
        "id": "tAjJ7sSEMowE",
        "colab_type": "code",
        "outputId": "fd555095-e61b-46c3-ac9e-bc8c92226ffc",
        "colab": {
          "base_uri": "https://localhost:8080/",
          "height": 36
        }
      },
      "source": [
        "from sklearn.preprocessing import StandardScaler\n",
        "scaler = StandardScaler()"
      ],
      "execution_count": 0,
      "outputs": [
        {
          "output_type": "stream",
          "text": [
            "time: 907 µs\n"
          ],
          "name": "stdout"
        }
      ]
    },
    {
      "cell_type": "code",
      "metadata": {
        "id": "NNMn3pb1NmyJ",
        "colab_type": "code",
        "outputId": "8185949a-7889-47e9-b3f5-03a2c9b23357",
        "colab": {
          "base_uri": "https://localhost:8080/",
          "height": 36
        }
      },
      "source": [
        "X,y = df.iloc[:,0:-1], df.iloc[:, -1].values"
      ],
      "execution_count": 0,
      "outputs": [
        {
          "output_type": "stream",
          "text": [
            "time: 2.09 ms\n"
          ],
          "name": "stdout"
        }
      ]
    },
    {
      "cell_type": "code",
      "metadata": {
        "id": "cvXh-1GSNpqw",
        "colab_type": "code",
        "outputId": "bc0a5a5e-61ba-483f-b0f4-18fa2fc5f499",
        "colab": {
          "base_uri": "https://localhost:8080/",
          "height": 36
        }
      },
      "source": [
        "# splitting the data into training and test sets (80:20)\n",
        "from sklearn.model_selection import train_test_split\n",
        "X_train, X_test, y_train, y_test = train_test_split(X, y, test_size=0.2, random_state=42)"
      ],
      "execution_count": 0,
      "outputs": [
        {
          "output_type": "stream",
          "text": [
            "time: 8.72 ms\n"
          ],
          "name": "stdout"
        }
      ]
    },
    {
      "cell_type": "code",
      "metadata": {
        "id": "a6DUiZXyLoTG",
        "colab_type": "code",
        "outputId": "90439e8f-08c7-4956-d6f2-c1c3abe27e16",
        "colab": {
          "base_uri": "https://localhost:8080/",
          "height": 36
        }
      },
      "source": [
        "scaler.fit(X_train)\n",
        "X_train = scaler.transform(X_train)\n",
        "X_test = scaler.transform(X_test)"
      ],
      "execution_count": 0,
      "outputs": [
        {
          "output_type": "stream",
          "text": [
            "time: 59 ms\n"
          ],
          "name": "stdout"
        }
      ]
    },
    {
      "cell_type": "code",
      "metadata": {
        "id": "LY70ZtEXNxAM",
        "colab_type": "code",
        "outputId": "94034f6e-61be-4933-a5cd-aef1a5ee05a0",
        "colab": {
          "base_uri": "https://localhost:8080/",
          "height": 36
        }
      },
      "source": [
        "from sklearn.neighbors import KNeighborsClassifier\n",
        "from sklearn import metrics"
      ],
      "execution_count": 0,
      "outputs": [
        {
          "output_type": "stream",
          "text": [
            "time: 1.19 ms\n"
          ],
          "name": "stdout"
        }
      ]
    },
    {
      "cell_type": "markdown",
      "metadata": {
        "id": "V8M6lD3EtV9m",
        "colab_type": "text"
      },
      "source": [
        "# Building a KNN Model"
      ]
    },
    {
      "cell_type": "code",
      "metadata": {
        "id": "ZfChOFvpN4G_",
        "colab_type": "code",
        "outputId": "ac6b5daa-8637-4fa7-f1d6-c8f799b9414a",
        "colab": {
          "base_uri": "https://localhost:8080/",
          "height": 36
        }
      },
      "source": [
        "def knn_classifier(X_train, X_test, y_train, k):\n",
        "    knn = KNeighborsClassifier(n_neighbors = k)\n",
        "    knn.fit(X_train,y_train)\n",
        "    y_pred = knn.predict(X_test)\n",
        "    return [y_pred, metrics.accuracy_score(y_test,y_pred)]\n",
        "\n",
        "def get_k_accuracy(X_train, X_test, y_train, y_test): \n",
        "\n",
        "    def plot_scores(x,y):\n",
        "        fig, a = plt.subplots(1, figsize = (10, 8))\n",
        "        title = \"Accuracy Score by K values\"\n",
        "        plt.title(title)\n",
        "        plt.xlabel('Value of K for KNN')\n",
        "        plt.ylabel('Testing Accuracy')\n",
        "        a.plot(x, y)\n",
        "\n",
        "    k_range = range(1,15)\n",
        "    scores = {}\n",
        "    scores_list = []\n",
        "\n",
        "    for k in k_range:\n",
        "        y_pred, scores[k] = knn_classifier(X_train, X_test, y_train, k)\n",
        "        scores_list.append(scores[k])\n",
        "\n",
        "    plot_scores(list(k_range), scores_list)\n",
        "    print('Accuracy: ' + str(scores[max(scores, key= scores.get)]))\n",
        "    return max(scores, key= scores.get)\n",
        "\n"
      ],
      "execution_count": 0,
      "outputs": [
        {
          "output_type": "stream",
          "text": [
            "time: 13.7 ms\n"
          ],
          "name": "stdout"
        }
      ]
    },
    {
      "cell_type": "code",
      "metadata": {
        "id": "VBmcnv4aOCKQ",
        "colab_type": "code",
        "outputId": "9f8cb03e-d9d2-408e-8e82-a9a1561bfc9a",
        "colab": {
          "base_uri": "https://localhost:8080/",
          "height": 550
        }
      },
      "source": [
        "k = get_k_accuracy(X_train,X_test, y_train, y_test)\n",
        "knn = KNeighborsClassifier(n_neighbors=k)\n",
        "knn.fit(X_train,y_train)\n",
        "y_pred = knn.predict(X_test)"
      ],
      "execution_count": 0,
      "outputs": [
        {
          "output_type": "stream",
          "text": [
            "Accuracy: 0.7393939393939394\n"
          ],
          "name": "stdout"
        },
        {
          "output_type": "display_data",
          "data": {
            "image/png": "[encoded data removed]",
            "text/plain": [
              "<Figure size 720x576 with 1 Axes>"
            ]
          },
          "metadata": {
            "tags": []
          }
        },
        {
          "output_type": "stream",
          "text": [
            "time: 912 ms\n"
          ],
          "name": "stdout"
        }
      ]
    },
    {
      "cell_type": "code",
      "metadata": {
        "id": "h1JGSISJOGJC",
        "colab_type": "code",
        "outputId": "a69e8c47-8bae-4c6d-e4e9-30f74a608408",
        "colab": {
          "base_uri": "https://localhost:8080/",
          "height": 225
        }
      },
      "source": [
        "from sklearn.decomposition import PCA\n",
        "import seaborn as sns\n",
        "\n",
        "pca1 = PCA(2)\n",
        "trans_pca1 = pca1.fit_transform(X_test)\n",
        "trans_pca1 = pd.DataFrame(trans_pca1)\n",
        "trans_pca1['Labels'] = y_test\n",
        "#trans_pca1['Labels'] = [l for y in y_test for i, l in enumerate(LABELS) if y==i]\n",
        "trans_pca1.columns = ['PC1', 'PC2','Labels']\n",
        "trans_pca1.head()"
      ],
      "execution_count": 0,
      "outputs": [
        {
          "output_type": "execute_result",
          "data": {
            "text/html": [
              "<div>\n",
              "<style scoped>\n",
              "    .dataframe tbody tr th:only-of-type {\n",
              "        vertical-align: middle;\n",
              "    }\n",
              "\n",
              "    .dataframe tbody tr th {\n",
              "        vertical-align: top;\n",
              "    }\n",
              "\n",
              "    .dataframe thead th {\n",
              "        text-align: right;\n",
              "    }\n",
              "</style>\n",
              "<table border=\"1\" class=\"dataframe\">\n",
              "  <thead>\n",
              "    <tr style=\"text-align: right;\">\n",
              "      <th></th>\n",
              "      <th>PC1</th>\n",
              "      <th>PC2</th>\n",
              "      <th>Labels</th>\n",
              "    </tr>\n",
              "  </thead>\n",
              "  <tbody>\n",
              "    <tr>\n",
              "      <th>0</th>\n",
              "      <td>-1.371809</td>\n",
              "      <td>1.845036</td>\n",
              "      <td>outdoor</td>\n",
              "    </tr>\n",
              "    <tr>\n",
              "      <th>1</th>\n",
              "      <td>-0.247427</td>\n",
              "      <td>-1.685454</td>\n",
              "      <td>transportation</td>\n",
              "    </tr>\n",
              "    <tr>\n",
              "      <th>2</th>\n",
              "      <td>-0.965841</td>\n",
              "      <td>-0.580088</td>\n",
              "      <td>outdoor</td>\n",
              "    </tr>\n",
              "    <tr>\n",
              "      <th>3</th>\n",
              "      <td>-2.321734</td>\n",
              "      <td>8.451362</td>\n",
              "      <td>outdoor</td>\n",
              "    </tr>\n",
              "    <tr>\n",
              "      <th>4</th>\n",
              "      <td>-1.205316</td>\n",
              "      <td>0.594304</td>\n",
              "      <td>indoor</td>\n",
              "    </tr>\n",
              "  </tbody>\n",
              "</table>\n",
              "</div>"
            ],
            "text/plain": [
              "        PC1       PC2          Labels\n",
              "0 -1.371809  1.845036         outdoor\n",
              "1 -0.247427 -1.685454  transportation\n",
              "2 -0.965841 -0.580088         outdoor\n",
              "3 -2.321734  8.451362         outdoor\n",
              "4 -1.205316  0.594304          indoor"
            ]
          },
          "metadata": {
            "tags": []
          },
          "execution_count": 30
        },
        {
          "output_type": "stream",
          "text": [
            "time: 30.3 ms\n"
          ],
          "name": "stdout"
        }
      ]
    },
    {
      "cell_type": "code",
      "metadata": {
        "id": "majqyaav44Si",
        "colab_type": "code",
        "outputId": "725196ff-0984-4346-f6d2-5c23c2e5ae51",
        "colab": {
          "base_uri": "https://localhost:8080/",
          "height": 425
        }
      },
      "source": [
        "plt.figure(figsize=(10,6))\n",
        "sns.scatterplot(x=trans_pca1['PC1'], y=trans_pca1['PC2'], hue=trans_pca1['Labels'])"
      ],
      "execution_count": 0,
      "outputs": [
        {
          "output_type": "execute_result",
          "data": {
            "text/plain": [
              "<matplotlib.axes._subplots.AxesSubplot at 0x7fcca2012c88>"
            ]
          },
          "metadata": {
            "tags": []
          },
          "execution_count": 31
        },
        {
          "output_type": "display_data",
          "data": {
            "image/png": "[encoded data removed]",
            "text/plain": [
              "<Figure size 720x432 with 1 Axes>"
            ]
          },
          "metadata": {
            "tags": []
          }
        },
        {
          "output_type": "stream",
          "text": [
            "time: 223 ms\n"
          ],
          "name": "stdout"
        }
      ]
    }
  ]
}