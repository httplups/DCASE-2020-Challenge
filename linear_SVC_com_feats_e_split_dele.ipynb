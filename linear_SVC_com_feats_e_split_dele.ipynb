{
  "nbformat": 4,
  "nbformat_minor": 0,
  "metadata": {
    "colab": {
      "name": "linear SVC com feats do Alvaro - com split dele.ipynb",
      "provenance": [],
      "collapsed_sections": [],
      "machine_shape": "hm"
    },
    "kernelspec": {
      "name": "python3",
      "display_name": "Python 3"
    }
  },
  "cells": [
    {
      "cell_type": "code",
      "metadata": {
        "id": "ptGENpqklOQv",
        "colab_type": "code",
        "outputId": "02781d18-568b-4d65-f9a2-f90eb0d3fad8",
        "colab": {
          "base_uri": "https://localhost:8080/",
          "height": 374
        }
      },
      "source": [
        "import matplotlib.pyplot as plt\n",
        "import numpy as np # linear algebra\n",
        "import pandas as pd\n",
        "import librosa\n",
        "import librosa.display\n",
        "import os\n",
        "from os import path\n",
        "import io\n",
        "!pip3 install soundfile\n",
        "!pip3 install librosa\n",
        "import soundfile as sf\n",
        "import librosa.feature\n"
      ],
      "execution_count": 1,
      "outputs": [
        {
          "output_type": "stream",
          "text": [
            "Collecting soundfile\n",
            "  Downloading https://files.pythonhosted.org/packages/eb/f2/3cbbbf3b96fb9fa91582c438b574cff3f45b29c772f94c400e2c99ef5db9/SoundFile-0.10.3.post1-py2.py3-none-any.whl\n",
            "Requirement already satisfied: cffi>=1.0 in /usr/local/lib/python3.6/dist-packages (from soundfile) (1.14.0)\n",
            "Requirement already satisfied: pycparser in /usr/local/lib/python3.6/dist-packages (from cffi>=1.0->soundfile) (2.20)\n",
            "Installing collected packages: soundfile\n",
            "Successfully installed soundfile-0.10.3.post1\n",
            "Requirement already satisfied: librosa in /usr/local/lib/python3.6/dist-packages (0.6.3)\n",
            "Requirement already satisfied: audioread>=2.0.0 in /usr/local/lib/python3.6/dist-packages (from librosa) (2.1.8)\n",
            "Requirement already satisfied: scipy>=1.0.0 in /usr/local/lib/python3.6/dist-packages (from librosa) (1.4.1)\n",
            "Requirement already satisfied: scikit-learn!=0.19.0,>=0.14.0 in /usr/local/lib/python3.6/dist-packages (from librosa) (0.22.2.post1)\n",
            "Requirement already satisfied: resampy>=0.2.0 in /usr/local/lib/python3.6/dist-packages (from librosa) (0.2.2)\n",
            "Requirement already satisfied: numba>=0.38.0 in /usr/local/lib/python3.6/dist-packages (from librosa) (0.48.0)\n",
            "Requirement already satisfied: joblib>=0.12 in /usr/local/lib/python3.6/dist-packages (from librosa) (0.15.1)\n",
            "Requirement already satisfied: numpy>=1.8.0 in /usr/local/lib/python3.6/dist-packages (from librosa) (1.18.4)\n",
            "Requirement already satisfied: six>=1.3 in /usr/local/lib/python3.6/dist-packages (from librosa) (1.12.0)\n",
            "Requirement already satisfied: decorator>=3.0.0 in /usr/local/lib/python3.6/dist-packages (from librosa) (4.4.2)\n",
            "Requirement already satisfied: setuptools in /usr/local/lib/python3.6/dist-packages (from numba>=0.38.0->librosa) (47.1.1)\n",
            "Requirement already satisfied: llvmlite<0.32.0,>=0.31.0dev0 in /usr/local/lib/python3.6/dist-packages (from numba>=0.38.0->librosa) (0.31.0)\n"
          ],
          "name": "stdout"
        }
      ]
    },
    {
      "cell_type": "code",
      "metadata": {
        "id": "c-kU_a0NruyM",
        "colab_type": "code",
        "outputId": "b016ae65-ce4b-492b-e744-1863b9d376d0",
        "colab": {
          "base_uri": "https://localhost:8080/",
          "height": 205
        }
      },
      "source": [
        "!pip install ipython-autotime\n",
        "\n",
        "%load_ext autotime"
      ],
      "execution_count": 2,
      "outputs": [
        {
          "output_type": "stream",
          "text": [
            "Collecting ipython-autotime\n",
            "  Downloading https://files.pythonhosted.org/packages/e6/f9/0626bbdb322e3a078d968e87e3b01341e7890544de891d0cb613641220e6/ipython-autotime-0.1.tar.bz2\n",
            "Building wheels for collected packages: ipython-autotime\n",
            "  Building wheel for ipython-autotime (setup.py) ... \u001b[?25l\u001b[?25hdone\n",
            "  Created wheel for ipython-autotime: filename=ipython_autotime-0.1-cp36-none-any.whl size=1832 sha256=2273c38259ba9cb1e73b47c9e47dad611080d57b48bfe452328d435a4d9aad91\n",
            "  Stored in directory: /root/.cache/pip/wheels/d2/df/81/2db1e54bc91002cec40334629bc39cfa86dff540b304ebcd6e\n",
            "Successfully built ipython-autotime\n",
            "Installing collected packages: ipython-autotime\n",
            "Successfully installed ipython-autotime-0.1\n"
          ],
          "name": "stdout"
        }
      ]
    },
    {
      "cell_type": "code",
      "metadata": {
        "id": "l3mJ16fN68ns",
        "colab_type": "code",
        "outputId": "77bc2fb3-5795-4d2b-e5b9-6055ec7463cb",
        "colab": {
          "base_uri": "https://localhost:8080/",
          "height": 36
        }
      },
      "source": [
        "LABELS = ['indoor', 'outdoor', 'transportation']"
      ],
      "execution_count": 3,
      "outputs": [
        {
          "output_type": "stream",
          "text": [
            "time: 1.19 ms\n"
          ],
          "name": "stdout"
        }
      ]
    },
    {
      "cell_type": "code",
      "metadata": {
        "id": "A587AkAuzyl8",
        "colab_type": "code",
        "outputId": "96cc85a6-1348-4f51-f555-457b31cd36db",
        "colab": {
          "base_uri": "https://localhost:8080/",
          "height": 36
        }
      },
      "source": [
        "FILEPATH = '/content/drive/My Drive/DCASE 2020 Challenge/TAU Urban Acoustic Scenes 2020 3Class/features.csv'"
      ],
      "execution_count": 4,
      "outputs": [
        {
          "output_type": "stream",
          "text": [
            "time: 1.06 ms\n"
          ],
          "name": "stdout"
        }
      ]
    },
    {
      "cell_type": "markdown",
      "metadata": {
        "id": "zCC0EbABtCfB",
        "colab_type": "text"
      },
      "source": [
        "Labels:\n",
        "\n",
        "\n",
        "0.   Indoor\n",
        "1.   Outdoor\n",
        "2.   Transportation\n",
        "\n"
      ]
    },
    {
      "cell_type": "code",
      "metadata": {
        "id": "bvib9vlm3hVm",
        "colab_type": "code",
        "outputId": "325fb203-30f5-46a3-e5a9-3993cebd0b62",
        "colab": {
          "base_uri": "https://localhost:8080/",
          "height": 36
        }
      },
      "source": [
        "def clear_csv(FILEPATH):\n",
        "    if os.path.exists(FILEPATH):\n",
        "        # clear the file\n",
        "        f = open(FILEPATH, \"w\")\n",
        "        f.truncate()\n",
        "        f.close()"
      ],
      "execution_count": 5,
      "outputs": [
        {
          "output_type": "stream",
          "text": [
            "time: 2.26 ms\n"
          ],
          "name": "stdout"
        }
      ]
    },
    {
      "cell_type": "markdown",
      "metadata": {
        "id": "3eQS2FIKz-3Y",
        "colab_type": "text"
      },
      "source": [
        "# Getting Features\n",
        "\n",
        "1.   Centroid Mean\n",
        "2.   Centroid STD\n",
        "3.   Flatness Mean\n",
        "4.   Flatness STD\n",
        "5.   RMS\n",
        "\n"
      ]
    },
    {
      "cell_type": "code",
      "metadata": {
        "id": "MMDTe_UtA_Qz",
        "colab_type": "code",
        "outputId": "ca5fc8b9-9c37-4c91-b40a-882191dfa7b3",
        "colab": {
          "base_uri": "https://localhost:8080/",
          "height": 355
        }
      },
      "source": [
        "BASE_PATH = '/content/drive/My Drive/DCASE 2020 Challenge/TAU Urban Acoustic Scenes 2020 3Class/'\n",
        "df = pd.DataFrame()\n",
        "for i in range(1,17):\n",
        "    filepath = BASE_PATH + 'FEATSALVARO/output-nomfcc' + str(i) +'.csv'\n",
        "    print(filepath)\n",
        "    new = pd.read_csv(filepath)\n",
        "    df = pd.concat([df,new])"
      ],
      "execution_count": 300,
      "outputs": [
        {
          "output_type": "stream",
          "text": [
            "/content/drive/My Drive/DCASE 2020 Challenge/TAU Urban Acoustic Scenes 2020 3Class/FEATSALVARO/output-nomfcc1.csv\n",
            "/content/drive/My Drive/DCASE 2020 Challenge/TAU Urban Acoustic Scenes 2020 3Class/FEATSALVARO/output-nomfcc2.csv\n",
            "/content/drive/My Drive/DCASE 2020 Challenge/TAU Urban Acoustic Scenes 2020 3Class/FEATSALVARO/output-nomfcc3.csv\n",
            "/content/drive/My Drive/DCASE 2020 Challenge/TAU Urban Acoustic Scenes 2020 3Class/FEATSALVARO/output-nomfcc4.csv\n",
            "/content/drive/My Drive/DCASE 2020 Challenge/TAU Urban Acoustic Scenes 2020 3Class/FEATSALVARO/output-nomfcc5.csv\n",
            "/content/drive/My Drive/DCASE 2020 Challenge/TAU Urban Acoustic Scenes 2020 3Class/FEATSALVARO/output-nomfcc6.csv\n",
            "/content/drive/My Drive/DCASE 2020 Challenge/TAU Urban Acoustic Scenes 2020 3Class/FEATSALVARO/output-nomfcc7.csv\n",
            "/content/drive/My Drive/DCASE 2020 Challenge/TAU Urban Acoustic Scenes 2020 3Class/FEATSALVARO/output-nomfcc8.csv\n",
            "/content/drive/My Drive/DCASE 2020 Challenge/TAU Urban Acoustic Scenes 2020 3Class/FEATSALVARO/output-nomfcc9.csv\n",
            "/content/drive/My Drive/DCASE 2020 Challenge/TAU Urban Acoustic Scenes 2020 3Class/FEATSALVARO/output-nomfcc10.csv\n",
            "/content/drive/My Drive/DCASE 2020 Challenge/TAU Urban Acoustic Scenes 2020 3Class/FEATSALVARO/output-nomfcc11.csv\n",
            "/content/drive/My Drive/DCASE 2020 Challenge/TAU Urban Acoustic Scenes 2020 3Class/FEATSALVARO/output-nomfcc12.csv\n",
            "/content/drive/My Drive/DCASE 2020 Challenge/TAU Urban Acoustic Scenes 2020 3Class/FEATSALVARO/output-nomfcc13.csv\n",
            "/content/drive/My Drive/DCASE 2020 Challenge/TAU Urban Acoustic Scenes 2020 3Class/FEATSALVARO/output-nomfcc14.csv\n",
            "/content/drive/My Drive/DCASE 2020 Challenge/TAU Urban Acoustic Scenes 2020 3Class/FEATSALVARO/output-nomfcc15.csv\n",
            "/content/drive/My Drive/DCASE 2020 Challenge/TAU Urban Acoustic Scenes 2020 3Class/FEATSALVARO/output-nomfcc16.csv\n",
            "time: 832 ms\n"
          ],
          "name": "stdout"
        }
      ]
    },
    {
      "cell_type": "code",
      "metadata": {
        "id": "0eBXntuZZ5X-",
        "colab_type": "code",
        "outputId": "4c383a2f-faaa-4264-8351-e4a3411dfb1c",
        "colab": {
          "base_uri": "https://localhost:8080/",
          "height": 592
        }
      },
      "source": [
        "df.head()"
      ],
      "execution_count": 301,
      "outputs": [
        {
          "output_type": "execute_result",
          "data": {
            "text/html": [
              "<div>\n",
              "<style scoped>\n",
              "    .dataframe tbody tr th:only-of-type {\n",
              "        vertical-align: middle;\n",
              "    }\n",
              "\n",
              "    .dataframe tbody tr th {\n",
              "        vertical-align: top;\n",
              "    }\n",
              "\n",
              "    .dataframe thead th {\n",
              "        text-align: right;\n",
              "    }\n",
              "</style>\n",
              "<table border=\"1\" class=\"dataframe\">\n",
              "  <thead>\n",
              "    <tr style=\"text-align: right;\">\n",
              "      <th></th>\n",
              "      <th>0</th>\n",
              "      <th>1</th>\n",
              "      <th>2</th>\n",
              "      <th>3</th>\n",
              "      <th>4</th>\n",
              "      <th>5</th>\n",
              "      <th>6</th>\n",
              "      <th>7</th>\n",
              "      <th>8</th>\n",
              "      <th>9</th>\n",
              "      <th>10</th>\n",
              "      <th>11</th>\n",
              "      <th>12</th>\n",
              "      <th>13</th>\n",
              "      <th>14</th>\n",
              "      <th>15</th>\n",
              "      <th>16</th>\n",
              "      <th>17</th>\n",
              "    </tr>\n",
              "  </thead>\n",
              "  <tbody>\n",
              "    <tr>\n",
              "      <th>0</th>\n",
              "      <td>2067.040860</td>\n",
              "      <td>314.869340</td>\n",
              "      <td>0.001209</td>\n",
              "      <td>0.000798</td>\n",
              "      <td>0.002049</td>\n",
              "      <td>0.000470</td>\n",
              "      <td>-596.583604</td>\n",
              "      <td>162.614480</td>\n",
              "      <td>-0.670808</td>\n",
              "      <td>21.993716</td>\n",
              "      <td>16.195587</td>\n",
              "      <td>11.842820</td>\n",
              "      <td>11.357465</td>\n",
              "      <td>9.448603</td>\n",
              "      <td>8.314201</td>\n",
              "      <td>6.413948</td>\n",
              "      <td>/content/drive/My Drive/tavares/soundfiles/TAU...</td>\n",
              "      <td>indoor</td>\n",
              "    </tr>\n",
              "    <tr>\n",
              "      <th>1</th>\n",
              "      <td>2395.956778</td>\n",
              "      <td>837.186014</td>\n",
              "      <td>0.002879</td>\n",
              "      <td>0.004073</td>\n",
              "      <td>0.002581</td>\n",
              "      <td>0.000732</td>\n",
              "      <td>-561.432028</td>\n",
              "      <td>164.141569</td>\n",
              "      <td>-10.586786</td>\n",
              "      <td>11.820866</td>\n",
              "      <td>18.119139</td>\n",
              "      <td>23.761645</td>\n",
              "      <td>22.446430</td>\n",
              "      <td>15.891833</td>\n",
              "      <td>7.592193</td>\n",
              "      <td>8.502080</td>\n",
              "      <td>/content/drive/My Drive/tavares/soundfiles/TAU...</td>\n",
              "      <td>indoor</td>\n",
              "    </tr>\n",
              "    <tr>\n",
              "      <th>2</th>\n",
              "      <td>2135.921705</td>\n",
              "      <td>951.448528</td>\n",
              "      <td>0.002354</td>\n",
              "      <td>0.006510</td>\n",
              "      <td>0.002719</td>\n",
              "      <td>0.000589</td>\n",
              "      <td>-562.937612</td>\n",
              "      <td>172.182573</td>\n",
              "      <td>-4.441985</td>\n",
              "      <td>12.757403</td>\n",
              "      <td>14.173953</td>\n",
              "      <td>15.298843</td>\n",
              "      <td>18.722191</td>\n",
              "      <td>10.421974</td>\n",
              "      <td>8.023156</td>\n",
              "      <td>6.573807</td>\n",
              "      <td>/content/drive/My Drive/tavares/soundfiles/TAU...</td>\n",
              "      <td>indoor</td>\n",
              "    </tr>\n",
              "    <tr>\n",
              "      <th>3</th>\n",
              "      <td>3453.224033</td>\n",
              "      <td>2039.474046</td>\n",
              "      <td>0.009713</td>\n",
              "      <td>0.018070</td>\n",
              "      <td>0.002108</td>\n",
              "      <td>0.000442</td>\n",
              "      <td>-550.226488</td>\n",
              "      <td>139.243877</td>\n",
              "      <td>0.369526</td>\n",
              "      <td>16.225726</td>\n",
              "      <td>10.133525</td>\n",
              "      <td>45.845596</td>\n",
              "      <td>31.659723</td>\n",
              "      <td>15.694685</td>\n",
              "      <td>12.090169</td>\n",
              "      <td>11.095157</td>\n",
              "      <td>/content/drive/My Drive/tavares/soundfiles/TAU...</td>\n",
              "      <td>indoor</td>\n",
              "    </tr>\n",
              "    <tr>\n",
              "      <th>4</th>\n",
              "      <td>2306.123043</td>\n",
              "      <td>400.195968</td>\n",
              "      <td>0.002110</td>\n",
              "      <td>0.001470</td>\n",
              "      <td>0.001713</td>\n",
              "      <td>0.000348</td>\n",
              "      <td>-591.877872</td>\n",
              "      <td>158.679170</td>\n",
              "      <td>-3.883430</td>\n",
              "      <td>22.450031</td>\n",
              "      <td>18.368381</td>\n",
              "      <td>26.561454</td>\n",
              "      <td>11.428342</td>\n",
              "      <td>10.014569</td>\n",
              "      <td>8.082940</td>\n",
              "      <td>7.796495</td>\n",
              "      <td>/content/drive/My Drive/tavares/soundfiles/TAU...</td>\n",
              "      <td>indoor</td>\n",
              "    </tr>\n",
              "  </tbody>\n",
              "</table>\n",
              "</div>"
            ],
            "text/plain": [
              "             0  ...      17\n",
              "0  2067.040860  ...  indoor\n",
              "1  2395.956778  ...  indoor\n",
              "2  2135.921705  ...  indoor\n",
              "3  3453.224033  ...  indoor\n",
              "4  2306.123043  ...  indoor\n",
              "\n",
              "[5 rows x 18 columns]"
            ]
          },
          "metadata": {
            "tags": []
          },
          "execution_count": 301
        },
        {
          "output_type": "stream",
          "text": [
            "time: 48.1 ms\n"
          ],
          "name": "stdout"
        }
      ]
    },
    {
      "cell_type": "markdown",
      "metadata": {
        "id": "kLSCI9hNawBf",
        "colab_type": "text"
      },
      "source": [
        "Factorizar nomes das musicas"
      ]
    },
    {
      "cell_type": "code",
      "metadata": {
        "id": "Rtnt0bQia0i-",
        "colab_type": "code",
        "outputId": "58d286db-3f58-4eda-8e76-f4b25365326d",
        "colab": {
          "base_uri": "https://localhost:8080/",
          "height": 36
        }
      },
      "source": [
        "#df['16'], unique = pd.factorize(df['16'])\n",
        "#df.head(), unique"
      ],
      "execution_count": 302,
      "outputs": [
        {
          "output_type": "stream",
          "text": [
            "time: 938 µs\n"
          ],
          "name": "stdout"
        }
      ]
    },
    {
      "cell_type": "markdown",
      "metadata": {
        "id": "MVj8QDg2bMap",
        "colab_type": "text"
      },
      "source": [
        "Factor Labels"
      ]
    },
    {
      "cell_type": "code",
      "metadata": {
        "id": "BxuGmcMCbPya",
        "colab_type": "code",
        "outputId": "576e778e-5923-48dd-f9ee-8767735b7b7a",
        "colab": {
          "base_uri": "https://localhost:8080/",
          "height": 36
        }
      },
      "source": [
        "#df['17'], unique = pd.factorize(df['17'])\n",
        "#unique"
      ],
      "execution_count": 303,
      "outputs": [
        {
          "output_type": "stream",
          "text": [
            "time: 890 µs\n"
          ],
          "name": "stdout"
        }
      ]
    },
    {
      "cell_type": "code",
      "metadata": {
        "id": "nPnMhrEc9TEp",
        "colab_type": "code",
        "colab": {
          "base_uri": "https://localhost:8080/",
          "height": 592
        },
        "outputId": "5dd9b7da-af49-4caf-ef25-fd617f9d41aa"
      },
      "source": [
        "df.head()"
      ],
      "execution_count": 304,
      "outputs": [
        {
          "output_type": "execute_result",
          "data": {
            "text/html": [
              "<div>\n",
              "<style scoped>\n",
              "    .dataframe tbody tr th:only-of-type {\n",
              "        vertical-align: middle;\n",
              "    }\n",
              "\n",
              "    .dataframe tbody tr th {\n",
              "        vertical-align: top;\n",
              "    }\n",
              "\n",
              "    .dataframe thead th {\n",
              "        text-align: right;\n",
              "    }\n",
              "</style>\n",
              "<table border=\"1\" class=\"dataframe\">\n",
              "  <thead>\n",
              "    <tr style=\"text-align: right;\">\n",
              "      <th></th>\n",
              "      <th>0</th>\n",
              "      <th>1</th>\n",
              "      <th>2</th>\n",
              "      <th>3</th>\n",
              "      <th>4</th>\n",
              "      <th>5</th>\n",
              "      <th>6</th>\n",
              "      <th>7</th>\n",
              "      <th>8</th>\n",
              "      <th>9</th>\n",
              "      <th>10</th>\n",
              "      <th>11</th>\n",
              "      <th>12</th>\n",
              "      <th>13</th>\n",
              "      <th>14</th>\n",
              "      <th>15</th>\n",
              "      <th>16</th>\n",
              "      <th>17</th>\n",
              "    </tr>\n",
              "  </thead>\n",
              "  <tbody>\n",
              "    <tr>\n",
              "      <th>0</th>\n",
              "      <td>2067.040860</td>\n",
              "      <td>314.869340</td>\n",
              "      <td>0.001209</td>\n",
              "      <td>0.000798</td>\n",
              "      <td>0.002049</td>\n",
              "      <td>0.000470</td>\n",
              "      <td>-596.583604</td>\n",
              "      <td>162.614480</td>\n",
              "      <td>-0.670808</td>\n",
              "      <td>21.993716</td>\n",
              "      <td>16.195587</td>\n",
              "      <td>11.842820</td>\n",
              "      <td>11.357465</td>\n",
              "      <td>9.448603</td>\n",
              "      <td>8.314201</td>\n",
              "      <td>6.413948</td>\n",
              "      <td>/content/drive/My Drive/tavares/soundfiles/TAU...</td>\n",
              "      <td>indoor</td>\n",
              "    </tr>\n",
              "    <tr>\n",
              "      <th>1</th>\n",
              "      <td>2395.956778</td>\n",
              "      <td>837.186014</td>\n",
              "      <td>0.002879</td>\n",
              "      <td>0.004073</td>\n",
              "      <td>0.002581</td>\n",
              "      <td>0.000732</td>\n",
              "      <td>-561.432028</td>\n",
              "      <td>164.141569</td>\n",
              "      <td>-10.586786</td>\n",
              "      <td>11.820866</td>\n",
              "      <td>18.119139</td>\n",
              "      <td>23.761645</td>\n",
              "      <td>22.446430</td>\n",
              "      <td>15.891833</td>\n",
              "      <td>7.592193</td>\n",
              "      <td>8.502080</td>\n",
              "      <td>/content/drive/My Drive/tavares/soundfiles/TAU...</td>\n",
              "      <td>indoor</td>\n",
              "    </tr>\n",
              "    <tr>\n",
              "      <th>2</th>\n",
              "      <td>2135.921705</td>\n",
              "      <td>951.448528</td>\n",
              "      <td>0.002354</td>\n",
              "      <td>0.006510</td>\n",
              "      <td>0.002719</td>\n",
              "      <td>0.000589</td>\n",
              "      <td>-562.937612</td>\n",
              "      <td>172.182573</td>\n",
              "      <td>-4.441985</td>\n",
              "      <td>12.757403</td>\n",
              "      <td>14.173953</td>\n",
              "      <td>15.298843</td>\n",
              "      <td>18.722191</td>\n",
              "      <td>10.421974</td>\n",
              "      <td>8.023156</td>\n",
              "      <td>6.573807</td>\n",
              "      <td>/content/drive/My Drive/tavares/soundfiles/TAU...</td>\n",
              "      <td>indoor</td>\n",
              "    </tr>\n",
              "    <tr>\n",
              "      <th>3</th>\n",
              "      <td>3453.224033</td>\n",
              "      <td>2039.474046</td>\n",
              "      <td>0.009713</td>\n",
              "      <td>0.018070</td>\n",
              "      <td>0.002108</td>\n",
              "      <td>0.000442</td>\n",
              "      <td>-550.226488</td>\n",
              "      <td>139.243877</td>\n",
              "      <td>0.369526</td>\n",
              "      <td>16.225726</td>\n",
              "      <td>10.133525</td>\n",
              "      <td>45.845596</td>\n",
              "      <td>31.659723</td>\n",
              "      <td>15.694685</td>\n",
              "      <td>12.090169</td>\n",
              "      <td>11.095157</td>\n",
              "      <td>/content/drive/My Drive/tavares/soundfiles/TAU...</td>\n",
              "      <td>indoor</td>\n",
              "    </tr>\n",
              "    <tr>\n",
              "      <th>4</th>\n",
              "      <td>2306.123043</td>\n",
              "      <td>400.195968</td>\n",
              "      <td>0.002110</td>\n",
              "      <td>0.001470</td>\n",
              "      <td>0.001713</td>\n",
              "      <td>0.000348</td>\n",
              "      <td>-591.877872</td>\n",
              "      <td>158.679170</td>\n",
              "      <td>-3.883430</td>\n",
              "      <td>22.450031</td>\n",
              "      <td>18.368381</td>\n",
              "      <td>26.561454</td>\n",
              "      <td>11.428342</td>\n",
              "      <td>10.014569</td>\n",
              "      <td>8.082940</td>\n",
              "      <td>7.796495</td>\n",
              "      <td>/content/drive/My Drive/tavares/soundfiles/TAU...</td>\n",
              "      <td>indoor</td>\n",
              "    </tr>\n",
              "  </tbody>\n",
              "</table>\n",
              "</div>"
            ],
            "text/plain": [
              "             0  ...      17\n",
              "0  2067.040860  ...  indoor\n",
              "1  2395.956778  ...  indoor\n",
              "2  2135.921705  ...  indoor\n",
              "3  3453.224033  ...  indoor\n",
              "4  2306.123043  ...  indoor\n",
              "\n",
              "[5 rows x 18 columns]"
            ]
          },
          "metadata": {
            "tags": []
          },
          "execution_count": 304
        },
        {
          "output_type": "stream",
          "text": [
            "time: 41.6 ms\n"
          ],
          "name": "stdout"
        }
      ]
    },
    {
      "cell_type": "code",
      "metadata": {
        "id": "vf-964vL9dDd",
        "colab_type": "code",
        "outputId": "41f32094-d83e-434f-c30e-a6f78f34c181",
        "colab": {
          "base_uri": "https://localhost:8080/",
          "height": 36
        }
      },
      "source": [
        "#df = df[df['17'] != 1]"
      ],
      "execution_count": 305,
      "outputs": [
        {
          "output_type": "stream",
          "text": [
            "time: 807 µs\n"
          ],
          "name": "stdout"
        }
      ]
    },
    {
      "cell_type": "code",
      "metadata": {
        "id": "7UdDG9J__TDR",
        "colab_type": "code",
        "outputId": "1fc4b07b-e736-41e8-9c33-608b1deba984",
        "colab": {
          "base_uri": "https://localhost:8080/",
          "height": 36
        }
      },
      "source": [
        "#df[df['17'] != 0].shape, df[df['17'] != 2].shape"
      ],
      "execution_count": 306,
      "outputs": [
        {
          "output_type": "stream",
          "text": [
            "time: 856 µs\n"
          ],
          "name": "stdout"
        }
      ]
    },
    {
      "cell_type": "code",
      "metadata": {
        "id": "J0GMDyiLnQno",
        "colab_type": "code",
        "outputId": "f9615bcc-8643-463d-b72c-7db7c2d1b85e",
        "colab": {
          "base_uri": "https://localhost:8080/",
          "height": 36
        }
      },
      "source": [
        "#df.sample(frac=0.1, random_state=1)"
      ],
      "execution_count": 307,
      "outputs": [
        {
          "output_type": "stream",
          "text": [
            "time: 791 µs\n"
          ],
          "name": "stdout"
        }
      ]
    },
    {
      "cell_type": "markdown",
      "metadata": {
        "id": "1OFRH-tEdkEQ",
        "colab_type": "text"
      },
      "source": [
        "DF: Descrição\n",
        "\n",
        "        features\n",
        "*   0-9: MFCSS (media e std, respectivamente)\n",
        "*   20: média centroide \n",
        "*   21: std centroide\n",
        "*   22: media flatness\n",
        "*   23: std flatness\n",
        "*   24: rms\n",
        "\n",
        "        outros\n",
        "*   25: LABEL\n",
        "*   26: Music_id\n",
        "\n",
        "\n",
        "\n",
        "\n"
      ]
    },
    {
      "cell_type": "code",
      "metadata": {
        "id": "b7yrSNVe1tc4",
        "colab_type": "code",
        "outputId": "10aacbb7-2a5c-45ea-e1ee-c86c85d5713b",
        "colab": {
          "base_uri": "https://localhost:8080/",
          "height": 36
        }
      },
      "source": [
        "from sklearn.model_selection import GroupShuffleSplit\n",
        "from sklearn.preprocessing import StandardScaler\n",
        "from sklearn.neighbors import KNeighborsClassifier\n",
        "from sklearn import metrics\n",
        "import pickle\n",
        "from collections import Counter\n",
        "from sklearn.decomposition import PCA\n",
        "import seaborn as sns"
      ],
      "execution_count": 308,
      "outputs": [
        {
          "output_type": "stream",
          "text": [
            "time: 2.96 ms\n"
          ],
          "name": "stdout"
        }
      ]
    },
    {
      "cell_type": "markdown",
      "metadata": {
        "id": "3ya_9cIj-I0x",
        "colab_type": "text"
      },
      "source": [
        "Split no dataframe baseado em grupos do número da música"
      ]
    },
    {
      "cell_type": "code",
      "metadata": {
        "id": "D82SnW0XxcAQ",
        "colab_type": "code",
        "outputId": "72cfaf5c-9b72-444e-ec53-916d29ab1a80",
        "colab": {
          "base_uri": "https://localhost:8080/",
          "height": 36
        }
      },
      "source": [
        "def split_by_music_id(df):\n",
        "    coluna_ids_musica = len(df.columns) - 2\n",
        "    train_inds, test_inds = next(GroupShuffleSplit(test_size=.20, random_state = 42).split(df, groups=df.iloc[:,coluna_ids_musica].values))\n",
        "    return [train_inds, test_inds]"
      ],
      "execution_count": 309,
      "outputs": [
        {
          "output_type": "stream",
          "text": [
            "time: 3.01 ms\n"
          ],
          "name": "stdout"
        }
      ]
    },
    {
      "cell_type": "markdown",
      "metadata": {
        "id": "jO9K4pcEvFVk",
        "colab_type": "text"
      },
      "source": [
        "Split no dataframe selecionado, em teste e treino"
      ]
    },
    {
      "cell_type": "code",
      "metadata": {
        "id": "HhFtUoQv3BoH",
        "colab_type": "code",
        "outputId": "bdaa61cd-0daa-46ff-b2d6-23db2c159ba6",
        "colab": {
          "base_uri": "https://localhost:8080/",
          "height": 36
        }
      },
      "source": [
        "def split_train_test(df,train_inds, test_inds):\n",
        "    X_train = (df.iloc[train_inds, 0:-2])\n",
        "    X_test = (df.iloc[test_inds,0:-2])\n",
        "    y_train = (df.iloc[train_inds,[-2,-1]]).values\n",
        "    y_test = (df.iloc[test_inds,[-2,-1]]).values\n",
        "    print(X_train.shape, X_test.shape, y_train.shape, y_test.shape)\n",
        "    return [X_train, X_test, y_train, y_test]"
      ],
      "execution_count": 310,
      "outputs": [
        {
          "output_type": "stream",
          "text": [
            "time: 4.83 ms\n"
          ],
          "name": "stdout"
        }
      ]
    },
    {
      "cell_type": "code",
      "metadata": {
        "id": "a6DUiZXyLoTG",
        "colab_type": "code",
        "outputId": "5c657a23-14ab-45e1-dc1e-ba7cc3e1bb6b",
        "colab": {
          "base_uri": "https://localhost:8080/",
          "height": 36
        }
      },
      "source": [
        "def standardize(X_train, X_test):\n",
        "    scaler = StandardScaler()\n",
        "    scaler.fit(X_train.values)\n",
        "    X_train = scaler.transform(X_train.values)\n",
        "    X_test = scaler.transform(X_test.values)\n",
        "    return [X_train, X_test]"
      ],
      "execution_count": 311,
      "outputs": [
        {
          "output_type": "stream",
          "text": [
            "time: 3.06 ms\n"
          ],
          "name": "stdout"
        }
      ]
    },
    {
      "cell_type": "markdown",
      "metadata": {
        "id": "0U0XQuSjPmCB",
        "colab_type": "text"
      },
      "source": [
        "# Linear SVC Classifier"
      ]
    },
    {
      "cell_type": "code",
      "metadata": {
        "id": "oWw4aOINED0h",
        "colab_type": "code",
        "outputId": "601c4400-99f6-496f-dd9f-82867116de5b",
        "colab": {
          "base_uri": "https://localhost:8080/",
          "height": 36
        }
      },
      "source": [
        "from sklearn.svm import SVC\n",
        "from sklearn.metrics import confusion_matrix,classification_report, plot_confusion_matrix, accuracy_score, confusion_matrix\n",
        "from sklearn.model_selection import cross_val_score, GridSearchCV\n",
        "from sklearn.svm import LinearSVC\n",
        "from sklearn.externals import joblib"
      ],
      "execution_count": 312,
      "outputs": [
        {
          "output_type": "stream",
          "text": [
            "time: 3 ms\n"
          ],
          "name": "stdout"
        }
      ]
    },
    {
      "cell_type": "code",
      "metadata": {
        "id": "jcjNVJNAAT7m",
        "colab_type": "code",
        "outputId": "f239f44b-64b7-4321-f8fb-7c865822d832",
        "colab": {
          "base_uri": "https://localhost:8080/",
          "height": 36
        }
      },
      "source": [
        "def get_model_linearSVC(X_train,y_train, y_test, X_test):\n",
        "    C = [0.001, 0.01, 0.1, 1, 10, 100]\n",
        "    for c in C:\n",
        "        LSVC = LinearSVC(C = c, dual=False)\n",
        "        LSVC.fit(X_train,y_train)\n",
        "        y_pred = LSVC.predict(X_test)\n",
        "        \n",
        "        print(\"C: \", c)\n",
        "        print(\"LSVC Accuracy :\", accuracy_score(y_test, y_pred))\n",
        "    filename = BASE_PATH + 'linearsvc_no_esp.pkl'\n",
        "    joblib.dump(LSVC, filename,compress=0)\n",
        "    return LSVC, y_pred"
      ],
      "execution_count": 313,
      "outputs": [
        {
          "output_type": "stream",
          "text": [
            "time: 7.97 ms\n"
          ],
          "name": "stdout"
        }
      ]
    },
    {
      "cell_type": "markdown",
      "metadata": {
        "id": "jQAceUVb-qqG",
        "colab_type": "text"
      },
      "source": [
        "Contagem das predições para cada música"
      ]
    },
    {
      "cell_type": "code",
      "metadata": {
        "id": "TvoU3jjJuJV3",
        "colab_type": "code",
        "outputId": "9f8f4e4b-d963-4019-f2fa-414c82cc5102",
        "colab": {
          "base_uri": "https://localhost:8080/",
          "height": 36
        }
      },
      "source": [
        "def plot_cf(y_pred, y_test):\n",
        "    print(classification_report(y_test, y_pred))"
      ],
      "execution_count": 314,
      "outputs": [
        {
          "output_type": "stream",
          "text": [
            "time: 1.2 ms\n"
          ],
          "name": "stdout"
        }
      ]
    },
    {
      "cell_type": "code",
      "metadata": {
        "id": "MKLX-sbyRk--",
        "colab_type": "code",
        "colab": {
          "base_uri": "https://localhost:8080/",
          "height": 36
        },
        "outputId": "e19974f6-9df6-46ee-91d4-51daf9625f0c"
      },
      "source": [
        "def contagem_e_votacao(test_vs_pred):\n",
        "    dic_names = dict()\n",
        "    #print(len(test_vs_pred['16']))\n",
        "    music_names_unique = np.unique(test_vs_pred['16'])\n",
        "    for id in music_names_unique:\n",
        "        dic_names[id] = []\n",
        "    #print(len(dic_names))\n",
        "\n",
        "    for name, label, pred in test_vs_pred.values:\n",
        "        #print(name, label, pred)\n",
        "        dic_names[name].append(pred)\n",
        "    counter = [Counter(pred) for name,pred in dic_names.items()]\n",
        "    #print(counter)\n",
        "    \n",
        "    #print(np.unique(y_test[1]))\n",
        "    #print(counter, y_test)\n",
        "    music_y_pred = [max(x, key=x.get) for x in counter]\n",
        "    #print(music_y_pred)\n",
        "    #print(len(music_y_pred))\n",
        "    music_y_test = (test_vs_pred[['16','17']].drop_duplicates())['17'].values\n",
        "    #print((music_y_test))\n",
        "    plot_cf(music_y_pred, music_y_test)\n",
        "    return metrics.accuracy_score(music_y_test,music_y_pred)"
      ],
      "execution_count": 315,
      "outputs": [
        {
          "output_type": "stream",
          "text": [
            "time: 9.88 ms\n"
          ],
          "name": "stdout"
        }
      ]
    },
    {
      "cell_type": "code",
      "metadata": {
        "id": "h1JGSISJOGJC",
        "colab_type": "code",
        "outputId": "4625cbc7-304c-4db7-951f-a39dc5ebc3b4",
        "colab": {
          "base_uri": "https://localhost:8080/",
          "height": 36
        }
      },
      "source": [
        "def pca(X_test, y_test):\n",
        "    pca = PCA(3)\n",
        "    trans_pca = pca.fit_transform(X_test)\n",
        "    trans_pca = pd.DataFrame(trans_pca)\n",
        "    trans_pca['Labels'] = y_test\n",
        "    trans_pca[\"Labels\"] = [\"$%s$\" % x for x in trans_pca[\"Labels\"]]\n",
        "    print(pca.explained_variance_)\n",
        "    trans_pca.columns = ['PC1', 'PC2','PC3','Labels']\n",
        "    plt.figure(figsize=(10,6))\n",
        "    sns.scatterplot(x=trans_pca['PC1'], y=trans_pca['PC2'], hue=trans_pca['Labels'])"
      ],
      "execution_count": 316,
      "outputs": [
        {
          "output_type": "stream",
          "text": [
            "time: 5.41 ms\n"
          ],
          "name": "stdout"
        }
      ]
    },
    {
      "cell_type": "code",
      "metadata": {
        "id": "3IeI_Ivns5qB",
        "colab_type": "code",
        "colab": {
          "base_uri": "https://localhost:8080/",
          "height": 36
        },
        "outputId": "934a956e-e582-4d9a-bfd8-b9494706d057"
      },
      "source": [
        "def get_split_alvaro(df):\n",
        "\n",
        "    train_names = pd.read_pickle(BASE_PATH + 'FEATSALVARO/X_train.pickle')\n",
        "    test_names = pd.read_pickle(BASE_PATH + 'FEATSALVARO/X_test.pickle')\n",
        "    ytr = pd.read_pickle(BASE_PATH + 'FEATSALVARO/y_train.pickle')\n",
        "    yts = pd.read_pickle(BASE_PATH + 'FEATSALVARO/y_test.pickle')\n",
        "    X_train = df.loc[df['16'].isin(train_names)]\n",
        "    X_test = df.loc[df['16'].isin(test_names)]\n",
        "    y_train = X_train[['16', '17']]\n",
        "    y_test = X_test[['16', '17']]\n",
        "    X_train = X_train.drop(columns=['16','17'])\n",
        "    X_test = X_test.drop(columns=['16','17'])\n",
        "    #print(y_train, y_test,X_train, X_test)\n",
        "    print(len(ytr), len(yts))\n",
        "    print(len(y_train['17'].values), len(y_test['17'].values))\n",
        "    print('---')\n",
        "    print(len(train_names), len(test_names))\n",
        "    print(len(X_train), len(X_test))\n",
        "    return [X_train, X_test, y_train, y_test]\n"
      ],
      "execution_count": 330,
      "outputs": [
        {
          "output_type": "stream",
          "text": [
            "time: 15.5 ms\n"
          ],
          "name": "stdout"
        }
      ]
    },
    {
      "cell_type": "code",
      "metadata": {
        "id": "q0EsTBVtqGxz",
        "colab_type": "code",
        "outputId": "e86728f5-6d0b-4d0b-8893-a71f9aaf0c16",
        "colab": {
          "base_uri": "https://localhost:8080/",
          "height": 36
        }
      },
      "source": [
        "def classify(df):\n",
        "    X_train, X_test, y_train, y_test = get_split_alvaro(df)\n",
        "    X_train, X_test = standardize(X_train, X_test)\n",
        "    model, y_pred = get_model_linearSVC(X_train, y_train['17'].values, y_test['17'].values, X_test)\n",
        "    test_vs_pred = y_test\n",
        "    test_vs_pred['pred'] = y_pred\n",
        "    final_accuracy = contagem_e_votacao(test_vs_pred)\n",
        "    pca(X_test, y_test['17'].values)\n",
        "    return final_accuracy"
      ],
      "execution_count": 332,
      "outputs": [
        {
          "output_type": "stream",
          "text": [
            "time: 3.98 ms\n"
          ],
          "name": "stdout"
        }
      ]
    },
    {
      "cell_type": "code",
      "metadata": {
        "id": "KVQPJn_Vs3w9",
        "colab_type": "code",
        "outputId": "a1e36b12-2bba-4a94-c9cf-c7205905a0e8",
        "colab": {
          "base_uri": "https://localhost:8080/",
          "height": 968
        }
      },
      "source": [
        "acc = classify(df)\n",
        "print(acc)"
      ],
      "execution_count": 333,
      "outputs": [
        {
          "output_type": "stream",
          "text": [
            "1332 334\n",
            "7470 1760\n",
            "---\n",
            "1332 334\n",
            "7470 1760\n",
            "1332\n",
            "C:  0.001\n",
            "LSVC Accuracy : 0.7926136363636364\n",
            "C:  0.01\n",
            "LSVC Accuracy : 0.8107954545454545\n",
            "C:  0.1\n",
            "LSVC Accuracy : 0.8164772727272728\n",
            "C:  1\n",
            "LSVC Accuracy : 0.8170454545454545\n",
            "C:  10\n",
            "LSVC Accuracy : 0.8176136363636364\n",
            "C:  100\n",
            "LSVC Accuracy : 0.8176136363636364\n",
            "                precision    recall  f1-score   support\n",
            "\n",
            "        indoor       0.75      0.82      0.78        61\n",
            "       outdoor       0.97      0.91      0.94        35\n",
            "transportation       0.87      0.82      0.85        80\n",
            "\n",
            "      accuracy                           0.84       176\n",
            "     macro avg       0.86      0.85      0.86       176\n",
            "  weighted avg       0.85      0.84      0.84       176\n",
            "\n",
            "[6.40809259 3.38248961 2.81853009]\n",
            "0.8409090909090909\n"
          ],
          "name": "stdout"
        },
        {
          "output_type": "display_data",
          "data": {
            "image/png": "[encoded data removed]",
            "text/plain": [
              "<Figure size 720x432 with 1 Axes>"
            ]
          },
          "metadata": {
            "tags": [],
            "needs_background": "light"
          }
        },
        {
          "output_type": "stream",
          "text": [
            "time: 851 ms\n"
          ],
          "name": "stdout"
        }
      ]
    },
    {
      "cell_type": "markdown",
      "metadata": {
        "id": "CzuqbBdT9lXV",
        "colab_type": "text"
      },
      "source": [
        "Tamanho do modelo em KB"
      ]
    },
    {
      "cell_type": "code",
      "metadata": {
        "id": "f-0YEVYucJL3",
        "colab_type": "code",
        "outputId": "7c3597ee-0379-4f0a-d9bb-45c807161f80",
        "colab": {
          "base_uri": "https://localhost:8080/",
          "height": 36
        }
      },
      "source": [
        "(os.path.getsize(BASE_PATH + 'linearsvc_no_esp.pkl')/1024)"
      ],
      "execution_count": 320,
      "outputs": [
        {
          "output_type": "execute_result",
          "data": {
            "text/plain": [
              "1.2119140625"
            ]
          },
          "metadata": {
            "tags": []
          },
          "execution_count": 320
        },
        {
          "output_type": "stream",
          "text": [
            "time: 3.51 ms\n"
          ],
          "name": "stdout"
        }
      ]
    }
  ]
}