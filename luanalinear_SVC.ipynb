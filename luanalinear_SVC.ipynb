{
  "nbformat": 4,
  "nbformat_minor": 0,
  "metadata": {
    "colab": {
      "name": "linear SVC com feats do Alvaro.ipynb",
      "provenance": [],
      "collapsed_sections": [],
      "machine_shape": "hm"
    },
    "kernelspec": {
      "name": "python3",
      "display_name": "Python 3"
    }
  },
  "cells": [
    {
      "cell_type": "code",
      "metadata": {
        "id": "ptGENpqklOQv",
        "colab_type": "code",
        "outputId": "8e881f12-e74b-4e4b-a793-38a44edc5c53",
        "colab": {
          "base_uri": "https://localhost:8080/",
          "height": 374
        }
      },
      "source": [
        "import matplotlib.pyplot as plt\n",
        "import numpy as np # linear algebra\n",
        "import pandas as pd\n",
        "import librosa\n",
        "import librosa.display\n",
        "import os\n",
        "from os import path\n",
        "import io\n",
        "!pip3 install soundfile\n",
        "!pip3 install librosa\n",
        "import soundfile as sf\n",
        "import librosa.feature\n"
      ],
      "execution_count": 3,
      "outputs": [
        {
          "output_type": "stream",
          "text": [
            "Collecting soundfile\n",
            "  Downloading https://files.pythonhosted.org/packages/eb/f2/3cbbbf3b96fb9fa91582c438b574cff3f45b29c772f94c400e2c99ef5db9/SoundFile-0.10.3.post1-py2.py3-none-any.whl\n",
            "Requirement already satisfied: cffi>=1.0 in /usr/local/lib/python3.6/dist-packages (from soundfile) (1.14.0)\n",
            "Requirement already satisfied: pycparser in /usr/local/lib/python3.6/dist-packages (from cffi>=1.0->soundfile) (2.20)\n",
            "Installing collected packages: soundfile\n",
            "Successfully installed soundfile-0.10.3.post1\n",
            "Requirement already satisfied: librosa in /usr/local/lib/python3.6/dist-packages (0.6.3)\n",
            "Requirement already satisfied: numba>=0.38.0 in /usr/local/lib/python3.6/dist-packages (from librosa) (0.48.0)\n",
            "Requirement already satisfied: joblib>=0.12 in /usr/local/lib/python3.6/dist-packages (from librosa) (0.15.1)\n",
            "Requirement already satisfied: resampy>=0.2.0 in /usr/local/lib/python3.6/dist-packages (from librosa) (0.2.2)\n",
            "Requirement already satisfied: audioread>=2.0.0 in /usr/local/lib/python3.6/dist-packages (from librosa) (2.1.8)\n",
            "Requirement already satisfied: six>=1.3 in /usr/local/lib/python3.6/dist-packages (from librosa) (1.12.0)\n",
            "Requirement already satisfied: decorator>=3.0.0 in /usr/local/lib/python3.6/dist-packages (from librosa) (4.4.2)\n",
            "Requirement already satisfied: numpy>=1.8.0 in /usr/local/lib/python3.6/dist-packages (from librosa) (1.18.4)\n",
            "Requirement already satisfied: scikit-learn!=0.19.0,>=0.14.0 in /usr/local/lib/python3.6/dist-packages (from librosa) (0.22.2.post1)\n",
            "Requirement already satisfied: scipy>=1.0.0 in /usr/local/lib/python3.6/dist-packages (from librosa) (1.4.1)\n",
            "Requirement already satisfied: llvmlite<0.32.0,>=0.31.0dev0 in /usr/local/lib/python3.6/dist-packages (from numba>=0.38.0->librosa) (0.31.0)\n",
            "Requirement already satisfied: setuptools in /usr/local/lib/python3.6/dist-packages (from numba>=0.38.0->librosa) (46.4.0)\n"
          ],
          "name": "stdout"
        }
      ]
    },
    {
      "cell_type": "code",
      "metadata": {
        "id": "c-kU_a0NruyM",
        "colab_type": "code",
        "outputId": "86b9fb30-cdf5-4437-c4a3-4e6f3bfef4ef",
        "colab": {
          "base_uri": "https://localhost:8080/",
          "height": 205
        }
      },
      "source": [
        "!pip install ipython-autotime\n",
        "\n",
        "%load_ext autotime"
      ],
      "execution_count": 4,
      "outputs": [
        {
          "output_type": "stream",
          "text": [
            "Collecting ipython-autotime\n",
            "  Downloading https://files.pythonhosted.org/packages/e6/f9/0626bbdb322e3a078d968e87e3b01341e7890544de891d0cb613641220e6/ipython-autotime-0.1.tar.bz2\n",
            "Building wheels for collected packages: ipython-autotime\n",
            "  Building wheel for ipython-autotime (setup.py) ... \u001b[?25l\u001b[?25hdone\n",
            "  Created wheel for ipython-autotime: filename=ipython_autotime-0.1-cp36-none-any.whl size=1832 sha256=edea42b733e33332a9762164339700f4a24e83f680053aed511d5837dffa7bb0\n",
            "  Stored in directory: /root/.cache/pip/wheels/d2/df/81/2db1e54bc91002cec40334629bc39cfa86dff540b304ebcd6e\n",
            "Successfully built ipython-autotime\n",
            "Installing collected packages: ipython-autotime\n",
            "Successfully installed ipython-autotime-0.1\n"
          ],
          "name": "stdout"
        }
      ]
    },
    {
      "cell_type": "code",
      "metadata": {
        "id": "l3mJ16fN68ns",
        "colab_type": "code",
        "outputId": "9d6505d6-e1c1-4b19-ec5b-ce3226657a9c",
        "colab": {
          "base_uri": "https://localhost:8080/",
          "height": 36
        }
      },
      "source": [
        "LABELS = ['indoor', 'outdoor', 'transportation']"
      ],
      "execution_count": 5,
      "outputs": [
        {
          "output_type": "stream",
          "text": [
            "time: 1.12 ms\n"
          ],
          "name": "stdout"
        }
      ]
    },
    {
      "cell_type": "code",
      "metadata": {
        "id": "A587AkAuzyl8",
        "colab_type": "code",
        "outputId": "8e9af35d-463c-49bf-920d-488c0471cba0",
        "colab": {
          "base_uri": "https://localhost:8080/",
          "height": 36
        }
      },
      "source": [
        "FILEPATH = '/content/drive/My Drive/DCASE 2020 Challenge/TAU Urban Acoustic Scenes 2020 3Class/features.csv'"
      ],
      "execution_count": 6,
      "outputs": [
        {
          "output_type": "stream",
          "text": [
            "time: 670 µs\n"
          ],
          "name": "stdout"
        }
      ]
    },
    {
      "cell_type": "markdown",
      "metadata": {
        "id": "zCC0EbABtCfB",
        "colab_type": "text"
      },
      "source": [
        "Labels:\n",
        "\n",
        "\n",
        "0.   Indoor\n",
        "1.   Outdoor\n",
        "2.   Transportation\n",
        "\n"
      ]
    },
    {
      "cell_type": "code",
      "metadata": {
        "id": "bvib9vlm3hVm",
        "colab_type": "code",
        "outputId": "43001110-9a3d-4212-ec5a-be951fd9e57a",
        "colab": {
          "base_uri": "https://localhost:8080/",
          "height": 36
        }
      },
      "source": [
        "def clear_csv(FILEPATH):\n",
        "    if os.path.exists(FILEPATH):\n",
        "        # clear the file\n",
        "        f = open(FILEPATH, \"w\")\n",
        "        f.truncate()\n",
        "        f.close()"
      ],
      "execution_count": 7,
      "outputs": [
        {
          "output_type": "stream",
          "text": [
            "time: 4.79 ms\n"
          ],
          "name": "stdout"
        }
      ]
    },
    {
      "cell_type": "markdown",
      "metadata": {
        "id": "3eQS2FIKz-3Y",
        "colab_type": "text"
      },
      "source": [
        "# Getting Features\n",
        "\n",
        "1.   Centroid Mean\n",
        "2.   Centroid STD\n",
        "3.   Flatness Mean\n",
        "4.   Flatness STD\n",
        "5.   RMS\n",
        "\n"
      ]
    },
    {
      "cell_type": "code",
      "metadata": {
        "id": "MMDTe_UtA_Qz",
        "colab_type": "code",
        "outputId": "4152684e-1f68-4970-a18a-07c2d9bb0cc9",
        "colab": {
          "base_uri": "https://localhost:8080/",
          "height": 355
        }
      },
      "source": [
        "BASE_PATH = '/content/drive/My Drive/DCASE 2020 Challenge/TAU Urban Acoustic Scenes 2020 3Class/'\n",
        "df = pd.DataFrame()\n",
        "for i in range(1,17):\n",
        "    filepath = BASE_PATH + 'FEATSALVARO/output-nomfcc' + str(i) +'.csv'\n",
        "    print(filepath)\n",
        "    new = pd.read_csv(filepath)\n",
        "    df = pd.concat([df,new])"
      ],
      "execution_count": 8,
      "outputs": [
        {
          "output_type": "stream",
          "text": [
            "/content/drive/My Drive/DCASE 2020 Challenge/TAU Urban Acoustic Scenes 2020 3Class/FEATSALVARO/output-nomfcc1.csv\n",
            "/content/drive/My Drive/DCASE 2020 Challenge/TAU Urban Acoustic Scenes 2020 3Class/FEATSALVARO/output-nomfcc2.csv\n",
            "/content/drive/My Drive/DCASE 2020 Challenge/TAU Urban Acoustic Scenes 2020 3Class/FEATSALVARO/output-nomfcc3.csv\n",
            "/content/drive/My Drive/DCASE 2020 Challenge/TAU Urban Acoustic Scenes 2020 3Class/FEATSALVARO/output-nomfcc4.csv\n",
            "/content/drive/My Drive/DCASE 2020 Challenge/TAU Urban Acoustic Scenes 2020 3Class/FEATSALVARO/output-nomfcc5.csv\n",
            "/content/drive/My Drive/DCASE 2020 Challenge/TAU Urban Acoustic Scenes 2020 3Class/FEATSALVARO/output-nomfcc6.csv\n",
            "/content/drive/My Drive/DCASE 2020 Challenge/TAU Urban Acoustic Scenes 2020 3Class/FEATSALVARO/output-nomfcc7.csv\n",
            "/content/drive/My Drive/DCASE 2020 Challenge/TAU Urban Acoustic Scenes 2020 3Class/FEATSALVARO/output-nomfcc8.csv\n",
            "/content/drive/My Drive/DCASE 2020 Challenge/TAU Urban Acoustic Scenes 2020 3Class/FEATSALVARO/output-nomfcc9.csv\n",
            "/content/drive/My Drive/DCASE 2020 Challenge/TAU Urban Acoustic Scenes 2020 3Class/FEATSALVARO/output-nomfcc10.csv\n",
            "/content/drive/My Drive/DCASE 2020 Challenge/TAU Urban Acoustic Scenes 2020 3Class/FEATSALVARO/output-nomfcc11.csv\n",
            "/content/drive/My Drive/DCASE 2020 Challenge/TAU Urban Acoustic Scenes 2020 3Class/FEATSALVARO/output-nomfcc12.csv\n",
            "/content/drive/My Drive/DCASE 2020 Challenge/TAU Urban Acoustic Scenes 2020 3Class/FEATSALVARO/output-nomfcc13.csv\n",
            "/content/drive/My Drive/DCASE 2020 Challenge/TAU Urban Acoustic Scenes 2020 3Class/FEATSALVARO/output-nomfcc14.csv\n",
            "/content/drive/My Drive/DCASE 2020 Challenge/TAU Urban Acoustic Scenes 2020 3Class/FEATSALVARO/output-nomfcc15.csv\n",
            "/content/drive/My Drive/DCASE 2020 Challenge/TAU Urban Acoustic Scenes 2020 3Class/FEATSALVARO/output-nomfcc16.csv\n",
            "time: 18.6 s\n"
          ],
          "name": "stdout"
        }
      ]
    },
    {
      "cell_type": "code",
      "metadata": {
        "id": "0eBXntuZZ5X-",
        "colab_type": "code",
        "colab": {
          "base_uri": "https://localhost:8080/",
          "height": 592
        },
        "outputId": "93beb89a-69bd-4044-fde7-13fbb31ffa4e"
      },
      "source": [
        "df.head()"
      ],
      "execution_count": 9,
      "outputs": [
        {
          "output_type": "execute_result",
          "data": {
            "text/html": [
              "<div>\n",
              "<style scoped>\n",
              "    .dataframe tbody tr th:only-of-type {\n",
              "        vertical-align: middle;\n",
              "    }\n",
              "\n",
              "    .dataframe tbody tr th {\n",
              "        vertical-align: top;\n",
              "    }\n",
              "\n",
              "    .dataframe thead th {\n",
              "        text-align: right;\n",
              "    }\n",
              "</style>\n",
              "<table border=\"1\" class=\"dataframe\">\n",
              "  <thead>\n",
              "    <tr style=\"text-align: right;\">\n",
              "      <th></th>\n",
              "      <th>0</th>\n",
              "      <th>1</th>\n",
              "      <th>2</th>\n",
              "      <th>3</th>\n",
              "      <th>4</th>\n",
              "      <th>5</th>\n",
              "      <th>6</th>\n",
              "      <th>7</th>\n",
              "      <th>8</th>\n",
              "      <th>9</th>\n",
              "      <th>10</th>\n",
              "      <th>11</th>\n",
              "      <th>12</th>\n",
              "      <th>13</th>\n",
              "      <th>14</th>\n",
              "      <th>15</th>\n",
              "      <th>16</th>\n",
              "      <th>17</th>\n",
              "    </tr>\n",
              "  </thead>\n",
              "  <tbody>\n",
              "    <tr>\n",
              "      <th>0</th>\n",
              "      <td>2067.040860</td>\n",
              "      <td>314.869340</td>\n",
              "      <td>0.001209</td>\n",
              "      <td>0.000798</td>\n",
              "      <td>0.002049</td>\n",
              "      <td>0.000470</td>\n",
              "      <td>-596.583604</td>\n",
              "      <td>162.614480</td>\n",
              "      <td>-0.670808</td>\n",
              "      <td>21.993716</td>\n",
              "      <td>16.195587</td>\n",
              "      <td>11.842820</td>\n",
              "      <td>11.357465</td>\n",
              "      <td>9.448603</td>\n",
              "      <td>8.314201</td>\n",
              "      <td>6.413948</td>\n",
              "      <td>/content/drive/My Drive/tavares/soundfiles/TAU...</td>\n",
              "      <td>indoor</td>\n",
              "    </tr>\n",
              "    <tr>\n",
              "      <th>1</th>\n",
              "      <td>2395.956778</td>\n",
              "      <td>837.186014</td>\n",
              "      <td>0.002879</td>\n",
              "      <td>0.004073</td>\n",
              "      <td>0.002581</td>\n",
              "      <td>0.000732</td>\n",
              "      <td>-561.432028</td>\n",
              "      <td>164.141569</td>\n",
              "      <td>-10.586786</td>\n",
              "      <td>11.820866</td>\n",
              "      <td>18.119139</td>\n",
              "      <td>23.761645</td>\n",
              "      <td>22.446430</td>\n",
              "      <td>15.891833</td>\n",
              "      <td>7.592193</td>\n",
              "      <td>8.502080</td>\n",
              "      <td>/content/drive/My Drive/tavares/soundfiles/TAU...</td>\n",
              "      <td>indoor</td>\n",
              "    </tr>\n",
              "    <tr>\n",
              "      <th>2</th>\n",
              "      <td>2135.921705</td>\n",
              "      <td>951.448528</td>\n",
              "      <td>0.002354</td>\n",
              "      <td>0.006510</td>\n",
              "      <td>0.002719</td>\n",
              "      <td>0.000589</td>\n",
              "      <td>-562.937612</td>\n",
              "      <td>172.182573</td>\n",
              "      <td>-4.441985</td>\n",
              "      <td>12.757403</td>\n",
              "      <td>14.173953</td>\n",
              "      <td>15.298843</td>\n",
              "      <td>18.722191</td>\n",
              "      <td>10.421974</td>\n",
              "      <td>8.023156</td>\n",
              "      <td>6.573807</td>\n",
              "      <td>/content/drive/My Drive/tavares/soundfiles/TAU...</td>\n",
              "      <td>indoor</td>\n",
              "    </tr>\n",
              "    <tr>\n",
              "      <th>3</th>\n",
              "      <td>3453.224033</td>\n",
              "      <td>2039.474046</td>\n",
              "      <td>0.009713</td>\n",
              "      <td>0.018070</td>\n",
              "      <td>0.002108</td>\n",
              "      <td>0.000442</td>\n",
              "      <td>-550.226488</td>\n",
              "      <td>139.243877</td>\n",
              "      <td>0.369526</td>\n",
              "      <td>16.225726</td>\n",
              "      <td>10.133525</td>\n",
              "      <td>45.845596</td>\n",
              "      <td>31.659723</td>\n",
              "      <td>15.694685</td>\n",
              "      <td>12.090169</td>\n",
              "      <td>11.095157</td>\n",
              "      <td>/content/drive/My Drive/tavares/soundfiles/TAU...</td>\n",
              "      <td>indoor</td>\n",
              "    </tr>\n",
              "    <tr>\n",
              "      <th>4</th>\n",
              "      <td>2306.123043</td>\n",
              "      <td>400.195968</td>\n",
              "      <td>0.002110</td>\n",
              "      <td>0.001470</td>\n",
              "      <td>0.001713</td>\n",
              "      <td>0.000348</td>\n",
              "      <td>-591.877872</td>\n",
              "      <td>158.679170</td>\n",
              "      <td>-3.883430</td>\n",
              "      <td>22.450031</td>\n",
              "      <td>18.368381</td>\n",
              "      <td>26.561454</td>\n",
              "      <td>11.428342</td>\n",
              "      <td>10.014569</td>\n",
              "      <td>8.082940</td>\n",
              "      <td>7.796495</td>\n",
              "      <td>/content/drive/My Drive/tavares/soundfiles/TAU...</td>\n",
              "      <td>indoor</td>\n",
              "    </tr>\n",
              "  </tbody>\n",
              "</table>\n",
              "</div>"
            ],
            "text/plain": [
              "             0  ...      17\n",
              "0  2067.040860  ...  indoor\n",
              "1  2395.956778  ...  indoor\n",
              "2  2135.921705  ...  indoor\n",
              "3  3453.224033  ...  indoor\n",
              "4  2306.123043  ...  indoor\n",
              "\n",
              "[5 rows x 18 columns]"
            ]
          },
          "metadata": {
            "tags": []
          },
          "execution_count": 9
        },
        {
          "output_type": "stream",
          "text": [
            "time: 45.1 ms\n"
          ],
          "name": "stdout"
        }
      ]
    },
    {
      "cell_type": "markdown",
      "metadata": {
        "id": "kLSCI9hNawBf",
        "colab_type": "text"
      },
      "source": [
        "Factorizar nomes das musicas"
      ]
    },
    {
      "cell_type": "code",
      "metadata": {
        "id": "Rtnt0bQia0i-",
        "colab_type": "code",
        "colab": {
          "base_uri": "https://localhost:8080/",
          "height": 598
        },
        "outputId": "8b7f3d57-5eea-4cdd-fc39-c9e792fb1e0c"
      },
      "source": [
        "df['16'], unique = pd.factorize(df['16'])\n",
        "df.head(), unique"
      ],
      "execution_count": 10,
      "outputs": [
        {
          "output_type": "execute_result",
          "data": {
            "text/plain": [
              "(             0            1         2  ...         15  16      17\n",
              " 0  2067.040860   314.869340  0.001209  ...   6.413948   0  indoor\n",
              " 1  2395.956778   837.186014  0.002879  ...   8.502080   0  indoor\n",
              " 2  2135.921705   951.448528  0.002354  ...   6.573807   0  indoor\n",
              " 3  3453.224033  2039.474046  0.009713  ...  11.095157   0  indoor\n",
              " 4  2306.123043   400.195968  0.002110  ...   7.796495   0  indoor\n",
              " \n",
              " [5 rows x 18 columns],\n",
              " Index(['/content/drive/My Drive/tavares/soundfiles/TAU-urban-acoustic-scenes-2020-3class-development/audio/airport-barcelona-0-0-a.wav',\n",
              "        '/content/drive/My Drive/tavares/soundfiles/TAU-urban-acoustic-scenes-2020-3class-development/audio/airport-barcelona-0-1-a.wav',\n",
              "        '/content/drive/My Drive/tavares/soundfiles/TAU-urban-acoustic-scenes-2020-3class-development/audio/airport-barcelona-0-10-a.wav',\n",
              "        '/content/drive/My Drive/tavares/soundfiles/TAU-urban-acoustic-scenes-2020-3class-development/audio/airport-barcelona-0-11-a.wav',\n",
              "        '/content/drive/My Drive/tavares/soundfiles/TAU-urban-acoustic-scenes-2020-3class-development/audio/airport-barcelona-0-12-a.wav',\n",
              "        '/content/drive/My Drive/tavares/soundfiles/TAU-urban-acoustic-scenes-2020-3class-development/audio/airport-barcelona-0-13-a.wav',\n",
              "        '/content/drive/My Drive/tavares/soundfiles/TAU-urban-acoustic-scenes-2020-3class-development/audio/airport-barcelona-0-14-a.wav',\n",
              "        '/content/drive/My Drive/tavares/soundfiles/TAU-urban-acoustic-scenes-2020-3class-development/audio/airport-barcelona-0-15-a.wav',\n",
              "        '/content/drive/My Drive/tavares/soundfiles/TAU-urban-acoustic-scenes-2020-3class-development/audio/airport-barcelona-0-2-a.wav',\n",
              "        '/content/drive/My Drive/tavares/soundfiles/TAU-urban-acoustic-scenes-2020-3class-development/audio/airport-barcelona-0-3-a.wav',\n",
              "        ...\n",
              "        '/content/drive/My Drive/tavares/soundfiles/TAU-urban-acoustic-scenes-2020-3class-development/audio/street_pedestrian-prague-1037-40672-a.wav',\n",
              "        '/content/drive/My Drive/tavares/soundfiles/TAU-urban-acoustic-scenes-2020-3class-development/audio/street_pedestrian-prague-1037-40827-a.wav',\n",
              "        '/content/drive/My Drive/tavares/soundfiles/TAU-urban-acoustic-scenes-2020-3class-development/audio/street_pedestrian-prague-1037-40957-a.wav',\n",
              "        '/content/drive/My Drive/tavares/soundfiles/TAU-urban-acoustic-scenes-2020-3class-development/audio/street_pedestrian-prague-1037-40998-a.wav',\n",
              "        '/content/drive/My Drive/tavares/soundfiles/TAU-urban-acoustic-scenes-2020-3class-development/audio/street_pedestrian-prague-1037-41211-a.wav',\n",
              "        '/content/drive/My Drive/tavares/soundfiles/TAU-urban-acoustic-scenes-2020-3class-development/audio/street_pedestrian-prague-1037-41235-a.wav',\n",
              "        '/content/drive/My Drive/tavares/soundfiles/TAU-urban-acoustic-scenes-2020-3class-development/audio/street_pedestrian-prague-1037-41246-a.wav',\n",
              "        '/content/drive/My Drive/tavares/soundfiles/TAU-urban-acoustic-scenes-2020-3class-development/audio/street_pedestrian-prague-1037-41296-a.wav',\n",
              "        '/content/drive/My Drive/tavares/soundfiles/TAU-urban-acoustic-scenes-2020-3class-development/audio/street_pedestrian-prague-1037-41369-a.wav',\n",
              "        '/content/drive/My Drive/tavares/soundfiles/TAU-urban-acoustic-scenes-2020-3class-development/audio/street_pedestrian-prague-1037-41660-a.wav'],\n",
              "       dtype='object', length=11104))"
            ]
          },
          "metadata": {
            "tags": []
          },
          "execution_count": 10
        },
        {
          "output_type": "stream",
          "text": [
            "time: 47.2 ms\n"
          ],
          "name": "stdout"
        }
      ]
    },
    {
      "cell_type": "markdown",
      "metadata": {
        "id": "MVj8QDg2bMap",
        "colab_type": "text"
      },
      "source": [
        "Factor Labels"
      ]
    },
    {
      "cell_type": "code",
      "metadata": {
        "id": "BxuGmcMCbPya",
        "colab_type": "code",
        "colab": {
          "base_uri": "https://localhost:8080/",
          "height": 36
        },
        "outputId": "c83fa24c-5712-49a7-a0b9-13ca9dea58e8"
      },
      "source": [
        "df['17'], unique = pd.factorize(df['17'])\n",
        "unique"
      ],
      "execution_count": 11,
      "outputs": [
        {
          "output_type": "execute_result",
          "data": {
            "text/plain": [
              "Index(['indoor', 'transportation', 'outdoor'], dtype='object')"
            ]
          },
          "metadata": {
            "tags": []
          },
          "execution_count": 11
        },
        {
          "output_type": "stream",
          "text": [
            "time: 9.34 ms\n"
          ],
          "name": "stdout"
        }
      ]
    },
    {
      "cell_type": "code",
      "metadata": {
        "id": "J0GMDyiLnQno",
        "colab_type": "code",
        "colab": {
          "base_uri": "https://localhost:8080/",
          "height": 36
        },
        "outputId": "01cf9b66-0841-467c-ae88-28923ecd5d0d"
      },
      "source": [
        "#df.sample(frac=0.1, random_state=1)"
      ],
      "execution_count": 12,
      "outputs": [
        {
          "output_type": "stream",
          "text": [
            "time: 702 µs\n"
          ],
          "name": "stdout"
        }
      ]
    },
    {
      "cell_type": "markdown",
      "metadata": {
        "id": "1OFRH-tEdkEQ",
        "colab_type": "text"
      },
      "source": [
        "DF: Descrição\n",
        "\n",
        "        features\n",
        "*   0-9: MFCSS (media e std, respectivamente)\n",
        "*   20: média centroide \n",
        "*   21: std centroide\n",
        "*   22: media flatness\n",
        "*   23: std flatness\n",
        "*   24: rms\n",
        "\n",
        "        outros\n",
        "*   25: LABEL\n",
        "*   26: Music_id\n",
        "\n",
        "\n",
        "\n",
        "\n"
      ]
    },
    {
      "cell_type": "code",
      "metadata": {
        "id": "b7yrSNVe1tc4",
        "colab_type": "code",
        "outputId": "f2a83e10-76a6-496b-daed-bc18518b4631",
        "colab": {
          "base_uri": "https://localhost:8080/",
          "height": 93
        }
      },
      "source": [
        "from sklearn.model_selection import GroupShuffleSplit\n",
        "from sklearn.preprocessing import StandardScaler\n",
        "from sklearn.neighbors import KNeighborsClassifier\n",
        "from sklearn import metrics\n",
        "import pickle\n",
        "from collections import Counter\n",
        "from sklearn.decomposition import PCA\n",
        "import seaborn as sns"
      ],
      "execution_count": 13,
      "outputs": [
        {
          "output_type": "stream",
          "text": [
            "time: 33.9 ms\n"
          ],
          "name": "stdout"
        },
        {
          "output_type": "stream",
          "text": [
            "/usr/local/lib/python3.6/dist-packages/statsmodels/tools/_testing.py:19: FutureWarning: pandas.util.testing is deprecated. Use the functions in the public API at pandas.testing instead.\n",
            "  import pandas.util.testing as tm\n"
          ],
          "name": "stderr"
        }
      ]
    },
    {
      "cell_type": "markdown",
      "metadata": {
        "id": "3ya_9cIj-I0x",
        "colab_type": "text"
      },
      "source": [
        "Split no dataframe baseado em grupos do número da música"
      ]
    },
    {
      "cell_type": "code",
      "metadata": {
        "id": "D82SnW0XxcAQ",
        "colab_type": "code",
        "outputId": "639ec5c6-80eb-4a51-9696-a7889893ff6b",
        "colab": {
          "base_uri": "https://localhost:8080/",
          "height": 36
        }
      },
      "source": [
        "def split_by_music_id(df):\n",
        "    coluna_ids_musica = len(df.columns) - 2\n",
        "    train_inds, test_inds = next(GroupShuffleSplit(test_size=.20, random_state = 42).split(df, groups=df.iloc[:,coluna_ids_musica].values))\n",
        "    return [train_inds, test_inds]"
      ],
      "execution_count": 27,
      "outputs": [
        {
          "output_type": "stream",
          "text": [
            "time: 2.15 ms\n"
          ],
          "name": "stdout"
        }
      ]
    },
    {
      "cell_type": "markdown",
      "metadata": {
        "id": "jO9K4pcEvFVk",
        "colab_type": "text"
      },
      "source": [
        "Split no dataframe selecionado, em teste e treino"
      ]
    },
    {
      "cell_type": "code",
      "metadata": {
        "id": "HhFtUoQv3BoH",
        "colab_type": "code",
        "outputId": "8d709b65-2171-4d2c-bcf1-f51dd817f575",
        "colab": {
          "base_uri": "https://localhost:8080/",
          "height": 36
        }
      },
      "source": [
        "def split_train_test(df,train_inds, test_inds):\n",
        "    X_train = (df.iloc[train_inds, 0:-2])\n",
        "    X_test = (df.iloc[test_inds,0:-2])\n",
        "    y_train = (df.iloc[train_inds,[-2,-1]]).values\n",
        "    y_test = (df.iloc[test_inds,[-2,-1]]).values\n",
        "    print(X_train.shape, X_test.shape, y_train.shape, y_test.shape)\n",
        "    return [X_train, X_test, y_train, y_test]"
      ],
      "execution_count": 15,
      "outputs": [
        {
          "output_type": "stream",
          "text": [
            "time: 4.64 ms\n"
          ],
          "name": "stdout"
        }
      ]
    },
    {
      "cell_type": "code",
      "metadata": {
        "id": "a6DUiZXyLoTG",
        "colab_type": "code",
        "outputId": "d2d261c2-d01d-4e4f-bbe0-afc2e4778dde",
        "colab": {
          "base_uri": "https://localhost:8080/",
          "height": 36
        }
      },
      "source": [
        "def standardize(X_train, X_test):\n",
        "    scaler = StandardScaler()\n",
        "    scaler.fit(X_train.values)\n",
        "    X_train = scaler.transform(X_train.values)\n",
        "    X_test = scaler.transform(X_test.values)\n",
        "    return [X_train, X_test]"
      ],
      "execution_count": 16,
      "outputs": [
        {
          "output_type": "stream",
          "text": [
            "time: 2.25 ms\n"
          ],
          "name": "stdout"
        }
      ]
    },
    {
      "cell_type": "markdown",
      "metadata": {
        "id": "0U0XQuSjPmCB",
        "colab_type": "text"
      },
      "source": [
        "# Linear SVC Classifier"
      ]
    },
    {
      "cell_type": "code",
      "metadata": {
        "id": "oWw4aOINED0h",
        "colab_type": "code",
        "outputId": "3eabfafa-5311-4014-ec6e-c6c6cd398678",
        "colab": {
          "base_uri": "https://localhost:8080/",
          "height": 93
        }
      },
      "source": [
        "from sklearn.svm import SVC\n",
        "from sklearn.metrics import confusion_matrix,classification_report, plot_confusion_matrix, accuracy_score, confusion_matrix\n",
        "from sklearn.model_selection import cross_val_score, GridSearchCV\n",
        "from sklearn.svm import LinearSVC\n",
        "from sklearn.externals import joblib"
      ],
      "execution_count": 17,
      "outputs": [
        {
          "output_type": "stream",
          "text": [
            "time: 4.71 ms\n"
          ],
          "name": "stdout"
        },
        {
          "output_type": "stream",
          "text": [
            "/usr/local/lib/python3.6/dist-packages/sklearn/externals/joblib/__init__.py:15: FutureWarning: sklearn.externals.joblib is deprecated in 0.21 and will be removed in 0.23. Please import this functionality directly from joblib, which can be installed with: pip install joblib. If this warning is raised when loading pickled models, you may need to re-serialize those models with scikit-learn 0.21+.\n",
            "  warnings.warn(msg, category=FutureWarning)\n"
          ],
          "name": "stderr"
        }
      ]
    },
    {
      "cell_type": "code",
      "metadata": {
        "id": "jcjNVJNAAT7m",
        "colab_type": "code",
        "outputId": "fb5cde5c-2084-4225-aded-c13674592150",
        "colab": {
          "base_uri": "https://localhost:8080/",
          "height": 36
        }
      },
      "source": [
        "def get_model_linearSVC(X_train,y_train, y_test, X_test):\n",
        "    C = [0.001, 0.01, 0.1, 1, 10, 100]\n",
        "    for c in C:\n",
        "        LSVC = LinearSVC(C = c, dual=False)\n",
        "        LSVC.fit(X_train,y_train)\n",
        "        y_pred = LSVC.predict(X_test)\n",
        "        \n",
        "        #print(\"C: \", c)\n",
        "        #print(\"LSVC Accuracy :\", accuracy_score(y_test, y_pred))\n",
        "    filename = BASE_PATH + 'linearsvc_no_esp.pkl'\n",
        "    joblib.dump(LSVC, filename,compress=0)\n",
        "    return LSVC, y_pred"
      ],
      "execution_count": 18,
      "outputs": [
        {
          "output_type": "stream",
          "text": [
            "time: 3.88 ms\n"
          ],
          "name": "stdout"
        }
      ]
    },
    {
      "cell_type": "markdown",
      "metadata": {
        "id": "jQAceUVb-qqG",
        "colab_type": "text"
      },
      "source": [
        "Contagem das predições para cada música"
      ]
    },
    {
      "cell_type": "code",
      "metadata": {
        "id": "TvoU3jjJuJV3",
        "colab_type": "code",
        "outputId": "7dbef6bc-3eab-4831-d7d6-037dcb1f79fe",
        "colab": {
          "base_uri": "https://localhost:8080/",
          "height": 36
        }
      },
      "source": [
        "def plot_cf(y_pred, y_test):\n",
        "    print(classification_report(y_test, y_pred))"
      ],
      "execution_count": 19,
      "outputs": [
        {
          "output_type": "stream",
          "text": [
            "time: 1.05 ms\n"
          ],
          "name": "stdout"
        }
      ]
    },
    {
      "cell_type": "code",
      "metadata": {
        "id": "cY0LI6g15kpW",
        "colab_type": "code",
        "outputId": "b18752c9-5676-428f-c6fd-9c4dbae357eb",
        "colab": {
          "base_uri": "https://localhost:8080/",
          "height": 36
        }
      },
      "source": [
        "def contagem_predicoes(y_test, y_pred):\n",
        "    counts = dict()\n",
        "    for id in np.unique(y_test[:,0]):\n",
        "        counts[id] = []\n",
        "    print(counts)\n",
        "    \n",
        "    for t, p in zip(y_test, y_pred):\n",
        "        #print(t,p)\n",
        "        counts[t[0]].append(p)\n",
        "    counter = [Counter(y) for x,y in counts.items()]\n",
        "    print(len(counter))\n",
        "    return counter\n",
        "\n",
        "def acc_votacao(counter, y_test):\n",
        "    #print(np.unique(y_test[1]))\n",
        "    #print(counter, y_test)\n",
        "    music_y_pred = [max(x, key=x.get) for x in counter]\n",
        "    print(len(music_y_pred))\n",
        "    #music_y_test = [[x,y] for x,y in y_test]\n",
        "    #music_y_test = np.unique(music_y_test, axis=0)[:,0]\n",
        "    music_y_test = np.unique(y_test, axis=0)[:,1]\n",
        "    print(len(music_y_test))\n",
        "    plot_cf(music_y_pred, music_y_test)\n",
        "    return metrics.accuracy_score(music_y_test,music_y_pred)"
      ],
      "execution_count": 20,
      "outputs": [
        {
          "output_type": "stream",
          "text": [
            "time: 13.7 ms\n"
          ],
          "name": "stdout"
        }
      ]
    },
    {
      "cell_type": "code",
      "metadata": {
        "id": "h1JGSISJOGJC",
        "colab_type": "code",
        "outputId": "16cd4a58-5522-44e2-9f47-efea823105bd",
        "colab": {
          "base_uri": "https://localhost:8080/",
          "height": 36
        }
      },
      "source": [
        "def pca(X_test, y_test):\n",
        "    pca = PCA(3)\n",
        "    trans_pca = pca.fit_transform(X_test)\n",
        "    trans_pca = pd.DataFrame(trans_pca)\n",
        "    trans_pca['Labels'] = y_test[:,1]\n",
        "    trans_pca[\"Labels\"] = [\"$%s$\" % x for x in trans_pca[\"Labels\"]]\n",
        "    print(pca.explained_variance_)\n",
        "    trans_pca.columns = ['PC1', 'PC2','PC3','Labels']\n",
        "    plt.figure(figsize=(10,6))\n",
        "    sns.scatterplot(x=trans_pca['PC1'], y=trans_pca['PC2'], hue=trans_pca['Labels'])"
      ],
      "execution_count": 21,
      "outputs": [
        {
          "output_type": "stream",
          "text": [
            "time: 5.35 ms\n"
          ],
          "name": "stdout"
        }
      ]
    },
    {
      "cell_type": "code",
      "metadata": {
        "id": "q0EsTBVtqGxz",
        "colab_type": "code",
        "outputId": "51c414bc-7c6d-4748-85f4-2f916925c96b",
        "colab": {
          "base_uri": "https://localhost:8080/",
          "height": 36
        }
      },
      "source": [
        "def classify(df):\n",
        "    train_inds, test_inds = split_by_music_id(df)\n",
        "    X_train, X_test, y_train, y_test = split_train_test(df,train_inds, test_inds) \n",
        "    X_train, X_test = standardize(X_train, X_test)\n",
        "    model, y_pred = get_model_linearSVC(X_train,y_train[:,1], y_test[:,1], X_test)\n",
        "    contagens = contagem_predicoes(y_test, y_pred)\n",
        "    final_accuracy = acc_votacao(contagens, y_test)\n",
        "    pca(X_test, y_test)\n",
        "    return final_accuracy"
      ],
      "execution_count": 25,
      "outputs": [
        {
          "output_type": "stream",
          "text": [
            "time: 3.64 ms\n"
          ],
          "name": "stdout"
        }
      ]
    },
    {
      "cell_type": "code",
      "metadata": {
        "id": "KVQPJn_Vs3w9",
        "colab_type": "code",
        "outputId": "30177832-74bb-47fd-ec21-7f1df6680bb6",
        "colab": {
          "base_uri": "https://localhost:8080/",
          "height": 745
        }
      },
      "source": [
        "acc = classify(df)\n",
        "print(acc)"
      ],
      "execution_count": 28,
      "outputs": [
        {
          "output_type": "stream",
          "text": [
            "(88830, 16) (22210, 16) (88830, 2) (22210, 2)\n",
            "{0: [], 3: [], 8: [], 10: [], 14: [], 19: [], 23: [], 29: [], 31: [], 33: [], 35: [], 36: [], 39: [], 41: [], 47: [], 50: [], 56: [], 63: [], 70: [], 76: [], 79: [], 80: [], 88: [], 92: [], 93: [], 95: [], 96: [], 101: [], 103: [], 106: [], 107: [], 108: [], 119: [], 123: [], 131: [], 135: [], 144: [], 149: [], 167: [], 169: [], 173: [], 185: [], 210: [], 214: [], 216: [], 217: [], 218: [], 227: [], 245: [], 248: [], 251: [], 252: [], 259: [], 263: [], 265: [], 267: [], 274: [], 286: [], 288: [], 290: [], 291: [], 293: [], 295: [], 299: [], 303: [], 304: [], 311: [], 315: [], 316: [], 318: [], 321: [], 330: [], 333: [], 335: [], 346: [], 349: [], 360: [], 367: [], 373: [], 376: [], 379: [], 381: [], 388: [], 398: [], 399: [], 407: [], 408: [], 409: [], 410: [], 415: [], 416: [], 424: [], 426: [], 427: [], 431: [], 434: [], 439: [], 440: [], 447: [], 450: [], 457: [], 461: [], 465: [], 467: [], 468: [], 469: [], 476: [], 483: [], 486: [], 487: [], 496: [], 500: [], 510: [], 518: [], 530: [], 532: [], 533: [], 542: [], 543: [], 549: [], 554: [], 562: [], 563: [], 565: [], 567: [], 568: [], 576: [], 577: [], 582: [], 586: [], 590: [], 592: [], 605: [], 608: [], 620: [], 621: [], 623: [], 624: [], 633: [], 637: [], 647: [], 651: [], 655: [], 668: [], 673: [], 676: [], 683: [], 694: [], 700: [], 704: [], 708: [], 710: [], 713: [], 714: [], 715: [], 718: [], 730: [], 733: [], 735: [], 736: [], 738: [], 740: [], 742: [], 744: [], 747: [], 750: [], 756: [], 758: [], 761: [], 764: [], 765: [], 774: [], 777: [], 782: [], 788: [], 789: [], 794: [], 795: [], 799: [], 801: [], 836: [], 839: [], 850: [], 852: [], 856: [], 866: [], 872: [], 881: [], 883: [], 895: [], 900: [], 908: [], 914: [], 916: [], 921: [], 927: [], 932: [], 937: [], 952: [], 958: [], 960: [], 965: [], 967: [], 970: [], 971: [], 993: [], 1002: [], 1010: [], 1022: [], 1026: [], 1039: [], 1041: [], 1053: [], 1056: [], 1068: [], 1071: [], 1076: [], 1078: [], 1082: [], 1084: [], 1087: [], 1090: [], 1107: [], 1110: [], 1111: [], 1112: [], 1113: [], 1118: [], 1121: [], 1123: [], 1142: [], 1145: [], 1147: [], 1149: [], 1155: [], 1156: [], 1157: [], 1160: [], 1166: [], 1175: [], 1178: [], 1180: [], 1183: [], 1188: [], 1190: [], 1193: [], 1194: [], 1195: [], 1199: [], 1201: [], 1206: [], 1208: [], 1210: [], 1213: [], 1217: [], 1224: [], 1237: [], 1245: [], 1247: [], 1250: [], 1253: [], 1254: [], 1261: [], 1277: [], 1281: [], 1282: [], 1284: [], 1285: [], 1297: [], 1303: [], 1310: [], 1315: [], 1320: [], 1330: [], 1339: [], 1347: [], 1350: [], 1351: [], 1355: [], 1360: [], 1368: [], 1369: [], 1373: [], 1383: [], 1393: [], 1402: [], 1406: [], 1408: [], 1413: [], 1418: [], 1427: [], 1432: [], 1433: [], 1434: [], 1437: [], 1453: [], 1454: [], 1457: [], 1458: [], 1470: [], 1472: [], 1479: [], 1486: [], 1488: [], 1491: [], 1494: [], 1496: [], 1498: [], 1501: [], 1509: [], 1511: [], 1512: [], 1516: [], 1523: [], 1530: [], 1533: [], 1536: [], 1562: [], 1566: [], 1576: [], 1578: [], 1579: [], 1584: [], 1593: [], 1594: [], 1595: [], 1597: [], 1608: [], 1616: [], 1617: [], 1623: [], 1626: [], 1634: [], 1650: [], 1655: [], 1660: [], 1662: [], 1669: [], 1670: [], 1671: [], 1683: [], 1688: [], 1691: [], 1692: [], 1701: [], 1703: [], 1710: [], 1713: [], 1718: [], 1722: [], 1730: [], 1731: [], 1732: [], 1740: [], 1744: [], 1746: [], 1747: [], 1758: [], 1766: [], 1768: [], 1775: [], 1780: [], 1783: [], 1785: [], 1786: [], 1791: [], 1793: [], 1795: [], 1803: [], 1805: [], 1807: [], 1825: [], 1833: [], 1834: [], 1835: [], 1839: [], 1844: [], 1845: [], 1851: [], 1862: [], 1864: [], 1870: [], 1883: [], 1885: [], 1886: [], 1889: [], 1891: [], 1896: [], 1904: [], 1905: [], 1915: [], 1923: [], 1935: [], 1941: [], 1950: [], 1952: [], 1953: [], 1954: [], 1957: [], 1964: [], 1965: [], 1971: [], 1981: [], 1983: [], 1984: [], 2009: [], 2012: [], 2018: [], 2020: [], 2030: [], 2036: [], 2039: [], 2046: [], 2055: [], 2069: [], 2075: [], 2085: [], 2088: [], 2098: [], 2107: [], 2108: [], 2109: [], 2119: [], 2124: [], 2127: [], 2128: [], 2138: [], 2140: [], 2142: [], 2145: [], 2150: [], 2152: [], 2154: [], 2157: [], 2167: [], 2168: [], 2174: [], 2183: [], 2184: [], 2189: [], 2191: [], 2199: [], 2210: [], 2211: [], 2215: [], 2216: [], 2221: [], 2227: [], 2232: [], 2236: [], 2238: [], 2239: [], 2245: [], 2249: [], 2252: [], 2254: [], 2260: [], 2270: [], 2271: [], 2288: [], 2301: [], 2310: [], 2312: [], 2315: [], 2317: [], 2319: [], 2325: [], 2328: [], 2337: [], 2340: [], 2344: [], 2348: [], 2351: [], 2357: [], 2360: [], 2372: [], 2377: [], 2388: [], 2389: [], 2390: [], 2391: [], 2392: [], 2405: [], 2406: [], 2407: [], 2412: [], 2417: [], 2439: [], 2447: [], 2452: [], 2453: [], 2455: [], 2458: [], 2459: [], 2464: [], 2465: [], 2474: [], 2483: [], 2485: [], 2487: [], 2492: [], 2495: [], 2498: [], 2507: [], 2514: [], 2516: [], 2517: [], 2519: [], 2531: [], 2534: [], 2574: [], 2576: [], 2585: [], 2586: [], 2588: [], 2589: [], 2592: [], 2595: [], 2611: [], 2613: [], 2614: [], 2615: [], 2619: [], 2620: [], 2625: [], 2627: [], 2628: [], 2638: [], 2648: [], 2651: [], 2664: [], 2678: [], 2680: [], 2691: [], 2692: [], 2701: [], 2709: [], 2714: [], 2715: [], 2732: [], 2748: [], 2751: [], 2753: [], 2759: [], 2762: [], 2771: [], 2791: [], 2802: [], 2807: [], 2813: [], 2815: [], 2816: [], 2818: [], 2820: [], 2826: [], 2836: [], 2847: [], 2858: [], 2861: [], 2864: [], 2865: [], 2876: [], 2882: [], 2894: [], 2899: [], 2903: [], 2906: [], 2907: [], 2909: [], 2910: [], 2919: [], 2927: [], 2930: [], 2932: [], 2943: [], 2947: [], 2948: [], 2952: [], 2954: [], 2963: [], 2973: [], 2974: [], 2980: [], 2984: [], 2986: [], 2995: [], 3000: [], 3002: [], 3006: [], 3011: [], 3015: [], 3016: [], 3017: [], 3023: [], 3024: [], 3025: [], 3026: [], 3027: [], 3031: [], 3047: [], 3048: [], 3050: [], 3053: [], 3058: [], 3059: [], 3061: [], 3063: [], 3065: [], 3068: [], 3069: [], 3070: [], 3077: [], 3078: [], 3079: [], 3080: [], 3094: [], 3095: [], 3100: [], 3101: [], 3105: [], 3107: [], 3111: [], 3118: [], 3123: [], 3125: [], 3126: [], 3132: [], 3133: [], 3139: [], 3143: [], 3146: [], 3154: [], 3160: [], 3166: [], 3181: [], 3184: [], 3204: [], 3208: [], 3210: [], 3215: [], 3231: [], 3233: [], 3238: [], 3244: [], 3247: [], 3254: [], 3263: [], 3265: [], 3272: [], 3274: [], 3279: [], 3284: [], 3287: [], 3290: [], 3295: [], 3297: [], 3298: [], 3314: [], 3315: [], 3319: [], 3325: [], 3329: [], 3333: [], 3334: [], 3349: [], 3351: [], 3352: [], 3353: [], 3355: [], 3369: [], 3378: [], 3379: [], 3387: [], 3396: [], 3399: [], 3403: [], 3411: [], 3412: [], 3418: [], 3421: [], 3422: [], 3424: [], 3433: [], 3441: [], 3445: [], 3447: [], 3448: [], 3449: [], 3457: [], 3458: [], 3463: [], 3464: [], 3468: [], 3469: [], 3487: [], 3488: [], 3495: [], 3501: [], 3508: [], 3509: [], 3519: [], 3520: [], 3522: [], 3527: [], 3528: [], 3529: [], 3532: [], 3533: [], 3538: [], 3540: [], 3542: [], 3543: [], 3544: [], 3546: [], 3547: [], 3562: [], 3570: [], 3573: [], 3574: [], 3578: [], 3585: [], 3595: [], 3609: [], 3614: [], 3615: [], 3616: [], 3620: [], 3621: [], 3635: [], 3643: [], 3651: [], 3652: [], 3656: [], 3668: [], 3673: [], 3678: [], 3688: [], 3691: [], 3692: [], 3693: [], 3694: [], 3704: [], 3705: [], 3707: [], 3708: [], 3721: [], 3724: [], 3746: [], 3749: [], 3753: [], 3755: [], 3771: [], 3772: [], 3776: [], 3777: [], 3781: [], 3782: [], 3784: [], 3785: [], 3790: [], 3798: [], 3813: [], 3817: [], 3826: [], 3833: [], 3834: [], 3837: [], 3838: [], 3842: [], 3846: [], 3855: [], 3857: [], 3873: [], 3881: [], 3885: [], 3886: [], 3887: [], 3894: [], 3895: [], 3902: [], 3905: [], 3912: [], 3914: [], 3919: [], 3928: [], 3933: [], 3938: [], 3941: [], 3942: [], 3948: [], 3952: [], 3955: [], 3958: [], 3963: [], 3979: [], 3984: [], 3994: [], 3995: [], 3997: [], 3999: [], 4003: [], 4004: [], 4007: [], 4010: [], 4024: [], 4026: [], 4029: [], 4030: [], 4040: [], 4043: [], 4047: [], 4048: [], 4053: [], 4058: [], 4060: [], 4064: [], 4067: [], 4074: [], 4075: [], 4077: [], 4080: [], 4081: [], 4093: [], 4095: [], 4096: [], 4097: [], 4099: [], 4102: [], 4104: [], 4110: [], 4111: [], 4112: [], 4115: [], 4119: [], 4123: [], 4127: [], 4129: [], 4132: [], 4140: [], 4144: [], 4148: [], 4149: [], 4156: [], 4157: [], 4165: [], 4170: [], 4184: [], 4189: [], 4191: [], 4215: [], 4219: [], 4220: [], 4222: [], 4224: [], 4226: [], 4233: [], 4238: [], 4245: [], 4246: [], 4250: [], 4253: [], 4256: [], 4277: [], 4281: [], 4295: [], 4301: [], 4302: [], 4303: [], 4313: [], 4315: [], 4317: [], 4326: [], 4328: [], 4335: [], 4339: [], 4341: [], 4342: [], 4343: [], 4344: [], 4345: [], 4352: [], 4354: [], 4365: [], 4373: [], 4375: [], 4376: [], 4377: [], 4379: [], 4382: [], 4397: [], 4398: [], 4401: [], 4407: [], 4412: [], 4414: [], 4420: [], 4421: [], 4439: [], 4447: [], 4453: [], 4457: [], 4459: [], 4466: [], 4474: [], 4475: [], 4483: [], 4484: [], 4502: [], 4504: [], 4511: [], 4518: [], 4521: [], 4533: [], 4536: [], 4540: [], 4549: [], 4551: [], 4561: [], 4562: [], 4573: [], 4574: [], 4597: [], 4598: [], 4604: [], 4605: [], 4606: [], 4608: [], 4609: [], 4614: [], 4618: [], 4619: [], 4626: [], 4629: [], 4630: [], 4634: [], 4639: [], 4640: [], 4641: [], 4643: [], 4649: [], 4656: [], 4667: [], 4671: [], 4676: [], 4679: [], 4681: [], 4682: [], 4684: [], 4687: [], 4693: [], 4695: [], 4696: [], 4702: [], 4707: [], 4710: [], 4716: [], 4720: [], 4721: [], 4724: [], 4730: [], 4731: [], 4734: [], 4740: [], 4742: [], 4762: [], 4766: [], 4768: [], 4770: [], 4772: [], 4773: [], 4779: [], 4782: [], 4793: [], 4794: [], 4797: [], 4807: [], 4812: [], 4813: [], 4816: [], 4824: [], 4829: [], 4830: [], 4833: [], 4836: [], 4842: [], 4845: [], 4848: [], 4860: [], 4862: [], 4863: [], 4864: [], 4868: [], 4871: [], 4874: [], 4884: [], 4890: [], 4913: [], 4914: [], 4919: [], 4921: [], 4923: [], 4929: [], 4948: [], 4959: [], 4960: [], 4962: [], 4974: [], 4975: [], 4977: [], 4978: [], 4983: [], 4984: [], 4985: [], 4991: [], 4999: [], 5003: [], 5012: [], 5013: [], 5019: [], 5025: [], 5027: [], 5030: [], 5032: [], 5033: [], 5034: [], 5049: [], 5050: [], 5053: [], 5064: [], 5076: [], 5082: [], 5087: [], 5090: [], 5094: [], 5106: [], 5114: [], 5117: [], 5120: [], 5121: [], 5123: [], 5128: [], 5133: [], 5135: [], 5145: [], 5151: [], 5152: [], 5153: [], 5157: [], 5165: [], 5168: [], 5171: [], 5173: [], 5190: [], 5195: [], 5199: [], 5210: [], 5216: [], 5224: [], 5225: [], 5236: [], 5245: [], 5250: [], 5254: [], 5259: [], 5264: [], 5265: [], 5267: [], 5277: [], 5281: [], 5284: [], 5286: [], 5298: [], 5304: [], 5306: [], 5317: [], 5333: [], 5335: [], 5337: [], 5339: [], 5344: [], 5350: [], 5354: [], 5357: [], 5358: [], 5359: [], 5361: [], 5378: [], 5381: [], 5382: [], 5391: [], 5396: [], 5397: [], 5398: [], 5399: [], 5400: [], 5414: [], 5419: [], 5425: [], 5431: [], 5438: [], 5440: [], 5441: [], 5452: [], 5459: [], 5461: [], 5465: [], 5466: [], 5471: [], 5474: [], 5480: [], 5481: [], 5484: [], 5491: [], 5500: [], 5502: [], 5504: [], 5508: [], 5511: [], 5515: [], 5517: [], 5521: [], 5522: [], 5532: [], 5537: [], 5544: [], 5547: [], 5550: [], 5551: [], 5553: [], 5573: [], 5580: [], 5583: [], 5584: [], 5593: [], 5595: [], 5601: [], 5603: [], 5606: [], 5608: [], 5610: [], 5613: [], 5614: [], 5641: [], 5646: [], 5652: [], 5659: [], 5664: [], 5665: [], 5666: [], 5673: [], 5676: [], 5678: [], 5682: [], 5683: [], 5687: [], 5689: [], 5700: [], 5706: [], 5716: [], 5718: [], 5719: [], 5731: [], 5733: [], 5740: [], 5743: [], 5746: [], 5747: [], 5748: [], 5749: [], 5751: [], 5753: [], 5758: [], 5761: [], 5764: [], 5767: [], 5769: [], 5773: [], 5775: [], 5786: [], 5798: [], 5805: [], 5822: [], 5836: [], 5837: [], 5840: [], 5846: [], 5848: [], 5853: [], 5857: [], 5860: [], 5861: [], 5863: [], 5875: [], 5880: [], 5882: [], 5890: [], 5894: [], 5899: [], 5908: [], 5909: [], 5916: [], 5920: [], 5936: [], 5942: [], 5957: [], 5958: [], 5961: [], 5965: [], 5968: [], 5972: [], 5979: [], 5981: [], 5982: [], 5983: [], 5990: [], 5999: [], 6004: [], 6017: [], 6021: [], 6022: [], 6023: [], 6041: [], 6050: [], 6060: [], 6062: [], 6071: [], 6072: [], 6073: [], 6074: [], 6075: [], 6076: [], 6081: [], 6084: [], 6086: [], 6095: [], 6098: [], 6101: [], 6113: [], 6114: [], 6117: [], 6118: [], 6123: [], 6127: [], 6131: [], 6138: [], 6149: [], 6157: [], 6167: [], 6173: [], 6176: [], 6186: [], 6189: [], 6191: [], 6200: [], 6214: [], 6216: [], 6243: [], 6271: [], 6289: [], 6291: [], 6301: [], 6302: [], 6310: [], 6311: [], 6312: [], 6321: [], 6330: [], 6334: [], 6335: [], 6343: [], 6345: [], 6357: [], 6363: [], 6364: [], 6367: [], 6369: [], 6372: [], 6375: [], 6377: [], 6380: [], 6385: [], 6389: [], 6391: [], 6395: [], 6398: [], 6418: [], 6421: [], 6423: [], 6425: [], 6435: [], 6437: [], 6442: [], 6448: [], 6449: [], 6452: [], 6458: [], 6459: [], 6462: [], 6463: [], 6466: [], 6472: [], 6475: [], 6478: [], 6485: [], 6487: [], 6489: [], 6495: [], 6497: [], 6499: [], 6501: [], 6502: [], 6503: [], 6510: [], 6512: [], 6518: [], 6520: [], 6523: [], 6543: [], 6545: [], 6554: [], 6575: [], 6576: [], 6578: [], 6587: [], 6592: [], 6604: [], 6605: [], 6606: [], 6620: [], 6630: [], 6634: [], 6649: [], 6654: [], 6660: [], 6662: [], 6663: [], 6670: [], 6671: [], 6676: [], 6679: [], 6681: [], 6686: [], 6695: [], 6697: [], 6699: [], 6705: [], 6711: [], 6714: [], 6715: [], 6719: [], 6726: [], 6727: [], 6733: [], 6742: [], 6743: [], 6751: [], 6752: [], 6753: [], 6757: [], 6761: [], 6762: [], 6765: [], 6790: [], 6791: [], 6794: [], 6797: [], 6804: [], 6811: [], 6824: [], 6826: [], 6829: [], 6830: [], 6838: [], 6843: [], 6845: [], 6851: [], 6854: [], 6855: [], 6858: [], 6859: [], 6870: [], 6885: [], 6904: [], 6909: [], 6911: [], 6921: [], 6923: [], 6927: [], 6934: [], 6950: [], 6951: [], 6952: [], 6954: [], 6956: [], 6957: [], 6959: [], 6965: [], 6967: [], 6969: [], 6977: [], 6991: [], 7021: [], 7028: [], 7030: [], 7036: [], 7040: [], 7046: [], 7049: [], 7063: [], 7065: [], 7066: [], 7067: [], 7072: [], 7085: [], 7086: [], 7090: [], 7109: [], 7120: [], 7131: [], 7132: [], 7144: [], 7148: [], 7152: [], 7162: [], 7168: [], 7169: [], 7173: [], 7176: [], 7185: [], 7189: [], 7194: [], 7198: [], 7204: [], 7210: [], 7212: [], 7216: [], 7223: [], 7228: [], 7234: [], 7237: [], 7244: [], 7247: [], 7249: [], 7250: [], 7251: [], 7256: [], 7261: [], 7262: [], 7271: [], 7273: [], 7275: [], 7282: [], 7286: [], 7288: [], 7289: [], 7297: [], 7299: [], 7306: [], 7308: [], 7318: [], 7324: [], 7335: [], 7336: [], 7346: [], 7347: [], 7349: [], 7356: [], 7360: [], 7363: [], 7369: [], 7370: [], 7376: [], 7388: [], 7389: [], 7401: [], 7402: [], 7403: [], 7410: [], 7413: [], 7414: [], 7416: [], 7433: [], 7435: [], 7439: [], 7440: [], 7444: [], 7452: [], 7453: [], 7454: [], 7459: [], 7463: [], 7464: [], 7472: [], 7476: [], 7477: [], 7485: [], 7497: [], 7503: [], 7516: [], 7517: [], 7522: [], 7528: [], 7534: [], 7536: [], 7540: [], 7541: [], 7549: [], 7559: [], 7565: [], 7566: [], 7567: [], 7578: [], 7579: [], 7581: [], 7582: [], 7590: [], 7593: [], 7594: [], 7596: [], 7598: [], 7607: [], 7608: [], 7609: [], 7612: [], 7613: [], 7615: [], 7619: [], 7623: [], 7630: [], 7633: [], 7640: [], 7649: [], 7653: [], 7656: [], 7664: [], 7665: [], 7685: [], 7690: [], 7692: [], 7701: [], 7702: [], 7706: [], 7726: [], 7732: [], 7741: [], 7750: [], 7752: [], 7754: [], 7757: [], 7759: [], 7763: [], 7768: [], 7769: [], 7772: [], 7775: [], 7778: [], 7779: [], 7781: [], 7792: [], 7794: [], 7797: [], 7799: [], 7807: [], 7809: [], 7816: [], 7822: [], 7831: [], 7846: [], 7847: [], 7853: [], 7871: [], 7873: [], 7874: [], 7876: [], 7882: [], 7883: [], 7884: [], 7887: [], 7890: [], 7894: [], 7905: [], 7915: [], 7921: [], 7923: [], 7930: [], 7966: [], 7968: [], 7972: [], 7975: [], 7977: [], 7995: [], 7997: [], 7998: [], 8000: [], 8003: [], 8005: [], 8008: [], 8011: [], 8012: [], 8014: [], 8022: [], 8023: [], 8024: [], 8025: [], 8029: [], 8031: [], 8034: [], 8037: [], 8039: [], 8040: [], 8045: [], 8060: [], 8061: [], 8062: [], 8063: [], 8072: [], 8075: [], 8076: [], 8097: [], 8098: [], 8107: [], 8115: [], 8121: [], 8122: [], 8126: [], 8131: [], 8132: [], 8136: [], 8141: [], 8142: [], 8145: [], 8146: [], 8153: [], 8156: [], 8177: [], 8181: [], 8188: [], 8191: [], 8192: [], 8193: [], 8196: [], 8206: [], 8214: [], 8218: [], 8235: [], 8252: [], 8253: [], 8265: [], 8268: [], 8270: [], 8273: [], 8276: [], 8282: [], 8289: [], 8294: [], 8297: [], 8313: [], 8315: [], 8323: [], 8328: [], 8334: [], 8336: [], 8339: [], 8342: [], 8346: [], 8348: [], 8354: [], 8360: [], 8370: [], 8373: [], 8383: [], 8384: [], 8386: [], 8391: [], 8400: [], 8408: [], 8410: [], 8416: [], 8418: [], 8420: [], 8423: [], 8432: [], 8448: [], 8449: [], 8452: [], 8457: [], 8458: [], 8468: [], 8481: [], 8482: [], 8486: [], 8487: [], 8489: [], 8490: [], 8499: [], 8507: [], 8514: [], 8515: [], 8517: [], 8534: [], 8540: [], 8544: [], 8545: [], 8547: [], 8563: [], 8565: [], 8566: [], 8574: [], 8582: [], 8587: [], 8596: [], 8606: [], 8611: [], 8617: [], 8622: [], 8625: [], 8630: [], 8637: [], 8640: [], 8642: [], 8643: [], 8644: [], 8645: [], 8653: [], 8654: [], 8663: [], 8671: [], 8679: [], 8683: [], 8686: [], 8690: [], 8693: [], 8695: [], 8700: [], 8704: [], 8710: [], 8713: [], 8715: [], 8718: [], 8719: [], 8726: [], 8728: [], 8731: [], 8735: [], 8738: [], 8742: [], 8743: [], 8744: [], 8745: [], 8749: [], 8753: [], 8764: [], 8771: [], 8774: [], 8775: [], 8776: [], 8777: [], 8781: [], 8791: [], 8794: [], 8797: [], 8798: [], 8799: [], 8811: [], 8812: [], 8823: [], 8832: [], 8833: [], 8834: [], 8835: [], 8836: [], 8840: [], 8842: [], 8848: [], 8849: [], 8850: [], 8852: [], 8854: [], 8855: [], 8864: [], 8870: [], 8882: [], 8892: [], 8893: [], 8894: [], 8898: [], 8908: [], 8926: [], 8931: [], 8943: [], 8959: [], 8960: [], 8970: [], 8971: [], 8973: [], 8986: [], 8992: [], 8994: [], 9006: [], 9011: [], 9019: [], 9022: [], 9023: [], 9030: [], 9038: [], 9039: [], 9043: [], 9044: [], 9045: [], 9049: [], 9051: [], 9052: [], 9055: [], 9066: [], 9071: [], 9075: [], 9080: [], 9088: [], 9092: [], 9096: [], 9103: [], 9114: [], 9115: [], 9118: [], 9120: [], 9121: [], 9125: [], 9129: [], 9137: [], 9139: [], 9143: [], 9145: [], 9148: [], 9152: [], 9170: [], 9174: [], 9177: [], 9185: [], 9187: [], 9190: [], 9191: [], 9192: [], 9193: [], 9195: [], 9203: [], 9230: [], 9239: [], 9258: [], 9275: [], 9277: [], 9278: [], 9284: [], 9289: [], 9290: [], 9296: [], 9301: [], 9302: [], 9303: [], 9304: [], 9312: [], 9317: [], 9319: [], 9320: [], 9321: [], 9326: [], 9332: [], 9340: [], 9341: [], 9346: [], 9351: [], 9356: [], 9357: [], 9362: [], 9364: [], 9365: [], 9367: [], 9368: [], 9381: [], 9384: [], 9387: [], 9389: [], 9392: [], 9393: [], 9398: [], 9405: [], 9416: [], 9421: [], 9426: [], 9429: [], 9431: [], 9436: [], 9438: [], 9441: [], 9445: [], 9452: [], 9453: [], 9460: [], 9461: [], 9466: [], 9476: [], 9479: [], 9480: [], 9482: [], 9484: [], 9485: [], 9486: [], 9494: [], 9495: [], 9499: [], 9509: [], 9517: [], 9522: [], 9523: [], 9527: [], 9532: [], 9539: [], 9545: [], 9549: [], 9552: [], 9566: [], 9568: [], 9581: [], 9585: [], 9586: [], 9596: [], 9599: [], 9606: [], 9609: [], 9615: [], 9616: [], 9617: [], 9619: [], 9622: [], 9627: [], 9629: [], 9640: [], 9652: [], 9653: [], 9667: [], 9671: [], 9672: [], 9673: [], 9674: [], 9686: [], 9688: [], 9698: [], 9707: [], 9725: [], 9727: [], 9728: [], 9731: [], 9735: [], 9737: [], 9738: [], 9741: [], 9746: [], 9752: [], 9758: [], 9775: [], 9776: [], 9779: [], 9783: [], 9784: [], 9788: [], 9792: [], 9793: [], 9798: [], 9805: [], 9806: [], 9816: [], 9819: [], 9821: [], 9824: [], 9828: [], 9830: [], 9834: [], 9839: [], 9840: [], 9844: [], 9846: [], 9866: [], 9885: [], 9886: [], 9889: [], 9896: [], 9912: [], 9921: [], 9927: [], 9935: [], 9944: [], 9960: [], 9966: [], 9968: [], 9969: [], 9988: [], 9989: [], 9991: [], 9999: [], 10012: [], 10013: [], 10027: [], 10028: [], 10029: [], 10031: [], 10039: [], 10041: [], 10043: [], 10050: [], 10051: [], 10052: [], 10053: [], 10057: [], 10058: [], 10059: [], 10060: [], 10070: [], 10080: [], 10085: [], 10089: [], 10091: [], 10093: [], 10094: [], 10096: [], 10101: [], 10107: [], 10113: [], 10120: [], 10130: [], 10143: [], 10149: [], 10154: [], 10155: [], 10157: [], 10159: [], 10162: [], 10177: [], 10178: [], 10184: [], 10187: [], 10190: [], 10191: [], 10193: [], 10196: [], 10199: [], 10203: [], 10204: [], 10205: [], 10208: [], 10211: [], 10213: [], 10225: [], 10227: [], 10240: [], 10241: [], 10245: [], 10255: [], 10260: [], 10274: [], 10279: [], 10282: [], 10283: [], 10295: [], 10306: [], 10316: [], 10317: [], 10318: [], 10326: [], 10336: [], 10342: [], 10348: [], 10355: [], 10357: [], 10365: [], 10372: [], 10385: [], 10391: [], 10398: [], 10408: [], 10412: [], 10425: [], 10433: [], 10436: [], 10441: [], 10446: [], 10449: [], 10456: [], 10460: [], 10472: [], 10474: [], 10475: [], 10482: [], 10491: [], 10493: [], 10494: [], 10495: [], 10497: [], 10499: [], 10503: [], 10504: [], 10512: [], 10531: [], 10549: [], 10558: [], 10560: [], 10567: [], 10568: [], 10572: [], 10580: [], 10585: [], 10586: [], 10587: [], 10588: [], 10598: [], 10599: [], 10601: [], 10604: [], 10605: [], 10607: [], 10608: [], 10614: [], 10616: [], 10617: [], 10621: [], 10625: [], 10635: [], 10640: [], 10642: [], 10648: [], 10649: [], 10653: [], 10658: [], 10660: [], 10669: [], 10676: [], 10680: [], 10682: [], 10683: [], 10684: [], 10691: [], 10694: [], 10697: [], 10713: [], 10731: [], 10738: [], 10741: [], 10746: [], 10749: [], 10754: [], 10755: [], 10756: [], 10763: [], 10766: [], 10770: [], 10774: [], 10778: [], 10782: [], 10785: [], 10789: [], 10790: [], 10802: [], 10810: [], 10814: [], 10816: [], 10822: [], 10825: [], 10828: [], 10830: [], 10831: [], 10834: [], 10835: [], 10840: [], 10841: [], 10842: [], 10843: [], 10845: [], 10847: [], 10848: [], 10854: [], 10856: [], 10863: [], 10864: [], 10866: [], 10871: [], 10889: [], 10895: [], 10902: [], 10911: [], 10917: [], 10918: [], 10922: [], 10935: [], 10950: [], 10960: [], 10963: [], 10967: [], 10979: [], 10983: [], 10984: [], 10991: [], 10993: [], 11002: [], 11012: [], 11017: [], 11029: [], 11035: [], 11037: [], 11039: [], 11041: [], 11043: [], 11054: [], 11063: [], 11064: [], 11066: [], 11067: [], 11069: [], 11073: [], 11077: [], 11093: [], 11094: [], 11097: [], 11102: []}\n",
            "2221\n",
            "2221\n",
            "2221\n",
            "              precision    recall  f1-score   support\n",
            "\n",
            "           0       0.69      0.73      0.71       894\n",
            "           1       0.84      0.85      0.84       576\n",
            "           2       0.73      0.68      0.70       751\n",
            "\n",
            "    accuracy                           0.74      2221\n",
            "   macro avg       0.75      0.75      0.75      2221\n",
            "weighted avg       0.74      0.74      0.74      2221\n",
            "\n",
            "[4.72833762 3.11305565 2.08995722]\n",
            "0.7411076091850518\n"
          ],
          "name": "stdout"
        },
        {
          "output_type": "display_data",
          "data": {
            "image/png": "[encoded data removed]",
            "text/plain": [
              "<Figure size 720x432 with 1 Axes>"
            ]
          },
          "metadata": {
            "tags": [],
            "needs_background": "light"
          }
        },
        {
          "output_type": "stream",
          "text": [
            "time: 6.47 s\n"
          ],
          "name": "stdout"
        }
      ]
    },
    {
      "cell_type": "markdown",
      "metadata": {
        "id": "CzuqbBdT9lXV",
        "colab_type": "text"
      },
      "source": [
        "Tamanho do modelo em KB"
      ]
    },
    {
      "cell_type": "code",
      "metadata": {
        "id": "f-0YEVYucJL3",
        "colab_type": "code",
        "outputId": "d22f8c02-7b23-49eb-ff57-4823af619beb",
        "colab": {
          "base_uri": "https://localhost:8080/",
          "height": 36
        }
      },
      "source": [
        "(os.path.getsize(BASE_PATH + 'linearsvc_no_esp.pkl')/1024)"
      ],
      "execution_count": 24,
      "outputs": [
        {
          "output_type": "execute_result",
          "data": {
            "text/plain": [
              "1.2119140625"
            ]
          },
          "metadata": {
            "tags": []
          },
          "execution_count": 24
        },
        {
          "output_type": "stream",
          "text": [
            "time: 2.45 ms\n"
          ],
          "name": "stdout"
        }
      ]
    }
  ]
}