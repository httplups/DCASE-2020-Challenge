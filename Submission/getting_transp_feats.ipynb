{
  "nbformat": 4,
  "nbformat_minor": 0,
  "metadata": {
    "colab": {
      "name": "TAU.ipynb",
      "provenance": [],
      "collapsed_sections": []
    },
    "kernelspec": {
      "name": "python3",
      "display_name": "Python 3"
    }
  },
  "cells": [
    {
      "cell_type": "code",
      "metadata": {
        "id": "Wz8UZBCTqBuE",
        "colab_type": "code",
        "colab": {}
      },
      "source": [
        "!pip3 install soundfile\n",
        "!pip3 install librosa\n",
        "import soundfile as sf\n",
        "import librosa.feature\n",
        "import numpy as np\n",
        "import pandas as pd\n",
        "import matplotlib.pyplot as plt\n",
        "import pylab"
      ],
      "execution_count": 0,
      "outputs": []
    },
    {
      "cell_type": "code",
      "metadata": {
        "id": "JD4CyITYEBfc",
        "colab_type": "code",
        "outputId": "1aa60f24-b05e-464e-bde4-0346d139832a",
        "colab": {
          "base_uri": "https://localhost:8080/",
          "height": 34
        }
      },
      "source": [
        "DIR = \"drive/My Drive/tavares\"\n",
        "sound_df = pd.read_csv(f\"{DIR}/file_label_dcase.csv\")\n",
        "sound_df.head()\n",
        "sound_df['label'].unique()"
      ],
      "execution_count": 0,
      "outputs": [
        {
          "output_type": "execute_result",
          "data": {
            "text/plain": [
              "array(['indoor', 'transportation', 'outdoor'], dtype=object)"
            ]
          },
          "metadata": {
            "tags": []
          },
          "execution_count": 2
        }
      ]
    },
    {
      "cell_type": "code",
      "metadata": {
        "id": "4_EZr4k4L5no",
        "colab_type": "code",
        "colab": {}
      },
      "source": [
        "import os\n",
        "DIR_AUDIO = f\"{DIR}/soundfiles/TAU-urban-acoustic-scenes-2020-3class-development/audio\""
      ],
      "execution_count": 0,
      "outputs": []
    },
    {
      "cell_type": "code",
      "metadata": {
        "id": "YVpluxcRg-Wi",
        "colab_type": "code",
        "outputId": "94cb7eba-249f-42bb-df0b-316b44c109cf",
        "colab": {
          "base_uri": "https://localhost:8080/",
          "height": 193
        }
      },
      "source": [
        "!pip install ipython-autotime\n",
        "\n",
        "%load_ext autotime"
      ],
      "execution_count": 0,
      "outputs": [
        {
          "output_type": "stream",
          "text": [
            "Collecting ipython-autotime\n",
            "  Downloading https://files.pythonhosted.org/packages/e6/f9/0626bbdb322e3a078d968e87e3b01341e7890544de891d0cb613641220e6/ipython-autotime-0.1.tar.bz2\n",
            "Building wheels for collected packages: ipython-autotime\n",
            "  Building wheel for ipython-autotime (setup.py) ... \u001b[?25l\u001b[?25hdone\n",
            "  Created wheel for ipython-autotime: filename=ipython_autotime-0.1-cp36-none-any.whl size=1832 sha256=95b42d104b2329ec62f7ff2134d7db8d5471b62cc1bb30e1d0f067b13b3e53b1\n",
            "  Stored in directory: /root/.cache/pip/wheels/d2/df/81/2db1e54bc91002cec40334629bc39cfa86dff540b304ebcd6e\n",
            "Successfully built ipython-autotime\n",
            "Installing collected packages: ipython-autotime\n",
            "Successfully installed ipython-autotime-0.1\n"
          ],
          "name": "stdout"
        }
      ]
    },
    {
      "cell_type": "code",
      "metadata": {
        "id": "DPNVrma9G2FG",
        "colab_type": "code",
        "colab": {}
      },
      "source": [
        "\n",
        "  \n",
        "def get_features(filename,label):\n",
        "  \n",
        "  sound, samplerate = sf.read(f\"{DIR}/soundfiles/{filename}\")\n",
        "  sound = sound[:,0]\n",
        "  rms = librosa.feature.rms(sound)\n",
        "  flatness = librosa.feature.spectral_flatness(sound)\n",
        "  centroid = librosa.feature.spectral_centroid(sound)\n",
        "  mfcc = librosa.feature.mfcc(y=sound,sr=samplerate, n_mfcc=5)\n",
        "  \n",
        "  return np.hstack([np.array([rms.mean(),rms.std(),flatness.mean(),flatness.std(),centroid.mean(),centroid.std()]), mfcc.mean(axis=1), mfcc.std(axis=1),np.array([label])])\n",
        "\n",
        "   \n",
        "labels = np.vectorize(lambda x: ('outdoor','indoor','transportation').index(x))(sound_df['label'].values)\n",
        "# feat_df = get_features(sound_df_['file'].values)\n",
        "i = 0\n",
        "feats = np.zeros((1,17))\n",
        "check = 500\n",
        "for f, label in zip(sound_df['file'], labels):\n",
        "  feats = np.vstack([feats,get_features(f,label),np.array(f)])\n",
        "  if (i % check == 0): \n",
        "    print(\"Checkpoint reached:\",i//check)\n",
        "    pf = pd.DataFrame(data=feats)\n",
        "    pf.to_csv(f\"data{i//check}.csv\",index=False)\n",
        "  print(i)\n",
        "  i+=1\n",
        "pf.to_csv(f\"features_for_transp.csv\",index=False)\n",
        "pf.head()"
      ],
      "execution_count": 0,
      "outputs": []
    },
    {
      "cell_type": "code",
      "metadata": {
        "id": "2ODDfxVrzjHg",
        "colab_type": "code",
        "outputId": "c8db759c-cc7f-47e5-f949-f0a91f9e8e7b",
        "colab": {
          "base_uri": "https://localhost:8080/",
          "height": 34
        }
      },
      "source": [
        "df_final = pd.DataFrame(data=feats)\n",
        "pf.to_csv(f\"features_for_transp.csv\",index=False)"
      ],
      "execution_count": 0,
      "outputs": [
        {
          "output_type": "stream",
          "text": [
            "time: 332 ms\n"
          ],
          "name": "stdout"
        }
      ]
    },
    {
      "cell_type": "code",
      "metadata": {
        "id": "ru5jW045RJ5r",
        "colab_type": "code",
        "colab": {}
      },
      "source": [
        ""
      ],
      "execution_count": 0,
      "outputs": []
    },
    {
      "cell_type": "code",
      "metadata": {
        "id": "LoDJ3xScBzWH",
        "colab_type": "code",
        "colab": {}
      },
      "source": [
        ""
      ],
      "execution_count": 0,
      "outputs": []
    }
  ]
}