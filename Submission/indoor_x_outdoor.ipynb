{
  "nbformat": 4,
  "nbformat_minor": 0,
  "metadata": {
    "colab": {
      "name": "indoor x outdoor - pegando musicas alvaro.ipynb",
      "provenance": [],
      "collapsed_sections": [],
      "toc_visible": true,
      "machine_shape": "hm"
    },
    "kernelspec": {
      "name": "python3",
      "display_name": "Python 3"
    },
    "accelerator": "GPU"
  },
  "cells": [
    {
      "cell_type": "markdown",
      "metadata": {
        "id": "IBBhayb-5MEx",
        "colab_type": "text"
      },
      "source": [
        "# Treinamento do Modelo Indoor x Outdoor\n",
        "Luana Barros\n",
        "\n",
        "\n"
      ]
    },
    {
      "cell_type": "code",
      "metadata": {
        "id": "ptGENpqklOQv",
        "colab_type": "code",
        "outputId": "9c3c69f7-cf49-4387-dc06-15a5b462f250",
        "colab": {
          "base_uri": "https://localhost:8080/",
          "height": 349
        }
      },
      "source": [
        "import matplotlib.pyplot as plt\n",
        "import numpy as np # linear algebra\n",
        "import pandas as pd\n",
        "import librosa\n",
        "import librosa.display\n",
        "import os\n",
        "from os import path\n",
        "import io\n",
        "!pip3 install soundfile\n",
        "!pip3 install librosa\n",
        "import soundfile as sf\n",
        "import librosa.feature\n"
      ],
      "execution_count": 0,
      "outputs": [
        {
          "output_type": "stream",
          "text": [
            "Collecting soundfile\n",
            "  Downloading https://files.pythonhosted.org/packages/eb/f2/3cbbbf3b96fb9fa91582c438b574cff3f45b29c772f94c400e2c99ef5db9/SoundFile-0.10.3.post1-py2.py3-none-any.whl\n",
            "Requirement already satisfied: cffi>=1.0 in /usr/local/lib/python3.6/dist-packages (from soundfile) (1.14.0)\n",
            "Requirement already satisfied: pycparser in /usr/local/lib/python3.6/dist-packages (from cffi>=1.0->soundfile) (2.20)\n",
            "Installing collected packages: soundfile\n",
            "Successfully installed soundfile-0.10.3.post1\n",
            "Requirement already satisfied: librosa in /usr/local/lib/python3.6/dist-packages (0.6.3)\n",
            "Requirement already satisfied: numba>=0.38.0 in /usr/local/lib/python3.6/dist-packages (from librosa) (0.48.0)\n",
            "Requirement already satisfied: joblib>=0.12 in /usr/local/lib/python3.6/dist-packages (from librosa) (0.15.1)\n",
            "Requirement already satisfied: resampy>=0.2.0 in /usr/local/lib/python3.6/dist-packages (from librosa) (0.2.2)\n",
            "Requirement already satisfied: six>=1.3 in /usr/local/lib/python3.6/dist-packages (from librosa) (1.12.0)\n",
            "Requirement already satisfied: audioread>=2.0.0 in /usr/local/lib/python3.6/dist-packages (from librosa) (2.1.8)\n",
            "Requirement already satisfied: decorator>=3.0.0 in /usr/local/lib/python3.6/dist-packages (from librosa) (4.4.2)\n",
            "Requirement already satisfied: numpy>=1.8.0 in /usr/local/lib/python3.6/dist-packages (from librosa) (1.18.5)\n",
            "Requirement already satisfied: scikit-learn!=0.19.0,>=0.14.0 in /usr/local/lib/python3.6/dist-packages (from librosa) (0.22.2.post1)\n",
            "Requirement already satisfied: scipy>=1.0.0 in /usr/local/lib/python3.6/dist-packages (from librosa) (1.4.1)\n",
            "Requirement already satisfied: setuptools in /usr/local/lib/python3.6/dist-packages (from numba>=0.38.0->librosa) (47.1.1)\n",
            "Requirement already satisfied: llvmlite<0.32.0,>=0.31.0dev0 in /usr/local/lib/python3.6/dist-packages (from numba>=0.38.0->librosa) (0.31.0)\n"
          ],
          "name": "stdout"
        }
      ]
    },
    {
      "cell_type": "code",
      "metadata": {
        "id": "c-kU_a0NruyM",
        "colab_type": "code",
        "outputId": "fb7ff3a8-7e63-46d2-9f5e-2656c0757064",
        "colab": {
          "base_uri": "https://localhost:8080/",
          "height": 193
        }
      },
      "source": [
        "!pip install ipython-autotime\n",
        "\n",
        "%load_ext autotime"
      ],
      "execution_count": 0,
      "outputs": [
        {
          "output_type": "stream",
          "text": [
            "Collecting ipython-autotime\n",
            "  Downloading https://files.pythonhosted.org/packages/e6/f9/0626bbdb322e3a078d968e87e3b01341e7890544de891d0cb613641220e6/ipython-autotime-0.1.tar.bz2\n",
            "Building wheels for collected packages: ipython-autotime\n",
            "  Building wheel for ipython-autotime (setup.py) ... \u001b[?25l\u001b[?25hdone\n",
            "  Created wheel for ipython-autotime: filename=ipython_autotime-0.1-cp36-none-any.whl size=1832 sha256=f3585f1b25451a98c4f69903cf550b3260ad00e636f7fc35dc70eab5ca307dfe\n",
            "  Stored in directory: /root/.cache/pip/wheels/d2/df/81/2db1e54bc91002cec40334629bc39cfa86dff540b304ebcd6e\n",
            "Successfully built ipython-autotime\n",
            "Installing collected packages: ipython-autotime\n",
            "Successfully installed ipython-autotime-0.1\n"
          ],
          "name": "stdout"
        }
      ]
    },
    {
      "cell_type": "code",
      "metadata": {
        "id": "toPMMVMwr8T1",
        "colab_type": "code",
        "outputId": "3fc7792b-7d9b-4bec-a73a-fc3e8b3302b5",
        "colab": {
          "base_uri": "https://localhost:8080/",
          "height": 35
        }
      },
      "source": [
        "info_sound = df_meta[['filename','scene_label']].to_numpy()\n",
        "np.unique(info_sound).shape"
      ],
      "execution_count": 0,
      "outputs": [
        {
          "output_type": "execute_result",
          "data": {
            "text/plain": [
              "(10082,)"
            ]
          },
          "metadata": {
            "tags": []
          },
          "execution_count": 10
        },
        {
          "output_type": "stream",
          "text": [
            "time: 15.1 ms\n"
          ],
          "name": "stdout"
        }
      ]
    },
    {
      "cell_type": "code",
      "metadata": {
        "id": "A587AkAuzyl8",
        "colab_type": "code",
        "outputId": "fc9678a5-2145-453b-cbbf-697c7401e5f6",
        "colab": {
          "base_uri": "https://localhost:8080/",
          "height": 35
        }
      },
      "source": [
        "FILEPATH = '/content/drive/My Drive/DCASE 2020 Challenge/TAU Urban Acoustic Scenes 2020 3Class/features.csv'\n",
        "BASE_PATH = '/content/drive/My Drive/DCASE 2020 Challenge/TAU Urban Acoustic Scenes 2020 3Class/'"
      ],
      "execution_count": 0,
      "outputs": [
        {
          "output_type": "stream",
          "text": [
            "time: 1.28 ms\n"
          ],
          "name": "stdout"
        }
      ]
    },
    {
      "cell_type": "markdown",
      "metadata": {
        "id": "3qmgNaFPBYfN",
        "colab_type": "text"
      },
      "source": [
        "# Reading Features Dataframe"
      ]
    },
    {
      "cell_type": "markdown",
      "metadata": {
        "id": "1OFRH-tEdkEQ",
        "colab_type": "text"
      },
      "source": [
        "DF: Descrição\n",
        "\n",
        "        features\n",
        "*   0: média centroide \n",
        "*   1: std centroide\n",
        "*   2: media flatness\n",
        "*   3: std flatness\n",
        "*   4: média rms\n",
        "*   5: std rms\n",
        "*   6-10: media mfccs\n",
        "*   11-15: std mfccs\n",
        "\n",
        "\n",
        "        outros\n",
        "*   16: name\n",
        "*   17: label\n",
        "\n",
        "\n",
        "\n",
        "\n"
      ]
    },
    {
      "cell_type": "code",
      "metadata": {
        "id": "RIQCNDG2iMEg",
        "colab_type": "code",
        "outputId": "2be58158-ed9b-412d-b6f0-176d22eb58b5",
        "colab": {
          "base_uri": "https://localhost:8080/",
          "height": 35
        }
      },
      "source": [
        "pd.read_csv(BASE_PATH + 'features_io_filtered.csv').values.shape"
      ],
      "execution_count": 0,
      "outputs": [
        {
          "output_type": "execute_result",
          "data": {
            "text/plain": [
              "(111040, 18)"
            ]
          },
          "metadata": {
            "tags": []
          },
          "execution_count": 12
        },
        {
          "output_type": "stream",
          "text": [
            "time: 465 ms\n"
          ],
          "name": "stdout"
        }
      ]
    },
    {
      "cell_type": "markdown",
      "metadata": {
        "id": "Jy_I9mKe96vy",
        "colab_type": "text"
      },
      "source": [
        "Exclui as amostras que são transportation"
      ]
    },
    {
      "cell_type": "code",
      "metadata": {
        "id": "VqZRLUCm45Yt",
        "colab_type": "code",
        "outputId": "d93b7d7f-cd2e-4c7e-d14f-c1dce8cd4135",
        "colab": {
          "base_uri": "https://localhost:8080/",
          "height": 35
        }
      },
      "source": [
        "df = df[df['17'] != 'transportation']\n",
        "df.values.shape"
      ],
      "execution_count": 0,
      "outputs": [
        {
          "output_type": "execute_result",
          "data": {
            "text/plain": [
              "(82240, 18)"
            ]
          },
          "metadata": {
            "tags": []
          },
          "execution_count": 13
        },
        {
          "output_type": "stream",
          "text": [
            "time: 75.6 ms\n"
          ],
          "name": "stdout"
        }
      ]
    },
    {
      "cell_type": "code",
      "metadata": {
        "id": "81od17lrjBgb",
        "colab_type": "code",
        "outputId": "a286b97b-0bd7-4c82-cf36-65ad178259fb",
        "colab": {
          "base_uri": "https://localhost:8080/",
          "height": 413
        }
      },
      "source": [
        "df.head()"
      ],
      "execution_count": 0,
      "outputs": [
        {
          "output_type": "execute_result",
          "data": {
            "text/html": [
              "<div>\n",
              "<style scoped>\n",
              "    .dataframe tbody tr th:only-of-type {\n",
              "        vertical-align: middle;\n",
              "    }\n",
              "\n",
              "    .dataframe tbody tr th {\n",
              "        vertical-align: top;\n",
              "    }\n",
              "\n",
              "    .dataframe thead th {\n",
              "        text-align: right;\n",
              "    }\n",
              "</style>\n",
              "<table border=\"1\" class=\"dataframe\">\n",
              "  <thead>\n",
              "    <tr style=\"text-align: right;\">\n",
              "      <th></th>\n",
              "      <th>0</th>\n",
              "      <th>1</th>\n",
              "      <th>2</th>\n",
              "      <th>3</th>\n",
              "      <th>4</th>\n",
              "      <th>5</th>\n",
              "      <th>6</th>\n",
              "      <th>7</th>\n",
              "      <th>8</th>\n",
              "      <th>9</th>\n",
              "      <th>10</th>\n",
              "      <th>11</th>\n",
              "      <th>12</th>\n",
              "      <th>13</th>\n",
              "      <th>14</th>\n",
              "      <th>15</th>\n",
              "      <th>16</th>\n",
              "      <th>17</th>\n",
              "    </tr>\n",
              "  </thead>\n",
              "  <tbody>\n",
              "    <tr>\n",
              "      <th>0</th>\n",
              "      <td>2067.077543</td>\n",
              "      <td>314.596949</td>\n",
              "      <td>0.001208</td>\n",
              "      <td>0.000796</td>\n",
              "      <td>0.832156</td>\n",
              "      <td>0.190869</td>\n",
              "      <td>-6.301599</td>\n",
              "      <td>162.615785</td>\n",
              "      <td>-0.669503</td>\n",
              "      <td>21.995021</td>\n",
              "      <td>16.196891</td>\n",
              "      <td>11.842684</td>\n",
              "      <td>11.356795</td>\n",
              "      <td>9.448871</td>\n",
              "      <td>8.314006</td>\n",
              "      <td>6.413742</td>\n",
              "      <td>audio/airport-barcelona-0-0-a.wav</td>\n",
              "      <td>indoor</td>\n",
              "    </tr>\n",
              "    <tr>\n",
              "      <th>1</th>\n",
              "      <td>2396.326648</td>\n",
              "      <td>837.458722</td>\n",
              "      <td>0.002880</td>\n",
              "      <td>0.004073</td>\n",
              "      <td>1.048020</td>\n",
              "      <td>0.297459</td>\n",
              "      <td>28.847755</td>\n",
              "      <td>164.139732</td>\n",
              "      <td>-10.588623</td>\n",
              "      <td>11.819030</td>\n",
              "      <td>18.117304</td>\n",
              "      <td>23.760919</td>\n",
              "      <td>22.448040</td>\n",
              "      <td>15.889869</td>\n",
              "      <td>7.593259</td>\n",
              "      <td>8.504107</td>\n",
              "      <td>audio/airport-barcelona-0-0-a.wav</td>\n",
              "      <td>indoor</td>\n",
              "    </tr>\n",
              "    <tr>\n",
              "      <th>2</th>\n",
              "      <td>2135.928400</td>\n",
              "      <td>951.601138</td>\n",
              "      <td>0.002351</td>\n",
              "      <td>0.006495</td>\n",
              "      <td>1.104539</td>\n",
              "      <td>0.239383</td>\n",
              "      <td>27.343979</td>\n",
              "      <td>172.183293</td>\n",
              "      <td>-4.441265</td>\n",
              "      <td>12.758123</td>\n",
              "      <td>14.174672</td>\n",
              "      <td>15.299824</td>\n",
              "      <td>18.721131</td>\n",
              "      <td>10.422640</td>\n",
              "      <td>8.023112</td>\n",
              "      <td>6.574066</td>\n",
              "      <td>audio/airport-barcelona-0-0-a.wav</td>\n",
              "      <td>indoor</td>\n",
              "    </tr>\n",
              "    <tr>\n",
              "      <th>3</th>\n",
              "      <td>3452.822655</td>\n",
              "      <td>2038.634637</td>\n",
              "      <td>0.009708</td>\n",
              "      <td>0.018092</td>\n",
              "      <td>0.855968</td>\n",
              "      <td>0.179588</td>\n",
              "      <td>40.054581</td>\n",
              "      <td>139.243859</td>\n",
              "      <td>0.369508</td>\n",
              "      <td>16.225708</td>\n",
              "      <td>10.133507</td>\n",
              "      <td>45.845526</td>\n",
              "      <td>31.659113</td>\n",
              "      <td>15.694926</td>\n",
              "      <td>12.090027</td>\n",
              "      <td>11.095558</td>\n",
              "      <td>audio/airport-barcelona-0-0-a.wav</td>\n",
              "      <td>indoor</td>\n",
              "    </tr>\n",
              "    <tr>\n",
              "      <th>4</th>\n",
              "      <td>2306.117659</td>\n",
              "      <td>400.394482</td>\n",
              "      <td>0.002110</td>\n",
              "      <td>0.001465</td>\n",
              "      <td>0.695591</td>\n",
              "      <td>0.141256</td>\n",
              "      <td>-1.595393</td>\n",
              "      <td>158.681146</td>\n",
              "      <td>-3.881455</td>\n",
              "      <td>22.452005</td>\n",
              "      <td>18.370355</td>\n",
              "      <td>26.562323</td>\n",
              "      <td>11.427413</td>\n",
              "      <td>10.013492</td>\n",
              "      <td>8.081751</td>\n",
              "      <td>7.794196</td>\n",
              "      <td>audio/airport-barcelona-0-0-a.wav</td>\n",
              "      <td>indoor</td>\n",
              "    </tr>\n",
              "  </tbody>\n",
              "</table>\n",
              "</div>"
            ],
            "text/plain": [
              "             0            1  ...                                 16      17\n",
              "0  2067.077543   314.596949  ...  audio/airport-barcelona-0-0-a.wav  indoor\n",
              "1  2396.326648   837.458722  ...  audio/airport-barcelona-0-0-a.wav  indoor\n",
              "2  2135.928400   951.601138  ...  audio/airport-barcelona-0-0-a.wav  indoor\n",
              "3  3452.822655  2038.634637  ...  audio/airport-barcelona-0-0-a.wav  indoor\n",
              "4  2306.117659   400.394482  ...  audio/airport-barcelona-0-0-a.wav  indoor\n",
              "\n",
              "[5 rows x 18 columns]"
            ]
          },
          "metadata": {
            "tags": []
          },
          "execution_count": 27
        },
        {
          "output_type": "stream",
          "text": [
            "time: 47.4 ms\n"
          ],
          "name": "stdout"
        }
      ]
    },
    {
      "cell_type": "code",
      "metadata": {
        "id": "EBzZ73bxqbID",
        "colab_type": "code",
        "outputId": "741cffa4-a391-4329-fdd7-ecc39262a824",
        "colab": {
          "base_uri": "https://localhost:8080/",
          "height": 35
        }
      },
      "source": [
        "#df.iloc[:,-1], indices = pd.factorize(df.iloc[:,-1])"
      ],
      "execution_count": 0,
      "outputs": [
        {
          "output_type": "stream",
          "text": [
            "time: 665 µs\n"
          ],
          "name": "stdout"
        }
      ]
    },
    {
      "cell_type": "code",
      "metadata": {
        "id": "b7yrSNVe1tc4",
        "colab_type": "code",
        "outputId": "068e9d02-052e-4c02-d410-663d0d23e79a",
        "colab": {
          "base_uri": "https://localhost:8080/",
          "height": 89
        }
      },
      "source": [
        "from sklearn.preprocessing import StandardScaler\n",
        "from sklearn import metrics\n",
        "import pickle\n",
        "from collections import Counter\n",
        "from sklearn.decomposition import PCA\n",
        "import seaborn as sns\n",
        "from sklearn.model_selection import train_test_split"
      ],
      "execution_count": 0,
      "outputs": [
        {
          "output_type": "stream",
          "text": [
            "time: 36.3 ms\n"
          ],
          "name": "stdout"
        },
        {
          "output_type": "stream",
          "text": [
            "/usr/local/lib/python3.6/dist-packages/statsmodels/tools/_testing.py:19: FutureWarning: pandas.util.testing is deprecated. Use the functions in the public API at pandas.testing instead.\n",
            "  import pandas.util.testing as tm\n"
          ],
          "name": "stderr"
        }
      ]
    },
    {
      "cell_type": "markdown",
      "metadata": {
        "id": "jO9K4pcEvFVk",
        "colab_type": "text"
      },
      "source": [
        "Split no dataframe df_meta, selecionando músicas de teste e treino"
      ]
    },
    {
      "cell_type": "code",
      "metadata": {
        "id": "EUhEp_lECS78",
        "colab_type": "code",
        "outputId": "2285aac9-fae3-48ac-906b-862eb6eb86ea",
        "colab": {
          "base_uri": "https://localhost:8080/",
          "height": 35
        }
      },
      "source": [
        "def split_train_test(df):\n",
        "    test_names = joblib.load(BASE_PATH + 'test_names.pkl')\n",
        "    train_names = joblib.load(BASE_PATH + 'train_names.pkl')\n",
        "    X_train = df.loc[df['16'].isin(train_names)]\n",
        "    X_test = df.loc[df['16'].isin(test_names)]\n",
        "    y_train = X_train[['16','17']]\n",
        "    y_test = X_test[['16','17']]\n",
        "    X_train = X_train.drop(columns=['16','17'])\n",
        "    X_test = X_test.drop(columns=['16','17'])\n",
        "    print(X_train.values.shape, X_test.values.shape)\n",
        "    return [X_train, X_test, y_train, y_test]"
      ],
      "execution_count": 0,
      "outputs": [
        {
          "output_type": "stream",
          "text": [
            "time: 4.61 ms\n"
          ],
          "name": "stdout"
        }
      ]
    },
    {
      "cell_type": "code",
      "metadata": {
        "id": "a6DUiZXyLoTG",
        "colab_type": "code",
        "outputId": "17560728-07df-4ef6-dbb7-0707716fdcec",
        "colab": {
          "base_uri": "https://localhost:8080/",
          "height": 35
        }
      },
      "source": [
        "def standardize(X_train, X_test):\n",
        "    scaler = StandardScaler()\n",
        "    scaler.fit(X_train.values)\n",
        "    joblib.dump(scaler, BASE_PATH + 'scaler_io.pkl')\n",
        "    X_train = scaler.transform(X_train.values)\n",
        "    X_test = scaler.transform(X_test.values)\n",
        "    return [X_train, X_test]"
      ],
      "execution_count": 0,
      "outputs": [
        {
          "output_type": "stream",
          "text": [
            "time: 3.14 ms\n"
          ],
          "name": "stdout"
        }
      ]
    },
    {
      "cell_type": "markdown",
      "metadata": {
        "id": "0U0XQuSjPmCB",
        "colab_type": "text"
      },
      "source": [
        "# Linear SVC Classifier"
      ]
    },
    {
      "cell_type": "code",
      "metadata": {
        "id": "oWw4aOINED0h",
        "colab_type": "code",
        "outputId": "753e0898-f79b-4baf-f981-bfcaf2d42dbe",
        "colab": {
          "base_uri": "https://localhost:8080/",
          "height": 89
        }
      },
      "source": [
        "from sklearn.metrics import confusion_matrix,classification_report, plot_confusion_matrix, accuracy_score, confusion_matrix\n",
        "from sklearn.model_selection import cross_val_score\n",
        "from sklearn.externals import joblib\n",
        "from sklearn.svm import LinearSVC"
      ],
      "execution_count": 0,
      "outputs": [
        {
          "output_type": "stream",
          "text": [
            "time: 6.59 ms\n"
          ],
          "name": "stdout"
        },
        {
          "output_type": "stream",
          "text": [
            "/usr/local/lib/python3.6/dist-packages/sklearn/externals/joblib/__init__.py:15: FutureWarning: sklearn.externals.joblib is deprecated in 0.21 and will be removed in 0.23. Please import this functionality directly from joblib, which can be installed with: pip install joblib. If this warning is raised when loading pickled models, you may need to re-serialize those models with scikit-learn 0.21+.\n",
            "  warnings.warn(msg, category=FutureWarning)\n"
          ],
          "name": "stderr"
        }
      ]
    },
    {
      "cell_type": "code",
      "metadata": {
        "id": "LUIHXcTT1xaX",
        "colab_type": "code",
        "outputId": "696e17d9-4840-4c47-c33c-ae4c6d319592",
        "colab": {
          "base_uri": "https://localhost:8080/",
          "height": 35
        }
      },
      "source": [
        "def get_model(X_train,y_train, y_test, X_test):\n",
        "    model = LinearSVC(C=10, random_state=42)\n",
        "    model.fit(X_train,y_train)\n",
        "    y_pred = (model.predict(X_test))\n",
        "    print(\"SVC Accuracy :\", accuracy_score(y_test, y_pred))\n",
        "    filename = BASE_PATH + 'linearsvc_indoor_outdoor.pkl'\n",
        "    joblib.dump(model, filename)\n",
        "    return model, y_pred"
      ],
      "execution_count": 0,
      "outputs": [
        {
          "output_type": "stream",
          "text": [
            "time: 4.61 ms\n"
          ],
          "name": "stdout"
        }
      ]
    },
    {
      "cell_type": "code",
      "metadata": {
        "id": "TvoU3jjJuJV3",
        "colab_type": "code",
        "outputId": "e6bc5aec-8072-4f50-f9d2-a6fa20a74b6d",
        "colab": {
          "base_uri": "https://localhost:8080/",
          "height": 35
        }
      },
      "source": [
        "def plot_cf(y_pred, y_test):\n",
        "    print(classification_report(y_test, y_pred))"
      ],
      "execution_count": 0,
      "outputs": [
        {
          "output_type": "stream",
          "text": [
            "time: 1.13 ms\n"
          ],
          "name": "stdout"
        }
      ]
    },
    {
      "cell_type": "markdown",
      "metadata": {
        "id": "jQAceUVb-qqG",
        "colab_type": "text"
      },
      "source": [
        "Contagem das predições para cada música"
      ]
    },
    {
      "cell_type": "code",
      "metadata": {
        "id": "cY0LI6g15kpW",
        "colab_type": "code",
        "outputId": "b07269cc-617e-40c8-f34a-70530bc044fa",
        "colab": {
          "base_uri": "https://localhost:8080/",
          "height": 35
        }
      },
      "source": [
        "def contagem_e_votacao(test_vs_pred):\n",
        "    '''\n",
        "        Cria um dicionário com os nomes das músicas e adiciona todas as 10 predições associadas a uma música\n",
        "    '''\n",
        "    dic_names = dict()\n",
        "    music_names_unique = np.unique(test_vs_pred['16'])\n",
        "    for id in music_names_unique:\n",
        "        dic_names[id] = []\n",
        "    #print(len(dic_names))\n",
        "\n",
        "    for name, label, pred in test_vs_pred.values:\n",
        "        #print(name, label, pred)\n",
        "        dic_names[name].append(pred)\n",
        "\n",
        "    '''\n",
        "        Utiliza um counter para contar a frequência dos labels (indoor ou outdoor)\n",
        "        Depois pega o label com maior contagem para ser o label definitivo\n",
        "    '''\n",
        "    counter = [Counter(pred) for name,pred in dic_names.items()]\n",
        "    music_y_pred = [max(x, key=x.get) for x in counter]\n",
        "    #print(music_y_pred)\n",
        "    #print(len(music_y_pred))\n",
        "    music_y_test = (test_vs_pred[['16','17']].drop_duplicates())['17'].values\n",
        "    #print((music_y_test))\n",
        "    plot_cf(music_y_pred, music_y_test)\n",
        "    return metrics.accuracy_score(music_y_test,music_y_pred)"
      ],
      "execution_count": 0,
      "outputs": [
        {
          "output_type": "stream",
          "text": [
            "time: 10.7 ms\n"
          ],
          "name": "stdout"
        }
      ]
    },
    {
      "cell_type": "code",
      "metadata": {
        "id": "h1JGSISJOGJC",
        "colab_type": "code",
        "outputId": "29668f23-d200-4e89-ece2-af81de2989a1",
        "colab": {
          "base_uri": "https://localhost:8080/",
          "height": 35
        }
      },
      "source": [
        "def pca(X_train, X_test, y_train, y_test):\n",
        "    pca = PCA(2)\n",
        "    scl = StandardScaler()\n",
        "    X = np.vstack([X_train,X_test])\n",
        "    y = np.hstack([y_train,y_test])\n",
        "    X_scl = scl.fit_transform(X)\n",
        "    pca.fit(X_scl)\n",
        "    X_pca = pca.transform(X_scl)\n",
        "    sns.scatterplot(x=X_pca[:,0], y=X_pca[:,1],hue=y)"
      ],
      "execution_count": 0,
      "outputs": [
        {
          "output_type": "stream",
          "text": [
            "time: 5.55 ms\n"
          ],
          "name": "stdout"
        }
      ]
    },
    {
      "cell_type": "code",
      "metadata": {
        "id": "q0EsTBVtqGxz",
        "colab_type": "code",
        "outputId": "3ab91b9d-ae55-43fe-94e1-98bc0a0e2748",
        "colab": {
          "base_uri": "https://localhost:8080/",
          "height": 35
        }
      },
      "source": [
        "def classify(df):\n",
        "    X_train, X_test, y_train, y_test = split_train_test(df) \n",
        "    X_train, X_test = standardize(X_train, X_test)\n",
        "    model, y_pred = get_model(X_train, y_train['17'].values, y_test['17'].values, X_test)\n",
        "    test_vs_pred = y_test\n",
        "    test_vs_pred['pred'] = y_pred\n",
        "    final_accuracy = contagem_e_votacao(test_vs_pred)\n",
        "    pca(X_train, X_test, y_train['17'].values, y_test['17'].values)\n",
        "    return final_accuracy"
      ],
      "execution_count": 0,
      "outputs": [
        {
          "output_type": "stream",
          "text": [
            "time: 4.83 ms\n"
          ],
          "name": "stdout"
        }
      ]
    },
    {
      "cell_type": "code",
      "metadata": {
        "id": "KVQPJn_Vs3w9",
        "colab_type": "code",
        "outputId": "5dc1e929-ae3e-48ad-8c52-05d1a8d4df68",
        "colab": {
          "base_uri": "https://localhost:8080/",
          "height": 545
        }
      },
      "source": [
        "acc = classify(df)\n",
        "print(acc)"
      ],
      "execution_count": 0,
      "outputs": [
        {
          "output_type": "stream",
          "text": [
            "(65780, 16) (16460, 16)\n"
          ],
          "name": "stdout"
        },
        {
          "output_type": "stream",
          "text": [
            "/usr/local/lib/python3.6/dist-packages/sklearn/svm/_base.py:947: ConvergenceWarning: Liblinear failed to converge, increase the number of iterations.\n",
            "  \"the number of iterations.\", ConvergenceWarning)\n"
          ],
          "name": "stderr"
        },
        {
          "output_type": "stream",
          "text": [
            "SVC Accuracy : 0.7246658566221142\n",
            "              precision    recall  f1-score   support\n",
            "\n",
            "      indoor       0.70      0.87      0.77       865\n",
            "     outdoor       0.80      0.58      0.67       781\n",
            "\n",
            "    accuracy                           0.73      1646\n",
            "   macro avg       0.75      0.72      0.72      1646\n",
            "weighted avg       0.75      0.73      0.73      1646\n",
            "\n",
            "0.7320777642770352\n"
          ],
          "name": "stdout"
        },
        {
          "output_type": "display_data",
          "data": {
            "image/png": "[encoded data removed]",
            "text/plain": [
              "<Figure size 432x288 with 1 Axes>"
            ]
          },
          "metadata": {
            "tags": [],
            "needs_background": "light"
          }
        },
        {
          "output_type": "stream",
          "text": [
            "time: 13.3 s\n"
          ],
          "name": "stdout"
        }
      ]
    },
    {
      "cell_type": "markdown",
      "metadata": {
        "id": "CzuqbBdT9lXV",
        "colab_type": "text"
      },
      "source": [
        "Tamanho do modelo em KB"
      ]
    },
    {
      "cell_type": "code",
      "metadata": {
        "id": "f-0YEVYucJL3",
        "colab_type": "code",
        "outputId": "7d9d635e-cafa-4667-91af-12915eb7c207",
        "colab": {
          "base_uri": "https://localhost:8080/",
          "height": 35
        }
      },
      "source": [
        "(os.path.getsize(BASE_PATH + 'linearsvc_indoor_outdoor.pkl')/1024)"
      ],
      "execution_count": 0,
      "outputs": [
        {
          "output_type": "execute_result",
          "data": {
            "text/plain": [
              "1.1416015625"
            ]
          },
          "metadata": {
            "tags": []
          },
          "execution_count": 31
        },
        {
          "output_type": "stream",
          "text": [
            "time: 5.07 ms\n"
          ],
          "name": "stdout"
        }
      ]
    },
    {
      "cell_type": "code",
      "metadata": {
        "id": "AaNGm1yFugsn",
        "colab_type": "code",
        "colab": {}
      },
      "source": [
        ""
      ],
      "execution_count": 0,
      "outputs": []
    }
  ]
}