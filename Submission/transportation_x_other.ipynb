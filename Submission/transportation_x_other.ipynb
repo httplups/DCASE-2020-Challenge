{
  "nbformat": 4,
  "nbformat_minor": 0,
  "metadata": {
    "colab": {
      "name": "feats alvaro - transportation vs resto.ipynb",
      "provenance": [],
      "collapsed_sections": [],
      "toc_visible": true,
      "machine_shape": "hm"
    },
    "kernelspec": {
      "name": "python3",
      "display_name": "Python 3"
    }
  },
  "cells": [
    {
      "cell_type": "markdown",
      "metadata": {
        "id": "jLOsGEKC7NmK",
        "colab_type": "text"
      },
      "source": [
        "# Treinamento do Modelo Transportation x Resto (Não transportation)\n",
        "Luana Barros"
      ]
    },
    {
      "cell_type": "code",
      "metadata": {
        "id": "ptGENpqklOQv",
        "colab_type": "code",
        "outputId": "997ba5cc-15ff-4550-8555-b3c3c110d6b0",
        "colab": {
          "base_uri": "https://localhost:8080/",
          "height": 349
        }
      },
      "source": [
        "import matplotlib.pyplot as plt\n",
        "import numpy as np # linear algebra\n",
        "import pandas as pd\n",
        "import librosa\n",
        "import librosa.display\n",
        "import os\n",
        "from os import path\n",
        "import io\n",
        "!pip3 install soundfile\n",
        "!pip3 install librosa\n",
        "import soundfile as sf\n",
        "import librosa.feature\n"
      ],
      "execution_count": 0,
      "outputs": [
        {
          "output_type": "stream",
          "text": [
            "Collecting soundfile\n",
            "  Downloading https://files.pythonhosted.org/packages/eb/f2/3cbbbf3b96fb9fa91582c438b574cff3f45b29c772f94c400e2c99ef5db9/SoundFile-0.10.3.post1-py2.py3-none-any.whl\n",
            "Requirement already satisfied: cffi>=1.0 in /usr/local/lib/python3.6/dist-packages (from soundfile) (1.14.0)\n",
            "Requirement already satisfied: pycparser in /usr/local/lib/python3.6/dist-packages (from cffi>=1.0->soundfile) (2.20)\n",
            "Installing collected packages: soundfile\n",
            "Successfully installed soundfile-0.10.3.post1\n",
            "Requirement already satisfied: librosa in /usr/local/lib/python3.6/dist-packages (0.6.3)\n",
            "Requirement already satisfied: decorator>=3.0.0 in /usr/local/lib/python3.6/dist-packages (from librosa) (4.4.2)\n",
            "Requirement already satisfied: numpy>=1.8.0 in /usr/local/lib/python3.6/dist-packages (from librosa) (1.18.5)\n",
            "Requirement already satisfied: scikit-learn!=0.19.0,>=0.14.0 in /usr/local/lib/python3.6/dist-packages (from librosa) (0.22.2.post1)\n",
            "Requirement already satisfied: audioread>=2.0.0 in /usr/local/lib/python3.6/dist-packages (from librosa) (2.1.8)\n",
            "Requirement already satisfied: numba>=0.38.0 in /usr/local/lib/python3.6/dist-packages (from librosa) (0.48.0)\n",
            "Requirement already satisfied: resampy>=0.2.0 in /usr/local/lib/python3.6/dist-packages (from librosa) (0.2.2)\n",
            "Requirement already satisfied: scipy>=1.0.0 in /usr/local/lib/python3.6/dist-packages (from librosa) (1.4.1)\n",
            "Requirement already satisfied: six>=1.3 in /usr/local/lib/python3.6/dist-packages (from librosa) (1.12.0)\n",
            "Requirement already satisfied: joblib>=0.12 in /usr/local/lib/python3.6/dist-packages (from librosa) (0.15.1)\n",
            "Requirement already satisfied: setuptools in /usr/local/lib/python3.6/dist-packages (from numba>=0.38.0->librosa) (47.1.1)\n",
            "Requirement already satisfied: llvmlite<0.32.0,>=0.31.0dev0 in /usr/local/lib/python3.6/dist-packages (from numba>=0.38.0->librosa) (0.31.0)\n"
          ],
          "name": "stdout"
        }
      ]
    },
    {
      "cell_type": "code",
      "metadata": {
        "id": "c-kU_a0NruyM",
        "colab_type": "code",
        "outputId": "1342e21f-677d-46b3-fba0-08eebe8386c1",
        "colab": {
          "base_uri": "https://localhost:8080/",
          "height": 193
        }
      },
      "source": [
        "!pip install ipython-autotime\n",
        "\n",
        "%load_ext autotime"
      ],
      "execution_count": 0,
      "outputs": [
        {
          "output_type": "stream",
          "text": [
            "Collecting ipython-autotime\n",
            "  Downloading https://files.pythonhosted.org/packages/e6/f9/0626bbdb322e3a078d968e87e3b01341e7890544de891d0cb613641220e6/ipython-autotime-0.1.tar.bz2\n",
            "Building wheels for collected packages: ipython-autotime\n",
            "  Building wheel for ipython-autotime (setup.py) ... \u001b[?25l\u001b[?25hdone\n",
            "  Created wheel for ipython-autotime: filename=ipython_autotime-0.1-cp36-none-any.whl size=1832 sha256=c757bb6f659bfd3cb76eb116f775735b37dd6dafc3b29222ac9be8ebb477a0da\n",
            "  Stored in directory: /root/.cache/pip/wheels/d2/df/81/2db1e54bc91002cec40334629bc39cfa86dff540b304ebcd6e\n",
            "Successfully built ipython-autotime\n",
            "Installing collected packages: ipython-autotime\n",
            "Successfully installed ipython-autotime-0.1\n"
          ],
          "name": "stdout"
        }
      ]
    },
    {
      "cell_type": "code",
      "metadata": {
        "id": "A587AkAuzyl8",
        "colab_type": "code",
        "outputId": "b05e4b2a-872a-48d2-b9dc-d5b8b60bde46",
        "colab": {
          "base_uri": "https://localhost:8080/",
          "height": 35
        }
      },
      "source": [
        "BASE_PATH = '/content/drive/My Drive/DCASE 2020 Challenge/TAU Urban Acoustic Scenes 2020 3Class/'"
      ],
      "execution_count": 0,
      "outputs": [
        {
          "output_type": "stream",
          "text": [
            "time: 1.23 ms\n"
          ],
          "name": "stdout"
        }
      ]
    },
    {
      "cell_type": "markdown",
      "metadata": {
        "id": "zCC0EbABtCfB",
        "colab_type": "text"
      },
      "source": [
        "Labels:\n",
        "\n",
        "\n",
        "0.   Indoor\n",
        "1.   Outdoor\n",
        "2.   Transportation\n",
        "\n"
      ]
    },
    {
      "cell_type": "code",
      "metadata": {
        "id": "YAlTM5DbQ863",
        "colab_type": "code",
        "outputId": "8286edc0-ce98-4676-91b1-a81351361e65",
        "colab": {
          "base_uri": "https://localhost:8080/",
          "height": 35
        }
      },
      "source": [
        "df = pd.read_csv('/content/drive/My Drive/DCASE 2020 Challenge/TAU Urban Acoustic Scenes 2020 3Class/features_for_transp.csv')\n",
        "df.values.shape"
      ],
      "execution_count": 0,
      "outputs": [
        {
          "output_type": "execute_result",
          "data": {
            "text/plain": [
              "(11104, 18)"
            ]
          },
          "metadata": {
            "tags": []
          },
          "execution_count": 56
        },
        {
          "output_type": "stream",
          "text": [
            "time: 79.6 ms\n"
          ],
          "name": "stdout"
        }
      ]
    },
    {
      "cell_type": "code",
      "metadata": {
        "id": "UiSv8ddxqGkJ",
        "colab_type": "code",
        "outputId": "165768c3-1060-4c6c-8721-6820e7b289ad",
        "colab": {
          "base_uri": "https://localhost:8080/",
          "height": 35
        }
      },
      "source": [
        "df['17'] = df['file'].apply(lambda x: x[50:])\n",
        "df = df.drop(columns=['file'])"
      ],
      "execution_count": 0,
      "outputs": [
        {
          "output_type": "stream",
          "text": [
            "time: 9.77 ms\n"
          ],
          "name": "stdout"
        }
      ]
    },
    {
      "cell_type": "code",
      "metadata": {
        "id": "DAQp2-tpry2q",
        "colab_type": "code",
        "outputId": "33ca53eb-018f-4bf5-cc82-00cf2e4dfaf8",
        "colab": {
          "base_uri": "https://localhost:8080/",
          "height": 413
        }
      },
      "source": [
        "df.head()"
      ],
      "execution_count": 0,
      "outputs": [
        {
          "output_type": "execute_result",
          "data": {
            "text/html": [
              "<div>\n",
              "<style scoped>\n",
              "    .dataframe tbody tr th:only-of-type {\n",
              "        vertical-align: middle;\n",
              "    }\n",
              "\n",
              "    .dataframe tbody tr th {\n",
              "        vertical-align: top;\n",
              "    }\n",
              "\n",
              "    .dataframe thead th {\n",
              "        text-align: right;\n",
              "    }\n",
              "</style>\n",
              "<table border=\"1\" class=\"dataframe\">\n",
              "  <thead>\n",
              "    <tr style=\"text-align: right;\">\n",
              "      <th></th>\n",
              "      <th>0</th>\n",
              "      <th>1</th>\n",
              "      <th>2</th>\n",
              "      <th>3</th>\n",
              "      <th>4</th>\n",
              "      <th>5</th>\n",
              "      <th>6</th>\n",
              "      <th>7</th>\n",
              "      <th>8</th>\n",
              "      <th>9</th>\n",
              "      <th>10</th>\n",
              "      <th>11</th>\n",
              "      <th>12</th>\n",
              "      <th>13</th>\n",
              "      <th>14</th>\n",
              "      <th>15</th>\n",
              "      <th>16</th>\n",
              "      <th>17</th>\n",
              "    </tr>\n",
              "  </thead>\n",
              "  <tbody>\n",
              "    <tr>\n",
              "      <th>0</th>\n",
              "      <td>0.002238</td>\n",
              "      <td>0.000558</td>\n",
              "      <td>0.002743</td>\n",
              "      <td>0.007208</td>\n",
              "      <td>1048.711547</td>\n",
              "      <td>463.167051</td>\n",
              "      <td>-577.001380</td>\n",
              "      <td>163.258139</td>\n",
              "      <td>-3.549339</td>\n",
              "      <td>22.017591</td>\n",
              "      <td>13.494924</td>\n",
              "      <td>31.869020</td>\n",
              "      <td>21.825554</td>\n",
              "      <td>12.326134</td>\n",
              "      <td>10.821680</td>\n",
              "      <td>9.552340</td>\n",
              "      <td>indoor</td>\n",
              "      <td>audio/airport-barcelona-0-0-a.wav</td>\n",
              "    </tr>\n",
              "    <tr>\n",
              "      <th>1</th>\n",
              "      <td>0.002880</td>\n",
              "      <td>0.000903</td>\n",
              "      <td>0.001126</td>\n",
              "      <td>0.001958</td>\n",
              "      <td>886.422711</td>\n",
              "      <td>241.592415</td>\n",
              "      <td>-563.894864</td>\n",
              "      <td>174.513166</td>\n",
              "      <td>-14.495222</td>\n",
              "      <td>23.946321</td>\n",
              "      <td>18.321768</td>\n",
              "      <td>29.040112</td>\n",
              "      <td>16.301472</td>\n",
              "      <td>13.782981</td>\n",
              "      <td>8.090115</td>\n",
              "      <td>8.115766</td>\n",
              "      <td>indoor</td>\n",
              "      <td>audio/airport-barcelona-0-1-a.wav</td>\n",
              "    </tr>\n",
              "    <tr>\n",
              "      <th>2</th>\n",
              "      <td>0.001869</td>\n",
              "      <td>0.000431</td>\n",
              "      <td>0.001523</td>\n",
              "      <td>0.001664</td>\n",
              "      <td>945.652024</td>\n",
              "      <td>221.316045</td>\n",
              "      <td>-593.787671</td>\n",
              "      <td>168.131292</td>\n",
              "      <td>-8.964122</td>\n",
              "      <td>24.838048</td>\n",
              "      <td>15.403514</td>\n",
              "      <td>22.797653</td>\n",
              "      <td>16.934774</td>\n",
              "      <td>9.883444</td>\n",
              "      <td>9.331934</td>\n",
              "      <td>8.159728</td>\n",
              "      <td>indoor</td>\n",
              "      <td>audio/airport-barcelona-0-10-a.wav</td>\n",
              "    </tr>\n",
              "    <tr>\n",
              "      <th>3</th>\n",
              "      <td>0.002032</td>\n",
              "      <td>0.000947</td>\n",
              "      <td>0.002943</td>\n",
              "      <td>0.003316</td>\n",
              "      <td>1164.856147</td>\n",
              "      <td>344.481524</td>\n",
              "      <td>-578.611030</td>\n",
              "      <td>152.952367</td>\n",
              "      <td>-0.808523</td>\n",
              "      <td>18.432182</td>\n",
              "      <td>11.709905</td>\n",
              "      <td>25.279528</td>\n",
              "      <td>19.047370</td>\n",
              "      <td>12.422158</td>\n",
              "      <td>9.473015</td>\n",
              "      <td>9.504347</td>\n",
              "      <td>indoor</td>\n",
              "      <td>audio/airport-barcelona-0-11-a.wav</td>\n",
              "    </tr>\n",
              "    <tr>\n",
              "      <th>4</th>\n",
              "      <td>0.002016</td>\n",
              "      <td>0.000527</td>\n",
              "      <td>0.001742</td>\n",
              "      <td>0.001874</td>\n",
              "      <td>966.899681</td>\n",
              "      <td>252.108832</td>\n",
              "      <td>-578.576194</td>\n",
              "      <td>171.175143</td>\n",
              "      <td>-13.635943</td>\n",
              "      <td>22.459849</td>\n",
              "      <td>15.334096</td>\n",
              "      <td>21.597844</td>\n",
              "      <td>17.593605</td>\n",
              "      <td>9.983420</td>\n",
              "      <td>9.635203</td>\n",
              "      <td>8.164152</td>\n",
              "      <td>indoor</td>\n",
              "      <td>audio/airport-barcelona-0-12-a.wav</td>\n",
              "    </tr>\n",
              "  </tbody>\n",
              "</table>\n",
              "</div>"
            ],
            "text/plain": [
              "          0         1  ...      16                                  17\n",
              "0  0.002238  0.000558  ...  indoor   audio/airport-barcelona-0-0-a.wav\n",
              "1  0.002880  0.000903  ...  indoor   audio/airport-barcelona-0-1-a.wav\n",
              "2  0.001869  0.000431  ...  indoor  audio/airport-barcelona-0-10-a.wav\n",
              "3  0.002032  0.000947  ...  indoor  audio/airport-barcelona-0-11-a.wav\n",
              "4  0.002016  0.000527  ...  indoor  audio/airport-barcelona-0-12-a.wav\n",
              "\n",
              "[5 rows x 18 columns]"
            ]
          },
          "metadata": {
            "tags": []
          },
          "execution_count": 58
        },
        {
          "output_type": "stream",
          "text": [
            "time: 38.4 ms\n"
          ],
          "name": "stdout"
        }
      ]
    },
    {
      "cell_type": "markdown",
      "metadata": {
        "id": "3qmgNaFPBYfN",
        "colab_type": "text"
      },
      "source": [
        "# Reading Features Dataframe"
      ]
    },
    {
      "cell_type": "markdown",
      "metadata": {
        "id": "1OFRH-tEdkEQ",
        "colab_type": "text"
      },
      "source": [
        "DF: Descrição\n",
        "\n",
        "        features\n",
        "*   0: média centroide \n",
        "*   1: std centroide\n",
        "*   2: media flatness\n",
        "*   3: std flatness\n",
        "*   4: média rms\n",
        "*   5: std rms\n",
        "*   6-10: media mfccs\n",
        "*   11-15: std mfccs\n",
        "\n",
        "\n",
        "        outros\n",
        "*   16: name\n",
        "*   17: label\n",
        "\n",
        "\n",
        "\n",
        "\n"
      ]
    },
    {
      "cell_type": "markdown",
      "metadata": {
        "id": "STBSMWjGpiN0",
        "colab_type": "text"
      },
      "source": [
        "Juntando indoor com outdoor"
      ]
    },
    {
      "cell_type": "code",
      "metadata": {
        "id": "2kiCMgpSuS6l",
        "colab_type": "code",
        "outputId": "020e9627-8e6d-4fd0-a5f0-d93a6bcb1156",
        "colab": {
          "base_uri": "https://localhost:8080/",
          "height": 35
        }
      },
      "source": [
        "df.loc[df['16'] == 'transportation', '16'] = 'yes_transp'\n",
        "df.loc[df['16'] != 'yes_transp', '16'] = 'not_transp'"
      ],
      "execution_count": 0,
      "outputs": [
        {
          "output_type": "stream",
          "text": [
            "time: 9.02 ms\n"
          ],
          "name": "stdout"
        }
      ]
    },
    {
      "cell_type": "code",
      "metadata": {
        "id": "ig7XOmrCuu-1",
        "colab_type": "code",
        "outputId": "ac2bb426-f43a-4bf4-e995-c26dff0bbb4a",
        "colab": {
          "base_uri": "https://localhost:8080/",
          "height": 713
        }
      },
      "source": [
        "df"
      ],
      "execution_count": 0,
      "outputs": [
        {
          "output_type": "execute_result",
          "data": {
            "text/html": [
              "<div>\n",
              "<style scoped>\n",
              "    .dataframe tbody tr th:only-of-type {\n",
              "        vertical-align: middle;\n",
              "    }\n",
              "\n",
              "    .dataframe tbody tr th {\n",
              "        vertical-align: top;\n",
              "    }\n",
              "\n",
              "    .dataframe thead th {\n",
              "        text-align: right;\n",
              "    }\n",
              "</style>\n",
              "<table border=\"1\" class=\"dataframe\">\n",
              "  <thead>\n",
              "    <tr style=\"text-align: right;\">\n",
              "      <th></th>\n",
              "      <th>0</th>\n",
              "      <th>1</th>\n",
              "      <th>2</th>\n",
              "      <th>3</th>\n",
              "      <th>4</th>\n",
              "      <th>5</th>\n",
              "      <th>6</th>\n",
              "      <th>7</th>\n",
              "      <th>8</th>\n",
              "      <th>9</th>\n",
              "      <th>10</th>\n",
              "      <th>11</th>\n",
              "      <th>12</th>\n",
              "      <th>13</th>\n",
              "      <th>14</th>\n",
              "      <th>15</th>\n",
              "      <th>16</th>\n",
              "      <th>17</th>\n",
              "    </tr>\n",
              "  </thead>\n",
              "  <tbody>\n",
              "    <tr>\n",
              "      <th>0</th>\n",
              "      <td>0.002238</td>\n",
              "      <td>0.000558</td>\n",
              "      <td>0.002743</td>\n",
              "      <td>0.007208</td>\n",
              "      <td>1048.711547</td>\n",
              "      <td>463.167051</td>\n",
              "      <td>-577.001380</td>\n",
              "      <td>163.258139</td>\n",
              "      <td>-3.549339</td>\n",
              "      <td>22.017591</td>\n",
              "      <td>13.494924</td>\n",
              "      <td>31.869020</td>\n",
              "      <td>21.825554</td>\n",
              "      <td>12.326134</td>\n",
              "      <td>10.821680</td>\n",
              "      <td>9.552340</td>\n",
              "      <td>not_transp</td>\n",
              "      <td>audio/airport-barcelona-0-0-a.wav</td>\n",
              "    </tr>\n",
              "    <tr>\n",
              "      <th>1</th>\n",
              "      <td>0.002880</td>\n",
              "      <td>0.000903</td>\n",
              "      <td>0.001126</td>\n",
              "      <td>0.001958</td>\n",
              "      <td>886.422711</td>\n",
              "      <td>241.592415</td>\n",
              "      <td>-563.894864</td>\n",
              "      <td>174.513166</td>\n",
              "      <td>-14.495222</td>\n",
              "      <td>23.946321</td>\n",
              "      <td>18.321768</td>\n",
              "      <td>29.040112</td>\n",
              "      <td>16.301472</td>\n",
              "      <td>13.782981</td>\n",
              "      <td>8.090115</td>\n",
              "      <td>8.115766</td>\n",
              "      <td>not_transp</td>\n",
              "      <td>audio/airport-barcelona-0-1-a.wav</td>\n",
              "    </tr>\n",
              "    <tr>\n",
              "      <th>2</th>\n",
              "      <td>0.001869</td>\n",
              "      <td>0.000431</td>\n",
              "      <td>0.001523</td>\n",
              "      <td>0.001664</td>\n",
              "      <td>945.652024</td>\n",
              "      <td>221.316045</td>\n",
              "      <td>-593.787671</td>\n",
              "      <td>168.131292</td>\n",
              "      <td>-8.964122</td>\n",
              "      <td>24.838048</td>\n",
              "      <td>15.403514</td>\n",
              "      <td>22.797653</td>\n",
              "      <td>16.934774</td>\n",
              "      <td>9.883444</td>\n",
              "      <td>9.331934</td>\n",
              "      <td>8.159728</td>\n",
              "      <td>not_transp</td>\n",
              "      <td>audio/airport-barcelona-0-10-a.wav</td>\n",
              "    </tr>\n",
              "    <tr>\n",
              "      <th>3</th>\n",
              "      <td>0.002032</td>\n",
              "      <td>0.000947</td>\n",
              "      <td>0.002943</td>\n",
              "      <td>0.003316</td>\n",
              "      <td>1164.856147</td>\n",
              "      <td>344.481524</td>\n",
              "      <td>-578.611030</td>\n",
              "      <td>152.952367</td>\n",
              "      <td>-0.808523</td>\n",
              "      <td>18.432182</td>\n",
              "      <td>11.709905</td>\n",
              "      <td>25.279528</td>\n",
              "      <td>19.047370</td>\n",
              "      <td>12.422158</td>\n",
              "      <td>9.473015</td>\n",
              "      <td>9.504347</td>\n",
              "      <td>not_transp</td>\n",
              "      <td>audio/airport-barcelona-0-11-a.wav</td>\n",
              "    </tr>\n",
              "    <tr>\n",
              "      <th>4</th>\n",
              "      <td>0.002016</td>\n",
              "      <td>0.000527</td>\n",
              "      <td>0.001742</td>\n",
              "      <td>0.001874</td>\n",
              "      <td>966.899681</td>\n",
              "      <td>252.108832</td>\n",
              "      <td>-578.576194</td>\n",
              "      <td>171.175143</td>\n",
              "      <td>-13.635943</td>\n",
              "      <td>22.459849</td>\n",
              "      <td>15.334096</td>\n",
              "      <td>21.597844</td>\n",
              "      <td>17.593605</td>\n",
              "      <td>9.983420</td>\n",
              "      <td>9.635203</td>\n",
              "      <td>8.164152</td>\n",
              "      <td>not_transp</td>\n",
              "      <td>audio/airport-barcelona-0-12-a.wav</td>\n",
              "    </tr>\n",
              "    <tr>\n",
              "      <th>...</th>\n",
              "      <td>...</td>\n",
              "      <td>...</td>\n",
              "      <td>...</td>\n",
              "      <td>...</td>\n",
              "      <td>...</td>\n",
              "      <td>...</td>\n",
              "      <td>...</td>\n",
              "      <td>...</td>\n",
              "      <td>...</td>\n",
              "      <td>...</td>\n",
              "      <td>...</td>\n",
              "      <td>...</td>\n",
              "      <td>...</td>\n",
              "      <td>...</td>\n",
              "      <td>...</td>\n",
              "      <td>...</td>\n",
              "      <td>...</td>\n",
              "      <td>...</td>\n",
              "    </tr>\n",
              "    <tr>\n",
              "      <th>11099</th>\n",
              "      <td>0.002858</td>\n",
              "      <td>0.000503</td>\n",
              "      <td>0.006172</td>\n",
              "      <td>0.004531</td>\n",
              "      <td>1314.035730</td>\n",
              "      <td>263.669550</td>\n",
              "      <td>-494.326972</td>\n",
              "      <td>155.093204</td>\n",
              "      <td>-4.123384</td>\n",
              "      <td>11.494567</td>\n",
              "      <td>10.596439</td>\n",
              "      <td>20.641823</td>\n",
              "      <td>16.105267</td>\n",
              "      <td>11.309044</td>\n",
              "      <td>7.825632</td>\n",
              "      <td>7.724375</td>\n",
              "      <td>not_transp</td>\n",
              "      <td>audio/street_pedestrian-prague-1037-41235-a.wav</td>\n",
              "    </tr>\n",
              "    <tr>\n",
              "      <th>11100</th>\n",
              "      <td>0.002954</td>\n",
              "      <td>0.000534</td>\n",
              "      <td>0.003640</td>\n",
              "      <td>0.004714</td>\n",
              "      <td>1131.399498</td>\n",
              "      <td>262.204499</td>\n",
              "      <td>-503.036544</td>\n",
              "      <td>167.577897</td>\n",
              "      <td>-8.360357</td>\n",
              "      <td>13.268583</td>\n",
              "      <td>5.091044</td>\n",
              "      <td>20.165237</td>\n",
              "      <td>16.505532</td>\n",
              "      <td>11.292050</td>\n",
              "      <td>9.410101</td>\n",
              "      <td>9.436072</td>\n",
              "      <td>not_transp</td>\n",
              "      <td>audio/street_pedestrian-prague-1037-41246-a.wav</td>\n",
              "    </tr>\n",
              "    <tr>\n",
              "      <th>11101</th>\n",
              "      <td>0.013725</td>\n",
              "      <td>0.003301</td>\n",
              "      <td>0.001238</td>\n",
              "      <td>0.001279</td>\n",
              "      <td>880.892480</td>\n",
              "      <td>182.055582</td>\n",
              "      <td>-386.648970</td>\n",
              "      <td>185.323055</td>\n",
              "      <td>-13.736056</td>\n",
              "      <td>14.592099</td>\n",
              "      <td>4.638376</td>\n",
              "      <td>17.262763</td>\n",
              "      <td>14.595862</td>\n",
              "      <td>10.820110</td>\n",
              "      <td>8.026369</td>\n",
              "      <td>9.478056</td>\n",
              "      <td>not_transp</td>\n",
              "      <td>audio/street_pedestrian-prague-1037-41296-a.wav</td>\n",
              "    </tr>\n",
              "    <tr>\n",
              "      <th>11102</th>\n",
              "      <td>0.013474</td>\n",
              "      <td>0.006208</td>\n",
              "      <td>0.001856</td>\n",
              "      <td>0.003179</td>\n",
              "      <td>958.122041</td>\n",
              "      <td>287.614854</td>\n",
              "      <td>-384.873187</td>\n",
              "      <td>175.603398</td>\n",
              "      <td>-10.748949</td>\n",
              "      <td>12.881635</td>\n",
              "      <td>7.658934</td>\n",
              "      <td>31.128411</td>\n",
              "      <td>18.693833</td>\n",
              "      <td>11.962067</td>\n",
              "      <td>10.060571</td>\n",
              "      <td>11.586675</td>\n",
              "      <td>not_transp</td>\n",
              "      <td>audio/street_pedestrian-prague-1037-41369-a.wav</td>\n",
              "    </tr>\n",
              "    <tr>\n",
              "      <th>11103</th>\n",
              "      <td>0.004943</td>\n",
              "      <td>0.000976</td>\n",
              "      <td>0.002624</td>\n",
              "      <td>0.002633</td>\n",
              "      <td>1085.913710</td>\n",
              "      <td>319.594990</td>\n",
              "      <td>-476.512466</td>\n",
              "      <td>168.163511</td>\n",
              "      <td>-2.028810</td>\n",
              "      <td>10.433773</td>\n",
              "      <td>10.900912</td>\n",
              "      <td>21.285956</td>\n",
              "      <td>20.288313</td>\n",
              "      <td>12.725808</td>\n",
              "      <td>8.880499</td>\n",
              "      <td>6.778046</td>\n",
              "      <td>not_transp</td>\n",
              "      <td>audio/street_pedestrian-prague-1037-41660-a.wav</td>\n",
              "    </tr>\n",
              "  </tbody>\n",
              "</table>\n",
              "<p>11104 rows × 18 columns</p>\n",
              "</div>"
            ],
            "text/plain": [
              "              0  ...                                               17\n",
              "0      0.002238  ...                audio/airport-barcelona-0-0-a.wav\n",
              "1      0.002880  ...                audio/airport-barcelona-0-1-a.wav\n",
              "2      0.001869  ...               audio/airport-barcelona-0-10-a.wav\n",
              "3      0.002032  ...               audio/airport-barcelona-0-11-a.wav\n",
              "4      0.002016  ...               audio/airport-barcelona-0-12-a.wav\n",
              "...         ...  ...                                              ...\n",
              "11099  0.002858  ...  audio/street_pedestrian-prague-1037-41235-a.wav\n",
              "11100  0.002954  ...  audio/street_pedestrian-prague-1037-41246-a.wav\n",
              "11101  0.013725  ...  audio/street_pedestrian-prague-1037-41296-a.wav\n",
              "11102  0.013474  ...  audio/street_pedestrian-prague-1037-41369-a.wav\n",
              "11103  0.004943  ...  audio/street_pedestrian-prague-1037-41660-a.wav\n",
              "\n",
              "[11104 rows x 18 columns]"
            ]
          },
          "metadata": {
            "tags": []
          },
          "execution_count": 60
        },
        {
          "output_type": "stream",
          "text": [
            "time: 45.2 ms\n"
          ],
          "name": "stdout"
        }
      ]
    },
    {
      "cell_type": "code",
      "metadata": {
        "id": "b7yrSNVe1tc4",
        "colab_type": "code",
        "outputId": "dc5c8b00-a1e2-4c3f-c39f-be00f35233aa",
        "colab": {
          "base_uri": "https://localhost:8080/",
          "height": 35
        }
      },
      "source": [
        "from sklearn.preprocessing import StandardScaler\n",
        "from sklearn import metrics\n",
        "import pickle\n",
        "from collections import Counter\n",
        "from sklearn.decomposition import PCA\n",
        "import seaborn as sns\n",
        "from sklearn.model_selection import train_test_split"
      ],
      "execution_count": 0,
      "outputs": [
        {
          "output_type": "stream",
          "text": [
            "time: 1.82 ms\n"
          ],
          "name": "stdout"
        }
      ]
    },
    {
      "cell_type": "markdown",
      "metadata": {
        "id": "jO9K4pcEvFVk",
        "colab_type": "text"
      },
      "source": [
        "Split no dataframe df_meta, selecionando músicas de teste e treino"
      ]
    },
    {
      "cell_type": "code",
      "metadata": {
        "id": "EUhEp_lECS78",
        "colab_type": "code",
        "outputId": "61a775ea-7027-463a-e158-9f21ba164a41",
        "colab": {
          "base_uri": "https://localhost:8080/",
          "height": 35
        }
      },
      "source": [
        "def split_train_test(df):\n",
        "    test_names = joblib.load(BASE_PATH + 'test_names.pkl')\n",
        "    train_names = joblib.load(BASE_PATH + 'train_names.pkl')\n",
        "    X_train = df.loc[df['17'].isin(train_names)]\n",
        "    X_test = df.loc[df['17'].isin(test_names)]\n",
        "    y_train = X_train['16']\n",
        "    y_test = X_test['16']\n",
        "    X_train = X_train.drop(columns=['16','17'])\n",
        "    X_test = X_test.drop(columns=['16','17'])\n",
        "    print(X_train.values.shape, X_test.values.shape)\n",
        "    return [X_train, X_test, y_train, y_test]"
      ],
      "execution_count": 0,
      "outputs": [
        {
          "output_type": "stream",
          "text": [
            "time: 5.31 ms\n"
          ],
          "name": "stdout"
        }
      ]
    },
    {
      "cell_type": "code",
      "metadata": {
        "id": "a6DUiZXyLoTG",
        "colab_type": "code",
        "outputId": "31f9c15a-7eaa-4bc4-88e7-6d2d1fcc6a27",
        "colab": {
          "base_uri": "https://localhost:8080/",
          "height": 35
        }
      },
      "source": [
        "def standardize(X_train, X_test):\n",
        "    print(X_test.values.shape)\n",
        "    scaler = StandardScaler()\n",
        "    scaler.fit(X_train.values)\n",
        "    joblib.dump(scaler, BASE_PATH + 'scaler_transp_alvaro.pkl')\n",
        "    X_train = scaler.transform(X_train.values)\n",
        "    X_test = scaler.transform(X_test.values)\n",
        "    return [X_train, X_test]"
      ],
      "execution_count": 0,
      "outputs": [
        {
          "output_type": "stream",
          "text": [
            "time: 2.82 ms\n"
          ],
          "name": "stdout"
        }
      ]
    },
    {
      "cell_type": "markdown",
      "metadata": {
        "id": "0U0XQuSjPmCB",
        "colab_type": "text"
      },
      "source": [
        "# Linear SVC Classifier"
      ]
    },
    {
      "cell_type": "code",
      "metadata": {
        "id": "oWw4aOINED0h",
        "colab_type": "code",
        "outputId": "8ae9645c-f729-432d-ad87-270e9b3cf16f",
        "colab": {
          "base_uri": "https://localhost:8080/",
          "height": 89
        }
      },
      "source": [
        "from sklearn.svm import SVC\n",
        "from sklearn.metrics import confusion_matrix,classification_report, plot_confusion_matrix, accuracy_score, confusion_matrix\n",
        "from sklearn.model_selection import cross_val_score, GridSearchCV\n",
        "from sklearn.svm import LinearSVC\n",
        "from sklearn.externals import joblib"
      ],
      "execution_count": 0,
      "outputs": [
        {
          "output_type": "stream",
          "text": [
            "time: 5.29 ms\n"
          ],
          "name": "stdout"
        },
        {
          "output_type": "stream",
          "text": [
            "/usr/local/lib/python3.6/dist-packages/sklearn/externals/joblib/__init__.py:15: FutureWarning: sklearn.externals.joblib is deprecated in 0.21 and will be removed in 0.23. Please import this functionality directly from joblib, which can be installed with: pip install joblib. If this warning is raised when loading pickled models, you may need to re-serialize those models with scikit-learn 0.21+.\n",
            "  warnings.warn(msg, category=FutureWarning)\n"
          ],
          "name": "stderr"
        }
      ]
    },
    {
      "cell_type": "code",
      "metadata": {
        "id": "jcjNVJNAAT7m",
        "colab_type": "code",
        "outputId": "a210a7c3-9577-435f-c8ed-1e629dc26f25",
        "colab": {
          "base_uri": "https://localhost:8080/",
          "height": 35
        }
      },
      "source": [
        "def get_model_linearSVC(X_train,y_train, y_test, X_test):\n",
        "    LSVC = LinearSVC(C = 1, dual=False, random_state=42)\n",
        "    LSVC.fit(X_train,y_train)\n",
        "    y_pred = LSVC.predict(X_test)\n",
        "    print(\"LSVC Accuracy :\", accuracy_score(y_test, y_pred))\n",
        "    filename = BASE_PATH + 'linearsvc_transp_resto_alvaro.pkl'\n",
        "    joblib.dump(LSVC, filename,compress=0)\n",
        "    return LSVC, y_pred, accuracy_score(y_test, y_pred)"
      ],
      "execution_count": 0,
      "outputs": [
        {
          "output_type": "stream",
          "text": [
            "time: 3.18 ms\n"
          ],
          "name": "stdout"
        }
      ]
    },
    {
      "cell_type": "markdown",
      "metadata": {
        "id": "jQAceUVb-qqG",
        "colab_type": "text"
      },
      "source": [
        "Contagem das predições para cada música"
      ]
    },
    {
      "cell_type": "code",
      "metadata": {
        "id": "TvoU3jjJuJV3",
        "colab_type": "code",
        "outputId": "32f91a60-84ec-450b-9d41-615400274f55",
        "colab": {
          "base_uri": "https://localhost:8080/",
          "height": 35
        }
      },
      "source": [
        "def plot_cf(y_pred, y_test):\n",
        "    print(classification_report(y_test, y_pred))"
      ],
      "execution_count": 0,
      "outputs": [
        {
          "output_type": "stream",
          "text": [
            "time: 1.04 ms\n"
          ],
          "name": "stdout"
        }
      ]
    },
    {
      "cell_type": "code",
      "metadata": {
        "id": "h1JGSISJOGJC",
        "colab_type": "code",
        "outputId": "0766e512-5aa0-45de-b00c-4acd77dec91d",
        "colab": {
          "base_uri": "https://localhost:8080/",
          "height": 35
        }
      },
      "source": [
        "def pca(X_train, X_test, y_train, y_test):\n",
        "    pca = PCA(2)\n",
        "    scl = StandardScaler()\n",
        "    X = np.vstack([X_train,X_test])\n",
        "    y = np.hstack([y_train,y_test])\n",
        "    X_scl = scl.fit_transform(X)\n",
        "    pca.fit(X_scl)\n",
        "    X_pca = pca.transform(X_scl)\n",
        "    sns.scatterplot(x=X_pca[:,0], y=X_pca[:,1],hue=y)"
      ],
      "execution_count": 0,
      "outputs": [
        {
          "output_type": "stream",
          "text": [
            "time: 86 ms\n"
          ],
          "name": "stdout"
        }
      ]
    },
    {
      "cell_type": "code",
      "metadata": {
        "id": "q0EsTBVtqGxz",
        "colab_type": "code",
        "outputId": "d6f43aad-b9f7-47ac-cd32-d01e9a248906",
        "colab": {
          "base_uri": "https://localhost:8080/",
          "height": 35
        }
      },
      "source": [
        "def classify(df):\n",
        "    X_train, X_test, y_train, y_test = split_train_test(df) \n",
        "    X_train, X_test = standardize(X_train, X_test)\n",
        "    model, y_pred, final_accuracy = get_model_linearSVC(X_train, y_train.values, y_test.values, X_test)\n",
        "    plot_cf(y_pred, y_test)\n",
        "    pca(X_train, X_test, y_train, y_test)"
      ],
      "execution_count": 0,
      "outputs": [
        {
          "output_type": "stream",
          "text": [
            "time: 2.69 ms\n"
          ],
          "name": "stdout"
        }
      ]
    },
    {
      "cell_type": "code",
      "metadata": {
        "id": "KVQPJn_Vs3w9",
        "colab_type": "code",
        "outputId": "d200fe54-11da-4c16-f9c2-4448c577190d",
        "colab": {
          "base_uri": "https://localhost:8080/",
          "height": 491
        }
      },
      "source": [
        "classify(df)"
      ],
      "execution_count": 0,
      "outputs": [
        {
          "output_type": "stream",
          "text": [
            "(8882, 16) (2222, 16)\n",
            "(2222, 16)\n",
            "LSVC Accuracy : 0.918091809180918\n",
            "              precision    recall  f1-score   support\n",
            "\n",
            "  not_transp       0.94      0.95      0.94      1646\n",
            "  yes_transp       0.85      0.84      0.84       576\n",
            "\n",
            "    accuracy                           0.92      2222\n",
            "   macro avg       0.89      0.89      0.89      2222\n",
            "weighted avg       0.92      0.92      0.92      2222\n",
            "\n"
          ],
          "name": "stdout"
        },
        {
          "output_type": "display_data",
          "data": {
            "image/png": "[encoded data removed]",
            "text/plain": [
              "<Figure size 432x288 with 1 Axes>"
            ]
          },
          "metadata": {
            "tags": [],
            "needs_background": "light"
          }
        },
        {
          "output_type": "stream",
          "text": [
            "time: 888 ms\n"
          ],
          "name": "stdout"
        }
      ]
    },
    {
      "cell_type": "markdown",
      "metadata": {
        "id": "CzuqbBdT9lXV",
        "colab_type": "text"
      },
      "source": [
        "Tamanho do modelo em KB"
      ]
    },
    {
      "cell_type": "code",
      "metadata": {
        "id": "f-0YEVYucJL3",
        "colab_type": "code",
        "outputId": "c7db7b79-71e9-412b-92ce-881bbece7fa7",
        "colab": {
          "base_uri": "https://localhost:8080/",
          "height": 35
        }
      },
      "source": [
        "(os.path.getsize(BASE_PATH + 'linearsvc_transp_resto_alvaro.pkl')/1024)"
      ],
      "execution_count": 0,
      "outputs": [
        {
          "output_type": "execute_result",
          "data": {
            "text/plain": [
              "1.1484375"
            ]
          },
          "metadata": {
            "tags": []
          },
          "execution_count": 62
        },
        {
          "output_type": "stream",
          "text": [
            "time: 2.86 ms\n"
          ],
          "name": "stdout"
        }
      ]
    },
    {
      "cell_type": "code",
      "metadata": {
        "id": "-d2K3lSzwOpL",
        "colab_type": "code",
        "colab": {}
      },
      "source": [
        ""
      ],
      "execution_count": 0,
      "outputs": []
    }
  ]
}