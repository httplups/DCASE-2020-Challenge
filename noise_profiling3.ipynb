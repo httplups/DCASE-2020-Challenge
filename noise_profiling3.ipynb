{
  "nbformat": 4,
  "nbformat_minor": 0,
  "metadata": {
    "colab": {
      "name": "noise profiling.ipynb",
      "provenance": [],
      "collapsed_sections": [],
      "toc_visible": true,
      "machine_shape": "hm"
    },
    "kernelspec": {
      "name": "python3",
      "display_name": "Python 3"
    }
  },
  "cells": [
    {
      "cell_type": "code",
      "metadata": {
        "id": "ptGENpqklOQv",
        "colab_type": "code",
        "outputId": "8b1baf56-33f3-4109-8a59-d0d1df7046fd",
        "colab": {
          "base_uri": "https://localhost:8080/",
          "height": 318
        }
      },
      "source": [
        "import matplotlib.pyplot as plt\n",
        "import numpy as np # linear algebra\n",
        "import pandas as pd\n",
        "import librosa\n",
        "import librosa.display\n",
        "import os\n",
        "from os import path\n",
        "import io\n",
        "!pip3 install soundfile\n",
        "!pip3 install librosa\n",
        "import soundfile as sf\n",
        "import librosa.feature"
      ],
      "execution_count": 3,
      "outputs": [
        {
          "output_type": "stream",
          "text": [
            "Requirement already satisfied: soundfile in /usr/local/lib/python3.6/dist-packages (0.10.3.post1)\n",
            "Requirement already satisfied: cffi>=1.0 in /usr/local/lib/python3.6/dist-packages (from soundfile) (1.14.0)\n",
            "Requirement already satisfied: pycparser in /usr/local/lib/python3.6/dist-packages (from cffi>=1.0->soundfile) (2.20)\n",
            "Requirement already satisfied: librosa in /usr/local/lib/python3.6/dist-packages (0.6.3)\n",
            "Requirement already satisfied: six>=1.3 in /usr/local/lib/python3.6/dist-packages (from librosa) (1.12.0)\n",
            "Requirement already satisfied: scipy>=1.0.0 in /usr/local/lib/python3.6/dist-packages (from librosa) (1.4.1)\n",
            "Requirement already satisfied: scikit-learn!=0.19.0,>=0.14.0 in /usr/local/lib/python3.6/dist-packages (from librosa) (0.22.2.post1)\n",
            "Requirement already satisfied: resampy>=0.2.0 in /usr/local/lib/python3.6/dist-packages (from librosa) (0.2.2)\n",
            "Requirement already satisfied: audioread>=2.0.0 in /usr/local/lib/python3.6/dist-packages (from librosa) (2.1.8)\n",
            "Requirement already satisfied: joblib>=0.12 in /usr/local/lib/python3.6/dist-packages (from librosa) (0.14.1)\n",
            "Requirement already satisfied: decorator>=3.0.0 in /usr/local/lib/python3.6/dist-packages (from librosa) (4.4.2)\n",
            "Requirement already satisfied: numba>=0.38.0 in /usr/local/lib/python3.6/dist-packages (from librosa) (0.48.0)\n",
            "Requirement already satisfied: numpy>=1.8.0 in /usr/local/lib/python3.6/dist-packages (from librosa) (1.18.2)\n",
            "Requirement already satisfied: llvmlite<0.32.0,>=0.31.0dev0 in /usr/local/lib/python3.6/dist-packages (from numba>=0.38.0->librosa) (0.31.0)\n",
            "Requirement already satisfied: setuptools in /usr/local/lib/python3.6/dist-packages (from numba>=0.38.0->librosa) (46.1.3)\n"
          ],
          "name": "stdout"
        }
      ]
    },
    {
      "cell_type": "code",
      "metadata": {
        "id": "c-kU_a0NruyM",
        "colab_type": "code",
        "outputId": "724cc572-ab96-4c6d-cd7f-2a97aafcca73",
        "colab": {
          "base_uri": "https://localhost:8080/",
          "height": 36
        }
      },
      "source": [
        "!pip install ipython-autotime\n",
        "\n",
        "%load_ext autotime"
      ],
      "execution_count": 4,
      "outputs": [
        {
          "output_type": "stream",
          "text": [
            "Requirement already satisfied: ipython-autotime in /usr/local/lib/python3.6/dist-packages (0.1)\n"
          ],
          "name": "stdout"
        }
      ]
    },
    {
      "cell_type": "markdown",
      "metadata": {
        "id": "r7aioLqSfKgT",
        "colab_type": "text"
      },
      "source": [
        "# Opening datasets"
      ]
    },
    {
      "cell_type": "code",
      "metadata": {
        "id": "_AtrE-Kwmk5b",
        "colab_type": "code",
        "outputId": "d8ac1b5d-0d64-418b-b9aa-7c8d3345cbcd",
        "colab": {
          "base_uri": "https://localhost:8080/",
          "height": 225
        }
      },
      "source": [
        "DIR = '/content/drive/My Drive/DCASE 2020 Challenge/TAU Urban Acoustic Scenes 2020 3Class' \n",
        "DIR_AUDIO = DIR + '/soundfiles/TAU-urban-acoustic-scenes-2020-3class-development/'\n",
        "df_meta = pd.read_csv(f'{DIR}/meta.csv')\n",
        "df_meta = pd.read_csv(io.StringIO(df_meta.to_csv(index=False)))\n",
        "df_meta.head()"
      ],
      "execution_count": 5,
      "outputs": [
        {
          "output_type": "execute_result",
          "data": {
            "text/html": [
              "<div>\n",
              "<style scoped>\n",
              "    .dataframe tbody tr th:only-of-type {\n",
              "        vertical-align: middle;\n",
              "    }\n",
              "\n",
              "    .dataframe tbody tr th {\n",
              "        vertical-align: top;\n",
              "    }\n",
              "\n",
              "    .dataframe thead th {\n",
              "        text-align: right;\n",
              "    }\n",
              "</style>\n",
              "<table border=\"1\" class=\"dataframe\">\n",
              "  <thead>\n",
              "    <tr style=\"text-align: right;\">\n",
              "      <th></th>\n",
              "      <th>filename</th>\n",
              "      <th>scene_label</th>\n",
              "      <th>identifier</th>\n",
              "    </tr>\n",
              "  </thead>\n",
              "  <tbody>\n",
              "    <tr>\n",
              "      <th>0</th>\n",
              "      <td>audio/airport-barcelona-0-0-a.wav</td>\n",
              "      <td>indoor</td>\n",
              "      <td>barcelona-0</td>\n",
              "    </tr>\n",
              "    <tr>\n",
              "      <th>1</th>\n",
              "      <td>audio/airport-barcelona-0-10-a.wav</td>\n",
              "      <td>indoor</td>\n",
              "      <td>barcelona-0</td>\n",
              "    </tr>\n",
              "    <tr>\n",
              "      <th>2</th>\n",
              "      <td>audio/airport-barcelona-0-11-a.wav</td>\n",
              "      <td>indoor</td>\n",
              "      <td>barcelona-0</td>\n",
              "    </tr>\n",
              "    <tr>\n",
              "      <th>3</th>\n",
              "      <td>audio/airport-barcelona-0-12-a.wav</td>\n",
              "      <td>indoor</td>\n",
              "      <td>barcelona-0</td>\n",
              "    </tr>\n",
              "    <tr>\n",
              "      <th>4</th>\n",
              "      <td>audio/airport-barcelona-0-13-a.wav</td>\n",
              "      <td>indoor</td>\n",
              "      <td>barcelona-0</td>\n",
              "    </tr>\n",
              "  </tbody>\n",
              "</table>\n",
              "</div>"
            ],
            "text/plain": [
              "                             filename scene_label   identifier\n",
              "0   audio/airport-barcelona-0-0-a.wav      indoor  barcelona-0\n",
              "1  audio/airport-barcelona-0-10-a.wav      indoor  barcelona-0\n",
              "2  audio/airport-barcelona-0-11-a.wav      indoor  barcelona-0\n",
              "3  audio/airport-barcelona-0-12-a.wav      indoor  barcelona-0\n",
              "4  audio/airport-barcelona-0-13-a.wav      indoor  barcelona-0"
            ]
          },
          "metadata": {
            "tags": []
          },
          "execution_count": 5
        },
        {
          "output_type": "stream",
          "text": [
            "time: 101 ms\n"
          ],
          "name": "stdout"
        }
      ]
    },
    {
      "cell_type": "markdown",
      "metadata": {
        "id": "H4GBDBmTIF4P",
        "colab_type": "text"
      },
      "source": [
        "# Getting part of the dataset\n",
        "Não coloquei 10% dele, pois poderiam vir mais datasets de um label específico. E nem coloquei 10% de cada label, pois a quantidades de datasets dentro de cada label é diferente. Então defini n datasets de cada label."
      ]
    },
    {
      "cell_type": "code",
      "metadata": {
        "id": "d2rRCB6kp2DB",
        "colab_type": "code",
        "outputId": "a5661d1a-8e97-42e3-aa89-abfdf1dbb069",
        "colab": {
          "base_uri": "https://localhost:8080/",
          "height": 225
        }
      },
      "source": [
        "df = df_meta.groupby('scene_label', as_index=False).apply(lambda x: x.sample(n=100, random_state=15))\n",
        "df.index = [i[1] for i in df.index]\n",
        "df.head()"
      ],
      "execution_count": 357,
      "outputs": [
        {
          "output_type": "execute_result",
          "data": {
            "text/html": [
              "<div>\n",
              "<style scoped>\n",
              "    .dataframe tbody tr th:only-of-type {\n",
              "        vertical-align: middle;\n",
              "    }\n",
              "\n",
              "    .dataframe tbody tr th {\n",
              "        vertical-align: top;\n",
              "    }\n",
              "\n",
              "    .dataframe thead th {\n",
              "        text-align: right;\n",
              "    }\n",
              "</style>\n",
              "<table border=\"1\" class=\"dataframe\">\n",
              "  <thead>\n",
              "    <tr style=\"text-align: right;\">\n",
              "      <th></th>\n",
              "      <th>filename</th>\n",
              "      <th>scene_label</th>\n",
              "      <th>identifier</th>\n",
              "    </tr>\n",
              "  </thead>\n",
              "  <tbody>\n",
              "    <tr>\n",
              "      <th>3028</th>\n",
              "      <td>audio/metro_station-helsinki-231-6952-a.wav</td>\n",
              "      <td>indoor</td>\n",
              "      <td>helsinki-231</td>\n",
              "    </tr>\n",
              "    <tr>\n",
              "      <th>9493</th>\n",
              "      <td>audio/shopping_mall-milan-1183-45376-a.wav</td>\n",
              "      <td>indoor</td>\n",
              "      <td>milan-1183</td>\n",
              "    </tr>\n",
              "    <tr>\n",
              "      <th>4163</th>\n",
              "      <td>audio/metro_station-stockholm-85-2308-a.wav</td>\n",
              "      <td>indoor</td>\n",
              "      <td>stockholm-85</td>\n",
              "    </tr>\n",
              "    <tr>\n",
              "      <th>3224</th>\n",
              "      <td>audio/metro_station-lisbon-1020-42471-a.wav</td>\n",
              "      <td>indoor</td>\n",
              "      <td>lisbon-1020</td>\n",
              "    </tr>\n",
              "    <tr>\n",
              "      <th>9294</th>\n",
              "      <td>audio/shopping_mall-lyon-1066-42583-a.wav</td>\n",
              "      <td>indoor</td>\n",
              "      <td>lyon-1066</td>\n",
              "    </tr>\n",
              "  </tbody>\n",
              "</table>\n",
              "</div>"
            ],
            "text/plain": [
              "                                         filename scene_label    identifier\n",
              "3028  audio/metro_station-helsinki-231-6952-a.wav      indoor  helsinki-231\n",
              "9493   audio/shopping_mall-milan-1183-45376-a.wav      indoor    milan-1183\n",
              "4163  audio/metro_station-stockholm-85-2308-a.wav      indoor  stockholm-85\n",
              "3224  audio/metro_station-lisbon-1020-42471-a.wav      indoor   lisbon-1020\n",
              "9294    audio/shopping_mall-lyon-1066-42583-a.wav      indoor     lyon-1066"
            ]
          },
          "metadata": {
            "tags": []
          },
          "execution_count": 357
        },
        {
          "output_type": "stream",
          "text": [
            "time: 30.6 ms\n"
          ],
          "name": "stdout"
        }
      ]
    },
    {
      "cell_type": "code",
      "metadata": {
        "id": "CX0XXp7z9D8o",
        "colab_type": "code",
        "outputId": "95cd5c71-eed0-40f5-e6a1-11ee6d1863d2",
        "colab": {
          "base_uri": "https://localhost:8080/",
          "height": 36
        }
      },
      "source": [
        "# so neste caso q n vamos usar transportation\n",
        "df = df.loc[df['scene_label'] != 'transportation']"
      ],
      "execution_count": 358,
      "outputs": [
        {
          "output_type": "stream",
          "text": [
            "time: 2.91 ms\n"
          ],
          "name": "stdout"
        }
      ]
    },
    {
      "cell_type": "code",
      "metadata": {
        "id": "sCJ2fzdrMK4z",
        "colab_type": "code",
        "outputId": "58c5f312-bd6c-49d6-95f4-69fe51a2063d",
        "colab": {
          "base_uri": "https://localhost:8080/",
          "height": 92
        }
      },
      "source": [
        "print(df.loc[df['scene_label'] == 'outdoor'].shape)\n",
        "print(df.loc[df['scene_label'] == 'indoor'].shape)\n",
        "print(df.loc[df['scene_label'] == 'transportation'].shape)"
      ],
      "execution_count": 359,
      "outputs": [
        {
          "output_type": "stream",
          "text": [
            "(100, 3)\n",
            "(100, 3)\n",
            "(0, 3)\n",
            "time: 7.21 ms\n"
          ],
          "name": "stdout"
        }
      ]
    },
    {
      "cell_type": "markdown",
      "metadata": {
        "id": "EBiTL-q4rx4m",
        "colab_type": "text"
      },
      "source": [
        "Reading the datasets and storing it to 'signals'"
      ]
    },
    {
      "cell_type": "code",
      "metadata": {
        "id": "toPMMVMwr8T1",
        "colab_type": "code",
        "outputId": "2acbc1cc-cfd5-4b79-f001-71814d22ce35",
        "colab": {
          "base_uri": "https://localhost:8080/",
          "height": 36
        }
      },
      "source": [
        "info_sound = df[['filename','scene_label']].to_numpy()\n",
        "LABELS = ['indoor', 'outdoor']"
      ],
      "execution_count": 360,
      "outputs": [
        {
          "output_type": "stream",
          "text": [
            "time: 9.12 ms\n"
          ],
          "name": "stdout"
        }
      ]
    },
    {
      "cell_type": "code",
      "metadata": {
        "id": "aS-Ks9WpNZu5",
        "colab_type": "code",
        "outputId": "605e1e78-eda0-4018-9dcf-c7cde98a9288",
        "colab": {
          "base_uri": "https://localhost:8080/",
          "height": 36
        }
      },
      "source": [
        "dic_signals = {x:[] for i, x in enumerate(LABELS)}\n",
        "\n",
        "for filename, label in info_sound:\n",
        "    if(path.isfile(os.path.join(DIR_AUDIO, filename))):\n",
        "        dic_signals[label].append(sf.read(os.path.join(DIR_AUDIO, filename)))"
      ],
      "execution_count": 361,
      "outputs": [
        {
          "output_type": "stream",
          "text": [
            "time: 49.2 s\n"
          ],
          "name": "stdout"
        }
      ]
    },
    {
      "cell_type": "markdown",
      "metadata": {
        "id": "zCC0EbABtCfB",
        "colab_type": "text"
      },
      "source": [
        "Labels:\n",
        "\n",
        "\n",
        "0.   Indoor\n",
        "1.   Outdoor\n",
        "2.   Transportation\n",
        "\n"
      ]
    },
    {
      "cell_type": "markdown",
      "metadata": {
        "id": "3eQS2FIKz-3Y",
        "colab_type": "text"
      },
      "source": [
        "# Getting Features\n",
        "\n",
        "1.   Centroid Mean\n",
        "2.   Centroid STD\n",
        "3.   Flatness Mean\n",
        "4.   Flatness STD\n",
        "5.   RMS\n",
        "\n"
      ]
    },
    {
      "cell_type": "code",
      "metadata": {
        "id": "Pm5iFAKX0Chn",
        "colab_type": "code",
        "outputId": "4a7a0f20-bcf6-4bb4-991e-64deb39ed502",
        "colab": {
          "base_uri": "https://localhost:8080/",
          "height": 36
        }
      },
      "source": [
        "PARTS = 10\n",
        "def get_features(dic_signals)->pd.DataFrame:\n",
        "    # LUANA - FEATURES\n",
        "    def get_centroid(S):\n",
        "        return librosa.feature.spectral_centroid(S=S)\n",
        "    def get_flatness(S):\n",
        "        return librosa.feature.spectral_flatness(S=S)\n",
        "    def get_rms(S):\n",
        "        return librosa.feature.rms(S=S)\n",
        "    def get_mfccs(S):\n",
        "        return librosa.feature.mfcc(S=S)\n",
        "\n",
        "    feats = (np.zeros((1,47))[0])\n",
        "    \n",
        "    j = 1\n",
        "    k = 0 #label\n",
        "    for label, signals in dic_signals.items():\n",
        "        for signal, samplerate in signals:\n",
        "            music_features = []\n",
        "            #print(np.array(signal).shape)\n",
        "            mel = librosa.feature.melspectrogram(y=signal[:,0],sr=samplerate, hop_length=512)\n",
        "            mel = np.asarray(mel)\n",
        "            #print(mel.shape)\n",
        "            \n",
        "            for second in np.array_split(mel,10, axis=1):\n",
        "                arr_mfcc = []\n",
        "                #print(second.shape)\n",
        "                c = get_centroid(second)\n",
        "                f = get_flatness(second)\n",
        "                r = get_rms(second)\n",
        "                mfccs = get_mfccs(second)\n",
        "                mfccs = [[np.mean(x), np.std(x)] for x in mfccs]\n",
        "                mfccs = np.array(mfccs).reshape(1,-1)[0]\n",
        "                #print(mfccs)\n",
        "                mfccs = np.array_split(mfccs, mfccs.shape[0])\n",
        "                #print(np.array(mfccs).shape)\n",
        "                [arr_mfcc.append(x[0]) for x in mfccs]\n",
        "                music_features = np.hstack([arr_mfcc, np.array([np.mean(c),np.std(c),np.mean(f), np.std(f),r[0][0], k, j])]) \n",
        "                #print(np.array(music_features).shape)\n",
        "                \n",
        "                feats = np.vstack([feats, music_features])  \n",
        "            j += 1\n",
        "        k += 1\n",
        "    return pd.DataFrame(data=feats).drop(0).reset_index(drop=True)\n",
        "        \n"
      ],
      "execution_count": 362,
      "outputs": [
        {
          "output_type": "stream",
          "text": [
            "time: 30.8 ms\n"
          ],
          "name": "stdout"
        }
      ]
    },
    {
      "cell_type": "code",
      "metadata": {
        "id": "vw8wQ0Lm_8Gf",
        "colab_type": "code",
        "outputId": "a87de5c2-0aa6-43fc-f7c5-a5d6b7b7a703",
        "colab": {
          "base_uri": "https://localhost:8080/",
          "height": 36
        }
      },
      "source": [
        "df = get_features(dic_signals)"
      ],
      "execution_count": 363,
      "outputs": [
        {
          "output_type": "stream",
          "text": [
            "time: 20.1 s\n"
          ],
          "name": "stdout"
        }
      ]
    },
    {
      "cell_type": "code",
      "metadata": {
        "id": "TGQhevKHAkeC",
        "colab_type": "code",
        "outputId": "86718264-5022-4f99-c032-f6626a3af29a",
        "colab": {
          "base_uri": "https://localhost:8080/",
          "height": 36
        }
      },
      "source": [
        "df.to_csv(\"/content/drive/My Drive/DCASE 2020 Challenge/TAU Urban Acoustic Scenes 2020 3Class/features.csv\")"
      ],
      "execution_count": 364,
      "outputs": [
        {
          "output_type": "stream",
          "text": [
            "time: 207 ms\n"
          ],
          "name": "stdout"
        }
      ]
    },
    {
      "cell_type": "code",
      "metadata": {
        "id": "MMDTe_UtA_Qz",
        "colab_type": "code",
        "outputId": "70253c3f-e90e-4fe4-88e7-b65913d9e6d9",
        "colab": {
          "base_uri": "https://localhost:8080/",
          "height": 462
        }
      },
      "source": [
        "df = pd.read_csv(\"/content/drive/My Drive/DCASE 2020 Challenge/TAU Urban Acoustic Scenes 2020 3Class/features.csv\").drop(\"Unnamed: 0\",axis=1) \n",
        "df"
      ],
      "execution_count": 365,
      "outputs": [
        {
          "output_type": "execute_result",
          "data": {
            "text/html": [
              "<div>\n",
              "<style scoped>\n",
              "    .dataframe tbody tr th:only-of-type {\n",
              "        vertical-align: middle;\n",
              "    }\n",
              "\n",
              "    .dataframe tbody tr th {\n",
              "        vertical-align: top;\n",
              "    }\n",
              "\n",
              "    .dataframe thead th {\n",
              "        text-align: right;\n",
              "    }\n",
              "</style>\n",
              "<table border=\"1\" class=\"dataframe\">\n",
              "  <thead>\n",
              "    <tr style=\"text-align: right;\">\n",
              "      <th></th>\n",
              "      <th>0</th>\n",
              "      <th>1</th>\n",
              "      <th>2</th>\n",
              "      <th>3</th>\n",
              "      <th>4</th>\n",
              "      <th>5</th>\n",
              "      <th>6</th>\n",
              "      <th>7</th>\n",
              "      <th>8</th>\n",
              "      <th>9</th>\n",
              "      <th>10</th>\n",
              "      <th>11</th>\n",
              "      <th>12</th>\n",
              "      <th>13</th>\n",
              "      <th>14</th>\n",
              "      <th>15</th>\n",
              "      <th>16</th>\n",
              "      <th>17</th>\n",
              "      <th>18</th>\n",
              "      <th>19</th>\n",
              "      <th>20</th>\n",
              "      <th>21</th>\n",
              "      <th>22</th>\n",
              "      <th>23</th>\n",
              "      <th>24</th>\n",
              "      <th>25</th>\n",
              "      <th>26</th>\n",
              "      <th>27</th>\n",
              "      <th>28</th>\n",
              "      <th>29</th>\n",
              "      <th>30</th>\n",
              "      <th>31</th>\n",
              "      <th>32</th>\n",
              "      <th>33</th>\n",
              "      <th>34</th>\n",
              "      <th>35</th>\n",
              "      <th>36</th>\n",
              "      <th>37</th>\n",
              "      <th>38</th>\n",
              "      <th>39</th>\n",
              "      <th>40</th>\n",
              "      <th>41</th>\n",
              "      <th>42</th>\n",
              "      <th>43</th>\n",
              "      <th>44</th>\n",
              "      <th>45</th>\n",
              "      <th>46</th>\n",
              "    </tr>\n",
              "  </thead>\n",
              "  <tbody>\n",
              "    <tr>\n",
              "      <th>0</th>\n",
              "      <td>0.019938</td>\n",
              "      <td>0.009934</td>\n",
              "      <td>0.027834</td>\n",
              "      <td>0.013968</td>\n",
              "      <td>0.027035</td>\n",
              "      <td>0.013797</td>\n",
              "      <td>0.026155</td>\n",
              "      <td>0.013626</td>\n",
              "      <td>0.025392</td>\n",
              "      <td>0.013511</td>\n",
              "      <td>0.024744</td>\n",
              "      <td>0.013460</td>\n",
              "      <td>0.024217</td>\n",
              "      <td>0.013460</td>\n",
              "      <td>0.023745</td>\n",
              "      <td>0.013492</td>\n",
              "      <td>0.023244</td>\n",
              "      <td>0.013501</td>\n",
              "      <td>0.022672</td>\n",
              "      <td>0.013448</td>\n",
              "      <td>0.022076</td>\n",
              "      <td>0.013330</td>\n",
              "      <td>0.021470</td>\n",
              "      <td>0.013166</td>\n",
              "      <td>0.020903</td>\n",
              "      <td>0.012989</td>\n",
              "      <td>0.020412</td>\n",
              "      <td>0.012812</td>\n",
              "      <td>0.020006</td>\n",
              "      <td>0.012644</td>\n",
              "      <td>0.019657</td>\n",
              "      <td>0.012481</td>\n",
              "      <td>0.019292</td>\n",
              "      <td>0.012311</td>\n",
              "      <td>0.018846</td>\n",
              "      <td>0.012127</td>\n",
              "      <td>0.018277</td>\n",
              "      <td>0.011939</td>\n",
              "      <td>0.017648</td>\n",
              "      <td>0.011770</td>\n",
              "      <td>241.434983</td>\n",
              "      <td>124.399592</td>\n",
              "      <td>0.000038</td>\n",
              "      <td>0.000100</td>\n",
              "      <td>0.003650</td>\n",
              "      <td>0.0</td>\n",
              "      <td>1.0</td>\n",
              "    </tr>\n",
              "    <tr>\n",
              "      <th>1</th>\n",
              "      <td>0.016892</td>\n",
              "      <td>0.009902</td>\n",
              "      <td>0.023406</td>\n",
              "      <td>0.013988</td>\n",
              "      <td>0.022291</td>\n",
              "      <td>0.013955</td>\n",
              "      <td>0.021040</td>\n",
              "      <td>0.013915</td>\n",
              "      <td>0.019878</td>\n",
              "      <td>0.013876</td>\n",
              "      <td>0.018829</td>\n",
              "      <td>0.013853</td>\n",
              "      <td>0.017930</td>\n",
              "      <td>0.013853</td>\n",
              "      <td>0.017221</td>\n",
              "      <td>0.013870</td>\n",
              "      <td>0.016657</td>\n",
              "      <td>0.013883</td>\n",
              "      <td>0.016204</td>\n",
              "      <td>0.013863</td>\n",
              "      <td>0.015846</td>\n",
              "      <td>0.013799</td>\n",
              "      <td>0.015544</td>\n",
              "      <td>0.013685</td>\n",
              "      <td>0.015286</td>\n",
              "      <td>0.013524</td>\n",
              "      <td>0.015084</td>\n",
              "      <td>0.013304</td>\n",
              "      <td>0.014931</td>\n",
              "      <td>0.013016</td>\n",
              "      <td>0.014785</td>\n",
              "      <td>0.012676</td>\n",
              "      <td>0.014584</td>\n",
              "      <td>0.012314</td>\n",
              "      <td>0.014274</td>\n",
              "      <td>0.011970</td>\n",
              "      <td>0.013857</td>\n",
              "      <td>0.011674</td>\n",
              "      <td>0.013386</td>\n",
              "      <td>0.011444</td>\n",
              "      <td>379.258576</td>\n",
              "      <td>190.165408</td>\n",
              "      <td>0.000091</td>\n",
              "      <td>0.000131</td>\n",
              "      <td>0.008548</td>\n",
              "      <td>0.0</td>\n",
              "      <td>1.0</td>\n",
              "    </tr>\n",
              "    <tr>\n",
              "      <th>2</th>\n",
              "      <td>0.018766</td>\n",
              "      <td>0.010781</td>\n",
              "      <td>0.026073</td>\n",
              "      <td>0.015206</td>\n",
              "      <td>0.025001</td>\n",
              "      <td>0.015157</td>\n",
              "      <td>0.023788</td>\n",
              "      <td>0.015178</td>\n",
              "      <td>0.022626</td>\n",
              "      <td>0.015245</td>\n",
              "      <td>0.021556</td>\n",
              "      <td>0.015303</td>\n",
              "      <td>0.020666</td>\n",
              "      <td>0.015364</td>\n",
              "      <td>0.019976</td>\n",
              "      <td>0.015439</td>\n",
              "      <td>0.019405</td>\n",
              "      <td>0.015489</td>\n",
              "      <td>0.018929</td>\n",
              "      <td>0.015474</td>\n",
              "      <td>0.018573</td>\n",
              "      <td>0.015381</td>\n",
              "      <td>0.018303</td>\n",
              "      <td>0.015205</td>\n",
              "      <td>0.018066</td>\n",
              "      <td>0.014949</td>\n",
              "      <td>0.017827</td>\n",
              "      <td>0.014631</td>\n",
              "      <td>0.017572</td>\n",
              "      <td>0.014295</td>\n",
              "      <td>0.017300</td>\n",
              "      <td>0.014002</td>\n",
              "      <td>0.016992</td>\n",
              "      <td>0.013782</td>\n",
              "      <td>0.016610</td>\n",
              "      <td>0.013616</td>\n",
              "      <td>0.016155</td>\n",
              "      <td>0.013475</td>\n",
              "      <td>0.015697</td>\n",
              "      <td>0.013348</td>\n",
              "      <td>336.841997</td>\n",
              "      <td>209.414420</td>\n",
              "      <td>0.000069</td>\n",
              "      <td>0.000139</td>\n",
              "      <td>0.001686</td>\n",
              "      <td>0.0</td>\n",
              "      <td>1.0</td>\n",
              "    </tr>\n",
              "    <tr>\n",
              "      <th>3</th>\n",
              "      <td>0.014968</td>\n",
              "      <td>0.007712</td>\n",
              "      <td>0.020849</td>\n",
              "      <td>0.010832</td>\n",
              "      <td>0.020133</td>\n",
              "      <td>0.010615</td>\n",
              "      <td>0.019290</td>\n",
              "      <td>0.010315</td>\n",
              "      <td>0.018386</td>\n",
              "      <td>0.010020</td>\n",
              "      <td>0.017407</td>\n",
              "      <td>0.009785</td>\n",
              "      <td>0.016447</td>\n",
              "      <td>0.009614</td>\n",
              "      <td>0.015573</td>\n",
              "      <td>0.009492</td>\n",
              "      <td>0.014774</td>\n",
              "      <td>0.009405</td>\n",
              "      <td>0.014047</td>\n",
              "      <td>0.009333</td>\n",
              "      <td>0.013453</td>\n",
              "      <td>0.009252</td>\n",
              "      <td>0.013006</td>\n",
              "      <td>0.009144</td>\n",
              "      <td>0.012693</td>\n",
              "      <td>0.009000</td>\n",
              "      <td>0.012493</td>\n",
              "      <td>0.008828</td>\n",
              "      <td>0.012383</td>\n",
              "      <td>0.008649</td>\n",
              "      <td>0.012333</td>\n",
              "      <td>0.008483</td>\n",
              "      <td>0.012294</td>\n",
              "      <td>0.008344</td>\n",
              "      <td>0.012218</td>\n",
              "      <td>0.008247</td>\n",
              "      <td>0.012064</td>\n",
              "      <td>0.008194</td>\n",
              "      <td>0.011834</td>\n",
              "      <td>0.008166</td>\n",
              "      <td>312.668493</td>\n",
              "      <td>119.726667</td>\n",
              "      <td>0.000057</td>\n",
              "      <td>0.000084</td>\n",
              "      <td>0.015298</td>\n",
              "      <td>0.0</td>\n",
              "      <td>1.0</td>\n",
              "    </tr>\n",
              "    <tr>\n",
              "      <th>4</th>\n",
              "      <td>0.012071</td>\n",
              "      <td>0.005576</td>\n",
              "      <td>0.016684</td>\n",
              "      <td>0.007842</td>\n",
              "      <td>0.015855</td>\n",
              "      <td>0.007705</td>\n",
              "      <td>0.014968</td>\n",
              "      <td>0.007490</td>\n",
              "      <td>0.014075</td>\n",
              "      <td>0.007252</td>\n",
              "      <td>0.013153</td>\n",
              "      <td>0.007024</td>\n",
              "      <td>0.012319</td>\n",
              "      <td>0.006813</td>\n",
              "      <td>0.011616</td>\n",
              "      <td>0.006623</td>\n",
              "      <td>0.010971</td>\n",
              "      <td>0.006470</td>\n",
              "      <td>0.010375</td>\n",
              "      <td>0.006362</td>\n",
              "      <td>0.009915</td>\n",
              "      <td>0.006291</td>\n",
              "      <td>0.009579</td>\n",
              "      <td>0.006254</td>\n",
              "      <td>0.009315</td>\n",
              "      <td>0.006250</td>\n",
              "      <td>0.009098</td>\n",
              "      <td>0.006267</td>\n",
              "      <td>0.008902</td>\n",
              "      <td>0.006289</td>\n",
              "      <td>0.008716</td>\n",
              "      <td>0.006293</td>\n",
              "      <td>0.008529</td>\n",
              "      <td>0.006265</td>\n",
              "      <td>0.008296</td>\n",
              "      <td>0.006202</td>\n",
              "      <td>0.007981</td>\n",
              "      <td>0.006109</td>\n",
              "      <td>0.007627</td>\n",
              "      <td>0.006007</td>\n",
              "      <td>394.402526</td>\n",
              "      <td>143.696832</td>\n",
              "      <td>0.000108</td>\n",
              "      <td>0.000123</td>\n",
              "      <td>0.002023</td>\n",
              "      <td>0.0</td>\n",
              "      <td>1.0</td>\n",
              "    </tr>\n",
              "    <tr>\n",
              "      <th>...</th>\n",
              "      <td>...</td>\n",
              "      <td>...</td>\n",
              "      <td>...</td>\n",
              "      <td>...</td>\n",
              "      <td>...</td>\n",
              "      <td>...</td>\n",
              "      <td>...</td>\n",
              "      <td>...</td>\n",
              "      <td>...</td>\n",
              "      <td>...</td>\n",
              "      <td>...</td>\n",
              "      <td>...</td>\n",
              "      <td>...</td>\n",
              "      <td>...</td>\n",
              "      <td>...</td>\n",
              "      <td>...</td>\n",
              "      <td>...</td>\n",
              "      <td>...</td>\n",
              "      <td>...</td>\n",
              "      <td>...</td>\n",
              "      <td>...</td>\n",
              "      <td>...</td>\n",
              "      <td>...</td>\n",
              "      <td>...</td>\n",
              "      <td>...</td>\n",
              "      <td>...</td>\n",
              "      <td>...</td>\n",
              "      <td>...</td>\n",
              "      <td>...</td>\n",
              "      <td>...</td>\n",
              "      <td>...</td>\n",
              "      <td>...</td>\n",
              "      <td>...</td>\n",
              "      <td>...</td>\n",
              "      <td>...</td>\n",
              "      <td>...</td>\n",
              "      <td>...</td>\n",
              "      <td>...</td>\n",
              "      <td>...</td>\n",
              "      <td>...</td>\n",
              "      <td>...</td>\n",
              "      <td>...</td>\n",
              "      <td>...</td>\n",
              "      <td>...</td>\n",
              "      <td>...</td>\n",
              "      <td>...</td>\n",
              "      <td>...</td>\n",
              "    </tr>\n",
              "    <tr>\n",
              "      <th>1805</th>\n",
              "      <td>0.005549</td>\n",
              "      <td>0.003977</td>\n",
              "      <td>0.007735</td>\n",
              "      <td>0.005618</td>\n",
              "      <td>0.007500</td>\n",
              "      <td>0.005603</td>\n",
              "      <td>0.007312</td>\n",
              "      <td>0.005584</td>\n",
              "      <td>0.007213</td>\n",
              "      <td>0.005565</td>\n",
              "      <td>0.007151</td>\n",
              "      <td>0.005547</td>\n",
              "      <td>0.007092</td>\n",
              "      <td>0.005527</td>\n",
              "      <td>0.007032</td>\n",
              "      <td>0.005502</td>\n",
              "      <td>0.006963</td>\n",
              "      <td>0.005475</td>\n",
              "      <td>0.006885</td>\n",
              "      <td>0.005445</td>\n",
              "      <td>0.006809</td>\n",
              "      <td>0.005405</td>\n",
              "      <td>0.006739</td>\n",
              "      <td>0.005354</td>\n",
              "      <td>0.006672</td>\n",
              "      <td>0.005296</td>\n",
              "      <td>0.006605</td>\n",
              "      <td>0.005244</td>\n",
              "      <td>0.006536</td>\n",
              "      <td>0.005199</td>\n",
              "      <td>0.006455</td>\n",
              "      <td>0.005150</td>\n",
              "      <td>0.006364</td>\n",
              "      <td>0.005093</td>\n",
              "      <td>0.006269</td>\n",
              "      <td>0.005026</td>\n",
              "      <td>0.006178</td>\n",
              "      <td>0.004956</td>\n",
              "      <td>0.006086</td>\n",
              "      <td>0.004882</td>\n",
              "      <td>251.019948</td>\n",
              "      <td>130.671534</td>\n",
              "      <td>0.000234</td>\n",
              "      <td>0.000735</td>\n",
              "      <td>0.016265</td>\n",
              "      <td>1.0</td>\n",
              "      <td>181.0</td>\n",
              "    </tr>\n",
              "    <tr>\n",
              "      <th>1806</th>\n",
              "      <td>0.006777</td>\n",
              "      <td>0.005148</td>\n",
              "      <td>0.009463</td>\n",
              "      <td>0.007280</td>\n",
              "      <td>0.009212</td>\n",
              "      <td>0.007281</td>\n",
              "      <td>0.009002</td>\n",
              "      <td>0.007280</td>\n",
              "      <td>0.008886</td>\n",
              "      <td>0.007268</td>\n",
              "      <td>0.008839</td>\n",
              "      <td>0.007243</td>\n",
              "      <td>0.008822</td>\n",
              "      <td>0.007208</td>\n",
              "      <td>0.008786</td>\n",
              "      <td>0.007172</td>\n",
              "      <td>0.008706</td>\n",
              "      <td>0.007139</td>\n",
              "      <td>0.008599</td>\n",
              "      <td>0.007106</td>\n",
              "      <td>0.008493</td>\n",
              "      <td>0.007065</td>\n",
              "      <td>0.008410</td>\n",
              "      <td>0.007010</td>\n",
              "      <td>0.008358</td>\n",
              "      <td>0.006944</td>\n",
              "      <td>0.008320</td>\n",
              "      <td>0.006873</td>\n",
              "      <td>0.008270</td>\n",
              "      <td>0.006804</td>\n",
              "      <td>0.008180</td>\n",
              "      <td>0.006739</td>\n",
              "      <td>0.008045</td>\n",
              "      <td>0.006674</td>\n",
              "      <td>0.007897</td>\n",
              "      <td>0.006606</td>\n",
              "      <td>0.007767</td>\n",
              "      <td>0.006531</td>\n",
              "      <td>0.007664</td>\n",
              "      <td>0.006443</td>\n",
              "      <td>245.494152</td>\n",
              "      <td>160.557438</td>\n",
              "      <td>0.000208</td>\n",
              "      <td>0.000433</td>\n",
              "      <td>0.006400</td>\n",
              "      <td>1.0</td>\n",
              "      <td>181.0</td>\n",
              "    </tr>\n",
              "    <tr>\n",
              "      <th>1807</th>\n",
              "      <td>0.016557</td>\n",
              "      <td>0.021429</td>\n",
              "      <td>0.023230</td>\n",
              "      <td>0.030317</td>\n",
              "      <td>0.022849</td>\n",
              "      <td>0.030324</td>\n",
              "      <td>0.022552</td>\n",
              "      <td>0.030277</td>\n",
              "      <td>0.022407</td>\n",
              "      <td>0.030178</td>\n",
              "      <td>0.022314</td>\n",
              "      <td>0.030052</td>\n",
              "      <td>0.022218</td>\n",
              "      <td>0.029905</td>\n",
              "      <td>0.022128</td>\n",
              "      <td>0.029727</td>\n",
              "      <td>0.022036</td>\n",
              "      <td>0.029518</td>\n",
              "      <td>0.021910</td>\n",
              "      <td>0.029290</td>\n",
              "      <td>0.021722</td>\n",
              "      <td>0.029053</td>\n",
              "      <td>0.021466</td>\n",
              "      <td>0.028808</td>\n",
              "      <td>0.021182</td>\n",
              "      <td>0.028544</td>\n",
              "      <td>0.020935</td>\n",
              "      <td>0.028247</td>\n",
              "      <td>0.020737</td>\n",
              "      <td>0.027914</td>\n",
              "      <td>0.020536</td>\n",
              "      <td>0.027565</td>\n",
              "      <td>0.020288</td>\n",
              "      <td>0.027206</td>\n",
              "      <td>0.020015</td>\n",
              "      <td>0.026824</td>\n",
              "      <td>0.019738</td>\n",
              "      <td>0.026410</td>\n",
              "      <td>0.019433</td>\n",
              "      <td>0.025978</td>\n",
              "      <td>213.589903</td>\n",
              "      <td>190.892977</td>\n",
              "      <td>0.000144</td>\n",
              "      <td>0.000535</td>\n",
              "      <td>0.029016</td>\n",
              "      <td>1.0</td>\n",
              "      <td>181.0</td>\n",
              "    </tr>\n",
              "    <tr>\n",
              "      <th>1808</th>\n",
              "      <td>0.034513</td>\n",
              "      <td>0.039215</td>\n",
              "      <td>0.048670</td>\n",
              "      <td>0.055433</td>\n",
              "      <td>0.048356</td>\n",
              "      <td>0.055344</td>\n",
              "      <td>0.048033</td>\n",
              "      <td>0.055178</td>\n",
              "      <td>0.047758</td>\n",
              "      <td>0.054934</td>\n",
              "      <td>0.047494</td>\n",
              "      <td>0.054619</td>\n",
              "      <td>0.047202</td>\n",
              "      <td>0.054232</td>\n",
              "      <td>0.046856</td>\n",
              "      <td>0.053777</td>\n",
              "      <td>0.046436</td>\n",
              "      <td>0.053257</td>\n",
              "      <td>0.045947</td>\n",
              "      <td>0.052678</td>\n",
              "      <td>0.045410</td>\n",
              "      <td>0.052041</td>\n",
              "      <td>0.044832</td>\n",
              "      <td>0.051346</td>\n",
              "      <td>0.044212</td>\n",
              "      <td>0.050595</td>\n",
              "      <td>0.043568</td>\n",
              "      <td>0.049786</td>\n",
              "      <td>0.042913</td>\n",
              "      <td>0.048918</td>\n",
              "      <td>0.042228</td>\n",
              "      <td>0.048000</td>\n",
              "      <td>0.041485</td>\n",
              "      <td>0.047041</td>\n",
              "      <td>0.040676</td>\n",
              "      <td>0.046046</td>\n",
              "      <td>0.039808</td>\n",
              "      <td>0.045014</td>\n",
              "      <td>0.038890</td>\n",
              "      <td>0.043945</td>\n",
              "      <td>124.328765</td>\n",
              "      <td>99.698189</td>\n",
              "      <td>0.000051</td>\n",
              "      <td>0.000185</td>\n",
              "      <td>0.023111</td>\n",
              "      <td>1.0</td>\n",
              "      <td>181.0</td>\n",
              "    </tr>\n",
              "    <tr>\n",
              "      <th>1809</th>\n",
              "      <td>0.049795</td>\n",
              "      <td>0.067119</td>\n",
              "      <td>0.070291</td>\n",
              "      <td>0.094858</td>\n",
              "      <td>0.069970</td>\n",
              "      <td>0.094671</td>\n",
              "      <td>0.069570</td>\n",
              "      <td>0.094364</td>\n",
              "      <td>0.069134</td>\n",
              "      <td>0.093941</td>\n",
              "      <td>0.068646</td>\n",
              "      <td>0.093403</td>\n",
              "      <td>0.068086</td>\n",
              "      <td>0.092753</td>\n",
              "      <td>0.067447</td>\n",
              "      <td>0.091995</td>\n",
              "      <td>0.066722</td>\n",
              "      <td>0.091133</td>\n",
              "      <td>0.065914</td>\n",
              "      <td>0.090173</td>\n",
              "      <td>0.065029</td>\n",
              "      <td>0.089120</td>\n",
              "      <td>0.064070</td>\n",
              "      <td>0.087980</td>\n",
              "      <td>0.063034</td>\n",
              "      <td>0.086761</td>\n",
              "      <td>0.061929</td>\n",
              "      <td>0.085470</td>\n",
              "      <td>0.060764</td>\n",
              "      <td>0.084116</td>\n",
              "      <td>0.059539</td>\n",
              "      <td>0.082704</td>\n",
              "      <td>0.058252</td>\n",
              "      <td>0.081243</td>\n",
              "      <td>0.056903</td>\n",
              "      <td>0.079740</td>\n",
              "      <td>0.055497</td>\n",
              "      <td>0.078203</td>\n",
              "      <td>0.054041</td>\n",
              "      <td>0.076639</td>\n",
              "      <td>99.936187</td>\n",
              "      <td>42.123373</td>\n",
              "      <td>0.000009</td>\n",
              "      <td>0.000021</td>\n",
              "      <td>0.011973</td>\n",
              "      <td>1.0</td>\n",
              "      <td>181.0</td>\n",
              "    </tr>\n",
              "  </tbody>\n",
              "</table>\n",
              "<p>1810 rows × 47 columns</p>\n",
              "</div>"
            ],
            "text/plain": [
              "             0         1         2         3  ...        43        44   45     46\n",
              "0     0.019938  0.009934  0.027834  0.013968  ...  0.000100  0.003650  0.0    1.0\n",
              "1     0.016892  0.009902  0.023406  0.013988  ...  0.000131  0.008548  0.0    1.0\n",
              "2     0.018766  0.010781  0.026073  0.015206  ...  0.000139  0.001686  0.0    1.0\n",
              "3     0.014968  0.007712  0.020849  0.010832  ...  0.000084  0.015298  0.0    1.0\n",
              "4     0.012071  0.005576  0.016684  0.007842  ...  0.000123  0.002023  0.0    1.0\n",
              "...        ...       ...       ...       ...  ...       ...       ...  ...    ...\n",
              "1805  0.005549  0.003977  0.007735  0.005618  ...  0.000735  0.016265  1.0  181.0\n",
              "1806  0.006777  0.005148  0.009463  0.007280  ...  0.000433  0.006400  1.0  181.0\n",
              "1807  0.016557  0.021429  0.023230  0.030317  ...  0.000535  0.029016  1.0  181.0\n",
              "1808  0.034513  0.039215  0.048670  0.055433  ...  0.000185  0.023111  1.0  181.0\n",
              "1809  0.049795  0.067119  0.070291  0.094858  ...  0.000021  0.011973  1.0  181.0\n",
              "\n",
              "[1810 rows x 47 columns]"
            ]
          },
          "metadata": {
            "tags": []
          },
          "execution_count": 365
        },
        {
          "output_type": "stream",
          "text": [
            "time: 116 ms\n"
          ],
          "name": "stdout"
        }
      ]
    },
    {
      "cell_type": "code",
      "metadata": {
        "id": "b7yrSNVe1tc4",
        "colab_type": "code",
        "outputId": "a71511ce-ed1c-40e8-b124-de70b7e16d4e",
        "colab": {
          "base_uri": "https://localhost:8080/",
          "height": 36
        }
      },
      "source": [
        "from sklearn.model_selection import GroupShuffleSplit"
      ],
      "execution_count": 366,
      "outputs": [
        {
          "output_type": "stream",
          "text": [
            "time: 951 µs\n"
          ],
          "name": "stdout"
        }
      ]
    },
    {
      "cell_type": "markdown",
      "metadata": {
        "id": "3ya_9cIj-I0x",
        "colab_type": "text"
      },
      "source": [
        "Split no dataframe baseado em grupos do número da música"
      ]
    },
    {
      "cell_type": "code",
      "metadata": {
        "id": "D82SnW0XxcAQ",
        "colab_type": "code",
        "outputId": "2d8a5b4f-feed-4c55-c57a-ae8f7761b4e4",
        "colab": {
          "base_uri": "https://localhost:8080/",
          "height": 36
        }
      },
      "source": [
        "train_inds, test_inds = next(GroupShuffleSplit(test_size=.20, n_splits=2, random_state = 42).split(df, groups=df['46']))"
      ],
      "execution_count": 367,
      "outputs": [
        {
          "output_type": "stream",
          "text": [
            "time: 3.45 ms\n"
          ],
          "name": "stdout"
        }
      ]
    },
    {
      "cell_type": "code",
      "metadata": {
        "id": "Us7ZZkPB26h_",
        "colab_type": "code",
        "outputId": "b4a7fe66-7609-4193-9797-60c7bca3ff9c",
        "colab": {
          "base_uri": "https://localhost:8080/",
          "height": 36
        }
      },
      "source": [
        "import random"
      ],
      "execution_count": 368,
      "outputs": [
        {
          "output_type": "stream",
          "text": [
            "time: 590 µs\n"
          ],
          "name": "stdout"
        }
      ]
    },
    {
      "cell_type": "code",
      "metadata": {
        "id": "HhFtUoQv3BoH",
        "colab_type": "code",
        "outputId": "d318c2f9-1040-4038-cd4c-d3efe416ff6a",
        "colab": {
          "base_uri": "https://localhost:8080/",
          "height": 36
        }
      },
      "source": [
        "X_train = (df.iloc[train_inds, 0:-2]).sample(frac=1)\n",
        "X_test = (df.iloc[test_inds,0:-2]).sample(frac=1)\n",
        "y_train = (df.iloc[train_inds,[-2,-1]]).sample(frac=1).values\n",
        "y_test = (df.iloc[test_inds,[-2,-1]]).sample(frac=1).values"
      ],
      "execution_count": 369,
      "outputs": [
        {
          "output_type": "stream",
          "text": [
            "time: 12.4 ms\n"
          ],
          "name": "stdout"
        }
      ]
    },
    {
      "cell_type": "code",
      "metadata": {
        "id": "eoJQ-2Jo10VP",
        "colab_type": "code",
        "outputId": "386dd240-51cf-4ca4-8256-565da94370c1",
        "colab": {
          "base_uri": "https://localhost:8080/",
          "height": 36
        }
      },
      "source": [
        "X_train.shape, X_test.shape, y_train.shape, y_test.shape"
      ],
      "execution_count": 370,
      "outputs": [
        {
          "output_type": "execute_result",
          "data": {
            "text/plain": [
              "((1440, 45), (370, 45), (1440, 2), (370, 2))"
            ]
          },
          "metadata": {
            "tags": []
          },
          "execution_count": 370
        },
        {
          "output_type": "stream",
          "text": [
            "time: 3.3 ms\n"
          ],
          "name": "stdout"
        }
      ]
    },
    {
      "cell_type": "code",
      "metadata": {
        "id": "tAjJ7sSEMowE",
        "colab_type": "code",
        "outputId": "6f4405bf-ffbb-4a7a-eed6-3ccb4ccb34fd",
        "colab": {
          "base_uri": "https://localhost:8080/",
          "height": 36
        }
      },
      "source": [
        "from sklearn.preprocessing import StandardScaler\n",
        "scaler = StandardScaler()"
      ],
      "execution_count": 371,
      "outputs": [
        {
          "output_type": "stream",
          "text": [
            "time: 1.2 ms\n"
          ],
          "name": "stdout"
        }
      ]
    },
    {
      "cell_type": "code",
      "metadata": {
        "id": "a6DUiZXyLoTG",
        "colab_type": "code",
        "outputId": "4fe66c59-4f62-44d9-e084-73fa466c2c0e",
        "colab": {
          "base_uri": "https://localhost:8080/",
          "height": 36
        }
      },
      "source": [
        "scaler.fit(X_train)\n",
        "X_train = scaler.transform(X_train)\n",
        "X_test = scaler.transform(X_test)"
      ],
      "execution_count": 372,
      "outputs": [
        {
          "output_type": "stream",
          "text": [
            "time: 8.03 ms\n"
          ],
          "name": "stdout"
        }
      ]
    },
    {
      "cell_type": "code",
      "metadata": {
        "id": "LY70ZtEXNxAM",
        "colab_type": "code",
        "outputId": "9a8f309d-31e2-4416-afb5-765b47fdc519",
        "colab": {
          "base_uri": "https://localhost:8080/",
          "height": 36
        }
      },
      "source": [
        "from sklearn.neighbors import KNeighborsClassifier\n",
        "from sklearn import metrics"
      ],
      "execution_count": 373,
      "outputs": [
        {
          "output_type": "stream",
          "text": [
            "time: 1.22 ms\n"
          ],
          "name": "stdout"
        }
      ]
    },
    {
      "cell_type": "markdown",
      "metadata": {
        "id": "V8M6lD3EtV9m",
        "colab_type": "text"
      },
      "source": [
        "# Building a KNN Model"
      ]
    },
    {
      "cell_type": "code",
      "metadata": {
        "id": "ZfChOFvpN4G_",
        "colab_type": "code",
        "outputId": "f58dd6a1-05fb-464b-e8d9-66b66a012f1d",
        "colab": {
          "base_uri": "https://localhost:8080/",
          "height": 36
        }
      },
      "source": [
        "def knn_classifier(X_train, X_test, y_train, k, y_test):\n",
        "    #print(y_train)\n",
        "    knn = KNeighborsClassifier(n_neighbors = k)\n",
        "    knn.fit(X_train,y_train)\n",
        "    y_pred = knn.predict(X_test)\n",
        "    #print(y_pred)\n",
        "    return [y_pred, metrics.accuracy_score(y_test,y_pred)]\n",
        "\n",
        "def get_k_accuracy(X_train, X_test, y_train, y_test): \n",
        "    #print(y_train, y_test)\n",
        "\n",
        "    def plot_scores(x,y):\n",
        "        fig, a = plt.subplots(1, figsize = (10, 8))\n",
        "        title = \"Accuracy Score by K values\"\n",
        "        plt.title(title)\n",
        "        plt.xlabel('Value of K for KNN')\n",
        "        plt.ylabel('Testing Accuracy')\n",
        "        a.plot(x, y)\n",
        "\n",
        "    k_range = range(1,15)\n",
        "    scores = {}\n",
        "    scores_list = []\n",
        "\n",
        "    for k in k_range:\n",
        "        y_pred, scores[k] = knn_classifier(X_train, X_test, y_train, k, y_test)\n",
        "        scores_list.append(scores[k])\n",
        "\n",
        "    plot_scores(list(k_range), scores_list)\n",
        "    print('Accuracy: ' + str(scores[max(scores, key= scores.get)]))\n",
        "    return max(scores, key= scores.get)\n",
        "\n"
      ],
      "execution_count": 374,
      "outputs": [
        {
          "output_type": "stream",
          "text": [
            "time: 18.3 ms\n"
          ],
          "name": "stdout"
        }
      ]
    },
    {
      "cell_type": "code",
      "metadata": {
        "id": "VBmcnv4aOCKQ",
        "colab_type": "code",
        "outputId": "1a36ed7a-55f0-443c-eff7-4d978729a82e",
        "colab": {
          "base_uri": "https://localhost:8080/",
          "height": 550
        }
      },
      "source": [
        "k = get_k_accuracy(X_train,X_test, y_train[:,0], y_test[:,0])\n",
        "knn = KNeighborsClassifier(n_neighbors=k)\n",
        "knn.fit(X_train,y_train[:,0])\n",
        "y_pred = knn.predict(X_test)"
      ],
      "execution_count": 375,
      "outputs": [
        {
          "output_type": "stream",
          "text": [
            "Accuracy: 0.5108108108108108\n"
          ],
          "name": "stdout"
        },
        {
          "output_type": "display_data",
          "data": {
            "image/png": "[encoded data removed]",
            "text/plain": [
              "<Figure size 720x576 with 1 Axes>"
            ]
          },
          "metadata": {
            "tags": [],
            "needs_background": "light"
          }
        },
        {
          "output_type": "stream",
          "text": [
            "time: 662 ms\n"
          ],
          "name": "stdout"
        }
      ]
    },
    {
      "cell_type": "code",
      "metadata": {
        "id": "_GVoJEB6EFLB",
        "colab_type": "code",
        "outputId": "4e9bed26-f043-4eb7-885d-bd786a9f10df",
        "colab": {
          "base_uri": "https://localhost:8080/",
          "height": 36
        }
      },
      "source": [
        "from collections import Counter"
      ],
      "execution_count": 376,
      "outputs": [
        {
          "output_type": "stream",
          "text": [
            "time: 1.15 ms\n"
          ],
          "name": "stdout"
        }
      ]
    },
    {
      "cell_type": "code",
      "metadata": {
        "id": "W1tqZGSI7n6e",
        "colab_type": "code",
        "outputId": "4561049e-584a-43f5-ff1f-ba82b1e08feb",
        "colab": {
          "base_uri": "https://localhost:8080/",
          "height": 111
        }
      },
      "source": [
        "np.unique(y_test, axis=0).shape, np.unique(y_test[:,1])"
      ],
      "execution_count": 377,
      "outputs": [
        {
          "output_type": "execute_result",
          "data": {
            "text/plain": [
              "((37, 2),\n",
              " array([ 10.,  16.,  17.,  19.,  20.,  25.,  30.,  31.,  43.,  46.,  52.,\n",
              "         56.,  57.,  61.,  67.,  69.,  70.,  79.,  94.,  97.,  98., 110.,\n",
              "        114., 118., 119., 121., 126., 127., 141., 143., 144., 146., 149.,\n",
              "        154., 160., 173., 174.]))"
            ]
          },
          "metadata": {
            "tags": []
          },
          "execution_count": 377
        },
        {
          "output_type": "stream",
          "text": [
            "time: 5.13 ms\n"
          ],
          "name": "stdout"
        }
      ]
    },
    {
      "cell_type": "markdown",
      "metadata": {
        "id": "jQAceUVb-qqG",
        "colab_type": "text"
      },
      "source": [
        "Contagem das predições para cada música"
      ]
    },
    {
      "cell_type": "code",
      "metadata": {
        "id": "WdcQ6XXtwyX7",
        "colab_type": "code",
        "colab": {
          "base_uri": "https://localhost:8080/",
          "height": 1000
        },
        "outputId": "3d67691f-3fea-45af-f442-916d676d2518"
      },
      "source": [
        "(y_test, y_pred)"
      ],
      "execution_count": 378,
      "outputs": [
        {
          "output_type": "execute_result",
          "data": {
            "text/plain": [
              "(array([[  0.,  56.],\n",
              "        [  0.,  43.],\n",
              "        [  1., 118.],\n",
              "        [  1., 144.],\n",
              "        [  1., 121.],\n",
              "        [  1., 121.],\n",
              "        [  0.,  25.],\n",
              "        [  0.,  57.],\n",
              "        [  1., 154.],\n",
              "        [  0.,  19.],\n",
              "        [  0.,  79.],\n",
              "        [  0.,  30.],\n",
              "        [  0.,  46.],\n",
              "        [  1., 126.],\n",
              "        [  1.,  98.],\n",
              "        [  1., 119.],\n",
              "        [  1., 173.],\n",
              "        [  0.,  31.],\n",
              "        [  1., 154.],\n",
              "        [  1., 174.],\n",
              "        [  0.,  67.],\n",
              "        [  0.,  17.],\n",
              "        [  1., 127.],\n",
              "        [  0.,  16.],\n",
              "        [  1., 154.],\n",
              "        [  0.,  52.],\n",
              "        [  0.,  79.],\n",
              "        [  0.,  56.],\n",
              "        [  0.,  56.],\n",
              "        [  0.,  61.],\n",
              "        [  0.,  16.],\n",
              "        [  1., 127.],\n",
              "        [  1., 154.],\n",
              "        [  1., 173.],\n",
              "        [  0.,  25.],\n",
              "        [  1., 114.],\n",
              "        [  1., 146.],\n",
              "        [  1., 160.],\n",
              "        [  0.,  43.],\n",
              "        [  0.,  10.],\n",
              "        [  1., 144.],\n",
              "        [  1., 118.],\n",
              "        [  1.,  97.],\n",
              "        [  0.,  17.],\n",
              "        [  1., 121.],\n",
              "        [  1., 119.],\n",
              "        [  0.,  56.],\n",
              "        [  1., 121.],\n",
              "        [  1., 144.],\n",
              "        [  0.,  67.],\n",
              "        [  1., 110.],\n",
              "        [  1.,  94.],\n",
              "        [  0.,  52.],\n",
              "        [  0.,  25.],\n",
              "        [  1., 126.],\n",
              "        [  1., 118.],\n",
              "        [  0.,  31.],\n",
              "        [  1.,  97.],\n",
              "        [  1.,  98.],\n",
              "        [  1., 121.],\n",
              "        [  0.,  69.],\n",
              "        [  1., 121.],\n",
              "        [  0.,  61.],\n",
              "        [  1.,  98.],\n",
              "        [  1., 154.],\n",
              "        [  0.,  56.],\n",
              "        [  0.,  19.],\n",
              "        [  0.,  69.],\n",
              "        [  0.,  61.],\n",
              "        [  1., 173.],\n",
              "        [  0.,  30.],\n",
              "        [  0.,  61.],\n",
              "        [  0.,  31.],\n",
              "        [  0.,  20.],\n",
              "        [  1., 174.],\n",
              "        [  1., 160.],\n",
              "        [  1., 114.],\n",
              "        [  1., 160.],\n",
              "        [  1., 141.],\n",
              "        [  0.,  31.],\n",
              "        [  1., 121.],\n",
              "        [  0.,  17.],\n",
              "        [  0.,  57.],\n",
              "        [  0.,  57.],\n",
              "        [  0.,  43.],\n",
              "        [  0.,  10.],\n",
              "        [  1., 143.],\n",
              "        [  0.,  67.],\n",
              "        [  0.,  52.],\n",
              "        [  0.,  43.],\n",
              "        [  1., 144.],\n",
              "        [  1., 160.],\n",
              "        [  0.,  46.],\n",
              "        [  0.,  17.],\n",
              "        [  1.,  98.],\n",
              "        [  0.,  19.],\n",
              "        [  1., 119.],\n",
              "        [  1., 146.],\n",
              "        [  1., 118.],\n",
              "        [  1., 118.],\n",
              "        [  1., 146.],\n",
              "        [  1., 149.],\n",
              "        [  0.,  79.],\n",
              "        [  0.,  46.],\n",
              "        [  1., 118.],\n",
              "        [  0.,  70.],\n",
              "        [  0.,  31.],\n",
              "        [  0.,  10.],\n",
              "        [  0.,  20.],\n",
              "        [  0.,  17.],\n",
              "        [  0.,  61.],\n",
              "        [  0.,  16.],\n",
              "        [  1., 141.],\n",
              "        [  1., 127.],\n",
              "        [  1., 149.],\n",
              "        [  1., 119.],\n",
              "        [  1., 141.],\n",
              "        [  1., 174.],\n",
              "        [  1., 141.],\n",
              "        [  1., 174.],\n",
              "        [  0.,  10.],\n",
              "        [  1., 110.],\n",
              "        [  0.,  17.],\n",
              "        [  1.,  98.],\n",
              "        [  0.,  79.],\n",
              "        [  0.,  10.],\n",
              "        [  0.,  52.],\n",
              "        [  1., 144.],\n",
              "        [  1., 173.],\n",
              "        [  1., 173.],\n",
              "        [  0.,  43.],\n",
              "        [  0.,  57.],\n",
              "        [  1., 141.],\n",
              "        [  1., 149.],\n",
              "        [  0.,  19.],\n",
              "        [  0.,  70.],\n",
              "        [  1., 149.],\n",
              "        [  1., 174.],\n",
              "        [  1., 119.],\n",
              "        [  1., 119.],\n",
              "        [  0.,  79.],\n",
              "        [  1., 126.],\n",
              "        [  0.,  31.],\n",
              "        [  0.,  69.],\n",
              "        [  0.,  30.],\n",
              "        [  1., 110.],\n",
              "        [  0.,  25.],\n",
              "        [  0.,  16.],\n",
              "        [  0.,  19.],\n",
              "        [  0.,  61.],\n",
              "        [  1., 114.],\n",
              "        [  0.,  17.],\n",
              "        [  0.,  10.],\n",
              "        [  0.,  79.],\n",
              "        [  1., 119.],\n",
              "        [  1., 149.],\n",
              "        [  1., 174.],\n",
              "        [  1., 110.],\n",
              "        [  1.,  94.],\n",
              "        [  1., 143.],\n",
              "        [  0.,  52.],\n",
              "        [  1., 154.],\n",
              "        [  1., 141.],\n",
              "        [  0.,  70.],\n",
              "        [  1.,  94.],\n",
              "        [  1., 146.],\n",
              "        [  0.,  17.],\n",
              "        [  0.,  57.],\n",
              "        [  1., 127.],\n",
              "        [  0.,  69.],\n",
              "        [  1., 144.],\n",
              "        [  1.,  98.],\n",
              "        [  1., 114.],\n",
              "        [  0.,  70.],\n",
              "        [  0.,  46.],\n",
              "        [  1., 119.],\n",
              "        [  1.,  98.],\n",
              "        [  0.,  25.],\n",
              "        [  1., 154.],\n",
              "        [  1., 143.],\n",
              "        [  1., 173.],\n",
              "        [  1., 143.],\n",
              "        [  1., 114.],\n",
              "        [  0.,  20.],\n",
              "        [  0.,  61.],\n",
              "        [  1., 144.],\n",
              "        [  0.,  69.],\n",
              "        [  1.,  94.],\n",
              "        [  0.,  31.],\n",
              "        [  1., 118.],\n",
              "        [  1., 174.],\n",
              "        [  0.,  20.],\n",
              "        [  0.,  79.],\n",
              "        [  1., 110.],\n",
              "        [  0.,  56.],\n",
              "        [  1., 121.],\n",
              "        [  1., 126.],\n",
              "        [  0.,  70.],\n",
              "        [  0.,  20.],\n",
              "        [  1., 121.],\n",
              "        [  0.,  56.],\n",
              "        [  0.,  10.],\n",
              "        [  1., 141.],\n",
              "        [  0.,  69.],\n",
              "        [  0.,  67.],\n",
              "        [  1., 143.],\n",
              "        [  0.,  16.],\n",
              "        [  0.,  67.],\n",
              "        [  1.,  97.],\n",
              "        [  0.,  69.],\n",
              "        [  1., 126.],\n",
              "        [  0.,  46.],\n",
              "        [  1.,  97.],\n",
              "        [  1.,  97.],\n",
              "        [  1., 146.],\n",
              "        [  1., 149.],\n",
              "        [  0.,  19.],\n",
              "        [  1., 144.],\n",
              "        [  1., 118.],\n",
              "        [  0.,  43.],\n",
              "        [  0.,  46.],\n",
              "        [  1., 173.],\n",
              "        [  0.,  67.],\n",
              "        [  0.,  25.],\n",
              "        [  0.,  31.],\n",
              "        [  1., 160.],\n",
              "        [  0.,  10.],\n",
              "        [  0.,  52.],\n",
              "        [  1., 126.],\n",
              "        [  0.,  19.],\n",
              "        [  0.,  43.],\n",
              "        [  1.,  94.],\n",
              "        [  1., 121.],\n",
              "        [  0.,  20.],\n",
              "        [  1.,  94.],\n",
              "        [  1., 144.],\n",
              "        [  0.,  16.],\n",
              "        [  1., 160.],\n",
              "        [  1., 110.],\n",
              "        [  1., 110.],\n",
              "        [  0.,  52.],\n",
              "        [  1., 146.],\n",
              "        [  0.,  61.],\n",
              "        [  0.,  69.],\n",
              "        [  1., 118.],\n",
              "        [  0.,  25.],\n",
              "        [  0.,  19.],\n",
              "        [  1., 160.],\n",
              "        [  1., 146.],\n",
              "        [  0.,  30.],\n",
              "        [  1., 146.],\n",
              "        [  0.,  30.],\n",
              "        [  0.,  43.],\n",
              "        [  0.,  79.],\n",
              "        [  0.,  20.],\n",
              "        [  0.,  30.],\n",
              "        [  0.,  43.],\n",
              "        [  1., 149.],\n",
              "        [  1., 127.],\n",
              "        [  1., 149.],\n",
              "        [  0.,  79.],\n",
              "        [  1., 126.],\n",
              "        [  0.,  70.],\n",
              "        [  1.,  94.],\n",
              "        [  0.,  25.],\n",
              "        [  0.,  67.],\n",
              "        [  0.,  16.],\n",
              "        [  0.,  57.],\n",
              "        [  1., 118.],\n",
              "        [  0.,  70.],\n",
              "        [  0.,  30.],\n",
              "        [  1., 143.],\n",
              "        [  1.,  97.],\n",
              "        [  1., 110.],\n",
              "        [  1., 173.],\n",
              "        [  1., 127.],\n",
              "        [  1.,  97.],\n",
              "        [  0.,  43.],\n",
              "        [  0.,  46.],\n",
              "        [  0.,  31.],\n",
              "        [  1., 126.],\n",
              "        [  1., 141.],\n",
              "        [  0.,  69.],\n",
              "        [  0.,  31.],\n",
              "        [  0.,  57.],\n",
              "        [  0.,  57.],\n",
              "        [  1.,  94.],\n",
              "        [  0.,  16.],\n",
              "        [  0.,  20.],\n",
              "        [  1.,  98.],\n",
              "        [  1., 154.],\n",
              "        [  1., 127.],\n",
              "        [  0.,  56.],\n",
              "        [  1., 126.],\n",
              "        [  0.,  16.],\n",
              "        [  0.,  52.],\n",
              "        [  1.,  94.],\n",
              "        [  1., 114.],\n",
              "        [  0.,  30.],\n",
              "        [  1., 173.],\n",
              "        [  0.,  69.],\n",
              "        [  1., 114.],\n",
              "        [  0.,  56.],\n",
              "        [  0.,  17.],\n",
              "        [  1., 127.],\n",
              "        [  1.,  98.],\n",
              "        [  0.,  57.],\n",
              "        [  0.,  79.],\n",
              "        [  0.,  56.],\n",
              "        [  0.,  67.],\n",
              "        [  0.,  20.],\n",
              "        [  0.,  10.],\n",
              "        [  0.,  19.],\n",
              "        [  1., 119.],\n",
              "        [  1., 174.],\n",
              "        [  1., 110.],\n",
              "        [  0.,  30.],\n",
              "        [  1.,  97.],\n",
              "        [  1., 126.],\n",
              "        [  1., 154.],\n",
              "        [  0.,  70.],\n",
              "        [  1., 149.],\n",
              "        [  0.,  16.],\n",
              "        [  1., 160.],\n",
              "        [  0.,  30.],\n",
              "        [  0.,  25.],\n",
              "        [  1., 144.],\n",
              "        [  1.,  94.],\n",
              "        [  0.,  25.],\n",
              "        [  1., 174.],\n",
              "        [  1., 143.],\n",
              "        [  0.,  67.],\n",
              "        [  1.,  98.],\n",
              "        [  1., 127.],\n",
              "        [  0.,  19.],\n",
              "        [  0.,  61.],\n",
              "        [  1., 173.],\n",
              "        [  1., 114.],\n",
              "        [  1., 119.],\n",
              "        [  0.,  70.],\n",
              "        [  1., 143.],\n",
              "        [  0.,  52.],\n",
              "        [  1., 160.],\n",
              "        [  1., 174.],\n",
              "        [  1., 160.],\n",
              "        [  1., 154.],\n",
              "        [  1.,  97.],\n",
              "        [  0.,  52.],\n",
              "        [  0.,  10.],\n",
              "        [  1., 110.],\n",
              "        [  1., 143.],\n",
              "        [  0.,  20.],\n",
              "        [  0.,  70.],\n",
              "        [  1., 114.],\n",
              "        [  1., 127.],\n",
              "        [  1., 141.],\n",
              "        [  1., 146.],\n",
              "        [  1., 141.],\n",
              "        [  1., 114.],\n",
              "        [  1., 143.],\n",
              "        [  1., 149.],\n",
              "        [  0.,  46.],\n",
              "        [  0.,  17.],\n",
              "        [  1.,  97.],\n",
              "        [  0.,  61.],\n",
              "        [  0.,  67.],\n",
              "        [  0.,  57.],\n",
              "        [  0.,  46.],\n",
              "        [  1., 146.],\n",
              "        [  0.,  46.]]),\n",
              " array([0., 0., 0., 0., 0., 0., 0., 0., 1., 0., 0., 0., 0., 1., 0., 0., 0.,\n",
              "        0., 1., 1., 1., 1., 0., 0., 1., 0., 0., 1., 0., 1., 0., 0., 1., 0.,\n",
              "        0., 0., 0., 1., 0., 0., 0., 0., 0., 0., 0., 0., 1., 1., 0., 1., 0.,\n",
              "        0., 0., 0., 0., 1., 1., 0., 0., 0., 0., 0., 0., 1., 1., 0., 0., 0.,\n",
              "        0., 0., 0., 1., 1., 0., 1., 1., 0., 0., 1., 0., 0., 0., 0., 0., 0.,\n",
              "        0., 0., 0., 0., 0., 1., 1., 0., 0., 1., 0., 0., 0., 0., 0., 1., 0.,\n",
              "        1., 0., 1., 0., 1., 1., 0., 0., 0., 0., 0., 0., 0., 0., 0., 1., 0.,\n",
              "        0., 0., 1., 0., 0., 0., 1., 1., 0., 0., 1., 1., 0., 0., 0., 0., 0.,\n",
              "        0., 0., 1., 0., 1., 1., 0., 0., 0., 0., 0., 0., 0., 0., 0., 0., 0.,\n",
              "        0., 0., 0., 0., 1., 0., 1., 0., 0., 0., 0., 0., 0., 0., 0., 0., 0.,\n",
              "        0., 0., 0., 1., 0., 1., 0., 0., 1., 0., 0., 0., 0., 0., 1., 0., 0.,\n",
              "        1., 0., 1., 0., 0., 1., 0., 0., 0., 1., 0., 0., 0., 0., 0., 1., 0.,\n",
              "        1., 0., 0., 0., 1., 1., 0., 0., 0., 0., 0., 0., 0., 0., 0., 1., 0.,\n",
              "        0., 1., 1., 1., 0., 0., 0., 1., 0., 0., 0., 1., 0., 0., 0., 0., 0.,\n",
              "        1., 0., 1., 0., 1., 0., 1., 0., 0., 0., 1., 1., 0., 0., 0., 1., 1.,\n",
              "        0., 1., 0., 0., 1., 0., 0., 1., 1., 0., 0., 0., 1., 0., 1., 0., 0.,\n",
              "        0., 0., 0., 0., 1., 0., 1., 1., 0., 0., 0., 0., 0., 0., 1., 1., 0.,\n",
              "        1., 0., 1., 0., 1., 0., 1., 0., 0., 1., 0., 0., 0., 0., 0., 0., 0.,\n",
              "        0., 0., 1., 0., 0., 0., 0., 0., 0., 0., 0., 0., 0., 0., 0., 1., 0.,\n",
              "        1., 1., 1., 1., 1., 0., 1., 0., 1., 0., 0., 0., 0., 0., 0., 1., 1.,\n",
              "        0., 1., 0., 0., 0., 1., 1., 0., 0., 0., 0., 0., 0., 0., 0., 1., 0.,\n",
              "        0., 0., 1., 0., 0., 0., 1., 0., 0., 0., 1., 0., 1.]))"
            ]
          },
          "metadata": {
            "tags": []
          },
          "execution_count": 378
        },
        {
          "output_type": "stream",
          "text": [
            "time: 21.5 ms\n"
          ],
          "name": "stdout"
        }
      ]
    },
    {
      "cell_type": "code",
      "metadata": {
        "id": "cY0LI6g15kpW",
        "colab_type": "code",
        "outputId": "ae90f674-3f10-42da-fd6f-92c5ed1b0452",
        "colab": {
          "base_uri": "https://localhost:8080/",
          "height": 748
        }
      },
      "source": [
        "counts = dict()\n",
        "for id in np.unique(y_test[:,1]):\n",
        "    counts[id] = []\n",
        "print(counts)\n",
        "for t, p in zip(y_test, y_pred):\n",
        "    counts[t[1]].append(p)\n",
        "\n",
        "counter = [Counter(y) for x,y in counts.items()]\n",
        "counter"
      ],
      "execution_count": 379,
      "outputs": [
        {
          "output_type": "stream",
          "text": [
            "{10.0: [], 16.0: [], 17.0: [], 19.0: [], 20.0: [], 25.0: [], 30.0: [], 31.0: [], 43.0: [], 46.0: [], 52.0: [], 56.0: [], 57.0: [], 61.0: [], 67.0: [], 69.0: [], 70.0: [], 79.0: [], 94.0: [], 97.0: [], 98.0: [], 110.0: [], 114.0: [], 118.0: [], 119.0: [], 121.0: [], 126.0: [], 127.0: [], 141.0: [], 143.0: [], 144.0: [], 146.0: [], 149.0: [], 154.0: [], 160.0: [], 173.0: [], 174.0: []}\n"
          ],
          "name": "stdout"
        },
        {
          "output_type": "execute_result",
          "data": {
            "text/plain": [
              "[Counter({0.0: 8, 1.0: 2}),\n",
              " Counter({0.0: 9, 1.0: 1}),\n",
              " Counter({0.0: 9, 1.0: 1}),\n",
              " Counter({0.0: 10}),\n",
              " Counter({0.0: 9, 1.0: 1}),\n",
              " Counter({0.0: 8, 1.0: 2}),\n",
              " Counter({0.0: 7, 1.0: 3}),\n",
              " Counter({0.0: 5, 1.0: 5}),\n",
              " Counter({0.0: 7, 1.0: 3}),\n",
              " Counter({0.0: 7, 1.0: 3}),\n",
              " Counter({0.0: 6, 1.0: 4}),\n",
              " Counter({0.0: 7, 1.0: 3}),\n",
              " Counter({0.0: 9, 1.0: 1}),\n",
              " Counter({0.0: 6, 1.0: 4}),\n",
              " Counter({0.0: 5, 1.0: 5}),\n",
              " Counter({0.0: 9, 1.0: 1}),\n",
              " Counter({0.0: 6, 1.0: 4}),\n",
              " Counter({0.0: 6, 1.0: 4}),\n",
              " Counter({0.0: 6, 1.0: 4}),\n",
              " Counter({0.0: 6, 1.0: 4}),\n",
              " Counter({0.0: 7, 1.0: 3}),\n",
              " Counter({0.0: 7, 1.0: 3}),\n",
              " Counter({0.0: 10}),\n",
              " Counter({0.0: 6, 1.0: 4}),\n",
              " Counter({0.0: 7, 1.0: 3}),\n",
              " Counter({0.0: 8, 1.0: 2}),\n",
              " Counter({0.0: 5, 1.0: 5}),\n",
              " Counter({0.0: 9, 1.0: 1}),\n",
              " Counter({0.0: 7, 1.0: 3}),\n",
              " Counter({0.0: 8, 1.0: 2}),\n",
              " Counter({0.0: 8, 1.0: 2}),\n",
              " Counter({0.0: 8, 1.0: 2}),\n",
              " Counter({0.0: 8, 1.0: 2}),\n",
              " Counter({0.0: 3, 1.0: 7}),\n",
              " Counter({0.0: 6, 1.0: 4}),\n",
              " Counter({0.0: 9, 1.0: 1}),\n",
              " Counter({0.0: 6, 1.0: 4})]"
            ]
          },
          "metadata": {
            "tags": []
          },
          "execution_count": 379
        },
        {
          "output_type": "stream",
          "text": [
            "time: 12.3 ms\n"
          ],
          "name": "stdout"
        }
      ]
    },
    {
      "cell_type": "markdown",
      "metadata": {
        "id": "QXsdQcdW-xn6",
        "colab_type": "text"
      },
      "source": [
        "Votação das predições"
      ]
    },
    {
      "cell_type": "code",
      "metadata": {
        "id": "FMJK3DPdzu88",
        "colab_type": "code",
        "outputId": "53792d07-0c19-4ea1-c6a9-e8dd570927b8",
        "colab": {
          "base_uri": "https://localhost:8080/",
          "height": 709
        }
      },
      "source": [
        "music_y_pred = [max(x, key=x.get) for x in counter]\n",
        "len(music_y_pred)\n",
        "music_y_pred"
      ],
      "execution_count": 380,
      "outputs": [
        {
          "output_type": "execute_result",
          "data": {
            "text/plain": [
              "[0.0,\n",
              " 0.0,\n",
              " 0.0,\n",
              " 0.0,\n",
              " 0.0,\n",
              " 0.0,\n",
              " 0.0,\n",
              " 0.0,\n",
              " 0.0,\n",
              " 0.0,\n",
              " 0.0,\n",
              " 0.0,\n",
              " 0.0,\n",
              " 0.0,\n",
              " 1.0,\n",
              " 0.0,\n",
              " 0.0,\n",
              " 0.0,\n",
              " 0.0,\n",
              " 0.0,\n",
              " 0.0,\n",
              " 0.0,\n",
              " 0.0,\n",
              " 0.0,\n",
              " 0.0,\n",
              " 0.0,\n",
              " 1.0,\n",
              " 0.0,\n",
              " 0.0,\n",
              " 0.0,\n",
              " 0.0,\n",
              " 0.0,\n",
              " 0.0,\n",
              " 1.0,\n",
              " 0.0,\n",
              " 0.0,\n",
              " 0.0]"
            ]
          },
          "metadata": {
            "tags": []
          },
          "execution_count": 380
        },
        {
          "output_type": "stream",
          "text": [
            "time: 4.47 ms\n"
          ],
          "name": "stdout"
        }
      ]
    },
    {
      "cell_type": "code",
      "metadata": {
        "id": "xMn2NOp9psKO",
        "colab_type": "code",
        "outputId": "781db277-d594-46c3-d58b-95534fb7b97d",
        "colab": {
          "base_uri": "https://localhost:8080/",
          "height": 73
        }
      },
      "source": [
        "music_y_test = np.unique(y_test, axis=0)[:,0]\n",
        "len(music_y_test)\n",
        "music_y_test"
      ],
      "execution_count": 381,
      "outputs": [
        {
          "output_type": "execute_result",
          "data": {
            "text/plain": [
              "array([0., 0., 0., 0., 0., 0., 0., 0., 0., 0., 0., 0., 0., 0., 0., 0., 0.,\n",
              "       0., 1., 1., 1., 1., 1., 1., 1., 1., 1., 1., 1., 1., 1., 1., 1., 1.,\n",
              "       1., 1., 1.])"
            ]
          },
          "metadata": {
            "tags": []
          },
          "execution_count": 381
        },
        {
          "output_type": "stream",
          "text": [
            "time: 5.96 ms\n"
          ],
          "name": "stdout"
        }
      ]
    },
    {
      "cell_type": "code",
      "metadata": {
        "id": "B2PVmca06p_o",
        "colab_type": "code",
        "outputId": "e95452ed-17db-4b6c-9318-84882c40b163",
        "colab": {
          "base_uri": "https://localhost:8080/",
          "height": 36
        }
      },
      "source": [
        "metrics.accuracy_score(music_y_test,music_y_pred)"
      ],
      "execution_count": 382,
      "outputs": [
        {
          "output_type": "execute_result",
          "data": {
            "text/plain": [
              "0.5135135135135135"
            ]
          },
          "metadata": {
            "tags": []
          },
          "execution_count": 382
        },
        {
          "output_type": "stream",
          "text": [
            "time: 5.16 ms\n"
          ],
          "name": "stdout"
        }
      ]
    },
    {
      "cell_type": "code",
      "metadata": {
        "id": "h1JGSISJOGJC",
        "colab_type": "code",
        "outputId": "ca5c251d-c802-4876-e3a5-d8dfeec04de0",
        "colab": {
          "base_uri": "https://localhost:8080/",
          "height": 225
        }
      },
      "source": [
        "from sklearn.decomposition import PCA\n",
        "import seaborn as sns\n",
        "\n",
        "pca1 = PCA(2)\n",
        "trans_pca1 = pca1.fit_transform(X_test)\n",
        "trans_pca1 = pd.DataFrame(trans_pca1)\n",
        "trans_pca1['Labels'] = y_test[:,0]\n",
        "trans_pca1.columns = ['PC1', 'PC2','Labels']\n",
        "trans_pca1.head()"
      ],
      "execution_count": 383,
      "outputs": [
        {
          "output_type": "execute_result",
          "data": {
            "text/html": [
              "<div>\n",
              "<style scoped>\n",
              "    .dataframe tbody tr th:only-of-type {\n",
              "        vertical-align: middle;\n",
              "    }\n",
              "\n",
              "    .dataframe tbody tr th {\n",
              "        vertical-align: top;\n",
              "    }\n",
              "\n",
              "    .dataframe thead th {\n",
              "        text-align: right;\n",
              "    }\n",
              "</style>\n",
              "<table border=\"1\" class=\"dataframe\">\n",
              "  <thead>\n",
              "    <tr style=\"text-align: right;\">\n",
              "      <th></th>\n",
              "      <th>PC1</th>\n",
              "      <th>PC2</th>\n",
              "      <th>Labels</th>\n",
              "    </tr>\n",
              "  </thead>\n",
              "  <tbody>\n",
              "    <tr>\n",
              "      <th>0</th>\n",
              "      <td>-2.273719</td>\n",
              "      <td>-0.240236</td>\n",
              "      <td>0.0</td>\n",
              "    </tr>\n",
              "    <tr>\n",
              "      <th>1</th>\n",
              "      <td>-2.421629</td>\n",
              "      <td>-0.522878</td>\n",
              "      <td>0.0</td>\n",
              "    </tr>\n",
              "    <tr>\n",
              "      <th>2</th>\n",
              "      <td>1.613404</td>\n",
              "      <td>1.730046</td>\n",
              "      <td>1.0</td>\n",
              "    </tr>\n",
              "    <tr>\n",
              "      <th>3</th>\n",
              "      <td>-2.699898</td>\n",
              "      <td>2.390708</td>\n",
              "      <td>1.0</td>\n",
              "    </tr>\n",
              "    <tr>\n",
              "      <th>4</th>\n",
              "      <td>6.784968</td>\n",
              "      <td>0.883557</td>\n",
              "      <td>1.0</td>\n",
              "    </tr>\n",
              "  </tbody>\n",
              "</table>\n",
              "</div>"
            ],
            "text/plain": [
              "        PC1       PC2  Labels\n",
              "0 -2.273719 -0.240236     0.0\n",
              "1 -2.421629 -0.522878     0.0\n",
              "2  1.613404  1.730046     1.0\n",
              "3 -2.699898  2.390708     1.0\n",
              "4  6.784968  0.883557     1.0"
            ]
          },
          "metadata": {
            "tags": []
          },
          "execution_count": 383
        },
        {
          "output_type": "stream",
          "text": [
            "time: 58 ms\n"
          ],
          "name": "stdout"
        }
      ]
    },
    {
      "cell_type": "code",
      "metadata": {
        "id": "majqyaav44Si",
        "colab_type": "code",
        "outputId": "9ac7b166-9165-4879-a7ba-e7b653795e9c",
        "colab": {
          "base_uri": "https://localhost:8080/",
          "height": 425
        }
      },
      "source": [
        "plt.figure(figsize=(10,6))\n",
        "sns.scatterplot(x=trans_pca1['PC1'], y=trans_pca1['PC2'], hue=trans_pca1['Labels'])"
      ],
      "execution_count": 384,
      "outputs": [
        {
          "output_type": "execute_result",
          "data": {
            "text/plain": [
              "<matplotlib.axes._subplots.AxesSubplot at 0x7f1addfe6630>"
            ]
          },
          "metadata": {
            "tags": []
          },
          "execution_count": 384
        },
        {
          "output_type": "display_data",
          "data": {
            "image/png": "[encoded data removed]",
            "text/plain": [
              "<Figure size 720x432 with 1 Axes>"
            ]
          },
          "metadata": {
            "tags": [],
            "needs_background": "light"
          }
        },
        {
          "output_type": "stream",
          "text": [
            "time: 277 ms\n"
          ],
          "name": "stdout"
        }
      ]
    },
    {
      "cell_type": "code",
      "metadata": {
        "id": "pc5HyLLSwEl-",
        "colab_type": "code",
        "colab": {}
      },
      "source": [
        ""
      ],
      "execution_count": 0,
      "outputs": []
    }
  ]
}